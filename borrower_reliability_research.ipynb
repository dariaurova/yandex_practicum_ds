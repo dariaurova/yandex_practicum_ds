{
 "cells": [
  {
   "cell_type": "markdown",
   "id": "1947ee83",
   "metadata": {
    "deletable": false,
    "editable": false,
    "id": "c81daeeb"
   },
   "source": [
    "# Исследование надежности заемщиков\n"
   ]
  },
  {
   "cell_type": "markdown",
   "id": "00350567",
   "metadata": {
    "deletable": false,
    "editable": false,
    "id": "827c20bf"
   },
   "source": [
    "Во второй части проекта вы выполните шаги 3 и 4. Их вручную проверит ревьюер.\n",
    "Чтобы вам не пришлось писать код заново для шагов 1 и 2, мы добавили авторские решения в ячейки с кодом. \n",
    "\n"
   ]
  },
  {
   "cell_type": "markdown",
   "id": "ab64d81e",
   "metadata": {},
   "source": [
    "# Задачи проекта\n",
    "На основе статистики о платёжеспособности клиентов исследовать влияет ли семейное положение и количество детей клиента на факт возврата кредита в срок\n",
    "# Описание проекта\n",
    "На основе данных кредитного отдела банка исследовал влияние семейного положения и количества детей на факт погашения кредита в срок. Была получена информация о данных. Определены и обработаны пропуски. Заменены типы данных на соответствующие хранящимся данным. Удалены дубликаты. Категоризованы данные. Один датафрейм декомпозирован на три."
   ]
  },
  {
   "cell_type": "markdown",
   "id": "5c577644",
   "metadata": {
    "deletable": false,
    "editable": false,
    "id": "744d7639"
   },
   "source": [
    "## Откройте таблицу и изучите общую информацию о данных"
   ]
  },
  {
   "cell_type": "markdown",
   "id": "ece89256",
   "metadata": {
    "deletable": false,
    "editable": false,
    "id": "e7a14c31"
   },
   "source": [
    "**Задание 1. Импортируйте библиотеку pandas. Считайте данные из csv-файла в датафрейм и сохраните в переменную `data`. Путь к файлу:**\n",
    "\n",
    "`/datasets/data.csv`"
   ]
  },
  {
   "cell_type": "code",
   "execution_count": 3,
   "id": "2c50a822",
   "metadata": {
    "deletable": false,
    "id": "7bcf75c9"
   },
   "outputs": [],
   "source": [
    "import pandas as pd\n",
    "\n",
    "try:\n",
    "    data = pd.read_csv('/datasets/data.csv')\n",
    "except:\n",
    "    data = pd.read_csv('https://code.s3.yandex.net/datasets/data.csv')"
   ]
  },
  {
   "cell_type": "markdown",
   "id": "18f41f86",
   "metadata": {
    "deletable": false,
    "editable": false,
    "id": "b8038fe3"
   },
   "source": [
    "**Задание 2. Выведите первые 20 строчек датафрейма `data` на экран.**"
   ]
  },
  {
   "cell_type": "code",
   "execution_count": 184,
   "id": "5b25e4b8",
   "metadata": {
    "deletable": false,
    "id": "2a7cab99",
    "outputId": "1a8f3ef2-d323-4ec2-ddf7-89670b5944c4"
   },
   "outputs": [
    {
     "data": {
      "text/html": [
       "<div>\n",
       "<style scoped>\n",
       "    .dataframe tbody tr th:only-of-type {\n",
       "        vertical-align: middle;\n",
       "    }\n",
       "\n",
       "    .dataframe tbody tr th {\n",
       "        vertical-align: top;\n",
       "    }\n",
       "\n",
       "    .dataframe thead th {\n",
       "        text-align: right;\n",
       "    }\n",
       "</style>\n",
       "<table border=\"1\" class=\"dataframe\">\n",
       "  <thead>\n",
       "    <tr style=\"text-align: right;\">\n",
       "      <th></th>\n",
       "      <th>children</th>\n",
       "      <th>days_employed</th>\n",
       "      <th>dob_years</th>\n",
       "      <th>education</th>\n",
       "      <th>education_id</th>\n",
       "      <th>family_status</th>\n",
       "      <th>family_status_id</th>\n",
       "      <th>gender</th>\n",
       "      <th>income_type</th>\n",
       "      <th>debt</th>\n",
       "      <th>total_income</th>\n",
       "      <th>purpose</th>\n",
       "    </tr>\n",
       "  </thead>\n",
       "  <tbody>\n",
       "    <tr>\n",
       "      <th>0</th>\n",
       "      <td>1</td>\n",
       "      <td>-8437.673028</td>\n",
       "      <td>42</td>\n",
       "      <td>высшее</td>\n",
       "      <td>0</td>\n",
       "      <td>женат / замужем</td>\n",
       "      <td>0</td>\n",
       "      <td>F</td>\n",
       "      <td>сотрудник</td>\n",
       "      <td>0</td>\n",
       "      <td>253875.639453</td>\n",
       "      <td>покупка жилья</td>\n",
       "    </tr>\n",
       "    <tr>\n",
       "      <th>1</th>\n",
       "      <td>1</td>\n",
       "      <td>-4024.803754</td>\n",
       "      <td>36</td>\n",
       "      <td>среднее</td>\n",
       "      <td>1</td>\n",
       "      <td>женат / замужем</td>\n",
       "      <td>0</td>\n",
       "      <td>F</td>\n",
       "      <td>сотрудник</td>\n",
       "      <td>0</td>\n",
       "      <td>112080.014102</td>\n",
       "      <td>приобретение автомобиля</td>\n",
       "    </tr>\n",
       "    <tr>\n",
       "      <th>2</th>\n",
       "      <td>0</td>\n",
       "      <td>-5623.422610</td>\n",
       "      <td>33</td>\n",
       "      <td>Среднее</td>\n",
       "      <td>1</td>\n",
       "      <td>женат / замужем</td>\n",
       "      <td>0</td>\n",
       "      <td>M</td>\n",
       "      <td>сотрудник</td>\n",
       "      <td>0</td>\n",
       "      <td>145885.952297</td>\n",
       "      <td>покупка жилья</td>\n",
       "    </tr>\n",
       "    <tr>\n",
       "      <th>3</th>\n",
       "      <td>3</td>\n",
       "      <td>-4124.747207</td>\n",
       "      <td>32</td>\n",
       "      <td>среднее</td>\n",
       "      <td>1</td>\n",
       "      <td>женат / замужем</td>\n",
       "      <td>0</td>\n",
       "      <td>M</td>\n",
       "      <td>сотрудник</td>\n",
       "      <td>0</td>\n",
       "      <td>267628.550329</td>\n",
       "      <td>дополнительное образование</td>\n",
       "    </tr>\n",
       "    <tr>\n",
       "      <th>4</th>\n",
       "      <td>0</td>\n",
       "      <td>340266.072047</td>\n",
       "      <td>53</td>\n",
       "      <td>среднее</td>\n",
       "      <td>1</td>\n",
       "      <td>гражданский брак</td>\n",
       "      <td>1</td>\n",
       "      <td>F</td>\n",
       "      <td>пенсионер</td>\n",
       "      <td>0</td>\n",
       "      <td>158616.077870</td>\n",
       "      <td>сыграть свадьбу</td>\n",
       "    </tr>\n",
       "    <tr>\n",
       "      <th>5</th>\n",
       "      <td>0</td>\n",
       "      <td>-926.185831</td>\n",
       "      <td>27</td>\n",
       "      <td>высшее</td>\n",
       "      <td>0</td>\n",
       "      <td>гражданский брак</td>\n",
       "      <td>1</td>\n",
       "      <td>M</td>\n",
       "      <td>компаньон</td>\n",
       "      <td>0</td>\n",
       "      <td>255763.565419</td>\n",
       "      <td>покупка жилья</td>\n",
       "    </tr>\n",
       "    <tr>\n",
       "      <th>6</th>\n",
       "      <td>0</td>\n",
       "      <td>-2879.202052</td>\n",
       "      <td>43</td>\n",
       "      <td>высшее</td>\n",
       "      <td>0</td>\n",
       "      <td>женат / замужем</td>\n",
       "      <td>0</td>\n",
       "      <td>F</td>\n",
       "      <td>компаньон</td>\n",
       "      <td>0</td>\n",
       "      <td>240525.971920</td>\n",
       "      <td>операции с жильем</td>\n",
       "    </tr>\n",
       "    <tr>\n",
       "      <th>7</th>\n",
       "      <td>0</td>\n",
       "      <td>-152.779569</td>\n",
       "      <td>50</td>\n",
       "      <td>СРЕДНЕЕ</td>\n",
       "      <td>1</td>\n",
       "      <td>женат / замужем</td>\n",
       "      <td>0</td>\n",
       "      <td>M</td>\n",
       "      <td>сотрудник</td>\n",
       "      <td>0</td>\n",
       "      <td>135823.934197</td>\n",
       "      <td>образование</td>\n",
       "    </tr>\n",
       "    <tr>\n",
       "      <th>8</th>\n",
       "      <td>2</td>\n",
       "      <td>-6929.865299</td>\n",
       "      <td>35</td>\n",
       "      <td>ВЫСШЕЕ</td>\n",
       "      <td>0</td>\n",
       "      <td>гражданский брак</td>\n",
       "      <td>1</td>\n",
       "      <td>F</td>\n",
       "      <td>сотрудник</td>\n",
       "      <td>0</td>\n",
       "      <td>95856.832424</td>\n",
       "      <td>на проведение свадьбы</td>\n",
       "    </tr>\n",
       "    <tr>\n",
       "      <th>9</th>\n",
       "      <td>0</td>\n",
       "      <td>-2188.756445</td>\n",
       "      <td>41</td>\n",
       "      <td>среднее</td>\n",
       "      <td>1</td>\n",
       "      <td>женат / замужем</td>\n",
       "      <td>0</td>\n",
       "      <td>M</td>\n",
       "      <td>сотрудник</td>\n",
       "      <td>0</td>\n",
       "      <td>144425.938277</td>\n",
       "      <td>покупка жилья для семьи</td>\n",
       "    </tr>\n",
       "    <tr>\n",
       "      <th>10</th>\n",
       "      <td>2</td>\n",
       "      <td>-4171.483647</td>\n",
       "      <td>36</td>\n",
       "      <td>высшее</td>\n",
       "      <td>0</td>\n",
       "      <td>женат / замужем</td>\n",
       "      <td>0</td>\n",
       "      <td>M</td>\n",
       "      <td>компаньон</td>\n",
       "      <td>0</td>\n",
       "      <td>113943.491460</td>\n",
       "      <td>покупка недвижимости</td>\n",
       "    </tr>\n",
       "    <tr>\n",
       "      <th>11</th>\n",
       "      <td>0</td>\n",
       "      <td>-792.701887</td>\n",
       "      <td>40</td>\n",
       "      <td>среднее</td>\n",
       "      <td>1</td>\n",
       "      <td>женат / замужем</td>\n",
       "      <td>0</td>\n",
       "      <td>F</td>\n",
       "      <td>сотрудник</td>\n",
       "      <td>0</td>\n",
       "      <td>77069.234271</td>\n",
       "      <td>покупка коммерческой недвижимости</td>\n",
       "    </tr>\n",
       "    <tr>\n",
       "      <th>12</th>\n",
       "      <td>0</td>\n",
       "      <td>NaN</td>\n",
       "      <td>65</td>\n",
       "      <td>среднее</td>\n",
       "      <td>1</td>\n",
       "      <td>гражданский брак</td>\n",
       "      <td>1</td>\n",
       "      <td>M</td>\n",
       "      <td>пенсионер</td>\n",
       "      <td>0</td>\n",
       "      <td>NaN</td>\n",
       "      <td>сыграть свадьбу</td>\n",
       "    </tr>\n",
       "    <tr>\n",
       "      <th>13</th>\n",
       "      <td>0</td>\n",
       "      <td>-1846.641941</td>\n",
       "      <td>54</td>\n",
       "      <td>неоконченное высшее</td>\n",
       "      <td>2</td>\n",
       "      <td>женат / замужем</td>\n",
       "      <td>0</td>\n",
       "      <td>F</td>\n",
       "      <td>сотрудник</td>\n",
       "      <td>0</td>\n",
       "      <td>130458.228857</td>\n",
       "      <td>приобретение автомобиля</td>\n",
       "    </tr>\n",
       "    <tr>\n",
       "      <th>14</th>\n",
       "      <td>0</td>\n",
       "      <td>-1844.956182</td>\n",
       "      <td>56</td>\n",
       "      <td>высшее</td>\n",
       "      <td>0</td>\n",
       "      <td>гражданский брак</td>\n",
       "      <td>1</td>\n",
       "      <td>F</td>\n",
       "      <td>компаньон</td>\n",
       "      <td>1</td>\n",
       "      <td>165127.911772</td>\n",
       "      <td>покупка жилой недвижимости</td>\n",
       "    </tr>\n",
       "    <tr>\n",
       "      <th>15</th>\n",
       "      <td>1</td>\n",
       "      <td>-972.364419</td>\n",
       "      <td>26</td>\n",
       "      <td>среднее</td>\n",
       "      <td>1</td>\n",
       "      <td>женат / замужем</td>\n",
       "      <td>0</td>\n",
       "      <td>F</td>\n",
       "      <td>сотрудник</td>\n",
       "      <td>0</td>\n",
       "      <td>116820.904450</td>\n",
       "      <td>строительство собственной недвижимости</td>\n",
       "    </tr>\n",
       "    <tr>\n",
       "      <th>16</th>\n",
       "      <td>0</td>\n",
       "      <td>-1719.934226</td>\n",
       "      <td>35</td>\n",
       "      <td>среднее</td>\n",
       "      <td>1</td>\n",
       "      <td>женат / замужем</td>\n",
       "      <td>0</td>\n",
       "      <td>F</td>\n",
       "      <td>сотрудник</td>\n",
       "      <td>0</td>\n",
       "      <td>289202.704229</td>\n",
       "      <td>недвижимость</td>\n",
       "    </tr>\n",
       "    <tr>\n",
       "      <th>17</th>\n",
       "      <td>0</td>\n",
       "      <td>-2369.999720</td>\n",
       "      <td>33</td>\n",
       "      <td>высшее</td>\n",
       "      <td>0</td>\n",
       "      <td>гражданский брак</td>\n",
       "      <td>1</td>\n",
       "      <td>M</td>\n",
       "      <td>сотрудник</td>\n",
       "      <td>0</td>\n",
       "      <td>90410.586745</td>\n",
       "      <td>строительство недвижимости</td>\n",
       "    </tr>\n",
       "    <tr>\n",
       "      <th>18</th>\n",
       "      <td>0</td>\n",
       "      <td>400281.136913</td>\n",
       "      <td>53</td>\n",
       "      <td>среднее</td>\n",
       "      <td>1</td>\n",
       "      <td>вдовец / вдова</td>\n",
       "      <td>2</td>\n",
       "      <td>F</td>\n",
       "      <td>пенсионер</td>\n",
       "      <td>0</td>\n",
       "      <td>56823.777243</td>\n",
       "      <td>на покупку подержанного автомобиля</td>\n",
       "    </tr>\n",
       "    <tr>\n",
       "      <th>19</th>\n",
       "      <td>0</td>\n",
       "      <td>-10038.818549</td>\n",
       "      <td>48</td>\n",
       "      <td>СРЕДНЕЕ</td>\n",
       "      <td>1</td>\n",
       "      <td>в разводе</td>\n",
       "      <td>3</td>\n",
       "      <td>F</td>\n",
       "      <td>сотрудник</td>\n",
       "      <td>0</td>\n",
       "      <td>242831.107982</td>\n",
       "      <td>на покупку своего автомобиля</td>\n",
       "    </tr>\n",
       "  </tbody>\n",
       "</table>\n",
       "</div>"
      ],
      "text/plain": [
       "    children  days_employed  dob_years            education  education_id  \\\n",
       "0          1   -8437.673028         42               высшее             0   \n",
       "1          1   -4024.803754         36              среднее             1   \n",
       "2          0   -5623.422610         33              Среднее             1   \n",
       "3          3   -4124.747207         32              среднее             1   \n",
       "4          0  340266.072047         53              среднее             1   \n",
       "5          0    -926.185831         27               высшее             0   \n",
       "6          0   -2879.202052         43               высшее             0   \n",
       "7          0    -152.779569         50              СРЕДНЕЕ             1   \n",
       "8          2   -6929.865299         35               ВЫСШЕЕ             0   \n",
       "9          0   -2188.756445         41              среднее             1   \n",
       "10         2   -4171.483647         36               высшее             0   \n",
       "11         0    -792.701887         40              среднее             1   \n",
       "12         0            NaN         65              среднее             1   \n",
       "13         0   -1846.641941         54  неоконченное высшее             2   \n",
       "14         0   -1844.956182         56               высшее             0   \n",
       "15         1    -972.364419         26              среднее             1   \n",
       "16         0   -1719.934226         35              среднее             1   \n",
       "17         0   -2369.999720         33               высшее             0   \n",
       "18         0  400281.136913         53              среднее             1   \n",
       "19         0  -10038.818549         48              СРЕДНЕЕ             1   \n",
       "\n",
       "       family_status  family_status_id gender income_type  debt  \\\n",
       "0    женат / замужем                 0      F   сотрудник     0   \n",
       "1    женат / замужем                 0      F   сотрудник     0   \n",
       "2    женат / замужем                 0      M   сотрудник     0   \n",
       "3    женат / замужем                 0      M   сотрудник     0   \n",
       "4   гражданский брак                 1      F   пенсионер     0   \n",
       "5   гражданский брак                 1      M   компаньон     0   \n",
       "6    женат / замужем                 0      F   компаньон     0   \n",
       "7    женат / замужем                 0      M   сотрудник     0   \n",
       "8   гражданский брак                 1      F   сотрудник     0   \n",
       "9    женат / замужем                 0      M   сотрудник     0   \n",
       "10   женат / замужем                 0      M   компаньон     0   \n",
       "11   женат / замужем                 0      F   сотрудник     0   \n",
       "12  гражданский брак                 1      M   пенсионер     0   \n",
       "13   женат / замужем                 0      F   сотрудник     0   \n",
       "14  гражданский брак                 1      F   компаньон     1   \n",
       "15   женат / замужем                 0      F   сотрудник     0   \n",
       "16   женат / замужем                 0      F   сотрудник     0   \n",
       "17  гражданский брак                 1      M   сотрудник     0   \n",
       "18    вдовец / вдова                 2      F   пенсионер     0   \n",
       "19         в разводе                 3      F   сотрудник     0   \n",
       "\n",
       "     total_income                                 purpose  \n",
       "0   253875.639453                           покупка жилья  \n",
       "1   112080.014102                 приобретение автомобиля  \n",
       "2   145885.952297                           покупка жилья  \n",
       "3   267628.550329              дополнительное образование  \n",
       "4   158616.077870                         сыграть свадьбу  \n",
       "5   255763.565419                           покупка жилья  \n",
       "6   240525.971920                       операции с жильем  \n",
       "7   135823.934197                             образование  \n",
       "8    95856.832424                   на проведение свадьбы  \n",
       "9   144425.938277                 покупка жилья для семьи  \n",
       "10  113943.491460                    покупка недвижимости  \n",
       "11   77069.234271       покупка коммерческой недвижимости  \n",
       "12            NaN                         сыграть свадьбу  \n",
       "13  130458.228857                 приобретение автомобиля  \n",
       "14  165127.911772              покупка жилой недвижимости  \n",
       "15  116820.904450  строительство собственной недвижимости  \n",
       "16  289202.704229                            недвижимость  \n",
       "17   90410.586745              строительство недвижимости  \n",
       "18   56823.777243      на покупку подержанного автомобиля  \n",
       "19  242831.107982            на покупку своего автомобиля  "
      ]
     },
     "execution_count": 184,
     "metadata": {},
     "output_type": "execute_result"
    }
   ],
   "source": [
    "data.head(20)"
   ]
  },
  {
   "cell_type": "markdown",
   "id": "ce38c43b",
   "metadata": {
    "deletable": false,
    "editable": false,
    "id": "1c12e233"
   },
   "source": [
    "**Задание 3. Выведите основную информацию о датафрейме с помощью метода `info()`.**"
   ]
  },
  {
   "cell_type": "code",
   "execution_count": 185,
   "id": "28de589d",
   "metadata": {
    "deletable": false,
    "id": "2b757bca",
    "outputId": "15376089-8dad-46c9-b520-c05248d43158"
   },
   "outputs": [
    {
     "name": "stdout",
     "output_type": "stream",
     "text": [
      "<class 'pandas.core.frame.DataFrame'>\n",
      "RangeIndex: 21525 entries, 0 to 21524\n",
      "Data columns (total 12 columns):\n",
      " #   Column            Non-Null Count  Dtype  \n",
      "---  ------            --------------  -----  \n",
      " 0   children          21525 non-null  int64  \n",
      " 1   days_employed     19351 non-null  float64\n",
      " 2   dob_years         21525 non-null  int64  \n",
      " 3   education         21525 non-null  object \n",
      " 4   education_id      21525 non-null  int64  \n",
      " 5   family_status     21525 non-null  object \n",
      " 6   family_status_id  21525 non-null  int64  \n",
      " 7   gender            21525 non-null  object \n",
      " 8   income_type       21525 non-null  object \n",
      " 9   debt              21525 non-null  int64  \n",
      " 10  total_income      19351 non-null  float64\n",
      " 11  purpose           21525 non-null  object \n",
      "dtypes: float64(2), int64(5), object(5)\n",
      "memory usage: 2.0+ MB\n"
     ]
    }
   ],
   "source": [
    "data.info()"
   ]
  },
  {
   "cell_type": "markdown",
   "id": "4a60d33c",
   "metadata": {
    "deletable": false,
    "editable": false,
    "id": "333ec665"
   },
   "source": [
    "## Предобработка данных"
   ]
  },
  {
   "cell_type": "markdown",
   "id": "987a32e3",
   "metadata": {
    "deletable": false,
    "editable": false,
    "id": "02d92d53"
   },
   "source": [
    "### Удаление пропусков"
   ]
  },
  {
   "cell_type": "markdown",
   "id": "68b43a2d",
   "metadata": {
    "deletable": false,
    "editable": false,
    "id": "cd84967c"
   },
   "source": [
    "**Задание 4. Выведите количество пропущенных значений для каждого столбца. Используйте комбинацию двух методов.**"
   ]
  },
  {
   "cell_type": "code",
   "execution_count": 186,
   "id": "8a1d09cf",
   "metadata": {
    "deletable": false,
    "id": "7f9b2309",
    "outputId": "81f4d817-781c-465c-ed15-91ce4446810d"
   },
   "outputs": [
    {
     "data": {
      "text/plain": [
       "children               0\n",
       "days_employed       2174\n",
       "dob_years              0\n",
       "education              0\n",
       "education_id           0\n",
       "family_status          0\n",
       "family_status_id       0\n",
       "gender                 0\n",
       "income_type            0\n",
       "debt                   0\n",
       "total_income        2174\n",
       "purpose                0\n",
       "dtype: int64"
      ]
     },
     "execution_count": 186,
     "metadata": {},
     "output_type": "execute_result"
    }
   ],
   "source": [
    "data.isna().sum()"
   ]
  },
  {
   "cell_type": "markdown",
   "id": "6c4ea913",
   "metadata": {
    "deletable": false,
    "editable": false,
    "id": "db86e27b"
   },
   "source": [
    "**Задание 5. В двух столбцах есть пропущенные значения. Один из них — `days_employed`. Пропуски в этом столбце вы обработаете на следующем этапе. Другой столбец с пропущенными значениями — `total_income` — хранит данные о доходах. На сумму дохода сильнее всего влияет тип занятости, поэтому заполнить пропуски в этом столбце нужно медианным значением по каждому типу из столбца `income_type`. Например, у человека с типом занятости `сотрудник` пропуск в столбце `total_income` должен быть заполнен медианным доходом среди всех записей с тем же типом.**"
   ]
  },
  {
   "cell_type": "code",
   "execution_count": 187,
   "id": "4b433fff",
   "metadata": {
    "deletable": false,
    "id": "42006a93"
   },
   "outputs": [],
   "source": [
    "for t in data['income_type'].unique():\n",
    "    data.loc[(data['income_type'] == t) & (data['total_income'].isna()), 'total_income'] = \\\n",
    "    data.loc[(data['income_type'] == t), 'total_income'].median()"
   ]
  },
  {
   "cell_type": "markdown",
   "id": "c65304e2",
   "metadata": {
    "deletable": false,
    "editable": false,
    "id": "89da5ece"
   },
   "source": [
    "### Обработка аномальных значений"
   ]
  },
  {
   "cell_type": "markdown",
   "id": "5e9e5455",
   "metadata": {
    "deletable": false,
    "editable": false,
    "id": "57964554"
   },
   "source": [
    "**Задание 6. В данных могут встречаться артефакты (аномалии) — значения, которые не отражают действительность и появились по какой-то ошибке. таким артефактом будет отрицательное количество дней трудового стажа в столбце `days_employed`. Для реальных данных это нормально. Обработайте значения в этом столбце: замените все отрицательные значения положительными с помощью метода `abs()`.**"
   ]
  },
  {
   "cell_type": "code",
   "execution_count": 188,
   "id": "f1d4e65e",
   "metadata": {
    "deletable": false,
    "id": "f6f055bf"
   },
   "outputs": [],
   "source": [
    "data['days_employed'] = data['days_employed'].abs()"
   ]
  },
  {
   "cell_type": "markdown",
   "id": "cb85eb1e",
   "metadata": {
    "deletable": false,
    "editable": false,
    "id": "6107dd2f"
   },
   "source": [
    "**Задание 7. Для каждого типа занятости выведите медианное значение трудового стажа `days_employed` в днях.**"
   ]
  },
  {
   "cell_type": "code",
   "execution_count": 189,
   "id": "f31ddda0",
   "metadata": {
    "deletable": false,
    "id": "85a5faf6",
    "outputId": "801ef80e-522b-4668-f34e-565af7432bcf"
   },
   "outputs": [
    {
     "data": {
      "text/plain": [
       "income_type\n",
       "безработный        366413.652744\n",
       "в декрете            3296.759962\n",
       "госслужащий          2689.368353\n",
       "компаньон            1547.382223\n",
       "пенсионер          365213.306266\n",
       "предприниматель       520.848083\n",
       "сотрудник            1574.202821\n",
       "студент               578.751554\n",
       "Name: days_employed, dtype: float64"
      ]
     },
     "execution_count": 189,
     "metadata": {},
     "output_type": "execute_result"
    }
   ],
   "source": [
    "data.groupby('income_type')['days_employed'].agg('median')"
   ]
  },
  {
   "cell_type": "markdown",
   "id": "69bcae73",
   "metadata": {
    "deletable": false,
    "editable": false,
    "id": "38d1a030"
   },
   "source": [
    "У двух типов (безработные и пенсионеры) получатся аномально большие значения. Исправить такие значения сложно, поэтому оставьте их как есть. Тем более этот столбец не понадобится вам для исследования."
   ]
  },
  {
   "cell_type": "markdown",
   "id": "65418992",
   "metadata": {
    "deletable": false,
    "editable": false,
    "id": "d8a9f147"
   },
   "source": [
    "**Задание 8. Выведите перечень уникальных значений столбца `children`.**"
   ]
  },
  {
   "cell_type": "code",
   "execution_count": 190,
   "id": "911b9e3a",
   "metadata": {
    "deletable": false,
    "id": "ef5056eb",
    "outputId": "6975b15c-7f95-4697-d16d-a0c79b657b03"
   },
   "outputs": [
    {
     "data": {
      "text/plain": [
       "array([ 1,  0,  3,  2, -1,  4, 20,  5])"
      ]
     },
     "execution_count": 190,
     "metadata": {},
     "output_type": "execute_result"
    }
   ],
   "source": [
    "data['children'].unique()"
   ]
  },
  {
   "cell_type": "markdown",
   "id": "c7274674",
   "metadata": {
    "deletable": false,
    "editable": false,
    "id": "40b9ebf2"
   },
   "source": [
    "**Задание 9. В столбце `children` есть два аномальных значения. Удалите строки, в которых встречаются такие аномальные значения из датафрейма `data`.**"
   ]
  },
  {
   "cell_type": "code",
   "execution_count": 191,
   "id": "7dcad721",
   "metadata": {
    "deletable": false,
    "id": "3ff9801d"
   },
   "outputs": [],
   "source": [
    "data = data[(data['children'] != -1) & (data['children'] != 20)]"
   ]
  },
  {
   "cell_type": "markdown",
   "id": "20b241c0",
   "metadata": {
    "deletable": false,
    "editable": false,
    "id": "bbc4d0ce"
   },
   "source": [
    "**Задание 10. Ещё раз выведите перечень уникальных значений столбца `children`, чтобы убедиться, что артефакты удалены.**"
   ]
  },
  {
   "cell_type": "code",
   "execution_count": 192,
   "id": "3dec12dd",
   "metadata": {
    "deletable": false,
    "id": "ad4fa8b7",
    "outputId": "b2097101-d49d-44d9-901b-32a65c9463d1"
   },
   "outputs": [
    {
     "data": {
      "text/plain": [
       "array([1, 0, 3, 2, 4, 5])"
      ]
     },
     "execution_count": 192,
     "metadata": {},
     "output_type": "execute_result"
    }
   ],
   "source": [
    "data['children'].unique()"
   ]
  },
  {
   "cell_type": "markdown",
   "id": "c5fe4ebe",
   "metadata": {
    "deletable": false,
    "editable": false,
    "id": "75440b63"
   },
   "source": [
    "### Удаление пропусков (продолжение)"
   ]
  },
  {
   "cell_type": "markdown",
   "id": "35d44ac9",
   "metadata": {
    "deletable": false,
    "editable": false,
    "id": "f4ea573f"
   },
   "source": [
    "**Задание 11. Заполните пропуски в столбце `days_employed` медианными значениями по каждого типа занятости `income_type`.**"
   ]
  },
  {
   "cell_type": "code",
   "execution_count": 193,
   "id": "20783196",
   "metadata": {
    "deletable": false,
    "id": "af6b1a7e"
   },
   "outputs": [],
   "source": [
    "for t in data['income_type'].unique():\n",
    "    data.loc[(data['income_type'] == t) & (data['days_employed'].isna()), 'days_employed'] = \\\n",
    "    data.loc[(data['income_type'] == t), 'days_employed'].median()"
   ]
  },
  {
   "cell_type": "markdown",
   "id": "b68b05ab",
   "metadata": {
    "deletable": false,
    "editable": false,
    "id": "2753f40d"
   },
   "source": [
    "**Задание 12. Убедитесь, что все пропуски заполнены. Проверьте себя и ещё раз выведите количество пропущенных значений для каждого столбца с помощью двух методов.**"
   ]
  },
  {
   "cell_type": "code",
   "execution_count": 194,
   "id": "ca560997",
   "metadata": {
    "deletable": false,
    "id": "55f78bc2",
    "outputId": "8da1e4e1-358e-4e87-98c9-f261bce0a7b2"
   },
   "outputs": [
    {
     "data": {
      "text/plain": [
       "children            0\n",
       "days_employed       0\n",
       "dob_years           0\n",
       "education           0\n",
       "education_id        0\n",
       "family_status       0\n",
       "family_status_id    0\n",
       "gender              0\n",
       "income_type         0\n",
       "debt                0\n",
       "total_income        0\n",
       "purpose             0\n",
       "dtype: int64"
      ]
     },
     "execution_count": 194,
     "metadata": {},
     "output_type": "execute_result"
    }
   ],
   "source": [
    "data.isna().sum()"
   ]
  },
  {
   "cell_type": "markdown",
   "id": "704107ce",
   "metadata": {
    "deletable": false,
    "editable": false,
    "id": "ddc81e43"
   },
   "source": [
    "### Изменение типов данных"
   ]
  },
  {
   "cell_type": "markdown",
   "id": "c1aaa92d",
   "metadata": {
    "deletable": false,
    "editable": false,
    "id": "42d19d24"
   },
   "source": [
    "**Задание 13. Замените вещественный тип данных в столбце `total_income` на целочисленный с помощью метода `astype()`.**"
   ]
  },
  {
   "cell_type": "code",
   "execution_count": 195,
   "id": "73a71126",
   "metadata": {
    "deletable": false,
    "id": "920b65ad"
   },
   "outputs": [],
   "source": [
    "data['total_income'] = data['total_income'].astype(int)"
   ]
  },
  {
   "cell_type": "markdown",
   "id": "0f35beae",
   "metadata": {
    "deletable": false,
    "editable": false,
    "id": "80c420ba"
   },
   "source": [
    "### Обработка дубликатов"
   ]
  },
  {
   "cell_type": "markdown",
   "id": "4151928b",
   "metadata": {
    "deletable": false,
    "editable": false
   },
   "source": [
    "**Задание 14. Обработайте неявные дубликаты в столбце `education`. В этом столбце есть одни и те же значения, но записанные по-разному: с использованием заглавных и строчных букв. Приведите их к нижнему регистру. Проверьте остальные столбцы.**"
   ]
  },
  {
   "cell_type": "code",
   "execution_count": 196,
   "id": "62d80150",
   "metadata": {
    "deletable": false
   },
   "outputs": [],
   "source": [
    "data['education'] = data['education'].str.lower()"
   ]
  },
  {
   "cell_type": "markdown",
   "id": "ac292ed2",
   "metadata": {
    "deletable": false,
    "editable": false,
    "id": "dc587695"
   },
   "source": [
    "**Задание 15. Выведите на экран количество строк-дубликатов в данных. Если такие строки присутствуют, удалите их.**"
   ]
  },
  {
   "cell_type": "code",
   "execution_count": 197,
   "id": "32b9d239",
   "metadata": {
    "deletable": false,
    "id": "3ee445e4",
    "outputId": "9684deba-1934-42d1-99e1-cda61740f822"
   },
   "outputs": [
    {
     "data": {
      "text/plain": [
       "71"
      ]
     },
     "execution_count": 197,
     "metadata": {},
     "output_type": "execute_result"
    }
   ],
   "source": [
    "data.duplicated().sum()"
   ]
  },
  {
   "cell_type": "code",
   "execution_count": 198,
   "id": "83dbc5b0",
   "metadata": {
    "deletable": false,
    "id": "8575fe05"
   },
   "outputs": [],
   "source": [
    "data = data.drop_duplicates()"
   ]
  },
  {
   "cell_type": "markdown",
   "id": "b3db429d",
   "metadata": {
    "deletable": false,
    "editable": false,
    "id": "9904cf55"
   },
   "source": [
    "### Категоризация данных"
   ]
  },
  {
   "cell_type": "markdown",
   "id": "1847d9bb",
   "metadata": {
    "deletable": false,
    "editable": false,
    "id": "72fcc8a2"
   },
   "source": [
    "**Задание 16. На основании диапазонов, указанных ниже, создайте в датафрейме `data` столбец `total_income_category` с категориями:**\n",
    "\n",
    "- 0–30000 — `'E'`;\n",
    "- 30001–50000 — `'D'`;\n",
    "- 50001–200000 — `'C'`;\n",
    "- 200001–1000000 — `'B'`;\n",
    "- 1000001 и выше — `'A'`.\n",
    "\n",
    "\n",
    "**Например, кредитополучателю с доходом 25000 нужно назначить категорию `'E'`, а клиенту, получающему 235000, — `'B'`. Используйте собственную функцию с именем `categorize_income()` и метод `apply()`.**"
   ]
  },
  {
   "cell_type": "code",
   "execution_count": 199,
   "id": "33aa1240",
   "metadata": {
    "deletable": false,
    "id": "e1771346"
   },
   "outputs": [],
   "source": [
    "def categorize_income(income):\n",
    "    try:\n",
    "        if 0 <= income <= 30000:\n",
    "            return 'E'\n",
    "        elif 30001 <= income <= 50000:\n",
    "            return 'D'\n",
    "        elif 50001 <= income <= 200000:\n",
    "            return 'C'\n",
    "        elif 200001 <= income <= 1000000:\n",
    "            return 'B'\n",
    "        elif income >= 1000001:\n",
    "            return 'A'\n",
    "    except:\n",
    "        pass"
   ]
  },
  {
   "cell_type": "code",
   "execution_count": 200,
   "id": "93c9924c",
   "metadata": {
    "deletable": false,
    "id": "d5f3586d"
   },
   "outputs": [],
   "source": [
    "data['total_income_category'] = data['total_income'].apply(categorize_income)"
   ]
  },
  {
   "cell_type": "markdown",
   "id": "6cb77353",
   "metadata": {
    "deletable": false,
    "editable": false,
    "id": "dde49b5c"
   },
   "source": [
    "**Задание 17. Выведите на экран перечень уникальных целей взятия кредита из столбца `purpose`.**"
   ]
  },
  {
   "cell_type": "code",
   "execution_count": 201,
   "id": "645fa785",
   "metadata": {
    "deletable": false,
    "id": "f67ce9b3",
    "outputId": "673c12d9-7d7e-4ae0-9812-c622c89dd244"
   },
   "outputs": [
    {
     "data": {
      "text/plain": [
       "array(['покупка жилья', 'приобретение автомобиля',\n",
       "       'дополнительное образование', 'сыграть свадьбу',\n",
       "       'операции с жильем', 'образование', 'на проведение свадьбы',\n",
       "       'покупка жилья для семьи', 'покупка недвижимости',\n",
       "       'покупка коммерческой недвижимости', 'покупка жилой недвижимости',\n",
       "       'строительство собственной недвижимости', 'недвижимость',\n",
       "       'строительство недвижимости', 'на покупку подержанного автомобиля',\n",
       "       'на покупку своего автомобиля',\n",
       "       'операции с коммерческой недвижимостью',\n",
       "       'строительство жилой недвижимости', 'жилье',\n",
       "       'операции со своей недвижимостью', 'автомобили',\n",
       "       'заняться образованием', 'сделка с подержанным автомобилем',\n",
       "       'получение образования', 'автомобиль', 'свадьба',\n",
       "       'получение дополнительного образования', 'покупка своего жилья',\n",
       "       'операции с недвижимостью', 'получение высшего образования',\n",
       "       'свой автомобиль', 'сделка с автомобилем',\n",
       "       'профильное образование', 'высшее образование',\n",
       "       'покупка жилья для сдачи', 'на покупку автомобиля', 'ремонт жилью',\n",
       "       'заняться высшим образованием'], dtype=object)"
      ]
     },
     "execution_count": 201,
     "metadata": {},
     "output_type": "execute_result"
    }
   ],
   "source": [
    "data['purpose'].unique()"
   ]
  },
  {
   "cell_type": "markdown",
   "id": "96131bb6",
   "metadata": {
    "deletable": false,
    "editable": false,
    "id": "85d0aef0"
   },
   "source": [
    "**Задание 18. Создайте функцию, которая на основании данных из столбца `purpose` сформирует новый столбец `purpose_category`, в который войдут следующие категории:**\n",
    "\n",
    "- `'операции с автомобилем'`,\n",
    "- `'операции с недвижимостью'`,\n",
    "- `'проведение свадьбы'`,\n",
    "- `'получение образования'`.\n",
    "\n",
    "**Например, если в столбце `purpose` находится подстрока `'на покупку автомобиля'`, то в столбце `purpose_category` должна появиться строка `'операции с автомобилем'`.**\n",
    "\n",
    "**Используйте собственную функцию с именем `categorize_purpose()` и метод `apply()`. Изучите данные в столбце `purpose` и определите, какие подстроки помогут вам правильно определить категорию.**"
   ]
  },
  {
   "cell_type": "code",
   "execution_count": 202,
   "id": "acc2414c",
   "metadata": {
    "deletable": false,
    "id": "e149fab4"
   },
   "outputs": [],
   "source": [
    "def categorize_purpose(row):\n",
    "    try:\n",
    "        if 'автом' in row:\n",
    "            return 'операции с автомобилем'\n",
    "        elif 'жил' in row or 'недвиж' in row:\n",
    "            return 'операции с недвижимостью'\n",
    "        elif 'свад' in row:\n",
    "            return 'проведение свадьбы'\n",
    "        elif 'образов' in row:\n",
    "            return 'получение образования'\n",
    "    except:\n",
    "        return 'нет категории'"
   ]
  },
  {
   "cell_type": "code",
   "execution_count": 203,
   "id": "1e06d525",
   "metadata": {
    "deletable": false,
    "id": "bf36e69b"
   },
   "outputs": [],
   "source": [
    "data['purpose_category'] = data['purpose'].apply(categorize_purpose)"
   ]
  },
  {
   "cell_type": "markdown",
   "id": "6615897a",
   "metadata": {
    "deletable": false,
    "editable": false,
    "id": "09b242bf"
   },
   "source": [
    "### Шаг 3. Исследуйте данные и ответьте на вопросы"
   ]
  },
  {
   "cell_type": "markdown",
   "id": "80866acf",
   "metadata": {
    "deletable": false,
    "editable": false,
    "id": "c5d66278"
   },
   "source": [
    "#### 3.1 Есть ли зависимость между количеством детей и возвратом кредита в срок?"
   ]
  },
  {
   "cell_type": "markdown",
   "id": "d59e28a4",
   "metadata": {
    "deletable": false,
    "id": "2cacfc4a"
   },
   "source": [
    "Создаем сводную таблицу зависимости между количеством детей и возвратом кредита в срок.\n",
    "debt - количество заемщиков (кредитов)\n",
    "debtor - количество должников\n",
    "debt_mean - средний процент просрочки по категории"
   ]
  },
  {
   "cell_type": "code",
   "execution_count": 220,
   "id": "d7a965e8",
   "metadata": {},
   "outputs": [
    {
     "data": {
      "text/html": [
       "<div>\n",
       "<style scoped>\n",
       "    .dataframe tbody tr th:only-of-type {\n",
       "        vertical-align: middle;\n",
       "    }\n",
       "\n",
       "    .dataframe tbody tr th {\n",
       "        vertical-align: top;\n",
       "    }\n",
       "\n",
       "    .dataframe thead th {\n",
       "        text-align: right;\n",
       "    }\n",
       "</style>\n",
       "<table border=\"1\" class=\"dataframe\">\n",
       "  <thead>\n",
       "    <tr style=\"text-align: right;\">\n",
       "      <th></th>\n",
       "      <th>debt</th>\n",
       "      <th>debtor</th>\n",
       "      <th>debt_mean</th>\n",
       "    </tr>\n",
       "    <tr>\n",
       "      <th>children</th>\n",
       "      <th></th>\n",
       "      <th></th>\n",
       "      <th></th>\n",
       "    </tr>\n",
       "  </thead>\n",
       "  <tbody>\n",
       "    <tr>\n",
       "      <th>0</th>\n",
       "      <td>14091</td>\n",
       "      <td>1063</td>\n",
       "      <td>7.543822</td>\n",
       "    </tr>\n",
       "    <tr>\n",
       "      <th>1</th>\n",
       "      <td>4808</td>\n",
       "      <td>444</td>\n",
       "      <td>9.234609</td>\n",
       "    </tr>\n",
       "    <tr>\n",
       "      <th>2</th>\n",
       "      <td>2052</td>\n",
       "      <td>194</td>\n",
       "      <td>9.454191</td>\n",
       "    </tr>\n",
       "    <tr>\n",
       "      <th>3</th>\n",
       "      <td>330</td>\n",
       "      <td>27</td>\n",
       "      <td>8.181818</td>\n",
       "    </tr>\n",
       "    <tr>\n",
       "      <th>4</th>\n",
       "      <td>41</td>\n",
       "      <td>4</td>\n",
       "      <td>9.756098</td>\n",
       "    </tr>\n",
       "    <tr>\n",
       "      <th>5</th>\n",
       "      <td>9</td>\n",
       "      <td>0</td>\n",
       "      <td>0.000000</td>\n",
       "    </tr>\n",
       "  </tbody>\n",
       "</table>\n",
       "</div>"
      ],
      "text/plain": [
       "           debt  debtor  debt_mean\n",
       "children                          \n",
       "0         14091    1063   7.543822\n",
       "1          4808     444   9.234609\n",
       "2          2052     194   9.454191\n",
       "3           330      27   8.181818\n",
       "4            41       4   9.756098\n",
       "5             9       0   0.000000"
      ]
     },
     "execution_count": 220,
     "metadata": {},
     "output_type": "execute_result"
    }
   ],
   "source": [
    "children_debt_table = data.pivot_table(index=['children'], values='debt', aggfunc='count')\n",
    "children_debt_table['debtor'] = data.pivot_table(index=['children'], values='debt', aggfunc='sum')\n",
    "children_debt_table['debt_mean'] = children_debt_table['debtor'] / children_debt_table['debt'] * 100\n",
    "\n",
    "#data.groupby('children')['debt'].count() \n",
    "children_debt_table"
   ]
  },
  {
   "cell_type": "markdown",
   "id": "db30521e",
   "metadata": {
    "deletable": false,
    "id": "3a6b99ec"
   },
   "source": [
    "**Вывод:** В данной категории выборки не сбалансированы, то есть количество заемщиков без детей или с одним/ двумя детьми намного больше числа заемщиков с четырьми и пятью детьми. Таким образом, есть смысл сравниавть категории с 0, 1 и 2-мя детьми. Здесь, наименьшее количество задолжностей у заемщиков, у которых нет детей. Заемщики с 2-мя детьми возвращают кредит в срок хуже остальных."
   ]
  },
  {
   "cell_type": "markdown",
   "id": "43bd468c",
   "metadata": {
    "deletable": false,
    "editable": false,
    "id": "97be82ca"
   },
   "source": [
    "#### 3.2 Есть ли зависимость между семейным положением и возвратом кредита в срок?"
   ]
  },
  {
   "cell_type": "markdown",
   "id": "d892ac64",
   "metadata": {},
   "source": [
    "Создаем сводную таблицу зависимости между семейным положением и возвратом кредита в срок.\n",
    "debt - количество заемщиков (кредитов)\n",
    "debtor - количество должников\n",
    "debt_mean - средний процент просрочки по категории"
   ]
  },
  {
   "cell_type": "code",
   "execution_count": 206,
   "id": "008af3a4",
   "metadata": {
    "deletable": false,
    "id": "dc3f7ee8"
   },
   "outputs": [
    {
     "data": {
      "text/html": [
       "<div>\n",
       "<style scoped>\n",
       "    .dataframe tbody tr th:only-of-type {\n",
       "        vertical-align: middle;\n",
       "    }\n",
       "\n",
       "    .dataframe tbody tr th {\n",
       "        vertical-align: top;\n",
       "    }\n",
       "\n",
       "    .dataframe thead th {\n",
       "        text-align: right;\n",
       "    }\n",
       "</style>\n",
       "<table border=\"1\" class=\"dataframe\">\n",
       "  <thead>\n",
       "    <tr style=\"text-align: right;\">\n",
       "      <th></th>\n",
       "      <th></th>\n",
       "      <th>debt</th>\n",
       "      <th>debtor</th>\n",
       "      <th>debt_mean</th>\n",
       "    </tr>\n",
       "    <tr>\n",
       "      <th>family_status</th>\n",
       "      <th>family_status_id</th>\n",
       "      <th></th>\n",
       "      <th></th>\n",
       "      <th></th>\n",
       "    </tr>\n",
       "  </thead>\n",
       "  <tbody>\n",
       "    <tr>\n",
       "      <th>Не женат / не замужем</th>\n",
       "      <th>4</th>\n",
       "      <td>2796</td>\n",
       "      <td>273</td>\n",
       "      <td>9.763948</td>\n",
       "    </tr>\n",
       "    <tr>\n",
       "      <th>в разводе</th>\n",
       "      <th>3</th>\n",
       "      <td>1189</td>\n",
       "      <td>84</td>\n",
       "      <td>7.064760</td>\n",
       "    </tr>\n",
       "    <tr>\n",
       "      <th>вдовец / вдова</th>\n",
       "      <th>2</th>\n",
       "      <td>951</td>\n",
       "      <td>63</td>\n",
       "      <td>6.624606</td>\n",
       "    </tr>\n",
       "    <tr>\n",
       "      <th>гражданский брак</th>\n",
       "      <th>1</th>\n",
       "      <td>4134</td>\n",
       "      <td>385</td>\n",
       "      <td>9.313014</td>\n",
       "    </tr>\n",
       "    <tr>\n",
       "      <th>женат / замужем</th>\n",
       "      <th>0</th>\n",
       "      <td>12261</td>\n",
       "      <td>927</td>\n",
       "      <td>7.560558</td>\n",
       "    </tr>\n",
       "  </tbody>\n",
       "</table>\n",
       "</div>"
      ],
      "text/plain": [
       "                                         debt  debtor  debt_mean\n",
       "family_status         family_status_id                          \n",
       "Не женат / не замужем 4                  2796     273   9.763948\n",
       "в разводе             3                  1189      84   7.064760\n",
       "вдовец / вдова        2                   951      63   6.624606\n",
       "гражданский брак      1                  4134     385   9.313014\n",
       "женат / замужем       0                 12261     927   7.560558"
      ]
     },
     "execution_count": 206,
     "metadata": {},
     "output_type": "execute_result"
    }
   ],
   "source": [
    "# Ваш код будет здесь. Вы можете создавать новые ячейки.\n",
    "#data['family_status'].unique()\n",
    "#data['family_status_id'].unique()\n",
    "#support_data = data[['family_status','family_status_id']] # создаем вспомогательную таблицу для расшифровки family_status_id\n",
    "#support_data = support_data.drop_duplicates().reset_index(drop=True) # избавляемся от дубликатов\n",
    "#data_subcategory = data.groupby('family_status_id')['debt'].mean() # группируем значения конверсии по задолжностям по family_status_id\n",
    "#status_debt = support_data.merge(data_subcategory, on='family_status_id', how='left') # обьединяем таблицы\n",
    "#status_debt['debt'] = data.pivot_table(index=['family_status','family_status_id'], values='debt', aggfunc='count')\n",
    "status_debt_table = data.pivot_table(index=['family_status','family_status_id'], values='debt', aggfunc='count')\n",
    "status_debt_table['debtor'] = data.pivot_table(index=['family_status','family_status_id'], values='debt', aggfunc='sum')\n",
    "status_debt_table['debt_mean'] = status_debt_table['debtor'] /  status_debt_table['debt'] *100\n",
    "status_debt_table"
   ]
  },
  {
   "cell_type": "markdown",
   "id": "274d3f1f",
   "metadata": {},
   "source": [
    "В этом блоке приведена дополнительная таблица, по которой можно определить среднюю задолжность заемщиков (в процентах) в зависимости от семейного положения и количества детей"
   ]
  },
  {
   "cell_type": "code",
   "execution_count": 207,
   "id": "7002b060",
   "metadata": {},
   "outputs": [
    {
     "data": {
      "text/html": [
       "<div>\n",
       "<style scoped>\n",
       "    .dataframe tbody tr th:only-of-type {\n",
       "        vertical-align: middle;\n",
       "    }\n",
       "\n",
       "    .dataframe tbody tr th {\n",
       "        vertical-align: top;\n",
       "    }\n",
       "\n",
       "    .dataframe thead th {\n",
       "        text-align: right;\n",
       "    }\n",
       "</style>\n",
       "<table border=\"1\" class=\"dataframe\">\n",
       "  <thead>\n",
       "    <tr style=\"text-align: right;\">\n",
       "      <th></th>\n",
       "      <th>children</th>\n",
       "      <th>0</th>\n",
       "      <th>1</th>\n",
       "      <th>2</th>\n",
       "      <th>3</th>\n",
       "      <th>4</th>\n",
       "      <th>5</th>\n",
       "    </tr>\n",
       "    <tr>\n",
       "      <th>family_status</th>\n",
       "      <th>family_status_id</th>\n",
       "      <th></th>\n",
       "      <th></th>\n",
       "      <th></th>\n",
       "      <th></th>\n",
       "      <th></th>\n",
       "      <th></th>\n",
       "    </tr>\n",
       "  </thead>\n",
       "  <tbody>\n",
       "    <tr>\n",
       "      <th>Не женат / не замужем</th>\n",
       "      <th>4</th>\n",
       "      <td>9.283820</td>\n",
       "      <td>11.581292</td>\n",
       "      <td>12.000000</td>\n",
       "      <td>12.500000</td>\n",
       "      <td>50.000000</td>\n",
       "      <td>NaN</td>\n",
       "    </tr>\n",
       "    <tr>\n",
       "      <th>в разводе</th>\n",
       "      <th>3</th>\n",
       "      <td>7.015306</td>\n",
       "      <td>6.730769</td>\n",
       "      <td>8.641975</td>\n",
       "      <td>9.090909</td>\n",
       "      <td>0.000000</td>\n",
       "      <td>NaN</td>\n",
       "    </tr>\n",
       "    <tr>\n",
       "      <th>вдовец / вдова</th>\n",
       "      <th>2</th>\n",
       "      <td>6.257379</td>\n",
       "      <td>9.090909</td>\n",
       "      <td>15.000000</td>\n",
       "      <td>0.000000</td>\n",
       "      <td>0.000000</td>\n",
       "      <td>NaN</td>\n",
       "    </tr>\n",
       "    <tr>\n",
       "      <th>гражданский брак</th>\n",
       "      <th>1</th>\n",
       "      <td>8.388278</td>\n",
       "      <td>11.859296</td>\n",
       "      <td>8.746356</td>\n",
       "      <td>14.285714</td>\n",
       "      <td>0.000000</td>\n",
       "      <td>0.0</td>\n",
       "    </tr>\n",
       "    <tr>\n",
       "      <th>женат / замужем</th>\n",
       "      <th>0</th>\n",
       "      <td>6.909480</td>\n",
       "      <td>8.268908</td>\n",
       "      <td>9.458578</td>\n",
       "      <td>6.827309</td>\n",
       "      <td>10.344828</td>\n",
       "      <td>0.0</td>\n",
       "    </tr>\n",
       "  </tbody>\n",
       "</table>\n",
       "</div>"
      ],
      "text/plain": [
       "children                                       0          1          2  \\\n",
       "family_status         family_status_id                                   \n",
       "Не женат / не замужем 4                 9.283820  11.581292  12.000000   \n",
       "в разводе             3                 7.015306   6.730769   8.641975   \n",
       "вдовец / вдова        2                 6.257379   9.090909  15.000000   \n",
       "гражданский брак      1                 8.388278  11.859296   8.746356   \n",
       "женат / замужем       0                 6.909480   8.268908   9.458578   \n",
       "\n",
       "children                                        3          4    5  \n",
       "family_status         family_status_id                             \n",
       "Не женат / не замужем 4                 12.500000  50.000000  NaN  \n",
       "в разводе             3                  9.090909   0.000000  NaN  \n",
       "вдовец / вдова        2                  0.000000   0.000000  NaN  \n",
       "гражданский брак      1                 14.285714   0.000000  0.0  \n",
       "женат / замужем       0                  6.827309  10.344828  0.0  "
      ]
     },
     "execution_count": 207,
     "metadata": {},
     "output_type": "execute_result"
    }
   ],
   "source": [
    "data_pivot = data.pivot_table(index=['family_status','family_status_id'], columns='children', values='debt', aggfunc='mean')\n",
    "data_pivot * 100 "
   ]
  },
  {
   "cell_type": "markdown",
   "id": "757d4647",
   "metadata": {
    "deletable": false,
    "id": "1cef7837"
   },
   "source": [
    "**Вывод:** из первой таблицы видно, что в среднем задолженность больше у не женатых/ не замужних заемщиков. Наиболее ответсвенными заемщиками являются люди в разводе и ввдовцы/ вдовы. по вотрой сводной также таблице можно заметить, что не женатые/ не замужние заемщики реже возвращают кредит в срок."
   ]
  },
  {
   "cell_type": "markdown",
   "id": "90e9d259",
   "metadata": {
    "deletable": false,
    "editable": false,
    "id": "1e8b2fca"
   },
   "source": [
    "#### 3.3 Есть ли зависимость между уровнем дохода и возвратом кредита в срок?"
   ]
  },
  {
   "cell_type": "markdown",
   "id": "fabbb2b2",
   "metadata": {},
   "source": [
    "Создаем сводную таблицу зависимости между уровнем дохода и возвратом кредита в срок. debt - количество заемщиков (кредитов) debtor - количество должников debt_mean - средний процент просрочки по категории"
   ]
  },
  {
   "cell_type": "code",
   "execution_count": 208,
   "id": "d599e158",
   "metadata": {
    "deletable": false,
    "id": "cd7e3720"
   },
   "outputs": [
    {
     "data": {
      "text/html": [
       "<div>\n",
       "<style scoped>\n",
       "    .dataframe tbody tr th:only-of-type {\n",
       "        vertical-align: middle;\n",
       "    }\n",
       "\n",
       "    .dataframe tbody tr th {\n",
       "        vertical-align: top;\n",
       "    }\n",
       "\n",
       "    .dataframe thead th {\n",
       "        text-align: right;\n",
       "    }\n",
       "</style>\n",
       "<table border=\"1\" class=\"dataframe\">\n",
       "  <thead>\n",
       "    <tr style=\"text-align: right;\">\n",
       "      <th></th>\n",
       "      <th>debt</th>\n",
       "      <th>debtors</th>\n",
       "      <th>debt_mean</th>\n",
       "    </tr>\n",
       "    <tr>\n",
       "      <th>total_income_category</th>\n",
       "      <th></th>\n",
       "      <th></th>\n",
       "      <th></th>\n",
       "    </tr>\n",
       "  </thead>\n",
       "  <tbody>\n",
       "    <tr>\n",
       "      <th>A</th>\n",
       "      <td>25</td>\n",
       "      <td>2</td>\n",
       "      <td>8.000000</td>\n",
       "    </tr>\n",
       "    <tr>\n",
       "      <th>B</th>\n",
       "      <td>5014</td>\n",
       "      <td>354</td>\n",
       "      <td>7.060231</td>\n",
       "    </tr>\n",
       "    <tr>\n",
       "      <th>C</th>\n",
       "      <td>15921</td>\n",
       "      <td>1353</td>\n",
       "      <td>8.498210</td>\n",
       "    </tr>\n",
       "    <tr>\n",
       "      <th>D</th>\n",
       "      <td>349</td>\n",
       "      <td>21</td>\n",
       "      <td>6.017192</td>\n",
       "    </tr>\n",
       "    <tr>\n",
       "      <th>E</th>\n",
       "      <td>22</td>\n",
       "      <td>2</td>\n",
       "      <td>9.090909</td>\n",
       "    </tr>\n",
       "  </tbody>\n",
       "</table>\n",
       "</div>"
      ],
      "text/plain": [
       "                        debt  debtors  debt_mean\n",
       "total_income_category                           \n",
       "A                         25        2   8.000000\n",
       "B                       5014      354   7.060231\n",
       "C                      15921     1353   8.498210\n",
       "D                        349       21   6.017192\n",
       "E                         22        2   9.090909"
      ]
     },
     "execution_count": 208,
     "metadata": {},
     "output_type": "execute_result"
    }
   ],
   "source": [
    "# Ваш код будет здесь. Вы можете создавать новые ячейки.\n",
    "\n",
    "#group_income = data.groupby('total_income_category')['debt'].mean() # группируем конверсию по задолжностям по категориям дохода\n",
    "#group_income\n",
    "\n",
    "income_debt_table = data.pivot_table(index='total_income_category',values='debt', aggfunc='count')\n",
    "income_debt_table['debtors'] = data.pivot_table(index='total_income_category',values='debt', aggfunc='sum')\n",
    "income_debt_table['debt_mean'] = income_debt_table['debtors'] / income_debt_table['debt'] * 100\n",
    "income_debt_table"
   ]
  },
  {
   "cell_type": "markdown",
   "id": "4789075b",
   "metadata": {
    "deletable": false,
    "id": "e8593def"
   },
   "source": [
    "**Вывод:** Количество заемщиков в категориях B, C существенно превышает количество заемщиков в остальных категориях. Таким образом, есть смысл сравнивать только эти две категории. Из таблицы можем заметить, что заемщики с ежемесячным доходом от 200001 до 1000000 тр в месяц (B) являются наиболее стабильными."
   ]
  },
  {
   "cell_type": "markdown",
   "id": "53487555",
   "metadata": {
    "deletable": false,
    "editable": false,
    "id": "99ecbd1f"
   },
   "source": [
    "#### 3.4 Как разные цели кредита влияют на его возврат в срок?"
   ]
  },
  {
   "cell_type": "markdown",
   "id": "87800394",
   "metadata": {},
   "source": [
    "Создаем сводную таблицу зависимости между целями кредита и возвратом кредита в срок. debt - количество заемщиков (кредитов) debtor - количество должников debt_mean - средний процент просрочки по категории"
   ]
  },
  {
   "cell_type": "code",
   "execution_count": 209,
   "id": "9ba01be2",
   "metadata": {
    "deletable": false,
    "id": "2b687290"
   },
   "outputs": [
    {
     "data": {
      "text/html": [
       "<div>\n",
       "<style scoped>\n",
       "    .dataframe tbody tr th:only-of-type {\n",
       "        vertical-align: middle;\n",
       "    }\n",
       "\n",
       "    .dataframe tbody tr th {\n",
       "        vertical-align: top;\n",
       "    }\n",
       "\n",
       "    .dataframe thead th {\n",
       "        text-align: right;\n",
       "    }\n",
       "</style>\n",
       "<table border=\"1\" class=\"dataframe\">\n",
       "  <thead>\n",
       "    <tr style=\"text-align: right;\">\n",
       "      <th></th>\n",
       "      <th>debt</th>\n",
       "      <th>debtors</th>\n",
       "      <th>debt_mean</th>\n",
       "    </tr>\n",
       "    <tr>\n",
       "      <th>purpose_category</th>\n",
       "      <th></th>\n",
       "      <th></th>\n",
       "      <th></th>\n",
       "    </tr>\n",
       "  </thead>\n",
       "  <tbody>\n",
       "    <tr>\n",
       "      <th>операции с автомобилем</th>\n",
       "      <td>4279</td>\n",
       "      <td>400</td>\n",
       "      <td>9.347978</td>\n",
       "    </tr>\n",
       "    <tr>\n",
       "      <th>операции с недвижимостью</th>\n",
       "      <td>10751</td>\n",
       "      <td>780</td>\n",
       "      <td>7.255139</td>\n",
       "    </tr>\n",
       "    <tr>\n",
       "      <th>получение образования</th>\n",
       "      <td>3988</td>\n",
       "      <td>369</td>\n",
       "      <td>9.252758</td>\n",
       "    </tr>\n",
       "    <tr>\n",
       "      <th>проведение свадьбы</th>\n",
       "      <td>2313</td>\n",
       "      <td>183</td>\n",
       "      <td>7.911803</td>\n",
       "    </tr>\n",
       "  </tbody>\n",
       "</table>\n",
       "</div>"
      ],
      "text/plain": [
       "                           debt  debtors  debt_mean\n",
       "purpose_category                                   \n",
       "операции с автомобилем     4279      400   9.347978\n",
       "операции с недвижимостью  10751      780   7.255139\n",
       "получение образования      3988      369   9.252758\n",
       "проведение свадьбы         2313      183   7.911803"
      ]
     },
     "execution_count": 209,
     "metadata": {},
     "output_type": "execute_result"
    }
   ],
   "source": [
    "# Ваш код будет здесь. Вы можете создавать новые ячейки.\n",
    "#data.groupby('purpose_category')['debt'].mean() # группируем конверсию по задолжностям по целям кредита\n",
    "purpose_debt_table = data.pivot_table(index='purpose_category', values='debt', aggfunc='count')\n",
    "purpose_debt_table['debtors'] = data.pivot_table(index='purpose_category', values='debt', aggfunc='sum')\n",
    "purpose_debt_table['debt_mean'] = purpose_debt_table['debtors'] / purpose_debt_table['debt'] *100\n",
    "\n",
    "purpose_debt_table"
   ]
  },
  {
   "cell_type": "markdown",
   "id": "c71ddce2",
   "metadata": {},
   "source": [
    "Сводная таблица среднего значения задолжности по целям и категориям доходов"
   ]
  },
  {
   "cell_type": "code",
   "execution_count": 210,
   "id": "6aa6f267",
   "metadata": {},
   "outputs": [
    {
     "data": {
      "text/html": [
       "<div>\n",
       "<style scoped>\n",
       "    .dataframe tbody tr th:only-of-type {\n",
       "        vertical-align: middle;\n",
       "    }\n",
       "\n",
       "    .dataframe tbody tr th {\n",
       "        vertical-align: top;\n",
       "    }\n",
       "\n",
       "    .dataframe thead th {\n",
       "        text-align: right;\n",
       "    }\n",
       "</style>\n",
       "<table border=\"1\" class=\"dataframe\">\n",
       "  <thead>\n",
       "    <tr style=\"text-align: right;\">\n",
       "      <th>total_income_category</th>\n",
       "      <th>A</th>\n",
       "      <th>B</th>\n",
       "      <th>C</th>\n",
       "      <th>D</th>\n",
       "      <th>E</th>\n",
       "    </tr>\n",
       "    <tr>\n",
       "      <th>purpose_category</th>\n",
       "      <th></th>\n",
       "      <th></th>\n",
       "      <th></th>\n",
       "      <th></th>\n",
       "      <th></th>\n",
       "    </tr>\n",
       "  </thead>\n",
       "  <tbody>\n",
       "    <tr>\n",
       "      <th>операции с автомобилем</th>\n",
       "      <td>0.000000</td>\n",
       "      <td>8.317025</td>\n",
       "      <td>9.588180</td>\n",
       "      <td>13.888889</td>\n",
       "      <td>0.000000</td>\n",
       "    </tr>\n",
       "    <tr>\n",
       "      <th>операции с недвижимостью</th>\n",
       "      <td>5.882353</td>\n",
       "      <td>6.724003</td>\n",
       "      <td>7.490309</td>\n",
       "      <td>3.571429</td>\n",
       "      <td>18.181818</td>\n",
       "    </tr>\n",
       "    <tr>\n",
       "      <th>получение образования</th>\n",
       "      <td>25.000000</td>\n",
       "      <td>7.752809</td>\n",
       "      <td>9.854015</td>\n",
       "      <td>2.666667</td>\n",
       "      <td>0.000000</td>\n",
       "    </tr>\n",
       "    <tr>\n",
       "      <th>проведение свадьбы</th>\n",
       "      <td>0.000000</td>\n",
       "      <td>5.147059</td>\n",
       "      <td>8.791209</td>\n",
       "      <td>8.823529</td>\n",
       "      <td>0.000000</td>\n",
       "    </tr>\n",
       "  </tbody>\n",
       "</table>\n",
       "</div>"
      ],
      "text/plain": [
       "total_income_category             A         B         C          D          E\n",
       "purpose_category                                                             \n",
       "операции с автомобилем     0.000000  8.317025  9.588180  13.888889   0.000000\n",
       "операции с недвижимостью   5.882353  6.724003  7.490309   3.571429  18.181818\n",
       "получение образования     25.000000  7.752809  9.854015   2.666667   0.000000\n",
       "проведение свадьбы         0.000000  5.147059  8.791209   8.823529   0.000000"
      ]
     },
     "execution_count": 210,
     "metadata": {},
     "output_type": "execute_result"
    }
   ],
   "source": [
    "data_pivot_s = data.pivot_table(index=['purpose_category'], columns='total_income_category', values='debt', aggfunc='mean')\n",
    "data_pivot_s * 100"
   ]
  },
  {
   "cell_type": "markdown",
   "id": "db0d3a08",
   "metadata": {},
   "source": [
    "Для создания сводной таблицы среднего значения задолжности по целям и возрасту надо обработать данные о возрасте и гендере заемщиков и категоризовать данные"
   ]
  },
  {
   "cell_type": "code",
   "execution_count": 221,
   "id": "9cd7f318",
   "metadata": {},
   "outputs": [
    {
     "name": "stdout",
     "output_type": "stream",
     "text": [
      "[19 20 21 22 23 24 25 26 27 28 29 30 31 32 33 34 35 36 37 38 39 40 41 42\n",
      " 43 44 45 46 47 48 49 50 51 52 53 54 55 56 57 58 59 60 61 62 63 64 65 66\n",
      " 67 68 69 70 71 72 73 74 75]\n",
      "F    14092\n",
      "M     7239\n",
      "Name: gender, dtype: int64\n"
     ]
    }
   ],
   "source": [
    "data.loc[data['dob_years'] == 0, 'dob_years'] = data['dob_years'].median() #избавляемся от ошибок/пропусков в данных о возрасте\n",
    "data['dob_years'] = data['dob_years'].round(0).astype('int')\n",
    "data.loc[(data['gender'] == 'XNA'), 'gender' ] = 'M' #избавляемся от ошибок/пропусков в данных о гендере\n",
    "print(data['dob_years'].sort_values().unique())\n",
    "print(data['gender'].value_counts())"
   ]
  },
  {
   "cell_type": "code",
   "execution_count": 222,
   "id": "9b7353e2",
   "metadata": {},
   "outputs": [],
   "source": [
    "# создаем функцию для категоризации данных о возрасте\n",
    "def categorize_age(row):\n",
    "\n",
    "    age = row[0]\n",
    "    gender = row[1]\n",
    "    try:\n",
    "        \n",
    "        if ((age >= 60 and gender == 'F') or (age >= 65 and gender == 'M')):\n",
    "            return 'пенсионер'\n",
    "        elif 18 <= age <= 25:\n",
    "            return 'молодой'\n",
    "        elif ((25 < age < 60 and gender == 'F') or (25 < age < 65 and gender == 'M')):\n",
    "            return 'взрослый'\n",
    "        else:\n",
    "            return 'возраст не указан'\n",
    "    except:\n",
    "        return 'error'\n",
    "    \n"
   ]
  },
  {
   "cell_type": "code",
   "execution_count": 223,
   "id": "b00134f3",
   "metadata": {},
   "outputs": [
    {
     "data": {
      "text/plain": [
       "array(['взрослый', 'пенсионер', 'молодой'], dtype=object)"
      ]
     },
     "execution_count": 223,
     "metadata": {},
     "output_type": "execute_result"
    }
   ],
   "source": [
    "# создаем новый столбец категорий возраста в data\n",
    "support = data[['dob_years','gender']]\n",
    "data['categorize_age'] = support.apply(categorize_age, axis=1)\n",
    "data['categorize_age'].unique()"
   ]
  },
  {
   "cell_type": "code",
   "execution_count": 224,
   "id": "03c2ab3d",
   "metadata": {},
   "outputs": [
    {
     "data": {
      "text/html": [
       "<div>\n",
       "<style scoped>\n",
       "    .dataframe tbody tr th:only-of-type {\n",
       "        vertical-align: middle;\n",
       "    }\n",
       "\n",
       "    .dataframe tbody tr th {\n",
       "        vertical-align: top;\n",
       "    }\n",
       "\n",
       "    .dataframe thead th {\n",
       "        text-align: right;\n",
       "    }\n",
       "</style>\n",
       "<table border=\"1\" class=\"dataframe\">\n",
       "  <thead>\n",
       "    <tr style=\"text-align: right;\">\n",
       "      <th>categorize_age</th>\n",
       "      <th>взрослый</th>\n",
       "      <th>молодой</th>\n",
       "      <th>пенсионер</th>\n",
       "    </tr>\n",
       "    <tr>\n",
       "      <th>purpose_category</th>\n",
       "      <th></th>\n",
       "      <th></th>\n",
       "      <th></th>\n",
       "    </tr>\n",
       "  </thead>\n",
       "  <tbody>\n",
       "    <tr>\n",
       "      <th>операции с автомобилем</th>\n",
       "      <td>9.590187</td>\n",
       "      <td>13.223140</td>\n",
       "      <td>5.333333</td>\n",
       "    </tr>\n",
       "    <tr>\n",
       "      <th>операции с недвижимостью</th>\n",
       "      <td>7.477458</td>\n",
       "      <td>9.238250</td>\n",
       "      <td>4.134615</td>\n",
       "    </tr>\n",
       "    <tr>\n",
       "      <th>получение образования</th>\n",
       "      <td>9.560570</td>\n",
       "      <td>12.093023</td>\n",
       "      <td>5.185185</td>\n",
       "    </tr>\n",
       "    <tr>\n",
       "      <th>проведение свадьбы</th>\n",
       "      <td>8.186528</td>\n",
       "      <td>10.457516</td>\n",
       "      <td>3.913043</td>\n",
       "    </tr>\n",
       "  </tbody>\n",
       "</table>\n",
       "</div>"
      ],
      "text/plain": [
       "categorize_age            взрослый    молодой  пенсионер\n",
       "purpose_category                                        \n",
       "операции с автомобилем    9.590187  13.223140   5.333333\n",
       "операции с недвижимостью  7.477458   9.238250   4.134615\n",
       "получение образования     9.560570  12.093023   5.185185\n",
       "проведение свадьбы        8.186528  10.457516   3.913043"
      ]
     },
     "execution_count": 224,
     "metadata": {},
     "output_type": "execute_result"
    }
   ],
   "source": [
    "# сводная таблица среднего значения задолжности в процентах по целям и возрастным категориям\n",
    "purpose_age_pivot = data.pivot_table(index=['purpose_category'], columns='categorize_age', values='debt', aggfunc='mean')\n",
    "purpose_age_pivot = purpose_age_pivot*100\n",
    "purpose_age_pivot"
   ]
  },
  {
   "cell_type": "markdown",
   "id": "a3262aa0",
   "metadata": {
    "deletable": false,
    "id": "b4bb2ce6"
   },
   "source": [
    "**Вывод:** реже всего кредит возвращают в срок заемщики с целью 'операции с автомобилем', и чаще всего задерживают выплаты заемщики с ежемесячным доходом от 30000 до 50000 тр в месяц. Наиболее стабильными являются заемщики с целью 'операции с недвижимостью', хотя из второй сводной таблицы мы можем заметить, что задолжности по кредитам были у граждан сразным уровнем достатка. Также можем заметить, что заемщики в возрасте от 18 до 25 лет (молодой) реже других возвращают кредит в срок."
   ]
  },
  {
   "cell_type": "markdown",
   "id": "1bfa6107",
   "metadata": {
    "deletable": false,
    "editable": false,
    "id": "09c3ac4c"
   },
   "source": [
    "#### 3.5 Приведите возможные причины появления пропусков в исходных данных."
   ]
  },
  {
   "cell_type": "markdown",
   "id": "664dfaeb",
   "metadata": {
    "deletable": false,
    "id": "9da2ceda"
   },
   "source": [
    "*Ответ:* пропуски в данных были замечены в столбцах о стаже работы и доходах за месяц, это персональные данные, которые заемщик возможно не посчитал нужным указывать либо это связано с отсутствием дохода, либо с отсутствием рабочего стажа."
   ]
  },
  {
   "cell_type": "markdown",
   "id": "c0412a58",
   "metadata": {
    "deletable": false,
    "editable": false,
    "id": "7b0487d6"
   },
   "source": [
    "#### 3.6 Объясните, почему заполнить пропуски медианным значением — лучшее решение для количественных переменных."
   ]
  },
  {
   "cell_type": "markdown",
   "id": "7ecd0296",
   "metadata": {
    "deletable": false,
    "id": "7ecf2b8e"
   },
   "source": [
    "*Ответ:* количественные переменные могут иметь аномально большие или аномально маленькие значения, что приведет к неккоректному определению среднего значения с помощью среднего арифметического."
   ]
  },
  {
   "cell_type": "markdown",
   "id": "9023b1af",
   "metadata": {
    "deletable": false,
    "editable": false,
    "id": "6db5255a"
   },
   "source": [
    "### Шаг 4: общий вывод."
   ]
  },
  {
   "cell_type": "markdown",
   "id": "c8ee22ca",
   "metadata": {
    "deletable": false,
    "id": "bad65432"
   },
   "source": [
    "   В заключение, наибольшее количество задолжностей у заемщиков в статусе не женат/ не замужем с детьми и без. Больше всего задолжности встречаются у заемщиков с доходом до 30000 рублей в месяц. Реже всего кредит выплачивают в срок заемщики с целью кредита: \"операции по автомобилю\". Наиболее надежными являются заемщики с целью покупки недвижимости, ремонта и тд. Наиболее ответсвенными заемщиками являются люди в разводе, ввдовцы/ вдовы, женатые/ замужние. Также наименьшее количество задолжностей у заемщиков, у которых пять детей или нет детей вовсе.\n",
    "   \n",
    "   В заключение, на этапе предобратки данных применялись следующие методы для дальнейшего анализа: удаление пропусков, обработка аномальных значений, удаление дубликатов. Затем категоризовали данные о ежемесячный доходе и возрасте и гендере для того, чтобы построить сводные таблицы по этим категориям. На этапе анализа данных составили сводные таблицы, по которым определили, что наибольшее количество задолжностей у заемщиков в статусе не женат/ не замужем с детьми и без. Заемщики с 2-мя детьми возвращают кредит в срок хуже остальных. Больше всего задолжности встречаются у заемщиков с доходом до 200000 рублей в месяц. Также реже всего кредит возвращают в срок заемщики с целью 'операции с автомобилем'. Интересно, что заемщики в возрасте от 18 до 25 лет (молодой) реже других возвращают кредит в срок.\n",
    "   Наиболее надежными являются заемщики с целью покупки недвижимости, ремонта и тд. А наименьшее количество задолжностей у заемщиков, у которых нет детей.\n",
    "   К сожалению, были и проблемы на этапе анализа данных, поскольку в некоторых категориях  выборки несбалансированны."
   ]
  },
  {
   "cell_type": "code",
   "execution_count": null,
   "id": "0666d340",
   "metadata": {},
   "outputs": [],
   "source": []
  }
 ],
 "metadata": {
  "ExecuteTimeLog": [
   {
    "duration": 695,
    "start_time": "2022-10-26T16:06:44.764Z"
   },
   {
    "duration": 22,
    "start_time": "2022-10-26T16:06:46.764Z"
   },
   {
    "duration": 15,
    "start_time": "2022-10-26T16:06:48.327Z"
   },
   {
    "duration": 10,
    "start_time": "2022-10-26T16:06:51.133Z"
   },
   {
    "duration": 33,
    "start_time": "2022-10-26T16:06:52.192Z"
   },
   {
    "duration": 3,
    "start_time": "2022-10-26T16:06:53.654Z"
   },
   {
    "duration": 10,
    "start_time": "2022-10-26T16:06:54.548Z"
   },
   {
    "duration": 4,
    "start_time": "2022-10-26T16:06:55.779Z"
   },
   {
    "duration": 9,
    "start_time": "2022-10-26T16:06:56.530Z"
   },
   {
    "duration": 6,
    "start_time": "2022-10-26T16:06:57.288Z"
   },
   {
    "duration": 31,
    "start_time": "2022-10-26T16:06:58.660Z"
   },
   {
    "duration": 11,
    "start_time": "2022-10-26T16:06:59.421Z"
   },
   {
    "duration": 3,
    "start_time": "2022-10-26T16:07:00.912Z"
   },
   {
    "duration": 11,
    "start_time": "2022-10-26T16:07:02.298Z"
   },
   {
    "duration": 20,
    "start_time": "2022-10-26T16:07:03.221Z"
   },
   {
    "duration": 18,
    "start_time": "2022-10-26T16:07:03.646Z"
   },
   {
    "duration": 3,
    "start_time": "2022-10-26T16:07:05.080Z"
   },
   {
    "duration": 10,
    "start_time": "2022-10-26T16:07:05.794Z"
   },
   {
    "duration": 6,
    "start_time": "2022-10-26T16:07:07.070Z"
   },
   {
    "duration": 4,
    "start_time": "2022-10-26T16:07:07.837Z"
   },
   {
    "duration": 9,
    "start_time": "2022-10-26T16:07:08.339Z"
   },
   {
    "duration": 2,
    "start_time": "2022-10-26T16:07:10.297Z"
   },
   {
    "duration": 20,
    "start_time": "2022-10-26T16:08:36.697Z"
   },
   {
    "duration": 20,
    "start_time": "2022-10-26T16:10:06.207Z"
   },
   {
    "duration": 8,
    "start_time": "2022-10-26T16:13:59.249Z"
   },
   {
    "duration": 7,
    "start_time": "2022-10-26T16:15:41.699Z"
   },
   {
    "duration": 5,
    "start_time": "2022-10-26T16:17:54.781Z"
   },
   {
    "duration": 7,
    "start_time": "2022-10-26T16:18:38.914Z"
   },
   {
    "duration": 6,
    "start_time": "2022-10-26T16:20:07.855Z"
   },
   {
    "duration": 71,
    "start_time": "2022-10-26T16:20:51.331Z"
   },
   {
    "duration": 9,
    "start_time": "2022-10-26T16:20:59.216Z"
   },
   {
    "duration": 6,
    "start_time": "2022-10-26T16:21:11.207Z"
   },
   {
    "duration": 8,
    "start_time": "2022-10-26T16:22:50.166Z"
   },
   {
    "duration": 6,
    "start_time": "2022-10-26T16:23:13.632Z"
   },
   {
    "duration": 4,
    "start_time": "2022-10-26T16:31:55.381Z"
   },
   {
    "duration": 11,
    "start_time": "2022-10-26T16:32:06.216Z"
   },
   {
    "duration": 12,
    "start_time": "2022-10-26T16:32:29.260Z"
   },
   {
    "duration": 14,
    "start_time": "2022-10-26T16:33:30.601Z"
   },
   {
    "duration": 12,
    "start_time": "2022-10-26T16:33:42.317Z"
   },
   {
    "duration": 11,
    "start_time": "2022-10-26T16:33:55.768Z"
   },
   {
    "duration": 16,
    "start_time": "2022-10-26T16:41:18.478Z"
   },
   {
    "duration": 12,
    "start_time": "2022-10-26T16:41:52.184Z"
   },
   {
    "duration": 15,
    "start_time": "2022-10-26T16:43:35.679Z"
   },
   {
    "duration": 19,
    "start_time": "2022-10-26T16:45:46.953Z"
   },
   {
    "duration": 12,
    "start_time": "2022-10-26T16:47:19.246Z"
   },
   {
    "duration": 14,
    "start_time": "2022-10-26T16:47:31.972Z"
   },
   {
    "duration": 585,
    "start_time": "2022-10-26T16:48:15.748Z"
   },
   {
    "duration": 15,
    "start_time": "2022-10-26T16:48:25.921Z"
   },
   {
    "duration": 23,
    "start_time": "2022-10-26T16:53:46.422Z"
   },
   {
    "duration": 17,
    "start_time": "2022-10-26T16:54:39.157Z"
   },
   {
    "duration": 16,
    "start_time": "2022-10-26T16:55:10.723Z"
   },
   {
    "duration": 14,
    "start_time": "2022-10-26T16:59:00.649Z"
   },
   {
    "duration": 16,
    "start_time": "2022-10-26T16:59:27.569Z"
   },
   {
    "duration": 19,
    "start_time": "2022-10-26T17:01:27.791Z"
   },
   {
    "duration": 9,
    "start_time": "2022-10-26T17:02:47.933Z"
   },
   {
    "duration": 17,
    "start_time": "2022-10-26T17:02:56.026Z"
   },
   {
    "duration": 13,
    "start_time": "2022-10-26T17:03:30.849Z"
   },
   {
    "duration": 20,
    "start_time": "2022-10-26T17:03:37.920Z"
   },
   {
    "duration": 1042,
    "start_time": "2022-10-27T10:20:41.375Z"
   },
   {
    "duration": 29,
    "start_time": "2022-10-27T10:20:42.418Z"
   },
   {
    "duration": 14,
    "start_time": "2022-10-27T10:20:43.147Z"
   },
   {
    "duration": 15,
    "start_time": "2022-10-27T10:20:44.068Z"
   },
   {
    "duration": 41,
    "start_time": "2022-10-27T10:20:44.503Z"
   },
   {
    "duration": 4,
    "start_time": "2022-10-27T10:20:45.191Z"
   },
   {
    "duration": 7,
    "start_time": "2022-10-27T10:20:45.658Z"
   },
   {
    "duration": 4,
    "start_time": "2022-10-27T10:20:46.343Z"
   },
   {
    "duration": 7,
    "start_time": "2022-10-27T10:20:46.843Z"
   },
   {
    "duration": 4,
    "start_time": "2022-10-27T10:20:47.284Z"
   },
   {
    "duration": 32,
    "start_time": "2022-10-27T10:20:47.957Z"
   },
   {
    "duration": 9,
    "start_time": "2022-10-27T10:20:48.429Z"
   },
   {
    "duration": 4,
    "start_time": "2022-10-27T10:20:49.149Z"
   },
   {
    "duration": 11,
    "start_time": "2022-10-27T10:20:49.849Z"
   },
   {
    "duration": 19,
    "start_time": "2022-10-27T10:20:50.509Z"
   },
   {
    "duration": 18,
    "start_time": "2022-10-27T10:20:50.752Z"
   },
   {
    "duration": 3,
    "start_time": "2022-10-27T10:20:51.475Z"
   },
   {
    "duration": 9,
    "start_time": "2022-10-27T10:20:51.718Z"
   },
   {
    "duration": 6,
    "start_time": "2022-10-27T10:20:52.210Z"
   },
   {
    "duration": 3,
    "start_time": "2022-10-27T10:20:52.675Z"
   },
   {
    "duration": 8,
    "start_time": "2022-10-27T10:20:52.944Z"
   },
   {
    "duration": 7,
    "start_time": "2022-10-27T10:20:53.608Z"
   },
   {
    "duration": 18,
    "start_time": "2022-10-27T10:20:54.344Z"
   },
   {
    "duration": 84,
    "start_time": "2022-10-27T10:29:26.459Z"
   },
   {
    "duration": 15,
    "start_time": "2022-10-27T10:29:54.443Z"
   },
   {
    "duration": 6,
    "start_time": "2022-10-27T10:33:17.308Z"
   },
   {
    "duration": 7,
    "start_time": "2022-10-27T10:33:25.707Z"
   },
   {
    "duration": 7,
    "start_time": "2022-10-27T10:34:39.903Z"
   },
   {
    "duration": 7,
    "start_time": "2022-10-27T10:34:52.415Z"
   },
   {
    "duration": 18,
    "start_time": "2022-10-27T10:36:50.694Z"
   },
   {
    "duration": 8,
    "start_time": "2022-10-27T10:38:19.087Z"
   },
   {
    "duration": 7,
    "start_time": "2022-10-27T10:38:51.110Z"
   },
   {
    "duration": 6,
    "start_time": "2022-10-27T10:39:03.643Z"
   },
   {
    "duration": 14,
    "start_time": "2022-10-27T10:40:17.943Z"
   },
   {
    "duration": 28,
    "start_time": "2022-10-27T10:43:19.945Z"
   },
   {
    "duration": 39,
    "start_time": "2022-10-27T10:43:53.276Z"
   },
   {
    "duration": 31,
    "start_time": "2022-10-27T10:45:08.959Z"
   },
   {
    "duration": 34,
    "start_time": "2022-10-27T10:45:17.040Z"
   },
   {
    "duration": 28,
    "start_time": "2022-10-27T10:45:36.089Z"
   },
   {
    "duration": 26,
    "start_time": "2022-10-27T10:50:14.521Z"
   },
   {
    "duration": 14,
    "start_time": "2022-10-27T10:51:43.294Z"
   },
   {
    "duration": 15,
    "start_time": "2022-10-27T10:51:51.545Z"
   },
   {
    "duration": 23,
    "start_time": "2022-10-27T10:52:08.136Z"
   },
   {
    "duration": 33,
    "start_time": "2022-10-27T10:55:01.629Z"
   },
   {
    "duration": 31,
    "start_time": "2022-10-27T10:55:29.927Z"
   },
   {
    "duration": 28,
    "start_time": "2022-10-27T10:57:36.354Z"
   },
   {
    "duration": 41,
    "start_time": "2022-10-27T10:59:21.442Z"
   },
   {
    "duration": 11,
    "start_time": "2022-10-27T10:59:52.887Z"
   },
   {
    "duration": 7,
    "start_time": "2022-10-27T11:00:44.811Z"
   },
   {
    "duration": 9,
    "start_time": "2022-10-27T11:00:54.838Z"
   },
   {
    "duration": 6,
    "start_time": "2022-10-27T11:17:03.498Z"
   },
   {
    "duration": 6,
    "start_time": "2022-10-27T11:17:12.014Z"
   },
   {
    "duration": 15,
    "start_time": "2022-10-27T11:46:16.488Z"
   },
   {
    "duration": 21,
    "start_time": "2022-10-27T11:46:36.467Z"
   },
   {
    "duration": 30,
    "start_time": "2022-10-27T12:12:46.463Z"
   },
   {
    "duration": 31,
    "start_time": "2022-10-27T12:13:22.269Z"
   },
   {
    "duration": 24,
    "start_time": "2022-10-27T12:14:02.277Z"
   },
   {
    "duration": 15,
    "start_time": "2022-10-27T12:14:09.429Z"
   },
   {
    "duration": 14,
    "start_time": "2022-10-27T12:14:17.669Z"
   },
   {
    "duration": 12,
    "start_time": "2022-10-27T12:14:31.806Z"
   },
   {
    "duration": 10,
    "start_time": "2022-10-27T12:15:03.562Z"
   },
   {
    "duration": 10,
    "start_time": "2022-10-27T12:15:13.154Z"
   },
   {
    "duration": 7,
    "start_time": "2022-10-27T12:15:28.478Z"
   },
   {
    "duration": 18,
    "start_time": "2022-10-27T12:22:08.012Z"
   },
   {
    "duration": 19,
    "start_time": "2022-10-27T12:22:10.994Z"
   },
   {
    "duration": 23,
    "start_time": "2022-10-27T12:22:44.367Z"
   },
   {
    "duration": 20,
    "start_time": "2022-10-27T12:24:47.314Z"
   },
   {
    "duration": 8,
    "start_time": "2022-10-27T12:24:49.310Z"
   },
   {
    "duration": 484,
    "start_time": "2022-10-27T13:54:02.909Z"
   },
   {
    "duration": 23,
    "start_time": "2022-10-27T13:54:03.395Z"
   },
   {
    "duration": 33,
    "start_time": "2022-10-27T13:54:03.420Z"
   },
   {
    "duration": 11,
    "start_time": "2022-10-27T13:54:03.455Z"
   },
   {
    "duration": 40,
    "start_time": "2022-10-27T13:54:03.467Z"
   },
   {
    "duration": 4,
    "start_time": "2022-10-27T13:54:03.508Z"
   },
   {
    "duration": 51,
    "start_time": "2022-10-27T13:54:03.513Z"
   },
   {
    "duration": 5,
    "start_time": "2022-10-27T13:54:03.565Z"
   },
   {
    "duration": 15,
    "start_time": "2022-10-27T13:54:03.571Z"
   },
   {
    "duration": 4,
    "start_time": "2022-10-27T13:54:03.588Z"
   },
   {
    "duration": 36,
    "start_time": "2022-10-27T13:54:03.594Z"
   },
   {
    "duration": 13,
    "start_time": "2022-10-27T13:54:03.632Z"
   },
   {
    "duration": 13,
    "start_time": "2022-10-27T13:54:03.647Z"
   },
   {
    "duration": 13,
    "start_time": "2022-10-27T13:54:03.661Z"
   },
   {
    "duration": 23,
    "start_time": "2022-10-27T13:54:03.676Z"
   },
   {
    "duration": 16,
    "start_time": "2022-10-27T13:54:03.701Z"
   },
   {
    "duration": 22,
    "start_time": "2022-10-27T13:54:03.718Z"
   },
   {
    "duration": 32,
    "start_time": "2022-10-27T13:54:03.742Z"
   },
   {
    "duration": 7,
    "start_time": "2022-10-27T13:54:03.776Z"
   },
   {
    "duration": 4,
    "start_time": "2022-10-27T13:54:03.785Z"
   },
   {
    "duration": 12,
    "start_time": "2022-10-27T13:54:03.791Z"
   },
   {
    "duration": 7,
    "start_time": "2022-10-27T13:54:03.806Z"
   },
   {
    "duration": 41,
    "start_time": "2022-10-27T13:54:03.814Z"
   },
   {
    "duration": 23,
    "start_time": "2022-10-27T13:54:03.856Z"
   },
   {
    "duration": 8,
    "start_time": "2022-10-27T13:54:03.881Z"
   },
   {
    "duration": 9,
    "start_time": "2022-10-27T13:54:03.891Z"
   },
   {
    "duration": 56,
    "start_time": "2022-10-27T13:54:03.901Z"
   },
   {
    "duration": 42,
    "start_time": "2022-10-28T08:34:03.334Z"
   },
   {
    "duration": 483,
    "start_time": "2022-10-28T08:34:14.728Z"
   },
   {
    "duration": 21,
    "start_time": "2022-10-28T08:34:15.244Z"
   },
   {
    "duration": 13,
    "start_time": "2022-10-28T08:34:15.732Z"
   },
   {
    "duration": 9,
    "start_time": "2022-10-28T08:34:16.677Z"
   },
   {
    "duration": 31,
    "start_time": "2022-10-28T08:34:17.163Z"
   },
   {
    "duration": 4,
    "start_time": "2022-10-28T08:34:18.060Z"
   },
   {
    "duration": 8,
    "start_time": "2022-10-28T08:34:18.549Z"
   },
   {
    "duration": 4,
    "start_time": "2022-10-28T08:34:19.267Z"
   },
   {
    "duration": 7,
    "start_time": "2022-10-28T08:34:19.782Z"
   },
   {
    "duration": 4,
    "start_time": "2022-10-28T08:34:20.207Z"
   },
   {
    "duration": 29,
    "start_time": "2022-10-28T08:34:20.918Z"
   },
   {
    "duration": 9,
    "start_time": "2022-10-28T08:34:21.383Z"
   },
   {
    "duration": 4,
    "start_time": "2022-10-28T08:34:22.070Z"
   },
   {
    "duration": 10,
    "start_time": "2022-10-28T08:34:22.808Z"
   },
   {
    "duration": 18,
    "start_time": "2022-10-28T08:34:23.331Z"
   },
   {
    "duration": 16,
    "start_time": "2022-10-28T08:34:23.540Z"
   },
   {
    "duration": 3,
    "start_time": "2022-10-28T08:34:24.299Z"
   },
   {
    "duration": 9,
    "start_time": "2022-10-28T08:34:24.552Z"
   },
   {
    "duration": 6,
    "start_time": "2022-10-28T08:34:25.041Z"
   },
   {
    "duration": 3,
    "start_time": "2022-10-28T08:34:25.582Z"
   },
   {
    "duration": 8,
    "start_time": "2022-10-28T08:34:25.813Z"
   },
   {
    "duration": 7,
    "start_time": "2022-10-28T08:34:26.567Z"
   },
   {
    "duration": 37,
    "start_time": "2022-10-28T08:34:26.794Z"
   },
   {
    "duration": 7,
    "start_time": "2022-10-28T08:42:45.581Z"
   },
   {
    "duration": 14,
    "start_time": "2022-10-28T08:43:03.374Z"
   },
   {
    "duration": 14,
    "start_time": "2022-10-28T08:43:09.302Z"
   },
   {
    "duration": 870,
    "start_time": "2022-10-28T08:45:53.629Z"
   },
   {
    "duration": 839,
    "start_time": "2022-10-28T08:46:09.078Z"
   },
   {
    "duration": 10,
    "start_time": "2022-10-28T08:46:15.151Z"
   },
   {
    "duration": 15,
    "start_time": "2022-10-28T08:46:26.834Z"
   },
   {
    "duration": 17,
    "start_time": "2022-10-28T08:48:11.364Z"
   },
   {
    "duration": 20,
    "start_time": "2022-10-28T08:48:29.044Z"
   },
   {
    "duration": 19,
    "start_time": "2022-10-28T08:49:28.899Z"
   },
   {
    "duration": 25,
    "start_time": "2022-10-28T08:51:49.450Z"
   },
   {
    "duration": 23,
    "start_time": "2022-10-28T08:52:08.856Z"
   },
   {
    "duration": 19,
    "start_time": "2022-10-28T08:54:33.034Z"
   },
   {
    "duration": 46,
    "start_time": "2022-10-28T08:59:16.187Z"
   },
   {
    "duration": 10,
    "start_time": "2022-10-28T09:03:41.104Z"
   },
   {
    "duration": 14,
    "start_time": "2022-10-28T09:03:57.370Z"
   },
   {
    "duration": 15,
    "start_time": "2022-10-28T09:04:19.487Z"
   },
   {
    "duration": 15,
    "start_time": "2022-10-28T09:04:39.853Z"
   },
   {
    "duration": 19,
    "start_time": "2022-10-28T09:04:47.556Z"
   },
   {
    "duration": 15,
    "start_time": "2022-10-28T09:06:09.270Z"
   },
   {
    "duration": 30,
    "start_time": "2022-10-28T09:07:25.738Z"
   },
   {
    "duration": 17,
    "start_time": "2022-10-28T09:08:17.636Z"
   },
   {
    "duration": 20,
    "start_time": "2022-10-28T09:08:31.469Z"
   },
   {
    "duration": 310,
    "start_time": "2022-10-28T09:09:49.740Z"
   },
   {
    "duration": 11,
    "start_time": "2022-10-28T09:11:59.665Z"
   },
   {
    "duration": 15,
    "start_time": "2022-10-28T09:12:13.706Z"
   },
   {
    "duration": 20,
    "start_time": "2022-10-28T09:13:47.215Z"
   },
   {
    "duration": 27,
    "start_time": "2022-10-28T09:13:56.872Z"
   },
   {
    "duration": 9,
    "start_time": "2022-10-28T09:14:55.988Z"
   },
   {
    "duration": 22,
    "start_time": "2022-10-28T09:15:02.771Z"
   },
   {
    "duration": 20,
    "start_time": "2022-10-28T10:03:14.768Z"
   },
   {
    "duration": 26,
    "start_time": "2022-10-28T10:06:04.632Z"
   },
   {
    "duration": 30,
    "start_time": "2022-10-28T10:08:59.902Z"
   },
   {
    "duration": 29,
    "start_time": "2022-10-28T10:10:38.447Z"
   },
   {
    "duration": 4,
    "start_time": "2022-10-28T10:21:48.585Z"
   },
   {
    "duration": 1188,
    "start_time": "2022-10-28T10:24:01.816Z"
   },
   {
    "duration": 8,
    "start_time": "2022-10-28T10:24:15.601Z"
   },
   {
    "duration": 25,
    "start_time": "2022-10-28T10:24:21.332Z"
   },
   {
    "duration": 11,
    "start_time": "2022-10-28T10:24:58.635Z"
   },
   {
    "duration": 16,
    "start_time": "2022-10-28T10:25:01.198Z"
   },
   {
    "duration": 1254,
    "start_time": "2022-10-28T10:25:13.120Z"
   },
   {
    "duration": 614,
    "start_time": "2022-10-28T10:25:34.384Z"
   },
   {
    "duration": 11,
    "start_time": "2022-10-28T10:25:50.717Z"
   },
   {
    "duration": 901,
    "start_time": "2022-10-28T10:26:18.626Z"
   },
   {
    "duration": 14,
    "start_time": "2022-10-28T10:26:46.447Z"
   },
   {
    "duration": 19,
    "start_time": "2022-10-28T10:26:49.133Z"
   },
   {
    "duration": 20,
    "start_time": "2022-10-28T10:30:49.720Z"
   },
   {
    "duration": 1462,
    "start_time": "2022-10-28T10:31:03.592Z"
   },
   {
    "duration": 13,
    "start_time": "2022-10-28T10:32:40.532Z"
   },
   {
    "duration": 27,
    "start_time": "2022-10-28T10:32:50.567Z"
   },
   {
    "duration": 4,
    "start_time": "2022-10-28T10:33:43.669Z"
   },
   {
    "duration": 23,
    "start_time": "2022-10-28T10:33:44.270Z"
   },
   {
    "duration": 4,
    "start_time": "2022-10-28T10:34:32.652Z"
   },
   {
    "duration": 5,
    "start_time": "2022-10-28T10:34:36.926Z"
   },
   {
    "duration": 5,
    "start_time": "2022-10-28T10:36:44.584Z"
   },
   {
    "duration": 3,
    "start_time": "2022-10-28T10:36:45.736Z"
   },
   {
    "duration": 4,
    "start_time": "2022-10-28T10:38:10.652Z"
   },
   {
    "duration": 5,
    "start_time": "2022-10-28T10:38:11.227Z"
   },
   {
    "duration": 12,
    "start_time": "2022-10-28T10:39:11.802Z"
   },
   {
    "duration": 13,
    "start_time": "2022-10-28T10:39:13.202Z"
   },
   {
    "duration": 21,
    "start_time": "2022-10-28T10:39:33.051Z"
   },
   {
    "duration": 5,
    "start_time": "2022-10-28T10:39:56.086Z"
   },
   {
    "duration": 8,
    "start_time": "2022-10-28T10:41:39.163Z"
   },
   {
    "duration": 11,
    "start_time": "2022-10-28T10:41:55.424Z"
   },
   {
    "duration": 7,
    "start_time": "2022-10-28T10:42:04.730Z"
   },
   {
    "duration": 4,
    "start_time": "2022-10-28T10:43:46.163Z"
   },
   {
    "duration": 6,
    "start_time": "2022-10-28T10:43:48.737Z"
   },
   {
    "duration": 89,
    "start_time": "2022-10-28T10:45:57.338Z"
   },
   {
    "duration": 10,
    "start_time": "2022-10-28T10:45:57.831Z"
   },
   {
    "duration": 118,
    "start_time": "2022-10-28T10:46:20.655Z"
   },
   {
    "duration": 3,
    "start_time": "2022-10-28T10:47:34.989Z"
   },
   {
    "duration": 5,
    "start_time": "2022-10-28T10:47:36.190Z"
   },
   {
    "duration": 5,
    "start_time": "2022-10-28T10:48:57.805Z"
   },
   {
    "duration": 15,
    "start_time": "2022-10-28T10:48:58.821Z"
   },
   {
    "duration": 4,
    "start_time": "2022-10-28T10:49:28.866Z"
   },
   {
    "duration": 10,
    "start_time": "2022-10-28T10:49:29.490Z"
   },
   {
    "duration": 10,
    "start_time": "2022-10-28T10:50:22.358Z"
   },
   {
    "duration": 870,
    "start_time": "2022-10-28T10:50:43.176Z"
   },
   {
    "duration": 15,
    "start_time": "2022-10-28T10:50:52.543Z"
   },
   {
    "duration": 20,
    "start_time": "2022-10-28T10:51:27.732Z"
   },
   {
    "duration": 15,
    "start_time": "2022-10-28T10:51:43.255Z"
   },
   {
    "duration": 17,
    "start_time": "2022-10-28T10:51:47.569Z"
   },
   {
    "duration": 15,
    "start_time": "2022-10-28T10:52:18.659Z"
   },
   {
    "duration": 44,
    "start_time": "2022-10-28T10:53:56.311Z"
   },
   {
    "duration": 1176,
    "start_time": "2022-10-28T10:54:49.600Z"
   },
   {
    "duration": 24,
    "start_time": "2022-10-28T10:55:12.431Z"
   },
   {
    "duration": 10,
    "start_time": "2022-10-28T10:55:56.244Z"
   },
   {
    "duration": 16,
    "start_time": "2022-10-28T10:56:46.845Z"
   },
   {
    "duration": 4,
    "start_time": "2022-10-28T10:57:34.943Z"
   },
   {
    "duration": 14,
    "start_time": "2022-10-28T10:57:35.594Z"
   },
   {
    "duration": 4,
    "start_time": "2022-10-28T10:58:32.176Z"
   },
   {
    "duration": 14,
    "start_time": "2022-10-28T10:58:32.778Z"
   },
   {
    "duration": 4,
    "start_time": "2022-10-28T10:58:53.892Z"
   },
   {
    "duration": 17,
    "start_time": "2022-10-28T10:58:54.796Z"
   },
   {
    "duration": 7,
    "start_time": "2022-10-28T10:59:21.233Z"
   },
   {
    "duration": 26,
    "start_time": "2022-10-28T10:59:21.795Z"
   },
   {
    "duration": 4,
    "start_time": "2022-10-28T10:59:37.688Z"
   },
   {
    "duration": 24,
    "start_time": "2022-10-28T10:59:37.715Z"
   },
   {
    "duration": 11,
    "start_time": "2022-10-28T10:59:55.944Z"
   },
   {
    "duration": 13,
    "start_time": "2022-10-28T11:01:32.376Z"
   },
   {
    "duration": 25,
    "start_time": "2022-10-28T11:10:54.700Z"
   },
   {
    "duration": 15,
    "start_time": "2022-10-28T11:26:16.328Z"
   },
   {
    "duration": 3,
    "start_time": "2022-10-28T11:26:20.442Z"
   },
   {
    "duration": 14,
    "start_time": "2022-10-28T11:26:21.752Z"
   },
   {
    "duration": 143,
    "start_time": "2022-10-28T11:28:01.602Z"
   },
   {
    "duration": 157,
    "start_time": "2022-10-28T11:28:08.285Z"
   },
   {
    "duration": 12,
    "start_time": "2022-10-28T11:28:35.502Z"
   },
   {
    "duration": 14,
    "start_time": "2022-10-28T11:28:36.795Z"
   },
   {
    "duration": 5,
    "start_time": "2022-10-28T11:29:02.180Z"
   },
   {
    "duration": 13,
    "start_time": "2022-10-28T11:29:03.322Z"
   },
   {
    "duration": 4,
    "start_time": "2022-10-28T11:29:17.297Z"
   },
   {
    "duration": 177,
    "start_time": "2022-10-28T11:29:25.270Z"
   },
   {
    "duration": 186,
    "start_time": "2022-10-28T11:29:41.852Z"
   },
   {
    "duration": 151,
    "start_time": "2022-10-28T11:30:28.289Z"
   },
   {
    "duration": 129,
    "start_time": "2022-10-28T11:31:55.317Z"
   },
   {
    "duration": 171,
    "start_time": "2022-10-28T11:32:37.327Z"
   },
   {
    "duration": 135,
    "start_time": "2022-10-28T11:34:40.467Z"
   },
   {
    "duration": 133,
    "start_time": "2022-10-28T11:35:34.301Z"
   },
   {
    "duration": 126,
    "start_time": "2022-10-28T11:35:51.129Z"
   },
   {
    "duration": 159,
    "start_time": "2022-10-28T11:36:50.220Z"
   },
   {
    "duration": 160,
    "start_time": "2022-10-28T11:36:57.981Z"
   },
   {
    "duration": 148,
    "start_time": "2022-10-28T11:38:18.015Z"
   },
   {
    "duration": 134,
    "start_time": "2022-10-28T11:38:26.128Z"
   },
   {
    "duration": 142,
    "start_time": "2022-10-28T11:38:35.249Z"
   },
   {
    "duration": 3,
    "start_time": "2022-10-28T11:39:55.784Z"
   },
   {
    "duration": 242,
    "start_time": "2022-10-28T11:39:57.452Z"
   },
   {
    "duration": 149,
    "start_time": "2022-10-28T11:40:11.035Z"
   },
   {
    "duration": 24,
    "start_time": "2022-10-28T11:42:16.902Z"
   },
   {
    "duration": 20,
    "start_time": "2022-10-28T11:42:42.469Z"
   },
   {
    "duration": 23,
    "start_time": "2022-10-28T11:42:54.287Z"
   },
   {
    "duration": 29,
    "start_time": "2022-10-28T11:43:06.088Z"
   },
   {
    "duration": 1674,
    "start_time": "2022-10-28T11:47:43.736Z"
   },
   {
    "duration": 28,
    "start_time": "2022-10-28T11:48:19.487Z"
   },
   {
    "duration": 7,
    "start_time": "2022-10-28T11:52:00.929Z"
   },
   {
    "duration": 14,
    "start_time": "2022-10-28T11:53:24.844Z"
   },
   {
    "duration": 7,
    "start_time": "2022-10-28T11:54:09.333Z"
   },
   {
    "duration": 8,
    "start_time": "2022-10-28T11:55:11.291Z"
   },
   {
    "duration": 10,
    "start_time": "2022-10-28T11:55:35.837Z"
   },
   {
    "duration": 10,
    "start_time": "2022-10-28T11:55:43.401Z"
   },
   {
    "duration": 8,
    "start_time": "2022-10-28T11:56:00.560Z"
   },
   {
    "duration": 14,
    "start_time": "2022-10-28T11:58:49.239Z"
   },
   {
    "duration": 13,
    "start_time": "2022-10-28T11:59:03.818Z"
   },
   {
    "duration": 16,
    "start_time": "2022-10-28T12:00:29.261Z"
   },
   {
    "duration": 12,
    "start_time": "2022-10-28T12:01:00.643Z"
   },
   {
    "duration": 15,
    "start_time": "2022-10-28T12:02:00.344Z"
   },
   {
    "duration": 15,
    "start_time": "2022-10-28T12:02:28.475Z"
   },
   {
    "duration": 20,
    "start_time": "2022-10-28T12:02:44.994Z"
   },
   {
    "duration": 4,
    "start_time": "2022-10-28T12:02:56.075Z"
   },
   {
    "duration": 251,
    "start_time": "2022-10-28T12:02:58.755Z"
   },
   {
    "duration": 23,
    "start_time": "2022-10-28T12:03:02.961Z"
   },
   {
    "duration": 135,
    "start_time": "2022-10-28T12:05:59.719Z"
   },
   {
    "duration": 15,
    "start_time": "2022-10-28T12:07:12.770Z"
   },
   {
    "duration": 21,
    "start_time": "2022-10-28T12:10:45.232Z"
   },
   {
    "duration": 20,
    "start_time": "2022-10-28T12:11:00.174Z"
   },
   {
    "duration": 20,
    "start_time": "2022-10-28T12:11:09.028Z"
   },
   {
    "duration": 21,
    "start_time": "2022-10-28T12:11:33.703Z"
   },
   {
    "duration": 20,
    "start_time": "2022-10-28T12:11:41.725Z"
   },
   {
    "duration": 5,
    "start_time": "2022-10-28T12:12:51.096Z"
   },
   {
    "duration": 97,
    "start_time": "2022-10-28T12:13:08.781Z"
   },
   {
    "duration": 22,
    "start_time": "2022-10-28T12:13:09.304Z"
   },
   {
    "duration": 15,
    "start_time": "2022-10-28T12:13:09.846Z"
   },
   {
    "duration": 9,
    "start_time": "2022-10-28T12:13:10.941Z"
   },
   {
    "duration": 29,
    "start_time": "2022-10-28T12:13:11.458Z"
   },
   {
    "duration": 3,
    "start_time": "2022-10-28T12:13:12.360Z"
   },
   {
    "duration": 7,
    "start_time": "2022-10-28T12:13:12.945Z"
   },
   {
    "duration": 4,
    "start_time": "2022-10-28T12:13:13.793Z"
   },
   {
    "duration": 10,
    "start_time": "2022-10-28T12:13:14.415Z"
   },
   {
    "duration": 5,
    "start_time": "2022-10-28T12:13:15.035Z"
   },
   {
    "duration": 46,
    "start_time": "2022-10-28T12:13:16.193Z"
   },
   {
    "duration": 10,
    "start_time": "2022-10-28T12:13:16.843Z"
   },
   {
    "duration": 6,
    "start_time": "2022-10-28T12:13:17.906Z"
   },
   {
    "duration": 9,
    "start_time": "2022-10-28T12:13:19.176Z"
   },
   {
    "duration": 18,
    "start_time": "2022-10-28T12:13:20.077Z"
   },
   {
    "duration": 16,
    "start_time": "2022-10-28T12:13:20.750Z"
   },
   {
    "duration": 3,
    "start_time": "2022-10-28T12:13:21.562Z"
   },
   {
    "duration": 9,
    "start_time": "2022-10-28T12:13:21.785Z"
   },
   {
    "duration": 11,
    "start_time": "2022-10-28T12:13:22.724Z"
   },
   {
    "duration": 3,
    "start_time": "2022-10-28T12:13:23.457Z"
   },
   {
    "duration": 8,
    "start_time": "2022-10-28T12:13:23.760Z"
   },
   {
    "duration": 21,
    "start_time": "2022-10-28T12:13:25.404Z"
   },
   {
    "duration": 21,
    "start_time": "2022-10-28T12:13:29.461Z"
   },
   {
    "duration": 29,
    "start_time": "2022-10-28T12:13:39.829Z"
   },
   {
    "duration": 23,
    "start_time": "2022-10-28T12:13:42.650Z"
   },
   {
    "duration": 20,
    "start_time": "2022-10-28T12:13:52.146Z"
   },
   {
    "duration": 21,
    "start_time": "2022-10-28T12:13:59.345Z"
   },
   {
    "duration": 29,
    "start_time": "2022-10-28T12:14:07.537Z"
   },
   {
    "duration": 5,
    "start_time": "2022-10-28T12:14:10.439Z"
   },
   {
    "duration": 7,
    "start_time": "2022-10-28T12:14:59.231Z"
   },
   {
    "duration": 7,
    "start_time": "2022-10-28T12:15:33.579Z"
   },
   {
    "duration": 8,
    "start_time": "2022-10-28T12:15:45.278Z"
   },
   {
    "duration": 10,
    "start_time": "2022-10-28T12:15:55.703Z"
   },
   {
    "duration": 28,
    "start_time": "2022-10-28T12:17:13.596Z"
   },
   {
    "duration": 4,
    "start_time": "2022-10-28T12:17:21.555Z"
   },
   {
    "duration": 142,
    "start_time": "2022-10-28T12:17:24.055Z"
   },
   {
    "duration": 22,
    "start_time": "2022-10-28T12:17:25.563Z"
   },
   {
    "duration": 18,
    "start_time": "2022-10-28T12:23:41.853Z"
   },
   {
    "duration": 14,
    "start_time": "2022-10-28T12:50:00.583Z"
   },
   {
    "duration": 4,
    "start_time": "2022-10-28T12:51:35.469Z"
   },
   {
    "duration": 168,
    "start_time": "2022-10-28T12:51:37.371Z"
   },
   {
    "duration": 23,
    "start_time": "2022-10-28T12:51:40.101Z"
   }
  ],
  "colab": {
   "name": "dpp_template_part2.ipynb",
   "provenance": []
  },
  "kernelspec": {
   "display_name": "Python 3 (ipykernel)",
   "language": "python",
   "name": "python3"
  },
  "language_info": {
   "codemirror_mode": {
    "name": "ipython",
    "version": 3
   },
   "file_extension": ".py",
   "mimetype": "text/x-python",
   "name": "python",
   "nbconvert_exporter": "python",
   "pygments_lexer": "ipython3",
   "version": "3.9.13"
  },
  "toc": {
   "base_numbering": 1,
   "nav_menu": {},
   "number_sections": true,
   "sideBar": true,
   "skip_h1_title": true,
   "title_cell": "Table of Contents",
   "title_sidebar": "Contents",
   "toc_cell": false,
   "toc_position": {
    "height": "calc(100% - 180px)",
    "left": "10px",
    "top": "150px",
    "width": "165px"
   },
   "toc_section_display": true,
   "toc_window_display": true
  }
 },
 "nbformat": 4,
 "nbformat_minor": 5
}
