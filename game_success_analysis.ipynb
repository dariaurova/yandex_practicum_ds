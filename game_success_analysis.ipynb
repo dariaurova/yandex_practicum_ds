{
 "cells": [
  {
   "cell_type": "markdown",
   "metadata": {},
   "source": [
    "# Исследование закономерностей, определяющих успешность игры\n"
   ]
  },
  {
   "cell_type": "markdown",
   "metadata": {},
   "source": [
    "# Задачи проекта\n",
    "Используя исторические данные о продажах компьютерных игр, оценки пользователей и экспертов, жанры и платформы, выявить закономерности, определяющие успешность игры \n",
    "# Выводы по проекту\n",
    "Выявлены параметры, определяющие успешность игры в разных регионах мира. На основании этого подготовлен отчет для магазина компьютерных игр для планирования рекламных кампаний. Проведена предобработка данных, анализ. Выбран актуальный период для анализа. Составлены портреты пользователей каждого региона. Проверены гипотезы: средние пользовательские рейтинги платформ Xbox One и PC одинаковые;\n",
    "средние пользовательские рейтинги жанров Action и Sports разные. При анализе использовал критерий Стьюдента для независимых выборок.\n",
    "# Описание проекта\n",
    "Вы работаете в интернет-магазине «Стримчик», который продаёт по всему миру компьютерные игры. Из открытых источников доступны исторические данные о продажах игр, оценки пользователей и экспертов, жанры и платформы (например, Xbox или PlayStation). Вам нужно выявить определяющие успешность игры закономерности. Это позволит сделать ставку на потенциально популярный продукт и спланировать рекламные кампании.\n",
    "Перед вами данные до 2016 года. Представим, что сейчас декабрь 2016 г., и вы планируете кампанию на 2017-й. Нужно отработать принцип работы с данными. Неважно, прогнозируете ли вы продажи на 2017 год по данным 2016-го или же 2027-й — по данным 2026 года.\n",
    "В наборе данных попадается аббревиатура ESRB (Entertainment Software Rating Board) — это ассоциация, определяющая возрастной рейтинг компьютерных игр. ESRB оценивает игровой контент и присваивает ему подходящую возрастную категорию, например, «Для взрослых», «Для детей младшего возраста» или «Для подростков».\n",
    "Инструкция по выполнению проекта\n",
    "\n",
    "Описание данных\n",
    "\n",
    "    Name — название игры\n",
    "    Platform — платформа\n",
    "    Year_of_Release — год выпуска\n",
    "    Genre — жанр игры\n",
    "    NA_sales — продажи в Северной Америке (миллионы проданных копий)\n",
    "    EU_sales — продажи в Европе (миллионы проданных копий)\n",
    "    JP_sales — продажи в Японии (миллионы проданных копий)\n",
    "    Other_sales — продажи в других странах (миллионы проданных копий)\n",
    "    Critic_Score — оценка критиков (максимум 100)\n",
    "    User_Score — оценка пользователей (максимум 10)\n",
    "    Rating — рейтинг от организации ESRB (англ. Entertainment Software Rating Board). Эта ассоциация определяет рейтинг компьютерных игр и присваивает им подходящую возрастную категорию.\n",
    "\n",
    "Данные за 2016 год могут быть неполными"
   ]
  },
  {
   "cell_type": "markdown",
   "metadata": {},
   "source": [
    "### Файл с данными, общая информация. "
   ]
  },
  {
   "cell_type": "code",
   "execution_count": 1,
   "metadata": {},
   "outputs": [],
   "source": [
    "import pandas as pd\n",
    "import matplotlib.pyplot as plt\n",
    "import numpy as np\n",
    "import seaborn as sns\n",
    "from scipy import stats as st"
   ]
  },
  {
   "cell_type": "code",
   "execution_count": 2,
   "metadata": {},
   "outputs": [
    {
     "name": "stdout",
     "output_type": "stream",
     "text": [
      "<class 'pandas.core.frame.DataFrame'>\n",
      "RangeIndex: 16715 entries, 0 to 16714\n",
      "Data columns (total 11 columns):\n",
      " #   Column           Non-Null Count  Dtype  \n",
      "---  ------           --------------  -----  \n",
      " 0   Name             16713 non-null  object \n",
      " 1   Platform         16715 non-null  object \n",
      " 2   Year_of_Release  16446 non-null  float64\n",
      " 3   Genre            16713 non-null  object \n",
      " 4   NA_sales         16715 non-null  float64\n",
      " 5   EU_sales         16715 non-null  float64\n",
      " 6   JP_sales         16715 non-null  float64\n",
      " 7   Other_sales      16715 non-null  float64\n",
      " 8   Critic_Score     8137 non-null   float64\n",
      " 9   User_Score       10014 non-null  object \n",
      " 10  Rating           9949 non-null   object \n",
      "dtypes: float64(6), object(5)\n",
      "memory usage: 1.4+ MB\n"
     ]
    },
    {
     "data": {
      "text/html": [
       "<div>\n",
       "<style scoped>\n",
       "    .dataframe tbody tr th:only-of-type {\n",
       "        vertical-align: middle;\n",
       "    }\n",
       "\n",
       "    .dataframe tbody tr th {\n",
       "        vertical-align: top;\n",
       "    }\n",
       "\n",
       "    .dataframe thead th {\n",
       "        text-align: right;\n",
       "    }\n",
       "</style>\n",
       "<table border=\"1\" class=\"dataframe\">\n",
       "  <thead>\n",
       "    <tr style=\"text-align: right;\">\n",
       "      <th></th>\n",
       "      <th>Name</th>\n",
       "      <th>Platform</th>\n",
       "      <th>Year_of_Release</th>\n",
       "      <th>Genre</th>\n",
       "      <th>NA_sales</th>\n",
       "      <th>EU_sales</th>\n",
       "      <th>JP_sales</th>\n",
       "      <th>Other_sales</th>\n",
       "      <th>Critic_Score</th>\n",
       "      <th>User_Score</th>\n",
       "      <th>Rating</th>\n",
       "    </tr>\n",
       "  </thead>\n",
       "  <tbody>\n",
       "    <tr>\n",
       "      <th>0</th>\n",
       "      <td>Wii Sports</td>\n",
       "      <td>Wii</td>\n",
       "      <td>2006.0</td>\n",
       "      <td>Sports</td>\n",
       "      <td>41.36</td>\n",
       "      <td>28.96</td>\n",
       "      <td>3.77</td>\n",
       "      <td>8.45</td>\n",
       "      <td>76.0</td>\n",
       "      <td>8</td>\n",
       "      <td>E</td>\n",
       "    </tr>\n",
       "    <tr>\n",
       "      <th>1</th>\n",
       "      <td>Super Mario Bros.</td>\n",
       "      <td>NES</td>\n",
       "      <td>1985.0</td>\n",
       "      <td>Platform</td>\n",
       "      <td>29.08</td>\n",
       "      <td>3.58</td>\n",
       "      <td>6.81</td>\n",
       "      <td>0.77</td>\n",
       "      <td>NaN</td>\n",
       "      <td>NaN</td>\n",
       "      <td>NaN</td>\n",
       "    </tr>\n",
       "    <tr>\n",
       "      <th>2</th>\n",
       "      <td>Mario Kart Wii</td>\n",
       "      <td>Wii</td>\n",
       "      <td>2008.0</td>\n",
       "      <td>Racing</td>\n",
       "      <td>15.68</td>\n",
       "      <td>12.76</td>\n",
       "      <td>3.79</td>\n",
       "      <td>3.29</td>\n",
       "      <td>82.0</td>\n",
       "      <td>8.3</td>\n",
       "      <td>E</td>\n",
       "    </tr>\n",
       "    <tr>\n",
       "      <th>3</th>\n",
       "      <td>Wii Sports Resort</td>\n",
       "      <td>Wii</td>\n",
       "      <td>2009.0</td>\n",
       "      <td>Sports</td>\n",
       "      <td>15.61</td>\n",
       "      <td>10.93</td>\n",
       "      <td>3.28</td>\n",
       "      <td>2.95</td>\n",
       "      <td>80.0</td>\n",
       "      <td>8</td>\n",
       "      <td>E</td>\n",
       "    </tr>\n",
       "    <tr>\n",
       "      <th>4</th>\n",
       "      <td>Pokemon Red/Pokemon Blue</td>\n",
       "      <td>GB</td>\n",
       "      <td>1996.0</td>\n",
       "      <td>Role-Playing</td>\n",
       "      <td>11.27</td>\n",
       "      <td>8.89</td>\n",
       "      <td>10.22</td>\n",
       "      <td>1.00</td>\n",
       "      <td>NaN</td>\n",
       "      <td>NaN</td>\n",
       "      <td>NaN</td>\n",
       "    </tr>\n",
       "  </tbody>\n",
       "</table>\n",
       "</div>"
      ],
      "text/plain": [
       "                       Name Platform  Year_of_Release         Genre  NA_sales  \\\n",
       "0                Wii Sports      Wii           2006.0        Sports     41.36   \n",
       "1         Super Mario Bros.      NES           1985.0      Platform     29.08   \n",
       "2            Mario Kart Wii      Wii           2008.0        Racing     15.68   \n",
       "3         Wii Sports Resort      Wii           2009.0        Sports     15.61   \n",
       "4  Pokemon Red/Pokemon Blue       GB           1996.0  Role-Playing     11.27   \n",
       "\n",
       "   EU_sales  JP_sales  Other_sales  Critic_Score User_Score Rating  \n",
       "0     28.96      3.77         8.45          76.0          8      E  \n",
       "1      3.58      6.81         0.77           NaN        NaN    NaN  \n",
       "2     12.76      3.79         3.29          82.0        8.3      E  \n",
       "3     10.93      3.28         2.95          80.0          8      E  \n",
       "4      8.89     10.22         1.00           NaN        NaN    NaN  "
      ]
     },
     "execution_count": 2,
     "metadata": {},
     "output_type": "execute_result"
    }
   ],
   "source": [
    "data = pd.read_csv('/datasets/games.csv')\n",
    "data.info()\n",
    "data.head()"
   ]
  },
  {
   "cell_type": "markdown",
   "metadata": {},
   "source": [
    "<div class=\"alert alert-block alert-info\">\n",
    "<b> На первый взгляд отметим некорректное название столбцов, в данных есть пропуски. Больше всего пропусков в столбцах 'Critic_Score', 'User_Score', 'Rating'"
   ]
  },
  {
   "cell_type": "markdown",
   "metadata": {},
   "source": [
    "### Предобработка данных"
   ]
  },
  {
   "cell_type": "markdown",
   "metadata": {},
   "source": [
    "#### Приведем название столбцов к нижнему регистру"
   ]
  },
  {
   "cell_type": "code",
   "execution_count": 3,
   "metadata": {},
   "outputs": [
    {
     "data": {
      "text/plain": [
       "Index(['name', 'platform', 'year_of_release', 'genre', 'na_sales', 'eu_sales',\n",
       "       'jp_sales', 'other_sales', 'critic_score', 'user_score', 'rating'],\n",
       "      dtype='object')"
      ]
     },
     "execution_count": 3,
     "metadata": {},
     "output_type": "execute_result"
    }
   ],
   "source": [
    "data.columns = data.columns.str.lower()\n",
    "data.columns"
   ]
  },
  {
   "cell_type": "markdown",
   "metadata": {},
   "source": [
    "#### Типы данных"
   ]
  },
  {
   "cell_type": "code",
   "execution_count": 4,
   "metadata": {},
   "outputs": [
    {
     "data": {
      "text/plain": [
       "name                object\n",
       "platform            object\n",
       "year_of_release    float64\n",
       "genre               object\n",
       "na_sales           float64\n",
       "eu_sales           float64\n",
       "jp_sales           float64\n",
       "other_sales        float64\n",
       "critic_score       float64\n",
       "user_score          object\n",
       "rating              object\n",
       "dtype: object"
      ]
     },
     "execution_count": 4,
     "metadata": {},
     "output_type": "execute_result"
    }
   ],
   "source": [
    "data.dtypes"
   ]
  },
  {
   "cell_type": "markdown",
   "metadata": {},
   "source": [
    "<div class=\"alert alert-block alert-info\">\n",
    "<b> В стобце года выпуска заменим тип данных float64 на Int64"
   ]
  },
  {
   "cell_type": "code",
   "execution_count": 5,
   "metadata": {},
   "outputs": [],
   "source": [
    "data['year_of_release'] = data['year_of_release'].astype('Int64')"
   ]
  },
  {
   "cell_type": "markdown",
   "metadata": {},
   "source": [
    "<div class=\"alert alert-block alert-info\">\n",
    "<b> Столбец user_score должен иметь тип данных float64, но содержит строковые значения 'tbd', поэтому тип данных в столбце object. TBD - аббревиатура от английского To Be Determined (будет определено). Возможны и другие расшифровки аббревиатуры TBD - The Big Duck, Triangular Barrier Diode или Too Bad, Dude, но первый вариант кажется самым реалистичным. 'tbd' значит, что данных пока еще нет, поэтому можем смело заменить 'tbd' на 'None'"
   ]
  },
  {
   "cell_type": "code",
   "execution_count": 6,
   "metadata": {},
   "outputs": [
    {
     "data": {
      "text/plain": [
       "array(['8', nan, '8.3', '8.5', '6.6', '8.4', '8.6', '7.7', '6.3', '7.4',\n",
       "       '8.2', '9', '7.9', '8.1', '8.7', '7.1', '3.4', '5.3', '4.8', '3.2',\n",
       "       '8.9', '6.4', '7.8', '7.5', '2.6', '7.2', '9.2', '7', '7.3', '4.3',\n",
       "       '7.6', '5.7', '5', '9.1', '6.5', 'tbd', '8.8', '6.9', '9.4', '6.8',\n",
       "       '6.1', '6.7', '5.4', '4', '4.9', '4.5', '9.3', '6.2', '4.2', '6',\n",
       "       '3.7', '4.1', '5.8', '5.6', '5.5', '4.4', '4.6', '5.9', '3.9',\n",
       "       '3.1', '2.9', '5.2', '3.3', '4.7', '5.1', '3.5', '2.5', '1.9', '3',\n",
       "       '2.7', '2.2', '2', '9.5', '2.1', '3.6', '2.8', '1.8', '3.8', '0',\n",
       "       '1.6', '9.6', '2.4', '1.7', '1.1', '0.3', '1.5', '0.7', '1.2',\n",
       "       '2.3', '0.5', '1.3', '0.2', '0.6', '1.4', '0.9', '1', '9.7'],\n",
       "      dtype=object)"
      ]
     },
     "execution_count": 6,
     "metadata": {},
     "output_type": "execute_result"
    }
   ],
   "source": [
    "data['user_score'].unique()"
   ]
  },
  {
   "cell_type": "code",
   "execution_count": 7,
   "metadata": {},
   "outputs": [
    {
     "data": {
      "text/plain": [
       "2424"
      ]
     },
     "execution_count": 7,
     "metadata": {},
     "output_type": "execute_result"
    }
   ],
   "source": [
    "data.loc[data['user_score'] == 'tbd']['user_score'].count()"
   ]
  },
  {
   "cell_type": "code",
   "execution_count": 8,
   "metadata": {},
   "outputs": [],
   "source": [
    "data['user_score'] = data['user_score'].replace({'tbd': None})\n",
    "data['user_score'] = data['user_score'].astype('float64')"
   ]
  },
  {
   "cell_type": "markdown",
   "metadata": {},
   "source": [
    "#### Переведем 100 бальную шкалу critic_score в 10 бальную"
   ]
  },
  {
   "cell_type": "code",
   "execution_count": 9,
   "metadata": {},
   "outputs": [],
   "source": [
    "data['user_score'] = data['user_score']*10"
   ]
  },
  {
   "cell_type": "code",
   "execution_count": 10,
   "metadata": {},
   "outputs": [
    {
     "data": {
      "text/html": [
       "<div>\n",
       "<style scoped>\n",
       "    .dataframe tbody tr th:only-of-type {\n",
       "        vertical-align: middle;\n",
       "    }\n",
       "\n",
       "    .dataframe tbody tr th {\n",
       "        vertical-align: top;\n",
       "    }\n",
       "\n",
       "    .dataframe thead th {\n",
       "        text-align: right;\n",
       "    }\n",
       "</style>\n",
       "<table border=\"1\" class=\"dataframe\">\n",
       "  <thead>\n",
       "    <tr style=\"text-align: right;\">\n",
       "      <th></th>\n",
       "      <th>name</th>\n",
       "      <th>platform</th>\n",
       "      <th>year_of_release</th>\n",
       "      <th>genre</th>\n",
       "      <th>na_sales</th>\n",
       "      <th>eu_sales</th>\n",
       "      <th>jp_sales</th>\n",
       "      <th>other_sales</th>\n",
       "      <th>critic_score</th>\n",
       "      <th>user_score</th>\n",
       "      <th>rating</th>\n",
       "    </tr>\n",
       "  </thead>\n",
       "  <tbody>\n",
       "    <tr>\n",
       "      <th>0</th>\n",
       "      <td>Wii Sports</td>\n",
       "      <td>Wii</td>\n",
       "      <td>2006</td>\n",
       "      <td>Sports</td>\n",
       "      <td>41.36</td>\n",
       "      <td>28.96</td>\n",
       "      <td>3.77</td>\n",
       "      <td>8.45</td>\n",
       "      <td>76.0</td>\n",
       "      <td>80.0</td>\n",
       "      <td>E</td>\n",
       "    </tr>\n",
       "    <tr>\n",
       "      <th>1</th>\n",
       "      <td>Super Mario Bros.</td>\n",
       "      <td>NES</td>\n",
       "      <td>1985</td>\n",
       "      <td>Platform</td>\n",
       "      <td>29.08</td>\n",
       "      <td>3.58</td>\n",
       "      <td>6.81</td>\n",
       "      <td>0.77</td>\n",
       "      <td>NaN</td>\n",
       "      <td>NaN</td>\n",
       "      <td>NaN</td>\n",
       "    </tr>\n",
       "    <tr>\n",
       "      <th>2</th>\n",
       "      <td>Mario Kart Wii</td>\n",
       "      <td>Wii</td>\n",
       "      <td>2008</td>\n",
       "      <td>Racing</td>\n",
       "      <td>15.68</td>\n",
       "      <td>12.76</td>\n",
       "      <td>3.79</td>\n",
       "      <td>3.29</td>\n",
       "      <td>82.0</td>\n",
       "      <td>83.0</td>\n",
       "      <td>E</td>\n",
       "    </tr>\n",
       "    <tr>\n",
       "      <th>3</th>\n",
       "      <td>Wii Sports Resort</td>\n",
       "      <td>Wii</td>\n",
       "      <td>2009</td>\n",
       "      <td>Sports</td>\n",
       "      <td>15.61</td>\n",
       "      <td>10.93</td>\n",
       "      <td>3.28</td>\n",
       "      <td>2.95</td>\n",
       "      <td>80.0</td>\n",
       "      <td>80.0</td>\n",
       "      <td>E</td>\n",
       "    </tr>\n",
       "    <tr>\n",
       "      <th>4</th>\n",
       "      <td>Pokemon Red/Pokemon Blue</td>\n",
       "      <td>GB</td>\n",
       "      <td>1996</td>\n",
       "      <td>Role-Playing</td>\n",
       "      <td>11.27</td>\n",
       "      <td>8.89</td>\n",
       "      <td>10.22</td>\n",
       "      <td>1.00</td>\n",
       "      <td>NaN</td>\n",
       "      <td>NaN</td>\n",
       "      <td>NaN</td>\n",
       "    </tr>\n",
       "  </tbody>\n",
       "</table>\n",
       "</div>"
      ],
      "text/plain": [
       "                       name platform  year_of_release         genre  na_sales  \\\n",
       "0                Wii Sports      Wii             2006        Sports     41.36   \n",
       "1         Super Mario Bros.      NES             1985      Platform     29.08   \n",
       "2            Mario Kart Wii      Wii             2008        Racing     15.68   \n",
       "3         Wii Sports Resort      Wii             2009        Sports     15.61   \n",
       "4  Pokemon Red/Pokemon Blue       GB             1996  Role-Playing     11.27   \n",
       "\n",
       "   eu_sales  jp_sales  other_sales  critic_score  user_score rating  \n",
       "0     28.96      3.77         8.45          76.0        80.0      E  \n",
       "1      3.58      6.81         0.77           NaN         NaN    NaN  \n",
       "2     12.76      3.79         3.29          82.0        83.0      E  \n",
       "3     10.93      3.28         2.95          80.0        80.0      E  \n",
       "4      8.89     10.22         1.00           NaN         NaN    NaN  "
      ]
     },
     "execution_count": 10,
     "metadata": {},
     "output_type": "execute_result"
    }
   ],
   "source": [
    "data.head()"
   ]
  },
  {
   "cell_type": "markdown",
   "metadata": {},
   "source": [
    "#### Обработка дубликкатов"
   ]
  },
  {
   "cell_type": "code",
   "execution_count": 11,
   "metadata": {},
   "outputs": [
    {
     "data": {
      "text/plain": [
       "0"
      ]
     },
     "execution_count": 11,
     "metadata": {},
     "output_type": "execute_result"
    }
   ],
   "source": [
    "data.duplicated().sum() #проверяем есть ли явные дубликаты в данных"
   ]
  },
  {
   "cell_type": "code",
   "execution_count": 12,
   "metadata": {},
   "outputs": [
    {
     "data": {
      "text/plain": [
       "array(['2600', '3DO', '3DS', 'DC', 'DS', 'GB', 'GBA', 'GC', 'GEN', 'GG',\n",
       "       'N64', 'NES', 'NG', 'PC', 'PCFX', 'PS', 'PS2', 'PS3', 'PS4', 'PSP',\n",
       "       'PSV', 'SAT', 'SCD', 'SNES', 'TG16', 'WS', 'Wii', 'WiiU', 'X360',\n",
       "       'XB', 'XOne'], dtype=object)"
      ]
     },
     "execution_count": 12,
     "metadata": {},
     "output_type": "execute_result"
    }
   ],
   "source": [
    "# а что с неявными?\n",
    "data['platform'].sort_values().unique()"
   ]
  },
  {
   "cell_type": "code",
   "execution_count": 13,
   "metadata": {},
   "outputs": [
    {
     "data": {
      "text/plain": [
       "array(['AO', 'E', 'E10+', 'EC', 'K-A', 'M', 'RP', 'T', nan], dtype=object)"
      ]
     },
     "execution_count": 13,
     "metadata": {},
     "output_type": "execute_result"
    }
   ],
   "source": [
    "data['rating'].sort_values().unique()"
   ]
  },
  {
   "cell_type": "code",
   "execution_count": 14,
   "metadata": {},
   "outputs": [
    {
     "data": {
      "text/plain": [
       "array(['Action', 'Adventure', 'Fighting', 'Misc', 'Platform', 'Puzzle',\n",
       "       'Racing', 'Role-Playing', 'Shooter', 'Simulation', 'Sports',\n",
       "       'Strategy', nan], dtype=object)"
      ]
     },
     "execution_count": 14,
     "metadata": {},
     "output_type": "execute_result"
    }
   ],
   "source": [
    "data['genre'].sort_values().unique()"
   ]
  },
  {
   "cell_type": "markdown",
   "metadata": {},
   "source": [
    "<div class=\"alert alert-block alert-info\">\n",
    "<b> Дубликатов нет, какое счастье)"
   ]
  },
  {
   "cell_type": "markdown",
   "metadata": {},
   "source": [
    "#### Работа с пропусками"
   ]
  },
  {
   "cell_type": "code",
   "execution_count": 15,
   "metadata": {},
   "outputs": [
    {
     "data": {
      "text/plain": [
       "name                  2\n",
       "platform              0\n",
       "year_of_release     269\n",
       "genre                 2\n",
       "na_sales              0\n",
       "eu_sales              0\n",
       "jp_sales              0\n",
       "other_sales           0\n",
       "critic_score       8578\n",
       "user_score         9125\n",
       "rating             6766\n",
       "dtype: int64"
      ]
     },
     "execution_count": 15,
     "metadata": {},
     "output_type": "execute_result"
    }
   ],
   "source": [
    "data.isna().sum()"
   ]
  },
  {
   "cell_type": "code",
   "execution_count": 16,
   "metadata": {},
   "outputs": [
    {
     "data": {
      "text/html": [
       "<div>\n",
       "<style scoped>\n",
       "    .dataframe tbody tr th:only-of-type {\n",
       "        vertical-align: middle;\n",
       "    }\n",
       "\n",
       "    .dataframe tbody tr th {\n",
       "        vertical-align: top;\n",
       "    }\n",
       "\n",
       "    .dataframe thead th {\n",
       "        text-align: right;\n",
       "    }\n",
       "</style>\n",
       "<table border=\"1\" class=\"dataframe\">\n",
       "  <thead>\n",
       "    <tr style=\"text-align: right;\">\n",
       "      <th></th>\n",
       "      <th>name</th>\n",
       "      <th>platform</th>\n",
       "      <th>year_of_release</th>\n",
       "      <th>genre</th>\n",
       "      <th>na_sales</th>\n",
       "      <th>eu_sales</th>\n",
       "      <th>jp_sales</th>\n",
       "      <th>other_sales</th>\n",
       "      <th>critic_score</th>\n",
       "      <th>user_score</th>\n",
       "      <th>rating</th>\n",
       "    </tr>\n",
       "  </thead>\n",
       "  <tbody>\n",
       "    <tr>\n",
       "      <th>659</th>\n",
       "      <td>NaN</td>\n",
       "      <td>GEN</td>\n",
       "      <td>1993</td>\n",
       "      <td>NaN</td>\n",
       "      <td>1.78</td>\n",
       "      <td>0.53</td>\n",
       "      <td>0.00</td>\n",
       "      <td>0.08</td>\n",
       "      <td>NaN</td>\n",
       "      <td>NaN</td>\n",
       "      <td>NaN</td>\n",
       "    </tr>\n",
       "    <tr>\n",
       "      <th>14244</th>\n",
       "      <td>NaN</td>\n",
       "      <td>GEN</td>\n",
       "      <td>1993</td>\n",
       "      <td>NaN</td>\n",
       "      <td>0.00</td>\n",
       "      <td>0.00</td>\n",
       "      <td>0.03</td>\n",
       "      <td>0.00</td>\n",
       "      <td>NaN</td>\n",
       "      <td>NaN</td>\n",
       "      <td>NaN</td>\n",
       "    </tr>\n",
       "  </tbody>\n",
       "</table>\n",
       "</div>"
      ],
      "text/plain": [
       "      name platform  year_of_release genre  na_sales  eu_sales  jp_sales  \\\n",
       "659    NaN      GEN             1993   NaN      1.78      0.53      0.00   \n",
       "14244  NaN      GEN             1993   NaN      0.00      0.00      0.03   \n",
       "\n",
       "       other_sales  critic_score  user_score rating  \n",
       "659           0.08           NaN         NaN    NaN  \n",
       "14244         0.00           NaN         NaN    NaN  "
      ]
     },
     "execution_count": 16,
     "metadata": {},
     "output_type": "execute_result"
    }
   ],
   "source": [
    "data.query('name.isna()')"
   ]
  },
  {
   "cell_type": "code",
   "execution_count": 17,
   "metadata": {},
   "outputs": [
    {
     "data": {
      "text/html": [
       "<div>\n",
       "<style scoped>\n",
       "    .dataframe tbody tr th:only-of-type {\n",
       "        vertical-align: middle;\n",
       "    }\n",
       "\n",
       "    .dataframe tbody tr th {\n",
       "        vertical-align: top;\n",
       "    }\n",
       "\n",
       "    .dataframe thead th {\n",
       "        text-align: right;\n",
       "    }\n",
       "</style>\n",
       "<table border=\"1\" class=\"dataframe\">\n",
       "  <thead>\n",
       "    <tr style=\"text-align: right;\">\n",
       "      <th></th>\n",
       "      <th>name</th>\n",
       "      <th>platform</th>\n",
       "      <th>year_of_release</th>\n",
       "      <th>genre</th>\n",
       "      <th>na_sales</th>\n",
       "      <th>eu_sales</th>\n",
       "      <th>jp_sales</th>\n",
       "      <th>other_sales</th>\n",
       "      <th>critic_score</th>\n",
       "      <th>user_score</th>\n",
       "      <th>rating</th>\n",
       "    </tr>\n",
       "  </thead>\n",
       "  <tbody>\n",
       "    <tr>\n",
       "      <th>659</th>\n",
       "      <td>NaN</td>\n",
       "      <td>GEN</td>\n",
       "      <td>1993</td>\n",
       "      <td>NaN</td>\n",
       "      <td>1.78</td>\n",
       "      <td>0.53</td>\n",
       "      <td>0.00</td>\n",
       "      <td>0.08</td>\n",
       "      <td>NaN</td>\n",
       "      <td>NaN</td>\n",
       "      <td>NaN</td>\n",
       "    </tr>\n",
       "    <tr>\n",
       "      <th>14244</th>\n",
       "      <td>NaN</td>\n",
       "      <td>GEN</td>\n",
       "      <td>1993</td>\n",
       "      <td>NaN</td>\n",
       "      <td>0.00</td>\n",
       "      <td>0.00</td>\n",
       "      <td>0.03</td>\n",
       "      <td>0.00</td>\n",
       "      <td>NaN</td>\n",
       "      <td>NaN</td>\n",
       "      <td>NaN</td>\n",
       "    </tr>\n",
       "  </tbody>\n",
       "</table>\n",
       "</div>"
      ],
      "text/plain": [
       "      name platform  year_of_release genre  na_sales  eu_sales  jp_sales  \\\n",
       "659    NaN      GEN             1993   NaN      1.78      0.53      0.00   \n",
       "14244  NaN      GEN             1993   NaN      0.00      0.00      0.03   \n",
       "\n",
       "       other_sales  critic_score  user_score rating  \n",
       "659           0.08           NaN         NaN    NaN  \n",
       "14244         0.00           NaN         NaN    NaN  "
      ]
     },
     "execution_count": 17,
     "metadata": {},
     "output_type": "execute_result"
    }
   ],
   "source": [
    "data.query('genre.isna()')"
   ]
  },
  {
   "cell_type": "code",
   "execution_count": 18,
   "metadata": {},
   "outputs": [
    {
     "data": {
      "text/html": [
       "<div>\n",
       "<style scoped>\n",
       "    .dataframe tbody tr th:only-of-type {\n",
       "        vertical-align: middle;\n",
       "    }\n",
       "\n",
       "    .dataframe tbody tr th {\n",
       "        vertical-align: top;\n",
       "    }\n",
       "\n",
       "    .dataframe thead th {\n",
       "        text-align: right;\n",
       "    }\n",
       "</style>\n",
       "<table border=\"1\" class=\"dataframe\">\n",
       "  <thead>\n",
       "    <tr style=\"text-align: right;\">\n",
       "      <th></th>\n",
       "      <th>name</th>\n",
       "      <th>platform</th>\n",
       "      <th>year_of_release</th>\n",
       "      <th>genre</th>\n",
       "      <th>na_sales</th>\n",
       "      <th>eu_sales</th>\n",
       "      <th>jp_sales</th>\n",
       "      <th>other_sales</th>\n",
       "      <th>critic_score</th>\n",
       "      <th>user_score</th>\n",
       "      <th>rating</th>\n",
       "    </tr>\n",
       "  </thead>\n",
       "  <tbody>\n",
       "    <tr>\n",
       "      <th>183</th>\n",
       "      <td>Madden NFL 2004</td>\n",
       "      <td>PS2</td>\n",
       "      <td>&lt;NA&gt;</td>\n",
       "      <td>Sports</td>\n",
       "      <td>4.26</td>\n",
       "      <td>0.26</td>\n",
       "      <td>0.01</td>\n",
       "      <td>0.71</td>\n",
       "      <td>94.0</td>\n",
       "      <td>85.0</td>\n",
       "      <td>E</td>\n",
       "    </tr>\n",
       "    <tr>\n",
       "      <th>609</th>\n",
       "      <td>Space Invaders</td>\n",
       "      <td>2600</td>\n",
       "      <td>&lt;NA&gt;</td>\n",
       "      <td>Shooter</td>\n",
       "      <td>2.36</td>\n",
       "      <td>0.14</td>\n",
       "      <td>0.00</td>\n",
       "      <td>0.03</td>\n",
       "      <td>NaN</td>\n",
       "      <td>NaN</td>\n",
       "      <td>NaN</td>\n",
       "    </tr>\n",
       "    <tr>\n",
       "      <th>657</th>\n",
       "      <td>Frogger's Adventures: Temple of the Frog</td>\n",
       "      <td>GBA</td>\n",
       "      <td>&lt;NA&gt;</td>\n",
       "      <td>Adventure</td>\n",
       "      <td>2.15</td>\n",
       "      <td>0.18</td>\n",
       "      <td>0.00</td>\n",
       "      <td>0.07</td>\n",
       "      <td>73.0</td>\n",
       "      <td>NaN</td>\n",
       "      <td>E</td>\n",
       "    </tr>\n",
       "    <tr>\n",
       "      <th>627</th>\n",
       "      <td>Rock Band</td>\n",
       "      <td>X360</td>\n",
       "      <td>&lt;NA&gt;</td>\n",
       "      <td>Misc</td>\n",
       "      <td>1.93</td>\n",
       "      <td>0.33</td>\n",
       "      <td>0.00</td>\n",
       "      <td>0.21</td>\n",
       "      <td>92.0</td>\n",
       "      <td>82.0</td>\n",
       "      <td>T</td>\n",
       "    </tr>\n",
       "    <tr>\n",
       "      <th>456</th>\n",
       "      <td>LEGO Batman: The Videogame</td>\n",
       "      <td>Wii</td>\n",
       "      <td>&lt;NA&gt;</td>\n",
       "      <td>Action</td>\n",
       "      <td>1.80</td>\n",
       "      <td>0.97</td>\n",
       "      <td>0.00</td>\n",
       "      <td>0.29</td>\n",
       "      <td>74.0</td>\n",
       "      <td>79.0</td>\n",
       "      <td>E10+</td>\n",
       "    </tr>\n",
       "    <tr>\n",
       "      <th>...</th>\n",
       "      <td>...</td>\n",
       "      <td>...</td>\n",
       "      <td>...</td>\n",
       "      <td>...</td>\n",
       "      <td>...</td>\n",
       "      <td>...</td>\n",
       "      <td>...</td>\n",
       "      <td>...</td>\n",
       "      <td>...</td>\n",
       "      <td>...</td>\n",
       "      <td>...</td>\n",
       "    </tr>\n",
       "    <tr>\n",
       "      <th>11000</th>\n",
       "      <td>Demon Chaos</td>\n",
       "      <td>PS2</td>\n",
       "      <td>&lt;NA&gt;</td>\n",
       "      <td>Action</td>\n",
       "      <td>0.00</td>\n",
       "      <td>0.00</td>\n",
       "      <td>0.09</td>\n",
       "      <td>0.00</td>\n",
       "      <td>NaN</td>\n",
       "      <td>NaN</td>\n",
       "      <td>NaN</td>\n",
       "    </tr>\n",
       "    <tr>\n",
       "      <th>10837</th>\n",
       "      <td>Egg Monster Hero</td>\n",
       "      <td>DS</td>\n",
       "      <td>&lt;NA&gt;</td>\n",
       "      <td>Role-Playing</td>\n",
       "      <td>0.00</td>\n",
       "      <td>0.00</td>\n",
       "      <td>0.09</td>\n",
       "      <td>0.00</td>\n",
       "      <td>NaN</td>\n",
       "      <td>NaN</td>\n",
       "      <td>E</td>\n",
       "    </tr>\n",
       "    <tr>\n",
       "      <th>15022</th>\n",
       "      <td>Umineko no Naku Koro ni San: Shinjitsu to Gens...</td>\n",
       "      <td>PS3</td>\n",
       "      <td>&lt;NA&gt;</td>\n",
       "      <td>Adventure</td>\n",
       "      <td>0.00</td>\n",
       "      <td>0.00</td>\n",
       "      <td>0.02</td>\n",
       "      <td>0.00</td>\n",
       "      <td>NaN</td>\n",
       "      <td>NaN</td>\n",
       "      <td>NaN</td>\n",
       "    </tr>\n",
       "    <tr>\n",
       "      <th>10764</th>\n",
       "      <td>Luminous Arc 2 (JP sales)</td>\n",
       "      <td>DS</td>\n",
       "      <td>&lt;NA&gt;</td>\n",
       "      <td>Role-Playing</td>\n",
       "      <td>0.00</td>\n",
       "      <td>0.00</td>\n",
       "      <td>0.10</td>\n",
       "      <td>0.00</td>\n",
       "      <td>NaN</td>\n",
       "      <td>NaN</td>\n",
       "      <td>NaN</td>\n",
       "    </tr>\n",
       "    <tr>\n",
       "      <th>8364</th>\n",
       "      <td>Sword of the Samurai</td>\n",
       "      <td>PS2</td>\n",
       "      <td>&lt;NA&gt;</td>\n",
       "      <td>Fighting</td>\n",
       "      <td>0.00</td>\n",
       "      <td>0.00</td>\n",
       "      <td>0.17</td>\n",
       "      <td>0.00</td>\n",
       "      <td>NaN</td>\n",
       "      <td>NaN</td>\n",
       "      <td>NaN</td>\n",
       "    </tr>\n",
       "  </tbody>\n",
       "</table>\n",
       "<p>269 rows × 11 columns</p>\n",
       "</div>"
      ],
      "text/plain": [
       "                                                    name platform  \\\n",
       "183                                      Madden NFL 2004      PS2   \n",
       "609                                       Space Invaders     2600   \n",
       "657             Frogger's Adventures: Temple of the Frog      GBA   \n",
       "627                                            Rock Band     X360   \n",
       "456                           LEGO Batman: The Videogame      Wii   \n",
       "...                                                  ...      ...   \n",
       "11000                                        Demon Chaos      PS2   \n",
       "10837                                   Egg Monster Hero       DS   \n",
       "15022  Umineko no Naku Koro ni San: Shinjitsu to Gens...      PS3   \n",
       "10764                          Luminous Arc 2 (JP sales)       DS   \n",
       "8364                                Sword of the Samurai      PS2   \n",
       "\n",
       "       year_of_release         genre  na_sales  eu_sales  jp_sales  \\\n",
       "183               <NA>        Sports      4.26      0.26      0.01   \n",
       "609               <NA>       Shooter      2.36      0.14      0.00   \n",
       "657               <NA>     Adventure      2.15      0.18      0.00   \n",
       "627               <NA>          Misc      1.93      0.33      0.00   \n",
       "456               <NA>        Action      1.80      0.97      0.00   \n",
       "...                ...           ...       ...       ...       ...   \n",
       "11000             <NA>        Action      0.00      0.00      0.09   \n",
       "10837             <NA>  Role-Playing      0.00      0.00      0.09   \n",
       "15022             <NA>     Adventure      0.00      0.00      0.02   \n",
       "10764             <NA>  Role-Playing      0.00      0.00      0.10   \n",
       "8364              <NA>      Fighting      0.00      0.00      0.17   \n",
       "\n",
       "       other_sales  critic_score  user_score rating  \n",
       "183           0.71          94.0        85.0      E  \n",
       "609           0.03           NaN         NaN    NaN  \n",
       "657           0.07          73.0         NaN      E  \n",
       "627           0.21          92.0        82.0      T  \n",
       "456           0.29          74.0        79.0   E10+  \n",
       "...            ...           ...         ...    ...  \n",
       "11000         0.00           NaN         NaN    NaN  \n",
       "10837         0.00           NaN         NaN      E  \n",
       "15022         0.00           NaN         NaN    NaN  \n",
       "10764         0.00           NaN         NaN    NaN  \n",
       "8364          0.00           NaN         NaN    NaN  \n",
       "\n",
       "[269 rows x 11 columns]"
      ]
     },
     "execution_count": 18,
     "metadata": {},
     "output_type": "execute_result"
    }
   ],
   "source": [
    "data.query('year_of_release.isna()').sort_values(by='na_sales', ascending=False)"
   ]
  },
  {
   "cell_type": "markdown",
   "metadata": {},
   "source": [
    "<div class=\"alert alert-block alert-info\">\n",
    "<b> В столбцах 'name', 'year_of_release', 'genre' содержаться категориальные значения, поэтому пропуски в этих  переменных не сможем чем-то заполнить. Продажи в этих столбцах с пропусками не превышают 4,26 млн, поэтому остается только избавиться от таких строк с пропусками."
   ]
  },
  {
   "cell_type": "code",
   "execution_count": 19,
   "metadata": {},
   "outputs": [
    {
     "data": {
      "text/plain": [
       "name                  0\n",
       "platform              0\n",
       "year_of_release       0\n",
       "genre                 0\n",
       "na_sales              0\n",
       "eu_sales              0\n",
       "jp_sales              0\n",
       "other_sales           0\n",
       "critic_score       8461\n",
       "user_score         8981\n",
       "rating             6676\n",
       "dtype: int64"
      ]
     },
     "execution_count": 19,
     "metadata": {},
     "output_type": "execute_result"
    }
   ],
   "source": [
    "data = (data.dropna(subset=['name']).reset_index(drop=True))\n",
    "data = (data.dropna(subset=['year_of_release']).reset_index(drop=True))\n",
    "data = (data.dropna(subset=['genre']).reset_index(drop=True))\n",
    "data.isna().sum()"
   ]
  },
  {
   "cell_type": "markdown",
   "metadata": {},
   "source": [
    "<div class=\"alert alert-block alert-info\">\n",
    "<b> В столбце 'rating' пропуски могут быть связаны с тем, что игра не оценивалась ESRB. Поскольку пропусков довольно много заменим отсутствующие значения на not determined ('nd')"
   ]
  },
  {
   "cell_type": "code",
   "execution_count": 20,
   "metadata": {},
   "outputs": [
    {
     "data": {
      "text/plain": [
       "name                  0\n",
       "platform              0\n",
       "year_of_release       0\n",
       "genre                 0\n",
       "na_sales              0\n",
       "eu_sales              0\n",
       "jp_sales              0\n",
       "other_sales           0\n",
       "critic_score       8461\n",
       "user_score         8981\n",
       "rating                0\n",
       "dtype: int64"
      ]
     },
     "execution_count": 20,
     "metadata": {},
     "output_type": "execute_result"
    }
   ],
   "source": [
    "data['rating'] = data['rating'].fillna('nd')\n",
    "data.isna().sum()"
   ]
  },
  {
   "cell_type": "code",
   "execution_count": 21,
   "metadata": {},
   "outputs": [
    {
     "data": {
      "text/plain": [
       "nd      6676\n",
       "E       3921\n",
       "T       2905\n",
       "M       1536\n",
       "E10+    1393\n",
       "EC         8\n",
       "K-A        3\n",
       "RP         1\n",
       "AO         1\n",
       "Name: rating, dtype: int64"
      ]
     },
     "execution_count": 21,
     "metadata": {},
     "output_type": "execute_result"
    }
   ],
   "source": [
    "data['rating'].value_counts() #частотность использования категорий рейтинга, по отношению к остальным"
   ]
  },
  {
   "cell_type": "markdown",
   "metadata": {},
   "source": [
    "<div class=\"alert alert-block alert-info\">\n",
    "<b> Столбцы 'critic_score', 'user_score' с количественными данными заменим на медианные значения в зависимости от жанра"
   ]
  },
  {
   "cell_type": "code",
   "execution_count": 22,
   "metadata": {},
   "outputs": [],
   "source": [
    "#создаем функцию для заполнения пропусков на медианные значения по категории\n",
    "def fill_median(data, onwhat, what ):\n",
    "    for f in data[onwhat].unique():\n",
    "        data.loc[(data[onwhat] == f) & (data[what].isna()), what] = data.loc[(data[onwhat] == f), what].median()\n",
    "    return data[what].isna().sum()"
   ]
  },
  {
   "cell_type": "code",
   "execution_count": 23,
   "metadata": {},
   "outputs": [
    {
     "data": {
      "text/plain": [
       "name               0\n",
       "platform           0\n",
       "year_of_release    0\n",
       "genre              0\n",
       "na_sales           0\n",
       "eu_sales           0\n",
       "jp_sales           0\n",
       "other_sales        0\n",
       "critic_score       0\n",
       "user_score         0\n",
       "rating             0\n",
       "dtype: int64"
      ]
     },
     "execution_count": 23,
     "metadata": {},
     "output_type": "execute_result"
    }
   ],
   "source": [
    "fill_median(data, 'genre', 'critic_score')\n",
    "fill_median(data, 'genre', 'user_score')\n",
    "data.isna().sum()"
   ]
  },
  {
   "cell_type": "markdown",
   "metadata": {},
   "source": [
    "<div class=\"alert alert-block alert-info\">\n",
    "<b> Пропуски в категориальных переменных скорее связаны с человеческим фактором. Пропуски в количественных переменных могут быть связаны с тем, что некоторые игры не оценивались критиками или пользователями вовсе.\n"
   ]
  },
  {
   "cell_type": "markdown",
   "metadata": {},
   "source": [
    "#### Добавляем в таблицу новый столбец суммарных продаж во всех регионах "
   ]
  },
  {
   "cell_type": "code",
   "execution_count": 24,
   "metadata": {},
   "outputs": [],
   "source": [
    "#data['total_sales'] = data['na_sales'] + data['eu_sales'] + data['jp_sales'] + data['other_sales']\n",
    "data['total_sales'] = data[['na_sales','eu_sales','jp_sales', 'other_sales']].sum(axis=1) "
   ]
  },
  {
   "cell_type": "code",
   "execution_count": 25,
   "metadata": {
    "scrolled": true
   },
   "outputs": [
    {
     "data": {
      "text/html": [
       "<div>\n",
       "<style scoped>\n",
       "    .dataframe tbody tr th:only-of-type {\n",
       "        vertical-align: middle;\n",
       "    }\n",
       "\n",
       "    .dataframe tbody tr th {\n",
       "        vertical-align: top;\n",
       "    }\n",
       "\n",
       "    .dataframe thead th {\n",
       "        text-align: right;\n",
       "    }\n",
       "</style>\n",
       "<table border=\"1\" class=\"dataframe\">\n",
       "  <thead>\n",
       "    <tr style=\"text-align: right;\">\n",
       "      <th></th>\n",
       "      <th>name</th>\n",
       "      <th>platform</th>\n",
       "      <th>year_of_release</th>\n",
       "      <th>genre</th>\n",
       "      <th>na_sales</th>\n",
       "      <th>eu_sales</th>\n",
       "      <th>jp_sales</th>\n",
       "      <th>other_sales</th>\n",
       "      <th>critic_score</th>\n",
       "      <th>user_score</th>\n",
       "      <th>rating</th>\n",
       "      <th>total_sales</th>\n",
       "    </tr>\n",
       "  </thead>\n",
       "  <tbody>\n",
       "    <tr>\n",
       "      <th>0</th>\n",
       "      <td>Wii Sports</td>\n",
       "      <td>Wii</td>\n",
       "      <td>2006</td>\n",
       "      <td>Sports</td>\n",
       "      <td>41.36</td>\n",
       "      <td>28.96</td>\n",
       "      <td>3.77</td>\n",
       "      <td>8.45</td>\n",
       "      <td>76.0</td>\n",
       "      <td>80.0</td>\n",
       "      <td>E</td>\n",
       "      <td>82.54</td>\n",
       "    </tr>\n",
       "    <tr>\n",
       "      <th>1</th>\n",
       "      <td>Super Mario Bros.</td>\n",
       "      <td>NES</td>\n",
       "      <td>1985</td>\n",
       "      <td>Platform</td>\n",
       "      <td>29.08</td>\n",
       "      <td>3.58</td>\n",
       "      <td>6.81</td>\n",
       "      <td>0.77</td>\n",
       "      <td>69.5</td>\n",
       "      <td>77.0</td>\n",
       "      <td>nd</td>\n",
       "      <td>40.24</td>\n",
       "    </tr>\n",
       "    <tr>\n",
       "      <th>2</th>\n",
       "      <td>Mario Kart Wii</td>\n",
       "      <td>Wii</td>\n",
       "      <td>2008</td>\n",
       "      <td>Racing</td>\n",
       "      <td>15.68</td>\n",
       "      <td>12.76</td>\n",
       "      <td>3.79</td>\n",
       "      <td>3.29</td>\n",
       "      <td>82.0</td>\n",
       "      <td>83.0</td>\n",
       "      <td>E</td>\n",
       "      <td>35.52</td>\n",
       "    </tr>\n",
       "    <tr>\n",
       "      <th>3</th>\n",
       "      <td>Wii Sports Resort</td>\n",
       "      <td>Wii</td>\n",
       "      <td>2009</td>\n",
       "      <td>Sports</td>\n",
       "      <td>15.61</td>\n",
       "      <td>10.93</td>\n",
       "      <td>3.28</td>\n",
       "      <td>2.95</td>\n",
       "      <td>80.0</td>\n",
       "      <td>80.0</td>\n",
       "      <td>E</td>\n",
       "      <td>32.77</td>\n",
       "    </tr>\n",
       "    <tr>\n",
       "      <th>4</th>\n",
       "      <td>Pokemon Red/Pokemon Blue</td>\n",
       "      <td>GB</td>\n",
       "      <td>1996</td>\n",
       "      <td>Role-Playing</td>\n",
       "      <td>11.27</td>\n",
       "      <td>8.89</td>\n",
       "      <td>10.22</td>\n",
       "      <td>1.00</td>\n",
       "      <td>74.0</td>\n",
       "      <td>78.0</td>\n",
       "      <td>nd</td>\n",
       "      <td>31.38</td>\n",
       "    </tr>\n",
       "  </tbody>\n",
       "</table>\n",
       "</div>"
      ],
      "text/plain": [
       "                       name platform  year_of_release         genre  na_sales  \\\n",
       "0                Wii Sports      Wii             2006        Sports     41.36   \n",
       "1         Super Mario Bros.      NES             1985      Platform     29.08   \n",
       "2            Mario Kart Wii      Wii             2008        Racing     15.68   \n",
       "3         Wii Sports Resort      Wii             2009        Sports     15.61   \n",
       "4  Pokemon Red/Pokemon Blue       GB             1996  Role-Playing     11.27   \n",
       "\n",
       "   eu_sales  jp_sales  other_sales  critic_score  user_score rating  \\\n",
       "0     28.96      3.77         8.45          76.0        80.0      E   \n",
       "1      3.58      6.81         0.77          69.5        77.0     nd   \n",
       "2     12.76      3.79         3.29          82.0        83.0      E   \n",
       "3     10.93      3.28         2.95          80.0        80.0      E   \n",
       "4      8.89     10.22         1.00          74.0        78.0     nd   \n",
       "\n",
       "   total_sales  \n",
       "0        82.54  \n",
       "1        40.24  \n",
       "2        35.52  \n",
       "3        32.77  \n",
       "4        31.38  "
      ]
     },
     "execution_count": 25,
     "metadata": {},
     "output_type": "execute_result"
    }
   ],
   "source": [
    "data.head()"
   ]
  },
  {
   "cell_type": "code",
   "execution_count": 26,
   "metadata": {},
   "outputs": [
    {
     "name": "stdout",
     "output_type": "stream",
     "text": [
      "<class 'pandas.core.frame.DataFrame'>\n",
      "RangeIndex: 16444 entries, 0 to 16443\n",
      "Data columns (total 12 columns):\n",
      " #   Column           Non-Null Count  Dtype  \n",
      "---  ------           --------------  -----  \n",
      " 0   name             16444 non-null  object \n",
      " 1   platform         16444 non-null  object \n",
      " 2   year_of_release  16444 non-null  Int64  \n",
      " 3   genre            16444 non-null  object \n",
      " 4   na_sales         16444 non-null  float64\n",
      " 5   eu_sales         16444 non-null  float64\n",
      " 6   jp_sales         16444 non-null  float64\n",
      " 7   other_sales      16444 non-null  float64\n",
      " 8   critic_score     16444 non-null  float64\n",
      " 9   user_score       16444 non-null  float64\n",
      " 10  rating           16444 non-null  object \n",
      " 11  total_sales      16444 non-null  float64\n",
      "dtypes: Int64(1), float64(7), object(4)\n",
      "memory usage: 1.5+ MB\n"
     ]
    }
   ],
   "source": [
    "# check \n",
    "data.info()"
   ]
  },
  {
   "cell_type": "markdown",
   "metadata": {},
   "source": [
    "### Исследовательский анализ данных"
   ]
  },
  {
   "cell_type": "markdown",
   "metadata": {},
   "source": [
    "#### Общее представление"
   ]
  },
  {
   "cell_type": "markdown",
   "metadata": {},
   "source": [
    "<div class=\"alert alert-block alert-info\">\n",
    "<b> Общая гистограмма для всех числовых значений. \n",
    "    \n",
    "<br> На первый взгляд графики выглядят очень логично. Правда в столбцах продаж по регионам можно увидеть, что суммарное количество продаж находится в диапозоне от 0-10, и совсем не часто встречается более 10 млн продаж. Это может быть связано с тем, что есть небольшое количство очень популярных игр с большим числом продаж"
   ]
  },
  {
   "cell_type": "code",
   "execution_count": 27,
   "metadata": {},
   "outputs": [
    {
     "data": {
      "image/png": "[encoded data removed]",
      "text/plain": [
       "<Figure size 1080x1440 with 9 Axes>"
      ]
     },
     "metadata": {
      "needs_background": "light"
     },
     "output_type": "display_data"
    }
   ],
   "source": [
    "data.hist(figsize=(15, 20)); "
   ]
  },
  {
   "cell_type": "markdown",
   "metadata": {},
   "source": [
    "#### Количество выпускаемых игр за разные годы. "
   ]
  },
  {
   "cell_type": "code",
   "execution_count": 28,
   "metadata": {},
   "outputs": [
    {
     "name": "stdout",
     "output_type": "stream",
     "text": [
      "<class 'pandas.core.frame.DataFrame'>\n",
      "RangeIndex: 16444 entries, 0 to 16443\n",
      "Data columns (total 12 columns):\n",
      " #   Column           Non-Null Count  Dtype  \n",
      "---  ------           --------------  -----  \n",
      " 0   name             16444 non-null  object \n",
      " 1   platform         16444 non-null  object \n",
      " 2   year_of_release  16444 non-null  Int64  \n",
      " 3   genre            16444 non-null  object \n",
      " 4   na_sales         16444 non-null  float64\n",
      " 5   eu_sales         16444 non-null  float64\n",
      " 6   jp_sales         16444 non-null  float64\n",
      " 7   other_sales      16444 non-null  float64\n",
      " 8   critic_score     16444 non-null  float64\n",
      " 9   user_score       16444 non-null  float64\n",
      " 10  rating           16444 non-null  object \n",
      " 11  total_sales      16444 non-null  float64\n",
      "dtypes: Int64(1), float64(7), object(4)\n",
      "memory usage: 1.5+ MB\n"
     ]
    }
   ],
   "source": [
    "data.info()"
   ]
  },
  {
   "cell_type": "code",
   "execution_count": 29,
   "metadata": {},
   "outputs": [
    {
     "data": {
      "image/png": "[encoded data removed]",
      "text/plain": [
       "<Figure size 1080x720 with 1 Axes>"
      ]
     },
     "metadata": {
      "needs_background": "light"
     },
     "output_type": "display_data"
    }
   ],
   "source": [
    "year_count = data.groupby('year_of_release').agg(count_games=('name', 'count')) # группируем данные по году выпуска\n",
    "ax = year_count.plot(kind='bar', figsize=(15, 10)) #строим график распределения\n",
    "ax.set_title('Распределение количества выпущенных игр за годы')\n",
    "ax.set(xlabel='Год', ylabel='Количество вышедших игр')\n",
    "plt.show()\n",
    "# можно было построить и гистгормму с числом корзин равному 37 (len(data['year_of_release'].unique()),\n",
    "# но такой формат мне нравится больше"
   ]
  },
  {
   "cell_type": "markdown",
   "metadata": {},
   "source": [
    "<div class=\"alert alert-block alert-info\">\n",
    "<b> На графике выше можем заметить, что рост в производстве игр начинался в 1993 году, это вполне логично, ведь начали появляться новые платформы (консоли). А пик в колчистве выпущенных игр наблюдается в 2008-2009 годах. С 2012 по 2016 можем наблюдать неравномерное снижение выпущенных игр"
   ]
  },
  {
   "cell_type": "markdown",
   "metadata": {},
   "source": [
    "#### Изменение количества продаж по платформам"
   ]
  },
  {
   "cell_type": "code",
   "execution_count": 30,
   "metadata": {},
   "outputs": [
    {
     "data": {
      "image/png": "[encoded data removed]",
      "text/plain": [
       "<Figure size 1080x720 with 1 Axes>"
      ]
     },
     "metadata": {
      "needs_background": "light"
     },
     "output_type": "display_data"
    }
   ],
   "source": [
    "# группируем данные о суммарном количестве продаж на разных платформах\n",
    "platform_sales = data.groupby('platform').agg(grouped_sales=('total_sales', 'sum')).sort_values(by='grouped_sales')\n",
    "# распределение суммарных продаж по платформам\n",
    "ax = platform_sales.plot(kind='bar', figsize=(15, 10))\n",
    "ax.set_title('Распределение суммы продаж по платформам')\n",
    "ax.set(xlabel='Платформы', ylabel='Продажи')\n",
    "plt.show()"
   ]
  },
  {
   "cell_type": "code",
   "execution_count": 31,
   "metadata": {},
   "outputs": [
    {
     "data": {
      "text/html": [
       "<div>\n",
       "<style scoped>\n",
       "    .dataframe tbody tr th:only-of-type {\n",
       "        vertical-align: middle;\n",
       "    }\n",
       "\n",
       "    .dataframe tbody tr th {\n",
       "        vertical-align: top;\n",
       "    }\n",
       "\n",
       "    .dataframe thead th {\n",
       "        text-align: right;\n",
       "    }\n",
       "</style>\n",
       "<table border=\"1\" class=\"dataframe\">\n",
       "  <thead>\n",
       "    <tr style=\"text-align: right;\">\n",
       "      <th></th>\n",
       "      <th>grouped_sales</th>\n",
       "    </tr>\n",
       "    <tr>\n",
       "      <th>platform</th>\n",
       "      <th></th>\n",
       "    </tr>\n",
       "  </thead>\n",
       "  <tbody>\n",
       "    <tr>\n",
       "      <th>PS2</th>\n",
       "      <td>1233.56</td>\n",
       "    </tr>\n",
       "    <tr>\n",
       "      <th>X360</th>\n",
       "      <td>961.24</td>\n",
       "    </tr>\n",
       "    <tr>\n",
       "      <th>PS3</th>\n",
       "      <td>931.34</td>\n",
       "    </tr>\n",
       "    <tr>\n",
       "      <th>Wii</th>\n",
       "      <td>891.18</td>\n",
       "    </tr>\n",
       "    <tr>\n",
       "      <th>DS</th>\n",
       "      <td>802.78</td>\n",
       "    </tr>\n",
       "    <tr>\n",
       "      <th>PS</th>\n",
       "      <td>727.58</td>\n",
       "    </tr>\n",
       "    <tr>\n",
       "      <th>PS4</th>\n",
       "      <td>314.14</td>\n",
       "    </tr>\n",
       "    <tr>\n",
       "      <th>GBA</th>\n",
       "      <td>312.88</td>\n",
       "    </tr>\n",
       "    <tr>\n",
       "      <th>PSP</th>\n",
       "      <td>289.53</td>\n",
       "    </tr>\n",
       "    <tr>\n",
       "      <th>3DS</th>\n",
       "      <td>257.81</td>\n",
       "    </tr>\n",
       "    <tr>\n",
       "      <th>PC</th>\n",
       "      <td>255.76</td>\n",
       "    </tr>\n",
       "    <tr>\n",
       "      <th>GB</th>\n",
       "      <td>254.43</td>\n",
       "    </tr>\n",
       "    <tr>\n",
       "      <th>XB</th>\n",
       "      <td>251.57</td>\n",
       "    </tr>\n",
       "    <tr>\n",
       "      <th>NES</th>\n",
       "      <td>251.05</td>\n",
       "    </tr>\n",
       "    <tr>\n",
       "      <th>N64</th>\n",
       "      <td>218.01</td>\n",
       "    </tr>\n",
       "    <tr>\n",
       "      <th>SNES</th>\n",
       "      <td>200.04</td>\n",
       "    </tr>\n",
       "    <tr>\n",
       "      <th>GC</th>\n",
       "      <td>196.73</td>\n",
       "    </tr>\n",
       "    <tr>\n",
       "      <th>XOne</th>\n",
       "      <td>159.32</td>\n",
       "    </tr>\n",
       "    <tr>\n",
       "      <th>2600</th>\n",
       "      <td>86.48</td>\n",
       "    </tr>\n",
       "    <tr>\n",
       "      <th>WiiU</th>\n",
       "      <td>82.19</td>\n",
       "    </tr>\n",
       "    <tr>\n",
       "      <th>PSV</th>\n",
       "      <td>53.81</td>\n",
       "    </tr>\n",
       "    <tr>\n",
       "      <th>SAT</th>\n",
       "      <td>33.59</td>\n",
       "    </tr>\n",
       "    <tr>\n",
       "      <th>GEN</th>\n",
       "      <td>28.35</td>\n",
       "    </tr>\n",
       "    <tr>\n",
       "      <th>DC</th>\n",
       "      <td>15.95</td>\n",
       "    </tr>\n",
       "    <tr>\n",
       "      <th>SCD</th>\n",
       "      <td>1.86</td>\n",
       "    </tr>\n",
       "    <tr>\n",
       "      <th>NG</th>\n",
       "      <td>1.44</td>\n",
       "    </tr>\n",
       "    <tr>\n",
       "      <th>WS</th>\n",
       "      <td>1.42</td>\n",
       "    </tr>\n",
       "    <tr>\n",
       "      <th>TG16</th>\n",
       "      <td>0.16</td>\n",
       "    </tr>\n",
       "    <tr>\n",
       "      <th>3DO</th>\n",
       "      <td>0.10</td>\n",
       "    </tr>\n",
       "    <tr>\n",
       "      <th>GG</th>\n",
       "      <td>0.04</td>\n",
       "    </tr>\n",
       "    <tr>\n",
       "      <th>PCFX</th>\n",
       "      <td>0.03</td>\n",
       "    </tr>\n",
       "  </tbody>\n",
       "</table>\n",
       "</div>"
      ],
      "text/plain": [
       "          grouped_sales\n",
       "platform               \n",
       "PS2             1233.56\n",
       "X360             961.24\n",
       "PS3              931.34\n",
       "Wii              891.18\n",
       "DS               802.78\n",
       "PS               727.58\n",
       "PS4              314.14\n",
       "GBA              312.88\n",
       "PSP              289.53\n",
       "3DS              257.81\n",
       "PC               255.76\n",
       "GB               254.43\n",
       "XB               251.57\n",
       "NES              251.05\n",
       "N64              218.01\n",
       "SNES             200.04\n",
       "GC               196.73\n",
       "XOne             159.32\n",
       "2600              86.48\n",
       "WiiU              82.19\n",
       "PSV               53.81\n",
       "SAT               33.59\n",
       "GEN               28.35\n",
       "DC                15.95\n",
       "SCD                1.86\n",
       "NG                 1.44\n",
       "WS                 1.42\n",
       "TG16               0.16\n",
       "3DO                0.10\n",
       "GG                 0.04\n",
       "PCFX               0.03"
      ]
     },
     "execution_count": 31,
     "metadata": {},
     "output_type": "execute_result"
    }
   ],
   "source": [
    "# найдем платформы с наибольшими суммарными продажами\n",
    "platform_sales.sort_values(by='grouped_sales', ascending= False)"
   ]
  },
  {
   "cell_type": "markdown",
   "metadata": {},
   "source": [
    "<div class=\"alert alert-block alert-info\">\n",
    "<b> По графику и обьекту series можем вычислить платформы с наибольшими суммарными продажами. Это 6 платформ, суммарные продажи которых превышают 700 млн: 'PS2','X360', 'Wii', 'PS3', 'DS', 'PS'. Построим распределение по годам"
   ]
  },
  {
   "cell_type": "markdown",
   "metadata": {},
   "source": [
    "<div class=\"alert alert-block alert-info\">\n",
    "<b> Удалим выброс на платформе DS в 1985 году"
   ]
  },
  {
   "cell_type": "code",
   "execution_count": 32,
   "metadata": {},
   "outputs": [
    {
     "data": {
      "text/html": [
       "<div>\n",
       "<style scoped>\n",
       "    .dataframe tbody tr th:only-of-type {\n",
       "        vertical-align: middle;\n",
       "    }\n",
       "\n",
       "    .dataframe tbody tr th {\n",
       "        vertical-align: top;\n",
       "    }\n",
       "\n",
       "    .dataframe thead th {\n",
       "        text-align: right;\n",
       "    }\n",
       "</style>\n",
       "<table border=\"1\" class=\"dataframe\">\n",
       "  <thead>\n",
       "    <tr style=\"text-align: right;\">\n",
       "      <th></th>\n",
       "      <th>name</th>\n",
       "      <th>platform</th>\n",
       "      <th>year_of_release</th>\n",
       "      <th>genre</th>\n",
       "      <th>na_sales</th>\n",
       "      <th>eu_sales</th>\n",
       "      <th>jp_sales</th>\n",
       "      <th>other_sales</th>\n",
       "      <th>critic_score</th>\n",
       "      <th>user_score</th>\n",
       "      <th>rating</th>\n",
       "      <th>total_sales</th>\n",
       "    </tr>\n",
       "  </thead>\n",
       "  <tbody>\n",
       "  </tbody>\n",
       "</table>\n",
       "</div>"
      ],
      "text/plain": [
       "Empty DataFrame\n",
       "Columns: [name, platform, year_of_release, genre, na_sales, eu_sales, jp_sales, other_sales, critic_score, user_score, rating, total_sales]\n",
       "Index: []"
      ]
     },
     "execution_count": 32,
     "metadata": {},
     "output_type": "execute_result"
    }
   ],
   "source": [
    "\n",
    "ind = data.query('platform == \"DS\" & year_of_release == 1985 ').index\n",
    "data = data.drop(index=ind).reset_index(drop=True)\n",
    "data.query('platform == \"DS\" & year_of_release == 1985 ')"
   ]
  },
  {
   "cell_type": "code",
   "execution_count": 33,
   "metadata": {},
   "outputs": [
    {
     "data": {
      "image/png": "[encoded data removed]",
      "text/plain": [
       "<Figure size 1080x720 with 1 Axes>"
      ]
     },
     "metadata": {
      "needs_background": "light"
     },
     "output_type": "display_data"
    }
   ],
   "source": [
    "# распределение продаж наиболее популярных платформ по годам на одном графике\n",
    "\n",
    "popular_platforms = ['PS2','X360', 'Wii', 'PS3', 'DS', 'PS', 'WiiU' ]\n",
    "popular_platforms_data = data.query('platform.isin(@popular_platforms)')\n",
    "year_platform_sales = popular_platforms_data.pivot_table(index='year_of_release', columns='platform', \n",
    "                    values='total_sales', aggfunc='sum') # создали сводную таблицу зависимости суммарных продаж\n",
    "                                                          #на популярных платформах за разные годы\n",
    "\n",
    "ax = year_platform_sales.plot(kind='bar', figsize=(15, 10))\n",
    "ax.set_title('Распределение суммы продаж по популярным платформам годам')\n",
    "ax.set(xlabel='Год', ylabel='Продажи')\n",
    "plt.show()"
   ]
  },
  {
   "cell_type": "markdown",
   "metadata": {},
   "source": [
    "<div class=\"alert alert-block alert-info\">\n",
    "<b> На общем графике распределения суммы продаж наиболее популярных платформ по годам можем заметить тенденцию к появлению новых платформ и ухода с рынка старых. Например в 1996-2000 была очень популярна платформа PS, но в 2004 году игры на такую платформу уже не выпускались, самой актуальной платформой в 2004 году стала PS2, но в 2011 ушла с рынка.\n",
    "\n",
    "<br>Эта диаграмма дает нам общую картину о распределнии, чтобы ответить на вопрос \"За какой характерный срок появляются новые и исчезают старые платформы?\", построим диаграммы распределения продаж по годам для каждой популярной платформы"
   ]
  },
  {
   "cell_type": "code",
   "execution_count": 34,
   "metadata": {},
   "outputs": [
    {
     "data": {
      "text/html": [
       "<div>\n",
       "<style scoped>\n",
       "    .dataframe tbody tr th:only-of-type {\n",
       "        vertical-align: middle;\n",
       "    }\n",
       "\n",
       "    .dataframe tbody tr th {\n",
       "        vertical-align: top;\n",
       "    }\n",
       "\n",
       "    .dataframe thead th {\n",
       "        text-align: right;\n",
       "    }\n",
       "</style>\n",
       "<table border=\"1\" class=\"dataframe\">\n",
       "  <thead>\n",
       "    <tr style=\"text-align: right;\">\n",
       "      <th></th>\n",
       "      <th>name</th>\n",
       "      <th>platform</th>\n",
       "      <th>year_of_release</th>\n",
       "      <th>genre</th>\n",
       "      <th>na_sales</th>\n",
       "      <th>eu_sales</th>\n",
       "      <th>jp_sales</th>\n",
       "      <th>other_sales</th>\n",
       "      <th>critic_score</th>\n",
       "      <th>user_score</th>\n",
       "      <th>rating</th>\n",
       "      <th>total_sales</th>\n",
       "    </tr>\n",
       "  </thead>\n",
       "  <tbody>\n",
       "    <tr>\n",
       "      <th>0</th>\n",
       "      <td>Wii Sports</td>\n",
       "      <td>Wii</td>\n",
       "      <td>2006</td>\n",
       "      <td>Sports</td>\n",
       "      <td>41.36</td>\n",
       "      <td>28.96</td>\n",
       "      <td>3.77</td>\n",
       "      <td>8.45</td>\n",
       "      <td>76.0</td>\n",
       "      <td>80.0</td>\n",
       "      <td>E</td>\n",
       "      <td>82.54</td>\n",
       "    </tr>\n",
       "    <tr>\n",
       "      <th>2</th>\n",
       "      <td>Mario Kart Wii</td>\n",
       "      <td>Wii</td>\n",
       "      <td>2008</td>\n",
       "      <td>Racing</td>\n",
       "      <td>15.68</td>\n",
       "      <td>12.76</td>\n",
       "      <td>3.79</td>\n",
       "      <td>3.29</td>\n",
       "      <td>82.0</td>\n",
       "      <td>83.0</td>\n",
       "      <td>E</td>\n",
       "      <td>35.52</td>\n",
       "    </tr>\n",
       "    <tr>\n",
       "      <th>3</th>\n",
       "      <td>Wii Sports Resort</td>\n",
       "      <td>Wii</td>\n",
       "      <td>2009</td>\n",
       "      <td>Sports</td>\n",
       "      <td>15.61</td>\n",
       "      <td>10.93</td>\n",
       "      <td>3.28</td>\n",
       "      <td>2.95</td>\n",
       "      <td>80.0</td>\n",
       "      <td>80.0</td>\n",
       "      <td>E</td>\n",
       "      <td>32.77</td>\n",
       "    </tr>\n",
       "    <tr>\n",
       "      <th>6</th>\n",
       "      <td>New Super Mario Bros.</td>\n",
       "      <td>DS</td>\n",
       "      <td>2006</td>\n",
       "      <td>Platform</td>\n",
       "      <td>11.28</td>\n",
       "      <td>9.14</td>\n",
       "      <td>6.50</td>\n",
       "      <td>2.88</td>\n",
       "      <td>89.0</td>\n",
       "      <td>85.0</td>\n",
       "      <td>E</td>\n",
       "      <td>29.80</td>\n",
       "    </tr>\n",
       "    <tr>\n",
       "      <th>7</th>\n",
       "      <td>Wii Play</td>\n",
       "      <td>Wii</td>\n",
       "      <td>2006</td>\n",
       "      <td>Misc</td>\n",
       "      <td>13.96</td>\n",
       "      <td>9.18</td>\n",
       "      <td>2.93</td>\n",
       "      <td>2.84</td>\n",
       "      <td>58.0</td>\n",
       "      <td>66.0</td>\n",
       "      <td>E</td>\n",
       "      <td>28.91</td>\n",
       "    </tr>\n",
       "  </tbody>\n",
       "</table>\n",
       "</div>"
      ],
      "text/plain": [
       "                    name platform  year_of_release     genre  na_sales  \\\n",
       "0             Wii Sports      Wii             2006    Sports     41.36   \n",
       "2         Mario Kart Wii      Wii             2008    Racing     15.68   \n",
       "3      Wii Sports Resort      Wii             2009    Sports     15.61   \n",
       "6  New Super Mario Bros.       DS             2006  Platform     11.28   \n",
       "7               Wii Play      Wii             2006      Misc     13.96   \n",
       "\n",
       "   eu_sales  jp_sales  other_sales  critic_score  user_score rating  \\\n",
       "0     28.96      3.77         8.45          76.0        80.0      E   \n",
       "2     12.76      3.79         3.29          82.0        83.0      E   \n",
       "3     10.93      3.28         2.95          80.0        80.0      E   \n",
       "6      9.14      6.50         2.88          89.0        85.0      E   \n",
       "7      9.18      2.93         2.84          58.0        66.0      E   \n",
       "\n",
       "   total_sales  \n",
       "0        82.54  \n",
       "2        35.52  \n",
       "3        32.77  \n",
       "6        29.80  \n",
       "7        28.91  "
      ]
     },
     "execution_count": 34,
     "metadata": {},
     "output_type": "execute_result"
    }
   ],
   "source": [
    "popular_platforms_data.head()\n"
   ]
  },
  {
   "cell_type": "code",
   "execution_count": 35,
   "metadata": {},
   "outputs": [
    {
     "data": {
      "image/png": "[encoded data removed]",
      "text/plain": [
       "<Figure size 648x360 with 1 Axes>"
      ]
     },
     "metadata": {
      "needs_background": "light"
     },
     "output_type": "display_data"
    },
    {
     "data": {
      "image/png": "[encoded data removed]",
      "text/plain": [
       "<Figure size 648x360 with 1 Axes>"
      ]
     },
     "metadata": {
      "needs_background": "light"
     },
     "output_type": "display_data"
    },
    {
     "data": {
      "image/png": "[encoded data removed]",
      "text/plain": [
       "<Figure size 648x360 with 1 Axes>"
      ]
     },
     "metadata": {
      "needs_background": "light"
     },
     "output_type": "display_data"
    },
    {
     "data": {
      "image/png": "[encoded data removed]",
      "text/plain": [
       "<Figure size 648x360 with 1 Axes>"
      ]
     },
     "metadata": {
      "needs_background": "light"
     },
     "output_type": "display_data"
    },
    {
     "data": {
      "image/png": "[encoded data removed]",
      "text/plain": [
       "<Figure size 648x360 with 1 Axes>"
      ]
     },
     "metadata": {
      "needs_background": "light"
     },
     "output_type": "display_data"
    },
    {
     "data": {
      "image/png": "[encoded data removed]",
      "text/plain": [
       "<Figure size 648x360 with 1 Axes>"
      ]
     },
     "metadata": {
      "needs_background": "light"
     },
     "output_type": "display_data"
    }
   ],
   "source": [
    "\n",
    "year_platform_sales_PS2_fltr = data.query('platform == \"PS2\"')\n",
    "year_platform_sales_X360_fltr = data.query('platform==(\"X360\")')\n",
    "year_platform_sales_Wii_fltr = data.query('platform==(\"Wii\")')\n",
    "year_platform_sales_PS3_fltr = data.query('platform==(\"PS3\")')\n",
    "year_platform_sales_DS_fltr = data.query('platform==(\"DS\")')\n",
    "year_platform_sales_PS_fltr = data.query('platform==(\"PS\")')\n",
    "seq1 = ['year_platform_sales_PS2', 'year_platform_sales_X360', 'year_platform_sales_Wii', 'year_platform_sales_PS3',\n",
    "      'year_platform_sales_DS', 'year_platform_sales_PS']\n",
    "seq2 = [year_platform_sales_PS2_fltr, year_platform_sales_X360_fltr, year_platform_sales_Wii_fltr, year_platform_sales_PS3_fltr,\n",
    "      year_platform_sales_DS_fltr, year_platform_sales_PS_fltr]\n",
    "#year_platform_sales_PS2 = year_platform_sales_PS2_fltr.pivot_table(index=['platform', 'year_of_release'], values='total_sales', aggfunc='sum')\n",
    "#year_platform_sales_PS2\n",
    "for j in seq2:\n",
    "    j = j.pivot_table(index=['platform', 'year_of_release'], values='total_sales', aggfunc='sum')\n",
    "    j.plot(kind='bar', figsize=(9, 5))"
   ]
  },
  {
   "cell_type": "markdown",
   "metadata": {},
   "source": [
    "<div class=\"alert alert-block alert-info\">\n",
    "<b> По следуещем диаграммам распределения можем сказать, что срок жизни платформы составляет от 10 до 12 лет, в среднем получается около 11. Также заметим, что распределение продаж за годы стремиться к норамльному на платформах X360, PS. Остальные распределения больше похожи на Пуассоновские."
   ]
  },
  {
   "cell_type": "markdown",
   "metadata": {},
   "source": [
    "<div class=\"alert alert-block alert-info\">\n",
    "<b>Выбор актуально периода\n",
    "<br>Для того, чтобы построить корректный прогноз на 2017 год, следует определить актуальный период. Информация об устаревших платформах, таких как PS, на которых больше не выпускают игры, нам не интересна, при этом нам надо собрать достаточно данных, чтобы провести адекватную оценку следующеего года. Для такой динамично меняющейся индустрии, как игровая, было бы достаточно взять данные только за 2016 год, но данные за 2016 не полные. Поэтому предлагаю взять интервал с 2014 - 2016 год для прогнозирования продаж.\n"
   ]
  },
  {
   "cell_type": "code",
   "execution_count": 36,
   "metadata": {},
   "outputs": [
    {
     "data": {
      "text/html": [
       "<div>\n",
       "<style scoped>\n",
       "    .dataframe tbody tr th:only-of-type {\n",
       "        vertical-align: middle;\n",
       "    }\n",
       "\n",
       "    .dataframe tbody tr th {\n",
       "        vertical-align: top;\n",
       "    }\n",
       "\n",
       "    .dataframe thead th {\n",
       "        text-align: right;\n",
       "    }\n",
       "</style>\n",
       "<table border=\"1\" class=\"dataframe\">\n",
       "  <thead>\n",
       "    <tr style=\"text-align: right;\">\n",
       "      <th></th>\n",
       "      <th>name</th>\n",
       "      <th>platform</th>\n",
       "      <th>year_of_release</th>\n",
       "      <th>genre</th>\n",
       "      <th>na_sales</th>\n",
       "      <th>eu_sales</th>\n",
       "      <th>jp_sales</th>\n",
       "      <th>other_sales</th>\n",
       "      <th>critic_score</th>\n",
       "      <th>user_score</th>\n",
       "      <th>rating</th>\n",
       "      <th>total_sales</th>\n",
       "    </tr>\n",
       "  </thead>\n",
       "  <tbody>\n",
       "    <tr>\n",
       "      <th>31</th>\n",
       "      <td>Call of Duty: Black Ops 3</td>\n",
       "      <td>PS4</td>\n",
       "      <td>2015</td>\n",
       "      <td>Shooter</td>\n",
       "      <td>6.03</td>\n",
       "      <td>5.86</td>\n",
       "      <td>0.36</td>\n",
       "      <td>2.38</td>\n",
       "      <td>73.0</td>\n",
       "      <td>74.0</td>\n",
       "      <td>nd</td>\n",
       "      <td>14.63</td>\n",
       "    </tr>\n",
       "    <tr>\n",
       "      <th>42</th>\n",
       "      <td>Grand Theft Auto V</td>\n",
       "      <td>PS4</td>\n",
       "      <td>2014</td>\n",
       "      <td>Action</td>\n",
       "      <td>3.96</td>\n",
       "      <td>6.31</td>\n",
       "      <td>0.38</td>\n",
       "      <td>1.97</td>\n",
       "      <td>97.0</td>\n",
       "      <td>83.0</td>\n",
       "      <td>M</td>\n",
       "      <td>12.62</td>\n",
       "    </tr>\n",
       "    <tr>\n",
       "      <th>47</th>\n",
       "      <td>Pokemon Omega Ruby/Pokemon Alpha Sapphire</td>\n",
       "      <td>3DS</td>\n",
       "      <td>2014</td>\n",
       "      <td>Role-Playing</td>\n",
       "      <td>4.35</td>\n",
       "      <td>3.49</td>\n",
       "      <td>3.10</td>\n",
       "      <td>0.74</td>\n",
       "      <td>74.0</td>\n",
       "      <td>78.0</td>\n",
       "      <td>nd</td>\n",
       "      <td>11.68</td>\n",
       "    </tr>\n",
       "    <tr>\n",
       "      <th>77</th>\n",
       "      <td>FIFA 16</td>\n",
       "      <td>PS4</td>\n",
       "      <td>2015</td>\n",
       "      <td>Sports</td>\n",
       "      <td>1.12</td>\n",
       "      <td>6.12</td>\n",
       "      <td>0.06</td>\n",
       "      <td>1.28</td>\n",
       "      <td>82.0</td>\n",
       "      <td>43.0</td>\n",
       "      <td>E</td>\n",
       "      <td>8.58</td>\n",
       "    </tr>\n",
       "    <tr>\n",
       "      <th>87</th>\n",
       "      <td>Star Wars Battlefront (2015)</td>\n",
       "      <td>PS4</td>\n",
       "      <td>2015</td>\n",
       "      <td>Shooter</td>\n",
       "      <td>2.99</td>\n",
       "      <td>3.49</td>\n",
       "      <td>0.22</td>\n",
       "      <td>1.28</td>\n",
       "      <td>73.0</td>\n",
       "      <td>74.0</td>\n",
       "      <td>nd</td>\n",
       "      <td>7.98</td>\n",
       "    </tr>\n",
       "  </tbody>\n",
       "</table>\n",
       "</div>"
      ],
      "text/plain": [
       "                                         name platform  year_of_release  \\\n",
       "31                  Call of Duty: Black Ops 3      PS4             2015   \n",
       "42                         Grand Theft Auto V      PS4             2014   \n",
       "47  Pokemon Omega Ruby/Pokemon Alpha Sapphire      3DS             2014   \n",
       "77                                    FIFA 16      PS4             2015   \n",
       "87               Star Wars Battlefront (2015)      PS4             2015   \n",
       "\n",
       "           genre  na_sales  eu_sales  jp_sales  other_sales  critic_score  \\\n",
       "31       Shooter      6.03      5.86      0.36         2.38          73.0   \n",
       "42        Action      3.96      6.31      0.38         1.97          97.0   \n",
       "47  Role-Playing      4.35      3.49      3.10         0.74          74.0   \n",
       "77        Sports      1.12      6.12      0.06         1.28          82.0   \n",
       "87       Shooter      2.99      3.49      0.22         1.28          73.0   \n",
       "\n",
       "    user_score rating  total_sales  \n",
       "31        74.0     nd        14.63  \n",
       "42        83.0      M        12.62  \n",
       "47        78.0     nd        11.68  \n",
       "77        43.0      E         8.58  \n",
       "87        74.0     nd         7.98  "
      ]
     },
     "execution_count": 36,
     "metadata": {},
     "output_type": "execute_result"
    }
   ],
   "source": [
    "data_pred = data.query(' 2014<=year_of_release<= 2016') #данные за актуальные период\n",
    "data_pred.head()"
   ]
  },
  {
   "cell_type": "markdown",
   "metadata": {},
   "source": [
    "#### Распределение общих продаж по платформам за актуальный период"
   ]
  },
  {
   "cell_type": "code",
   "execution_count": 37,
   "metadata": {},
   "outputs": [
    {
     "data": {
      "image/png": "[encoded data removed]",
      "text/plain": [
       "<Figure size 720x504 with 1 Axes>"
      ]
     },
     "metadata": {
      "needs_background": "light"
     },
     "output_type": "display_data"
    }
   ],
   "source": [
    "\n",
    "data_pred_table = data_pred.pivot_table(index='platform', values='total_sales', aggfunc=['sum'])\n",
    "data_pred_table.columns=['total_sales_sum']\n",
    "\n",
    "ax = data_pred_table.plot( kind='bar', figsize=(10, 7))\n",
    "ax.set_title('Распределение суммы продаж платформам 2014-2016')\n",
    "plt.show()"
   ]
  },
  {
   "cell_type": "code",
   "execution_count": 38,
   "metadata": {},
   "outputs": [
    {
     "data": {
      "text/html": [
       "<div>\n",
       "<style scoped>\n",
       "    .dataframe tbody tr th:only-of-type {\n",
       "        vertical-align: middle;\n",
       "    }\n",
       "\n",
       "    .dataframe tbody tr th {\n",
       "        vertical-align: top;\n",
       "    }\n",
       "\n",
       "    .dataframe thead th {\n",
       "        text-align: right;\n",
       "    }\n",
       "</style>\n",
       "<table border=\"1\" class=\"dataframe\">\n",
       "  <thead>\n",
       "    <tr style=\"text-align: right;\">\n",
       "      <th></th>\n",
       "      <th>total_sales_sum</th>\n",
       "    </tr>\n",
       "    <tr>\n",
       "      <th>platform</th>\n",
       "      <th></th>\n",
       "    </tr>\n",
       "  </thead>\n",
       "  <tbody>\n",
       "    <tr>\n",
       "      <th>PS4</th>\n",
       "      <td>288.15</td>\n",
       "    </tr>\n",
       "    <tr>\n",
       "      <th>XOne</th>\n",
       "      <td>140.36</td>\n",
       "    </tr>\n",
       "    <tr>\n",
       "      <th>3DS</th>\n",
       "      <td>86.68</td>\n",
       "    </tr>\n",
       "    <tr>\n",
       "      <th>PS3</th>\n",
       "      <td>68.18</td>\n",
       "    </tr>\n",
       "    <tr>\n",
       "      <th>X360</th>\n",
       "      <td>48.22</td>\n",
       "    </tr>\n",
       "    <tr>\n",
       "      <th>WiiU</th>\n",
       "      <td>42.98</td>\n",
       "    </tr>\n",
       "    <tr>\n",
       "      <th>PC</th>\n",
       "      <td>27.05</td>\n",
       "    </tr>\n",
       "    <tr>\n",
       "      <th>PSV</th>\n",
       "      <td>22.40</td>\n",
       "    </tr>\n",
       "    <tr>\n",
       "      <th>Wii</th>\n",
       "      <td>5.07</td>\n",
       "    </tr>\n",
       "    <tr>\n",
       "      <th>PSP</th>\n",
       "      <td>0.36</td>\n",
       "    </tr>\n",
       "  </tbody>\n",
       "</table>\n",
       "</div>"
      ],
      "text/plain": [
       "          total_sales_sum\n",
       "platform                 \n",
       "PS4                288.15\n",
       "XOne               140.36\n",
       "3DS                 86.68\n",
       "PS3                 68.18\n",
       "X360                48.22\n",
       "WiiU                42.98\n",
       "PC                  27.05\n",
       "PSV                 22.40\n",
       "Wii                  5.07\n",
       "PSP                  0.36"
      ]
     },
     "execution_count": 38,
     "metadata": {},
     "output_type": "execute_result"
    }
   ],
   "source": [
    "data_pred_table.sort_values(by='total_sales_sum', ascending=False)"
   ]
  },
  {
   "cell_type": "markdown",
   "metadata": {},
   "source": [
    "<div class=\"alert alert-block alert-info\">\n",
    "<b> На графике распределения суммы продаж по платформам за 2014-2016 года можно отметить 7 платформ - лидеров по прадажам: PS4, XOne, 3DS, WiiU,X360, PS3, PC."
   ]
  },
  {
   "cell_type": "code",
   "execution_count": 39,
   "metadata": {},
   "outputs": [
    {
     "data": {
      "image/png": "[encoded data removed]",
      "text/plain": [
       "<Figure size 1080x720 with 1 Axes>"
      ]
     },
     "metadata": {
      "needs_background": "light"
     },
     "output_type": "display_data"
    }
   ],
   "source": [
    "# распределение продаж наиболее популярных платформ за актуальный период на одном графике\n",
    "\n",
    "popular_platforms_act = ['PS4','XOne', '3DS','PS3','X360', 'WiiU', 'PC' ]\n",
    "popular_platforms_data_act = data_pred.query('platform.isin(@popular_platforms_act)')\n",
    "year_act_platform_sales = popular_platforms_data_act.pivot_table(index='year_of_release', columns='platform', \n",
    "                    values='total_sales', aggfunc='sum') # создали сводную таблицу зависимости суммарных продаж\n",
    "                                                          #на популярных платформах за разные годы\n",
    "\n",
    "ax = year_act_platform_sales.plot(kind='bar', figsize=(15, 10))\n",
    "ax.set_title('Распределение суммы продаж по популярным платформам 2014-2016')\n",
    "ax.set(xlabel='Год', ylabel='Продажи')\n",
    "plt.show()"
   ]
  },
  {
   "cell_type": "markdown",
   "metadata": {},
   "source": [
    "<div class=\"alert alert-block alert-info\">\n",
    "<b> На графике распределения суммы продаж по платформам за 2014-2016 года можно увидеть, как изменялись продажи крупных платформ за актуальный период. Явными лидерами продаж на 2016 год становятся платформы PS4 и XOne.\n",
    "    \n",
    "<br>    Платформы X360 и PS3 были выпущены в 2006 и 2005 годах, и с 2014 по 2015 продажи на этих платформах значительно уменьшаются, их вытесняют платформы PS4 и XOne. \n",
    "    \n",
    "<br>    Что ж все в мире циклично, одни платформы умирают - другие появляются, постоянным остается только PC. Продажи на PC практически не изменились c 2014 по 2015 год, эту платформу стоит рассматривать, как перспективную. Также отметим, что с 2015-2016 года в тройку лидеров входит платформа 3DS. \n",
    "    \n",
    "<br>    Таким образом, получаем следующие потенциально прибыльные платформы: PS4, XOne, 3DS, PC.  \n",
    "   "
   ]
  },
  {
   "cell_type": "markdown",
   "metadata": {},
   "source": [
    "<div class=\"alert alert-block alert-info\">\n",
    "<b> Построим диаграмму распределения продаж потенциально прибыльных платформ и посмотрим на измнение продаж во времени."
   ]
  },
  {
   "cell_type": "code",
   "execution_count": 40,
   "metadata": {},
   "outputs": [
    {
     "data": {
      "image/png": "[encoded data removed]",
      "text/plain": [
       "<Figure size 1080x720 with 1 Axes>"
      ]
     },
     "metadata": {
      "needs_background": "light"
     },
     "output_type": "display_data"
    }
   ],
   "source": [
    "# распределение суммы продаж по потенциально прибыльным платформам за актуальный период\n",
    "data_pred_table_x_p = (data_pred.query(' (platform == \"PS4\" | platform == \"XOne\"|\\\n",
    "platform == \"3DS\" | platform == \"PC\") ')\\\n",
    "                       .pivot_table(index='platform',\\\n",
    "                                    columns='year_of_release', values='total_sales', aggfunc=['sum']))\n",
    "data_pred_table_x_p.columns = ['2014', '2015', '2016']\n",
    "\n",
    "ax = data_pred_table_x_p.plot(kind='bar', figsize=(15, 10))\n",
    "ax.set_title('Распределение суммы продаж потенциально прибыльным платформам за актуальный период')\n",
    "plt.show()"
   ]
  },
  {
   "cell_type": "markdown",
   "metadata": {},
   "source": [
    "<div class=\"alert alert-block alert-info\">\n",
    "<b> На графике распределения суммы продаж по наиболее потенциальным платформам во времени заметим, что с 2014 - 2015 года продажи на платформах 3DS, PC уменьшаются в среднем на треть. Рост продаж наблюдается на платформах XOne и PS4. Безусловным лидером продаж становится платформа PS4. Таким образом, круг потенциально прибыльных платформ сужается до двух: XOne и PS4."
   ]
  },
  {
   "cell_type": "markdown",
   "metadata": {},
   "source": [
    "#### Диаграмма размаха по глобальным продажам игр в разбивке по платформам"
   ]
  },
  {
   "cell_type": "code",
   "execution_count": 41,
   "metadata": {},
   "outputs": [
    {
     "data": {
      "text/plain": [
       "(0.0, 1.75)"
      ]
     },
     "execution_count": 41,
     "metadata": {},
     "output_type": "execute_result"
    },
    {
     "data": {
      "image/png": "[encoded data removed]",
      "text/plain": [
       "<Figure size 1080x720 with 1 Axes>"
      ]
     },
     "metadata": {
      "needs_background": "light"
     },
     "output_type": "display_data"
    }
   ],
   "source": [
    "# строим диаграммы размаха для каждой платформы\n",
    "data_pred.boxplot(column='total_sales', by=['platform'], figsize=(15, 10));\n",
    "plt.ylim(0, 1.75)"
   ]
  },
  {
   "cell_type": "code",
   "execution_count": 42,
   "metadata": {},
   "outputs": [
    {
     "data": {
      "text/html": [
       "<div>\n",
       "<style scoped>\n",
       "    .dataframe tbody tr th:only-of-type {\n",
       "        vertical-align: middle;\n",
       "    }\n",
       "\n",
       "    .dataframe tbody tr th {\n",
       "        vertical-align: top;\n",
       "    }\n",
       "\n",
       "    .dataframe thead th {\n",
       "        text-align: right;\n",
       "    }\n",
       "</style>\n",
       "<table border=\"1\" class=\"dataframe\">\n",
       "  <thead>\n",
       "    <tr style=\"text-align: right;\">\n",
       "      <th></th>\n",
       "      <th>count</th>\n",
       "      <th>mean</th>\n",
       "      <th>std</th>\n",
       "      <th>min</th>\n",
       "      <th>25%</th>\n",
       "      <th>50%</th>\n",
       "      <th>75%</th>\n",
       "      <th>max</th>\n",
       "    </tr>\n",
       "    <tr>\n",
       "      <th>platform</th>\n",
       "      <th></th>\n",
       "      <th></th>\n",
       "      <th></th>\n",
       "      <th></th>\n",
       "      <th></th>\n",
       "      <th></th>\n",
       "      <th></th>\n",
       "      <th></th>\n",
       "    </tr>\n",
       "  </thead>\n",
       "  <tbody>\n",
       "    <tr>\n",
       "      <th>3DS</th>\n",
       "      <td>212.0</td>\n",
       "      <td>0.408868</td>\n",
       "      <td>1.188368</td>\n",
       "      <td>0.01</td>\n",
       "      <td>0.0300</td>\n",
       "      <td>0.090</td>\n",
       "      <td>0.2500</td>\n",
       "      <td>11.68</td>\n",
       "    </tr>\n",
       "    <tr>\n",
       "      <th>PC</th>\n",
       "      <td>151.0</td>\n",
       "      <td>0.179139</td>\n",
       "      <td>0.329359</td>\n",
       "      <td>0.01</td>\n",
       "      <td>0.0200</td>\n",
       "      <td>0.060</td>\n",
       "      <td>0.2000</td>\n",
       "      <td>3.05</td>\n",
       "    </tr>\n",
       "    <tr>\n",
       "      <th>PS3</th>\n",
       "      <td>219.0</td>\n",
       "      <td>0.311324</td>\n",
       "      <td>0.633059</td>\n",
       "      <td>0.01</td>\n",
       "      <td>0.0400</td>\n",
       "      <td>0.110</td>\n",
       "      <td>0.3250</td>\n",
       "      <td>5.27</td>\n",
       "    </tr>\n",
       "    <tr>\n",
       "      <th>PS4</th>\n",
       "      <td>376.0</td>\n",
       "      <td>0.766356</td>\n",
       "      <td>1.614969</td>\n",
       "      <td>0.01</td>\n",
       "      <td>0.0575</td>\n",
       "      <td>0.185</td>\n",
       "      <td>0.6900</td>\n",
       "      <td>14.63</td>\n",
       "    </tr>\n",
       "    <tr>\n",
       "      <th>PSP</th>\n",
       "      <td>13.0</td>\n",
       "      <td>0.027692</td>\n",
       "      <td>0.027735</td>\n",
       "      <td>0.01</td>\n",
       "      <td>0.0100</td>\n",
       "      <td>0.020</td>\n",
       "      <td>0.0200</td>\n",
       "      <td>0.09</td>\n",
       "    </tr>\n",
       "    <tr>\n",
       "      <th>PSV</th>\n",
       "      <td>295.0</td>\n",
       "      <td>0.075932</td>\n",
       "      <td>0.141591</td>\n",
       "      <td>0.01</td>\n",
       "      <td>0.0200</td>\n",
       "      <td>0.040</td>\n",
       "      <td>0.0900</td>\n",
       "      <td>1.96</td>\n",
       "    </tr>\n",
       "    <tr>\n",
       "      <th>Wii</th>\n",
       "      <td>11.0</td>\n",
       "      <td>0.460909</td>\n",
       "      <td>0.625451</td>\n",
       "      <td>0.01</td>\n",
       "      <td>0.0350</td>\n",
       "      <td>0.180</td>\n",
       "      <td>0.7550</td>\n",
       "      <td>2.01</td>\n",
       "    </tr>\n",
       "    <tr>\n",
       "      <th>WiiU</th>\n",
       "      <td>73.0</td>\n",
       "      <td>0.588767</td>\n",
       "      <td>1.161467</td>\n",
       "      <td>0.01</td>\n",
       "      <td>0.0500</td>\n",
       "      <td>0.190</td>\n",
       "      <td>0.5700</td>\n",
       "      <td>7.09</td>\n",
       "    </tr>\n",
       "    <tr>\n",
       "      <th>X360</th>\n",
       "      <td>111.0</td>\n",
       "      <td>0.434414</td>\n",
       "      <td>0.628967</td>\n",
       "      <td>0.01</td>\n",
       "      <td>0.0700</td>\n",
       "      <td>0.180</td>\n",
       "      <td>0.5050</td>\n",
       "      <td>4.28</td>\n",
       "    </tr>\n",
       "    <tr>\n",
       "      <th>XOne</th>\n",
       "      <td>228.0</td>\n",
       "      <td>0.615614</td>\n",
       "      <td>1.046513</td>\n",
       "      <td>0.01</td>\n",
       "      <td>0.0500</td>\n",
       "      <td>0.205</td>\n",
       "      <td>0.6325</td>\n",
       "      <td>7.39</td>\n",
       "    </tr>\n",
       "  </tbody>\n",
       "</table>\n",
       "</div>"
      ],
      "text/plain": [
       "          count      mean       std   min     25%    50%     75%    max\n",
       "platform                                                               \n",
       "3DS       212.0  0.408868  1.188368  0.01  0.0300  0.090  0.2500  11.68\n",
       "PC        151.0  0.179139  0.329359  0.01  0.0200  0.060  0.2000   3.05\n",
       "PS3       219.0  0.311324  0.633059  0.01  0.0400  0.110  0.3250   5.27\n",
       "PS4       376.0  0.766356  1.614969  0.01  0.0575  0.185  0.6900  14.63\n",
       "PSP        13.0  0.027692  0.027735  0.01  0.0100  0.020  0.0200   0.09\n",
       "PSV       295.0  0.075932  0.141591  0.01  0.0200  0.040  0.0900   1.96\n",
       "Wii        11.0  0.460909  0.625451  0.01  0.0350  0.180  0.7550   2.01\n",
       "WiiU       73.0  0.588767  1.161467  0.01  0.0500  0.190  0.5700   7.09\n",
       "X360      111.0  0.434414  0.628967  0.01  0.0700  0.180  0.5050   4.28\n",
       "XOne      228.0  0.615614  1.046513  0.01  0.0500  0.205  0.6325   7.39"
      ]
     },
     "execution_count": 42,
     "metadata": {},
     "output_type": "execute_result"
    }
   ],
   "source": [
    "# числовые описания продаж на платформах\n",
    "data_pred.groupby('platform')['total_sales'].describe()"
   ]
  },
  {
   "cell_type": "markdown",
   "metadata": {},
   "source": [
    "<div class=\"alert alert-block alert-info\">\n",
    "<b> Межквартильный размах - область ограниченная ящиком (25-72%), медиана находится в ящике (50%), выборка - это область ограниченная усами, и значения за усами - это выбросы. \n",
    "\n",
    "<br>    По диаграммам размаха и числовым описаниям, можем сказать наибольшее количество игр за 2014-2016 года вышло на платформе PS4 (376 игры) и PSV (295 игр). При этом второе наибольшее значение медианных продаж у PS4 (0,185 млн), тогда как медианные продажи платформы PSV составляют всего лишь 0.04 млн, и это одно из наименьших колисчтва продаж среди всех платформ. Наибольшее медианное значение продаж у XOne (0.205 млн), хотя за этот период игр вышло в более, чем в 1,5 раза меньшне (228 игр) по сравнению с PS4. Наименьшее колчество продаж на платформе PSP 0.020 млн."
   ]
  },
  {
   "cell_type": "markdown",
   "metadata": {},
   "source": [
    "#### Влияние отзывов пользователей и критиков на продажи внутри платформы X360"
   ]
  },
  {
   "cell_type": "code",
   "execution_count": 43,
   "metadata": {},
   "outputs": [
    {
     "data": {
      "text/html": [
       "<div>\n",
       "<style scoped>\n",
       "    .dataframe tbody tr th:only-of-type {\n",
       "        vertical-align: middle;\n",
       "    }\n",
       "\n",
       "    .dataframe tbody tr th {\n",
       "        vertical-align: top;\n",
       "    }\n",
       "\n",
       "    .dataframe thead th {\n",
       "        text-align: right;\n",
       "    }\n",
       "</style>\n",
       "<table border=\"1\" class=\"dataframe\">\n",
       "  <thead>\n",
       "    <tr style=\"text-align: right;\">\n",
       "      <th></th>\n",
       "      <th>name</th>\n",
       "      <th>platform</th>\n",
       "      <th>year_of_release</th>\n",
       "      <th>genre</th>\n",
       "      <th>na_sales</th>\n",
       "      <th>eu_sales</th>\n",
       "      <th>jp_sales</th>\n",
       "      <th>other_sales</th>\n",
       "      <th>critic_score</th>\n",
       "      <th>user_score</th>\n",
       "      <th>rating</th>\n",
       "      <th>total_sales</th>\n",
       "    </tr>\n",
       "  </thead>\n",
       "  <tbody>\n",
       "    <tr>\n",
       "      <th>99</th>\n",
       "      <td>Call of Duty: Black Ops 3</td>\n",
       "      <td>XOne</td>\n",
       "      <td>2015</td>\n",
       "      <td>Shooter</td>\n",
       "      <td>4.59</td>\n",
       "      <td>2.11</td>\n",
       "      <td>0.01</td>\n",
       "      <td>0.68</td>\n",
       "      <td>73.0</td>\n",
       "      <td>74.0</td>\n",
       "      <td>nd</td>\n",
       "      <td>7.39</td>\n",
       "    </tr>\n",
       "    <tr>\n",
       "      <th>165</th>\n",
       "      <td>Grand Theft Auto V</td>\n",
       "      <td>XOne</td>\n",
       "      <td>2014</td>\n",
       "      <td>Action</td>\n",
       "      <td>2.81</td>\n",
       "      <td>2.19</td>\n",
       "      <td>0.00</td>\n",
       "      <td>0.47</td>\n",
       "      <td>97.0</td>\n",
       "      <td>79.0</td>\n",
       "      <td>M</td>\n",
       "      <td>5.47</td>\n",
       "    </tr>\n",
       "    <tr>\n",
       "      <th>179</th>\n",
       "      <td>Call of Duty: Advanced Warfare</td>\n",
       "      <td>XOne</td>\n",
       "      <td>2014</td>\n",
       "      <td>Shooter</td>\n",
       "      <td>3.22</td>\n",
       "      <td>1.55</td>\n",
       "      <td>0.01</td>\n",
       "      <td>0.48</td>\n",
       "      <td>81.0</td>\n",
       "      <td>54.0</td>\n",
       "      <td>M</td>\n",
       "      <td>5.26</td>\n",
       "    </tr>\n",
       "    <tr>\n",
       "      <th>241</th>\n",
       "      <td>Halo 5: Guardians</td>\n",
       "      <td>XOne</td>\n",
       "      <td>2015</td>\n",
       "      <td>Shooter</td>\n",
       "      <td>2.78</td>\n",
       "      <td>1.27</td>\n",
       "      <td>0.03</td>\n",
       "      <td>0.41</td>\n",
       "      <td>84.0</td>\n",
       "      <td>64.0</td>\n",
       "      <td>T</td>\n",
       "      <td>4.49</td>\n",
       "    </tr>\n",
       "    <tr>\n",
       "      <th>269</th>\n",
       "      <td>Fallout 4</td>\n",
       "      <td>XOne</td>\n",
       "      <td>2015</td>\n",
       "      <td>Role-Playing</td>\n",
       "      <td>2.51</td>\n",
       "      <td>1.32</td>\n",
       "      <td>0.01</td>\n",
       "      <td>0.38</td>\n",
       "      <td>88.0</td>\n",
       "      <td>62.0</td>\n",
       "      <td>M</td>\n",
       "      <td>4.22</td>\n",
       "    </tr>\n",
       "  </tbody>\n",
       "</table>\n",
       "</div>"
      ],
      "text/plain": [
       "                               name platform  year_of_release         genre  \\\n",
       "99        Call of Duty: Black Ops 3     XOne             2015       Shooter   \n",
       "165              Grand Theft Auto V     XOne             2014        Action   \n",
       "179  Call of Duty: Advanced Warfare     XOne             2014       Shooter   \n",
       "241               Halo 5: Guardians     XOne             2015       Shooter   \n",
       "269                       Fallout 4     XOne             2015  Role-Playing   \n",
       "\n",
       "     na_sales  eu_sales  jp_sales  other_sales  critic_score  user_score  \\\n",
       "99       4.59      2.11      0.01         0.68          73.0        74.0   \n",
       "165      2.81      2.19      0.00         0.47          97.0        79.0   \n",
       "179      3.22      1.55      0.01         0.48          81.0        54.0   \n",
       "241      2.78      1.27      0.03         0.41          84.0        64.0   \n",
       "269      2.51      1.32      0.01         0.38          88.0        62.0   \n",
       "\n",
       "    rating  total_sales  \n",
       "99      nd         7.39  \n",
       "165      M         5.47  \n",
       "179      M         5.26  \n",
       "241      T         4.49  \n",
       "269      M         4.22  "
      ]
     },
     "execution_count": 43,
     "metadata": {},
     "output_type": "execute_result"
    }
   ],
   "source": [
    "# фильтруем данные из датасета по одной популярной платформе XOne и актуальному периоду\n",
    "data_XOne = data.query('platform == \"XOne\" & 2014<= year_of_release <= 2016')\n",
    "data_XOne.head()"
   ]
  },
  {
   "cell_type": "code",
   "execution_count": 44,
   "metadata": {},
   "outputs": [
    {
     "data": {
      "text/plain": [
       "0.39411082807194947"
      ]
     },
     "execution_count": 44,
     "metadata": {},
     "output_type": "execute_result"
    },
    {
     "data": {
      "image/png": "[encoded data removed]",
      "text/plain": [
       "<Figure size 432x288 with 1 Axes>"
      ]
     },
     "metadata": {
      "needs_background": "light"
     },
     "output_type": "display_data"
    }
   ],
   "source": [
    "# диаграмма рассеяния и коэффициент корреляции между отзывами критиков и продажами\n",
    "data_XOne.plot(x='critic_score', y='total_sales', kind='scatter') \n",
    "data_XOne['total_sales'].corr(data_XOne['critic_score'])"
   ]
  },
  {
   "cell_type": "code",
   "execution_count": 45,
   "metadata": {},
   "outputs": [
    {
     "data": {
      "text/plain": [
       "-0.09853048267615326"
      ]
     },
     "execution_count": 45,
     "metadata": {},
     "output_type": "execute_result"
    },
    {
     "data": {
      "image/png": "[encoded data removed]",
      "text/plain": [
       "<Figure size 432x288 with 1 Axes>"
      ]
     },
     "metadata": {
      "needs_background": "light"
     },
     "output_type": "display_data"
    }
   ],
   "source": [
    "# диаграмма рассеяния и коэффициент корреляции между отзывами пользователей и продажами\n",
    "data_XOne.plot(x='user_score', y='total_sales', kind='scatter') \n",
    "data_XOne['total_sales'].corr(data_XOne['user_score'])"
   ]
  },
  {
   "cell_type": "markdown",
   "metadata": {},
   "source": [
    "<div class=\"alert alert-block alert-info\">\n",
    "<b> На диаграмме рассеивания таких параметров, как отзывы критиков и продажи, можно заметить кореллецию данных при оценке критиков больше 70. При оценке меньше 70 корреляции практически нет, об этом говорит и умеренный коэффициент корреляции 0,39. Коэффициент корреляции положительный, при оценке больше 70 прослеживается зависимость: чем больше оценка критика, тем выше продажи.\n",
    "<br> На диаграмме рассеивания таких параметров, как отзывы пользователей и продажи коэффициент корреляции -0.098 больше -0.1, поэтому можем сделать вывод, что существенной связи между этими параметрами нет, то есть отзывы пользователей не влияют на продажи"
   ]
  },
  {
   "cell_type": "markdown",
   "metadata": {},
   "source": [
    "#### Влияние отзывов пользователей и критиков на продажи на других платформах"
   ]
  },
  {
   "cell_type": "markdown",
   "metadata": {},
   "source": [
    "<div class=\"alert alert-block alert-info\">\n",
    "<b> Для того, чтобы соотнести выводы о влиянии отзывов на продажи по предыдущему пункту, рассмотрим еще одну популярную платформу PS4, чтобы подтвердить результаты"
   ]
  },
  {
   "cell_type": "code",
   "execution_count": 46,
   "metadata": {},
   "outputs": [
    {
     "data": {
      "text/html": [
       "<div>\n",
       "<style scoped>\n",
       "    .dataframe tbody tr th:only-of-type {\n",
       "        vertical-align: middle;\n",
       "    }\n",
       "\n",
       "    .dataframe tbody tr th {\n",
       "        vertical-align: top;\n",
       "    }\n",
       "\n",
       "    .dataframe thead th {\n",
       "        text-align: right;\n",
       "    }\n",
       "</style>\n",
       "<table border=\"1\" class=\"dataframe\">\n",
       "  <thead>\n",
       "    <tr style=\"text-align: right;\">\n",
       "      <th></th>\n",
       "      <th>name</th>\n",
       "      <th>platform</th>\n",
       "      <th>year_of_release</th>\n",
       "      <th>genre</th>\n",
       "      <th>na_sales</th>\n",
       "      <th>eu_sales</th>\n",
       "      <th>jp_sales</th>\n",
       "      <th>other_sales</th>\n",
       "      <th>critic_score</th>\n",
       "      <th>user_score</th>\n",
       "      <th>rating</th>\n",
       "      <th>total_sales</th>\n",
       "    </tr>\n",
       "  </thead>\n",
       "  <tbody>\n",
       "    <tr>\n",
       "      <th>31</th>\n",
       "      <td>Call of Duty: Black Ops 3</td>\n",
       "      <td>PS4</td>\n",
       "      <td>2015</td>\n",
       "      <td>Shooter</td>\n",
       "      <td>6.03</td>\n",
       "      <td>5.86</td>\n",
       "      <td>0.36</td>\n",
       "      <td>2.38</td>\n",
       "      <td>73.0</td>\n",
       "      <td>74.0</td>\n",
       "      <td>nd</td>\n",
       "      <td>14.63</td>\n",
       "    </tr>\n",
       "    <tr>\n",
       "      <th>42</th>\n",
       "      <td>Grand Theft Auto V</td>\n",
       "      <td>PS4</td>\n",
       "      <td>2014</td>\n",
       "      <td>Action</td>\n",
       "      <td>3.96</td>\n",
       "      <td>6.31</td>\n",
       "      <td>0.38</td>\n",
       "      <td>1.97</td>\n",
       "      <td>97.0</td>\n",
       "      <td>83.0</td>\n",
       "      <td>M</td>\n",
       "      <td>12.62</td>\n",
       "    </tr>\n",
       "    <tr>\n",
       "      <th>77</th>\n",
       "      <td>FIFA 16</td>\n",
       "      <td>PS4</td>\n",
       "      <td>2015</td>\n",
       "      <td>Sports</td>\n",
       "      <td>1.12</td>\n",
       "      <td>6.12</td>\n",
       "      <td>0.06</td>\n",
       "      <td>1.28</td>\n",
       "      <td>82.0</td>\n",
       "      <td>43.0</td>\n",
       "      <td>E</td>\n",
       "      <td>8.58</td>\n",
       "    </tr>\n",
       "    <tr>\n",
       "      <th>87</th>\n",
       "      <td>Star Wars Battlefront (2015)</td>\n",
       "      <td>PS4</td>\n",
       "      <td>2015</td>\n",
       "      <td>Shooter</td>\n",
       "      <td>2.99</td>\n",
       "      <td>3.49</td>\n",
       "      <td>0.22</td>\n",
       "      <td>1.28</td>\n",
       "      <td>73.0</td>\n",
       "      <td>74.0</td>\n",
       "      <td>nd</td>\n",
       "      <td>7.98</td>\n",
       "    </tr>\n",
       "    <tr>\n",
       "      <th>92</th>\n",
       "      <td>Call of Duty: Advanced Warfare</td>\n",
       "      <td>PS4</td>\n",
       "      <td>2014</td>\n",
       "      <td>Shooter</td>\n",
       "      <td>2.81</td>\n",
       "      <td>3.48</td>\n",
       "      <td>0.14</td>\n",
       "      <td>1.23</td>\n",
       "      <td>83.0</td>\n",
       "      <td>57.0</td>\n",
       "      <td>M</td>\n",
       "      <td>7.66</td>\n",
       "    </tr>\n",
       "  </tbody>\n",
       "</table>\n",
       "</div>"
      ],
      "text/plain": [
       "                              name platform  year_of_release    genre  \\\n",
       "31       Call of Duty: Black Ops 3      PS4             2015  Shooter   \n",
       "42              Grand Theft Auto V      PS4             2014   Action   \n",
       "77                         FIFA 16      PS4             2015   Sports   \n",
       "87    Star Wars Battlefront (2015)      PS4             2015  Shooter   \n",
       "92  Call of Duty: Advanced Warfare      PS4             2014  Shooter   \n",
       "\n",
       "    na_sales  eu_sales  jp_sales  other_sales  critic_score  user_score  \\\n",
       "31      6.03      5.86      0.36         2.38          73.0        74.0   \n",
       "42      3.96      6.31      0.38         1.97          97.0        83.0   \n",
       "77      1.12      6.12      0.06         1.28          82.0        43.0   \n",
       "87      2.99      3.49      0.22         1.28          73.0        74.0   \n",
       "92      2.81      3.48      0.14         1.23          83.0        57.0   \n",
       "\n",
       "   rating  total_sales  \n",
       "31     nd        14.63  \n",
       "42      M        12.62  \n",
       "77      E         8.58  \n",
       "87     nd         7.98  \n",
       "92      M         7.66  "
      ]
     },
     "execution_count": 46,
     "metadata": {},
     "output_type": "execute_result"
    }
   ],
   "source": [
    "data_PS4 = data.query('platform == \"PS4\" & 2014<= year_of_release <= 2016')\n",
    "data_PS4.head()"
   ]
  },
  {
   "cell_type": "code",
   "execution_count": 47,
   "metadata": {},
   "outputs": [
    {
     "data": {
      "text/plain": [
       "0.34616355123267817"
      ]
     },
     "execution_count": 47,
     "metadata": {},
     "output_type": "execute_result"
    },
    {
     "data": {
      "image/png": "[encoded data removed]",
      "text/plain": [
       "<Figure size 432x288 with 1 Axes>"
      ]
     },
     "metadata": {
      "needs_background": "light"
     },
     "output_type": "display_data"
    }
   ],
   "source": [
    "# диаграмма рассеяния и коэффициент корреляции между отзывами критиков и продажами\n",
    "data_PS4.plot(x='critic_score', y='total_sales', kind='scatter') \n",
    "data_PS4['total_sales'].corr(data_PS4['critic_score'])"
   ]
  },
  {
   "cell_type": "code",
   "execution_count": 48,
   "metadata": {},
   "outputs": [
    {
     "data": {
      "text/plain": [
       "-0.0670946733789288"
      ]
     },
     "execution_count": 48,
     "metadata": {},
     "output_type": "execute_result"
    },
    {
     "data": {
      "image/png": "[encoded data removed]",
      "text/plain": [
       "<Figure size 432x288 with 1 Axes>"
      ]
     },
     "metadata": {
      "needs_background": "light"
     },
     "output_type": "display_data"
    }
   ],
   "source": [
    "# диаграмма рассеяния и коэффициент корреляции между отзывами пользователей и продажами\n",
    "data_PS4.plot(x='user_score', y='total_sales', kind='scatter') \n",
    "data_PS4['total_sales'].corr(data_PS4['user_score'])"
   ]
  },
  {
   "cell_type": "markdown",
   "metadata": {},
   "source": [
    "<div class=\"alert alert-block alert-info\">\n",
    "<b> Диаграммы рассеивания и коэфициенты корреляции между отзывами и продажами на платформе PS4 и XOne очень близки. Напомним, что для XOne корреляция между отзывами критиков, пользователей и продажами составляет соответственно 0,39 и  -0,098, а корреляция между отзывами критиков, пользователей и продажами на платформе PS4 составляет 0,35 и -0,067. Значения получились одних порядков и довольно близкие. Таким образом, можно сделать вывод о том, что при оценках критиков больше 70 прослеживается зависимость между высокой оценкой от критика и увеличением продаж. А оценки пользователей на продажи не влияют."
   ]
  },
  {
   "cell_type": "markdown",
   "metadata": {},
   "source": [
    "#### Распределение игр по жанрам"
   ]
  },
  {
   "cell_type": "markdown",
   "metadata": {},
   "source": [
    "<div class=\"alert alert-block alert-info\">\n",
    "<b> Интересно посмотреть на распределение игр по жанрам за период 1980-2016 года. Здесь преобладают жанры action, sprts, shooter, role-platying"
   ]
  },
  {
   "cell_type": "code",
   "execution_count": 49,
   "metadata": {},
   "outputs": [
    {
     "data": {
      "image/png": "[encoded data removed]",
      "text/plain": [
       "<Figure size 1080x720 with 1 Axes>"
      ]
     },
     "metadata": {
      "needs_background": "light"
     },
     "output_type": "display_data"
    }
   ],
   "source": [
    "# Распределение продаж по жанрам за весь период\n",
    "genre_sales = data.groupby('genre').agg(genre_sales=('total_sales', 'sum'))\n",
    "ax = genre_sales.plot(kind='bar', figsize=(15, 10))\n",
    "ax.set_title('Распределение продаж по жанрам')\n",
    "ax.set(xlabel='Жанры', ylabel='Продажи')\n",
    "plt.show()"
   ]
  },
  {
   "cell_type": "markdown",
   "metadata": {},
   "source": [
    "<div class=\"alert alert-block alert-info\">\n",
    "<b> А теперь к важному, построим распределение игр по жанрам за инересующий период период 2014-2016 года. Заметим, что самые популярные, а значит и прибыльные жанры по-прежнему: action, sports, shooter, role-platying. Жанр puzzle так совсем сошел на нет, эх..."
   ]
  },
  {
   "cell_type": "code",
   "execution_count": 50,
   "metadata": {},
   "outputs": [
    {
     "data": {
      "image/png": "[encoded data removed]",
      "text/plain": [
       "<Figure size 1080x720 with 1 Axes>"
      ]
     },
     "metadata": {
      "needs_background": "light"
     },
     "output_type": "display_data"
    }
   ],
   "source": [
    "genre_sales_actual = data_pred.groupby('genre').agg(genre_sales=('total_sales', 'sum'))\n",
    "ax = genre_sales_actual.plot(kind='bar', figsize=(15, 10))\n",
    "ax.set_title('Распределение продаж по жанрам за актуальный период')\n",
    "ax.set(xlabel='Жанры', ylabel='Продажи')\n",
    "plt.show()"
   ]
  },
  {
   "cell_type": "markdown",
   "metadata": {},
   "source": [
    "<div class=\"alert alert-block alert-info\">\n",
    "<b> Построим распределение продаж по жанрам на популярных платформах 2014-2016. Интересно какие жанры преобладают на платформах, может определенные жанры соответсвуют конкретным платформам?"
   ]
  },
  {
   "cell_type": "code",
   "execution_count": 51,
   "metadata": {},
   "outputs": [
    {
     "data": {
      "image/png": "[encoded data removed]",
      "text/plain": [
       "<Figure size 1080x720 with 1 Axes>"
      ]
     },
     "metadata": {
      "needs_background": "light"
     },
     "output_type": "display_data"
    }
   ],
   "source": [
    "# фильтруем данные по популярным платформам и по году выпуска\n",
    "data_genre_platform = data.query('(platform == \"PS3\" |platform == \"PS4\"| platform == \"X360\"| platform == \"XOne\"| platform == \"3DS\") & (2012<= year_of_release <= 2016) ')\n",
    "# строим диаграмму распределения\n",
    "ax = data_genre_platform.pivot_table(index='platform', columns= 'genre', values='total_sales', aggfunc='sum').plot(kind='bar', figsize=(15, 10))\n",
    "ax.set_title('Распределение продаж по жанрам на популярных платформах 2012-2016')\n",
    "plt.show()"
   ]
  },
  {
   "cell_type": "markdown",
   "metadata": {},
   "source": [
    "<div class=\"alert alert-block alert-info\">\n",
    "<b> Из всех 5ти платформ выделяется 3DS, здесь преобладает жанр role-playing, чего не скажешь о других платформах. Также на 3DS больше продаж в жанре platform и  simulation, чем на остальных платформах. Видимо, опльзователи ценят эту платформу именно за большое количество игр определенных жанров. На диаграмме также можно проследить преобладание action, sports, shooter, role-platying."
   ]
  },
  {
   "cell_type": "markdown",
   "metadata": {},
   "source": [
    "<div class=\"alert alert-block alert-info\">\n",
    "<b>Проанализируем прибыльность жанров на диаграмме размаха, сравним медианные продажи на каждом жанре и проверим какая из них более стабильна и имеет более длинный ряд успешно продающихся игр "
   ]
  },
  {
   "cell_type": "code",
   "execution_count": 52,
   "metadata": {},
   "outputs": [
    {
     "data": {
      "image/png": "[encoded data removed]",
      "text/plain": [
       "<Figure size 1080x720 with 1 Axes>"
      ]
     },
     "metadata": {
      "needs_background": "light"
     },
     "output_type": "display_data"
    }
   ],
   "source": [
    "# строим диаграммы размаха для разных жанров\n",
    "data_pred.boxplot(column='total_sales', by=['genre'], figsize=(15, 10));\n",
    "#plt.ylim(0, 1.75)"
   ]
  },
  {
   "cell_type": "code",
   "execution_count": 53,
   "metadata": {},
   "outputs": [
    {
     "data": {
      "text/plain": [
       "(0.0, 1.63)"
      ]
     },
     "execution_count": 53,
     "metadata": {},
     "output_type": "execute_result"
    },
    {
     "data": {
      "image/png": "[encoded data removed]",
      "text/plain": [
       "<Figure size 1080x720 with 1 Axes>"
      ]
     },
     "metadata": {
      "needs_background": "light"
     },
     "output_type": "display_data"
    }
   ],
   "source": [
    "data_pred.boxplot(column='total_sales', by=['genre'], figsize=(15, 10));\n",
    "plt.ylim(0, 1.63)"
   ]
  },
  {
   "cell_type": "code",
   "execution_count": 54,
   "metadata": {},
   "outputs": [
    {
     "data": {
      "text/html": [
       "<div>\n",
       "<style scoped>\n",
       "    .dataframe tbody tr th:only-of-type {\n",
       "        vertical-align: middle;\n",
       "    }\n",
       "\n",
       "    .dataframe tbody tr th {\n",
       "        vertical-align: top;\n",
       "    }\n",
       "\n",
       "    .dataframe thead th {\n",
       "        text-align: right;\n",
       "    }\n",
       "</style>\n",
       "<table border=\"1\" class=\"dataframe\">\n",
       "  <thead>\n",
       "    <tr style=\"text-align: right;\">\n",
       "      <th></th>\n",
       "      <th>count</th>\n",
       "      <th>mean</th>\n",
       "      <th>std</th>\n",
       "      <th>min</th>\n",
       "      <th>25%</th>\n",
       "      <th>50%</th>\n",
       "      <th>75%</th>\n",
       "      <th>max</th>\n",
       "    </tr>\n",
       "    <tr>\n",
       "      <th>genre</th>\n",
       "      <th></th>\n",
       "      <th></th>\n",
       "      <th></th>\n",
       "      <th></th>\n",
       "      <th></th>\n",
       "      <th></th>\n",
       "      <th></th>\n",
       "      <th></th>\n",
       "    </tr>\n",
       "  </thead>\n",
       "  <tbody>\n",
       "    <tr>\n",
       "      <th>Action</th>\n",
       "      <td>619.0</td>\n",
       "      <td>0.322068</td>\n",
       "      <td>0.798181</td>\n",
       "      <td>0.01</td>\n",
       "      <td>0.0300</td>\n",
       "      <td>0.090</td>\n",
       "      <td>0.2800</td>\n",
       "      <td>12.62</td>\n",
       "    </tr>\n",
       "    <tr>\n",
       "      <th>Adventure</th>\n",
       "      <td>185.0</td>\n",
       "      <td>0.094865</td>\n",
       "      <td>0.203147</td>\n",
       "      <td>0.01</td>\n",
       "      <td>0.0200</td>\n",
       "      <td>0.030</td>\n",
       "      <td>0.0800</td>\n",
       "      <td>1.66</td>\n",
       "    </tr>\n",
       "    <tr>\n",
       "      <th>Fighting</th>\n",
       "      <td>60.0</td>\n",
       "      <td>0.470333</td>\n",
       "      <td>1.188053</td>\n",
       "      <td>0.01</td>\n",
       "      <td>0.0600</td>\n",
       "      <td>0.125</td>\n",
       "      <td>0.3200</td>\n",
       "      <td>7.55</td>\n",
       "    </tr>\n",
       "    <tr>\n",
       "      <th>Misc</th>\n",
       "      <td>113.0</td>\n",
       "      <td>0.332301</td>\n",
       "      <td>0.736999</td>\n",
       "      <td>0.01</td>\n",
       "      <td>0.0300</td>\n",
       "      <td>0.090</td>\n",
       "      <td>0.3200</td>\n",
       "      <td>5.27</td>\n",
       "    </tr>\n",
       "    <tr>\n",
       "      <th>Platform</th>\n",
       "      <td>38.0</td>\n",
       "      <td>0.476053</td>\n",
       "      <td>0.722561</td>\n",
       "      <td>0.01</td>\n",
       "      <td>0.0625</td>\n",
       "      <td>0.140</td>\n",
       "      <td>0.4675</td>\n",
       "      <td>3.21</td>\n",
       "    </tr>\n",
       "    <tr>\n",
       "      <th>Puzzle</th>\n",
       "      <td>14.0</td>\n",
       "      <td>0.157857</td>\n",
       "      <td>0.320629</td>\n",
       "      <td>0.01</td>\n",
       "      <td>0.0200</td>\n",
       "      <td>0.045</td>\n",
       "      <td>0.1000</td>\n",
       "      <td>1.19</td>\n",
       "    </tr>\n",
       "    <tr>\n",
       "      <th>Racing</th>\n",
       "      <td>69.0</td>\n",
       "      <td>0.398841</td>\n",
       "      <td>0.963716</td>\n",
       "      <td>0.01</td>\n",
       "      <td>0.0300</td>\n",
       "      <td>0.090</td>\n",
       "      <td>0.2500</td>\n",
       "      <td>7.09</td>\n",
       "    </tr>\n",
       "    <tr>\n",
       "      <th>Role-Playing</th>\n",
       "      <td>221.0</td>\n",
       "      <td>0.459005</td>\n",
       "      <td>1.177284</td>\n",
       "      <td>0.01</td>\n",
       "      <td>0.0500</td>\n",
       "      <td>0.110</td>\n",
       "      <td>0.3600</td>\n",
       "      <td>11.68</td>\n",
       "    </tr>\n",
       "    <tr>\n",
       "      <th>Shooter</th>\n",
       "      <td>128.0</td>\n",
       "      <td>1.335469</td>\n",
       "      <td>2.050567</td>\n",
       "      <td>0.01</td>\n",
       "      <td>0.1725</td>\n",
       "      <td>0.515</td>\n",
       "      <td>1.6175</td>\n",
       "      <td>14.63</td>\n",
       "    </tr>\n",
       "    <tr>\n",
       "      <th>Simulation</th>\n",
       "      <td>44.0</td>\n",
       "      <td>0.298409</td>\n",
       "      <td>0.646925</td>\n",
       "      <td>0.01</td>\n",
       "      <td>0.0200</td>\n",
       "      <td>0.100</td>\n",
       "      <td>0.3275</td>\n",
       "      <td>3.05</td>\n",
       "    </tr>\n",
       "    <tr>\n",
       "      <th>Sports</th>\n",
       "      <td>161.0</td>\n",
       "      <td>0.680000</td>\n",
       "      <td>1.239736</td>\n",
       "      <td>0.01</td>\n",
       "      <td>0.0600</td>\n",
       "      <td>0.180</td>\n",
       "      <td>0.6400</td>\n",
       "      <td>8.58</td>\n",
       "    </tr>\n",
       "    <tr>\n",
       "      <th>Strategy</th>\n",
       "      <td>37.0</td>\n",
       "      <td>0.107027</td>\n",
       "      <td>0.118412</td>\n",
       "      <td>0.01</td>\n",
       "      <td>0.0300</td>\n",
       "      <td>0.060</td>\n",
       "      <td>0.1400</td>\n",
       "      <td>0.52</td>\n",
       "    </tr>\n",
       "  </tbody>\n",
       "</table>\n",
       "</div>"
      ],
      "text/plain": [
       "              count      mean       std   min     25%    50%     75%    max\n",
       "genre                                                                      \n",
       "Action        619.0  0.322068  0.798181  0.01  0.0300  0.090  0.2800  12.62\n",
       "Adventure     185.0  0.094865  0.203147  0.01  0.0200  0.030  0.0800   1.66\n",
       "Fighting       60.0  0.470333  1.188053  0.01  0.0600  0.125  0.3200   7.55\n",
       "Misc          113.0  0.332301  0.736999  0.01  0.0300  0.090  0.3200   5.27\n",
       "Platform       38.0  0.476053  0.722561  0.01  0.0625  0.140  0.4675   3.21\n",
       "Puzzle         14.0  0.157857  0.320629  0.01  0.0200  0.045  0.1000   1.19\n",
       "Racing         69.0  0.398841  0.963716  0.01  0.0300  0.090  0.2500   7.09\n",
       "Role-Playing  221.0  0.459005  1.177284  0.01  0.0500  0.110  0.3600  11.68\n",
       "Shooter       128.0  1.335469  2.050567  0.01  0.1725  0.515  1.6175  14.63\n",
       "Simulation     44.0  0.298409  0.646925  0.01  0.0200  0.100  0.3275   3.05\n",
       "Sports        161.0  0.680000  1.239736  0.01  0.0600  0.180  0.6400   8.58\n",
       "Strategy       37.0  0.107027  0.118412  0.01  0.0300  0.060  0.1400   0.52"
      ]
     },
     "execution_count": 54,
     "metadata": {},
     "output_type": "execute_result"
    }
   ],
   "source": [
    "data_pred.groupby('genre')['total_sales'].describe()"
   ]
  },
  {
   "cell_type": "code",
   "execution_count": 55,
   "metadata": {},
   "outputs": [
    {
     "data": {
      "text/plain": [
       "140.75"
      ]
     },
     "execution_count": 55,
     "metadata": {},
     "output_type": "execute_result"
    }
   ],
   "source": [
    "# среднее количесвто выпущенных игр по жанрам\n",
    "data_pred.groupby('genre')['total_sales'].count().mean()\n"
   ]
  },
  {
   "cell_type": "markdown",
   "metadata": {},
   "source": [
    "<div class=\"alert alert-block alert-info\">\n",
    "<b> Наиболее высокие медианные продажи в жанре Shooter составляют 0.515 млн, при среднем количестве выпущенных игр (128). Тогда как максимальное количество игр за 2014-1016 года было выпущено в жанре Action, но медианные значения продаж в этом жанре одни из самых низких  0.09. Вторым по медианным продажам (0,18 млн) становится жанр Sports, в этом жанре была выпущена 161 игра за актуальный период. Также популярный жанр с медианными продажами 0,11 млн - Role-Playing 221.0, в котором вышло 221 игра. Таким образом, самыми прибыльными жанрами являются Shooter, Role-Playing и Sports. И самый стабильный жанр с наиболее длинным рядом, успешно продающихся, игр - жанр Shooter."
   ]
  },
  {
   "cell_type": "markdown",
   "metadata": {},
   "source": [
    "### Портрет пользователя каждого региона"
   ]
  },
  {
   "cell_type": "markdown",
   "metadata": {},
   "source": [
    "#### Самые популярные платформы (топ-5)"
   ]
  },
  {
   "cell_type": "markdown",
   "metadata": {},
   "source": [
    "<div class=\"alert alert-block alert-info\">\n",
    "<b> Создадим сводную таблицу суммы продаж популярных платформ для регионов Северной Америки, Европы, Японии. Для каждого региона построим круговую диаграмму, отражающую  доли популярности разных платформ. Также вычислим топ-5 самых популярных платформ и их доли в продажах."
   ]
  },
  {
   "cell_type": "code",
   "execution_count": 56,
   "metadata": {},
   "outputs": [
    {
     "data": {
      "text/html": [
       "<div>\n",
       "<style scoped>\n",
       "    .dataframe tbody tr th:only-of-type {\n",
       "        vertical-align: middle;\n",
       "    }\n",
       "\n",
       "    .dataframe tbody tr th {\n",
       "        vertical-align: top;\n",
       "    }\n",
       "\n",
       "    .dataframe thead th {\n",
       "        text-align: right;\n",
       "    }\n",
       "</style>\n",
       "<table border=\"1\" class=\"dataframe\">\n",
       "  <thead>\n",
       "    <tr style=\"text-align: right;\">\n",
       "      <th></th>\n",
       "      <th>eu_sales</th>\n",
       "      <th>jp_sales</th>\n",
       "      <th>na_sales</th>\n",
       "    </tr>\n",
       "    <tr>\n",
       "      <th>platform</th>\n",
       "      <th></th>\n",
       "      <th></th>\n",
       "      <th></th>\n",
       "    </tr>\n",
       "  </thead>\n",
       "  <tbody>\n",
       "    <tr>\n",
       "      <th>3DS</th>\n",
       "      <td>0.059554</td>\n",
       "      <td>0.475239</td>\n",
       "      <td>0.079701</td>\n",
       "    </tr>\n",
       "    <tr>\n",
       "      <th>PC</th>\n",
       "      <td>0.066388</td>\n",
       "      <td>0.000000</td>\n",
       "      <td>0.025452</td>\n",
       "    </tr>\n",
       "    <tr>\n",
       "      <th>PS3</th>\n",
       "      <td>0.094355</td>\n",
       "      <td>0.120529</td>\n",
       "      <td>0.077624</td>\n",
       "    </tr>\n",
       "    <tr>\n",
       "      <th>PS4</th>\n",
       "      <td>0.480420</td>\n",
       "      <td>0.161349</td>\n",
       "      <td>0.347145</td>\n",
       "    </tr>\n",
       "    <tr>\n",
       "      <th>PSP</th>\n",
       "      <td>0.000000</td>\n",
       "      <td>0.003867</td>\n",
       "      <td>0.000000</td>\n",
       "    </tr>\n",
       "    <tr>\n",
       "      <th>PSV</th>\n",
       "      <td>0.013041</td>\n",
       "      <td>0.156193</td>\n",
       "      <td>0.008871</td>\n",
       "    </tr>\n",
       "    <tr>\n",
       "      <th>Wii</th>\n",
       "      <td>0.009568</td>\n",
       "      <td>0.000000</td>\n",
       "      <td>0.007322</td>\n",
       "    </tr>\n",
       "    <tr>\n",
       "      <th>WiiU</th>\n",
       "      <td>0.048581</td>\n",
       "      <td>0.078526</td>\n",
       "      <td>0.068155</td>\n",
       "    </tr>\n",
       "    <tr>\n",
       "      <th>X360</th>\n",
       "      <td>0.057226</td>\n",
       "      <td>0.000859</td>\n",
       "      <td>0.099627</td>\n",
       "    </tr>\n",
       "    <tr>\n",
       "      <th>XOne</th>\n",
       "      <td>0.170866</td>\n",
       "      <td>0.003438</td>\n",
       "      <td>0.286102</td>\n",
       "    </tr>\n",
       "  </tbody>\n",
       "</table>\n",
       "</div>"
      ],
      "text/plain": [
       "          eu_sales  jp_sales  na_sales\n",
       "platform                              \n",
       "3DS       0.059554  0.475239  0.079701\n",
       "PC        0.066388  0.000000  0.025452\n",
       "PS3       0.094355  0.120529  0.077624\n",
       "PS4       0.480420  0.161349  0.347145\n",
       "PSP       0.000000  0.003867  0.000000\n",
       "PSV       0.013041  0.156193  0.008871\n",
       "Wii       0.009568  0.000000  0.007322\n",
       "WiiU      0.048581  0.078526  0.068155\n",
       "X360      0.057226  0.000859  0.099627\n",
       "XOne      0.170866  0.003438  0.286102"
      ]
     },
     "execution_count": 56,
     "metadata": {},
     "output_type": "execute_result"
    }
   ],
   "source": [
    "# совдная таблица\n",
    "data_platform_regions = data_pred.pivot_table(index='platform', values=['na_sales', 'eu_sales', 'jp_sales'],\\\n",
    "                                              aggfunc='sum')\n",
    "# считаем доли продаж для каждого региона\n",
    "data_platform_regions = data_platform_regions/ data_platform_regions.sum()\n",
    "data_platform_regions"
   ]
  },
  {
   "cell_type": "code",
   "execution_count": 57,
   "metadata": {},
   "outputs": [],
   "source": [
    "# доли продаж по платформам для Северной Америки\n",
    "data_platform_na = data_platform_regions['na_sales'].sort_values(ascending=False)"
   ]
  },
  {
   "cell_type": "code",
   "execution_count": 58,
   "metadata": {},
   "outputs": [
    {
     "data": {
      "text/plain": [
       "PS4       0.347145\n",
       "XOne      0.286102\n",
       "X360      0.099627\n",
       "3DS       0.079701\n",
       "PS3       0.077624\n",
       "Others    0.109801\n",
       "dtype: float64"
      ]
     },
     "execution_count": 58,
     "metadata": {},
     "output_type": "execute_result"
    }
   ],
   "source": [
    "# вычислим топ-5 популярных платформ и их доли в общих продажах по Северной Америке\n",
    "# доли остальных плаформ обьединим в Others\n",
    "data_platform_na = data_platform_na.append(pd.Series(data_platform_na[5:].sum(),index=['Others']))\\\n",
    "                    .drop(index=(['WiiU', 'PC','PSV','Wii', 'PSP']))\n",
    "data_platform_na"
   ]
  },
  {
   "cell_type": "code",
   "execution_count": 59,
   "metadata": {},
   "outputs": [
    {
     "data": {
      "text/plain": [
       "0.8901992536788003"
      ]
     },
     "execution_count": 59,
     "metadata": {},
     "output_type": "execute_result"
    }
   ],
   "source": [
    "# суммарная доля продаж пяти самых популярных платформ Северной Америки\n",
    "data_platform_na.sum() - data_platform_na['Others']"
   ]
  },
  {
   "cell_type": "code",
   "execution_count": 60,
   "metadata": {},
   "outputs": [],
   "source": [
    "# доли продаж по платформам для Европы\n",
    "data_platform_eu = data_platform_regions['eu_sales'].sort_values(ascending=False)"
   ]
  },
  {
   "cell_type": "code",
   "execution_count": 61,
   "metadata": {},
   "outputs": [
    {
     "data": {
      "text/plain": [
       "PS4       0.480420\n",
       "XOne      0.170866\n",
       "PS3       0.094355\n",
       "PC        0.066388\n",
       "3DS       0.059554\n",
       "Others    0.128417\n",
       "dtype: float64"
      ]
     },
     "execution_count": 61,
     "metadata": {},
     "output_type": "execute_result"
    }
   ],
   "source": [
    "# вычислим топ-5 популярных платформ и их доли в общих продажах по Европе\n",
    "# доли остальных плаформ обьединим в Others\n",
    "data_platform_eu = data_platform_eu.append(pd.Series(data_platform_eu[5:].sum(),index=['Others']))\\\n",
    "                    .drop(index=(['WiiU', 'X360','PSV','Wii', 'PSP']))\n",
    "data_platform_eu"
   ]
  },
  {
   "cell_type": "code",
   "execution_count": 62,
   "metadata": {},
   "outputs": [
    {
     "data": {
      "text/plain": [
       "0.8715826806561255"
      ]
     },
     "execution_count": 62,
     "metadata": {},
     "output_type": "execute_result"
    }
   ],
   "source": [
    "# суммарная доля продаж пяти самых популярных платформ Европы\n",
    "data_platform_eu.sum() - data_platform_eu['Others']"
   ]
  },
  {
   "cell_type": "code",
   "execution_count": 63,
   "metadata": {},
   "outputs": [],
   "source": [
    "# доли продаж по платформам для Японии\n",
    "data_platform_jp = data_platform_regions['jp_sales'].sort_values(ascending=False)"
   ]
  },
  {
   "cell_type": "code",
   "execution_count": 64,
   "metadata": {},
   "outputs": [
    {
     "data": {
      "text/plain": [
       "3DS       0.475239\n",
       "PS4       0.161349\n",
       "PSV       0.156193\n",
       "PS3       0.120529\n",
       "WiiU      0.078526\n",
       "Others    0.008164\n",
       "dtype: float64"
      ]
     },
     "execution_count": 64,
     "metadata": {},
     "output_type": "execute_result"
    }
   ],
   "source": [
    "# вычислим топ-5 популярных платформ и их доли в общих продажах по Японии\n",
    "# доли остальных плаформ обьединим в Others\n",
    "data_platform_jp = data_platform_jp.append(pd.Series(data_platform_jp[5:].sum(),index=['Others']))\\\n",
    "                    .drop(index=(['XOne', 'X360','PC','Wii', 'PSP']))\n",
    "data_platform_jp"
   ]
  },
  {
   "cell_type": "code",
   "execution_count": 65,
   "metadata": {},
   "outputs": [
    {
     "data": {
      "text/plain": [
       "0.8715826806561255"
      ]
     },
     "execution_count": 65,
     "metadata": {},
     "output_type": "execute_result"
    }
   ],
   "source": [
    "# суммарная доля продаж пяти самых популярных платформ Японии\n",
    "data_platform_eu.sum() - data_platform_eu['Others']"
   ]
  },
  {
   "cell_type": "code",
   "execution_count": 66,
   "metadata": {},
   "outputs": [
    {
     "name": "stderr",
     "output_type": "stream",
     "text": [
      "/tmp/ipykernel_215/171328309.py:14: MatplotlibDeprecationWarning: normalize=None does not normalize if the sum is less than 1 but this behavior is deprecated since 3.3 until two minor releases later. After the deprecation period the default value will be normalize=True. To prevent normalization pass normalize=False \n",
      "  ax[2].pie(data_platform_jp, labels = data_platform_jp.index, autopct='%1.1f%%', shadow=True)\n"
     ]
    },
    {
     "data": {
      "image/png": "[encoded data removed]",
      "text/plain": [
       "<Figure size 1800x720 with 3 Axes>"
      ]
     },
     "metadata": {},
     "output_type": "display_data"
    }
   ],
   "source": [
    "# Построим круговые диаграммы долей продаж по платформам для 3х регионов\n",
    "fig, ax = plt.subplots(1, 3, figsize=(25, 10))\n",
    "\n",
    "fig.suptitle('Распределение продаж по платформам за актуальный период')\n",
    "\n",
    "ax[0].pie(data_platform_na, labels = data_platform_na.index, normalize=False, autopct='%1.1f%%', shadow=True)\n",
    "ax[0].axis('equal')\n",
    "ax[0].set_title('Распределение продаж в Северной Америке')\n",
    "\n",
    "ax[1].pie(data_platform_eu, labels = data_platform_eu.index, autopct='%1.1f%%', shadow=True)\n",
    "ax[1].axis('equal')\n",
    "ax[1].set_title('Распределение продаж в Европе')\n",
    "\n",
    "ax[2].pie(data_platform_jp, labels = data_platform_jp.index, autopct='%1.1f%%', shadow=True)\n",
    "ax[2].axis('equal')\n",
    "ax[2].set_title('Распределение продаж в Японии')\n",
    "\n",
    "\n",
    "plt.show()"
   ]
  },
  {
   "cell_type": "markdown",
   "metadata": {},
   "source": [
    "<div class=\"alert alert-block alert-info\">\n",
    "<b> По круговой диаграмме и отсортированной сводной таблице получаем, что наиболее популярные платформы в Северной Америке следующие: PS4 (34,7 % от всех продаж), XOne (28,6 % от всех продаж), X360 (10 % от всех продаж), PS3 (7,8 % от всех продаж), 3DS (8 % от всех продаж). Суммарная доля продаж на платформах, не входящих в топ-5 самых популярных, составляет 11 % от общей доли продаж."
   ]
  },
  {
   "cell_type": "markdown",
   "metadata": {},
   "source": [
    "<div class=\"alert alert-block alert-info\">\n",
    "<b> По круговой диаграмме и отсортированной сводной таблице получаем, что наиболее популярные платформы в Европе следующие: PS4 (48 % от всех продаж), XOne (17,1 % от всех продаж), PS3 (9,4 % от всех продаж), PC (6,6 % от всех продаж), 3DS (6 % от всех продаж). Суммарная доля продаж на платформах, не входящих в топ-5 самых популярных, составляет 12,8 % от общей доли продаж."
   ]
  },
  {
   "cell_type": "markdown",
   "metadata": {},
   "source": [
    "<div class=\"alert alert-block alert-info\">\n",
    "<b> По круговой диаграмме и отсортированной сводной таблице получаем, что наиболее популярные платформы в Японии следующие: 3DS (47,5 % от всех продаж), PS4 (16,1 % от всех продаж), PSV (15,6 % от всех продаж), PS3 (12,1 % от всех продаж), WiiU (7,9 % от всех продаж). Суммарная доля продаж на платформах, не входящих в топ-5 самых популярных, составляет 0,8 % от общей доли продаж."
   ]
  },
  {
   "cell_type": "markdown",
   "metadata": {},
   "source": [
    "<div class=\"alert alert-block alert-info\">\n",
    "<b> Распределение долей продаж по платформам показало, что в Северной Америке и Европе топ-5 папулярных платформ практические одинаковы, лидируют PS4 и XOne, в Японии же значительно лидирует платформа 3DS. Платформа PS4 находится в топе папулярных платформ среди всех регионов. Вторая по количеству продаж в Северной Америке и Европе платформа XOne в Японии занимает только 7е место"
   ]
  },
  {
   "cell_type": "markdown",
   "metadata": {},
   "source": [
    "#### Самые популярные жанры (топ-5)."
   ]
  },
  {
   "cell_type": "markdown",
   "metadata": {},
   "source": [
    "<div class=\"alert alert-block alert-info\">\n",
    "<b> Создадим сводную таблицу суммы продаж в завиисимости от жанра для регионов Северной Америки, Европы, Японии. Для каждого региона построим распределение продаж по жанрам. Также вычислим топ-5 самых популярных жанров."
   ]
  },
  {
   "cell_type": "code",
   "execution_count": 67,
   "metadata": {},
   "outputs": [
    {
     "data": {
      "text/html": [
       "<div>\n",
       "<style scoped>\n",
       "    .dataframe tbody tr th:only-of-type {\n",
       "        vertical-align: middle;\n",
       "    }\n",
       "\n",
       "    .dataframe tbody tr th {\n",
       "        vertical-align: top;\n",
       "    }\n",
       "\n",
       "    .dataframe thead th {\n",
       "        text-align: right;\n",
       "    }\n",
       "</style>\n",
       "<table border=\"1\" class=\"dataframe\">\n",
       "  <thead>\n",
       "    <tr style=\"text-align: right;\">\n",
       "      <th></th>\n",
       "      <th>eu_sales</th>\n",
       "      <th>jp_sales</th>\n",
       "      <th>na_sales</th>\n",
       "    </tr>\n",
       "    <tr>\n",
       "      <th>genre</th>\n",
       "      <th></th>\n",
       "      <th></th>\n",
       "      <th></th>\n",
       "    </tr>\n",
       "  </thead>\n",
       "  <tbody>\n",
       "    <tr>\n",
       "      <th>Action</th>\n",
       "      <td>74.68</td>\n",
       "      <td>29.58</td>\n",
       "      <td>72.53</td>\n",
       "    </tr>\n",
       "    <tr>\n",
       "      <th>Adventure</th>\n",
       "      <td>6.49</td>\n",
       "      <td>3.60</td>\n",
       "      <td>5.64</td>\n",
       "    </tr>\n",
       "    <tr>\n",
       "      <th>Fighting</th>\n",
       "      <td>6.69</td>\n",
       "      <td>6.37</td>\n",
       "      <td>12.43</td>\n",
       "    </tr>\n",
       "    <tr>\n",
       "      <th>Misc</th>\n",
       "      <td>12.86</td>\n",
       "      <td>5.61</td>\n",
       "      <td>15.05</td>\n",
       "    </tr>\n",
       "    <tr>\n",
       "      <th>Platform</th>\n",
       "      <td>6.80</td>\n",
       "      <td>2.69</td>\n",
       "      <td>6.79</td>\n",
       "    </tr>\n",
       "    <tr>\n",
       "      <th>Puzzle</th>\n",
       "      <td>0.52</td>\n",
       "      <td>0.93</td>\n",
       "      <td>0.65</td>\n",
       "    </tr>\n",
       "    <tr>\n",
       "      <th>Racing</th>\n",
       "      <td>14.13</td>\n",
       "      <td>1.76</td>\n",
       "      <td>8.74</td>\n",
       "    </tr>\n",
       "    <tr>\n",
       "      <th>Role-Playing</th>\n",
       "      <td>28.17</td>\n",
       "      <td>31.16</td>\n",
       "      <td>33.47</td>\n",
       "    </tr>\n",
       "    <tr>\n",
       "      <th>Shooter</th>\n",
       "      <td>65.52</td>\n",
       "      <td>4.87</td>\n",
       "      <td>79.02</td>\n",
       "    </tr>\n",
       "    <tr>\n",
       "      <th>Simulation</th>\n",
       "      <td>7.30</td>\n",
       "      <td>2.31</td>\n",
       "      <td>2.63</td>\n",
       "    </tr>\n",
       "    <tr>\n",
       "      <th>Sports</th>\n",
       "      <td>45.73</td>\n",
       "      <td>3.26</td>\n",
       "      <td>46.13</td>\n",
       "    </tr>\n",
       "    <tr>\n",
       "      <th>Strategy</th>\n",
       "      <td>1.79</td>\n",
       "      <td>0.95</td>\n",
       "      <td>0.98</td>\n",
       "    </tr>\n",
       "  </tbody>\n",
       "</table>\n",
       "</div>"
      ],
      "text/plain": [
       "              eu_sales  jp_sales  na_sales\n",
       "genre                                     \n",
       "Action           74.68     29.58     72.53\n",
       "Adventure         6.49      3.60      5.64\n",
       "Fighting          6.69      6.37     12.43\n",
       "Misc             12.86      5.61     15.05\n",
       "Platform          6.80      2.69      6.79\n",
       "Puzzle            0.52      0.93      0.65\n",
       "Racing           14.13      1.76      8.74\n",
       "Role-Playing     28.17     31.16     33.47\n",
       "Shooter          65.52      4.87     79.02\n",
       "Simulation        7.30      2.31      2.63\n",
       "Sports           45.73      3.26     46.13\n",
       "Strategy          1.79      0.95      0.98"
      ]
     },
     "execution_count": 67,
     "metadata": {},
     "output_type": "execute_result"
    }
   ],
   "source": [
    "# сводная таблица\n",
    "data_genre_regions = data_pred.pivot_table(index='genre', values=['na_sales', 'eu_sales', 'jp_sales'], aggfunc='sum')\n",
    "data_genre_regions"
   ]
  },
  {
   "cell_type": "code",
   "execution_count": 68,
   "metadata": {},
   "outputs": [
    {
     "data": {
      "image/png": "[encoded data removed]",
      "text/plain": [
       "<Figure size 864x648 with 1 Axes>"
      ]
     },
     "metadata": {
      "needs_background": "light"
     },
     "output_type": "display_data"
    }
   ],
   "source": [
    "# диаграмма распределения продаж в Северной Америке по жанрам\n",
    "ax = data_genre_regions.plot(kind='bar',y = 'na_sales', figsize=(12, 9))\n",
    "ax.set_title('Распределение продаж в Северной Америке по жанрам')\n",
    "plt.show()"
   ]
  },
  {
   "cell_type": "code",
   "execution_count": 69,
   "metadata": {},
   "outputs": [
    {
     "data": {
      "text/plain": [
       "genre\n",
       "Shooter         79.02\n",
       "Action          72.53\n",
       "Sports          46.13\n",
       "Role-Playing    33.47\n",
       "Misc            15.05\n",
       "Name: na_sales, dtype: float64"
      ]
     },
     "execution_count": 69,
     "metadata": {},
     "output_type": "execute_result"
    }
   ],
   "source": [
    "# топ-5 самых популярных жанров в Северной Америке\n",
    "data_genre_regions['na_sales'].sort_values(ascending=False)[0:5]"
   ]
  },
  {
   "cell_type": "markdown",
   "metadata": {},
   "source": [
    "<div class=\"alert alert-block alert-info\">\n",
    "<b> Топ-5 самых популярных жанров в Северной Америке: Shooter (79.02 млн продаж),Action (72.53 млн продаж), Sports (46.13 млн продаж), Role-Playing (33.47 млн продаж), Misc (15.05 млн продаж)."
   ]
  },
  {
   "cell_type": "code",
   "execution_count": 70,
   "metadata": {},
   "outputs": [
    {
     "data": {
      "image/png": "[encoded data removed]",
      "text/plain": [
       "<Figure size 864x648 with 1 Axes>"
      ]
     },
     "metadata": {
      "needs_background": "light"
     },
     "output_type": "display_data"
    }
   ],
   "source": [
    "# диаграмма распределения продаж в Европе по жанрам\n",
    "ax = data_genre_regions.plot(kind='bar',y = 'eu_sales', figsize=(12, 9))\n",
    "ax.set_title('Распределение продаж в Европе по жанрам')\n",
    "plt.show()"
   ]
  },
  {
   "cell_type": "code",
   "execution_count": 71,
   "metadata": {},
   "outputs": [
    {
     "data": {
      "text/plain": [
       "genre\n",
       "Action          74.68\n",
       "Shooter         65.52\n",
       "Sports          45.73\n",
       "Role-Playing    28.17\n",
       "Racing          14.13\n",
       "Name: eu_sales, dtype: float64"
      ]
     },
     "execution_count": 71,
     "metadata": {},
     "output_type": "execute_result"
    }
   ],
   "source": [
    "# топ-5 самых популярных жанров в Европе\n",
    "data_genre_regions['eu_sales'].sort_values(ascending=False)[0:5]"
   ]
  },
  {
   "cell_type": "markdown",
   "metadata": {},
   "source": [
    "<div class=\"alert alert-block alert-info\">\n",
    "<b> Топ-5 самых популярных жанров в Европе: Action (74.68 млн продаж), Shooter (65.52 млн продаж), Sports (45.73 млн продаж), Role-Playing (28.17 млн продаж), Racing (14.13 млн продаж)."
   ]
  },
  {
   "cell_type": "code",
   "execution_count": 72,
   "metadata": {},
   "outputs": [
    {
     "data": {
      "image/png": "[encoded data removed]",
      "text/plain": [
       "<Figure size 864x648 with 1 Axes>"
      ]
     },
     "metadata": {
      "needs_background": "light"
     },
     "output_type": "display_data"
    }
   ],
   "source": [
    "# топ-5 самых популярных жанров в Японии\n",
    "ax = data_genre_regions.plot(kind='bar',y = 'jp_sales', figsize=(12, 9))\n",
    "ax.set_title('Распределение продаж в Японии по жанрам')\n",
    "plt.show()"
   ]
  },
  {
   "cell_type": "code",
   "execution_count": 73,
   "metadata": {},
   "outputs": [
    {
     "data": {
      "text/plain": [
       "genre\n",
       "Role-Playing    31.16\n",
       "Action          29.58\n",
       "Fighting         6.37\n",
       "Misc             5.61\n",
       "Shooter          4.87\n",
       "Name: jp_sales, dtype: float64"
      ]
     },
     "execution_count": 73,
     "metadata": {},
     "output_type": "execute_result"
    }
   ],
   "source": [
    "# топ-5 самых популярных жанров в Японии\n",
    "data_genre_regions['jp_sales'].sort_values(ascending=False)[0:5]"
   ]
  },
  {
   "cell_type": "markdown",
   "metadata": {},
   "source": [
    "<div class=\"alert alert-block alert-info\">\n",
    "<b> Топ-5 самых популярных жанров в Европе: Role-Playing (31.16 млн продаж), Action (29.58 млн продаж), Fighting (6.37 млн продаж), Misc (5.61 млн продаж), Shooter (4.87 млн продаж)."
   ]
  },
  {
   "cell_type": "markdown",
   "metadata": {},
   "source": [
    "<div class=\"alert alert-block alert-info\">\n",
    "<b> Популярные жанры в Северной Америке и Европе очень похожи, скорее всего это связано с близостью культур и распространненностью таких платформ, как PS4, XOne. В Японии наиболее популярные жанры сильно отличаются от европейских и северо-американских. Здесь преобладает жанр Role-Playing и Action , скорее всего такое предпочтение в жанрах связано с широкой распространенностью платформы 3DS, на которой выходит большинство игр именно в жанре Role-Playing."
   ]
  },
  {
   "cell_type": "markdown",
   "metadata": {},
   "source": [
    "#### Влияет ли рейтинг ESRB на продажи в отдельном регионе?"
   ]
  },
  {
   "cell_type": "code",
   "execution_count": 74,
   "metadata": {},
   "outputs": [
    {
     "data": {
      "text/html": [
       "<div>\n",
       "<style scoped>\n",
       "    .dataframe tbody tr th:only-of-type {\n",
       "        vertical-align: middle;\n",
       "    }\n",
       "\n",
       "    .dataframe tbody tr th {\n",
       "        vertical-align: top;\n",
       "    }\n",
       "\n",
       "    .dataframe thead th {\n",
       "        text-align: right;\n",
       "    }\n",
       "</style>\n",
       "<table border=\"1\" class=\"dataframe\">\n",
       "  <thead>\n",
       "    <tr style=\"text-align: right;\">\n",
       "      <th></th>\n",
       "      <th>eu_sales</th>\n",
       "      <th>jp_sales</th>\n",
       "      <th>na_sales</th>\n",
       "    </tr>\n",
       "    <tr>\n",
       "      <th>rating</th>\n",
       "      <th></th>\n",
       "      <th></th>\n",
       "      <th></th>\n",
       "    </tr>\n",
       "  </thead>\n",
       "  <tbody>\n",
       "    <tr>\n",
       "      <th>E</th>\n",
       "      <td>58.06</td>\n",
       "      <td>8.94</td>\n",
       "      <td>50.74</td>\n",
       "    </tr>\n",
       "    <tr>\n",
       "      <th>E10+</th>\n",
       "      <td>26.16</td>\n",
       "      <td>4.46</td>\n",
       "      <td>33.23</td>\n",
       "    </tr>\n",
       "    <tr>\n",
       "      <th>M</th>\n",
       "      <td>93.44</td>\n",
       "      <td>8.01</td>\n",
       "      <td>96.42</td>\n",
       "    </tr>\n",
       "    <tr>\n",
       "      <th>T</th>\n",
       "      <td>34.07</td>\n",
       "      <td>14.78</td>\n",
       "      <td>38.95</td>\n",
       "    </tr>\n",
       "    <tr>\n",
       "      <th>nd</th>\n",
       "      <td>58.95</td>\n",
       "      <td>56.90</td>\n",
       "      <td>64.72</td>\n",
       "    </tr>\n",
       "  </tbody>\n",
       "</table>\n",
       "</div>"
      ],
      "text/plain": [
       "        eu_sales  jp_sales  na_sales\n",
       "rating                              \n",
       "E          58.06      8.94     50.74\n",
       "E10+       26.16      4.46     33.23\n",
       "M          93.44      8.01     96.42\n",
       "T          34.07     14.78     38.95\n",
       "nd         58.95     56.90     64.72"
      ]
     },
     "execution_count": 74,
     "metadata": {},
     "output_type": "execute_result"
    }
   ],
   "source": [
    "# сводная таблица суммы продаж по рейтингу ESRB\n",
    "data_rating_region = data_pred.pivot_table(index='rating',\n",
    "                                          values=['na_sales', 'eu_sales', 'jp_sales'], aggfunc='sum')\n",
    "data_rating_region"
   ]
  },
  {
   "cell_type": "code",
   "execution_count": 75,
   "metadata": {},
   "outputs": [
    {
     "data": {
      "text/html": [
       "<div>\n",
       "<style scoped>\n",
       "    .dataframe tbody tr th:only-of-type {\n",
       "        vertical-align: middle;\n",
       "    }\n",
       "\n",
       "    .dataframe tbody tr th {\n",
       "        vertical-align: top;\n",
       "    }\n",
       "\n",
       "    .dataframe thead th {\n",
       "        text-align: right;\n",
       "    }\n",
       "</style>\n",
       "<table border=\"1\" class=\"dataframe\">\n",
       "  <thead>\n",
       "    <tr style=\"text-align: right;\">\n",
       "      <th></th>\n",
       "      <th>eu_sales</th>\n",
       "      <th>jp_sales</th>\n",
       "      <th>na_sales</th>\n",
       "    </tr>\n",
       "    <tr>\n",
       "      <th>rating</th>\n",
       "      <th></th>\n",
       "      <th></th>\n",
       "      <th></th>\n",
       "    </tr>\n",
       "  </thead>\n",
       "  <tbody>\n",
       "    <tr>\n",
       "      <th>E</th>\n",
       "      <td>0.214497</td>\n",
       "      <td>0.096036</td>\n",
       "      <td>0.178624</td>\n",
       "    </tr>\n",
       "    <tr>\n",
       "      <th>E10+</th>\n",
       "      <td>0.096645</td>\n",
       "      <td>0.047911</td>\n",
       "      <td>0.116982</td>\n",
       "    </tr>\n",
       "    <tr>\n",
       "      <th>M</th>\n",
       "      <td>0.345205</td>\n",
       "      <td>0.086046</td>\n",
       "      <td>0.339435</td>\n",
       "    </tr>\n",
       "    <tr>\n",
       "      <th>T</th>\n",
       "      <td>0.125868</td>\n",
       "      <td>0.158771</td>\n",
       "      <td>0.137119</td>\n",
       "    </tr>\n",
       "    <tr>\n",
       "      <th>nd</th>\n",
       "      <td>0.217785</td>\n",
       "      <td>0.611236</td>\n",
       "      <td>0.227839</td>\n",
       "    </tr>\n",
       "  </tbody>\n",
       "</table>\n",
       "</div>"
      ],
      "text/plain": [
       "        eu_sales  jp_sales  na_sales\n",
       "rating                              \n",
       "E       0.214497  0.096036  0.178624\n",
       "E10+    0.096645  0.047911  0.116982\n",
       "M       0.345205  0.086046  0.339435\n",
       "T       0.125868  0.158771  0.137119\n",
       "nd      0.217785  0.611236  0.227839"
      ]
     },
     "execution_count": 75,
     "metadata": {},
     "output_type": "execute_result"
    }
   ],
   "source": [
    "# сводная таблица долей продаж \n",
    "data_rating_region['na_sales'] = data_rating_region['na_sales'] / data_rating_region['na_sales'].sum()\n",
    "data_rating_region['eu_sales'] = data_rating_region['eu_sales'] / data_rating_region['eu_sales'].sum()\n",
    "data_rating_region['jp_sales'] = data_rating_region['jp_sales'] / data_rating_region['jp_sales'].sum()\n",
    "data_rating_region"
   ]
  },
  {
   "cell_type": "markdown",
   "metadata": {},
   "source": [
    "<div class=\"alert alert-block alert-info\">\n",
    "<b> Рэйтинг возрастных категорий:\n",
    "<br> E - Подходит для всех возрастных категорий.\n",
    "<br> E 10+ -\tПодходит для лиц старше 10 лет. \n",
    "<br> M -\tПодходит для лиц старше 17 лет.\n",
    "<br> T -\tПодходит для лиц старше 13 лет.\n",
    "<br> Для стран Европы получаем, что самая большая доля продаж - это игры для лиц старше 17 или для любых возрастных категорий (E, M). Для Северной Америке ситуцация похожая, здесь также самая большая доля продаж - это игры для лиц старше 17 или для любых возрастных категорий (E, M). То есть, для стран Северной Америки и Европы рейтинг ESRB влияет на покупку игры. В Японии большинство проданных игр (61%) не классифицированы рейтингом ESRB, поэтому можем заключить, что здесь ранжирование игр по возрастным ограничениям не влияет на продажи.     "
   ]
  },
  {
   "cell_type": "markdown",
   "metadata": {},
   "source": [
    "### Проверка гипотез"
   ]
  },
  {
   "cell_type": "markdown",
   "metadata": {},
   "source": [
    "#### Гипотеза: Средние пользовательские рейтинги платформ Xbox One и PC одинаковые"
   ]
  },
  {
   "cell_type": "markdown",
   "metadata": {},
   "source": [
    "Формулируем нулевую (двустороннюю) и альтернативную гипотезы:\n",
    "\n",
    "H_0: Средний пользовательский рейтинг (user_score) платформы Xbox One = Средний пользовательский рейтинг (user_score) платформы PC\n",
    "\n",
    "H_1: Средний пользовательский рейтинг (user_score) платформы Xbox One ≠ Средний пользовательский рейтинг (user_score) платформы PC\n",
    "\n",
    "alpha = 0.05"
   ]
  },
  {
   "cell_type": "code",
   "execution_count": 76,
   "metadata": {},
   "outputs": [],
   "source": [
    "# фильтруем данные\n",
    "# данные берем за актуальный период 2014-2016\n",
    "mean_rating_xboxone = data_pred.loc[data_pred['platform'] == 'XOne', 'user_score' ]\n",
    "mean_rating_pc = data_pred.loc[data_pred['platform'] == 'PC', 'user_score' ]"
   ]
  },
  {
   "cell_type": "code",
   "execution_count": 77,
   "metadata": {},
   "outputs": [
    {
     "name": "stdout",
     "output_type": "stream",
     "text": [
      "0.050744739458492595\n",
      "Не получилось отвергнуть нулевую гипотезу\n"
     ]
    }
   ],
   "source": [
    "# вызов метода для проверки гипотезы\n",
    "results = st.ttest_ind(mean_rating_xboxone, mean_rating_pc, equal_var = False )\n",
    "# alpha = задайте значение уровня значимости\n",
    "alpha = 0.05\n",
    "# вывод значения p-value на экран \n",
    "# условный оператор с выводом строки с ответом\n",
    "print(results.pvalue)\n",
    "if results.pvalue < alpha:\n",
    "    print(\"Отвергаем нулевую гипотезу\")\n",
    "else:\n",
    "    print(\"Не получилось отвергнуть нулевую гипотезу\") "
   ]
  },
  {
   "cell_type": "markdown",
   "metadata": {},
   "source": [
    "<div class=\"alert alert-block alert-info\">\n",
    "<b> Получаем, что средние пользовательские рейтинги платформ Xbox One и PC одинаковые, поскольку вероятность получить то среднее, которое имеется в выборочных данных, больше уровня статистической значимости alpha (5%)"
   ]
  },
  {
   "cell_type": "code",
   "execution_count": 78,
   "metadata": {},
   "outputs": [
    {
     "name": "stdout",
     "output_type": "stream",
     "text": [
      "p-значение: 0.1912450522572209\n",
      "Не получилось отвергнуть нулевую гипотезу\n"
     ]
    }
   ],
   "source": [
    "# Приведены два датасета: сумма покупок, совершённых за месяц посетителями ...\n",
    "\n",
    "sample_1 = [3071, 3636, 3454, 3151, 2185, 3259, 1727, 2263, 2015,\n",
    "2582, 4815, 633, 3186, 887, 2028, 3589, 2564, 1422, 1785,\n",
    "3180, 1770, 2716, 2546, 1848, 4644, 3134, 475, 2686,\n",
    "1838, 3352]\n",
    "sample_2 = [1211, 1228, 2157, 3699, 600, 1898, 1688, 1420, 5048, 3007,\n",
    "509, 3777, 5583, 3949, 121, 1674, 4300, 1338, 3066,\n",
    "3562, 1010, 2311, 462, 863, 2021, 528, 1849, 255,\n",
    "1740, 2596]\n",
    "alpha = .05 # критический уровень статистической значимости\n",
    "# если p-value окажется меньше него - отвергнем гипотезу\n",
    "results = st.ttest_ind(\n",
    "sample_1,\n",
    "sample_2)\n",
    "print('p-значение:', results.pvalue)\n",
    "if (results.pvalue < alpha):\n",
    "    print(\"Отвергаем нулевую гипотезу\")\n",
    "else:\n",
    "\n",
    "    print(\"Не получилось отвергнуть нулевую гипотезу\")"
   ]
  },
  {
   "cell_type": "markdown",
   "metadata": {},
   "source": [
    "#### Средние пользовательские рейтинги жанров Action и Sports разные"
   ]
  },
  {
   "cell_type": "markdown",
   "metadata": {},
   "source": [
    "Формулируем нулевую (двустороннюю) и альтернативную гипотезы:\n",
    "\n",
    "H_0: Средний пользовательский рейтинг (user_score) жанра Action = Средний пользовательский рейтинг (user_score) жанра Sports\n",
    "\n",
    "H_1: Средний пользовательский рейтинг (user_score) жанра Action ≠ Средний пользовательский рейтинг (user_score) жанра Sports\n",
    "\n",
    "alpha = 0.05"
   ]
  },
  {
   "cell_type": "code",
   "execution_count": 79,
   "metadata": {},
   "outputs": [],
   "source": [
    "# фильтруем данные\n",
    "# данные берем за актуальный период 2014-2016\n",
    "mean_rating_action = data_pred.loc[data_pred['genre'] == 'Action', 'user_score' ]\n",
    "mean_rating_sports = data_pred.loc[data_pred['genre'] == 'Sports', 'user_score' ]"
   ]
  },
  {
   "cell_type": "code",
   "execution_count": 80,
   "metadata": {},
   "outputs": [
    {
     "name": "stdout",
     "output_type": "stream",
     "text": [
      "7.412639945317563e-17\n",
      "Отвергаем нулевую гипотезу\n"
     ]
    }
   ],
   "source": [
    "# вызов метода для проверки гипотезы\n",
    "results = st.ttest_ind(mean_rating_action, mean_rating_sports, equal_var = False )\n",
    "# alpha = задайте значение уровня значимости\n",
    "alpha = 0.05\n",
    "# вывод значения p-value на экран \n",
    "# условный оператор с выводом строки с ответом\n",
    "print(results.pvalue)\n",
    "if results.pvalue < alpha:\n",
    "    print(\"Отвергаем нулевую гипотезу\")\n",
    "else:\n",
    "    print(\"Не получилось отвергнуть нулевую гипотезу\") "
   ]
  },
  {
   "cell_type": "markdown",
   "metadata": {},
   "source": [
    "<div class=\"alert alert-block alert-info\">\n",
    "<b> Получаем, что средние пользовательские рейтинги жанров Action и Sports разные, поскольку вероятность получить то среднее, которое имеется в выборочных данных, меньше уровня статистической значимости alpha (5%)"
   ]
  },
  {
   "cell_type": "markdown",
   "metadata": {},
   "source": [
    "### Общий вывод\n",
    "Подведем итоги\n",
    "#### Предобратка данных\n",
    "На этапе предобратки данных были заменены названия столбцов (приведены к нижнему регистру), данные преобразованы в нужные типы. Обработаны пропуски: в столбцах 'name', 'year_of_release', 'genre' пропуски в этих категориальных переменных невозможно чем-то заполнить, поэтому избавились от таких строк с пропусками. Пропуски в количественных переменных заполнили на медианные значения по категориям. Были посчитаны суммарные продажи во всех регионах и записаны в отдельный столбец.\n",
    "\n",
    "#### Исследовательский анализ\n",
    "На этапе исследовательского анализа данных выяснили, что рост в производстве игр начинался в 1993 году, это вполне логично, ведь начали появляться новые платформы (консоли). А пик в колчистве выпущенных игр наблюдается в 2008-2009 годах. С 2012 по 2016 можем наблюдать неравномерное снижение выпущенных игр.\n",
    "\n",
    "Также платформы с наибольшими суммарными продажами за весь период (1985-2016 года): 'PS2','X360', 'Wii', 'PS3', 'DS', 'PS'.\n",
    "\n",
    "По диаграммам распределения опрежелили, что срок жизни платформы составляет от 10 до 12 лет, в среднем получается около 11. \n",
    "\n",
    "Для того, чтобы построить корректный прогноз на 2017 год, следует определить актуальный период. Информация об устаревших платформах, таких как PS, на которых больше не выпускают игры, нам не интересна, при этом нам надо собрать достаточно данных, чтобы провести адекватную оценку следующеего года. Для такой динамично меняющейся индустрии, как игровая, было бы достаточно взять данные только за 2016 год, но данные за 2016 не полные. Поэтому предлагаю взять интервал с 2014 - 2016 год для прогнозирования продаж. \n",
    "\n",
    "На графике распределения суммы продаж по платформам за 2014-2016 года можно отметить 7 платформ - лидеров по прадажам: PS4, XOne, 3DS, WiiU,X360, PS3, PC.\n",
    "\n",
    "На графике распределения суммы продаж по платформам за 2014-2016 года можно увидеть, как изменялись продажи крупных платформ за актуальный период. Явными лидерами продаж на 2016 год становятся платформы PS4 и XOne.   \n",
    "Платформы X360 и PS3 были выпущены в 2006 и 2005 годах, и с 2014 по 2015 продажи на этих платформах значительно уменьшаются, их вытесняют платформы PS4 и XOne. Продажи на PC стабильны c 2014 по 2015 год, эту платформу стоит рассматривать, как перспективную. Также отметим, что с 2015-2016 года в тройку лидеров входит платформа 3DS. Таким образом, получаем следующие потенциально прибыльные платформы: PS4, XOne, 3DS, PC. \n",
    "\n",
    "По диаграммам размаха и числовым описаниям, можем сказать наибольшее количество игр за 2014-2016 года вышло на платформе PS4 (376 игры) и PSV (295 игр). При этом второе наибольшее значение медианных продаж у PS4 (0,185 млн), тогда как медианные продажи платформы PSV составляют всего лишь 0.04 млн, и это одно из наименьших колисчтва продаж среди всех платформ. Наибольшее медианное значение продаж у XOne (0.205 млн), хотя за этот период игр вышло в более, чем в 1,5 раза меньшне (228 игр) по сравнению с PS4. Наименьшее колчество продаж на платформе PSP 0.020 млн.\n",
    "\n",
    "По диаграммам рассеивания и коэфициентам корреляции между отзывами и продажами на платформах PS4 и XOne можно сделать вывод о том, что при оценках критиков больше 70 прослеживается зависимость между высокой оценкой от критика и увеличением продаж. А оценки пользователей на продажи не влияют. \n",
    "\n",
    "Также построила распределение продаж по жанрам на популярных платформах 2014-2016. И получилось, что самыми прибыльными жанрами являются Shooter, Role-Playing и Sports. А самый стабильный жанр с наиболее длинным рядом, успешно продающихся, игр - жанр Shooter.\n",
    "\n",
    "#### Портрет пользователя каждого региона\n",
    "Была создана сводная таблицы для определения долей самых популярных платформ для регионов Северной Америки, Европы, Японии. Для каждого региона построена круговая диаграмма, отражающая доли популярности разных платформ.\n",
    "\n",
    "Распределение долей продаж по платформам показало, что в Северной Америке и Европе топ-5 папулярных платформ практические одинаковы, лидируют PS4 и XOne, в Японии же значительно лидирует платформа 3DS. Платформа PS4 находится в топе папулярных платформ среди всех регионов. Вторая по количеству продаж в Северной Америке и Европе платформа XOne в Японии занимает только 7е место.\n",
    "\n",
    "Для оперделения самых популярных жанров в разных регионах также была создана сводная таблица и построены столбчатые диаграммы сумм продаж.\n",
    "\n",
    "Популярные жанры в Северной Америке и Европе очень похожи, скорее всего это связано с близостью культур и распространненностью таких платформ, как PS4, XOne. В Японии наиболее популярные жанры сильно отличаются от европейских и северо-американских. Здесь преобладает жанр Role-Playing и Action , скорее всего такое предпочтение в жанрах связано с широкой распространенностью платформы 3DS, на которой выходит большинство игр именно в жанре Role-Playing.\n",
    "\n",
    "Также выяснили, что для стран Северной Америки и Европы рейтинг ESRB влияет на покупку игры. В Японии большинство проданных игр (61%) не классифицированы рейтингом ESRB, поэтому можем заключить, что здесь ранжирование игр по возрастным ограничениям не влияет на продажи. \n",
    "\n",
    "#### Проверка гипотез\n",
    "Выяснила, что средние пользовательские рейтинги платформ Xbox One и PC одинаковые и редние пользовательские рейтинги жанров Action и Sports разные\n",
    "\n"
   ]
  },
  {
   "cell_type": "code",
   "execution_count": null,
   "metadata": {},
   "outputs": [],
   "source": []
  },
  {
   "cell_type": "code",
   "execution_count": null,
   "metadata": {},
   "outputs": [],
   "source": []
  }
 ],
 "metadata": {
  "ExecuteTimeLog": [
   {
    "duration": 1388,
    "start_time": "2022-11-28T10:45:11.205Z"
   },
   {
    "duration": 120,
    "start_time": "2022-11-28T10:46:06.922Z"
   },
   {
    "duration": 5,
    "start_time": "2022-11-28T10:52:24.129Z"
   },
   {
    "duration": 109,
    "start_time": "2022-11-28T10:55:05.211Z"
   },
   {
    "duration": 7,
    "start_time": "2022-11-28T10:55:49.403Z"
   },
   {
    "duration": 1343,
    "start_time": "2022-11-28T15:48:21.208Z"
   },
   {
    "duration": 232,
    "start_time": "2022-11-28T15:48:22.554Z"
   },
   {
    "duration": 8,
    "start_time": "2022-11-28T15:48:22.788Z"
   },
   {
    "duration": 723,
    "start_time": "2022-11-28T15:54:54.954Z"
   },
   {
    "duration": 4,
    "start_time": "2022-11-28T15:56:37.280Z"
   },
   {
    "duration": 98,
    "start_time": "2022-11-28T15:57:51.070Z"
   },
   {
    "duration": 8,
    "start_time": "2022-11-28T15:58:00.500Z"
   },
   {
    "duration": 3,
    "start_time": "2022-11-28T15:59:12.213Z"
   },
   {
    "duration": 779,
    "start_time": "2022-11-28T15:59:16.384Z"
   },
   {
    "duration": 6,
    "start_time": "2022-11-28T15:59:31.984Z"
   },
   {
    "duration": 2,
    "start_time": "2022-11-28T16:11:59.893Z"
   },
   {
    "duration": 5,
    "start_time": "2022-11-28T16:12:36.872Z"
   },
   {
    "duration": 13,
    "start_time": "2022-11-28T16:13:44.585Z"
   },
   {
    "duration": 6,
    "start_time": "2022-11-28T16:16:09.746Z"
   },
   {
    "duration": 1155,
    "start_time": "2022-11-28T16:17:16.841Z"
   },
   {
    "duration": 1310,
    "start_time": "2022-11-28T16:17:48.471Z"
   },
   {
    "duration": 1276,
    "start_time": "2022-11-28T16:18:41.175Z"
   },
   {
    "duration": 1327,
    "start_time": "2022-11-28T16:19:15.829Z"
   },
   {
    "duration": 2300,
    "start_time": "2022-11-28T16:20:02.981Z"
   },
   {
    "duration": 1175,
    "start_time": "2022-11-28T16:20:29.331Z"
   },
   {
    "duration": 3,
    "start_time": "2022-11-28T16:20:38.108Z"
   },
   {
    "duration": 83,
    "start_time": "2022-11-28T16:21:18.363Z"
   },
   {
    "duration": 14,
    "start_time": "2022-11-28T16:21:35.748Z"
   },
   {
    "duration": 14,
    "start_time": "2022-11-28T16:22:02.696Z"
   },
   {
    "duration": 22,
    "start_time": "2022-11-28T16:24:15.046Z"
   },
   {
    "duration": 96,
    "start_time": "2022-11-28T16:25:20.380Z"
   },
   {
    "duration": 9,
    "start_time": "2022-11-28T16:25:43.454Z"
   },
   {
    "duration": 10,
    "start_time": "2022-11-28T16:26:06.165Z"
   },
   {
    "duration": 9,
    "start_time": "2022-11-28T16:26:11.137Z"
   },
   {
    "duration": 9,
    "start_time": "2022-11-28T16:26:13.992Z"
   },
   {
    "duration": 9,
    "start_time": "2022-11-28T16:26:49.480Z"
   },
   {
    "duration": 8,
    "start_time": "2022-11-28T16:27:04.762Z"
   },
   {
    "duration": 3,
    "start_time": "2022-11-28T16:27:36.721Z"
   },
   {
    "duration": 81,
    "start_time": "2022-11-28T16:27:37.204Z"
   },
   {
    "duration": 750,
    "start_time": "2022-11-28T16:27:37.710Z"
   },
   {
    "duration": 5,
    "start_time": "2022-11-28T16:27:39.508Z"
   },
   {
    "duration": 6,
    "start_time": "2022-11-28T16:27:45.045Z"
   },
   {
    "duration": 15,
    "start_time": "2022-11-28T16:31:23.652Z"
   },
   {
    "duration": 8,
    "start_time": "2022-11-28T16:31:37.240Z"
   },
   {
    "duration": 19,
    "start_time": "2022-11-28T16:31:58.465Z"
   },
   {
    "duration": 11,
    "start_time": "2022-11-28T16:35:23.028Z"
   },
   {
    "duration": 9,
    "start_time": "2022-11-28T16:35:28.843Z"
   },
   {
    "duration": 4,
    "start_time": "2022-11-28T16:37:11.639Z"
   },
   {
    "duration": 5,
    "start_time": "2022-11-28T16:37:35.518Z"
   },
   {
    "duration": 30,
    "start_time": "2022-11-28T16:40:32.310Z"
   },
   {
    "duration": 24,
    "start_time": "2022-11-28T16:44:51.003Z"
   },
   {
    "duration": 1291,
    "start_time": "2022-11-28T16:50:20.481Z"
   },
   {
    "duration": 12,
    "start_time": "2022-11-28T16:50:27.414Z"
   },
   {
    "duration": 24,
    "start_time": "2022-11-28T16:50:51.687Z"
   },
   {
    "duration": 11,
    "start_time": "2022-11-28T16:51:08.590Z"
   },
   {
    "duration": 7,
    "start_time": "2022-11-28T16:53:10.012Z"
   },
   {
    "duration": 6,
    "start_time": "2022-11-28T16:57:58.948Z"
   },
   {
    "duration": 8,
    "start_time": "2022-11-28T16:58:11.188Z"
   },
   {
    "duration": 24,
    "start_time": "2022-11-28T17:11:03.546Z"
   },
   {
    "duration": 17,
    "start_time": "2022-11-28T17:13:01.799Z"
   },
   {
    "duration": 11,
    "start_time": "2022-11-28T17:13:09.568Z"
   },
   {
    "duration": 7,
    "start_time": "2022-11-28T17:14:45.095Z"
   },
   {
    "duration": 8,
    "start_time": "2022-11-28T17:15:46.468Z"
   },
   {
    "duration": 21,
    "start_time": "2022-11-28T17:26:24.720Z"
   },
   {
    "duration": 23,
    "start_time": "2022-11-28T17:29:48.202Z"
   },
   {
    "duration": 5,
    "start_time": "2022-11-28T17:32:38.355Z"
   },
   {
    "duration": 3,
    "start_time": "2022-11-28T17:34:06.310Z"
   },
   {
    "duration": 74,
    "start_time": "2022-11-28T17:34:06.515Z"
   },
   {
    "duration": 751,
    "start_time": "2022-11-28T17:34:06.956Z"
   },
   {
    "duration": 5,
    "start_time": "2022-11-28T17:34:07.786Z"
   },
   {
    "duration": 6,
    "start_time": "2022-11-28T17:34:08.939Z"
   },
   {
    "duration": 6,
    "start_time": "2022-11-28T17:34:10.387Z"
   },
   {
    "duration": 6,
    "start_time": "2022-11-28T17:34:11.501Z"
   },
   {
    "duration": 9,
    "start_time": "2022-11-28T17:34:12.119Z"
   },
   {
    "duration": 17,
    "start_time": "2022-11-28T17:34:13.090Z"
   },
   {
    "duration": 14,
    "start_time": "2022-11-28T17:34:49.566Z"
   },
   {
    "duration": 17,
    "start_time": "2022-11-28T17:35:58.484Z"
   },
   {
    "duration": 18,
    "start_time": "2022-11-28T17:36:27.455Z"
   },
   {
    "duration": 20,
    "start_time": "2022-11-28T17:37:33.493Z"
   },
   {
    "duration": 23,
    "start_time": "2022-11-28T17:37:49.309Z"
   },
   {
    "duration": 10,
    "start_time": "2022-11-28T17:38:46.390Z"
   },
   {
    "duration": 15,
    "start_time": "2022-11-28T17:38:47.563Z"
   },
   {
    "duration": 3,
    "start_time": "2022-11-28T17:42:38.581Z"
   },
   {
    "duration": 53,
    "start_time": "2022-11-28T17:43:29.183Z"
   },
   {
    "duration": 9,
    "start_time": "2022-11-28T17:43:44.004Z"
   },
   {
    "duration": 125,
    "start_time": "2022-11-28T17:43:46.267Z"
   },
   {
    "duration": 4,
    "start_time": "2022-11-28T17:43:49.133Z"
   },
   {
    "duration": 46,
    "start_time": "2022-11-28T17:43:51.167Z"
   },
   {
    "duration": 75,
    "start_time": "2022-11-28T17:44:17.169Z"
   },
   {
    "duration": 78,
    "start_time": "2022-11-28T17:44:39.792Z"
   },
   {
    "duration": 17,
    "start_time": "2022-11-28T18:04:23.883Z"
   },
   {
    "duration": 14,
    "start_time": "2022-11-28T18:04:36.492Z"
   },
   {
    "duration": 3,
    "start_time": "2022-11-28T18:06:58.774Z"
   },
   {
    "duration": 69,
    "start_time": "2022-11-28T18:06:59.040Z"
   },
   {
    "duration": 5,
    "start_time": "2022-11-28T18:07:00.094Z"
   },
   {
    "duration": 6,
    "start_time": "2022-11-28T18:07:00.494Z"
   },
   {
    "duration": 4,
    "start_time": "2022-11-28T18:07:00.925Z"
   },
   {
    "duration": 6,
    "start_time": "2022-11-28T18:07:01.393Z"
   },
   {
    "duration": 8,
    "start_time": "2022-11-28T18:07:02.568Z"
   },
   {
    "duration": 18,
    "start_time": "2022-11-28T18:07:03.443Z"
   },
   {
    "duration": 14,
    "start_time": "2022-11-28T18:07:04.782Z"
   },
   {
    "duration": 12,
    "start_time": "2022-11-28T18:07:06.993Z"
   },
   {
    "duration": 13,
    "start_time": "2022-11-28T18:07:12.423Z"
   },
   {
    "duration": 16,
    "start_time": "2022-11-28T18:07:14.230Z"
   },
   {
    "duration": 10,
    "start_time": "2022-11-28T18:07:24.959Z"
   },
   {
    "duration": 37,
    "start_time": "2022-11-28T18:07:40.321Z"
   },
   {
    "duration": 9,
    "start_time": "2022-11-28T18:21:17.599Z"
   },
   {
    "duration": 10,
    "start_time": "2022-11-28T18:23:21.307Z"
   },
   {
    "duration": 14,
    "start_time": "2022-11-28T18:23:30.748Z"
   },
   {
    "duration": 11,
    "start_time": "2022-11-28T18:25:00.902Z"
   },
   {
    "duration": 11,
    "start_time": "2022-11-28T18:25:18.724Z"
   },
   {
    "duration": 3,
    "start_time": "2022-11-28T18:25:26.397Z"
   },
   {
    "duration": 78,
    "start_time": "2022-11-28T18:25:27.199Z"
   },
   {
    "duration": 15,
    "start_time": "2022-11-28T18:25:43.464Z"
   },
   {
    "duration": 4,
    "start_time": "2022-11-28T18:26:06.882Z"
   },
   {
    "duration": 14,
    "start_time": "2022-11-28T18:26:15.190Z"
   },
   {
    "duration": 889,
    "start_time": "2022-11-28T19:03:03.207Z"
   },
   {
    "duration": 14,
    "start_time": "2022-11-28T19:50:07.549Z"
   },
   {
    "duration": 13,
    "start_time": "2022-11-28T19:52:03.864Z"
   },
   {
    "duration": 11,
    "start_time": "2022-11-28T19:52:26.107Z"
   },
   {
    "duration": 7,
    "start_time": "2022-11-28T19:52:55.106Z"
   },
   {
    "duration": 11,
    "start_time": "2022-11-28T19:53:29.748Z"
   },
   {
    "duration": 210,
    "start_time": "2022-11-28T19:53:52.707Z"
   },
   {
    "duration": 14,
    "start_time": "2022-11-28T19:54:42.899Z"
   },
   {
    "duration": 7,
    "start_time": "2022-11-28T19:57:10.723Z"
   },
   {
    "duration": 80706,
    "start_time": "2022-11-28T19:58:28.108Z"
   },
   {
    "duration": 115,
    "start_time": "2022-11-28T20:00:24.708Z"
   },
   {
    "duration": 8,
    "start_time": "2022-11-28T20:00:43.414Z"
   },
   {
    "duration": 10,
    "start_time": "2022-11-28T20:00:51.812Z"
   },
   {
    "duration": 110,
    "start_time": "2022-11-28T20:01:26.226Z"
   },
   {
    "duration": 129,
    "start_time": "2022-11-28T20:02:40.074Z"
   },
   {
    "duration": 133456,
    "start_time": "2022-11-28T20:07:54.387Z"
   },
   {
    "duration": 0,
    "start_time": "2022-11-28T20:10:07.852Z"
   },
   {
    "duration": 196,
    "start_time": "2022-11-28T20:10:10.397Z"
   },
   {
    "duration": 297,
    "start_time": "2022-11-28T20:14:57.612Z"
   },
   {
    "duration": 330,
    "start_time": "2022-11-28T20:15:50.057Z"
   },
   {
    "duration": 322,
    "start_time": "2022-11-28T20:16:01.121Z"
   },
   {
    "duration": 13,
    "start_time": "2022-11-28T20:17:20.300Z"
   },
   {
    "duration": 18699,
    "start_time": "2022-11-28T20:17:30.771Z"
   },
   {
    "duration": 380,
    "start_time": "2022-11-28T20:18:08.357Z"
   },
   {
    "duration": 12,
    "start_time": "2022-11-28T20:25:11.936Z"
   },
   {
    "duration": 10,
    "start_time": "2022-11-28T20:25:41.835Z"
   },
   {
    "duration": 5,
    "start_time": "2022-11-28T20:25:58.210Z"
   },
   {
    "duration": 6,
    "start_time": "2022-11-28T20:26:09.253Z"
   },
   {
    "duration": 168,
    "start_time": "2022-11-28T20:26:23.007Z"
   },
   {
    "duration": 129,
    "start_time": "2022-11-28T20:27:01.453Z"
   },
   {
    "duration": 213,
    "start_time": "2022-11-28T20:28:24.308Z"
   },
   {
    "duration": 253,
    "start_time": "2022-11-28T20:28:54.014Z"
   },
   {
    "duration": 322,
    "start_time": "2022-11-28T20:33:08.951Z"
   },
   {
    "duration": 305,
    "start_time": "2022-11-28T20:33:29.940Z"
   },
   {
    "duration": 1176,
    "start_time": "2022-11-28T20:55:38.485Z"
   },
   {
    "duration": 15,
    "start_time": "2022-11-28T20:55:48.451Z"
   },
   {
    "duration": 13,
    "start_time": "2022-11-28T20:56:02.102Z"
   },
   {
    "duration": 9416,
    "start_time": "2022-11-28T20:56:20.952Z"
   },
   {
    "duration": 13999,
    "start_time": "2022-11-28T20:56:37.349Z"
   },
   {
    "duration": 4521,
    "start_time": "2022-11-28T20:57:46.240Z"
   },
   {
    "duration": 9525,
    "start_time": "2022-11-28T20:58:20.939Z"
   },
   {
    "duration": 11716,
    "start_time": "2022-11-28T21:00:21.048Z"
   },
   {
    "duration": 9337,
    "start_time": "2022-11-28T21:02:05.288Z"
   },
   {
    "duration": 12275,
    "start_time": "2022-11-28T21:04:43.446Z"
   },
   {
    "duration": 9770,
    "start_time": "2022-11-28T21:05:10.638Z"
   },
   {
    "duration": 12251,
    "start_time": "2022-11-28T21:07:10.722Z"
   },
   {
    "duration": 1103,
    "start_time": "2022-11-28T21:08:08.323Z"
   },
   {
    "duration": 1389,
    "start_time": "2022-11-29T08:15:34.674Z"
   },
   {
    "duration": 126,
    "start_time": "2022-11-29T08:15:36.749Z"
   },
   {
    "duration": 5,
    "start_time": "2022-11-29T08:15:40.369Z"
   },
   {
    "duration": 6,
    "start_time": "2022-11-29T08:15:41.556Z"
   },
   {
    "duration": 4,
    "start_time": "2022-11-29T08:15:42.741Z"
   },
   {
    "duration": 5,
    "start_time": "2022-11-29T08:15:43.943Z"
   },
   {
    "duration": 6,
    "start_time": "2022-11-29T08:15:44.445Z"
   },
   {
    "duration": 7,
    "start_time": "2022-11-29T08:15:45.039Z"
   },
   {
    "duration": 17,
    "start_time": "2022-11-29T08:15:49.015Z"
   },
   {
    "duration": 22,
    "start_time": "2022-11-29T08:16:00.584Z"
   },
   {
    "duration": 20,
    "start_time": "2022-11-29T08:16:22.495Z"
   },
   {
    "duration": 3,
    "start_time": "2022-11-29T08:16:50.628Z"
   },
   {
    "duration": 71,
    "start_time": "2022-11-29T08:16:51.121Z"
   },
   {
    "duration": 5,
    "start_time": "2022-11-29T08:16:53.667Z"
   },
   {
    "duration": 5,
    "start_time": "2022-11-29T08:16:55.785Z"
   },
   {
    "duration": 4,
    "start_time": "2022-11-29T08:16:57.125Z"
   },
   {
    "duration": 5,
    "start_time": "2022-11-29T08:16:58.268Z"
   },
   {
    "duration": 7,
    "start_time": "2022-11-29T08:16:58.817Z"
   },
   {
    "duration": 7,
    "start_time": "2022-11-29T08:16:59.572Z"
   },
   {
    "duration": 4,
    "start_time": "2022-11-29T08:17:01.339Z"
   },
   {
    "duration": 14,
    "start_time": "2022-11-29T08:17:02.452Z"
   },
   {
    "duration": 22,
    "start_time": "2022-11-29T08:17:15.111Z"
   },
   {
    "duration": 18,
    "start_time": "2022-11-29T08:17:15.692Z"
   },
   {
    "duration": 11,
    "start_time": "2022-11-29T08:17:16.230Z"
   },
   {
    "duration": 22,
    "start_time": "2022-11-29T08:17:16.788Z"
   },
   {
    "duration": 8,
    "start_time": "2022-11-29T08:17:18.531Z"
   },
   {
    "duration": 24,
    "start_time": "2022-11-29T08:17:19.667Z"
   },
   {
    "duration": 9,
    "start_time": "2022-11-29T08:17:20.794Z"
   },
   {
    "duration": 4,
    "start_time": "2022-11-29T08:17:21.875Z"
   },
   {
    "duration": 81,
    "start_time": "2022-11-29T08:17:22.501Z"
   },
   {
    "duration": 5,
    "start_time": "2022-11-29T08:17:24.854Z"
   },
   {
    "duration": 14,
    "start_time": "2022-11-29T08:17:25.784Z"
   },
   {
    "duration": 921,
    "start_time": "2022-11-29T08:17:32.929Z"
   },
   {
    "duration": 12,
    "start_time": "2022-11-29T08:17:47.331Z"
   },
   {
    "duration": 406,
    "start_time": "2022-11-29T08:17:48.906Z"
   },
   {
    "duration": 6,
    "start_time": "2022-11-29T08:25:12.262Z"
   },
   {
    "duration": 244,
    "start_time": "2022-11-29T08:25:33.169Z"
   },
   {
    "duration": 322,
    "start_time": "2022-11-29T08:26:59.926Z"
   },
   {
    "duration": 253,
    "start_time": "2022-11-29T08:27:07.993Z"
   },
   {
    "duration": 117,
    "start_time": "2022-11-29T08:33:43.118Z"
   },
   {
    "duration": 351,
    "start_time": "2022-11-29T08:33:55.650Z"
   },
   {
    "duration": 32,
    "start_time": "2022-11-29T08:33:59.836Z"
   },
   {
    "duration": 6,
    "start_time": "2022-11-29T08:35:02.137Z"
   },
   {
    "duration": 3,
    "start_time": "2022-11-29T08:36:34.450Z"
   },
   {
    "duration": 31,
    "start_time": "2022-11-29T08:36:37.628Z"
   },
   {
    "duration": 6,
    "start_time": "2022-11-29T08:36:48.552Z"
   },
   {
    "duration": 6,
    "start_time": "2022-11-29T08:37:13.683Z"
   },
   {
    "duration": 12,
    "start_time": "2022-11-29T08:39:02.114Z"
   },
   {
    "duration": 12,
    "start_time": "2022-11-29T08:44:38.273Z"
   },
   {
    "duration": 13,
    "start_time": "2022-11-29T08:45:40.170Z"
   },
   {
    "duration": 3,
    "start_time": "2022-11-29T08:49:45.444Z"
   },
   {
    "duration": 99,
    "start_time": "2022-11-29T08:49:46.024Z"
   },
   {
    "duration": 5,
    "start_time": "2022-11-29T08:49:47.321Z"
   },
   {
    "duration": 6,
    "start_time": "2022-11-29T08:49:47.888Z"
   },
   {
    "duration": 4,
    "start_time": "2022-11-29T08:49:48.361Z"
   },
   {
    "duration": 5,
    "start_time": "2022-11-29T08:49:48.946Z"
   },
   {
    "duration": 7,
    "start_time": "2022-11-29T08:49:49.232Z"
   },
   {
    "duration": 8,
    "start_time": "2022-11-29T08:49:49.570Z"
   },
   {
    "duration": 3,
    "start_time": "2022-11-29T08:49:50.222Z"
   },
   {
    "duration": 15,
    "start_time": "2022-11-29T08:49:50.517Z"
   },
   {
    "duration": 17,
    "start_time": "2022-11-29T08:49:51.222Z"
   },
   {
    "duration": 12,
    "start_time": "2022-11-29T08:49:51.644Z"
   },
   {
    "duration": 10,
    "start_time": "2022-11-29T08:49:52.219Z"
   },
   {
    "duration": 16,
    "start_time": "2022-11-29T08:49:52.711Z"
   },
   {
    "duration": 17,
    "start_time": "2022-11-29T08:49:55.917Z"
   },
   {
    "duration": 14,
    "start_time": "2022-11-29T08:49:56.553Z"
   },
   {
    "duration": 12,
    "start_time": "2022-11-29T08:49:56.934Z"
   },
   {
    "duration": 14,
    "start_time": "2022-11-29T08:49:57.289Z"
   },
   {
    "duration": 13,
    "start_time": "2022-11-29T08:49:57.630Z"
   },
   {
    "duration": 9,
    "start_time": "2022-11-29T08:49:58.670Z"
   },
   {
    "duration": 23,
    "start_time": "2022-11-29T08:49:59.419Z"
   },
   {
    "duration": 11,
    "start_time": "2022-11-29T08:50:00.054Z"
   },
   {
    "duration": 4,
    "start_time": "2022-11-29T08:50:00.684Z"
   },
   {
    "duration": 103,
    "start_time": "2022-11-29T08:50:01.026Z"
   },
   {
    "duration": 4,
    "start_time": "2022-11-29T08:50:02.222Z"
   },
   {
    "duration": 16,
    "start_time": "2022-11-29T08:50:02.570Z"
   },
   {
    "duration": 1088,
    "start_time": "2022-11-29T08:50:04.185Z"
   },
   {
    "duration": 13,
    "start_time": "2022-11-29T08:50:05.582Z"
   },
   {
    "duration": 405,
    "start_time": "2022-11-29T08:50:06.721Z"
   },
   {
    "duration": 381,
    "start_time": "2022-11-29T08:50:16.265Z"
   },
   {
    "duration": 371,
    "start_time": "2022-11-29T08:50:22.919Z"
   },
   {
    "duration": 9,
    "start_time": "2022-11-29T08:50:44.668Z"
   },
   {
    "duration": 18,
    "start_time": "2022-11-29T08:52:12.872Z"
   },
   {
    "duration": 486,
    "start_time": "2022-11-29T08:52:36.638Z"
   },
   {
    "duration": 14,
    "start_time": "2022-11-29T08:54:14.991Z"
   },
   {
    "duration": 9,
    "start_time": "2022-11-29T08:54:40.538Z"
   },
   {
    "duration": 36,
    "start_time": "2022-11-29T08:58:31.016Z"
   },
   {
    "duration": 16,
    "start_time": "2022-11-29T09:06:12.309Z"
   },
   {
    "duration": 61,
    "start_time": "2022-11-29T09:06:20.837Z"
   },
   {
    "duration": 658,
    "start_time": "2022-11-29T09:06:53.986Z"
   },
   {
    "duration": 559,
    "start_time": "2022-11-29T09:07:33.975Z"
   },
   {
    "duration": 3171,
    "start_time": "2022-11-29T09:08:05.141Z"
   },
   {
    "duration": 91,
    "start_time": "2022-11-29T09:13:09.616Z"
   },
   {
    "duration": 638,
    "start_time": "2022-11-29T09:13:15.908Z"
   },
   {
    "duration": 25,
    "start_time": "2022-11-29T09:23:18.387Z"
   },
   {
    "duration": 549,
    "start_time": "2022-11-29T09:25:02.607Z"
   },
   {
    "duration": 714,
    "start_time": "2022-11-29T09:29:28.043Z"
   },
   {
    "duration": 539,
    "start_time": "2022-11-29T09:37:18.104Z"
   },
   {
    "duration": 1188,
    "start_time": "2022-11-29T09:37:24.360Z"
   },
   {
    "duration": 1025,
    "start_time": "2022-11-29T09:39:54.893Z"
   },
   {
    "duration": 882,
    "start_time": "2022-11-29T09:40:07.697Z"
   },
   {
    "duration": 1441,
    "start_time": "2022-11-29T09:41:02.495Z"
   },
   {
    "duration": 917,
    "start_time": "2022-11-29T09:41:16.941Z"
   },
   {
    "duration": 15,
    "start_time": "2022-11-29T09:41:57.477Z"
   },
   {
    "duration": 13,
    "start_time": "2022-11-29T09:42:03.220Z"
   },
   {
    "duration": 20,
    "start_time": "2022-11-29T09:42:17.725Z"
   },
   {
    "duration": 73,
    "start_time": "2022-11-29T09:42:35.248Z"
   },
   {
    "duration": 16,
    "start_time": "2022-11-29T09:42:47.068Z"
   },
   {
    "duration": 16,
    "start_time": "2022-11-29T09:42:53.370Z"
   },
   {
    "duration": 21,
    "start_time": "2022-11-29T09:43:43.845Z"
   },
   {
    "duration": 10,
    "start_time": "2022-11-29T09:45:07.878Z"
   },
   {
    "duration": 7,
    "start_time": "2022-11-29T09:45:17.436Z"
   },
   {
    "duration": 4,
    "start_time": "2022-11-29T09:46:24.078Z"
   },
   {
    "duration": 12,
    "start_time": "2022-11-29T09:46:46.487Z"
   },
   {
    "duration": 7,
    "start_time": "2022-11-29T09:46:57.866Z"
   },
   {
    "duration": 8,
    "start_time": "2022-11-29T09:47:39.510Z"
   },
   {
    "duration": 25,
    "start_time": "2022-11-29T09:55:00.002Z"
   },
   {
    "duration": 24,
    "start_time": "2022-11-29T09:56:29.831Z"
   },
   {
    "duration": 21,
    "start_time": "2022-11-29T09:57:28.278Z"
   },
   {
    "duration": 22,
    "start_time": "2022-11-29T09:57:39.180Z"
   },
   {
    "duration": 25,
    "start_time": "2022-11-29T09:58:30.079Z"
   },
   {
    "duration": 23,
    "start_time": "2022-11-29T09:59:15.751Z"
   },
   {
    "duration": 22,
    "start_time": "2022-11-29T10:00:46.632Z"
   },
   {
    "duration": 3,
    "start_time": "2022-11-29T10:03:19.823Z"
   },
   {
    "duration": 21,
    "start_time": "2022-11-29T10:03:26.841Z"
   },
   {
    "duration": 13,
    "start_time": "2022-11-29T10:03:47.742Z"
   },
   {
    "duration": 57,
    "start_time": "2022-11-29T10:04:40.151Z"
   },
   {
    "duration": 1150,
    "start_time": "2022-11-29T10:04:50.515Z"
   },
   {
    "duration": 24,
    "start_time": "2022-11-29T10:07:13.104Z"
   },
   {
    "duration": 1199,
    "start_time": "2022-11-29T10:07:16.965Z"
   },
   {
    "duration": 23,
    "start_time": "2022-11-29T10:10:58.310Z"
   },
   {
    "duration": 770,
    "start_time": "2022-11-29T10:12:10.164Z"
   },
   {
    "duration": 979,
    "start_time": "2022-11-29T10:12:29.803Z"
   },
   {
    "duration": 168,
    "start_time": "2022-11-29T10:12:39.089Z"
   },
   {
    "duration": 31,
    "start_time": "2022-11-29T10:13:14.129Z"
   },
   {
    "duration": 22,
    "start_time": "2022-11-29T10:13:39.145Z"
   },
   {
    "duration": 21,
    "start_time": "2022-11-29T10:13:58.327Z"
   },
   {
    "duration": 31,
    "start_time": "2022-11-29T10:14:05.312Z"
   },
   {
    "duration": 29,
    "start_time": "2022-11-29T10:14:12.181Z"
   },
   {
    "duration": 1124,
    "start_time": "2022-11-29T10:14:25.312Z"
   },
   {
    "duration": 23,
    "start_time": "2022-11-29T10:23:05.743Z"
   },
   {
    "duration": 24,
    "start_time": "2022-11-29T10:27:54.957Z"
   },
   {
    "duration": 23,
    "start_time": "2022-11-29T10:28:20.009Z"
   },
   {
    "duration": 23,
    "start_time": "2022-11-29T10:29:04.407Z"
   },
   {
    "duration": 24,
    "start_time": "2022-11-29T10:30:09.983Z"
   },
   {
    "duration": 24,
    "start_time": "2022-11-29T10:30:48.933Z"
   },
   {
    "duration": 26,
    "start_time": "2022-11-29T10:31:28.132Z"
   },
   {
    "duration": 3,
    "start_time": "2022-11-29T10:31:46.027Z"
   },
   {
    "duration": 71,
    "start_time": "2022-11-29T10:31:46.281Z"
   },
   {
    "duration": 5,
    "start_time": "2022-11-29T10:31:47.350Z"
   },
   {
    "duration": 6,
    "start_time": "2022-11-29T10:31:47.769Z"
   },
   {
    "duration": 4,
    "start_time": "2022-11-29T10:31:48.138Z"
   },
   {
    "duration": 6,
    "start_time": "2022-11-29T10:31:48.569Z"
   },
   {
    "duration": 7,
    "start_time": "2022-11-29T10:31:48.769Z"
   },
   {
    "duration": 7,
    "start_time": "2022-11-29T10:31:48.973Z"
   },
   {
    "duration": 3,
    "start_time": "2022-11-29T10:31:49.397Z"
   },
   {
    "duration": 13,
    "start_time": "2022-11-29T10:31:49.589Z"
   },
   {
    "duration": 15,
    "start_time": "2022-11-29T10:31:49.990Z"
   },
   {
    "duration": 12,
    "start_time": "2022-11-29T10:31:50.221Z"
   },
   {
    "duration": 11,
    "start_time": "2022-11-29T10:31:50.418Z"
   },
   {
    "duration": 16,
    "start_time": "2022-11-29T10:31:50.642Z"
   },
   {
    "duration": 9,
    "start_time": "2022-11-29T10:31:51.296Z"
   },
   {
    "duration": 21,
    "start_time": "2022-11-29T10:31:51.705Z"
   },
   {
    "duration": 10,
    "start_time": "2022-11-29T10:31:52.165Z"
   },
   {
    "duration": 4,
    "start_time": "2022-11-29T10:31:52.614Z"
   },
   {
    "duration": 88,
    "start_time": "2022-11-29T10:31:52.839Z"
   },
   {
    "duration": 4,
    "start_time": "2022-11-29T10:31:53.472Z"
   },
   {
    "duration": 16,
    "start_time": "2022-11-29T10:31:53.673Z"
   },
   {
    "duration": 1146,
    "start_time": "2022-11-29T10:31:54.550Z"
   },
   {
    "duration": 12,
    "start_time": "2022-11-29T10:31:55.698Z"
   },
   {
    "duration": 363,
    "start_time": "2022-11-29T10:31:56.513Z"
   },
   {
    "duration": 228,
    "start_time": "2022-11-29T10:31:56.877Z"
   },
   {
    "duration": 340,
    "start_time": "2022-11-29T10:31:57.581Z"
   },
   {
    "duration": 9,
    "start_time": "2022-11-29T10:31:59.217Z"
   },
   {
    "duration": 530,
    "start_time": "2022-11-29T10:32:00.369Z"
   },
   {
    "duration": 22,
    "start_time": "2022-11-29T10:32:05.570Z"
   },
   {
    "duration": 23,
    "start_time": "2022-11-29T10:32:12.975Z"
   },
   {
    "duration": 32,
    "start_time": "2022-11-29T10:32:39.217Z"
   },
   {
    "duration": 50,
    "start_time": "2022-11-29T10:33:47.528Z"
   },
   {
    "duration": 214,
    "start_time": "2022-11-29T10:33:53.583Z"
   },
   {
    "duration": 286,
    "start_time": "2022-11-29T10:34:17.114Z"
   },
   {
    "duration": 8855,
    "start_time": "2022-11-29T10:34:50.102Z"
   },
   {
    "duration": 7396,
    "start_time": "2022-11-29T10:35:50.410Z"
   },
   {
    "duration": 222,
    "start_time": "2022-11-29T10:36:17.484Z"
   },
   {
    "duration": 220,
    "start_time": "2022-11-29T10:36:48.840Z"
   },
   {
    "duration": 7452,
    "start_time": "2022-11-29T10:36:58.199Z"
   },
   {
    "duration": 49,
    "start_time": "2022-11-29T10:37:36.978Z"
   },
   {
    "duration": 7461,
    "start_time": "2022-11-29T10:37:44.398Z"
   },
   {
    "duration": 201,
    "start_time": "2022-11-29T10:39:19.021Z"
   },
   {
    "duration": 196,
    "start_time": "2022-11-29T10:41:24.785Z"
   },
   {
    "duration": 190,
    "start_time": "2022-11-29T10:42:23.663Z"
   },
   {
    "duration": 183,
    "start_time": "2022-11-29T10:42:44.451Z"
   },
   {
    "duration": 7419,
    "start_time": "2022-11-29T10:44:10.488Z"
   },
   {
    "duration": 1491,
    "start_time": "2022-11-29T10:47:00.238Z"
   },
   {
    "duration": 1232,
    "start_time": "2022-11-29T10:48:18.014Z"
   },
   {
    "duration": 26,
    "start_time": "2022-11-29T10:57:17.815Z"
   },
   {
    "duration": 15,
    "start_time": "2022-11-29T10:59:33.035Z"
   },
   {
    "duration": 25,
    "start_time": "2022-11-29T11:00:10.280Z"
   },
   {
    "duration": 20,
    "start_time": "2022-11-29T11:00:43.749Z"
   },
   {
    "duration": 16,
    "start_time": "2022-11-29T11:01:46.536Z"
   },
   {
    "duration": 24,
    "start_time": "2022-11-29T11:01:54.260Z"
   },
   {
    "duration": 183,
    "start_time": "2022-11-29T11:02:44.496Z"
   },
   {
    "duration": 263,
    "start_time": "2022-11-29T11:05:22.656Z"
   },
   {
    "duration": 184,
    "start_time": "2022-11-29T11:05:36.920Z"
   },
   {
    "duration": 33,
    "start_time": "2022-11-29T11:12:16.750Z"
   },
   {
    "duration": 11,
    "start_time": "2022-11-29T11:12:36.835Z"
   },
   {
    "duration": 33,
    "start_time": "2022-11-29T11:13:16.460Z"
   },
   {
    "duration": 58,
    "start_time": "2022-11-29T11:14:24.977Z"
   },
   {
    "duration": 24,
    "start_time": "2022-11-29T11:14:30.620Z"
   },
   {
    "duration": 20,
    "start_time": "2022-11-29T11:15:08.929Z"
   },
   {
    "duration": 24,
    "start_time": "2022-11-29T11:15:26.500Z"
   },
   {
    "duration": 41,
    "start_time": "2022-11-29T11:16:07.418Z"
   },
   {
    "duration": 232,
    "start_time": "2022-11-29T11:16:14.652Z"
   },
   {
    "duration": 223,
    "start_time": "2022-11-29T11:17:09.385Z"
   },
   {
    "duration": 24,
    "start_time": "2022-11-29T11:18:09.271Z"
   },
   {
    "duration": 661,
    "start_time": "2022-11-29T11:19:35.986Z"
   },
   {
    "duration": 241,
    "start_time": "2022-11-29T11:21:53.686Z"
   },
   {
    "duration": 155,
    "start_time": "2022-11-29T11:29:25.348Z"
   },
   {
    "duration": 828,
    "start_time": "2022-11-29T11:33:04.222Z"
   },
   {
    "duration": 784,
    "start_time": "2022-11-29T11:33:19.789Z"
   },
   {
    "duration": 573,
    "start_time": "2022-11-29T11:36:39.887Z"
   },
   {
    "duration": 573,
    "start_time": "2022-11-29T11:37:04.224Z"
   },
   {
    "duration": 499,
    "start_time": "2022-11-29T11:37:48.453Z"
   },
   {
    "duration": 796,
    "start_time": "2022-11-29T11:39:46.038Z"
   },
   {
    "duration": 75,
    "start_time": "2022-11-29T11:40:53.485Z"
   },
   {
    "duration": 5,
    "start_time": "2022-11-29T11:40:59.886Z"
   },
   {
    "duration": 30,
    "start_time": "2022-11-29T11:42:03.374Z"
   },
   {
    "duration": 117,
    "start_time": "2022-11-29T11:42:31.588Z"
   },
   {
    "duration": 12,
    "start_time": "2022-11-29T11:43:22.567Z"
   },
   {
    "duration": 11,
    "start_time": "2022-11-29T11:43:38.975Z"
   },
   {
    "duration": 5,
    "start_time": "2022-11-29T11:43:50.081Z"
   },
   {
    "duration": 10,
    "start_time": "2022-11-29T11:44:46.902Z"
   },
   {
    "duration": 11,
    "start_time": "2022-11-29T11:44:55.087Z"
   },
   {
    "duration": 40,
    "start_time": "2022-11-29T11:45:12.605Z"
   },
   {
    "duration": 74,
    "start_time": "2022-11-29T11:45:33.489Z"
   },
   {
    "duration": 13,
    "start_time": "2022-11-29T11:46:17.122Z"
   },
   {
    "duration": 496,
    "start_time": "2022-11-29T11:46:44.188Z"
   },
   {
    "duration": 483,
    "start_time": "2022-11-29T11:47:20.213Z"
   },
   {
    "duration": 125,
    "start_time": "2022-11-29T11:49:59.536Z"
   },
   {
    "duration": 4,
    "start_time": "2022-11-29T11:52:13.539Z"
   },
   {
    "duration": 18,
    "start_time": "2022-11-29T11:52:25.363Z"
   },
   {
    "duration": 25,
    "start_time": "2022-11-29T11:53:21.506Z"
   },
   {
    "duration": 11,
    "start_time": "2022-11-29T11:53:37.852Z"
   },
   {
    "duration": 6,
    "start_time": "2022-11-29T11:54:28.606Z"
   },
   {
    "duration": 22,
    "start_time": "2022-11-29T11:57:17.265Z"
   },
   {
    "duration": 738,
    "start_time": "2022-11-29T11:58:08.150Z"
   },
   {
    "duration": 15,
    "start_time": "2022-11-29T11:58:41.643Z"
   },
   {
    "duration": 3595,
    "start_time": "2022-11-29T12:00:02.740Z"
   },
   {
    "duration": 3670,
    "start_time": "2022-11-29T12:03:28.942Z"
   },
   {
    "duration": 13,
    "start_time": "2022-11-29T12:07:13.051Z"
   },
   {
    "duration": 3093,
    "start_time": "2022-11-29T12:07:21.579Z"
   },
   {
    "duration": 11,
    "start_time": "2022-11-29T12:10:08.696Z"
   },
   {
    "duration": 3508,
    "start_time": "2022-11-29T12:10:16.628Z"
   },
   {
    "duration": 27,
    "start_time": "2022-11-29T12:12:29.188Z"
   },
   {
    "duration": 25,
    "start_time": "2022-11-29T12:13:01.679Z"
   },
   {
    "duration": 15,
    "start_time": "2022-11-29T12:13:11.514Z"
   },
   {
    "duration": 14,
    "start_time": "2022-11-29T12:13:58.297Z"
   },
   {
    "duration": 20,
    "start_time": "2022-11-29T12:14:07.477Z"
   },
   {
    "duration": 172,
    "start_time": "2022-11-29T12:16:56.596Z"
   },
   {
    "duration": 151,
    "start_time": "2022-11-29T12:17:24.752Z"
   },
   {
    "duration": 153,
    "start_time": "2022-11-29T12:19:10.074Z"
   },
   {
    "duration": 148,
    "start_time": "2022-11-29T12:19:31.563Z"
   },
   {
    "duration": 21,
    "start_time": "2022-11-29T12:22:55.769Z"
   },
   {
    "duration": 152,
    "start_time": "2022-11-29T12:22:56.511Z"
   },
   {
    "duration": 123,
    "start_time": "2022-11-29T12:22:57.966Z"
   },
   {
    "duration": 19,
    "start_time": "2022-11-29T12:23:04.400Z"
   },
   {
    "duration": 175,
    "start_time": "2022-11-29T12:23:30.194Z"
   },
   {
    "duration": 140,
    "start_time": "2022-11-29T12:23:58.442Z"
   },
   {
    "duration": 160,
    "start_time": "2022-11-29T12:24:27.959Z"
   },
   {
    "duration": 154,
    "start_time": "2022-11-29T12:24:43.962Z"
   },
   {
    "duration": 149,
    "start_time": "2022-11-29T12:24:51.530Z"
   },
   {
    "duration": 154,
    "start_time": "2022-11-29T12:25:10.846Z"
   },
   {
    "duration": 489,
    "start_time": "2022-11-29T12:25:17.834Z"
   },
   {
    "duration": 134,
    "start_time": "2022-11-29T12:25:47.753Z"
   },
   {
    "duration": 151,
    "start_time": "2022-11-29T12:25:54.870Z"
   },
   {
    "duration": 341,
    "start_time": "2022-11-29T12:29:44.736Z"
   },
   {
    "duration": 236,
    "start_time": "2022-11-29T12:30:10.598Z"
   },
   {
    "duration": 169,
    "start_time": "2022-11-29T12:31:33.565Z"
   },
   {
    "duration": 15,
    "start_time": "2022-11-29T12:33:17.861Z"
   },
   {
    "duration": 16,
    "start_time": "2022-11-29T12:33:30.577Z"
   },
   {
    "duration": 218,
    "start_time": "2022-11-29T12:34:08.122Z"
   },
   {
    "duration": 259,
    "start_time": "2022-11-29T12:35:16.860Z"
   },
   {
    "duration": 23,
    "start_time": "2022-11-29T12:39:44.865Z"
   },
   {
    "duration": 1183,
    "start_time": "2022-11-29T12:40:16.730Z"
   },
   {
    "duration": 67,
    "start_time": "2022-11-29T12:41:47.032Z"
   },
   {
    "duration": 1317,
    "start_time": "2022-11-29T12:41:51.899Z"
   },
   {
    "duration": 6,
    "start_time": "2022-11-29T12:43:41.089Z"
   },
   {
    "duration": 44,
    "start_time": "2022-11-29T12:45:29.377Z"
   },
   {
    "duration": 107,
    "start_time": "2022-11-29T12:46:00.353Z"
   },
   {
    "duration": 356,
    "start_time": "2022-11-29T12:46:33.121Z"
   },
   {
    "duration": 373,
    "start_time": "2022-11-29T12:46:51.452Z"
   },
   {
    "duration": 419,
    "start_time": "2022-11-29T12:48:55.720Z"
   },
   {
    "duration": 246,
    "start_time": "2022-11-29T12:51:29.328Z"
   },
   {
    "duration": 11,
    "start_time": "2022-11-29T12:59:14.909Z"
   },
   {
    "duration": 20,
    "start_time": "2022-11-29T13:00:46.113Z"
   },
   {
    "duration": 318,
    "start_time": "2022-11-29T13:01:28.211Z"
   },
   {
    "duration": 10,
    "start_time": "2022-11-29T13:01:38.836Z"
   },
   {
    "duration": 9,
    "start_time": "2022-11-29T13:02:52.386Z"
   },
   {
    "duration": 11,
    "start_time": "2022-11-29T13:03:01.289Z"
   },
   {
    "duration": 215,
    "start_time": "2022-11-29T13:03:02.106Z"
   },
   {
    "duration": 18,
    "start_time": "2022-11-29T13:06:19.088Z"
   },
   {
    "duration": 18,
    "start_time": "2022-11-29T13:06:32.019Z"
   },
   {
    "duration": 16,
    "start_time": "2022-11-29T13:06:56.404Z"
   },
   {
    "duration": 15,
    "start_time": "2022-11-29T13:07:21.335Z"
   },
   {
    "duration": 286,
    "start_time": "2022-11-29T13:09:59.020Z"
   },
   {
    "duration": 306,
    "start_time": "2022-11-29T13:10:37.401Z"
   },
   {
    "duration": 322,
    "start_time": "2022-11-29T13:10:46.974Z"
   },
   {
    "duration": 341,
    "start_time": "2022-11-29T13:10:56.831Z"
   },
   {
    "duration": 14,
    "start_time": "2022-11-29T13:14:19.233Z"
   },
   {
    "duration": 221,
    "start_time": "2022-11-29T13:15:16.868Z"
   },
   {
    "duration": 206,
    "start_time": "2022-11-29T13:15:40.370Z"
   },
   {
    "duration": 236,
    "start_time": "2022-11-29T13:15:50.197Z"
   },
   {
    "duration": 17,
    "start_time": "2022-11-29T13:23:35.735Z"
   },
   {
    "duration": 317,
    "start_time": "2022-11-29T13:24:55.331Z"
   },
   {
    "duration": 328,
    "start_time": "2022-11-29T13:25:22.226Z"
   },
   {
    "duration": 332,
    "start_time": "2022-11-29T13:25:59.775Z"
   },
   {
    "duration": 18,
    "start_time": "2022-11-29T13:27:29.985Z"
   },
   {
    "duration": 218,
    "start_time": "2022-11-29T13:28:27.543Z"
   },
   {
    "duration": 211,
    "start_time": "2022-11-29T13:28:52.016Z"
   },
   {
    "duration": 219,
    "start_time": "2022-11-29T13:29:20.103Z"
   },
   {
    "duration": 24,
    "start_time": "2022-11-29T13:30:16.919Z"
   },
   {
    "duration": 11,
    "start_time": "2022-11-29T13:32:03.143Z"
   },
   {
    "duration": 15,
    "start_time": "2022-11-29T13:32:12.397Z"
   },
   {
    "duration": 872,
    "start_time": "2022-11-29T13:35:44.511Z"
   },
   {
    "duration": 17,
    "start_time": "2022-11-29T13:37:50.663Z"
   },
   {
    "duration": 13,
    "start_time": "2022-11-29T13:38:12.239Z"
   },
   {
    "duration": 6,
    "start_time": "2022-11-29T13:38:28.055Z"
   },
   {
    "duration": 563,
    "start_time": "2022-11-29T13:38:38.073Z"
   },
   {
    "duration": 14,
    "start_time": "2022-11-29T13:40:46.669Z"
   },
   {
    "duration": 4,
    "start_time": "2022-11-29T13:49:22.756Z"
   },
   {
    "duration": 5,
    "start_time": "2022-11-29T13:49:24.352Z"
   },
   {
    "duration": 5,
    "start_time": "2022-11-29T13:50:36.880Z"
   },
   {
    "duration": 5,
    "start_time": "2022-11-29T13:50:58.803Z"
   },
   {
    "duration": 3,
    "start_time": "2022-11-29T15:27:29.954Z"
   },
   {
    "duration": 70,
    "start_time": "2022-11-29T15:27:30.183Z"
   },
   {
    "duration": 5,
    "start_time": "2022-11-29T15:27:31.094Z"
   },
   {
    "duration": 5,
    "start_time": "2022-11-29T15:27:31.520Z"
   },
   {
    "duration": 4,
    "start_time": "2022-11-29T15:27:31.978Z"
   },
   {
    "duration": 6,
    "start_time": "2022-11-29T15:27:32.397Z"
   },
   {
    "duration": 7,
    "start_time": "2022-11-29T15:27:32.591Z"
   },
   {
    "duration": 8,
    "start_time": "2022-11-29T15:27:32.826Z"
   },
   {
    "duration": 4,
    "start_time": "2022-11-29T15:27:33.253Z"
   },
   {
    "duration": 14,
    "start_time": "2022-11-29T15:27:33.479Z"
   },
   {
    "duration": 22,
    "start_time": "2022-11-29T15:27:33.938Z"
   },
   {
    "duration": 11,
    "start_time": "2022-11-29T15:27:34.198Z"
   },
   {
    "duration": 10,
    "start_time": "2022-11-29T15:27:34.411Z"
   },
   {
    "duration": 14,
    "start_time": "2022-11-29T15:27:34.610Z"
   },
   {
    "duration": 14,
    "start_time": "2022-11-29T15:27:35.308Z"
   },
   {
    "duration": 27,
    "start_time": "2022-11-29T15:27:35.771Z"
   },
   {
    "duration": 12,
    "start_time": "2022-11-29T15:27:36.220Z"
   },
   {
    "duration": 3,
    "start_time": "2022-11-29T15:27:36.663Z"
   },
   {
    "duration": 84,
    "start_time": "2022-11-29T15:27:36.878Z"
   },
   {
    "duration": 5,
    "start_time": "2022-11-29T15:27:37.569Z"
   },
   {
    "duration": 15,
    "start_time": "2022-11-29T15:27:37.795Z"
   },
   {
    "duration": 974,
    "start_time": "2022-11-29T15:27:38.722Z"
   },
   {
    "duration": 14,
    "start_time": "2022-11-29T15:27:39.698Z"
   },
   {
    "duration": 413,
    "start_time": "2022-11-29T15:27:39.714Z"
   },
   {
    "duration": 239,
    "start_time": "2022-11-29T15:27:40.129Z"
   },
   {
    "duration": 329,
    "start_time": "2022-11-29T15:27:40.370Z"
   },
   {
    "duration": 10,
    "start_time": "2022-11-29T15:27:40.700Z"
   },
   {
    "duration": 539,
    "start_time": "2022-11-29T15:27:40.712Z"
   },
   {
    "duration": 24,
    "start_time": "2022-11-29T15:27:41.253Z"
   },
   {
    "duration": 1193,
    "start_time": "2022-11-29T15:27:41.279Z"
   },
   {
    "duration": 33,
    "start_time": "2022-11-29T15:27:42.474Z"
   },
   {
    "duration": 509,
    "start_time": "2022-11-29T15:27:42.509Z"
   },
   {
    "duration": 266,
    "start_time": "2022-11-29T15:27:43.020Z"
   },
   {
    "duration": 16,
    "start_time": "2022-11-29T15:27:43.289Z"
   },
   {
    "duration": 3332,
    "start_time": "2022-11-29T15:27:43.307Z"
   },
   {
    "duration": 21,
    "start_time": "2022-11-29T15:27:46.641Z"
   },
   {
    "duration": 194,
    "start_time": "2022-11-29T15:27:46.664Z"
   },
   {
    "duration": 170,
    "start_time": "2022-11-29T15:27:46.860Z"
   },
   {
    "duration": 21,
    "start_time": "2022-11-29T15:27:47.032Z"
   },
   {
    "duration": 206,
    "start_time": "2022-11-29T15:27:47.056Z"
   },
   {
    "duration": 169,
    "start_time": "2022-11-29T15:27:47.264Z"
   },
   {
    "duration": 265,
    "start_time": "2022-11-29T15:27:47.436Z"
   },
   {
    "duration": 255,
    "start_time": "2022-11-29T15:27:47.702Z"
   },
   {
    "duration": 8,
    "start_time": "2022-11-29T15:27:47.959Z"
   },
   {
    "duration": 416,
    "start_time": "2022-11-29T15:27:47.968Z"
   },
   {
    "duration": 22,
    "start_time": "2022-11-29T15:27:48.386Z"
   },
   {
    "duration": 385,
    "start_time": "2022-11-29T15:27:48.412Z"
   },
   {
    "duration": 397,
    "start_time": "2022-11-29T15:27:48.799Z"
   },
   {
    "duration": 380,
    "start_time": "2022-11-29T15:27:49.198Z"
   },
   {
    "duration": 25,
    "start_time": "2022-11-29T15:27:49.580Z"
   },
   {
    "duration": 228,
    "start_time": "2022-11-29T15:27:49.607Z"
   },
   {
    "duration": 241,
    "start_time": "2022-11-29T15:27:49.838Z"
   },
   {
    "duration": 604,
    "start_time": "2022-11-29T15:27:50.081Z"
   },
   {
    "duration": 20,
    "start_time": "2022-11-29T15:27:50.687Z"
   },
   {
    "duration": 30,
    "start_time": "2022-11-29T15:27:50.710Z"
   },
   {
    "duration": 24,
    "start_time": "2022-11-29T15:27:50.742Z"
   },
   {
    "duration": 20,
    "start_time": "2022-11-29T15:27:50.768Z"
   },
   {
    "duration": 6,
    "start_time": "2022-11-29T15:27:50.872Z"
   },
   {
    "duration": 330,
    "start_time": "2022-11-29T15:46:22.306Z"
   },
   {
    "duration": 551,
    "start_time": "2022-11-29T15:54:25.577Z"
   },
   {
    "duration": 17,
    "start_time": "2022-11-29T15:57:25.180Z"
   },
   {
    "duration": 18,
    "start_time": "2022-11-29T16:36:16.499Z"
   },
   {
    "duration": 220,
    "start_time": "2022-11-29T16:39:36.383Z"
   },
   {
    "duration": 208,
    "start_time": "2022-11-29T16:43:12.167Z"
   },
   {
    "duration": 198,
    "start_time": "2022-11-29T16:47:23.085Z"
   },
   {
    "duration": 249,
    "start_time": "2022-11-29T16:54:11.402Z"
   },
   {
    "duration": 10,
    "start_time": "2022-11-29T17:12:55.195Z"
   },
   {
    "duration": 1032,
    "start_time": "2022-11-29T17:12:56.644Z"
   },
   {
    "duration": 1055,
    "start_time": "2022-11-29T17:14:14.158Z"
   },
   {
    "duration": 1448,
    "start_time": "2022-11-29T17:19:17.514Z"
   },
   {
    "duration": 1866,
    "start_time": "2022-11-29T17:19:33.083Z"
   },
   {
    "duration": 1425,
    "start_time": "2022-11-29T17:19:50.173Z"
   },
   {
    "duration": 3049,
    "start_time": "2022-11-29T17:20:08.010Z"
   },
   {
    "duration": 1465,
    "start_time": "2022-11-29T17:20:30.664Z"
   },
   {
    "duration": 20,
    "start_time": "2022-11-29T18:17:17.247Z"
   },
   {
    "duration": 147,
    "start_time": "2022-11-29T18:17:17.768Z"
   },
   {
    "duration": 223,
    "start_time": "2022-11-29T18:35:52.146Z"
   },
   {
    "duration": 230,
    "start_time": "2022-11-29T18:39:11.997Z"
   },
   {
    "duration": 3,
    "start_time": "2022-11-29T18:58:12.232Z"
   },
   {
    "duration": 19,
    "start_time": "2022-11-29T19:04:47.677Z"
   },
   {
    "duration": 20,
    "start_time": "2022-11-29T19:05:32.851Z"
   },
   {
    "duration": 6,
    "start_time": "2022-11-29T19:06:13.105Z"
   },
   {
    "duration": 6,
    "start_time": "2022-11-29T19:11:11.081Z"
   },
   {
    "duration": 6,
    "start_time": "2022-11-29T19:11:30.180Z"
   },
   {
    "duration": 4,
    "start_time": "2022-11-29T19:12:09.981Z"
   },
   {
    "duration": 11,
    "start_time": "2022-11-29T19:14:38.599Z"
   },
   {
    "duration": 16,
    "start_time": "2022-11-29T19:14:51.350Z"
   },
   {
    "duration": 7,
    "start_time": "2022-11-29T19:15:16.613Z"
   },
   {
    "duration": 7,
    "start_time": "2022-11-29T19:17:25.341Z"
   },
   {
    "duration": 7,
    "start_time": "2022-11-29T19:17:45.758Z"
   },
   {
    "duration": 7,
    "start_time": "2022-11-29T19:18:20.105Z"
   },
   {
    "duration": 6,
    "start_time": "2022-11-29T19:18:49.069Z"
   },
   {
    "duration": 323,
    "start_time": "2022-11-29T19:19:14.607Z"
   },
   {
    "duration": 355,
    "start_time": "2022-11-29T19:19:40.959Z"
   },
   {
    "duration": 348,
    "start_time": "2022-11-29T19:19:51.661Z"
   },
   {
    "duration": 7,
    "start_time": "2022-11-29T19:19:52.184Z"
   },
   {
    "duration": 322,
    "start_time": "2022-11-29T19:19:53.006Z"
   },
   {
    "duration": 328,
    "start_time": "2022-11-29T19:20:36.442Z"
   },
   {
    "duration": 338,
    "start_time": "2022-11-29T19:20:57.382Z"
   },
   {
    "duration": 7,
    "start_time": "2022-11-29T19:21:31.728Z"
   },
   {
    "duration": 358,
    "start_time": "2022-11-29T19:35:39.600Z"
   },
   {
    "duration": 386,
    "start_time": "2022-11-29T19:36:06.538Z"
   },
   {
    "duration": 380,
    "start_time": "2022-11-29T19:36:18.442Z"
   },
   {
    "duration": 351,
    "start_time": "2022-11-29T19:36:49.678Z"
   },
   {
    "duration": 669,
    "start_time": "2022-11-29T19:44:42.144Z"
   },
   {
    "duration": 7,
    "start_time": "2022-11-29T19:44:48.289Z"
   },
   {
    "duration": 7,
    "start_time": "2022-11-29T19:45:28.969Z"
   },
   {
    "duration": 4,
    "start_time": "2022-11-29T19:46:15.357Z"
   },
   {
    "duration": 4,
    "start_time": "2022-11-29T19:52:57.339Z"
   },
   {
    "duration": 5,
    "start_time": "2022-11-29T19:58:18.103Z"
   },
   {
    "duration": 6,
    "start_time": "2022-11-29T20:04:23.589Z"
   },
   {
    "duration": 7,
    "start_time": "2022-11-29T20:04:48.413Z"
   },
   {
    "duration": 6,
    "start_time": "2022-11-29T20:05:00.753Z"
   },
   {
    "duration": 16,
    "start_time": "2022-11-29T20:37:35.518Z"
   },
   {
    "duration": 15,
    "start_time": "2022-11-29T20:37:48.200Z"
   },
   {
    "duration": 16,
    "start_time": "2022-11-29T20:38:08.413Z"
   },
   {
    "duration": 14,
    "start_time": "2022-11-29T20:38:29.249Z"
   },
   {
    "duration": 20,
    "start_time": "2022-11-29T20:41:32.586Z"
   },
   {
    "duration": 16,
    "start_time": "2022-11-29T20:41:57.174Z"
   },
   {
    "duration": 11,
    "start_time": "2022-11-29T20:44:18.742Z"
   },
   {
    "duration": 3,
    "start_time": "2022-11-29T21:57:17.709Z"
   },
   {
    "duration": 68,
    "start_time": "2022-11-29T21:57:18.542Z"
   },
   {
    "duration": 5,
    "start_time": "2022-11-29T21:57:25.683Z"
   },
   {
    "duration": 6,
    "start_time": "2022-11-29T21:57:32.351Z"
   },
   {
    "duration": 5,
    "start_time": "2022-11-29T21:57:36.180Z"
   },
   {
    "duration": 5,
    "start_time": "2022-11-29T21:57:37.596Z"
   },
   {
    "duration": 7,
    "start_time": "2022-11-29T21:57:38.302Z"
   },
   {
    "duration": 8,
    "start_time": "2022-11-29T21:57:39.116Z"
   },
   {
    "duration": 4,
    "start_time": "2022-11-29T21:57:48.035Z"
   },
   {
    "duration": 14,
    "start_time": "2022-11-29T21:57:49.126Z"
   },
   {
    "duration": 14,
    "start_time": "2022-11-29T21:57:50.133Z"
   },
   {
    "duration": 13,
    "start_time": "2022-11-29T21:57:50.875Z"
   },
   {
    "duration": 11,
    "start_time": "2022-11-29T21:57:51.503Z"
   },
   {
    "duration": 12,
    "start_time": "2022-11-29T21:57:52.409Z"
   },
   {
    "duration": 10,
    "start_time": "2022-11-29T21:57:59.526Z"
   },
   {
    "duration": 21,
    "start_time": "2022-11-29T21:58:00.835Z"
   },
   {
    "duration": 11,
    "start_time": "2022-11-29T21:58:05.042Z"
   },
   {
    "duration": 4,
    "start_time": "2022-11-29T21:58:06.307Z"
   },
   {
    "duration": 81,
    "start_time": "2022-11-29T21:58:07.097Z"
   },
   {
    "duration": 6,
    "start_time": "2022-11-29T21:58:12.357Z"
   },
   {
    "duration": 14,
    "start_time": "2022-11-29T21:58:13.191Z"
   },
   {
    "duration": 1278,
    "start_time": "2022-11-29T21:58:20.528Z"
   },
   {
    "duration": 13,
    "start_time": "2022-11-29T21:58:27.153Z"
   },
   {
    "duration": 400,
    "start_time": "2022-11-29T21:58:30.160Z"
   },
   {
    "duration": 319,
    "start_time": "2022-11-29T21:58:45.409Z"
   },
   {
    "duration": 10,
    "start_time": "2022-11-29T21:58:48.725Z"
   },
   {
    "duration": 567,
    "start_time": "2022-11-29T21:59:05.362Z"
   },
   {
    "duration": 16,
    "start_time": "2022-11-29T21:59:09.772Z"
   },
   {
    "duration": 1195,
    "start_time": "2022-11-29T21:59:13.662Z"
   },
   {
    "duration": 20,
    "start_time": "2022-11-29T21:59:18.392Z"
   },
   {
    "duration": 188,
    "start_time": "2022-11-29T21:59:30.611Z"
   },
   {
    "duration": 259,
    "start_time": "2022-11-29T21:59:34.713Z"
   },
   {
    "duration": 11,
    "start_time": "2022-11-29T21:59:44.969Z"
   },
   {
    "duration": 1089,
    "start_time": "2022-11-29T21:59:45.715Z"
   },
   {
    "duration": 19,
    "start_time": "2022-11-29T21:59:58.359Z"
   },
   {
    "duration": 162,
    "start_time": "2022-11-29T22:00:00.725Z"
   },
   {
    "duration": 132,
    "start_time": "2022-11-29T22:00:02.958Z"
   },
   {
    "duration": 19,
    "start_time": "2022-11-29T22:00:11.057Z"
   },
   {
    "duration": 144,
    "start_time": "2022-11-29T22:00:12.044Z"
   },
   {
    "duration": 175,
    "start_time": "2022-11-29T22:00:16.060Z"
   },
   {
    "duration": 225,
    "start_time": "2022-11-29T22:00:28.945Z"
   },
   {
    "duration": 232,
    "start_time": "2022-11-29T22:00:33.742Z"
   },
   {
    "duration": 370,
    "start_time": "2022-11-29T22:00:41.682Z"
   },
   {
    "duration": 17,
    "start_time": "2022-11-29T22:00:49.972Z"
   },
   {
    "duration": 357,
    "start_time": "2022-11-29T22:00:53.607Z"
   },
   {
    "duration": 6,
    "start_time": "2022-11-29T22:00:54.165Z"
   },
   {
    "duration": 5,
    "start_time": "2022-11-29T22:00:55.023Z"
   },
   {
    "duration": 340,
    "start_time": "2022-11-29T22:00:57.027Z"
   },
   {
    "duration": 7,
    "start_time": "2022-11-29T22:00:58.263Z"
   },
   {
    "duration": 5,
    "start_time": "2022-11-29T22:00:59.020Z"
   },
   {
    "duration": 350,
    "start_time": "2022-11-29T22:01:00.942Z"
   },
   {
    "duration": 8,
    "start_time": "2022-11-29T22:01:01.907Z"
   },
   {
    "duration": 5,
    "start_time": "2022-11-29T22:01:03.608Z"
   },
   {
    "duration": 17,
    "start_time": "2022-11-29T22:01:12.244Z"
   },
   {
    "duration": 602,
    "start_time": "2022-11-29T22:01:15.729Z"
   },
   {
    "duration": 6,
    "start_time": "2022-11-29T22:01:19.740Z"
   },
   {
    "duration": 211,
    "start_time": "2022-11-29T22:01:23.685Z"
   },
   {
    "duration": 7,
    "start_time": "2022-11-29T22:01:26.010Z"
   },
   {
    "duration": 204,
    "start_time": "2022-11-29T22:01:29.377Z"
   },
   {
    "duration": 6,
    "start_time": "2022-11-29T22:01:32.195Z"
   },
   {
    "duration": 15,
    "start_time": "2022-11-29T22:01:39.282Z"
   },
   {
    "duration": 11,
    "start_time": "2022-11-29T22:01:40.343Z"
   },
   {
    "duration": 5,
    "start_time": "2022-11-29T22:02:09.643Z"
   },
   {
    "duration": 5,
    "start_time": "2022-11-29T22:02:10.375Z"
   },
   {
    "duration": 6,
    "start_time": "2022-11-29T22:02:17.894Z"
   },
   {
    "duration": 5,
    "start_time": "2022-11-29T22:02:18.608Z"
   },
   {
    "duration": 1084,
    "start_time": "2022-11-30T10:06:19.572Z"
   },
   {
    "duration": 75,
    "start_time": "2022-11-30T10:06:20.658Z"
   },
   {
    "duration": 5,
    "start_time": "2022-11-30T10:06:20.735Z"
   },
   {
    "duration": 8,
    "start_time": "2022-11-30T10:06:20.741Z"
   },
   {
    "duration": 6,
    "start_time": "2022-11-30T10:06:20.751Z"
   },
   {
    "duration": 18,
    "start_time": "2022-11-30T10:06:20.758Z"
   },
   {
    "duration": 7,
    "start_time": "2022-11-30T10:06:20.777Z"
   },
   {
    "duration": 7,
    "start_time": "2022-11-30T10:06:20.786Z"
   },
   {
    "duration": 4,
    "start_time": "2022-11-30T10:06:20.795Z"
   },
   {
    "duration": 15,
    "start_time": "2022-11-30T10:06:20.801Z"
   },
   {
    "duration": 18,
    "start_time": "2022-11-30T10:06:20.817Z"
   },
   {
    "duration": 41,
    "start_time": "2022-11-30T10:06:20.836Z"
   },
   {
    "duration": 10,
    "start_time": "2022-11-30T10:06:20.879Z"
   },
   {
    "duration": 12,
    "start_time": "2022-11-30T10:06:20.891Z"
   },
   {
    "duration": 9,
    "start_time": "2022-11-30T10:06:20.905Z"
   },
   {
    "duration": 23,
    "start_time": "2022-11-30T10:06:20.915Z"
   },
   {
    "duration": 38,
    "start_time": "2022-11-30T10:06:20.939Z"
   },
   {
    "duration": 4,
    "start_time": "2022-11-30T10:06:20.978Z"
   },
   {
    "duration": 83,
    "start_time": "2022-11-30T10:06:20.983Z"
   },
   {
    "duration": 10,
    "start_time": "2022-11-30T10:06:21.068Z"
   },
   {
    "duration": 31,
    "start_time": "2022-11-30T10:06:21.079Z"
   },
   {
    "duration": 15,
    "start_time": "2022-11-30T10:06:21.111Z"
   },
   {
    "duration": 874,
    "start_time": "2022-11-30T10:06:21.128Z"
   },
   {
    "duration": 12,
    "start_time": "2022-11-30T10:06:22.003Z"
   },
   {
    "duration": 349,
    "start_time": "2022-11-30T10:06:22.016Z"
   },
   {
    "duration": 309,
    "start_time": "2022-11-30T10:06:22.367Z"
   },
   {
    "duration": 9,
    "start_time": "2022-11-30T10:06:22.678Z"
   },
   {
    "duration": 542,
    "start_time": "2022-11-30T10:06:22.688Z"
   },
   {
    "duration": 14,
    "start_time": "2022-11-30T10:06:23.232Z"
   },
   {
    "duration": 1773,
    "start_time": "2022-11-30T10:06:23.247Z"
   },
   {
    "duration": 73,
    "start_time": "2022-11-30T10:06:25.022Z"
   },
   {
    "duration": 401,
    "start_time": "2022-11-30T10:06:25.097Z"
   },
   {
    "duration": 357,
    "start_time": "2022-11-30T10:06:25.499Z"
   },
   {
    "duration": 18,
    "start_time": "2022-11-30T10:06:25.858Z"
   },
   {
    "duration": 1122,
    "start_time": "2022-11-30T10:06:25.878Z"
   },
   {
    "duration": 16,
    "start_time": "2022-11-30T10:06:27.002Z"
   },
   {
    "duration": 208,
    "start_time": "2022-11-30T10:06:27.020Z"
   },
   {
    "duration": 124,
    "start_time": "2022-11-30T10:06:27.230Z"
   },
   {
    "duration": 30,
    "start_time": "2022-11-30T10:06:27.355Z"
   },
   {
    "duration": 144,
    "start_time": "2022-11-30T10:06:27.386Z"
   },
   {
    "duration": 144,
    "start_time": "2022-11-30T10:06:27.534Z"
   },
   {
    "duration": 219,
    "start_time": "2022-11-30T10:06:27.680Z"
   },
   {
    "duration": 217,
    "start_time": "2022-11-30T10:06:27.901Z"
   },
   {
    "duration": 499,
    "start_time": "2022-11-30T10:06:28.120Z"
   },
   {
    "duration": 18,
    "start_time": "2022-11-30T10:06:28.621Z"
   },
   {
    "duration": 681,
    "start_time": "2022-11-30T10:06:28.641Z"
   },
   {
    "duration": 6,
    "start_time": "2022-11-30T10:06:29.324Z"
   },
   {
    "duration": 45,
    "start_time": "2022-11-30T10:06:29.332Z"
   },
   {
    "duration": 468,
    "start_time": "2022-11-30T10:06:29.379Z"
   },
   {
    "duration": 7,
    "start_time": "2022-11-30T10:06:29.848Z"
   },
   {
    "duration": 4,
    "start_time": "2022-11-30T10:06:29.876Z"
   },
   {
    "duration": 328,
    "start_time": "2022-11-30T10:06:29.881Z"
   },
   {
    "duration": 6,
    "start_time": "2022-11-30T10:06:30.211Z"
   },
   {
    "duration": 17,
    "start_time": "2022-11-30T10:06:30.219Z"
   },
   {
    "duration": 22,
    "start_time": "2022-11-30T10:06:30.238Z"
   },
   {
    "duration": 207,
    "start_time": "2022-11-30T10:06:30.261Z"
   },
   {
    "duration": 9,
    "start_time": "2022-11-30T10:06:30.470Z"
   },
   {
    "duration": 214,
    "start_time": "2022-11-30T10:06:30.481Z"
   },
   {
    "duration": 6,
    "start_time": "2022-11-30T10:06:30.697Z"
   },
   {
    "duration": 204,
    "start_time": "2022-11-30T10:06:30.704Z"
   },
   {
    "duration": 5,
    "start_time": "2022-11-30T10:06:30.909Z"
   },
   {
    "duration": 35,
    "start_time": "2022-11-30T10:06:30.916Z"
   },
   {
    "duration": 137,
    "start_time": "2022-11-30T10:06:30.953Z"
   },
   {
    "duration": 189,
    "start_time": "2022-11-30T10:06:31.092Z"
   },
   {
    "duration": 43,
    "start_time": "2022-11-30T10:06:31.283Z"
   },
   {
    "duration": 19,
    "start_time": "2022-11-30T10:06:31.328Z"
   },
   {
    "duration": 30,
    "start_time": "2022-11-30T10:06:31.348Z"
   },
   {
    "duration": 1317,
    "start_time": "2022-11-30T18:17:31.155Z"
   },
   {
    "duration": 214,
    "start_time": "2022-11-30T18:17:32.474Z"
   },
   {
    "duration": 6,
    "start_time": "2022-11-30T18:17:43.833Z"
   },
   {
    "duration": 7,
    "start_time": "2022-11-30T18:17:45.583Z"
   },
   {
    "duration": 6,
    "start_time": "2022-11-30T18:17:47.399Z"
   },
   {
    "duration": 6,
    "start_time": "2022-11-30T18:17:49.083Z"
   },
   {
    "duration": 7,
    "start_time": "2022-11-30T18:17:49.646Z"
   },
   {
    "duration": 7,
    "start_time": "2022-11-30T18:17:50.271Z"
   },
   {
    "duration": 5,
    "start_time": "2022-11-30T18:18:12.244Z"
   },
   {
    "duration": 12,
    "start_time": "2022-11-30T18:18:12.877Z"
   },
   {
    "duration": 14,
    "start_time": "2022-11-30T18:18:55.566Z"
   },
   {
    "duration": 26,
    "start_time": "2022-11-30T18:18:58.224Z"
   },
   {
    "duration": 19,
    "start_time": "2022-11-30T18:19:03.547Z"
   },
   {
    "duration": 12,
    "start_time": "2022-11-30T18:19:04.155Z"
   },
   {
    "duration": 12,
    "start_time": "2022-11-30T18:19:04.723Z"
   },
   {
    "duration": 10,
    "start_time": "2022-11-30T18:19:10.657Z"
   },
   {
    "duration": 29,
    "start_time": "2022-11-30T18:19:11.907Z"
   },
   {
    "duration": 11,
    "start_time": "2022-11-30T18:21:37.749Z"
   },
   {
    "duration": 5,
    "start_time": "2022-11-30T18:21:43.095Z"
   },
   {
    "duration": 5,
    "start_time": "2022-11-30T18:21:43.793Z"
   },
   {
    "duration": 4,
    "start_time": "2022-11-30T18:21:44.590Z"
   },
   {
    "duration": 6,
    "start_time": "2022-11-30T18:21:46.047Z"
   },
   {
    "duration": 5,
    "start_time": "2022-11-30T18:21:46.563Z"
   },
   {
    "duration": 4,
    "start_time": "2022-11-30T18:21:47.042Z"
   },
   {
    "duration": 4,
    "start_time": "2022-11-30T18:21:50.246Z"
   },
   {
    "duration": 14,
    "start_time": "2022-11-30T18:21:51.183Z"
   },
   {
    "duration": 14,
    "start_time": "2022-11-30T18:21:53.136Z"
   },
   {
    "duration": 18,
    "start_time": "2022-11-30T18:21:53.467Z"
   },
   {
    "duration": 10,
    "start_time": "2022-11-30T18:21:53.724Z"
   },
   {
    "duration": 19,
    "start_time": "2022-11-30T18:21:53.952Z"
   },
   {
    "duration": 15,
    "start_time": "2022-11-30T18:21:57.848Z"
   },
   {
    "duration": 17,
    "start_time": "2022-11-30T18:22:01.114Z"
   },
   {
    "duration": 3,
    "start_time": "2022-11-30T18:22:28.909Z"
   },
   {
    "duration": 68,
    "start_time": "2022-11-30T18:22:30.295Z"
   },
   {
    "duration": 4,
    "start_time": "2022-11-30T18:22:33.053Z"
   },
   {
    "duration": 9,
    "start_time": "2022-11-30T18:22:34.240Z"
   },
   {
    "duration": 4,
    "start_time": "2022-11-30T18:22:35.224Z"
   },
   {
    "duration": 5,
    "start_time": "2022-11-30T18:22:35.900Z"
   },
   {
    "duration": 7,
    "start_time": "2022-11-30T18:22:36.266Z"
   },
   {
    "duration": 7,
    "start_time": "2022-11-30T18:22:36.639Z"
   },
   {
    "duration": 4,
    "start_time": "2022-11-30T18:22:39.065Z"
   },
   {
    "duration": 14,
    "start_time": "2022-11-30T18:22:39.451Z"
   },
   {
    "duration": 16,
    "start_time": "2022-11-30T18:22:40.114Z"
   },
   {
    "duration": 12,
    "start_time": "2022-11-30T18:22:40.550Z"
   },
   {
    "duration": 11,
    "start_time": "2022-11-30T18:22:41.230Z"
   },
   {
    "duration": 13,
    "start_time": "2022-11-30T18:22:41.633Z"
   },
   {
    "duration": 11,
    "start_time": "2022-11-30T18:22:44.200Z"
   },
   {
    "duration": 16,
    "start_time": "2022-11-30T18:22:48.796Z"
   },
   {
    "duration": 15,
    "start_time": "2022-11-30T18:23:28.969Z"
   },
   {
    "duration": 24,
    "start_time": "2022-11-30T18:24:25.497Z"
   },
   {
    "duration": 23,
    "start_time": "2022-11-30T18:25:20.989Z"
   },
   {
    "duration": 22,
    "start_time": "2022-11-30T18:25:28.415Z"
   },
   {
    "duration": 22,
    "start_time": "2022-11-30T18:25:35.901Z"
   },
   {
    "duration": 23,
    "start_time": "2022-11-30T18:30:11.571Z"
   },
   {
    "duration": 11,
    "start_time": "2022-11-30T18:30:13.484Z"
   },
   {
    "duration": 109,
    "start_time": "2022-11-30T18:30:35.170Z"
   },
   {
    "duration": 5,
    "start_time": "2022-11-30T18:30:40.572Z"
   },
   {
    "duration": 13,
    "start_time": "2022-11-30T18:31:04.246Z"
   },
   {
    "duration": 6,
    "start_time": "2022-11-30T18:32:11.276Z"
   },
   {
    "duration": 7,
    "start_time": "2022-11-30T18:32:37.286Z"
   },
   {
    "duration": 5,
    "start_time": "2022-11-30T19:00:49.918Z"
   },
   {
    "duration": 7,
    "start_time": "2022-11-30T19:00:57.275Z"
   },
   {
    "duration": 7,
    "start_time": "2022-11-30T19:01:05.149Z"
   },
   {
    "duration": 77,
    "start_time": "2022-11-30T19:01:09.576Z"
   },
   {
    "duration": 9,
    "start_time": "2022-11-30T19:01:13.883Z"
   },
   {
    "duration": 5,
    "start_time": "2022-11-30T19:10:14.545Z"
   },
   {
    "duration": 8,
    "start_time": "2022-11-30T19:10:25.488Z"
   },
   {
    "duration": 14,
    "start_time": "2022-11-30T19:11:09.743Z"
   },
   {
    "duration": 13,
    "start_time": "2022-11-30T19:11:10.608Z"
   },
   {
    "duration": 916,
    "start_time": "2022-11-30T19:11:40.820Z"
   },
   {
    "duration": 13,
    "start_time": "2022-11-30T19:12:15.963Z"
   },
   {
    "duration": 361,
    "start_time": "2022-11-30T19:12:27.169Z"
   },
   {
    "duration": 22,
    "start_time": "2022-11-30T19:14:20.446Z"
   },
   {
    "duration": 19,
    "start_time": "2022-11-30T19:14:32.136Z"
   },
   {
    "duration": 316,
    "start_time": "2022-11-30T19:14:41.159Z"
   },
   {
    "duration": 17,
    "start_time": "2022-11-30T19:20:57.599Z"
   },
   {
    "duration": 13,
    "start_time": "2022-11-30T19:25:26.890Z"
   },
   {
    "duration": 8,
    "start_time": "2022-11-30T19:27:12.093Z"
   },
   {
    "duration": 25,
    "start_time": "2022-11-30T19:27:19.634Z"
   },
   {
    "duration": 106,
    "start_time": "2022-11-30T19:27:28.005Z"
   },
   {
    "duration": 14,
    "start_time": "2022-11-30T19:28:50.164Z"
   },
   {
    "duration": 18,
    "start_time": "2022-11-30T19:28:55.149Z"
   },
   {
    "duration": 68,
    "start_time": "2022-11-30T19:33:40.684Z"
   },
   {
    "duration": 4,
    "start_time": "2022-11-30T19:33:41.904Z"
   },
   {
    "duration": 5,
    "start_time": "2022-11-30T19:33:42.532Z"
   },
   {
    "duration": 5,
    "start_time": "2022-11-30T19:33:42.927Z"
   },
   {
    "duration": 5,
    "start_time": "2022-11-30T19:33:43.336Z"
   },
   {
    "duration": 7,
    "start_time": "2022-11-30T19:33:43.555Z"
   },
   {
    "duration": 7,
    "start_time": "2022-11-30T19:33:43.769Z"
   },
   {
    "duration": 3,
    "start_time": "2022-11-30T19:33:44.604Z"
   },
   {
    "duration": 14,
    "start_time": "2022-11-30T19:33:44.831Z"
   },
   {
    "duration": 23,
    "start_time": "2022-11-30T19:33:45.249Z"
   },
   {
    "duration": 12,
    "start_time": "2022-11-30T19:33:45.453Z"
   },
   {
    "duration": 10,
    "start_time": "2022-11-30T19:33:45.636Z"
   },
   {
    "duration": 15,
    "start_time": "2022-11-30T19:33:45.855Z"
   },
   {
    "duration": 8,
    "start_time": "2022-11-30T19:33:46.499Z"
   },
   {
    "duration": 16,
    "start_time": "2022-11-30T19:33:46.688Z"
   },
   {
    "duration": 14,
    "start_time": "2022-11-30T19:33:46.904Z"
   },
   {
    "duration": 22,
    "start_time": "2022-11-30T19:33:47.086Z"
   },
   {
    "duration": 21,
    "start_time": "2022-11-30T19:33:47.545Z"
   },
   {
    "duration": 10,
    "start_time": "2022-11-30T19:33:48.159Z"
   },
   {
    "duration": 6,
    "start_time": "2022-11-30T19:33:48.375Z"
   },
   {
    "duration": 6,
    "start_time": "2022-11-30T19:33:49.040Z"
   },
   {
    "duration": 89,
    "start_time": "2022-11-30T19:33:49.221Z"
   },
   {
    "duration": 5,
    "start_time": "2022-11-30T19:33:51.948Z"
   },
   {
    "duration": 18,
    "start_time": "2022-11-30T19:33:53.239Z"
   },
   {
    "duration": 13,
    "start_time": "2022-11-30T19:33:53.637Z"
   },
   {
    "duration": 949,
    "start_time": "2022-11-30T19:33:55.685Z"
   },
   {
    "duration": 15,
    "start_time": "2022-11-30T19:33:57.859Z"
   },
   {
    "duration": 344,
    "start_time": "2022-11-30T19:33:58.435Z"
   },
   {
    "duration": 358,
    "start_time": "2022-11-30T19:34:02.221Z"
   },
   {
    "duration": 11,
    "start_time": "2022-11-30T19:34:05.271Z"
   },
   {
    "duration": 576,
    "start_time": "2022-11-30T19:34:06.697Z"
   },
   {
    "duration": 27,
    "start_time": "2022-11-30T19:34:20.239Z"
   },
   {
    "duration": 23,
    "start_time": "2022-11-30T19:34:55.961Z"
   },
   {
    "duration": 15,
    "start_time": "2022-11-30T19:35:34.770Z"
   },
   {
    "duration": 8,
    "start_time": "2022-11-30T19:35:41.155Z"
   },
   {
    "duration": 15,
    "start_time": "2022-11-30T19:38:23.932Z"
   },
   {
    "duration": 28,
    "start_time": "2022-11-30T19:38:35.621Z"
   },
   {
    "duration": 23,
    "start_time": "2022-11-30T19:38:46.936Z"
   },
   {
    "duration": 15,
    "start_time": "2022-11-30T19:39:25.273Z"
   },
   {
    "duration": 7,
    "start_time": "2022-11-30T19:43:10.218Z"
   },
   {
    "duration": 66,
    "start_time": "2022-11-30T19:43:23.322Z"
   },
   {
    "duration": 5,
    "start_time": "2022-11-30T19:43:24.482Z"
   },
   {
    "duration": 6,
    "start_time": "2022-11-30T19:43:25.150Z"
   },
   {
    "duration": 5,
    "start_time": "2022-11-30T19:43:25.647Z"
   },
   {
    "duration": 4,
    "start_time": "2022-11-30T19:43:26.087Z"
   },
   {
    "duration": 8,
    "start_time": "2022-11-30T19:43:26.678Z"
   },
   {
    "duration": 8,
    "start_time": "2022-11-30T19:43:26.688Z"
   },
   {
    "duration": 3,
    "start_time": "2022-11-30T19:43:27.459Z"
   },
   {
    "duration": 14,
    "start_time": "2022-11-30T19:43:27.815Z"
   },
   {
    "duration": 14,
    "start_time": "2022-11-30T19:43:28.318Z"
   },
   {
    "duration": 12,
    "start_time": "2022-11-30T19:43:28.540Z"
   },
   {
    "duration": 9,
    "start_time": "2022-11-30T19:43:29.102Z"
   },
   {
    "duration": 13,
    "start_time": "2022-11-30T19:43:29.534Z"
   },
   {
    "duration": 8,
    "start_time": "2022-11-30T19:43:31.351Z"
   },
   {
    "duration": 16,
    "start_time": "2022-11-30T19:43:31.685Z"
   },
   {
    "duration": 23,
    "start_time": "2022-11-30T19:43:31.924Z"
   },
   {
    "duration": 20,
    "start_time": "2022-11-30T19:43:32.170Z"
   },
   {
    "duration": 23,
    "start_time": "2022-11-30T19:43:32.804Z"
   },
   {
    "duration": 11,
    "start_time": "2022-11-30T19:43:35.748Z"
   },
   {
    "duration": 7,
    "start_time": "2022-11-30T19:43:36.245Z"
   },
   {
    "duration": 3,
    "start_time": "2022-11-30T19:43:37.884Z"
   },
   {
    "duration": 89,
    "start_time": "2022-11-30T19:43:38.516Z"
   },
   {
    "duration": 5,
    "start_time": "2022-11-30T19:43:42.183Z"
   },
   {
    "duration": 14,
    "start_time": "2022-11-30T19:43:43.582Z"
   },
   {
    "duration": 16,
    "start_time": "2022-11-30T19:43:44.067Z"
   },
   {
    "duration": 929,
    "start_time": "2022-11-30T19:43:47.729Z"
   },
   {
    "duration": 14,
    "start_time": "2022-11-30T19:43:50.478Z"
   },
   {
    "duration": 362,
    "start_time": "2022-11-30T19:43:51.196Z"
   },
   {
    "duration": 365,
    "start_time": "2022-11-30T19:44:03.995Z"
   },
   {
    "duration": 9,
    "start_time": "2022-11-30T19:44:09.251Z"
   },
   {
    "duration": 8,
    "start_time": "2022-11-30T19:44:18.550Z"
   },
   {
    "duration": 8,
    "start_time": "2022-11-30T19:44:48.642Z"
   },
   {
    "duration": 20,
    "start_time": "2022-11-30T19:45:38.568Z"
   },
   {
    "duration": 37,
    "start_time": "2022-11-30T19:46:58.661Z"
   },
   {
    "duration": 637,
    "start_time": "2022-11-30T19:47:00.503Z"
   },
   {
    "duration": 19,
    "start_time": "2022-11-30T19:47:53.921Z"
   },
   {
    "duration": 1149,
    "start_time": "2022-11-30T19:48:01.377Z"
   },
   {
    "duration": 498,
    "start_time": "2022-11-30T19:48:15.970Z"
   },
   {
    "duration": 16,
    "start_time": "2022-11-30T19:51:12.456Z"
   },
   {
    "duration": 1382,
    "start_time": "2022-11-30T19:51:23.536Z"
   },
   {
    "duration": 11,
    "start_time": "2022-11-30T20:01:16.569Z"
   },
   {
    "duration": 17,
    "start_time": "2022-11-30T20:01:23.097Z"
   },
   {
    "duration": 188,
    "start_time": "2022-11-30T20:01:33.259Z"
   },
   {
    "duration": 8,
    "start_time": "2022-11-30T20:04:18.100Z"
   },
   {
    "duration": 72,
    "start_time": "2022-11-30T20:12:02.740Z"
   },
   {
    "duration": 309,
    "start_time": "2022-11-30T20:13:04.389Z"
   },
   {
    "duration": 332,
    "start_time": "2022-11-30T20:13:11.075Z"
   },
   {
    "duration": 336,
    "start_time": "2022-11-30T20:13:14.957Z"
   },
   {
    "duration": 333,
    "start_time": "2022-11-30T20:13:21.211Z"
   },
   {
    "duration": 348,
    "start_time": "2022-11-30T20:13:23.860Z"
   },
   {
    "duration": 314,
    "start_time": "2022-11-30T20:13:42.799Z"
   },
   {
    "duration": 87,
    "start_time": "2022-11-30T20:18:45.170Z"
   },
   {
    "duration": 26,
    "start_time": "2022-11-30T20:20:09.452Z"
   },
   {
    "duration": 19,
    "start_time": "2022-11-30T20:21:28.464Z"
   },
   {
    "duration": 248,
    "start_time": "2022-11-30T20:21:38.739Z"
   },
   {
    "duration": 35,
    "start_time": "2022-11-30T20:22:26.968Z"
   },
   {
    "duration": 22,
    "start_time": "2022-11-30T20:23:27.774Z"
   },
   {
    "duration": 210,
    "start_time": "2022-11-30T20:23:37.605Z"
   },
   {
    "duration": 19,
    "start_time": "2022-11-30T20:27:44.006Z"
   },
   {
    "duration": 183,
    "start_time": "2022-11-30T20:28:00.304Z"
   },
   {
    "duration": 8,
    "start_time": "2022-11-30T20:28:05.019Z"
   },
   {
    "duration": 597,
    "start_time": "2022-11-30T20:44:00.525Z"
   },
   {
    "duration": 526,
    "start_time": "2022-11-30T20:45:21.542Z"
   },
   {
    "duration": 243,
    "start_time": "2022-11-30T20:58:35.815Z"
   },
   {
    "duration": 38,
    "start_time": "2022-11-30T21:19:22.223Z"
   },
   {
    "duration": 209,
    "start_time": "2022-11-30T21:19:41.471Z"
   },
   {
    "duration": 236,
    "start_time": "2022-11-30T21:23:03.997Z"
   },
   {
    "duration": 2470,
    "start_time": "2022-11-30T21:41:43.356Z"
   },
   {
    "duration": 2556,
    "start_time": "2022-11-30T21:42:30.883Z"
   },
   {
    "duration": 196,
    "start_time": "2022-11-30T21:44:49.539Z"
   },
   {
    "duration": 380,
    "start_time": "2022-11-30T21:44:58.915Z"
   },
   {
    "duration": 423,
    "start_time": "2022-11-30T21:45:27.863Z"
   },
   {
    "duration": 463,
    "start_time": "2022-11-30T21:46:12.248Z"
   },
   {
    "duration": 242,
    "start_time": "2022-11-30T21:46:30.319Z"
   },
   {
    "duration": 253,
    "start_time": "2022-11-30T21:47:08.753Z"
   },
   {
    "duration": 388,
    "start_time": "2022-11-30T21:47:20.920Z"
   },
   {
    "duration": 255,
    "start_time": "2022-11-30T21:47:37.752Z"
   },
   {
    "duration": 264,
    "start_time": "2022-11-30T21:47:57.732Z"
   },
   {
    "duration": 17,
    "start_time": "2022-11-30T21:49:24.727Z"
   },
   {
    "duration": 15,
    "start_time": "2022-11-30T21:50:06.772Z"
   },
   {
    "duration": 240,
    "start_time": "2022-11-30T21:51:12.304Z"
   },
   {
    "duration": 28,
    "start_time": "2022-11-30T22:02:22.886Z"
   },
   {
    "duration": 166,
    "start_time": "2022-11-30T22:03:15.575Z"
   },
   {
    "duration": 35,
    "start_time": "2022-11-30T22:03:36.055Z"
   },
   {
    "duration": 4,
    "start_time": "2022-11-30T22:05:26.401Z"
   },
   {
    "duration": 6,
    "start_time": "2022-11-30T22:05:45.466Z"
   },
   {
    "duration": 31,
    "start_time": "2022-11-30T22:07:21.772Z"
   },
   {
    "duration": 248,
    "start_time": "2022-11-30T22:09:00.042Z"
   },
   {
    "duration": 236,
    "start_time": "2022-11-30T22:09:07.442Z"
   },
   {
    "duration": 251,
    "start_time": "2022-11-30T22:09:19.232Z"
   },
   {
    "duration": 262,
    "start_time": "2022-11-30T22:09:31.353Z"
   },
   {
    "duration": 17,
    "start_time": "2022-11-30T22:32:22.681Z"
   },
   {
    "duration": 136,
    "start_time": "2022-11-30T22:32:26.186Z"
   },
   {
    "duration": 129,
    "start_time": "2022-11-30T22:32:35.236Z"
   },
   {
    "duration": 283,
    "start_time": "2022-11-30T22:32:43.604Z"
   },
   {
    "duration": 18,
    "start_time": "2022-11-30T22:41:38.220Z"
   },
   {
    "duration": 140,
    "start_time": "2022-11-30T22:41:43.791Z"
   },
   {
    "duration": 130,
    "start_time": "2022-11-30T22:41:46.817Z"
   },
   {
    "duration": 216,
    "start_time": "2022-11-30T23:03:49.625Z"
   },
   {
    "duration": 210,
    "start_time": "2022-11-30T23:04:14.243Z"
   },
   {
    "duration": 327,
    "start_time": "2022-11-30T23:05:44.258Z"
   },
   {
    "duration": 262,
    "start_time": "2022-11-30T23:15:28.693Z"
   },
   {
    "duration": 267,
    "start_time": "2022-11-30T23:17:39.327Z"
   },
   {
    "duration": 262,
    "start_time": "2022-11-30T23:18:13.877Z"
   },
   {
    "duration": 34,
    "start_time": "2022-11-30T23:19:38.625Z"
   },
   {
    "duration": 282,
    "start_time": "2022-11-30T23:20:54.392Z"
   },
   {
    "duration": 406,
    "start_time": "2022-11-30T23:21:10.011Z"
   },
   {
    "duration": 271,
    "start_time": "2022-11-30T23:21:24.347Z"
   },
   {
    "duration": 290,
    "start_time": "2022-11-30T23:21:34.315Z"
   },
   {
    "duration": 6,
    "start_time": "2022-11-30T23:29:43.026Z"
   },
   {
    "duration": 5,
    "start_time": "2022-11-30T23:29:56.501Z"
   },
   {
    "duration": 1307,
    "start_time": "2022-12-01T09:53:02.100Z"
   },
   {
    "duration": 146,
    "start_time": "2022-12-01T09:53:03.409Z"
   },
   {
    "duration": 5,
    "start_time": "2022-12-01T09:53:05.934Z"
   },
   {
    "duration": 5,
    "start_time": "2022-12-01T09:53:07.406Z"
   },
   {
    "duration": 5,
    "start_time": "2022-12-01T09:53:08.262Z"
   },
   {
    "duration": 5,
    "start_time": "2022-12-01T09:53:09.172Z"
   },
   {
    "duration": 7,
    "start_time": "2022-12-01T09:53:09.639Z"
   },
   {
    "duration": 7,
    "start_time": "2022-12-01T09:53:10.108Z"
   },
   {
    "duration": 4,
    "start_time": "2022-12-01T09:53:11.971Z"
   },
   {
    "duration": 13,
    "start_time": "2022-12-01T09:53:12.343Z"
   },
   {
    "duration": 16,
    "start_time": "2022-12-01T09:53:13.306Z"
   },
   {
    "duration": 13,
    "start_time": "2022-12-01T09:53:13.759Z"
   },
   {
    "duration": 10,
    "start_time": "2022-12-01T09:53:14.263Z"
   },
   {
    "duration": 18,
    "start_time": "2022-12-01T09:53:14.804Z"
   },
   {
    "duration": 10,
    "start_time": "2022-12-01T09:53:16.122Z"
   },
   {
    "duration": 16,
    "start_time": "2022-12-01T09:53:16.523Z"
   },
   {
    "duration": 15,
    "start_time": "2022-12-01T09:53:16.955Z"
   },
   {
    "duration": 24,
    "start_time": "2022-12-01T09:53:17.377Z"
   },
   {
    "duration": 25,
    "start_time": "2022-12-01T09:53:18.318Z"
   },
   {
    "duration": 10,
    "start_time": "2022-12-01T09:53:21.932Z"
   },
   {
    "duration": 7,
    "start_time": "2022-12-01T09:53:22.750Z"
   },
   {
    "duration": 4,
    "start_time": "2022-12-01T09:53:44.306Z"
   },
   {
    "duration": 92,
    "start_time": "2022-12-01T09:53:44.960Z"
   },
   {
    "duration": 6,
    "start_time": "2022-12-01T09:53:47.533Z"
   },
   {
    "duration": 14,
    "start_time": "2022-12-01T09:53:48.507Z"
   },
   {
    "duration": 13,
    "start_time": "2022-12-01T09:53:48.935Z"
   },
   {
    "duration": 852,
    "start_time": "2022-12-01T09:53:50.919Z"
   },
   {
    "duration": 13,
    "start_time": "2022-12-01T09:53:52.314Z"
   },
   {
    "duration": 340,
    "start_time": "2022-12-01T09:53:53.616Z"
   },
   {
    "duration": 421,
    "start_time": "2022-12-01T09:53:55.369Z"
   },
   {
    "duration": 9,
    "start_time": "2022-12-01T09:53:56.206Z"
   },
   {
    "duration": 17,
    "start_time": "2022-12-01T09:53:57.603Z"
   },
   {
    "duration": 603,
    "start_time": "2022-12-01T09:53:58.052Z"
   },
   {
    "duration": 15,
    "start_time": "2022-12-01T09:54:00.594Z"
   },
   {
    "duration": 1065,
    "start_time": "2022-12-01T09:54:01.069Z"
   },
   {
    "duration": 19,
    "start_time": "2022-12-01T09:54:03.097Z"
   },
   {
    "duration": 221,
    "start_time": "2022-12-01T09:54:05.179Z"
   },
   {
    "duration": 8,
    "start_time": "2022-12-01T09:54:05.772Z"
   },
   {
    "duration": 243,
    "start_time": "2022-12-01T09:54:06.962Z"
   },
   {
    "duration": 213,
    "start_time": "2022-12-01T09:54:10.634Z"
   },
   {
    "duration": 357,
    "start_time": "2022-12-01T09:54:14.369Z"
   },
   {
    "duration": 47,
    "start_time": "2022-12-01T09:54:14.947Z"
   },
   {
    "duration": 15,
    "start_time": "2022-12-01T09:54:22.653Z"
   },
   {
    "duration": 139,
    "start_time": "2022-12-01T09:54:23.307Z"
   },
   {
    "duration": 125,
    "start_time": "2022-12-01T09:54:23.899Z"
   },
   {
    "duration": 17,
    "start_time": "2022-12-01T09:54:26.628Z"
   },
   {
    "duration": 130,
    "start_time": "2022-12-01T09:54:27.508Z"
   },
   {
    "duration": 125,
    "start_time": "2022-12-01T09:54:28.327Z"
   },
   {
    "duration": 225,
    "start_time": "2022-12-01T09:54:38.994Z"
   },
   {
    "duration": 225,
    "start_time": "2022-12-01T09:54:39.920Z"
   },
   {
    "duration": 342,
    "start_time": "2022-12-01T09:54:41.734Z"
   },
   {
    "duration": 270,
    "start_time": "2022-12-01T09:54:44.453Z"
   },
   {
    "duration": 403,
    "start_time": "2022-12-01T09:54:45.065Z"
   },
   {
    "duration": 38,
    "start_time": "2022-12-01T09:54:46.820Z"
   },
   {
    "duration": 5,
    "start_time": "2022-12-01T09:54:47.771Z"
   },
   {
    "duration": 16,
    "start_time": "2022-12-01T09:55:01.772Z"
   },
   {
    "duration": 374,
    "start_time": "2022-12-01T09:55:42.566Z"
   },
   {
    "duration": 6,
    "start_time": "2022-12-01T09:55:59.004Z"
   },
   {
    "duration": 5,
    "start_time": "2022-12-01T09:56:03.504Z"
   },
   {
    "duration": 309,
    "start_time": "2022-12-01T09:56:04.403Z"
   },
   {
    "duration": 7,
    "start_time": "2022-12-01T09:56:05.370Z"
   },
   {
    "duration": 5,
    "start_time": "2022-12-01T09:56:05.960Z"
   },
   {
    "duration": 296,
    "start_time": "2022-12-01T09:56:09.554Z"
   },
   {
    "duration": 7,
    "start_time": "2022-12-01T09:56:12.507Z"
   },
   {
    "duration": 5,
    "start_time": "2022-12-01T09:56:13.022Z"
   },
   {
    "duration": 17,
    "start_time": "2022-12-01T10:05:46.096Z"
   },
   {
    "duration": 16,
    "start_time": "2022-12-01T10:06:04.325Z"
   },
   {
    "duration": 30,
    "start_time": "2022-12-01T10:06:50.553Z"
   },
   {
    "duration": 21,
    "start_time": "2022-12-01T10:07:22.575Z"
   },
   {
    "duration": 16,
    "start_time": "2022-12-01T10:08:16.761Z"
   },
   {
    "duration": 17,
    "start_time": "2022-12-01T10:09:49.810Z"
   },
   {
    "duration": 311,
    "start_time": "2022-12-01T10:19:52.749Z"
   },
   {
    "duration": 290,
    "start_time": "2022-12-01T10:20:16.284Z"
   },
   {
    "duration": 6,
    "start_time": "2022-12-01T10:31:23.103Z"
   },
   {
    "duration": 5,
    "start_time": "2022-12-01T10:37:13.837Z"
   },
   {
    "duration": 3,
    "start_time": "2022-12-01T10:37:26.998Z"
   },
   {
    "duration": 5,
    "start_time": "2022-12-01T10:37:34.372Z"
   },
   {
    "duration": 10,
    "start_time": "2022-12-01T10:38:10.014Z"
   },
   {
    "duration": 15,
    "start_time": "2022-12-01T10:38:19.406Z"
   },
   {
    "duration": 5,
    "start_time": "2022-12-01T10:38:22.604Z"
   },
   {
    "duration": 4,
    "start_time": "2022-12-01T10:38:50.455Z"
   },
   {
    "duration": 5,
    "start_time": "2022-12-01T10:39:31.390Z"
   },
   {
    "duration": 105,
    "start_time": "2022-12-01T10:45:07.006Z"
   },
   {
    "duration": 14,
    "start_time": "2022-12-01T10:46:40.805Z"
   },
   {
    "duration": 15,
    "start_time": "2022-12-01T10:46:54.759Z"
   },
   {
    "duration": 4,
    "start_time": "2022-12-01T10:47:29.573Z"
   },
   {
    "duration": 6,
    "start_time": "2022-12-01T10:47:34.730Z"
   },
   {
    "duration": 3,
    "start_time": "2022-12-01T10:49:53.984Z"
   },
   {
    "duration": 5,
    "start_time": "2022-12-01T10:50:02.871Z"
   },
   {
    "duration": 11,
    "start_time": "2022-12-01T10:55:07.768Z"
   },
   {
    "duration": 15,
    "start_time": "2022-12-01T10:55:13.974Z"
   },
   {
    "duration": 6,
    "start_time": "2022-12-01T10:57:17.655Z"
   },
   {
    "duration": 7,
    "start_time": "2022-12-01T10:57:27.526Z"
   },
   {
    "duration": 9,
    "start_time": "2022-12-01T10:57:34.905Z"
   },
   {
    "duration": 7,
    "start_time": "2022-12-01T10:58:23.557Z"
   },
   {
    "duration": 6,
    "start_time": "2022-12-01T10:58:53.809Z"
   },
   {
    "duration": 66,
    "start_time": "2022-12-01T11:01:03.844Z"
   },
   {
    "duration": 71,
    "start_time": "2022-12-01T11:01:18.327Z"
   },
   {
    "duration": 6,
    "start_time": "2022-12-01T11:02:16.928Z"
   },
   {
    "duration": 16,
    "start_time": "2022-12-01T11:03:51.437Z"
   },
   {
    "duration": 7,
    "start_time": "2022-12-01T11:05:00.411Z"
   },
   {
    "duration": 49,
    "start_time": "2022-12-01T11:05:58.977Z"
   },
   {
    "duration": 104,
    "start_time": "2022-12-01T11:06:18.576Z"
   },
   {
    "duration": 51,
    "start_time": "2022-12-01T11:06:30.913Z"
   },
   {
    "duration": 44,
    "start_time": "2022-12-01T11:06:44.925Z"
   },
   {
    "duration": 48,
    "start_time": "2022-12-01T11:06:53.430Z"
   },
   {
    "duration": 5,
    "start_time": "2022-12-01T11:07:01.360Z"
   },
   {
    "duration": 53,
    "start_time": "2022-12-01T11:07:03.022Z"
   },
   {
    "duration": 43,
    "start_time": "2022-12-01T11:08:09.669Z"
   },
   {
    "duration": 4,
    "start_time": "2022-12-01T11:08:25.101Z"
   },
   {
    "duration": 14,
    "start_time": "2022-12-01T11:08:34.191Z"
   },
   {
    "duration": 5,
    "start_time": "2022-12-01T11:08:59.227Z"
   },
   {
    "duration": 7,
    "start_time": "2022-12-01T11:09:01.630Z"
   },
   {
    "duration": 6,
    "start_time": "2022-12-01T11:09:56.977Z"
   },
   {
    "duration": 7,
    "start_time": "2022-12-01T11:10:43.655Z"
   },
   {
    "duration": 14,
    "start_time": "2022-12-01T11:13:01.361Z"
   },
   {
    "duration": 13,
    "start_time": "2022-12-01T11:13:12.177Z"
   },
   {
    "duration": 5,
    "start_time": "2022-12-01T11:13:42.427Z"
   },
   {
    "duration": 7,
    "start_time": "2022-12-01T11:13:45.213Z"
   },
   {
    "duration": 6,
    "start_time": "2022-12-01T11:14:42.546Z"
   },
   {
    "duration": 13,
    "start_time": "2022-12-01T11:15:28.976Z"
   },
   {
    "duration": 6,
    "start_time": "2022-12-01T11:15:37.745Z"
   },
   {
    "duration": 7,
    "start_time": "2022-12-01T11:15:38.580Z"
   },
   {
    "duration": 309,
    "start_time": "2022-12-01T11:19:51.146Z"
   },
   {
    "duration": 474,
    "start_time": "2022-12-01T11:20:24.011Z"
   },
   {
    "duration": 486,
    "start_time": "2022-12-01T11:22:17.723Z"
   },
   {
    "duration": 368,
    "start_time": "2022-12-01T11:22:31.792Z"
   },
   {
    "duration": 312,
    "start_time": "2022-12-01T11:28:50.890Z"
   },
   {
    "duration": 300,
    "start_time": "2022-12-01T11:30:33.725Z"
   },
   {
    "duration": 70,
    "start_time": "2022-12-01T11:31:01.566Z"
   },
   {
    "duration": 461,
    "start_time": "2022-12-01T11:31:08.545Z"
   },
   {
    "duration": 301,
    "start_time": "2022-12-01T11:37:15.890Z"
   },
   {
    "duration": 596,
    "start_time": "2022-12-01T11:37:56.598Z"
   },
   {
    "duration": 342,
    "start_time": "2022-12-01T11:38:21.725Z"
   },
   {
    "duration": 458,
    "start_time": "2022-12-01T11:39:32.634Z"
   },
   {
    "duration": 383,
    "start_time": "2022-12-01T11:41:05.005Z"
   },
   {
    "duration": 488,
    "start_time": "2022-12-01T11:41:33.501Z"
   },
   {
    "duration": 502,
    "start_time": "2022-12-01T11:42:23.825Z"
   },
   {
    "duration": 477,
    "start_time": "2022-12-01T11:43:16.079Z"
   },
   {
    "duration": 14,
    "start_time": "2022-12-01T11:47:12.296Z"
   },
   {
    "duration": 6,
    "start_time": "2022-12-01T11:47:19.036Z"
   },
   {
    "duration": 6,
    "start_time": "2022-12-01T11:47:19.680Z"
   },
   {
    "duration": 14,
    "start_time": "2022-12-01T11:47:27.526Z"
   },
   {
    "duration": 6,
    "start_time": "2022-12-01T11:47:30.344Z"
   },
   {
    "duration": 6,
    "start_time": "2022-12-01T11:47:31.008Z"
   },
   {
    "duration": 472,
    "start_time": "2022-12-01T11:48:21.410Z"
   },
   {
    "duration": 485,
    "start_time": "2022-12-01T11:48:41.103Z"
   },
   {
    "duration": 600,
    "start_time": "2022-12-01T11:49:04.202Z"
   },
   {
    "duration": 583,
    "start_time": "2022-12-01T11:50:15.035Z"
   },
   {
    "duration": 494,
    "start_time": "2022-12-01T11:51:28.128Z"
   },
   {
    "duration": 427,
    "start_time": "2022-12-01T11:53:17.526Z"
   },
   {
    "duration": 348,
    "start_time": "2022-12-01T11:53:31.302Z"
   },
   {
    "duration": 11,
    "start_time": "2022-12-01T11:54:00.315Z"
   },
   {
    "duration": 390,
    "start_time": "2022-12-01T11:54:10.214Z"
   },
   {
    "duration": 543,
    "start_time": "2022-12-01T11:54:18.253Z"
   },
   {
    "duration": 406,
    "start_time": "2022-12-01T11:54:23.679Z"
   },
   {
    "duration": 395,
    "start_time": "2022-12-01T11:55:56.264Z"
   },
   {
    "duration": 398,
    "start_time": "2022-12-01T11:56:12.530Z"
   },
   {
    "duration": 4,
    "start_time": "2022-12-01T12:01:26.134Z"
   },
   {
    "duration": 7,
    "start_time": "2022-12-01T12:01:28.614Z"
   },
   {
    "duration": 3,
    "start_time": "2022-12-01T12:02:44.290Z"
   },
   {
    "duration": 13,
    "start_time": "2022-12-01T12:03:05.168Z"
   },
   {
    "duration": 3,
    "start_time": "2022-12-01T12:03:28.491Z"
   },
   {
    "duration": 6,
    "start_time": "2022-12-01T12:03:45.765Z"
   },
   {
    "duration": 1144,
    "start_time": "2022-12-01T12:04:58.157Z"
   },
   {
    "duration": 21,
    "start_time": "2022-12-01T12:05:48.345Z"
   },
   {
    "duration": 8,
    "start_time": "2022-12-01T12:05:55.138Z"
   },
   {
    "duration": 997,
    "start_time": "2022-12-01T12:08:12.860Z"
   },
   {
    "duration": 5,
    "start_time": "2022-12-01T12:08:39.450Z"
   },
   {
    "duration": 5,
    "start_time": "2022-12-01T12:09:41.601Z"
   },
   {
    "duration": 4,
    "start_time": "2022-12-01T12:09:44.647Z"
   },
   {
    "duration": 506,
    "start_time": "2022-12-01T12:10:34.647Z"
   },
   {
    "duration": 444,
    "start_time": "2022-12-01T12:24:59.116Z"
   },
   {
    "duration": 15,
    "start_time": "2022-12-01T12:37:44.201Z"
   },
   {
    "duration": 203,
    "start_time": "2022-12-01T12:37:51.613Z"
   },
   {
    "duration": 6,
    "start_time": "2022-12-01T12:37:55.018Z"
   },
   {
    "duration": 185,
    "start_time": "2022-12-01T12:39:18.418Z"
   },
   {
    "duration": 5,
    "start_time": "2022-12-01T12:39:20.984Z"
   },
   {
    "duration": 324,
    "start_time": "2022-12-01T12:40:23.384Z"
   },
   {
    "duration": 5,
    "start_time": "2022-12-01T12:40:35.673Z"
   },
   {
    "duration": 15,
    "start_time": "2022-12-01T12:42:12.681Z"
   },
   {
    "duration": 10,
    "start_time": "2022-12-01T12:42:14.580Z"
   },
   {
    "duration": 6,
    "start_time": "2022-12-01T12:45:59.647Z"
   },
   {
    "duration": 5,
    "start_time": "2022-12-01T12:46:22.721Z"
   },
   {
    "duration": 8,
    "start_time": "2022-12-01T12:46:38.644Z"
   },
   {
    "duration": 5,
    "start_time": "2022-12-01T12:46:39.740Z"
   },
   {
    "duration": 3,
    "start_time": "2022-12-01T13:15:32.810Z"
   },
   {
    "duration": 76,
    "start_time": "2022-12-01T13:15:33.243Z"
   },
   {
    "duration": 5,
    "start_time": "2022-12-01T13:15:34.315Z"
   },
   {
    "duration": 6,
    "start_time": "2022-12-01T13:15:35.250Z"
   },
   {
    "duration": 5,
    "start_time": "2022-12-01T13:15:35.899Z"
   },
   {
    "duration": 5,
    "start_time": "2022-12-01T13:15:36.358Z"
   },
   {
    "duration": 21,
    "start_time": "2022-12-01T13:15:36.563Z"
   },
   {
    "duration": 7,
    "start_time": "2022-12-01T13:15:36.765Z"
   },
   {
    "duration": 3,
    "start_time": "2022-12-01T13:15:37.829Z"
   },
   {
    "duration": 13,
    "start_time": "2022-12-01T13:15:38.050Z"
   },
   {
    "duration": 18,
    "start_time": "2022-12-01T13:15:38.510Z"
   },
   {
    "duration": 17,
    "start_time": "2022-12-01T13:15:38.714Z"
   },
   {
    "duration": 12,
    "start_time": "2022-12-01T13:15:39.004Z"
   },
   {
    "duration": 15,
    "start_time": "2022-12-01T13:15:39.234Z"
   },
   {
    "duration": 9,
    "start_time": "2022-12-01T13:15:39.840Z"
   },
   {
    "duration": 15,
    "start_time": "2022-12-01T13:15:40.035Z"
   },
   {
    "duration": 19,
    "start_time": "2022-12-01T13:15:40.229Z"
   },
   {
    "duration": 21,
    "start_time": "2022-12-01T13:15:40.430Z"
   },
   {
    "duration": 19,
    "start_time": "2022-12-01T13:15:40.840Z"
   },
   {
    "duration": 10,
    "start_time": "2022-12-01T13:15:41.438Z"
   },
   {
    "duration": 7,
    "start_time": "2022-12-01T13:15:41.612Z"
   },
   {
    "duration": 4,
    "start_time": "2022-12-01T13:15:42.234Z"
   },
   {
    "duration": 84,
    "start_time": "2022-12-01T13:15:42.413Z"
   },
   {
    "duration": 5,
    "start_time": "2022-12-01T13:15:43.452Z"
   },
   {
    "duration": 14,
    "start_time": "2022-12-01T13:15:43.896Z"
   },
   {
    "duration": 18,
    "start_time": "2022-12-01T13:15:44.061Z"
   },
   {
    "duration": 969,
    "start_time": "2022-12-01T13:15:44.867Z"
   },
   {
    "duration": 12,
    "start_time": "2022-12-01T13:15:45.838Z"
   },
   {
    "duration": 352,
    "start_time": "2022-12-01T13:15:45.851Z"
   },
   {
    "duration": 337,
    "start_time": "2022-12-01T13:15:46.572Z"
   },
   {
    "duration": 11,
    "start_time": "2022-12-01T13:15:46.984Z"
   },
   {
    "duration": 27,
    "start_time": "2022-12-01T13:15:47.677Z"
   },
   {
    "duration": 657,
    "start_time": "2022-12-01T13:15:47.861Z"
   },
   {
    "duration": 20,
    "start_time": "2022-12-01T13:15:49.040Z"
   },
   {
    "duration": 1137,
    "start_time": "2022-12-01T13:15:49.230Z"
   },
   {
    "duration": 25,
    "start_time": "2022-12-01T13:15:50.368Z"
   },
   {
    "duration": 168,
    "start_time": "2022-12-01T13:15:51.037Z"
   },
   {
    "duration": 7,
    "start_time": "2022-12-01T13:15:51.253Z"
   },
   {
    "duration": 237,
    "start_time": "2022-12-01T13:15:51.758Z"
   },
   {
    "duration": 199,
    "start_time": "2022-12-01T13:15:52.640Z"
   },
   {
    "duration": 250,
    "start_time": "2022-12-01T13:15:54.296Z"
   },
   {
    "duration": 45,
    "start_time": "2022-12-01T13:15:54.548Z"
   },
   {
    "duration": 24,
    "start_time": "2022-12-01T13:15:55.710Z"
   },
   {
    "duration": 292,
    "start_time": "2022-12-01T13:15:55.949Z"
   },
   {
    "duration": 160,
    "start_time": "2022-12-01T13:15:56.243Z"
   },
   {
    "duration": 30,
    "start_time": "2022-12-01T13:15:57.361Z"
   },
   {
    "duration": 147,
    "start_time": "2022-12-01T13:15:57.585Z"
   },
   {
    "duration": 139,
    "start_time": "2022-12-01T13:15:57.831Z"
   },
   {
    "duration": 275,
    "start_time": "2022-12-01T13:15:59.372Z"
   },
   {
    "duration": 257,
    "start_time": "2022-12-01T13:15:59.789Z"
   },
   {
    "duration": 416,
    "start_time": "2022-12-01T13:16:00.202Z"
   },
   {
    "duration": 344,
    "start_time": "2022-12-01T13:16:01.059Z"
   },
   {
    "duration": 362,
    "start_time": "2022-12-01T13:16:01.406Z"
   },
   {
    "duration": 49,
    "start_time": "2022-12-01T13:16:01.771Z"
   },
   {
    "duration": 6,
    "start_time": "2022-12-01T13:16:01.821Z"
   },
   {
    "duration": 15,
    "start_time": "2022-12-01T13:16:02.753Z"
   },
   {
    "duration": 3,
    "start_time": "2022-12-01T13:16:02.929Z"
   },
   {
    "duration": 7,
    "start_time": "2022-12-01T13:16:03.130Z"
   },
   {
    "duration": 5,
    "start_time": "2022-12-01T13:16:03.329Z"
   },
   {
    "duration": 4,
    "start_time": "2022-12-01T13:16:03.530Z"
   },
   {
    "duration": 7,
    "start_time": "2022-12-01T13:16:03.706Z"
   },
   {
    "duration": 4,
    "start_time": "2022-12-01T13:16:03.934Z"
   },
   {
    "duration": 3,
    "start_time": "2022-12-01T13:16:04.146Z"
   },
   {
    "duration": 6,
    "start_time": "2022-12-01T13:16:04.365Z"
   },
   {
    "duration": 4,
    "start_time": "2022-12-01T13:16:04.603Z"
   },
   {
    "duration": 725,
    "start_time": "2022-12-01T13:16:04.804Z"
   },
   {
    "duration": 33,
    "start_time": "2022-12-01T13:16:06.776Z"
   },
   {
    "duration": 232,
    "start_time": "2022-12-01T13:16:06.963Z"
   },
   {
    "duration": 5,
    "start_time": "2022-12-01T13:16:07.204Z"
   },
   {
    "duration": 207,
    "start_time": "2022-12-01T13:16:07.644Z"
   },
   {
    "duration": 6,
    "start_time": "2022-12-01T13:16:07.872Z"
   },
   {
    "duration": 208,
    "start_time": "2022-12-01T13:16:08.300Z"
   },
   {
    "duration": 6,
    "start_time": "2022-12-01T13:16:08.510Z"
   },
   {
    "duration": 15,
    "start_time": "2022-12-01T13:16:09.402Z"
   },
   {
    "duration": 13,
    "start_time": "2022-12-01T13:16:09.602Z"
   },
   {
    "duration": 5,
    "start_time": "2022-12-01T13:16:11.375Z"
   },
   {
    "duration": 5,
    "start_time": "2022-12-01T13:16:12.049Z"
   },
   {
    "duration": 4,
    "start_time": "2022-12-01T13:16:13.523Z"
   },
   {
    "duration": 5,
    "start_time": "2022-12-01T13:16:13.756Z"
   },
   {
    "duration": 1123,
    "start_time": "2022-12-02T08:15:43.844Z"
   },
   {
    "duration": 138,
    "start_time": "2022-12-02T08:15:44.969Z"
   },
   {
    "duration": 6,
    "start_time": "2022-12-02T08:15:45.109Z"
   },
   {
    "duration": 15,
    "start_time": "2022-12-02T08:15:45.117Z"
   },
   {
    "duration": 8,
    "start_time": "2022-12-02T08:15:45.134Z"
   },
   {
    "duration": 9,
    "start_time": "2022-12-02T08:15:45.144Z"
   },
   {
    "duration": 18,
    "start_time": "2022-12-02T08:15:45.155Z"
   },
   {
    "duration": 13,
    "start_time": "2022-12-02T08:15:45.175Z"
   },
   {
    "duration": 85,
    "start_time": "2022-12-02T08:15:45.189Z"
   },
   {
    "duration": 32,
    "start_time": "2022-12-02T08:15:45.277Z"
   },
   {
    "duration": 25,
    "start_time": "2022-12-02T08:15:45.311Z"
   },
   {
    "duration": 23,
    "start_time": "2022-12-02T08:15:45.338Z"
   },
   {
    "duration": 14,
    "start_time": "2022-12-02T08:15:45.362Z"
   },
   {
    "duration": 17,
    "start_time": "2022-12-02T08:15:45.378Z"
   },
   {
    "duration": 45,
    "start_time": "2022-12-02T08:15:45.397Z"
   },
   {
    "duration": 28,
    "start_time": "2022-12-02T08:15:45.444Z"
   },
   {
    "duration": 14,
    "start_time": "2022-12-02T08:15:45.474Z"
   },
   {
    "duration": 100,
    "start_time": "2022-12-02T08:15:45.489Z"
   },
   {
    "duration": 54,
    "start_time": "2022-12-02T08:15:45.590Z"
   },
   {
    "duration": 11,
    "start_time": "2022-12-02T08:15:45.645Z"
   },
   {
    "duration": 15,
    "start_time": "2022-12-02T08:15:45.657Z"
   },
   {
    "duration": 14,
    "start_time": "2022-12-02T08:15:45.674Z"
   },
   {
    "duration": 115,
    "start_time": "2022-12-02T08:15:45.690Z"
   },
   {
    "duration": 5,
    "start_time": "2022-12-02T08:15:45.806Z"
   },
   {
    "duration": 73,
    "start_time": "2022-12-02T08:15:45.813Z"
   },
   {
    "duration": 37,
    "start_time": "2022-12-02T08:15:45.888Z"
   },
   {
    "duration": 1019,
    "start_time": "2022-12-02T08:15:45.927Z"
   },
   {
    "duration": 14,
    "start_time": "2022-12-02T08:15:46.950Z"
   },
   {
    "duration": 396,
    "start_time": "2022-12-02T08:15:46.966Z"
   },
   {
    "duration": 372,
    "start_time": "2022-12-02T08:15:47.363Z"
   },
   {
    "duration": 10,
    "start_time": "2022-12-02T08:15:47.737Z"
   },
   {
    "duration": 32,
    "start_time": "2022-12-02T08:15:47.749Z"
   },
   {
    "duration": 648,
    "start_time": "2022-12-02T08:15:47.783Z"
   },
   {
    "duration": 15,
    "start_time": "2022-12-02T08:15:48.435Z"
   },
   {
    "duration": 1201,
    "start_time": "2022-12-02T08:15:48.452Z"
   },
   {
    "duration": 19,
    "start_time": "2022-12-02T08:15:49.654Z"
   },
   {
    "duration": 202,
    "start_time": "2022-12-02T08:15:49.675Z"
   },
   {
    "duration": 10,
    "start_time": "2022-12-02T08:15:49.879Z"
   },
   {
    "duration": 292,
    "start_time": "2022-12-02T08:15:49.891Z"
   },
   {
    "duration": 231,
    "start_time": "2022-12-02T08:15:50.185Z"
   },
   {
    "duration": 380,
    "start_time": "2022-12-02T08:15:50.417Z"
   },
   {
    "duration": 41,
    "start_time": "2022-12-02T08:15:50.799Z"
   },
   {
    "duration": 16,
    "start_time": "2022-12-02T08:15:50.842Z"
   },
   {
    "duration": 169,
    "start_time": "2022-12-02T08:15:50.860Z"
   },
   {
    "duration": 150,
    "start_time": "2022-12-02T08:15:51.035Z"
   },
   {
    "duration": 20,
    "start_time": "2022-12-02T08:15:51.187Z"
   },
   {
    "duration": 168,
    "start_time": "2022-12-02T08:15:51.208Z"
   },
   {
    "duration": 157,
    "start_time": "2022-12-02T08:15:51.378Z"
   },
   {
    "duration": 244,
    "start_time": "2022-12-02T08:15:51.537Z"
   },
   {
    "duration": 266,
    "start_time": "2022-12-02T08:15:51.782Z"
   },
   {
    "duration": 380,
    "start_time": "2022-12-02T08:15:52.050Z"
   },
   {
    "duration": 390,
    "start_time": "2022-12-02T08:15:52.432Z"
   },
   {
    "duration": 398,
    "start_time": "2022-12-02T08:15:52.824Z"
   },
   {
    "duration": 40,
    "start_time": "2022-12-02T08:15:53.224Z"
   },
   {
    "duration": 4,
    "start_time": "2022-12-02T08:15:53.266Z"
   },
   {
    "duration": 26,
    "start_time": "2022-12-02T08:15:53.272Z"
   },
   {
    "duration": 4,
    "start_time": "2022-12-02T08:15:53.300Z"
   },
   {
    "duration": 16,
    "start_time": "2022-12-02T08:15:53.305Z"
   },
   {
    "duration": 22,
    "start_time": "2022-12-02T08:15:53.336Z"
   },
   {
    "duration": 12,
    "start_time": "2022-12-02T08:15:53.360Z"
   },
   {
    "duration": 19,
    "start_time": "2022-12-02T08:15:53.374Z"
   },
   {
    "duration": 17,
    "start_time": "2022-12-02T08:15:53.395Z"
   },
   {
    "duration": 9,
    "start_time": "2022-12-02T08:15:53.414Z"
   },
   {
    "duration": 10,
    "start_time": "2022-12-02T08:15:53.425Z"
   },
   {
    "duration": 14,
    "start_time": "2022-12-02T08:15:53.436Z"
   },
   {
    "duration": 494,
    "start_time": "2022-12-02T08:15:53.451Z"
   },
   {
    "duration": 16,
    "start_time": "2022-12-02T08:15:53.947Z"
   },
   {
    "duration": 235,
    "start_time": "2022-12-02T08:15:53.965Z"
   },
   {
    "duration": 6,
    "start_time": "2022-12-02T08:15:54.202Z"
   },
   {
    "duration": 217,
    "start_time": "2022-12-02T08:15:54.209Z"
   },
   {
    "duration": 8,
    "start_time": "2022-12-02T08:15:54.428Z"
   },
   {
    "duration": 226,
    "start_time": "2022-12-02T08:15:54.438Z"
   },
   {
    "duration": 5,
    "start_time": "2022-12-02T08:15:54.666Z"
   },
   {
    "duration": 23,
    "start_time": "2022-12-02T08:15:54.673Z"
   },
   {
    "duration": 17,
    "start_time": "2022-12-02T08:15:54.697Z"
   },
   {
    "duration": 11,
    "start_time": "2022-12-02T08:15:54.716Z"
   },
   {
    "duration": 8,
    "start_time": "2022-12-02T08:15:54.735Z"
   },
   {
    "duration": 24,
    "start_time": "2022-12-02T08:15:54.744Z"
   },
   {
    "duration": 11,
    "start_time": "2022-12-02T08:15:54.770Z"
   },
   {
    "duration": 6,
    "start_time": "2022-12-02T08:23:46.418Z"
   },
   {
    "duration": 1232,
    "start_time": "2022-12-02T08:25:37.803Z"
   },
   {
    "duration": 78,
    "start_time": "2022-12-02T08:25:39.037Z"
   },
   {
    "duration": 5,
    "start_time": "2022-12-02T08:25:39.116Z"
   },
   {
    "duration": 10,
    "start_time": "2022-12-02T08:25:39.123Z"
   },
   {
    "duration": 19,
    "start_time": "2022-12-02T08:25:39.136Z"
   },
   {
    "duration": 14,
    "start_time": "2022-12-02T08:25:39.157Z"
   },
   {
    "duration": 14,
    "start_time": "2022-12-02T08:25:39.173Z"
   },
   {
    "duration": 15,
    "start_time": "2022-12-02T08:25:39.189Z"
   },
   {
    "duration": 19,
    "start_time": "2022-12-02T08:25:39.205Z"
   },
   {
    "duration": 25,
    "start_time": "2022-12-02T08:25:39.226Z"
   },
   {
    "duration": 22,
    "start_time": "2022-12-02T08:25:39.253Z"
   },
   {
    "duration": 18,
    "start_time": "2022-12-02T08:25:39.277Z"
   },
   {
    "duration": 31,
    "start_time": "2022-12-02T08:25:39.297Z"
   },
   {
    "duration": 16,
    "start_time": "2022-12-02T08:25:39.332Z"
   },
   {
    "duration": 16,
    "start_time": "2022-12-02T08:25:39.349Z"
   },
   {
    "duration": 18,
    "start_time": "2022-12-02T08:25:39.366Z"
   },
   {
    "duration": 15,
    "start_time": "2022-12-02T08:25:39.386Z"
   },
   {
    "duration": 42,
    "start_time": "2022-12-02T08:25:39.403Z"
   },
   {
    "duration": 23,
    "start_time": "2022-12-02T08:25:39.448Z"
   },
   {
    "duration": 16,
    "start_time": "2022-12-02T08:25:39.473Z"
   },
   {
    "duration": 6,
    "start_time": "2022-12-02T08:25:39.492Z"
   },
   {
    "duration": 37,
    "start_time": "2022-12-02T08:25:39.500Z"
   },
   {
    "duration": 93,
    "start_time": "2022-12-02T08:25:39.539Z"
   },
   {
    "duration": 5,
    "start_time": "2022-12-02T08:25:39.636Z"
   },
   {
    "duration": 32,
    "start_time": "2022-12-02T08:25:39.643Z"
   },
   {
    "duration": 17,
    "start_time": "2022-12-02T08:25:39.677Z"
   },
   {
    "duration": 943,
    "start_time": "2022-12-02T08:25:39.696Z"
   },
   {
    "duration": 13,
    "start_time": "2022-12-02T08:25:40.641Z"
   },
   {
    "duration": 381,
    "start_time": "2022-12-02T08:25:40.655Z"
   },
   {
    "duration": 340,
    "start_time": "2022-12-02T08:25:41.038Z"
   },
   {
    "duration": 9,
    "start_time": "2022-12-02T08:25:41.379Z"
   },
   {
    "duration": 31,
    "start_time": "2022-12-02T08:25:41.390Z"
   },
   {
    "duration": 689,
    "start_time": "2022-12-02T08:25:41.423Z"
   },
   {
    "duration": 23,
    "start_time": "2022-12-02T08:25:42.113Z"
   },
   {
    "duration": 1218,
    "start_time": "2022-12-02T08:25:42.138Z"
   },
   {
    "duration": 31,
    "start_time": "2022-12-02T08:25:43.358Z"
   },
   {
    "duration": 188,
    "start_time": "2022-12-02T08:25:43.391Z"
   },
   {
    "duration": 8,
    "start_time": "2022-12-02T08:25:43.581Z"
   },
   {
    "duration": 268,
    "start_time": "2022-12-02T08:25:43.590Z"
   },
   {
    "duration": 221,
    "start_time": "2022-12-02T08:25:43.860Z"
   },
   {
    "duration": 370,
    "start_time": "2022-12-02T08:25:44.086Z"
   },
   {
    "duration": 31,
    "start_time": "2022-12-02T08:25:44.458Z"
   },
   {
    "duration": 16,
    "start_time": "2022-12-02T08:25:44.491Z"
   },
   {
    "duration": 171,
    "start_time": "2022-12-02T08:25:44.509Z"
   },
   {
    "duration": 155,
    "start_time": "2022-12-02T08:25:44.682Z"
   },
   {
    "duration": 18,
    "start_time": "2022-12-02T08:25:44.839Z"
   },
   {
    "duration": 167,
    "start_time": "2022-12-02T08:25:44.858Z"
   },
   {
    "duration": 151,
    "start_time": "2022-12-02T08:25:45.027Z"
   },
   {
    "duration": 233,
    "start_time": "2022-12-02T08:25:45.180Z"
   },
   {
    "duration": 236,
    "start_time": "2022-12-02T08:25:45.415Z"
   },
   {
    "duration": 376,
    "start_time": "2022-12-02T08:25:45.653Z"
   },
   {
    "duration": 320,
    "start_time": "2022-12-02T08:25:46.030Z"
   },
   {
    "duration": 423,
    "start_time": "2022-12-02T08:25:46.352Z"
   },
   {
    "duration": 36,
    "start_time": "2022-12-02T08:25:46.777Z"
   },
   {
    "duration": 21,
    "start_time": "2022-12-02T08:25:46.815Z"
   },
   {
    "duration": 17,
    "start_time": "2022-12-02T08:25:46.837Z"
   },
   {
    "duration": 7,
    "start_time": "2022-12-02T08:25:46.856Z"
   },
   {
    "duration": 12,
    "start_time": "2022-12-02T08:25:46.864Z"
   },
   {
    "duration": 23,
    "start_time": "2022-12-02T08:25:46.878Z"
   },
   {
    "duration": 7,
    "start_time": "2022-12-02T08:25:46.903Z"
   },
   {
    "duration": 24,
    "start_time": "2022-12-02T08:25:46.912Z"
   },
   {
    "duration": 9,
    "start_time": "2022-12-02T08:25:46.937Z"
   },
   {
    "duration": 9,
    "start_time": "2022-12-02T08:25:46.947Z"
   },
   {
    "duration": 16,
    "start_time": "2022-12-02T08:25:46.958Z"
   },
   {
    "duration": 8,
    "start_time": "2022-12-02T08:25:46.976Z"
   },
   {
    "duration": 483,
    "start_time": "2022-12-02T08:25:46.986Z"
   },
   {
    "duration": 15,
    "start_time": "2022-12-02T08:25:47.471Z"
   },
   {
    "duration": 218,
    "start_time": "2022-12-02T08:25:47.488Z"
   },
   {
    "duration": 6,
    "start_time": "2022-12-02T08:25:47.707Z"
   },
   {
    "duration": 220,
    "start_time": "2022-12-02T08:25:47.715Z"
   },
   {
    "duration": 6,
    "start_time": "2022-12-02T08:25:47.937Z"
   },
   {
    "duration": 209,
    "start_time": "2022-12-02T08:25:47.945Z"
   },
   {
    "duration": 6,
    "start_time": "2022-12-02T08:25:48.156Z"
   },
   {
    "duration": 27,
    "start_time": "2022-12-02T08:25:48.164Z"
   },
   {
    "duration": 17,
    "start_time": "2022-12-02T08:25:48.193Z"
   },
   {
    "duration": 19,
    "start_time": "2022-12-02T08:25:48.212Z"
   },
   {
    "duration": 14,
    "start_time": "2022-12-02T08:25:48.233Z"
   },
   {
    "duration": 18,
    "start_time": "2022-12-02T08:25:48.249Z"
   },
   {
    "duration": 10,
    "start_time": "2022-12-02T08:25:48.269Z"
   },
   {
    "duration": 11,
    "start_time": "2022-12-02T08:25:48.281Z"
   },
   {
    "duration": 55,
    "start_time": "2022-12-02T08:25:48.294Z"
   },
   {
    "duration": 2,
    "start_time": "2022-12-02T08:25:48.352Z"
   },
   {
    "duration": 17,
    "start_time": "2022-12-02T08:25:48.356Z"
   },
   {
    "duration": 8,
    "start_time": "2022-12-02T08:25:48.374Z"
   },
   {
    "duration": 13,
    "start_time": "2022-12-02T08:25:48.384Z"
   },
   {
    "duration": 12,
    "start_time": "2022-12-02T08:25:48.398Z"
   },
   {
    "duration": 7,
    "start_time": "2022-12-02T08:25:48.412Z"
   },
   {
    "duration": 656,
    "start_time": "2022-12-02T08:25:48.435Z"
   },
   {
    "duration": 601,
    "start_time": "2022-12-02T08:25:49.093Z"
   }
  ],
  "kernelspec": {
   "display_name": "Python 3 (ipykernel)",
   "language": "python",
   "name": "python3"
  },
  "language_info": {
   "codemirror_mode": {
    "name": "ipython",
    "version": 3
   },
   "file_extension": ".py",
   "mimetype": "text/x-python",
   "name": "python",
   "nbconvert_exporter": "python",
   "pygments_lexer": "ipython3",
   "version": "3.9.13"
  },
  "toc": {
   "base_numbering": 1,
   "nav_menu": {},
   "number_sections": true,
   "sideBar": true,
   "skip_h1_title": true,
   "title_cell": "Table of Contents",
   "title_sidebar": "Contents",
   "toc_cell": false,
   "toc_position": {
    "height": "668.1px",
    "left": "42px",
    "top": "295.117px",
    "width": "232px"
   },
   "toc_section_display": true,
   "toc_window_display": true
  }
 },
 "nbformat": 4,
 "nbformat_minor": 2
}
