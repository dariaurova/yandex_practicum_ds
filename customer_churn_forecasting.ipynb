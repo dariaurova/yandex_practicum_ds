{
 "cells": [
  {
   "cell_type": "markdown",
   "metadata": {
    "toc": true
   },
   "source": [
    "<h1>Содержание<span class=\"tocSkip\"></span></h1>\n",
    "<div class=\"toc\"><ul class=\"toc-item\"><li><span><a href=\"#Подготовка-данных\" data-toc-modified-id=\"Подготовка-данных-1\"><span class=\"toc-item-num\">1&nbsp;&nbsp;</span>Подготовка данных</a></span><ul class=\"toc-item\"><li><span><a href=\"#Обработка-пропусков\" data-toc-modified-id=\"Обработка-пропусков-1.1\"><span class=\"toc-item-num\">1.1&nbsp;&nbsp;</span>Обработка пропусков</a></span></li><li><span><a href=\"#Разбиваем-данные-на-выборки\" data-toc-modified-id=\"Разбиваем-данные-на-выборки-1.2\"><span class=\"toc-item-num\">1.2&nbsp;&nbsp;</span>Разбиваем данные на выборки</a></span></li><li><span><a href=\"#OHE-кодирование\" data-toc-modified-id=\"OHE-кодирование-1.3\"><span class=\"toc-item-num\">1.3&nbsp;&nbsp;</span>OHE кодирование</a></span></li><li><span><a href=\"#Масштабирование-признаков\" data-toc-modified-id=\"Масштабирование-признаков-1.4\"><span class=\"toc-item-num\">1.4&nbsp;&nbsp;</span>Масштабирование признаков</a></span></li></ul></li><li><span><a href=\"#Исследование-задачи\" data-toc-modified-id=\"Исследование-задачи-2\"><span class=\"toc-item-num\">2&nbsp;&nbsp;</span>Исследование задачи</a></span><ul class=\"toc-item\"><li><span><a href=\"#Дисбаланс-классов\" data-toc-modified-id=\"Дисбаланс-классов-2.1\"><span class=\"toc-item-num\">2.1&nbsp;&nbsp;</span>Дисбаланс классов</a></span></li><li><span><a href=\"#Модель-решающего-дерева\" data-toc-modified-id=\"Модель-решающего-дерева-2.2\"><span class=\"toc-item-num\">2.2&nbsp;&nbsp;</span>Модель решающего дерева</a></span></li><li><span><a href=\"#Модель-случайного-леса\" data-toc-modified-id=\"Модель-случайного-леса-2.3\"><span class=\"toc-item-num\">2.3&nbsp;&nbsp;</span>Модель случайного леса</a></span></li><li><span><a href=\"#Модель-логистической-регрессии\" data-toc-modified-id=\"Модель-логистической-регрессии-2.4\"><span class=\"toc-item-num\">2.4&nbsp;&nbsp;</span>Модель логистической регрессии</a></span></li></ul></li><li><span><a href=\"#Борьба-с-дисбалансом\" data-toc-modified-id=\"Борьба-с-дисбалансом-3\"><span class=\"toc-item-num\">3&nbsp;&nbsp;</span>Борьба с дисбалансом</a></span><ul class=\"toc-item\"><li><span><a href=\"#Взвешивание-классов\" data-toc-modified-id=\"Взвешивание-классов-3.1\"><span class=\"toc-item-num\">3.1&nbsp;&nbsp;</span>Взвешивание классов</a></span><ul class=\"toc-item\"><li><span><a href=\"#Решающее-дерево\" data-toc-modified-id=\"Решающее-дерево-3.1.1\"><span class=\"toc-item-num\">3.1.1&nbsp;&nbsp;</span>Решающее дерево</a></span></li><li><span><a href=\"#Случайный-лес\" data-toc-modified-id=\"Случайный-лес-3.1.2\"><span class=\"toc-item-num\">3.1.2&nbsp;&nbsp;</span>Случайный лес</a></span></li><li><span><a href=\"#Логистическая-регрессия\" data-toc-modified-id=\"Логистическая-регрессия-3.1.3\"><span class=\"toc-item-num\">3.1.3&nbsp;&nbsp;</span>Логистическая регрессия</a></span></li></ul></li><li><span><a href=\"#Увеличение-выборки\" data-toc-modified-id=\"Увеличение-выборки-3.2\"><span class=\"toc-item-num\">3.2&nbsp;&nbsp;</span>Увеличение выборки</a></span><ul class=\"toc-item\"><li><span><a href=\"#Решающее-дерево\" data-toc-modified-id=\"Решающее-дерево-3.2.1\"><span class=\"toc-item-num\">3.2.1&nbsp;&nbsp;</span>Решающее дерево</a></span></li><li><span><a href=\"#Случайный-лес\" data-toc-modified-id=\"Случайный-лес-3.2.2\"><span class=\"toc-item-num\">3.2.2&nbsp;&nbsp;</span>Случайный лес</a></span></li><li><span><a href=\"#Логистическая-регрессия\" data-toc-modified-id=\"Логистическая-регрессия-3.2.3\"><span class=\"toc-item-num\">3.2.3&nbsp;&nbsp;</span>Логистическая регрессия</a></span></li></ul></li><li><span><a href=\"#Уменьшение-выборки\" data-toc-modified-id=\"Уменьшение-выборки-3.3\"><span class=\"toc-item-num\">3.3&nbsp;&nbsp;</span>Уменьшение выборки</a></span><ul class=\"toc-item\"><li><span><a href=\"#Рещающее-дерево\" data-toc-modified-id=\"Рещающее-дерево-3.3.1\"><span class=\"toc-item-num\">3.3.1&nbsp;&nbsp;</span>Рещающее дерево</a></span></li><li><span><a href=\"#Случайный-лес\" data-toc-modified-id=\"Случайный-лес-3.3.2\"><span class=\"toc-item-num\">3.3.2&nbsp;&nbsp;</span>Случайный лес</a></span></li><li><span><a href=\"#Логистичческая-регрессия\" data-toc-modified-id=\"Логистичческая-регрессия-3.3.3\"><span class=\"toc-item-num\">3.3.3&nbsp;&nbsp;</span>Логистичческая регрессия</a></span></li></ul></li></ul></li><li><span><a href=\"#Тестирование-модели\" data-toc-modified-id=\"Тестирование-модели-4\"><span class=\"toc-item-num\">4&nbsp;&nbsp;</span>Тестирование модели</a></span></li><li><span><a href=\"#Общий-вывод\" data-toc-modified-id=\"Общий-вывод-5\"><span class=\"toc-item-num\">5&nbsp;&nbsp;</span>Общий вывод</a></span></li><li><span><a href=\"#Чек-лист-готовности-проекта\" data-toc-modified-id=\"Чек-лист-готовности-проекта-6\"><span class=\"toc-item-num\">6&nbsp;&nbsp;</span>Чек-лист готовности проекта</a></span></li><li><span><a href=\"#Общий-вывод-по-проекту\" data-toc-modified-id=\"Общий-вывод-по-проекту-7\"><span class=\"toc-item-num\">7&nbsp;&nbsp;</span><b>Общий вывод по проекту</b></a></span></li><li><span><a href=\"#Общий-вывод-по-проекту-В2\" data-toc-modified-id=\"Общий-вывод-по-проекту-В2-8\"><span class=\"toc-item-num\">8&nbsp;&nbsp;</span><b>Общий вывод по проекту В2</b></a></span></li><li><span><a href=\"#Общий-вывод-по-проекту-В3\" data-toc-modified-id=\"Общий-вывод-по-проекту-В3-9\"><span class=\"toc-item-num\">9&nbsp;&nbsp;</span><b>Общий вывод по проекту В3</b></a></span></li></ul></div>"
   ]
  },
  {
   "cell_type": "markdown",
   "metadata": {},
   "source": [
    "# Отток клиентов\n",
    "# Задачи\n",
    "На основе данных из банка определить клиент, который может уйти\n",
    "# Описание\n",
    "Из банка стали уходить клиенты. Каждый месяц. Немного, но заметно. Банковские маркетологи посчитали: сохранять текущих клиентов дешевле, чем привлекать новых.\n",
    "Нужно спрогнозировать, уйдёт клиент из банка в ближайшее время или нет. Предоставлены исторические данные о поведении клиентов и расторжении договоров с банком."
   ]
  },
  {
   "cell_type": "markdown",
   "metadata": {},
   "source": [
    "\n",
    "Постройте модель с предельно большим значением *F1*-меры. Чтобы сдать проект успешно, нужно довести метрику до 0.59. Проверьте *F1*-меру на тестовой выборке самостоятельно.\n",
    "\n",
    "Дополнительно измеряйте *AUC-ROC*, сравнивайте её значение с *F1*-мерой.\n",
    "\n",
    "Источник данных: [https://www.kaggle.com/barelydedicated/bank-customer-churn-modeling](https://www.kaggle.com/barelydedicated/bank-customer-churn-modeling)"
   ]
  },
  {
   "cell_type": "markdown",
   "metadata": {},
   "source": [
    "## Подготовка данных"
   ]
  },
  {
   "cell_type": "code",
   "execution_count": 1,
   "metadata": {},
   "outputs": [],
   "source": [
    "import pandas as pd\n",
    "from sklearn.tree import DecisionTreeClassifier\n",
    "from sklearn.preprocessing import StandardScaler\n",
    "from sklearn.ensemble import RandomForestClassifier\n",
    "from sklearn.model_selection import train_test_split\n",
    "from sklearn.metrics import confusion_matrix\n",
    "from sklearn.metrics import f1_score\n",
    "from sklearn.metrics import accuracy_score\n",
    "from sklearn.metrics import roc_curve\n",
    "from sklearn.metrics import roc_auc_score\n",
    "import matplotlib.pyplot as plt\n",
    "from sklearn.linear_model import LogisticRegression\n",
    "from sklearn.utils import shuffle\n",
    "import numpy as np2\n",
    "from sklearn.preprocessing import OneHotEncoder\n",
    "from sklearn.pipeline import Pipeline"
   ]
  },
  {
   "cell_type": "code",
   "execution_count": 2,
   "metadata": {},
   "outputs": [],
   "source": [
    "data = pd.read_csv('/datasets/Churn.csv')"
   ]
  },
  {
   "cell_type": "code",
   "execution_count": 3,
   "metadata": {},
   "outputs": [
    {
     "data": {
      "text/html": [
       "<div>\n",
       "<style scoped>\n",
       "    .dataframe tbody tr th:only-of-type {\n",
       "        vertical-align: middle;\n",
       "    }\n",
       "\n",
       "    .dataframe tbody tr th {\n",
       "        vertical-align: top;\n",
       "    }\n",
       "\n",
       "    .dataframe thead th {\n",
       "        text-align: right;\n",
       "    }\n",
       "</style>\n",
       "<table border=\"1\" class=\"dataframe\">\n",
       "  <thead>\n",
       "    <tr style=\"text-align: right;\">\n",
       "      <th></th>\n",
       "      <th>RowNumber</th>\n",
       "      <th>CustomerId</th>\n",
       "      <th>Surname</th>\n",
       "      <th>CreditScore</th>\n",
       "      <th>Geography</th>\n",
       "      <th>Gender</th>\n",
       "      <th>Age</th>\n",
       "      <th>Tenure</th>\n",
       "      <th>Balance</th>\n",
       "      <th>NumOfProducts</th>\n",
       "      <th>HasCrCard</th>\n",
       "      <th>IsActiveMember</th>\n",
       "      <th>EstimatedSalary</th>\n",
       "      <th>Exited</th>\n",
       "    </tr>\n",
       "  </thead>\n",
       "  <tbody>\n",
       "    <tr>\n",
       "      <th>0</th>\n",
       "      <td>1</td>\n",
       "      <td>15634602</td>\n",
       "      <td>Hargrave</td>\n",
       "      <td>619</td>\n",
       "      <td>France</td>\n",
       "      <td>Female</td>\n",
       "      <td>42</td>\n",
       "      <td>2.0</td>\n",
       "      <td>0.00</td>\n",
       "      <td>1</td>\n",
       "      <td>1</td>\n",
       "      <td>1</td>\n",
       "      <td>101348.88</td>\n",
       "      <td>1</td>\n",
       "    </tr>\n",
       "    <tr>\n",
       "      <th>1</th>\n",
       "      <td>2</td>\n",
       "      <td>15647311</td>\n",
       "      <td>Hill</td>\n",
       "      <td>608</td>\n",
       "      <td>Spain</td>\n",
       "      <td>Female</td>\n",
       "      <td>41</td>\n",
       "      <td>1.0</td>\n",
       "      <td>83807.86</td>\n",
       "      <td>1</td>\n",
       "      <td>0</td>\n",
       "      <td>1</td>\n",
       "      <td>112542.58</td>\n",
       "      <td>0</td>\n",
       "    </tr>\n",
       "    <tr>\n",
       "      <th>2</th>\n",
       "      <td>3</td>\n",
       "      <td>15619304</td>\n",
       "      <td>Onio</td>\n",
       "      <td>502</td>\n",
       "      <td>France</td>\n",
       "      <td>Female</td>\n",
       "      <td>42</td>\n",
       "      <td>8.0</td>\n",
       "      <td>159660.80</td>\n",
       "      <td>3</td>\n",
       "      <td>1</td>\n",
       "      <td>0</td>\n",
       "      <td>113931.57</td>\n",
       "      <td>1</td>\n",
       "    </tr>\n",
       "    <tr>\n",
       "      <th>3</th>\n",
       "      <td>4</td>\n",
       "      <td>15701354</td>\n",
       "      <td>Boni</td>\n",
       "      <td>699</td>\n",
       "      <td>France</td>\n",
       "      <td>Female</td>\n",
       "      <td>39</td>\n",
       "      <td>1.0</td>\n",
       "      <td>0.00</td>\n",
       "      <td>2</td>\n",
       "      <td>0</td>\n",
       "      <td>0</td>\n",
       "      <td>93826.63</td>\n",
       "      <td>0</td>\n",
       "    </tr>\n",
       "    <tr>\n",
       "      <th>4</th>\n",
       "      <td>5</td>\n",
       "      <td>15737888</td>\n",
       "      <td>Mitchell</td>\n",
       "      <td>850</td>\n",
       "      <td>Spain</td>\n",
       "      <td>Female</td>\n",
       "      <td>43</td>\n",
       "      <td>2.0</td>\n",
       "      <td>125510.82</td>\n",
       "      <td>1</td>\n",
       "      <td>1</td>\n",
       "      <td>1</td>\n",
       "      <td>79084.10</td>\n",
       "      <td>0</td>\n",
       "    </tr>\n",
       "    <tr>\n",
       "      <th>5</th>\n",
       "      <td>6</td>\n",
       "      <td>15574012</td>\n",
       "      <td>Chu</td>\n",
       "      <td>645</td>\n",
       "      <td>Spain</td>\n",
       "      <td>Male</td>\n",
       "      <td>44</td>\n",
       "      <td>8.0</td>\n",
       "      <td>113755.78</td>\n",
       "      <td>2</td>\n",
       "      <td>1</td>\n",
       "      <td>0</td>\n",
       "      <td>149756.71</td>\n",
       "      <td>1</td>\n",
       "    </tr>\n",
       "    <tr>\n",
       "      <th>6</th>\n",
       "      <td>7</td>\n",
       "      <td>15592531</td>\n",
       "      <td>Bartlett</td>\n",
       "      <td>822</td>\n",
       "      <td>France</td>\n",
       "      <td>Male</td>\n",
       "      <td>50</td>\n",
       "      <td>7.0</td>\n",
       "      <td>0.00</td>\n",
       "      <td>2</td>\n",
       "      <td>1</td>\n",
       "      <td>1</td>\n",
       "      <td>10062.80</td>\n",
       "      <td>0</td>\n",
       "    </tr>\n",
       "    <tr>\n",
       "      <th>7</th>\n",
       "      <td>8</td>\n",
       "      <td>15656148</td>\n",
       "      <td>Obinna</td>\n",
       "      <td>376</td>\n",
       "      <td>Germany</td>\n",
       "      <td>Female</td>\n",
       "      <td>29</td>\n",
       "      <td>4.0</td>\n",
       "      <td>115046.74</td>\n",
       "      <td>4</td>\n",
       "      <td>1</td>\n",
       "      <td>0</td>\n",
       "      <td>119346.88</td>\n",
       "      <td>1</td>\n",
       "    </tr>\n",
       "    <tr>\n",
       "      <th>8</th>\n",
       "      <td>9</td>\n",
       "      <td>15792365</td>\n",
       "      <td>He</td>\n",
       "      <td>501</td>\n",
       "      <td>France</td>\n",
       "      <td>Male</td>\n",
       "      <td>44</td>\n",
       "      <td>4.0</td>\n",
       "      <td>142051.07</td>\n",
       "      <td>2</td>\n",
       "      <td>0</td>\n",
       "      <td>1</td>\n",
       "      <td>74940.50</td>\n",
       "      <td>0</td>\n",
       "    </tr>\n",
       "    <tr>\n",
       "      <th>9</th>\n",
       "      <td>10</td>\n",
       "      <td>15592389</td>\n",
       "      <td>H?</td>\n",
       "      <td>684</td>\n",
       "      <td>France</td>\n",
       "      <td>Male</td>\n",
       "      <td>27</td>\n",
       "      <td>2.0</td>\n",
       "      <td>134603.88</td>\n",
       "      <td>1</td>\n",
       "      <td>1</td>\n",
       "      <td>1</td>\n",
       "      <td>71725.73</td>\n",
       "      <td>0</td>\n",
       "    </tr>\n",
       "    <tr>\n",
       "      <th>10</th>\n",
       "      <td>11</td>\n",
       "      <td>15767821</td>\n",
       "      <td>Bearce</td>\n",
       "      <td>528</td>\n",
       "      <td>France</td>\n",
       "      <td>Male</td>\n",
       "      <td>31</td>\n",
       "      <td>6.0</td>\n",
       "      <td>102016.72</td>\n",
       "      <td>2</td>\n",
       "      <td>0</td>\n",
       "      <td>0</td>\n",
       "      <td>80181.12</td>\n",
       "      <td>0</td>\n",
       "    </tr>\n",
       "    <tr>\n",
       "      <th>11</th>\n",
       "      <td>12</td>\n",
       "      <td>15737173</td>\n",
       "      <td>Andrews</td>\n",
       "      <td>497</td>\n",
       "      <td>Spain</td>\n",
       "      <td>Male</td>\n",
       "      <td>24</td>\n",
       "      <td>3.0</td>\n",
       "      <td>0.00</td>\n",
       "      <td>2</td>\n",
       "      <td>1</td>\n",
       "      <td>0</td>\n",
       "      <td>76390.01</td>\n",
       "      <td>0</td>\n",
       "    </tr>\n",
       "    <tr>\n",
       "      <th>12</th>\n",
       "      <td>13</td>\n",
       "      <td>15632264</td>\n",
       "      <td>Kay</td>\n",
       "      <td>476</td>\n",
       "      <td>France</td>\n",
       "      <td>Female</td>\n",
       "      <td>34</td>\n",
       "      <td>10.0</td>\n",
       "      <td>0.00</td>\n",
       "      <td>2</td>\n",
       "      <td>1</td>\n",
       "      <td>0</td>\n",
       "      <td>26260.98</td>\n",
       "      <td>0</td>\n",
       "    </tr>\n",
       "    <tr>\n",
       "      <th>13</th>\n",
       "      <td>14</td>\n",
       "      <td>15691483</td>\n",
       "      <td>Chin</td>\n",
       "      <td>549</td>\n",
       "      <td>France</td>\n",
       "      <td>Female</td>\n",
       "      <td>25</td>\n",
       "      <td>5.0</td>\n",
       "      <td>0.00</td>\n",
       "      <td>2</td>\n",
       "      <td>0</td>\n",
       "      <td>0</td>\n",
       "      <td>190857.79</td>\n",
       "      <td>0</td>\n",
       "    </tr>\n",
       "    <tr>\n",
       "      <th>14</th>\n",
       "      <td>15</td>\n",
       "      <td>15600882</td>\n",
       "      <td>Scott</td>\n",
       "      <td>635</td>\n",
       "      <td>Spain</td>\n",
       "      <td>Female</td>\n",
       "      <td>35</td>\n",
       "      <td>7.0</td>\n",
       "      <td>0.00</td>\n",
       "      <td>2</td>\n",
       "      <td>1</td>\n",
       "      <td>1</td>\n",
       "      <td>65951.65</td>\n",
       "      <td>0</td>\n",
       "    </tr>\n",
       "  </tbody>\n",
       "</table>\n",
       "</div>"
      ],
      "text/plain": [
       "    RowNumber  CustomerId   Surname  CreditScore Geography  Gender  Age  \\\n",
       "0           1    15634602  Hargrave          619    France  Female   42   \n",
       "1           2    15647311      Hill          608     Spain  Female   41   \n",
       "2           3    15619304      Onio          502    France  Female   42   \n",
       "3           4    15701354      Boni          699    France  Female   39   \n",
       "4           5    15737888  Mitchell          850     Spain  Female   43   \n",
       "5           6    15574012       Chu          645     Spain    Male   44   \n",
       "6           7    15592531  Bartlett          822    France    Male   50   \n",
       "7           8    15656148    Obinna          376   Germany  Female   29   \n",
       "8           9    15792365        He          501    France    Male   44   \n",
       "9          10    15592389        H?          684    France    Male   27   \n",
       "10         11    15767821    Bearce          528    France    Male   31   \n",
       "11         12    15737173   Andrews          497     Spain    Male   24   \n",
       "12         13    15632264       Kay          476    France  Female   34   \n",
       "13         14    15691483      Chin          549    France  Female   25   \n",
       "14         15    15600882     Scott          635     Spain  Female   35   \n",
       "\n",
       "    Tenure    Balance  NumOfProducts  HasCrCard  IsActiveMember  \\\n",
       "0      2.0       0.00              1          1               1   \n",
       "1      1.0   83807.86              1          0               1   \n",
       "2      8.0  159660.80              3          1               0   \n",
       "3      1.0       0.00              2          0               0   \n",
       "4      2.0  125510.82              1          1               1   \n",
       "5      8.0  113755.78              2          1               0   \n",
       "6      7.0       0.00              2          1               1   \n",
       "7      4.0  115046.74              4          1               0   \n",
       "8      4.0  142051.07              2          0               1   \n",
       "9      2.0  134603.88              1          1               1   \n",
       "10     6.0  102016.72              2          0               0   \n",
       "11     3.0       0.00              2          1               0   \n",
       "12    10.0       0.00              2          1               0   \n",
       "13     5.0       0.00              2          0               0   \n",
       "14     7.0       0.00              2          1               1   \n",
       "\n",
       "    EstimatedSalary  Exited  \n",
       "0         101348.88       1  \n",
       "1         112542.58       0  \n",
       "2         113931.57       1  \n",
       "3          93826.63       0  \n",
       "4          79084.10       0  \n",
       "5         149756.71       1  \n",
       "6          10062.80       0  \n",
       "7         119346.88       1  \n",
       "8          74940.50       0  \n",
       "9          71725.73       0  \n",
       "10         80181.12       0  \n",
       "11         76390.01       0  \n",
       "12         26260.98       0  \n",
       "13        190857.79       0  \n",
       "14         65951.65       0  "
      ]
     },
     "execution_count": 3,
     "metadata": {},
     "output_type": "execute_result"
    }
   ],
   "source": [
    "data.head(15)"
   ]
  },
  {
   "cell_type": "code",
   "execution_count": 4,
   "metadata": {},
   "outputs": [
    {
     "name": "stdout",
     "output_type": "stream",
     "text": [
      "<class 'pandas.core.frame.DataFrame'>\n",
      "RangeIndex: 10000 entries, 0 to 9999\n",
      "Data columns (total 14 columns):\n",
      " #   Column           Non-Null Count  Dtype  \n",
      "---  ------           --------------  -----  \n",
      " 0   RowNumber        10000 non-null  int64  \n",
      " 1   CustomerId       10000 non-null  int64  \n",
      " 2   Surname          10000 non-null  object \n",
      " 3   CreditScore      10000 non-null  int64  \n",
      " 4   Geography        10000 non-null  object \n",
      " 5   Gender           10000 non-null  object \n",
      " 6   Age              10000 non-null  int64  \n",
      " 7   Tenure           9091 non-null   float64\n",
      " 8   Balance          10000 non-null  float64\n",
      " 9   NumOfProducts    10000 non-null  int64  \n",
      " 10  HasCrCard        10000 non-null  int64  \n",
      " 11  IsActiveMember   10000 non-null  int64  \n",
      " 12  EstimatedSalary  10000 non-null  float64\n",
      " 13  Exited           10000 non-null  int64  \n",
      "dtypes: float64(3), int64(8), object(3)\n",
      "memory usage: 1.1+ MB\n"
     ]
    }
   ],
   "source": [
    "data.info()"
   ]
  },
  {
   "cell_type": "code",
   "execution_count": 5,
   "metadata": {},
   "outputs": [],
   "source": [
    "data_preprocessed = data.drop(['RowNumber', 'Surname', 'CustomerId'], axis=1) "
   ]
  },
  {
   "cell_type": "markdown",
   "metadata": {},
   "source": [
    "### Обработка пропусков\n",
    "Заполним пропуски в столбце Tenure"
   ]
  },
  {
   "cell_type": "code",
   "execution_count": 6,
   "metadata": {},
   "outputs": [
    {
     "data": {
      "text/html": [
       "<div>\n",
       "<style scoped>\n",
       "    .dataframe tbody tr th:only-of-type {\n",
       "        vertical-align: middle;\n",
       "    }\n",
       "\n",
       "    .dataframe tbody tr th {\n",
       "        vertical-align: top;\n",
       "    }\n",
       "\n",
       "    .dataframe thead th {\n",
       "        text-align: right;\n",
       "    }\n",
       "</style>\n",
       "<table border=\"1\" class=\"dataframe\">\n",
       "  <thead>\n",
       "    <tr style=\"text-align: right;\">\n",
       "      <th></th>\n",
       "      <th>CreditScore</th>\n",
       "      <th>Geography</th>\n",
       "      <th>Gender</th>\n",
       "      <th>Age</th>\n",
       "      <th>Tenure</th>\n",
       "      <th>Balance</th>\n",
       "      <th>NumOfProducts</th>\n",
       "      <th>HasCrCard</th>\n",
       "      <th>IsActiveMember</th>\n",
       "      <th>EstimatedSalary</th>\n",
       "      <th>Exited</th>\n",
       "    </tr>\n",
       "  </thead>\n",
       "  <tbody>\n",
       "    <tr>\n",
       "      <th>30</th>\n",
       "      <td>591</td>\n",
       "      <td>Spain</td>\n",
       "      <td>Female</td>\n",
       "      <td>39</td>\n",
       "      <td>NaN</td>\n",
       "      <td>0.00</td>\n",
       "      <td>3</td>\n",
       "      <td>1</td>\n",
       "      <td>0</td>\n",
       "      <td>140469.38</td>\n",
       "      <td>1</td>\n",
       "    </tr>\n",
       "    <tr>\n",
       "      <th>48</th>\n",
       "      <td>550</td>\n",
       "      <td>Germany</td>\n",
       "      <td>Male</td>\n",
       "      <td>38</td>\n",
       "      <td>NaN</td>\n",
       "      <td>103391.38</td>\n",
       "      <td>1</td>\n",
       "      <td>0</td>\n",
       "      <td>1</td>\n",
       "      <td>90878.13</td>\n",
       "      <td>0</td>\n",
       "    </tr>\n",
       "    <tr>\n",
       "      <th>51</th>\n",
       "      <td>585</td>\n",
       "      <td>Germany</td>\n",
       "      <td>Male</td>\n",
       "      <td>36</td>\n",
       "      <td>NaN</td>\n",
       "      <td>146050.97</td>\n",
       "      <td>2</td>\n",
       "      <td>0</td>\n",
       "      <td>0</td>\n",
       "      <td>86424.57</td>\n",
       "      <td>0</td>\n",
       "    </tr>\n",
       "    <tr>\n",
       "      <th>53</th>\n",
       "      <td>655</td>\n",
       "      <td>Germany</td>\n",
       "      <td>Male</td>\n",
       "      <td>41</td>\n",
       "      <td>NaN</td>\n",
       "      <td>125561.97</td>\n",
       "      <td>1</td>\n",
       "      <td>0</td>\n",
       "      <td>0</td>\n",
       "      <td>164040.94</td>\n",
       "      <td>1</td>\n",
       "    </tr>\n",
       "    <tr>\n",
       "      <th>60</th>\n",
       "      <td>742</td>\n",
       "      <td>Germany</td>\n",
       "      <td>Male</td>\n",
       "      <td>35</td>\n",
       "      <td>NaN</td>\n",
       "      <td>136857.00</td>\n",
       "      <td>1</td>\n",
       "      <td>0</td>\n",
       "      <td>0</td>\n",
       "      <td>84509.57</td>\n",
       "      <td>0</td>\n",
       "    </tr>\n",
       "    <tr>\n",
       "      <th>...</th>\n",
       "      <td>...</td>\n",
       "      <td>...</td>\n",
       "      <td>...</td>\n",
       "      <td>...</td>\n",
       "      <td>...</td>\n",
       "      <td>...</td>\n",
       "      <td>...</td>\n",
       "      <td>...</td>\n",
       "      <td>...</td>\n",
       "      <td>...</td>\n",
       "      <td>...</td>\n",
       "    </tr>\n",
       "    <tr>\n",
       "      <th>9944</th>\n",
       "      <td>744</td>\n",
       "      <td>Germany</td>\n",
       "      <td>Male</td>\n",
       "      <td>41</td>\n",
       "      <td>NaN</td>\n",
       "      <td>190409.34</td>\n",
       "      <td>2</td>\n",
       "      <td>1</td>\n",
       "      <td>1</td>\n",
       "      <td>138361.48</td>\n",
       "      <td>0</td>\n",
       "    </tr>\n",
       "    <tr>\n",
       "      <th>9956</th>\n",
       "      <td>520</td>\n",
       "      <td>France</td>\n",
       "      <td>Female</td>\n",
       "      <td>46</td>\n",
       "      <td>NaN</td>\n",
       "      <td>85216.61</td>\n",
       "      <td>1</td>\n",
       "      <td>1</td>\n",
       "      <td>0</td>\n",
       "      <td>117369.52</td>\n",
       "      <td>1</td>\n",
       "    </tr>\n",
       "    <tr>\n",
       "      <th>9964</th>\n",
       "      <td>479</td>\n",
       "      <td>France</td>\n",
       "      <td>Male</td>\n",
       "      <td>34</td>\n",
       "      <td>NaN</td>\n",
       "      <td>117593.48</td>\n",
       "      <td>2</td>\n",
       "      <td>0</td>\n",
       "      <td>0</td>\n",
       "      <td>113308.29</td>\n",
       "      <td>0</td>\n",
       "    </tr>\n",
       "    <tr>\n",
       "      <th>9985</th>\n",
       "      <td>659</td>\n",
       "      <td>France</td>\n",
       "      <td>Male</td>\n",
       "      <td>36</td>\n",
       "      <td>NaN</td>\n",
       "      <td>123841.49</td>\n",
       "      <td>2</td>\n",
       "      <td>1</td>\n",
       "      <td>0</td>\n",
       "      <td>96833.00</td>\n",
       "      <td>0</td>\n",
       "    </tr>\n",
       "    <tr>\n",
       "      <th>9999</th>\n",
       "      <td>792</td>\n",
       "      <td>France</td>\n",
       "      <td>Female</td>\n",
       "      <td>28</td>\n",
       "      <td>NaN</td>\n",
       "      <td>130142.79</td>\n",
       "      <td>1</td>\n",
       "      <td>1</td>\n",
       "      <td>0</td>\n",
       "      <td>38190.78</td>\n",
       "      <td>0</td>\n",
       "    </tr>\n",
       "  </tbody>\n",
       "</table>\n",
       "<p>909 rows × 11 columns</p>\n",
       "</div>"
      ],
      "text/plain": [
       "      CreditScore Geography  Gender  Age  Tenure    Balance  NumOfProducts  \\\n",
       "30            591     Spain  Female   39     NaN       0.00              3   \n",
       "48            550   Germany    Male   38     NaN  103391.38              1   \n",
       "51            585   Germany    Male   36     NaN  146050.97              2   \n",
       "53            655   Germany    Male   41     NaN  125561.97              1   \n",
       "60            742   Germany    Male   35     NaN  136857.00              1   \n",
       "...           ...       ...     ...  ...     ...        ...            ...   \n",
       "9944          744   Germany    Male   41     NaN  190409.34              2   \n",
       "9956          520    France  Female   46     NaN   85216.61              1   \n",
       "9964          479    France    Male   34     NaN  117593.48              2   \n",
       "9985          659    France    Male   36     NaN  123841.49              2   \n",
       "9999          792    France  Female   28     NaN  130142.79              1   \n",
       "\n",
       "      HasCrCard  IsActiveMember  EstimatedSalary  Exited  \n",
       "30            1               0        140469.38       1  \n",
       "48            0               1         90878.13       0  \n",
       "51            0               0         86424.57       0  \n",
       "53            0               0        164040.94       1  \n",
       "60            0               0         84509.57       0  \n",
       "...         ...             ...              ...     ...  \n",
       "9944          1               1        138361.48       0  \n",
       "9956          1               0        117369.52       1  \n",
       "9964          0               0        113308.29       0  \n",
       "9985          1               0         96833.00       0  \n",
       "9999          1               0         38190.78       0  \n",
       "\n",
       "[909 rows x 11 columns]"
      ]
     },
     "execution_count": 6,
     "metadata": {},
     "output_type": "execute_result"
    }
   ],
   "source": [
    "data_preprocessed.query('Tenure.isna()')"
   ]
  },
  {
   "cell_type": "code",
   "execution_count": 7,
   "metadata": {},
   "outputs": [
    {
     "data": {
      "text/plain": [
       "1.0     952\n",
       "2.0     950\n",
       "8.0     933\n",
       "3.0     928\n",
       "5.0     927\n",
       "7.0     925\n",
       "4.0     885\n",
       "9.0     882\n",
       "6.0     881\n",
       "10.0    446\n",
       "0.0     382\n",
       "Name: Tenure, dtype: int64"
      ]
     },
     "execution_count": 7,
     "metadata": {},
     "output_type": "execute_result"
    }
   ],
   "source": [
    "data_preprocessed['Tenure'].value_counts()"
   ]
  },
  {
   "cell_type": "markdown",
   "metadata": {},
   "source": [
    "Возможно пропуски в этом столбце были вызваны тем, что пользователи были клиентами банка меньше года, но если заполним пропуски нулями, можем исказить данные, поэтому заполним данные медианным значением"
   ]
  },
  {
   "cell_type": "code",
   "execution_count": 8,
   "metadata": {},
   "outputs": [
    {
     "name": "stdout",
     "output_type": "stream",
     "text": [
      "<class 'pandas.core.frame.DataFrame'>\n",
      "RangeIndex: 10000 entries, 0 to 9999\n",
      "Data columns (total 11 columns):\n",
      " #   Column           Non-Null Count  Dtype  \n",
      "---  ------           --------------  -----  \n",
      " 0   CreditScore      10000 non-null  int64  \n",
      " 1   Geography        10000 non-null  object \n",
      " 2   Gender           10000 non-null  object \n",
      " 3   Age              10000 non-null  int64  \n",
      " 4   Tenure           10000 non-null  float64\n",
      " 5   Balance          10000 non-null  float64\n",
      " 6   NumOfProducts    10000 non-null  int64  \n",
      " 7   HasCrCard        10000 non-null  int64  \n",
      " 8   IsActiveMember   10000 non-null  int64  \n",
      " 9   EstimatedSalary  10000 non-null  float64\n",
      " 10  Exited           10000 non-null  int64  \n",
      "dtypes: float64(3), int64(6), object(2)\n",
      "memory usage: 859.5+ KB\n"
     ]
    }
   ],
   "source": [
    "data_preprocessed['Tenure'] = data_preprocessed['Tenure'].fillna(data_preprocessed['Tenure'].median())\n",
    "data_preprocessed.info()"
   ]
  },
  {
   "cell_type": "markdown",
   "metadata": {},
   "source": [
    "### Разбиваем данные на выборки\n",
    "Разбиваем данные на три выборки: обучающую, валидационную и тестовые (3:1:1)"
   ]
  },
  {
   "cell_type": "code",
   "execution_count": 23,
   "metadata": {},
   "outputs": [],
   "source": [
    "target = data_preprocessed['Exited']\n",
    "features = data_preprocessed.drop('Exited', axis=1)\n",
    "features_train, features_valid_test, target_train, target_valid_test = train_test_split(features, target, test_size=0.4, \\\n",
    "                                                                            random_state=12345)\n",
    "features_valid, features_test, target_valid, target_test = train_test_split(features_valid_test, target_valid_test, test_size=0.5, \\\n",
    "                                                                            random_state=12345)\n"
   ]
  },
  {
   "cell_type": "markdown",
   "metadata": {},
   "source": [
    "### OHE кодирование\n",
    "Для того, чтобы преобразовать категориальные признаки в численные исполльзуем технику\n",
    "прямого кодирования One-Hot Encoding"
   ]
  },
  {
   "cell_type": "code",
   "execution_count": 18,
   "metadata": {},
   "outputs": [
    {
     "data": {
      "text/html": [
       "<div>\n",
       "<style scoped>\n",
       "    .dataframe tbody tr th:only-of-type {\n",
       "        vertical-align: middle;\n",
       "    }\n",
       "\n",
       "    .dataframe tbody tr th {\n",
       "        vertical-align: top;\n",
       "    }\n",
       "\n",
       "    .dataframe thead th {\n",
       "        text-align: right;\n",
       "    }\n",
       "</style>\n",
       "<table border=\"1\" class=\"dataframe\">\n",
       "  <thead>\n",
       "    <tr style=\"text-align: right;\">\n",
       "      <th></th>\n",
       "      <th>Geography</th>\n",
       "      <th>Gender</th>\n",
       "    </tr>\n",
       "  </thead>\n",
       "  <tbody>\n",
       "    <tr>\n",
       "      <th>7479</th>\n",
       "      <td>Spain</td>\n",
       "      <td>Male</td>\n",
       "    </tr>\n",
       "    <tr>\n",
       "      <th>3411</th>\n",
       "      <td>France</td>\n",
       "      <td>Female</td>\n",
       "    </tr>\n",
       "    <tr>\n",
       "      <th>6027</th>\n",
       "      <td>Germany</td>\n",
       "      <td>Male</td>\n",
       "    </tr>\n",
       "    <tr>\n",
       "      <th>1247</th>\n",
       "      <td>France</td>\n",
       "      <td>Male</td>\n",
       "    </tr>\n",
       "    <tr>\n",
       "      <th>3716</th>\n",
       "      <td>Germany</td>\n",
       "      <td>Female</td>\n",
       "    </tr>\n",
       "    <tr>\n",
       "      <th>...</th>\n",
       "      <td>...</td>\n",
       "      <td>...</td>\n",
       "    </tr>\n",
       "    <tr>\n",
       "      <th>4478</th>\n",
       "      <td>France</td>\n",
       "      <td>Male</td>\n",
       "    </tr>\n",
       "    <tr>\n",
       "      <th>4094</th>\n",
       "      <td>France</td>\n",
       "      <td>Male</td>\n",
       "    </tr>\n",
       "    <tr>\n",
       "      <th>3492</th>\n",
       "      <td>France</td>\n",
       "      <td>Female</td>\n",
       "    </tr>\n",
       "    <tr>\n",
       "      <th>2177</th>\n",
       "      <td>France</td>\n",
       "      <td>Female</td>\n",
       "    </tr>\n",
       "    <tr>\n",
       "      <th>4578</th>\n",
       "      <td>France</td>\n",
       "      <td>Male</td>\n",
       "    </tr>\n",
       "  </tbody>\n",
       "</table>\n",
       "<p>6000 rows × 2 columns</p>\n",
       "</div>"
      ],
      "text/plain": [
       "     Geography  Gender\n",
       "7479     Spain    Male\n",
       "3411    France  Female\n",
       "6027   Germany    Male\n",
       "1247    France    Male\n",
       "3716   Germany  Female\n",
       "...        ...     ...\n",
       "4478    France    Male\n",
       "4094    France    Male\n",
       "3492    France  Female\n",
       "2177    France  Female\n",
       "4578    France    Male\n",
       "\n",
       "[6000 rows x 2 columns]"
      ]
     },
     "execution_count": 18,
     "metadata": {},
     "output_type": "execute_result"
    }
   ],
   "source": [
    "pd.options.mode.chained_assignment=None\n",
    "\n",
    "# Список категориальных признаков \n",
    "#ohe_features = features_train.select_dtypes(include='object').columns.to_list() \n",
    "#features_train[ohe_features]"
   ]
  },
  {
   "cell_type": "code",
   "execution_count": 19,
   "metadata": {},
   "outputs": [
    {
     "data": {
      "text/html": [
       "<div>\n",
       "<style scoped>\n",
       "    .dataframe tbody tr th:only-of-type {\n",
       "        vertical-align: middle;\n",
       "    }\n",
       "\n",
       "    .dataframe tbody tr th {\n",
       "        vertical-align: top;\n",
       "    }\n",
       "\n",
       "    .dataframe thead th {\n",
       "        text-align: right;\n",
       "    }\n",
       "</style>\n",
       "<table border=\"1\" class=\"dataframe\">\n",
       "  <thead>\n",
       "    <tr style=\"text-align: right;\">\n",
       "      <th></th>\n",
       "      <th>CreditScore</th>\n",
       "      <th>Age</th>\n",
       "      <th>Tenure</th>\n",
       "      <th>Balance</th>\n",
       "      <th>NumOfProducts</th>\n",
       "      <th>HasCrCard</th>\n",
       "      <th>IsActiveMember</th>\n",
       "      <th>EstimatedSalary</th>\n",
       "      <th>x0_Germany</th>\n",
       "      <th>x0_Spain</th>\n",
       "      <th>x1_Male</th>\n",
       "    </tr>\n",
       "  </thead>\n",
       "  <tbody>\n",
       "    <tr>\n",
       "      <th>7479</th>\n",
       "      <td>567</td>\n",
       "      <td>35</td>\n",
       "      <td>8.0</td>\n",
       "      <td>153137.74</td>\n",
       "      <td>1</td>\n",
       "      <td>1</td>\n",
       "      <td>0</td>\n",
       "      <td>88659.07</td>\n",
       "      <td>0.0</td>\n",
       "      <td>1.0</td>\n",
       "      <td>1.0</td>\n",
       "    </tr>\n",
       "    <tr>\n",
       "      <th>3411</th>\n",
       "      <td>711</td>\n",
       "      <td>37</td>\n",
       "      <td>8.0</td>\n",
       "      <td>113899.92</td>\n",
       "      <td>1</td>\n",
       "      <td>0</td>\n",
       "      <td>0</td>\n",
       "      <td>80215.20</td>\n",
       "      <td>0.0</td>\n",
       "      <td>0.0</td>\n",
       "      <td>0.0</td>\n",
       "    </tr>\n",
       "    <tr>\n",
       "      <th>6027</th>\n",
       "      <td>850</td>\n",
       "      <td>44</td>\n",
       "      <td>3.0</td>\n",
       "      <td>140393.65</td>\n",
       "      <td>2</td>\n",
       "      <td>0</td>\n",
       "      <td>1</td>\n",
       "      <td>186285.52</td>\n",
       "      <td>1.0</td>\n",
       "      <td>0.0</td>\n",
       "      <td>1.0</td>\n",
       "    </tr>\n",
       "    <tr>\n",
       "      <th>1247</th>\n",
       "      <td>512</td>\n",
       "      <td>24</td>\n",
       "      <td>6.0</td>\n",
       "      <td>0.00</td>\n",
       "      <td>2</td>\n",
       "      <td>1</td>\n",
       "      <td>0</td>\n",
       "      <td>37654.31</td>\n",
       "      <td>0.0</td>\n",
       "      <td>0.0</td>\n",
       "      <td>1.0</td>\n",
       "    </tr>\n",
       "    <tr>\n",
       "      <th>3716</th>\n",
       "      <td>665</td>\n",
       "      <td>27</td>\n",
       "      <td>2.0</td>\n",
       "      <td>147435.96</td>\n",
       "      <td>1</td>\n",
       "      <td>0</td>\n",
       "      <td>0</td>\n",
       "      <td>187508.06</td>\n",
       "      <td>1.0</td>\n",
       "      <td>0.0</td>\n",
       "      <td>0.0</td>\n",
       "    </tr>\n",
       "    <tr>\n",
       "      <th>...</th>\n",
       "      <td>...</td>\n",
       "      <td>...</td>\n",
       "      <td>...</td>\n",
       "      <td>...</td>\n",
       "      <td>...</td>\n",
       "      <td>...</td>\n",
       "      <td>...</td>\n",
       "      <td>...</td>\n",
       "      <td>...</td>\n",
       "      <td>...</td>\n",
       "      <td>...</td>\n",
       "    </tr>\n",
       "    <tr>\n",
       "      <th>4478</th>\n",
       "      <td>549</td>\n",
       "      <td>31</td>\n",
       "      <td>4.0</td>\n",
       "      <td>0.00</td>\n",
       "      <td>2</td>\n",
       "      <td>0</td>\n",
       "      <td>1</td>\n",
       "      <td>25684.85</td>\n",
       "      <td>0.0</td>\n",
       "      <td>0.0</td>\n",
       "      <td>1.0</td>\n",
       "    </tr>\n",
       "    <tr>\n",
       "      <th>4094</th>\n",
       "      <td>513</td>\n",
       "      <td>29</td>\n",
       "      <td>10.0</td>\n",
       "      <td>0.00</td>\n",
       "      <td>2</td>\n",
       "      <td>0</td>\n",
       "      <td>1</td>\n",
       "      <td>25514.77</td>\n",
       "      <td>0.0</td>\n",
       "      <td>0.0</td>\n",
       "      <td>1.0</td>\n",
       "    </tr>\n",
       "    <tr>\n",
       "      <th>3492</th>\n",
       "      <td>655</td>\n",
       "      <td>45</td>\n",
       "      <td>5.0</td>\n",
       "      <td>57327.04</td>\n",
       "      <td>1</td>\n",
       "      <td>0</td>\n",
       "      <td>1</td>\n",
       "      <td>47349.00</td>\n",
       "      <td>0.0</td>\n",
       "      <td>0.0</td>\n",
       "      <td>0.0</td>\n",
       "    </tr>\n",
       "    <tr>\n",
       "      <th>2177</th>\n",
       "      <td>667</td>\n",
       "      <td>24</td>\n",
       "      <td>4.0</td>\n",
       "      <td>0.00</td>\n",
       "      <td>2</td>\n",
       "      <td>0</td>\n",
       "      <td>1</td>\n",
       "      <td>34335.55</td>\n",
       "      <td>0.0</td>\n",
       "      <td>0.0</td>\n",
       "      <td>0.0</td>\n",
       "    </tr>\n",
       "    <tr>\n",
       "      <th>4578</th>\n",
       "      <td>691</td>\n",
       "      <td>38</td>\n",
       "      <td>1.0</td>\n",
       "      <td>0.00</td>\n",
       "      <td>2</td>\n",
       "      <td>0</td>\n",
       "      <td>0</td>\n",
       "      <td>44653.50</td>\n",
       "      <td>0.0</td>\n",
       "      <td>0.0</td>\n",
       "      <td>1.0</td>\n",
       "    </tr>\n",
       "  </tbody>\n",
       "</table>\n",
       "<p>6000 rows × 11 columns</p>\n",
       "</div>"
      ],
      "text/plain": [
       "      CreditScore  Age  Tenure    Balance  NumOfProducts  HasCrCard  \\\n",
       "7479          567   35     8.0  153137.74              1          1   \n",
       "3411          711   37     8.0  113899.92              1          0   \n",
       "6027          850   44     3.0  140393.65              2          0   \n",
       "1247          512   24     6.0       0.00              2          1   \n",
       "3716          665   27     2.0  147435.96              1          0   \n",
       "...           ...  ...     ...        ...            ...        ...   \n",
       "4478          549   31     4.0       0.00              2          0   \n",
       "4094          513   29    10.0       0.00              2          0   \n",
       "3492          655   45     5.0   57327.04              1          0   \n",
       "2177          667   24     4.0       0.00              2          0   \n",
       "4578          691   38     1.0       0.00              2          0   \n",
       "\n",
       "      IsActiveMember  EstimatedSalary  x0_Germany  x0_Spain  x1_Male  \n",
       "7479               0         88659.07         0.0       1.0      1.0  \n",
       "3411               0         80215.20         0.0       0.0      0.0  \n",
       "6027               1        186285.52         1.0       0.0      1.0  \n",
       "1247               0         37654.31         0.0       0.0      1.0  \n",
       "3716               0        187508.06         1.0       0.0      0.0  \n",
       "...              ...              ...         ...       ...      ...  \n",
       "4478               1         25684.85         0.0       0.0      1.0  \n",
       "4094               1         25514.77         0.0       0.0      1.0  \n",
       "3492               1         47349.00         0.0       0.0      0.0  \n",
       "2177               1         34335.55         0.0       0.0      0.0  \n",
       "4578               0         44653.50         0.0       0.0      1.0  \n",
       "\n",
       "[6000 rows x 11 columns]"
      ]
     },
     "execution_count": 19,
     "metadata": {},
     "output_type": "execute_result"
    }
   ],
   "source": [
    "# Преобразуем категориальные признаки в численные \n",
    "#encoder_ohe = OneHotEncoder(drop='first', handle_unknown='error', sparse=False) \n",
    "#encoder_ohe.fit(features_train[ohe_features]) \n",
    "#\n",
    "#for dataset in ['features_train', 'features_valid', 'features_test']: \n",
    "    #vars()[dataset][encoder_ohe.get_feature_names()] = encoder_ohe.transform(vars()[dataset][ohe_features]) \n",
    "    #vars()[dataset] = vars()[dataset].drop(ohe_features, axis=1) \n",
    "    #vars()[dataset].columns = vars()[dataset].columns\n",
    "#features_train"
   ]
  },
  {
   "cell_type": "code",
   "execution_count": 24,
   "metadata": {},
   "outputs": [],
   "source": [
    "# Категориальные данные\n",
    "categories = ['Geography', 'Gender']\n",
    "\n",
    "# Применяем метод OneHotEncoder к категариальным стлобцам признаков для тестовой, валидационной\n",
    "# и тренировочной выборок\n",
    "ohe_encoder = OneHotEncoder(drop='first', sparse=False)\n",
    "ohe_cols_train = pd.DataFrame(ohe_encoder.fit_transform(features_train[categories]))\n",
    "ohe_cols_valid = pd.DataFrame(ohe_encoder.transform(features_valid[categories]))\n",
    "ohe_cols_test = pd.DataFrame(ohe_encoder.transform(features_test[categories]))\n",
    "\n",
    "# Возвращаем индексы\n",
    "ohe_cols_train.index = features_train.index\n",
    "ohe_cols_valid.index = features_valid.index\n",
    "ohe_cols_test.index = features_test.index\n"
   ]
  },
  {
   "cell_type": "code",
   "execution_count": 25,
   "metadata": {},
   "outputs": [
    {
     "data": {
      "text/plain": [
       "[array(['France', 'Germany', 'Spain'], dtype=object),\n",
       " array(['Female', 'Male'], dtype=object)]"
      ]
     },
     "execution_count": 25,
     "metadata": {},
     "output_type": "execute_result"
    }
   ],
   "source": [
    "# Возвращаем название столбцов\n",
    "ohe_cols_train.columns = ['Germany', 'Spain', 'Male']\n",
    "ohe_cols_valid.columns = ['Germany', 'Spain', 'Male']\n",
    "ohe_cols_test.columns = ['Germany', 'Spain', 'Male']\n",
    "ohe_encoder.categories_"
   ]
  },
  {
   "cell_type": "code",
   "execution_count": 26,
   "metadata": {},
   "outputs": [
    {
     "data": {
      "text/html": [
       "<div>\n",
       "<style scoped>\n",
       "    .dataframe tbody tr th:only-of-type {\n",
       "        vertical-align: middle;\n",
       "    }\n",
       "\n",
       "    .dataframe tbody tr th {\n",
       "        vertical-align: top;\n",
       "    }\n",
       "\n",
       "    .dataframe thead th {\n",
       "        text-align: right;\n",
       "    }\n",
       "</style>\n",
       "<table border=\"1\" class=\"dataframe\">\n",
       "  <thead>\n",
       "    <tr style=\"text-align: right;\">\n",
       "      <th></th>\n",
       "      <th>CreditScore</th>\n",
       "      <th>Age</th>\n",
       "      <th>Tenure</th>\n",
       "      <th>Balance</th>\n",
       "      <th>NumOfProducts</th>\n",
       "      <th>HasCrCard</th>\n",
       "      <th>IsActiveMember</th>\n",
       "      <th>EstimatedSalary</th>\n",
       "      <th>Germany</th>\n",
       "      <th>Spain</th>\n",
       "      <th>Male</th>\n",
       "    </tr>\n",
       "  </thead>\n",
       "  <tbody>\n",
       "    <tr>\n",
       "      <th>7479</th>\n",
       "      <td>567</td>\n",
       "      <td>35</td>\n",
       "      <td>8.0</td>\n",
       "      <td>153137.74</td>\n",
       "      <td>1</td>\n",
       "      <td>1</td>\n",
       "      <td>0</td>\n",
       "      <td>88659.07</td>\n",
       "      <td>0.0</td>\n",
       "      <td>1.0</td>\n",
       "      <td>1.0</td>\n",
       "    </tr>\n",
       "    <tr>\n",
       "      <th>3411</th>\n",
       "      <td>711</td>\n",
       "      <td>37</td>\n",
       "      <td>8.0</td>\n",
       "      <td>113899.92</td>\n",
       "      <td>1</td>\n",
       "      <td>0</td>\n",
       "      <td>0</td>\n",
       "      <td>80215.20</td>\n",
       "      <td>0.0</td>\n",
       "      <td>0.0</td>\n",
       "      <td>0.0</td>\n",
       "    </tr>\n",
       "    <tr>\n",
       "      <th>6027</th>\n",
       "      <td>850</td>\n",
       "      <td>44</td>\n",
       "      <td>3.0</td>\n",
       "      <td>140393.65</td>\n",
       "      <td>2</td>\n",
       "      <td>0</td>\n",
       "      <td>1</td>\n",
       "      <td>186285.52</td>\n",
       "      <td>1.0</td>\n",
       "      <td>0.0</td>\n",
       "      <td>1.0</td>\n",
       "    </tr>\n",
       "    <tr>\n",
       "      <th>1247</th>\n",
       "      <td>512</td>\n",
       "      <td>24</td>\n",
       "      <td>6.0</td>\n",
       "      <td>0.00</td>\n",
       "      <td>2</td>\n",
       "      <td>1</td>\n",
       "      <td>0</td>\n",
       "      <td>37654.31</td>\n",
       "      <td>0.0</td>\n",
       "      <td>0.0</td>\n",
       "      <td>1.0</td>\n",
       "    </tr>\n",
       "    <tr>\n",
       "      <th>3716</th>\n",
       "      <td>665</td>\n",
       "      <td>27</td>\n",
       "      <td>2.0</td>\n",
       "      <td>147435.96</td>\n",
       "      <td>1</td>\n",
       "      <td>0</td>\n",
       "      <td>0</td>\n",
       "      <td>187508.06</td>\n",
       "      <td>1.0</td>\n",
       "      <td>0.0</td>\n",
       "      <td>0.0</td>\n",
       "    </tr>\n",
       "    <tr>\n",
       "      <th>...</th>\n",
       "      <td>...</td>\n",
       "      <td>...</td>\n",
       "      <td>...</td>\n",
       "      <td>...</td>\n",
       "      <td>...</td>\n",
       "      <td>...</td>\n",
       "      <td>...</td>\n",
       "      <td>...</td>\n",
       "      <td>...</td>\n",
       "      <td>...</td>\n",
       "      <td>...</td>\n",
       "    </tr>\n",
       "    <tr>\n",
       "      <th>4478</th>\n",
       "      <td>549</td>\n",
       "      <td>31</td>\n",
       "      <td>4.0</td>\n",
       "      <td>0.00</td>\n",
       "      <td>2</td>\n",
       "      <td>0</td>\n",
       "      <td>1</td>\n",
       "      <td>25684.85</td>\n",
       "      <td>0.0</td>\n",
       "      <td>0.0</td>\n",
       "      <td>1.0</td>\n",
       "    </tr>\n",
       "    <tr>\n",
       "      <th>4094</th>\n",
       "      <td>513</td>\n",
       "      <td>29</td>\n",
       "      <td>10.0</td>\n",
       "      <td>0.00</td>\n",
       "      <td>2</td>\n",
       "      <td>0</td>\n",
       "      <td>1</td>\n",
       "      <td>25514.77</td>\n",
       "      <td>0.0</td>\n",
       "      <td>0.0</td>\n",
       "      <td>1.0</td>\n",
       "    </tr>\n",
       "    <tr>\n",
       "      <th>3492</th>\n",
       "      <td>655</td>\n",
       "      <td>45</td>\n",
       "      <td>5.0</td>\n",
       "      <td>57327.04</td>\n",
       "      <td>1</td>\n",
       "      <td>0</td>\n",
       "      <td>1</td>\n",
       "      <td>47349.00</td>\n",
       "      <td>0.0</td>\n",
       "      <td>0.0</td>\n",
       "      <td>0.0</td>\n",
       "    </tr>\n",
       "    <tr>\n",
       "      <th>2177</th>\n",
       "      <td>667</td>\n",
       "      <td>24</td>\n",
       "      <td>4.0</td>\n",
       "      <td>0.00</td>\n",
       "      <td>2</td>\n",
       "      <td>0</td>\n",
       "      <td>1</td>\n",
       "      <td>34335.55</td>\n",
       "      <td>0.0</td>\n",
       "      <td>0.0</td>\n",
       "      <td>0.0</td>\n",
       "    </tr>\n",
       "    <tr>\n",
       "      <th>4578</th>\n",
       "      <td>691</td>\n",
       "      <td>38</td>\n",
       "      <td>1.0</td>\n",
       "      <td>0.00</td>\n",
       "      <td>2</td>\n",
       "      <td>0</td>\n",
       "      <td>0</td>\n",
       "      <td>44653.50</td>\n",
       "      <td>0.0</td>\n",
       "      <td>0.0</td>\n",
       "      <td>1.0</td>\n",
       "    </tr>\n",
       "  </tbody>\n",
       "</table>\n",
       "<p>6000 rows × 11 columns</p>\n",
       "</div>"
      ],
      "text/plain": [
       "      CreditScore  Age  Tenure    Balance  NumOfProducts  HasCrCard  \\\n",
       "7479          567   35     8.0  153137.74              1          1   \n",
       "3411          711   37     8.0  113899.92              1          0   \n",
       "6027          850   44     3.0  140393.65              2          0   \n",
       "1247          512   24     6.0       0.00              2          1   \n",
       "3716          665   27     2.0  147435.96              1          0   \n",
       "...           ...  ...     ...        ...            ...        ...   \n",
       "4478          549   31     4.0       0.00              2          0   \n",
       "4094          513   29    10.0       0.00              2          0   \n",
       "3492          655   45     5.0   57327.04              1          0   \n",
       "2177          667   24     4.0       0.00              2          0   \n",
       "4578          691   38     1.0       0.00              2          0   \n",
       "\n",
       "      IsActiveMember  EstimatedSalary  Germany  Spain  Male  \n",
       "7479               0         88659.07      0.0    1.0   1.0  \n",
       "3411               0         80215.20      0.0    0.0   0.0  \n",
       "6027               1        186285.52      1.0    0.0   1.0  \n",
       "1247               0         37654.31      0.0    0.0   1.0  \n",
       "3716               0        187508.06      1.0    0.0   0.0  \n",
       "...              ...              ...      ...    ...   ...  \n",
       "4478               1         25684.85      0.0    0.0   1.0  \n",
       "4094               1         25514.77      0.0    0.0   1.0  \n",
       "3492               1         47349.00      0.0    0.0   0.0  \n",
       "2177               1         34335.55      0.0    0.0   0.0  \n",
       "4578               0         44653.50      0.0    0.0   1.0  \n",
       "\n",
       "[6000 rows x 11 columns]"
      ]
     },
     "execution_count": 26,
     "metadata": {},
     "output_type": "execute_result"
    }
   ],
   "source": [
    "\n",
    "# Убираем категориальные столбцы\n",
    "numeric_features_train = features_train.drop(categories, axis=1)\n",
    "numeric_features_valid = features_valid.drop(categories, axis=1)\n",
    "numeric_features_test = features_test.drop(categories, axis=1)\n",
    "\n",
    "# Обьединяем One-Hot Encoded столбцы с численными признаками\n",
    "new_features_train = pd.concat([numeric_features_train, ohe_cols_train], axis=1)\n",
    "new_features_valid = pd.concat([numeric_features_valid, ohe_cols_valid], axis=1)\n",
    "new_features_test = pd.concat([numeric_features_test, ohe_cols_test], axis=1)\n",
    "\n",
    "new_features_train"
   ]
  },
  {
   "cell_type": "markdown",
   "metadata": {},
   "source": [
    "### Масштабирование признаков\n",
    "Используем метод стандартизации данных для масштабирования признаков"
   ]
  },
  {
   "cell_type": "code",
   "execution_count": 27,
   "metadata": {},
   "outputs": [
    {
     "data": {
      "text/html": [
       "<div>\n",
       "<style scoped>\n",
       "    .dataframe tbody tr th:only-of-type {\n",
       "        vertical-align: middle;\n",
       "    }\n",
       "\n",
       "    .dataframe tbody tr th {\n",
       "        vertical-align: top;\n",
       "    }\n",
       "\n",
       "    .dataframe thead th {\n",
       "        text-align: right;\n",
       "    }\n",
       "</style>\n",
       "<table border=\"1\" class=\"dataframe\">\n",
       "  <thead>\n",
       "    <tr style=\"text-align: right;\">\n",
       "      <th></th>\n",
       "      <th>CreditScore</th>\n",
       "      <th>Age</th>\n",
       "      <th>Tenure</th>\n",
       "      <th>Balance</th>\n",
       "      <th>NumOfProducts</th>\n",
       "      <th>HasCrCard</th>\n",
       "      <th>IsActiveMember</th>\n",
       "      <th>EstimatedSalary</th>\n",
       "      <th>Germany</th>\n",
       "      <th>Spain</th>\n",
       "      <th>Male</th>\n",
       "    </tr>\n",
       "  </thead>\n",
       "  <tbody>\n",
       "    <tr>\n",
       "      <th>7479</th>\n",
       "      <td>-0.886751</td>\n",
       "      <td>-0.373192</td>\n",
       "      <td>1.082277</td>\n",
       "      <td>1.232271</td>\n",
       "      <td>1</td>\n",
       "      <td>1</td>\n",
       "      <td>0</td>\n",
       "      <td>-0.187705</td>\n",
       "      <td>0.0</td>\n",
       "      <td>1.0</td>\n",
       "      <td>1.0</td>\n",
       "    </tr>\n",
       "    <tr>\n",
       "      <th>3411</th>\n",
       "      <td>0.608663</td>\n",
       "      <td>-0.183385</td>\n",
       "      <td>1.082277</td>\n",
       "      <td>0.600563</td>\n",
       "      <td>1</td>\n",
       "      <td>0</td>\n",
       "      <td>0</td>\n",
       "      <td>-0.333945</td>\n",
       "      <td>0.0</td>\n",
       "      <td>0.0</td>\n",
       "      <td>0.0</td>\n",
       "    </tr>\n",
       "    <tr>\n",
       "      <th>6027</th>\n",
       "      <td>2.052152</td>\n",
       "      <td>0.480939</td>\n",
       "      <td>-0.737696</td>\n",
       "      <td>1.027098</td>\n",
       "      <td>2</td>\n",
       "      <td>0</td>\n",
       "      <td>1</td>\n",
       "      <td>1.503095</td>\n",
       "      <td>1.0</td>\n",
       "      <td>0.0</td>\n",
       "      <td>1.0</td>\n",
       "    </tr>\n",
       "    <tr>\n",
       "      <th>1247</th>\n",
       "      <td>-1.457915</td>\n",
       "      <td>-1.417129</td>\n",
       "      <td>0.354288</td>\n",
       "      <td>-1.233163</td>\n",
       "      <td>2</td>\n",
       "      <td>1</td>\n",
       "      <td>0</td>\n",
       "      <td>-1.071061</td>\n",
       "      <td>0.0</td>\n",
       "      <td>0.0</td>\n",
       "      <td>1.0</td>\n",
       "    </tr>\n",
       "    <tr>\n",
       "      <th>3716</th>\n",
       "      <td>0.130961</td>\n",
       "      <td>-1.132419</td>\n",
       "      <td>-1.101690</td>\n",
       "      <td>1.140475</td>\n",
       "      <td>1</td>\n",
       "      <td>0</td>\n",
       "      <td>0</td>\n",
       "      <td>1.524268</td>\n",
       "      <td>1.0</td>\n",
       "      <td>0.0</td>\n",
       "      <td>0.0</td>\n",
       "    </tr>\n",
       "    <tr>\n",
       "      <th>...</th>\n",
       "      <td>...</td>\n",
       "      <td>...</td>\n",
       "      <td>...</td>\n",
       "      <td>...</td>\n",
       "      <td>...</td>\n",
       "      <td>...</td>\n",
       "      <td>...</td>\n",
       "      <td>...</td>\n",
       "      <td>...</td>\n",
       "      <td>...</td>\n",
       "      <td>...</td>\n",
       "    </tr>\n",
       "    <tr>\n",
       "      <th>4478</th>\n",
       "      <td>-1.073677</td>\n",
       "      <td>-0.752805</td>\n",
       "      <td>-0.373701</td>\n",
       "      <td>-1.233163</td>\n",
       "      <td>2</td>\n",
       "      <td>0</td>\n",
       "      <td>1</td>\n",
       "      <td>-1.278361</td>\n",
       "      <td>0.0</td>\n",
       "      <td>0.0</td>\n",
       "      <td>1.0</td>\n",
       "    </tr>\n",
       "    <tr>\n",
       "      <th>4094</th>\n",
       "      <td>-1.447531</td>\n",
       "      <td>-0.942612</td>\n",
       "      <td>1.810266</td>\n",
       "      <td>-1.233163</td>\n",
       "      <td>2</td>\n",
       "      <td>0</td>\n",
       "      <td>1</td>\n",
       "      <td>-1.281307</td>\n",
       "      <td>0.0</td>\n",
       "      <td>0.0</td>\n",
       "      <td>1.0</td>\n",
       "    </tr>\n",
       "    <tr>\n",
       "      <th>3492</th>\n",
       "      <td>0.027113</td>\n",
       "      <td>0.575842</td>\n",
       "      <td>-0.009707</td>\n",
       "      <td>-0.310229</td>\n",
       "      <td>1</td>\n",
       "      <td>0</td>\n",
       "      <td>1</td>\n",
       "      <td>-0.903158</td>\n",
       "      <td>0.0</td>\n",
       "      <td>0.0</td>\n",
       "      <td>0.0</td>\n",
       "    </tr>\n",
       "    <tr>\n",
       "      <th>2177</th>\n",
       "      <td>0.151731</td>\n",
       "      <td>-1.417129</td>\n",
       "      <td>-0.373701</td>\n",
       "      <td>-1.233163</td>\n",
       "      <td>2</td>\n",
       "      <td>0</td>\n",
       "      <td>1</td>\n",
       "      <td>-1.128539</td>\n",
       "      <td>0.0</td>\n",
       "      <td>0.0</td>\n",
       "      <td>0.0</td>\n",
       "    </tr>\n",
       "    <tr>\n",
       "      <th>4578</th>\n",
       "      <td>0.400966</td>\n",
       "      <td>-0.088482</td>\n",
       "      <td>-1.465685</td>\n",
       "      <td>-1.233163</td>\n",
       "      <td>2</td>\n",
       "      <td>0</td>\n",
       "      <td>0</td>\n",
       "      <td>-0.949841</td>\n",
       "      <td>0.0</td>\n",
       "      <td>0.0</td>\n",
       "      <td>1.0</td>\n",
       "    </tr>\n",
       "  </tbody>\n",
       "</table>\n",
       "<p>6000 rows × 11 columns</p>\n",
       "</div>"
      ],
      "text/plain": [
       "      CreditScore       Age    Tenure   Balance  NumOfProducts  HasCrCard  \\\n",
       "7479    -0.886751 -0.373192  1.082277  1.232271              1          1   \n",
       "3411     0.608663 -0.183385  1.082277  0.600563              1          0   \n",
       "6027     2.052152  0.480939 -0.737696  1.027098              2          0   \n",
       "1247    -1.457915 -1.417129  0.354288 -1.233163              2          1   \n",
       "3716     0.130961 -1.132419 -1.101690  1.140475              1          0   \n",
       "...           ...       ...       ...       ...            ...        ...   \n",
       "4478    -1.073677 -0.752805 -0.373701 -1.233163              2          0   \n",
       "4094    -1.447531 -0.942612  1.810266 -1.233163              2          0   \n",
       "3492     0.027113  0.575842 -0.009707 -0.310229              1          0   \n",
       "2177     0.151731 -1.417129 -0.373701 -1.233163              2          0   \n",
       "4578     0.400966 -0.088482 -1.465685 -1.233163              2          0   \n",
       "\n",
       "      IsActiveMember  EstimatedSalary  Germany  Spain  Male  \n",
       "7479               0        -0.187705      0.0    1.0   1.0  \n",
       "3411               0        -0.333945      0.0    0.0   0.0  \n",
       "6027               1         1.503095      1.0    0.0   1.0  \n",
       "1247               0        -1.071061      0.0    0.0   1.0  \n",
       "3716               0         1.524268      1.0    0.0   0.0  \n",
       "...              ...              ...      ...    ...   ...  \n",
       "4478               1        -1.278361      0.0    0.0   1.0  \n",
       "4094               1        -1.281307      0.0    0.0   1.0  \n",
       "3492               1        -0.903158      0.0    0.0   0.0  \n",
       "2177               1        -1.128539      0.0    0.0   0.0  \n",
       "4578               0        -0.949841      0.0    0.0   1.0  \n",
       "\n",
       "[6000 rows x 11 columns]"
      ]
     },
     "execution_count": 27,
     "metadata": {},
     "output_type": "execute_result"
    }
   ],
   "source": [
    "numeric = ['CreditScore', 'Age', 'Tenure', 'Balance', 'EstimatedSalary']\n",
    "\n",
    "scaler = StandardScaler()\n",
    "scaler.fit(new_features_train[numeric])\n",
    "\n",
    "new_features_train[numeric] = scaler.transform(new_features_train[numeric])\n",
    "new_features_valid[numeric] = scaler.transform(new_features_valid[numeric])\n",
    "new_features_test[numeric] = scaler.transform(new_features_test[numeric])\n",
    "new_features_train"
   ]
  },
  {
   "cell_type": "markdown",
   "metadata": {},
   "source": [
    "## Исследование задачи"
   ]
  },
  {
   "cell_type": "markdown",
   "metadata": {},
   "source": [
    "### Дисбаланс классов\n",
    "Исследуем данные целевого признака на дисбаланс классов"
   ]
  },
  {
   "cell_type": "code",
   "execution_count": 28,
   "metadata": {},
   "outputs": [
    {
     "name": "stdout",
     "output_type": "stream",
     "text": [
      "0    0.7963\n",
      "1    0.2037\n",
      "Name: Exited, dtype: float64\n"
     ]
    },
    {
     "data": {
      "text/plain": [
       "<AxesSubplot:>"
      ]
     },
     "execution_count": 28,
     "metadata": {},
     "output_type": "execute_result"
    },
    {
     "data": {
      "image/png": "[encoded data removed]",
      "text/plain": [
       "<Figure size 432x288 with 1 Axes>"
      ]
     },
     "metadata": {
      "needs_background": "light"
     },
     "output_type": "display_data"
    }
   ],
   "source": [
    "class_frequency = data_preprocessed['Exited'].value_counts(normalize=True)\n",
    "print(class_frequency)\n",
    "class_frequency.plot(kind='bar') "
   ]
  },
  {
   "cell_type": "markdown",
   "metadata": {},
   "source": [
    "Можем заметить, что отрицательных ответов примерно в 4 раза больше, чем положительных. Это говорит о дисбалансе классов. Проверим, как будут работать модели решающего дерева, логистической регрессии, случайного леса без учета дисбаланса. Выберем модель с наилучшим показателем f1"
   ]
  },
  {
   "cell_type": "markdown",
   "metadata": {},
   "source": [
    "### Модель решающего дерева"
   ]
  },
  {
   "cell_type": "markdown",
   "metadata": {},
   "source": [
    "Создадим функцию перебора гиперпараметров модели решающего дерева для достижения наибольшого значения F1 метрики."
   ]
  },
  {
   "cell_type": "code",
   "execution_count": 29,
   "metadata": {},
   "outputs": [],
   "source": [
    "def model_dt(new_features_train, target_train, new_features_valid,  target_valid, class_weight):\n",
    "    best_model_dt = None\n",
    "    best_f1 = 0\n",
    "    best_depth = 0\n",
    "    for i in range(1,20):\n",
    "        model_dt = DecisionTreeClassifier(random_state=12345, max_depth=i, class_weight=class_weight)\n",
    "        model_dt.fit(new_features_train,target_train)\n",
    "        predicted_valid = model_dt.predict(new_features_valid)\n",
    "        f1 = f1_score(target_valid, predicted_valid)\n",
    "        if f1 > best_f1:\n",
    "            best_model_dt = model_dt\n",
    "            best_f1 = f1\n",
    "            best_depth = i\n",
    "    return best_f1, best_depth, best_model_dt"
   ]
  },
  {
   "cell_type": "code",
   "execution_count": 30,
   "metadata": {},
   "outputs": [
    {
     "name": "stdout",
     "output_type": "stream",
     "text": [
      "f1 наилучшей модели на валидационной выборке: 0.5696969696969697 Глубина дерева: 6\n"
     ]
    }
   ],
   "source": [
    "best_f1_dt, best_depth, best_model_dt = \\\n",
    "model_dt(new_features_train, target_train, new_features_valid,  target_valid, None)\n",
    "print(\"f1 наилучшей модели на валидационной выборке:\",  best_f1_dt, \"Глубина дерева:\",  best_depth )"
   ]
  },
  {
   "cell_type": "code",
   "execution_count": 18,
   "metadata": {},
   "outputs": [],
   "source": [
    "probabilities_valid = best_model_dt.predict_proba(new_features_valid)\n",
    "probabilities_one_valid = probabilities_valid[:, 1]\n",
    "\n",
    "fpr, tpr, thresholds = roc_curve(target_valid, probabilities_one_valid)"
   ]
  },
  {
   "cell_type": "code",
   "execution_count": 19,
   "metadata": {},
   "outputs": [
    {
     "data": {
      "image/png": "[encoded data removed]",
      "text/plain": [
       "<Figure size 432x288 with 1 Axes>"
      ]
     },
     "metadata": {
      "needs_background": "light"
     },
     "output_type": "display_data"
    }
   ],
   "source": [
    "plt.figure()\n",
    "plt.plot(fpr, tpr)\n",
    "plt.xlim([0.0, 1.0])\n",
    "plt.ylim([0.0, 1.0])\n",
    "plt.xlabel('False Positive Rate')\n",
    "plt.ylabel('True Positive Rate')\n",
    "plt.title('ROC-кривая')\n",
    "plt.plot([0, 1], [0, 1], color = 'g')\n",
    "plt.show() "
   ]
  },
  {
   "cell_type": "code",
   "execution_count": 55,
   "metadata": {},
   "outputs": [
    {
     "name": "stdout",
     "output_type": "stream",
     "text": [
      "                    AUC-ROC for Tree 0.8164631712023421\n"
     ]
    },
    {
     "data": {
      "image/png": "[encoded data removed]",
      "text/plain": [
       "<Figure size 432x288 with 1 Axes>"
      ]
     },
     "metadata": {
      "needs_background": "light"
     },
     "output_type": "display_data"
    }
   ],
   "source": [
    "def auc_roc_show(model, features_for_auc, target_for_auc, name_model):\n",
    "\n",
    "    probabilities_valid = model.predict_proba(features_for_auc)\n",
    "    probabilities_one_valid = probabilities_valid[:, 1]\n",
    "\n",
    "    fpr, tpr, thresholds = roc_curve(target_for_auc, probabilities_one_valid)\n",
    "    auc_roc = roc_auc_score(target_for_auc, probabilities_one_valid )\n",
    "\n",
    "    print(' '*20 +'AUC-ROC for ' + name_model, auc_roc)\n",
    "    #print(' '*20 + 'AUC-ROC for ' + name_model )\n",
    "    plt.figure()\n",
    "    plt.plot(fpr, tpr)\n",
    "    plt.xlim([0.0, 1.0])\n",
    "    plt.ylim([0.0, 1.0])\n",
    "    plt.xlabel('False Positive Rate')\n",
    "    plt.ylabel('True Positive Rate')\n",
    "    plt.title('ROC-кривая')\n",
    "    plt.plot([0, 1], [0, 1], color = 'g')\n",
    "    plt.show() \n",
    "\n",
    "auc_roc_show(best_model_dt, new_features_valid, target_valid, 'Tree')"
   ]
  },
  {
   "cell_type": "code",
   "execution_count": 39,
   "metadata": {},
   "outputs": [
    {
     "ename": "NameError",
     "evalue": "name 'probabilities_one_valid' is not defined",
     "output_type": "error",
     "traceback": [
      "\u001b[0;31m---------------------------------------------------------------------------\u001b[0m",
      "\u001b[0;31mNameError\u001b[0m                                 Traceback (most recent call last)",
      "\u001b[0;32m/tmp/ipykernel_31/2329189817.py\u001b[0m in \u001b[0;36m<module>\u001b[0;34m\u001b[0m\n\u001b[0;32m----> 1\u001b[0;31m \u001b[0mauc_roc\u001b[0m \u001b[0;34m=\u001b[0m \u001b[0mroc_auc_score\u001b[0m\u001b[0;34m(\u001b[0m\u001b[0mtarget_valid\u001b[0m\u001b[0;34m,\u001b[0m \u001b[0mprobabilities_one_valid\u001b[0m \u001b[0;34m)\u001b[0m\u001b[0;34m\u001b[0m\u001b[0;34m\u001b[0m\u001b[0m\n\u001b[0m\u001b[1;32m      2\u001b[0m \u001b[0mauc_roc\u001b[0m\u001b[0;34m\u001b[0m\u001b[0;34m\u001b[0m\u001b[0m\n",
      "\u001b[0;31mNameError\u001b[0m: name 'probabilities_one_valid' is not defined"
     ]
    }
   ],
   "source": [
    "auc_roc = roc_auc_score(target_valid, probabilities_one_valid )\n",
    "auc_roc"
   ]
  },
  {
   "cell_type": "markdown",
   "metadata": {},
   "source": [
    "### Модель случайного леса"
   ]
  },
  {
   "cell_type": "markdown",
   "metadata": {},
   "source": [
    "Создадим функцию перебора гиперпараметров модели случайного леса для достижения наибольшого значения F1 метрики."
   ]
  },
  {
   "cell_type": "code",
   "execution_count": 42,
   "metadata": {},
   "outputs": [],
   "source": [
    "def model_rf(new_features_train, target_train, new_features_valid,  target_valid, class_weight):\n",
    "    best_model_rf = None\n",
    "    best_accuracy = 0\n",
    "    best_est = 0\n",
    "    best_depth = 0\n",
    "    best_f1 = 0\n",
    "    for est in range(1, 100, 10):\n",
    "        for depth in range(1, 20):\n",
    "            model_rf = RandomForestClassifier(random_state=12345, n_estimators=est, max_depth=depth, class_weight=class_weight) \n",
    "            model_rf.fit(new_features_train, target_train) \n",
    "            predicted_valid = model_rf.predict(new_features_valid) \n",
    "            f1 = f1_score(target_valid, predicted_valid)\n",
    "            if f1 > best_f1:\n",
    "                best_model_rf = model_rf\n",
    "                best_f1 = f1\n",
    "                best_est = est\n",
    "                best_depth = depth\n",
    "    return best_f1, best_est, best_depth, best_model_rf"
   ]
  },
  {
   "cell_type": "code",
   "execution_count": 43,
   "metadata": {},
   "outputs": [
    {
     "name": "stdout",
     "output_type": "stream",
     "text": [
      "F1 наилучшей модели на валидационной выборке: 0.5936599423631124 Количество деревьев: 11 Максимальная глубина: 14\n"
     ]
    }
   ],
   "source": [
    "best_f1_rf, best_est, best_depth, best_model_rf =  \\\n",
    "model_rf(new_features_train, target_train, new_features_valid,  target_valid, None)\n",
    "print(\"F1 наилучшей модели на валидационной выборке:\", best_f1_rf, \\\n",
    "      \"Количество деревьев:\", best_est, \"Максимальная глубина:\", best_depth)"
   ]
  },
  {
   "cell_type": "code",
   "execution_count": 56,
   "metadata": {},
   "outputs": [
    {
     "name": "stdout",
     "output_type": "stream",
     "text": [
      "                    AUC-ROC for Random Forest 0.8238330137491758\n"
     ]
    },
    {
     "data": {
      "image/png": "[encoded data removed]",
      "text/plain": [
       "<Figure size 432x288 with 1 Axes>"
      ]
     },
     "metadata": {
      "needs_background": "light"
     },
     "output_type": "display_data"
    }
   ],
   "source": [
    "auc_roc_show(best_model_rf, new_features_valid, target_valid, 'Random Forest')"
   ]
  },
  {
   "cell_type": "markdown",
   "metadata": {},
   "source": [
    "### Модель логистической регрессии"
   ]
  },
  {
   "cell_type": "markdown",
   "metadata": {},
   "source": [
    "Создадим функцию перебора гиперпараметров модели логистической регрессии для достижения наибольшого значения F1 метрики."
   ]
  },
  {
   "cell_type": "code",
   "execution_count": 47,
   "metadata": {},
   "outputs": [],
   "source": [
    "def model_lr(new_features_train, target_train, new_features_valid, target_valid, class_weight):\n",
    "    best_model_lr = None\n",
    "    best_f1 = 0\n",
    "    best_count = 0\n",
    "    for count in np2.arange(0.1, 1, 0.1):\n",
    "        model_lr = LogisticRegression(random_state=12345, C=count, solver='liblinear', class_weight=class_weight)\n",
    "        model_lr.fit(new_features_train, target_train) \n",
    "        predicted_values = model_lr.predict(new_features_valid)\n",
    "        f1 = f1_score(target_valid, predicted_values)\n",
    "        if f1 > best_f1:\n",
    "            best_model_lr = model_lr\n",
    "            best_f1 = f1\n",
    "            best_count = count\n",
    "    return best_f1, best_count, best_model_lr"
   ]
  },
  {
   "cell_type": "code",
   "execution_count": 53,
   "metadata": {},
   "outputs": [
    {
     "name": "stdout",
     "output_type": "stream",
     "text": [
      "F1 модели 0.3316412859560068 Сила регуляризации: 0.6\n"
     ]
    }
   ],
   "source": [
    "best_f1_lr, best_count, best_model_lr = \\\n",
    "model_lr(new_features_train, target_train, new_features_valid, target_valid, None)\n",
    "print(\"F1 модели\", best_f1_lr, 'Сила регуляризации:', best_count)"
   ]
  },
  {
   "cell_type": "code",
   "execution_count": 57,
   "metadata": {},
   "outputs": [
    {
     "name": "stdout",
     "output_type": "stream",
     "text": [
      "                    AUC-ROC for Logistic Regression 0.7587709216726449\n"
     ]
    },
    {
     "data": {
      "image/png": "[encoded data removed]",
      "text/plain": [
       "<Figure size 432x288 with 1 Axes>"
      ]
     },
     "metadata": {
      "needs_background": "light"
     },
     "output_type": "display_data"
    }
   ],
   "source": [
    "auc_roc_show(best_model_lr, new_features_valid, target_valid, 'Logistic Regression')"
   ]
  },
  {
   "cell_type": "markdown",
   "metadata": {},
   "source": [
    "Рассмотрим результат работы моделей на несбалансированной выборке.\n",
    "F1 мера для модели решающего дерева с глубиной дерева 6 равна 0.569. Для модели случайного леса при количестве деревьев 11 и  максимальной глубины 14 F1 = 0.594. Логистическая регрессия с силой регуляризации 0.6 показала наилучшее значение F1 меры, равное 0.332.\n",
    "Получаем, что модель с наибольшим значением F1 метрики - это модель случайного леса. Значение auc_roc для модели случайного леса также наибольшее - 0.824. Напомним, что площадь под кривой ошибок для случайной модели равна 0.5, таким образом, можем заметить, что даже без учета дисбаланса классов модель случайного леса работает довольно хорошо, но до идеала еще далеко."
   ]
  },
  {
   "cell_type": "markdown",
   "metadata": {},
   "source": [
    "## Борьба с дисбалансом"
   ]
  },
  {
   "cell_type": "markdown",
   "metadata": {},
   "source": [
    "Попробуем увеличить метрики F1 и auc_roc. Рассмотрим несколько способов борьбы с дисбалансом классов для моделей, и выберем метод с наибольшим значением F1."
   ]
  },
  {
   "cell_type": "markdown",
   "metadata": {},
   "source": [
    "### Взвешивание классов"
   ]
  },
  {
   "cell_type": "markdown",
   "metadata": {},
   "source": [
    "Для реализации этого метода добавляем в функции для перебора гиперпараметров новый параметр class_weight='balanced'"
   ]
  },
  {
   "cell_type": "markdown",
   "metadata": {},
   "source": [
    "#### Решающее дерево"
   ]
  },
  {
   "cell_type": "code",
   "execution_count": 58,
   "metadata": {},
   "outputs": [
    {
     "name": "stdout",
     "output_type": "stream",
     "text": [
      "f1 наилучшей модели на валидационной выборке: 0.5963791267305644 Глубина дерева: 5\n"
     ]
    }
   ],
   "source": [
    "best_f1_dt_balanced, best_depth_balanced, best_model_dt_balanced = \\\n",
    "model_dt(new_features_train, target_train, new_features_valid,  target_valid, 'balanced')\n",
    "print(\"f1 наилучшей модели на валидационной выборке:\",  best_f1_dt_balanced, \"Глубина дерева:\",  best_depth_balanced )"
   ]
  },
  {
   "cell_type": "code",
   "execution_count": 59,
   "metadata": {},
   "outputs": [
    {
     "name": "stdout",
     "output_type": "stream",
     "text": [
      "                    AUC-ROC for Tree 0.8310244134068074\n"
     ]
    },
    {
     "data": {
      "image/png": "[encoded data removed]",
      "text/plain": [
       "<Figure size 432x288 with 1 Axes>"
      ]
     },
     "metadata": {
      "needs_background": "light"
     },
     "output_type": "display_data"
    }
   ],
   "source": [
    "auc_roc_show(best_model_dt_balanced, new_features_valid, target_valid, 'Tree')"
   ]
  },
  {
   "cell_type": "markdown",
   "metadata": {},
   "source": [
    "#### Случайный лес"
   ]
  },
  {
   "cell_type": "code",
   "execution_count": 60,
   "metadata": {},
   "outputs": [
    {
     "name": "stdout",
     "output_type": "stream",
     "text": [
      "F1 наилучшей модели на валидационной выборке: 0.6285714285714286 Количество деревьев: 71 Максимальная глубина: 9\n"
     ]
    }
   ],
   "source": [
    "best_f1_balanced, best_est, best_depth, best_model_rf_balanced = \\\n",
    "model_rf(new_features_train, target_train, new_features_valid,  target_valid, class_weight='balanced')\n",
    "print(\"F1 наилучшей модели на валидационной выборке:\", best_f1_balanced, \\\n",
    "          \"Количество деревьев:\", best_est, \"Максимальная глубина:\", best_depth)"
   ]
  },
  {
   "cell_type": "code",
   "execution_count": 61,
   "metadata": {},
   "outputs": [
    {
     "name": "stdout",
     "output_type": "stream",
     "text": [
      "                    AUC-ROC for Random Forest 0.8530553051978297\n"
     ]
    },
    {
     "data": {
      "image/png": "[encoded data removed]",
      "text/plain": [
       "<Figure size 432x288 with 1 Axes>"
      ]
     },
     "metadata": {
      "needs_background": "light"
     },
     "output_type": "display_data"
    }
   ],
   "source": [
    "auc_roc_show(best_model_rf_balanced, new_features_valid, target_valid, 'Random Forest')"
   ]
  },
  {
   "cell_type": "markdown",
   "metadata": {},
   "source": [
    "#### Логистическая регрессия"
   ]
  },
  {
   "cell_type": "code",
   "execution_count": 62,
   "metadata": {},
   "outputs": [
    {
     "name": "stdout",
     "output_type": "stream",
     "text": [
      "F1 модели 0.49056603773584906 Сила регуляризации: 0.30000000000000004\n"
     ]
    }
   ],
   "source": [
    "best_f1_lr_balanced, best_count, best_model_lr_balanced = \\\n",
    "model_lr(new_features_train, target_train, new_features_valid, target_valid, class_weight='balanced')\n",
    "print(\"F1 модели\", best_f1_lr_balanced, 'Сила регуляризации:', best_count)"
   ]
  },
  {
   "cell_type": "code",
   "execution_count": 63,
   "metadata": {},
   "outputs": [
    {
     "name": "stdout",
     "output_type": "stream",
     "text": [
      "                    AUC-ROC for Logistic Regression 0.7640924515633412\n"
     ]
    },
    {
     "data": {
      "image/png": "[encoded data removed]",
      "text/plain": [
       "<Figure size 432x288 with 1 Axes>"
      ]
     },
     "metadata": {
      "needs_background": "light"
     },
     "output_type": "display_data"
    }
   ],
   "source": [
    "auc_roc_show(best_model_lr_balanced, new_features_valid, target_valid, 'Logistic Regression')"
   ]
  },
  {
   "cell_type": "markdown",
   "metadata": {},
   "source": [
    "При использовании метода взвешивания классов получаем следующие результаты. Для модели дерева принятия решения с оптимальной глубиной дерева, равной 5, F1 метрика равна 0.596. Для модели случайного леса оптимальные гиперпараметры при сбалансированных тренировачных данных такие: количество деревьев - 71, максимальная глубина- 9; а значение F1 равно 0.628. Модель логистической регрессии показывает по-прежнему наименьшее значение F1 метрики относительно других моделей, так при силе регуляризации равной 0.3, F1 логистической регрессии равна 0.49.\n",
    "В итоге, при использовании метода взвешивания классов заметим рост F1 метрики для всех моделей по сравнению со значениями метрик моделей без учета дисбаланса. "
   ]
  },
  {
   "cell_type": "markdown",
   "metadata": {},
   "source": [
    "### Увеличение выборки"
   ]
  },
  {
   "cell_type": "markdown",
   "metadata": {},
   "source": [
    "Рассмотрим метод борьбы с дисбалансом путем увеличения выборки. Для этого сначала посмотрим на отношение классов \"0\" и \"1\" в целевом признаке, то есть определим насколько элементов класса \"0\" больше, чем другого. Затем увеличим количество значений в меньшем классе так, чтобы получилось равное количество элементов каждого класса."
   ]
  },
  {
   "cell_type": "code",
   "execution_count": 64,
   "metadata": {},
   "outputs": [
    {
     "data": {
      "text/plain": [
       "3.9091801669121256"
      ]
     },
     "execution_count": 64,
     "metadata": {},
     "output_type": "execute_result"
    }
   ],
   "source": [
    "# элементов класса 0 в 4 раза больше, чем элементов класса 1\n",
    "data_preprocessed.query('Exited == 0')['Exited'].count() / data_preprocessed.query('Exited == 1')['Exited'].count()"
   ]
  },
  {
   "cell_type": "code",
   "execution_count": 65,
   "metadata": {},
   "outputs": [],
   "source": [
    "# функция для борьбы с дисбалансом\n",
    "def upsample(features, target, repeat):\n",
    "    features_zeros = features[target == 0]\n",
    "    features_ones = features[target == 1]\n",
    "    target_zeros = target[target == 0]\n",
    "    target_ones = target[target == 1]\n",
    "\n",
    "    features_upsampled = pd.concat([features_zeros] + [features_ones] * repeat)\n",
    "    target_upsampled = pd.concat([target_zeros] + [target_ones] * repeat)\n",
    "    \n",
    "    features_upsampled, target_upsampled = shuffle(\n",
    "        features_upsampled, target_upsampled, random_state=12345)\n",
    "    \n",
    "    return features_upsampled, target_upsampled\n",
    "# получаем новые сбалансированные тренировочные данные\n",
    "features_upsampled, target_upsampled = upsample(new_features_train, target_train, 4)"
   ]
  },
  {
   "cell_type": "markdown",
   "metadata": {},
   "source": [
    "Проверим целевой признак тренировочных данных на дисбаланс. Как видим, все получилось)"
   ]
  },
  {
   "cell_type": "code",
   "execution_count": 66,
   "metadata": {},
   "outputs": [
    {
     "data": {
      "text/plain": [
       "<AxesSubplot:>"
      ]
     },
     "execution_count": 66,
     "metadata": {},
     "output_type": "execute_result"
    },
    {
     "data": {
      "image/png": "[encoded data removed]",
      "text/plain": [
       "<Figure size 432x288 with 1 Axes>"
      ]
     },
     "metadata": {
      "needs_background": "light"
     },
     "output_type": "display_data"
    }
   ],
   "source": [
    "target_upsampled.value_counts(normalize=True).plot(kind='bar') "
   ]
  },
  {
   "cell_type": "markdown",
   "metadata": {},
   "source": [
    "#### Решающее дерево"
   ]
  },
  {
   "cell_type": "markdown",
   "metadata": {},
   "source": [
    "Используем функцию с перебором гиперпараметров для достижения наибольшей F1 метрики и обучаем модель на данных с увеличенной сбалансированной выборкой"
   ]
  },
  {
   "cell_type": "code",
   "execution_count": 67,
   "metadata": {},
   "outputs": [
    {
     "name": "stdout",
     "output_type": "stream",
     "text": [
      "f1 наилучшей модели на валидационной выборке: 0.5963791267305644 Глубина дерева: 5\n"
     ]
    }
   ],
   "source": [
    "best_f1_dt_up, best_depth_up, best_model_dt_up = \\\n",
    "model_dt(features_upsampled, target_upsampled, new_features_valid,  target_valid, None)\n",
    "print(\"f1 наилучшей модели на валидационной выборке:\",  best_f1_dt_up, \"Глубина дерева:\",  best_depth_up )"
   ]
  },
  {
   "cell_type": "code",
   "execution_count": 68,
   "metadata": {},
   "outputs": [
    {
     "name": "stdout",
     "output_type": "stream",
     "text": [
      "                    AUC-ROC for Tree 0.8310244134068074\n"
     ]
    },
    {
     "data": {
      "image/png": "[encoded data removed]",
      "text/plain": [
       "<Figure size 432x288 with 1 Axes>"
      ]
     },
     "metadata": {
      "needs_background": "light"
     },
     "output_type": "display_data"
    }
   ],
   "source": [
    "auc_roc_show(best_model_dt_up, new_features_valid, target_valid, 'Tree')"
   ]
  },
  {
   "cell_type": "markdown",
   "metadata": {},
   "source": [
    "#### Случайный лес"
   ]
  },
  {
   "cell_type": "code",
   "execution_count": 69,
   "metadata": {},
   "outputs": [
    {
     "name": "stdout",
     "output_type": "stream",
     "text": [
      "F1 наилучшей модели на валидационной выборке: 0.6291179596174282 Количество деревьев: 71 Максимальная глубина: 9\n"
     ]
    }
   ],
   "source": [
    "best_f1_up, best_est_up, best_depth_up, best_model_rf_up = \\\n",
    "model_rf(features_upsampled, target_upsampled, new_features_valid,  target_valid, class_weight=None)\n",
    "print(\"F1 наилучшей модели на валидационной выборке:\", best_f1_up, \\\n",
    "          \"Количество деревьев:\", best_est_up, \"Максимальная глубина:\", best_depth)"
   ]
  },
  {
   "cell_type": "code",
   "execution_count": 70,
   "metadata": {},
   "outputs": [
    {
     "name": "stdout",
     "output_type": "stream",
     "text": [
      "                    AUC-ROC for Random Forest 0.8529192046891162\n"
     ]
    },
    {
     "data": {
      "image/png": "[encoded data removed]",
      "text/plain": [
       "<Figure size 432x288 with 1 Axes>"
      ]
     },
     "metadata": {
      "needs_background": "light"
     },
     "output_type": "display_data"
    }
   ],
   "source": [
    "auc_roc_show(best_model_rf_up, new_features_valid, target_valid, 'Random Forest')"
   ]
  },
  {
   "cell_type": "markdown",
   "metadata": {},
   "source": [
    "#### Логистическая регрессия"
   ]
  },
  {
   "cell_type": "code",
   "execution_count": 71,
   "metadata": {},
   "outputs": [
    {
     "name": "stdout",
     "output_type": "stream",
     "text": [
      "F1 модели 0.4905335628227194 Сила регуляризации: 0.1\n"
     ]
    }
   ],
   "source": [
    "best_f1_lr_up, best_count_up, best_model_lr_up = \\\n",
    "model_lr(features_upsampled, target_upsampled, new_features_valid, target_valid, None)\n",
    "print(\"F1 модели\", best_f1_lr_up, 'Сила регуляризации:', best_count_up)"
   ]
  },
  {
   "cell_type": "code",
   "execution_count": 72,
   "metadata": {},
   "outputs": [
    {
     "name": "stdout",
     "output_type": "stream",
     "text": [
      "                    AUC-ROC for Logistic Regression 0.7644962164058579\n"
     ]
    },
    {
     "data": {
      "image/png": "[encoded data removed]",
      "text/plain": [
       "<Figure size 432x288 with 1 Axes>"
      ]
     },
     "metadata": {
      "needs_background": "light"
     },
     "output_type": "display_data"
    }
   ],
   "source": [
    "auc_roc_show(best_model_lr_up, new_features_valid, target_valid, 'Logistic Regression')"
   ]
  },
  {
   "cell_type": "markdown",
   "metadata": {},
   "source": [
    "При использовании техкники upsampling для балансировки классов путем увеличения выборки, получаем следующие значения F1 метрики. Для модели решающего дерева с глубиной дерева 5 F1 = 0.596. Для модели случайного леса с количеством деревьев 71 и максимальной глубиной 9, F1 = 0.629. Для модели логистической регрессии с силой регуляризации = 0.1, F1 = 0.49. Интересно, что для дерева принятия решения значение метрики и гиперпараметры идентичны результатам при использовании метода балансировки. Для модели случайного леса колчество деревьев и максимальная глубина обучения также идентичны гиперпараметрам при использовании метода балансировки, но значение F1 меры больше на 0.001. Модель логистической регрессии при использовании техники upsampling показывает такое же значение F1 метрики, как и при балансировке, но при меньшем значении силы регуляризации."
   ]
  },
  {
   "cell_type": "markdown",
   "metadata": {},
   "source": [
    "### Уменьшение выборки"
   ]
  },
  {
   "cell_type": "markdown",
   "metadata": {},
   "source": [
    "Рассмотрим метод борьбы с дисбалансом путем уменьшения выборки."
   ]
  },
  {
   "cell_type": "code",
   "execution_count": 73,
   "metadata": {},
   "outputs": [],
   "source": [
    "# функция для борьбы с дисбалансом путем уменьшения обьектов наибольшего класса\n",
    "def downsample(features, target, fraction):\n",
    "    features_zeros = features[target == 0]\n",
    "    features_ones = features[target == 1]\n",
    "    target_zeros = target[target == 0]\n",
    "    target_ones = target[target == 1]\n",
    "\n",
    "    features_downsampled = pd.concat(\n",
    "        [features_zeros.sample(frac=fraction, random_state=12345)] + [features_ones])\n",
    "    target_downsampled = pd.concat(\n",
    "        [target_zeros.sample(frac=fraction, random_state=12345)] + [target_ones])\n",
    "    \n",
    "    features_downsampled, target_downsampled = shuffle(\n",
    "        features_downsampled, target_downsampled, random_state=12345)\n",
    "    \n",
    "    return features_downsampled, target_downsampled\n",
    "# создаем новые тренировочные данные\n",
    "features_downsampled, target_downsampled = downsample(new_features_train, target_train, 0.25)\n"
   ]
  },
  {
   "cell_type": "code",
   "execution_count": 74,
   "metadata": {},
   "outputs": [
    {
     "data": {
      "text/plain": [
       "<AxesSubplot:>"
      ]
     },
     "execution_count": 74,
     "metadata": {},
     "output_type": "execute_result"
    },
    {
     "data": {
      "image/png": "[encoded data removed]",
      "text/plain": [
       "<Figure size 432x288 with 1 Axes>"
      ]
     },
     "metadata": {
      "needs_background": "light"
     },
     "output_type": "display_data"
    }
   ],
   "source": [
    "# ура, есть баланс!\n",
    "target_downsampled.value_counts(normalize=True).plot(kind='bar') "
   ]
  },
  {
   "cell_type": "markdown",
   "metadata": {},
   "source": [
    "#### Рещающее дерево"
   ]
  },
  {
   "cell_type": "markdown",
   "metadata": {},
   "source": [
    "Также, как и при увелечении выборки, будем менять гиперпарметры и использовать уменьшенные сбалансированные тренировочные данные, дя достижения наибольшего значения F1 меры"
   ]
  },
  {
   "cell_type": "code",
   "execution_count": 75,
   "metadata": {},
   "outputs": [
    {
     "name": "stdout",
     "output_type": "stream",
     "text": [
      "f1 наилучшей модели на валидационной выборке: 0.5943204868154158 Глубина дерева: 5\n"
     ]
    }
   ],
   "source": [
    "best_f1_dt_down, best_depth_down, best_model_dt_down = \\\n",
    "model_dt(features_downsampled, target_downsampled, new_features_valid,  target_valid, None)\n",
    "print(\"f1 наилучшей модели на валидационной выборке:\",  best_f1_dt_down, \"Глубина дерева:\",  best_depth_down )"
   ]
  },
  {
   "cell_type": "code",
   "execution_count": 76,
   "metadata": {},
   "outputs": [
    {
     "name": "stdout",
     "output_type": "stream",
     "text": [
      "                    AUC-ROC for Tree 0.8241029464247908\n"
     ]
    },
    {
     "data": {
      "image/png": "[encoded data removed]",
      "text/plain": [
       "<Figure size 432x288 with 1 Axes>"
      ]
     },
     "metadata": {
      "needs_background": "light"
     },
     "output_type": "display_data"
    }
   ],
   "source": [
    "auc_roc_show(best_model_dt_down, new_features_valid, target_valid, 'Tree')"
   ]
  },
  {
   "cell_type": "markdown",
   "metadata": {},
   "source": [
    "#### Случайный лес"
   ]
  },
  {
   "cell_type": "code",
   "execution_count": 77,
   "metadata": {},
   "outputs": [
    {
     "name": "stdout",
     "output_type": "stream",
     "text": [
      "F1 наилучшей модели на валидационной выборке: 0.6057142857142858 Количество деревьев: 91 Максимальная глубина: 8\n"
     ]
    }
   ],
   "source": [
    "best_f1_rf_down, best_est_rf_down, best_depth_rf_down, best_model_rf_down = \\\n",
    "model_rf(features_downsampled, target_downsampled, new_features_valid,  target_valid, class_weight=None)\n",
    "print(\"F1 наилучшей модели на валидационной выборке:\", best_f1_rf_down, \\\n",
    "          \"Количество деревьев:\", best_est_rf_down, \"Максимальная глубина:\", best_depth_rf_down)"
   ]
  },
  {
   "cell_type": "code",
   "execution_count": 78,
   "metadata": {},
   "outputs": [
    {
     "name": "stdout",
     "output_type": "stream",
     "text": [
      "                    AUC-ROC for Random Forest 0.8490237056841622\n"
     ]
    },
    {
     "data": {
      "image/png": "[encoded data removed]",
      "text/plain": [
       "<Figure size 432x288 with 1 Axes>"
      ]
     },
     "metadata": {
      "needs_background": "light"
     },
     "output_type": "display_data"
    }
   ],
   "source": [
    "auc_roc_show(best_model_rf_down, new_features_valid, target_valid, 'Random Forest')"
   ]
  },
  {
   "cell_type": "markdown",
   "metadata": {},
   "source": [
    "#### Логистичческая регрессия"
   ]
  },
  {
   "cell_type": "code",
   "execution_count": 80,
   "metadata": {},
   "outputs": [
    {
     "name": "stdout",
     "output_type": "stream",
     "text": [
      "F1 модели 0.4905335628227194 Сила регуляризации: 0.1\n"
     ]
    }
   ],
   "source": [
    "best_f1_lr_down, best_count_down, best_model_lr_down = \\\n",
    "model_lr(features_upsampled, target_upsampled, new_features_valid, target_valid, None)\n",
    "print(\"F1 модели\", best_f1_lr_down, 'Сила регуляризации:', best_count_down)"
   ]
  },
  {
   "cell_type": "code",
   "execution_count": 81,
   "metadata": {},
   "outputs": [
    {
     "name": "stdout",
     "output_type": "stream",
     "text": [
      "                    AUC-ROC for Logistic Regression 0.7644962164058579\n"
     ]
    },
    {
     "data": {
      "image/png": "[encoded data removed]",
      "text/plain": [
       "<Figure size 432x288 with 1 Axes>"
      ]
     },
     "metadata": {
      "needs_background": "light"
     },
     "output_type": "display_data"
    }
   ],
   "source": [
    "auc_roc_show(best_model_lr_down, new_features_valid, target_valid, 'Logistic Regression')"
   ]
  },
  {
   "cell_type": "markdown",
   "metadata": {},
   "source": [
    "Получили результаты применения техники downsampling для балансировки клаcсов путем уменьшения выборки. \n",
    "Для модели решающего дерева с глубиной дерева 5, F1 метрика равна 0.594, что на 0.002 меньше, чем при использовании метода upsampling. \n",
    "Для модели случайного леса с количеством деревьев 91 и максимальной глубиной 8, F1 метрика равна 0.605 при уменьшении выборки. Заметим, результат метрики для модели случайного леса при использовании техники upsampling выше почти на 2 сотые. Также при уменьшении выборки наблюдается значительное увеличение количество деревьев (на 20), что может привести к переобучению на тестовых данных.  \n",
    "Для модели логистической регрессии с силой регуляризации = 0.1, F1 равна 0.49 при технике downsampling, идентичные результаты можем наблюдать при использовании текхники upsampling."
   ]
  },
  {
   "cell_type": "markdown",
   "metadata": {},
   "source": [
    "Таким образом,  можем заметить, что все три метода борьбы с дисбалансом позволяют увеличить значение метрики F1 для всех моделей, в сравнении с метриками без учета дисбаланса. Также, наилучшие методы борьбы с дисбалансом - это техники балансировки и upsampling. Они дают почти одинаковые значения метрик для моделей. А результаты значений метрик моделей при импользовании техники downsampling ниже по сравнению с предыдущими двумя. \n",
    "В ходе исследования получили модель с наибольшим значением F1 метрики и, соответсвенно, auc_roc метрики. И это модель случайного леса со следующими гиперпараметрами: количество деревьев - 71, максимальная глубина - 9, и тренировочные данные для этой модели были сбалансированы методом upsampling. Максимальное значение F1 метрики на валидационной выборке такой модели достигает 0.629, а значение auc_roc равно 0.853."
   ]
  },
  {
   "cell_type": "markdown",
   "metadata": {},
   "source": [
    "## Тестирование модели"
   ]
  },
  {
   "cell_type": "markdown",
   "metadata": {},
   "source": [
    "Получаем наилучшую модель случайного леса (max_depth=9, n_estimators=71, random_state=12345) с балансировкой методом upsampling."
   ]
  },
  {
   "cell_type": "markdown",
   "metadata": {},
   "source": [
    "Проверим модель на тестовой выборке"
   ]
  },
  {
   "cell_type": "code",
   "execution_count": 82,
   "metadata": {},
   "outputs": [
    {
     "data": {
      "text/plain": [
       "RandomForestClassifier(max_depth=9, n_estimators=71, random_state=12345)"
      ]
     },
     "execution_count": 82,
     "metadata": {},
     "output_type": "execute_result"
    }
   ],
   "source": [
    "best_model_rf_up"
   ]
  },
  {
   "cell_type": "code",
   "execution_count": 83,
   "metadata": {},
   "outputs": [
    {
     "data": {
      "text/plain": [
       "0.6064382139148494"
      ]
     },
     "execution_count": 83,
     "metadata": {},
     "output_type": "execute_result"
    }
   ],
   "source": [
    "predicted_test = best_model_rf_up.predict(new_features_test)\n",
    "f1 = f1_score(target_test, predicted_test)\n",
    "f1"
   ]
  },
  {
   "cell_type": "code",
   "execution_count": 85,
   "metadata": {},
   "outputs": [
    {
     "name": "stdout",
     "output_type": "stream",
     "text": [
      "                    AUC-ROC for Random Forest best 0.8533709305306332\n"
     ]
    },
    {
     "data": {
      "image/png": "[encoded data removed]",
      "text/plain": [
       "<Figure size 432x288 with 1 Axes>"
      ]
     },
     "metadata": {
      "needs_background": "light"
     },
     "output_type": "display_data"
    }
   ],
   "source": [
    "auc_roc_show(best_model_rf_up, new_features_test, target_test, 'Random Forest best')"
   ]
  },
  {
   "cell_type": "markdown",
   "metadata": {},
   "source": [
    "На тестовой выборке получаем значение F1 метрики равной 0.606. Попробуем обучить модель на тренировочной и валидационной выборках, чтобы получить наибольшее значение метрики при тестировании."
   ]
  },
  {
   "cell_type": "code",
   "execution_count": 86,
   "metadata": {},
   "outputs": [],
   "source": [
    "# обьединяем тренировочную и валидационную выборки\n",
    "all_feauters_train = pd.concat([new_features_train]+[new_features_valid])\n",
    "all_target_train = pd.concat([target_train]+[target_valid])\n",
    "all_feauters_train, all_target_train = shuffle(all_feauters_train, all_target_train, random_state=12345)"
   ]
  },
  {
   "cell_type": "code",
   "execution_count": 87,
   "metadata": {},
   "outputs": [],
   "source": [
    "# балансируем\n",
    "all_feauters_train_up, all_target_train_up = upsample(all_feauters_train, all_target_train, 4)"
   ]
  },
  {
   "cell_type": "code",
   "execution_count": 88,
   "metadata": {},
   "outputs": [
    {
     "data": {
      "text/plain": [
       "0.6166666666666666"
      ]
     },
     "execution_count": 88,
     "metadata": {},
     "output_type": "execute_result"
    }
   ],
   "source": [
    "# Фиттируем и определяем метрику\n",
    "best_model_rf_up_all = RandomForestClassifier(max_depth=9, n_estimators=71, random_state=12345)\n",
    "\n",
    "best_model_rf_up_all.fit(all_feauters_train_up,all_target_train_up)\n",
    "predicted_test = best_model_rf_up_all.predict(new_features_test)\n",
    "f1 = f1_score(target_test, predicted_test)\n",
    "f1\n"
   ]
  },
  {
   "cell_type": "code",
   "execution_count": 89,
   "metadata": {},
   "outputs": [
    {
     "name": "stdout",
     "output_type": "stream",
     "text": [
      "                    AUC-ROC for Random Forest best 0.8564065894035267\n"
     ]
    },
    {
     "data": {
      "image/png": "[encoded data removed]",
      "text/plain": [
       "<Figure size 432x288 with 1 Axes>"
      ]
     },
     "metadata": {
      "needs_background": "light"
     },
     "output_type": "display_data"
    }
   ],
   "source": [
    "auc_roc_show(best_model_rf_up_all, new_features_test, target_test, 'Random Forest best')"
   ]
  },
  {
   "cell_type": "markdown",
   "metadata": {},
   "source": [
    "Так, на тестовых данных получаем значение F1 метрики равной 0.617, а значение auc_roc = 0.856. Так, результат тестирования лучшей модели на тестовых данных немного меньше (на 0.01), чем на валидационных, что говорит о стабильности и хорошей точности модели."
   ]
  },
  {
   "cell_type": "markdown",
   "metadata": {},
   "source": [
    "## Общий вывод \n",
    "\n",
    "На этапе подготовки данных были заполнены пропуски, удалены неинформативные столбцы. Также категариальные данные были преобразованы в численный формат с помощью метода One-Hot-Encoding. Маштабирование численных признаков осуществлялось с помощью метода StandardScaler().\n",
    "\n",
    "При исследовании задачи был выявлен дисбаланс классов. Элементов трицательного класса примерно в 4 раза больше, чем положительных.\n",
    "\n",
    "Рассмотрим результат работы моделей на несбалансированной выборке.\n",
    "F1 мера для модели решающего дерева с глубиной дерева 6 равна 0.569. Для модели случайного леса при количестве деревьев 11 и  максимальной глубины 14 F1 = 0.594. Логистическая регрессия с силой регуляризации 0.6 показала наилучшее значение F1 меры, равное 0.332.\n",
    "Получаем, что модель с наибольшим значением F1 метрики - это модель случайного леса. Значение auc_roc для модели случайного леса также наибольшее - 0.824. Напомним, что площадь под кривой ошибок для случайной модели равна 0.5, таким образом, можем заметить, что даже без учета дисбаланса классов модель случайного леса работает довольно хорошо, но до идеала еще далеко.\n",
    "\n",
    "При использовании метода взвешивания классов получаем следующие результаты. Для модели дерева принятия решения с оптимальной глубиной дерева, равной 5, F1 метрика равна 0.596. Для модели случайного леса оптимальные гиперпараметры при сбалансированных тренировачных данных такие: количество деревьев - 71, максимальная глубина- 9; а значение F1 равно 0.628. Модель логистической регрессии показывает по-прежнему наименьшее значение F1 метрики относительно других моделей, так при силе регуляризации равной 0.3, F1 логистической регрессии равна 0.49.\n",
    "В итоге, при использовании метода взвешивания классов заметим рост F1 метрики для всех моделей по сравнению со значениями метрик моделей без учета дисбаланса. \n",
    "\n",
    "При использовании техкники upsampling для балансировки классов путем увеличения выборки, получаем следующие значения F1 метрики. Для модели решающего дерева с глубиной дерева 5 F1 = 0.596. Для модели случайного леса с количеством деревьев 71 и максимальной глубиной 9, F1 = 0.629. Для модели логистической регрессии с силой регуляризации = 0.1, F1 = 0.49. Интересно, что для дерева принятия решения значение метрики и гиперпараметры идентичны результатам при использовании метода балансировки. Для модели случайного леса колчество деревьев и максимальная глубина обучения также идентичны гиперпараметрам при использовании метода балансировки, но значение F1 меры больше на 0.001. Модель логистической регрессии при использовании техники upsampling показывает такое же значение F1 метрики, как и при балансировке, но при меньшем значении силы регуляризации.\n",
    "\n",
    "Получили результаты применения техники downsampling для балансировки клаcсов путем уменьшения выборки. \n",
    "Для модели решающего дерева с глубиной дерева 5, F1 метрика равна 0.594, что на 0.002 меньше, чем при использовании метода upsampling. \n",
    "Для модели случайного леса с количеством деревьев 91 и максимальной глубиной 8, F1 метрика равна 0.605 при уменьшении выборки. Заметим, результат метрики для модели случайного леса при использовании техники upsampling выше почти на 2 сотые. Также при уменьшении выборки наблюдается значительное увеличение количество деревьев (на 20), что может привести к переобучению на тестовых данных.  \n",
    "Для модели логистической регрессии с силой регуляризации = 0.1, F1 равна 0.49 при технике downsampling, идентичные результаты можем наблюдать при использовании текхники upsampling.\n",
    "\n",
    "Таким образом,  можем заметить, что все три метода борьбы с дисбалансом позволяют увеличить значение метрики F1 для всех моделей, в сравнении с метриками без учета дисбаланса. Также, наилучшие методы борьбы с дисбалансом - это техники балансировки и upsampling. Они дают почти одинаковые значения метрик для моделей. А результаты значений метрик моделей при импользовании техники downsampling ниже по сравнению с предыдущими двумя. \n",
    "В ходе исследования получили модель с наибольшим значением F1 метрики и, соответсвенно, auc_roc метрики. И это модель случайного леса со следующими гиперпараметрами: количество деревьев - 71, максимальная глубина - 9, и тренировочные данные для этой модели были сбалансированы методом upsampling. Максимальное значение F1 метрики на валидационной выборке такой модели достигает 0.629, а значение auc_roc равно 0.853.\n",
    "\n",
    "Результат тестирования наилучшей модели. На тестовых данных получаем значение F1 метрики равной 0.617, а значение auc_roc = 0.856. Так, результат тестирования лучшей модели на тестовых данных немного меньше (на 0.01), чем на валидационных, что говорит о стабильности и хорошей точности модели."
   ]
  },
  {
   "cell_type": "markdown",
   "metadata": {},
   "source": [
    "## Чек-лист готовности проекта"
   ]
  },
  {
   "cell_type": "markdown",
   "metadata": {},
   "source": [
    "Поставьте 'x' в выполненных пунктах. Далее нажмите Shift+Enter."
   ]
  },
  {
   "cell_type": "markdown",
   "metadata": {},
   "source": [
    "- [x]  Jupyter Notebook открыт\n",
    "- [x]  Весь код выполняется без ошибок\n",
    "- [x]  Ячейки с кодом расположены в порядке исполнения\n",
    "- [x]  Выполнен шаг 1: данные подготовлены\n",
    "- [x]  Выполнен шаг 2: задача исследована\n",
    "    - [x]  Исследован баланс классов\n",
    "    - [x]  Изучены модели без учёта дисбаланса\n",
    "    - [x]  Написаны выводы по результатам исследования\n",
    "- [x]  Выполнен шаг 3: учтён дисбаланс\n",
    "    - [x]  Применено несколько способов борьбы с дисбалансом\n",
    "    - [x]  Написаны выводы по результатам исследования\n",
    "- [x]  Выполнен шаг 4: проведено тестирование\n",
    "- [x]  Удалось достичь *F1*-меры не менее 0.59\n",
    "- [x]  Исследована метрика *AUC-ROC*"
   ]
  }
 ],
 "metadata": {
  "ExecuteTimeLog": [
   {
    "duration": 1135,
    "start_time": "2023-01-19T12:09:20.574Z"
   },
   {
    "duration": 172,
    "start_time": "2023-01-19T12:09:22.875Z"
   },
   {
    "duration": 21,
    "start_time": "2023-01-19T12:09:47.610Z"
   },
   {
    "duration": 22,
    "start_time": "2023-01-19T12:10:05.669Z"
   },
   {
    "duration": 106,
    "start_time": "2023-01-19T12:46:17.188Z"
   },
   {
    "duration": 213,
    "start_time": "2023-01-19T12:50:00.172Z"
   },
   {
    "duration": 214,
    "start_time": "2023-01-19T12:50:11.255Z"
   },
   {
    "duration": 27,
    "start_time": "2023-01-19T12:54:23.660Z"
   },
   {
    "duration": 17,
    "start_time": "2023-01-19T12:54:53.365Z"
   },
   {
    "duration": 18,
    "start_time": "2023-01-19T12:55:19.915Z"
   },
   {
    "duration": 22,
    "start_time": "2023-01-19T12:56:08.018Z"
   },
   {
    "duration": 3,
    "start_time": "2023-01-19T12:58:36.271Z"
   },
   {
    "duration": 26,
    "start_time": "2023-01-19T13:01:03.560Z"
   },
   {
    "duration": 29,
    "start_time": "2023-01-19T13:01:22.463Z"
   },
   {
    "duration": 1133,
    "start_time": "2023-01-20T09:09:11.869Z"
   },
   {
    "duration": 87,
    "start_time": "2023-01-20T09:09:13.004Z"
   },
   {
    "duration": 23,
    "start_time": "2023-01-20T09:09:13.654Z"
   },
   {
    "duration": 12,
    "start_time": "2023-01-20T09:09:15.128Z"
   },
   {
    "duration": 20,
    "start_time": "2023-01-20T09:09:16.149Z"
   },
   {
    "duration": 25,
    "start_time": "2023-01-20T09:09:17.227Z"
   },
   {
    "duration": 30,
    "start_time": "2023-01-20T09:09:18.100Z"
   },
   {
    "duration": 108,
    "start_time": "2023-01-20T09:10:42.904Z"
   },
   {
    "duration": 10,
    "start_time": "2023-01-20T09:10:58.347Z"
   },
   {
    "duration": 515,
    "start_time": "2023-01-20T09:16:37.617Z"
   },
   {
    "duration": 3,
    "start_time": "2023-01-20T09:26:50.608Z"
   },
   {
    "duration": 27,
    "start_time": "2023-01-20T09:28:01.945Z"
   },
   {
    "duration": 14,
    "start_time": "2023-01-20T09:28:40.454Z"
   },
   {
    "duration": 3,
    "start_time": "2023-01-20T09:29:24.648Z"
   },
   {
    "duration": 34,
    "start_time": "2023-01-20T09:29:24.954Z"
   },
   {
    "duration": 14,
    "start_time": "2023-01-20T09:29:25.314Z"
   },
   {
    "duration": 12,
    "start_time": "2023-01-20T09:29:25.601Z"
   },
   {
    "duration": 17,
    "start_time": "2023-01-20T09:29:25.947Z"
   },
   {
    "duration": 17,
    "start_time": "2023-01-20T09:29:29.268Z"
   },
   {
    "duration": 26,
    "start_time": "2023-01-20T09:29:30.181Z"
   },
   {
    "duration": 7,
    "start_time": "2023-01-20T09:29:30.743Z"
   },
   {
    "duration": 100,
    "start_time": "2023-01-20T09:29:33.446Z"
   },
   {
    "duration": 17,
    "start_time": "2023-01-20T09:29:35.906Z"
   },
   {
    "duration": 18,
    "start_time": "2023-01-20T09:30:01.417Z"
   },
   {
    "duration": 10,
    "start_time": "2023-01-20T09:30:23.502Z"
   },
   {
    "duration": 9,
    "start_time": "2023-01-20T09:30:36.642Z"
   },
   {
    "duration": 9,
    "start_time": "2023-01-20T09:33:28.602Z"
   },
   {
    "duration": 12,
    "start_time": "2023-01-20T09:33:55.133Z"
   },
   {
    "duration": 3,
    "start_time": "2023-01-20T09:35:49.853Z"
   },
   {
    "duration": 40,
    "start_time": "2023-01-20T09:35:51.415Z"
   },
   {
    "duration": 15,
    "start_time": "2023-01-20T09:35:52.181Z"
   },
   {
    "duration": 12,
    "start_time": "2023-01-20T09:35:55.892Z"
   },
   {
    "duration": 21,
    "start_time": "2023-01-20T09:38:30.505Z"
   },
   {
    "duration": 6,
    "start_time": "2023-01-20T09:40:57.903Z"
   },
   {
    "duration": 19,
    "start_time": "2023-01-20T09:41:26.071Z"
   },
   {
    "duration": 7,
    "start_time": "2023-01-20T09:42:39.689Z"
   },
   {
    "duration": 10,
    "start_time": "2023-01-20T09:45:45.474Z"
   },
   {
    "duration": 11,
    "start_time": "2023-01-20T09:46:25.049Z"
   },
   {
    "duration": 11,
    "start_time": "2023-01-20T09:47:20.506Z"
   },
   {
    "duration": 12,
    "start_time": "2023-01-20T09:47:57.363Z"
   },
   {
    "duration": 17,
    "start_time": "2023-01-20T09:48:03.874Z"
   },
   {
    "duration": 26,
    "start_time": "2023-01-20T09:48:07.048Z"
   },
   {
    "duration": 10,
    "start_time": "2023-01-20T09:48:09.761Z"
   },
   {
    "duration": 9,
    "start_time": "2023-01-20T09:48:12.722Z"
   },
   {
    "duration": 105,
    "start_time": "2023-01-20T09:48:17.523Z"
   },
   {
    "duration": 53,
    "start_time": "2023-01-20T09:48:20.822Z"
   },
   {
    "duration": 3,
    "start_time": "2023-01-20T10:18:30.041Z"
   },
   {
    "duration": 7,
    "start_time": "2023-01-20T10:18:57.939Z"
   },
   {
    "duration": 6,
    "start_time": "2023-01-20T10:20:35.775Z"
   },
   {
    "duration": 4,
    "start_time": "2023-01-20T10:20:47.356Z"
   },
   {
    "duration": 6,
    "start_time": "2023-01-20T10:20:52.225Z"
   },
   {
    "duration": 8,
    "start_time": "2023-01-20T10:23:50.710Z"
   },
   {
    "duration": 3,
    "start_time": "2023-01-20T10:24:52.418Z"
   },
   {
    "duration": 5,
    "start_time": "2023-01-20T10:25:40.271Z"
   },
   {
    "duration": 12,
    "start_time": "2023-01-20T10:25:43.329Z"
   },
   {
    "duration": 7,
    "start_time": "2023-01-20T10:26:12.675Z"
   },
   {
    "duration": 6,
    "start_time": "2023-01-20T10:26:13.542Z"
   },
   {
    "duration": 3,
    "start_time": "2023-01-20T10:40:09.541Z"
   },
   {
    "duration": 3,
    "start_time": "2023-01-20T10:41:37.008Z"
   },
   {
    "duration": 94,
    "start_time": "2023-01-20T10:43:22.106Z"
   },
   {
    "duration": 16,
    "start_time": "2023-01-20T10:44:07.092Z"
   },
   {
    "duration": 104,
    "start_time": "2023-01-20T10:44:20.885Z"
   },
   {
    "duration": 6,
    "start_time": "2023-01-20T10:45:12.026Z"
   },
   {
    "duration": 7,
    "start_time": "2023-01-20T10:45:16.959Z"
   },
   {
    "duration": 4,
    "start_time": "2023-01-20T11:26:20.339Z"
   },
   {
    "duration": 34,
    "start_time": "2023-01-20T11:26:21.548Z"
   },
   {
    "duration": 17,
    "start_time": "2023-01-20T11:26:21.996Z"
   },
   {
    "duration": 12,
    "start_time": "2023-01-20T11:26:26.094Z"
   },
   {
    "duration": 5,
    "start_time": "2023-01-20T11:26:26.360Z"
   },
   {
    "duration": 22,
    "start_time": "2023-01-20T11:26:26.826Z"
   },
   {
    "duration": 7,
    "start_time": "2023-01-20T11:26:27.091Z"
   },
   {
    "duration": 12,
    "start_time": "2023-01-20T11:26:27.440Z"
   },
   {
    "duration": 19,
    "start_time": "2023-01-20T11:26:27.638Z"
   },
   {
    "duration": 28,
    "start_time": "2023-01-20T11:26:27.831Z"
   },
   {
    "duration": 13,
    "start_time": "2023-01-20T11:26:28.038Z"
   },
   {
    "duration": 10,
    "start_time": "2023-01-20T11:26:28.204Z"
   },
   {
    "duration": 139,
    "start_time": "2023-01-20T11:26:28.854Z"
   },
   {
    "duration": 57,
    "start_time": "2023-01-20T11:26:33.009Z"
   },
   {
    "duration": 6,
    "start_time": "2023-01-20T11:26:33.656Z"
   },
   {
    "duration": 5,
    "start_time": "2023-01-20T11:26:34.192Z"
   },
   {
    "duration": 8,
    "start_time": "2023-01-20T11:26:34.905Z"
   },
   {
    "duration": 4,
    "start_time": "2023-01-20T11:26:35.526Z"
   },
   {
    "duration": 89,
    "start_time": "2023-01-20T11:26:39.507Z"
   },
   {
    "duration": 212,
    "start_time": "2023-01-20T11:26:40.224Z"
   },
   {
    "duration": 6,
    "start_time": "2023-01-20T11:26:40.909Z"
   },
   {
    "duration": 110,
    "start_time": "2023-01-20T11:30:54.756Z"
   },
   {
    "duration": 21,
    "start_time": "2023-01-20T11:33:36.177Z"
   },
   {
    "duration": 11,
    "start_time": "2023-01-20T11:35:20.093Z"
   },
   {
    "duration": 9,
    "start_time": "2023-01-20T11:35:36.292Z"
   },
   {
    "duration": 108,
    "start_time": "2023-01-20T11:35:37.241Z"
   },
   {
    "duration": 6,
    "start_time": "2023-01-20T11:35:42.844Z"
   },
   {
    "duration": 21,
    "start_time": "2023-01-20T11:38:53.553Z"
   },
   {
    "duration": 4,
    "start_time": "2023-01-20T11:39:57.373Z"
   },
   {
    "duration": 45,
    "start_time": "2023-01-20T11:40:04.644Z"
   },
   {
    "duration": 13,
    "start_time": "2023-01-20T11:41:22.194Z"
   },
   {
    "duration": 108,
    "start_time": "2023-01-20T11:41:23.726Z"
   },
   {
    "duration": 6,
    "start_time": "2023-01-20T11:41:27.695Z"
   },
   {
    "duration": 20,
    "start_time": "2023-01-20T11:43:39.444Z"
   },
   {
    "duration": 8,
    "start_time": "2023-01-20T11:44:25.977Z"
   },
   {
    "duration": 114,
    "start_time": "2023-01-20T11:44:27.336Z"
   },
   {
    "duration": 7,
    "start_time": "2023-01-20T11:44:32.415Z"
   },
   {
    "duration": 47,
    "start_time": "2023-01-20T11:48:17.046Z"
   },
   {
    "duration": 30,
    "start_time": "2023-01-20T11:48:25.463Z"
   },
   {
    "duration": 4,
    "start_time": "2023-01-20T11:48:47.575Z"
   },
   {
    "duration": 179,
    "start_time": "2023-01-20T11:48:56.126Z"
   },
   {
    "duration": 14,
    "start_time": "2023-01-20T11:49:57.820Z"
   },
   {
    "duration": 110,
    "start_time": "2023-01-20T11:49:58.474Z"
   },
   {
    "duration": 7,
    "start_time": "2023-01-20T11:50:01.990Z"
   },
   {
    "duration": 14,
    "start_time": "2023-01-20T11:56:39.481Z"
   },
   {
    "duration": 20,
    "start_time": "2023-01-20T11:56:40.343Z"
   },
   {
    "duration": 21,
    "start_time": "2023-01-20T11:57:41.903Z"
   },
   {
    "duration": 5,
    "start_time": "2023-01-20T11:57:42.706Z"
   },
   {
    "duration": 107,
    "start_time": "2023-01-20T11:58:00.581Z"
   },
   {
    "duration": 7,
    "start_time": "2023-01-20T11:58:04.324Z"
   },
   {
    "duration": 22,
    "start_time": "2023-01-20T12:00:50.317Z"
   },
   {
    "duration": 7,
    "start_time": "2023-01-20T12:02:04.358Z"
   },
   {
    "duration": 110,
    "start_time": "2023-01-20T12:02:05.173Z"
   },
   {
    "duration": 7,
    "start_time": "2023-01-20T12:02:08.189Z"
   },
   {
    "duration": 42,
    "start_time": "2023-01-20T12:02:09.954Z"
   },
   {
    "duration": 7,
    "start_time": "2023-01-20T12:02:12.720Z"
   },
   {
    "duration": 121,
    "start_time": "2023-01-20T12:02:13.457Z"
   },
   {
    "duration": 6,
    "start_time": "2023-01-20T12:02:16.178Z"
   },
   {
    "duration": 21,
    "start_time": "2023-01-20T12:02:20.556Z"
   },
   {
    "duration": 13,
    "start_time": "2023-01-20T12:02:23.088Z"
   },
   {
    "duration": 113,
    "start_time": "2023-01-20T12:02:23.643Z"
   },
   {
    "duration": 50,
    "start_time": "2023-01-20T12:03:53.734Z"
   },
   {
    "duration": 6,
    "start_time": "2023-01-20T12:05:13.926Z"
   },
   {
    "duration": 112,
    "start_time": "2023-01-20T12:05:14.731Z"
   },
   {
    "duration": 8,
    "start_time": "2023-01-20T12:05:22.178Z"
   },
   {
    "duration": 51,
    "start_time": "2023-01-20T12:07:53.717Z"
   },
   {
    "duration": 5,
    "start_time": "2023-01-20T12:07:54.702Z"
   },
   {
    "duration": 6,
    "start_time": "2023-01-20T12:07:55.666Z"
   },
   {
    "duration": 7,
    "start_time": "2023-01-20T12:07:56.645Z"
   },
   {
    "duration": 12,
    "start_time": "2023-01-20T12:20:08.168Z"
   },
   {
    "duration": 943,
    "start_time": "2023-01-20T12:21:18.228Z"
   },
   {
    "duration": 52,
    "start_time": "2023-01-20T12:25:38.772Z"
   },
   {
    "duration": 5,
    "start_time": "2023-01-20T12:25:39.650Z"
   },
   {
    "duration": 6,
    "start_time": "2023-01-20T12:25:40.562Z"
   },
   {
    "duration": 109,
    "start_time": "2023-01-20T12:25:41.346Z"
   },
   {
    "duration": 6,
    "start_time": "2023-01-20T12:25:45.264Z"
   },
   {
    "duration": 909,
    "start_time": "2023-01-20T12:26:22.173Z"
   },
   {
    "duration": 23,
    "start_time": "2023-01-20T12:26:26.188Z"
   },
   {
    "duration": 58,
    "start_time": "2023-01-20T12:27:48.480Z"
   },
   {
    "duration": 114,
    "start_time": "2023-01-20T12:27:49.751Z"
   },
   {
    "duration": 6,
    "start_time": "2023-01-20T12:27:56.221Z"
   },
   {
    "duration": 22,
    "start_time": "2023-01-20T12:29:07.312Z"
   },
   {
    "duration": 122,
    "start_time": "2023-01-20T12:29:08.733Z"
   },
   {
    "duration": 6,
    "start_time": "2023-01-20T12:29:12.295Z"
   },
   {
    "duration": 977,
    "start_time": "2023-01-20T12:33:40.924Z"
   },
   {
    "duration": 66,
    "start_time": "2023-01-20T12:34:05.089Z"
   },
   {
    "duration": 109,
    "start_time": "2023-01-20T12:34:06.803Z"
   },
   {
    "duration": 6,
    "start_time": "2023-01-20T12:34:09.864Z"
   },
   {
    "duration": 1780,
    "start_time": "2023-01-20T12:35:12.319Z"
   },
   {
    "duration": 67,
    "start_time": "2023-01-20T12:35:30.740Z"
   },
   {
    "duration": 118,
    "start_time": "2023-01-20T12:35:32.821Z"
   },
   {
    "duration": 5,
    "start_time": "2023-01-20T12:35:35.742Z"
   },
   {
    "duration": 355,
    "start_time": "2023-01-20T12:36:22.068Z"
   },
   {
    "duration": 49,
    "start_time": "2023-01-20T12:36:24.679Z"
   },
   {
    "duration": 108,
    "start_time": "2023-01-20T12:36:26.757Z"
   },
   {
    "duration": 6,
    "start_time": "2023-01-20T12:36:29.572Z"
   },
   {
    "duration": 1000,
    "start_time": "2023-01-20T12:37:23.602Z"
   },
   {
    "duration": 1800,
    "start_time": "2023-01-21T07:05:55.057Z"
   },
   {
    "duration": 38,
    "start_time": "2023-01-21T07:05:56.859Z"
   },
   {
    "duration": 20,
    "start_time": "2023-01-21T07:05:56.899Z"
   },
   {
    "duration": 14,
    "start_time": "2023-01-21T07:05:56.921Z"
   },
   {
    "duration": 13,
    "start_time": "2023-01-21T07:05:56.938Z"
   },
   {
    "duration": 33,
    "start_time": "2023-01-21T07:05:56.952Z"
   },
   {
    "duration": 6,
    "start_time": "2023-01-21T07:05:56.987Z"
   },
   {
    "duration": 26,
    "start_time": "2023-01-21T07:05:56.995Z"
   },
   {
    "duration": 22,
    "start_time": "2023-01-21T07:05:57.023Z"
   },
   {
    "duration": 54,
    "start_time": "2023-01-21T07:05:57.047Z"
   },
   {
    "duration": 12,
    "start_time": "2023-01-21T07:05:57.102Z"
   },
   {
    "duration": 28,
    "start_time": "2023-01-21T07:05:57.117Z"
   },
   {
    "duration": 163,
    "start_time": "2023-01-21T07:05:57.148Z"
   },
   {
    "duration": 2023,
    "start_time": "2023-01-21T07:06:07.642Z"
   },
   {
    "duration": 145,
    "start_time": "2023-01-21T07:06:14.408Z"
   },
   {
    "duration": 452,
    "start_time": "2023-01-21T07:06:39.496Z"
   },
   {
    "duration": 154,
    "start_time": "2023-01-21T07:06:45.904Z"
   },
   {
    "duration": 1691,
    "start_time": "2023-01-24T11:41:56.580Z"
   },
   {
    "duration": 202,
    "start_time": "2023-01-24T11:42:11.466Z"
   },
   {
    "duration": 22,
    "start_time": "2023-01-24T11:42:12.435Z"
   },
   {
    "duration": 15,
    "start_time": "2023-01-24T11:42:16.177Z"
   },
   {
    "duration": 5,
    "start_time": "2023-01-24T11:42:34.952Z"
   },
   {
    "duration": 16,
    "start_time": "2023-01-24T11:48:26.102Z"
   },
   {
    "duration": 45,
    "start_time": "2023-01-24T11:48:42.881Z"
   },
   {
    "duration": 18,
    "start_time": "2023-01-24T11:48:43.201Z"
   },
   {
    "duration": 15,
    "start_time": "2023-01-24T11:48:43.477Z"
   },
   {
    "duration": 6,
    "start_time": "2023-01-24T11:48:43.780Z"
   },
   {
    "duration": 23,
    "start_time": "2023-01-24T11:48:45.780Z"
   },
   {
    "duration": 7,
    "start_time": "2023-01-24T11:48:46.350Z"
   },
   {
    "duration": 13,
    "start_time": "2023-01-24T11:48:49.436Z"
   },
   {
    "duration": 1553,
    "start_time": "2023-01-25T09:22:52.914Z"
   },
   {
    "duration": 82,
    "start_time": "2023-01-25T09:23:00.596Z"
   },
   {
    "duration": 27,
    "start_time": "2023-01-25T09:23:01.024Z"
   },
   {
    "duration": 16,
    "start_time": "2023-01-25T09:23:03.529Z"
   },
   {
    "duration": 4,
    "start_time": "2023-01-25T09:23:06.446Z"
   },
   {
    "duration": 22,
    "start_time": "2023-01-25T09:23:09.823Z"
   },
   {
    "duration": 7,
    "start_time": "2023-01-25T09:23:16.729Z"
   },
   {
    "duration": 14,
    "start_time": "2023-01-25T09:23:20.065Z"
   },
   {
    "duration": 11,
    "start_time": "2023-01-25T09:23:29.245Z"
   },
   {
    "duration": 4,
    "start_time": "2023-01-25T09:27:15.040Z"
   },
   {
    "duration": 108,
    "start_time": "2023-01-25T09:27:47.841Z"
   },
   {
    "duration": 6,
    "start_time": "2023-01-25T09:27:57.106Z"
   },
   {
    "duration": 6,
    "start_time": "2023-01-25T09:28:18.531Z"
   },
   {
    "duration": 6,
    "start_time": "2023-01-25T09:28:45.569Z"
   },
   {
    "duration": 17,
    "start_time": "2023-01-25T09:31:08.478Z"
   },
   {
    "duration": 33,
    "start_time": "2023-01-25T09:31:17.345Z"
   },
   {
    "duration": 17,
    "start_time": "2023-01-25T09:32:11.867Z"
   },
   {
    "duration": 10,
    "start_time": "2023-01-25T09:35:09.479Z"
   },
   {
    "duration": 10,
    "start_time": "2023-01-25T09:35:35.477Z"
   },
   {
    "duration": 10,
    "start_time": "2023-01-25T09:35:44.913Z"
   },
   {
    "duration": 10,
    "start_time": "2023-01-25T09:35:45.599Z"
   },
   {
    "duration": 10,
    "start_time": "2023-01-25T09:36:02.281Z"
   },
   {
    "duration": 17,
    "start_time": "2023-01-25T09:36:13.711Z"
   },
   {
    "duration": 57,
    "start_time": "2023-01-25T09:38:04.793Z"
   },
   {
    "duration": 10,
    "start_time": "2023-01-25T09:38:14.041Z"
   },
   {
    "duration": 24,
    "start_time": "2023-01-25T09:38:14.840Z"
   },
   {
    "duration": 226,
    "start_time": "2023-01-25T10:04:40.039Z"
   },
   {
    "duration": 18,
    "start_time": "2023-01-25T10:05:01.420Z"
   },
   {
    "duration": 718,
    "start_time": "2023-01-25T10:05:26.971Z"
   },
   {
    "duration": 16,
    "start_time": "2023-01-25T10:30:59.678Z"
   },
   {
    "duration": 12,
    "start_time": "2023-01-25T10:31:25.929Z"
   },
   {
    "duration": 13,
    "start_time": "2023-01-25T10:31:37.525Z"
   },
   {
    "duration": 16,
    "start_time": "2023-01-25T10:31:45.891Z"
   },
   {
    "duration": 21,
    "start_time": "2023-01-25T10:35:42.946Z"
   },
   {
    "duration": 24,
    "start_time": "2023-01-25T10:35:56.252Z"
   },
   {
    "duration": 14,
    "start_time": "2023-01-25T10:37:23.779Z"
   },
   {
    "duration": 26,
    "start_time": "2023-01-25T10:37:58.888Z"
   },
   {
    "duration": 30,
    "start_time": "2023-01-25T10:43:15.643Z"
   },
   {
    "duration": 35,
    "start_time": "2023-01-25T10:46:32.151Z"
   },
   {
    "duration": 46,
    "start_time": "2023-01-25T10:46:48.201Z"
   },
   {
    "duration": 40,
    "start_time": "2023-01-25T10:46:56.741Z"
   },
   {
    "duration": 49,
    "start_time": "2023-01-25T10:47:05.593Z"
   },
   {
    "duration": 36,
    "start_time": "2023-01-25T10:47:50.242Z"
   },
   {
    "duration": 17,
    "start_time": "2023-01-25T10:47:50.476Z"
   },
   {
    "duration": 13,
    "start_time": "2023-01-25T10:47:50.707Z"
   },
   {
    "duration": 5,
    "start_time": "2023-01-25T10:47:50.923Z"
   },
   {
    "duration": 22,
    "start_time": "2023-01-25T10:47:51.892Z"
   },
   {
    "duration": 6,
    "start_time": "2023-01-25T10:47:52.125Z"
   },
   {
    "duration": 16,
    "start_time": "2023-01-25T10:47:53.008Z"
   },
   {
    "duration": 4,
    "start_time": "2023-01-25T10:47:54.038Z"
   },
   {
    "duration": 8,
    "start_time": "2023-01-25T10:47:55.822Z"
   },
   {
    "duration": 18,
    "start_time": "2023-01-25T10:48:48.700Z"
   },
   {
    "duration": 222,
    "start_time": "2023-01-25T10:48:53.731Z"
   },
   {
    "duration": 17,
    "start_time": "2023-01-25T10:51:29.332Z"
   },
   {
    "duration": 19,
    "start_time": "2023-01-25T10:52:09.050Z"
   },
   {
    "duration": 6,
    "start_time": "2023-01-25T10:53:12.705Z"
   },
   {
    "duration": 20,
    "start_time": "2023-01-25T10:53:17.653Z"
   },
   {
    "duration": 5,
    "start_time": "2023-01-25T10:54:24.665Z"
   },
   {
    "duration": 18,
    "start_time": "2023-01-25T10:54:36.865Z"
   },
   {
    "duration": 14,
    "start_time": "2023-01-25T10:58:16.982Z"
   },
   {
    "duration": 11,
    "start_time": "2023-01-25T10:58:25.842Z"
   },
   {
    "duration": 11,
    "start_time": "2023-01-25T11:01:28.067Z"
   },
   {
    "duration": 16,
    "start_time": "2023-01-25T11:02:07.714Z"
   },
   {
    "duration": 19,
    "start_time": "2023-01-25T11:03:50.831Z"
   },
   {
    "duration": 26,
    "start_time": "2023-01-25T11:04:17.718Z"
   },
   {
    "duration": 30,
    "start_time": "2023-01-25T11:04:30.723Z"
   },
   {
    "duration": 25,
    "start_time": "2023-01-25T11:04:46.949Z"
   },
   {
    "duration": 40,
    "start_time": "2023-01-25T11:06:29.337Z"
   },
   {
    "duration": 10,
    "start_time": "2023-01-25T11:10:05.555Z"
   },
   {
    "duration": 18,
    "start_time": "2023-01-25T11:10:06.326Z"
   },
   {
    "duration": 4,
    "start_time": "2023-01-25T11:10:09.181Z"
   },
   {
    "duration": 31,
    "start_time": "2023-01-25T11:10:12.517Z"
   },
   {
    "duration": 51,
    "start_time": "2023-01-25T11:10:25.544Z"
   },
   {
    "duration": 12,
    "start_time": "2023-01-25T11:10:40.452Z"
   },
   {
    "duration": 1554,
    "start_time": "2023-01-25T11:42:06.183Z"
   },
   {
    "duration": 195,
    "start_time": "2023-01-25T11:42:09.171Z"
   },
   {
    "duration": 21,
    "start_time": "2023-01-25T11:42:09.641Z"
   },
   {
    "duration": 13,
    "start_time": "2023-01-25T11:42:10.288Z"
   },
   {
    "duration": 4,
    "start_time": "2023-01-25T11:42:10.853Z"
   },
   {
    "duration": 22,
    "start_time": "2023-01-25T11:42:13.071Z"
   },
   {
    "duration": 6,
    "start_time": "2023-01-25T11:42:13.509Z"
   },
   {
    "duration": 15,
    "start_time": "2023-01-25T11:42:14.340Z"
   },
   {
    "duration": 3,
    "start_time": "2023-01-25T11:42:15.238Z"
   },
   {
    "duration": 11,
    "start_time": "2023-01-25T11:42:16.602Z"
   },
   {
    "duration": 16,
    "start_time": "2023-01-25T11:42:17.070Z"
   },
   {
    "duration": 3,
    "start_time": "2023-01-25T11:42:17.566Z"
   },
   {
    "duration": 26,
    "start_time": "2023-01-25T11:42:18.052Z"
   },
   {
    "duration": 51,
    "start_time": "2023-01-25T11:42:18.652Z"
   },
   {
    "duration": 129,
    "start_time": "2023-01-25T11:42:22.321Z"
   },
   {
    "duration": 129,
    "start_time": "2023-01-25T12:01:30.817Z"
   },
   {
    "duration": 19,
    "start_time": "2023-01-25T12:02:11.750Z"
   },
   {
    "duration": 135,
    "start_time": "2023-01-25T12:02:39.630Z"
   },
   {
    "duration": 4,
    "start_time": "2023-01-25T12:02:51.000Z"
   },
   {
    "duration": 42,
    "start_time": "2023-01-25T12:02:51.497Z"
   },
   {
    "duration": 24,
    "start_time": "2023-01-25T12:02:51.762Z"
   },
   {
    "duration": 12,
    "start_time": "2023-01-25T12:02:52.007Z"
   },
   {
    "duration": 5,
    "start_time": "2023-01-25T12:02:52.238Z"
   },
   {
    "duration": 22,
    "start_time": "2023-01-25T12:02:53.375Z"
   },
   {
    "duration": 6,
    "start_time": "2023-01-25T12:02:53.604Z"
   },
   {
    "duration": 15,
    "start_time": "2023-01-25T12:02:54.080Z"
   },
   {
    "duration": 11,
    "start_time": "2023-01-25T12:02:55.272Z"
   },
   {
    "duration": 16,
    "start_time": "2023-01-25T12:02:55.782Z"
   },
   {
    "duration": 6,
    "start_time": "2023-01-25T12:02:56.044Z"
   },
   {
    "duration": 28,
    "start_time": "2023-01-25T12:02:56.329Z"
   },
   {
    "duration": 55,
    "start_time": "2023-01-25T12:02:57.175Z"
   },
   {
    "duration": 143,
    "start_time": "2023-01-25T12:02:58.896Z"
   },
   {
    "duration": 19,
    "start_time": "2023-01-25T12:03:01.980Z"
   },
   {
    "duration": 12,
    "start_time": "2023-01-25T12:03:32.672Z"
   },
   {
    "duration": 14,
    "start_time": "2023-01-25T12:03:43.439Z"
   },
   {
    "duration": 47,
    "start_time": "2023-01-25T12:04:25.668Z"
   },
   {
    "duration": 43,
    "start_time": "2023-01-25T12:04:36.197Z"
   },
   {
    "duration": 75,
    "start_time": "2023-01-25T12:05:24.305Z"
   },
   {
    "duration": 91,
    "start_time": "2023-01-25T12:06:48.629Z"
   },
   {
    "duration": 78,
    "start_time": "2023-01-25T12:06:54.211Z"
   },
   {
    "duration": 81,
    "start_time": "2023-01-25T12:07:13.130Z"
   },
   {
    "duration": 10,
    "start_time": "2023-01-25T12:07:44.638Z"
   },
   {
    "duration": 136,
    "start_time": "2023-01-25T12:07:45.371Z"
   },
   {
    "duration": 8,
    "start_time": "2023-01-25T12:07:52.544Z"
   },
   {
    "duration": 15,
    "start_time": "2023-01-25T12:09:07.752Z"
   },
   {
    "duration": 10,
    "start_time": "2023-01-25T12:09:55.567Z"
   },
   {
    "duration": 27,
    "start_time": "2023-01-25T12:10:10.532Z"
   },
   {
    "duration": 239,
    "start_time": "2023-01-25T12:10:15.167Z"
   },
   {
    "duration": 8,
    "start_time": "2023-01-25T12:10:18.112Z"
   },
   {
    "duration": 451,
    "start_time": "2023-01-25T12:13:34.282Z"
   },
   {
    "duration": 22,
    "start_time": "2023-01-25T12:13:48.283Z"
   },
   {
    "duration": 140,
    "start_time": "2023-01-25T12:13:51.099Z"
   },
   {
    "duration": 6,
    "start_time": "2023-01-25T12:13:54.065Z"
   },
   {
    "duration": 9030,
    "start_time": "2023-01-25T12:15:46.752Z"
   },
   {
    "duration": 49023,
    "start_time": "2023-01-25T12:16:14.862Z"
   },
   {
    "duration": 21,
    "start_time": "2023-01-25T12:18:13.602Z"
   },
   {
    "duration": 50242,
    "start_time": "2023-01-25T12:18:19.931Z"
   },
   {
    "duration": 6,
    "start_time": "2023-01-25T12:20:57.917Z"
   },
   {
    "duration": 12,
    "start_time": "2023-01-25T12:21:22.700Z"
   },
   {
    "duration": 137,
    "start_time": "2023-01-25T12:21:25.753Z"
   },
   {
    "duration": 8,
    "start_time": "2023-01-25T12:21:31.616Z"
   },
   {
    "duration": 99,
    "start_time": "2023-01-25T12:31:30.919Z"
   },
   {
    "duration": 16,
    "start_time": "2023-01-25T12:31:37.548Z"
   },
   {
    "duration": 11,
    "start_time": "2023-01-25T12:31:42.469Z"
   },
   {
    "duration": 17,
    "start_time": "2023-01-25T12:31:48.048Z"
   },
   {
    "duration": 235,
    "start_time": "2023-01-25T12:32:22.555Z"
   },
   {
    "duration": 9,
    "start_time": "2023-01-25T12:35:16.422Z"
   },
   {
    "duration": 4,
    "start_time": "2023-01-25T12:35:30.221Z"
   },
   {
    "duration": 42,
    "start_time": "2023-01-25T12:35:31.243Z"
   },
   {
    "duration": 17,
    "start_time": "2023-01-25T12:35:31.472Z"
   },
   {
    "duration": 15,
    "start_time": "2023-01-25T12:35:31.663Z"
   },
   {
    "duration": 6,
    "start_time": "2023-01-25T12:35:31.860Z"
   },
   {
    "duration": 33,
    "start_time": "2023-01-25T12:35:32.944Z"
   },
   {
    "duration": 7,
    "start_time": "2023-01-25T12:35:33.164Z"
   },
   {
    "duration": 16,
    "start_time": "2023-01-25T12:35:33.653Z"
   },
   {
    "duration": 9,
    "start_time": "2023-01-25T12:35:34.904Z"
   },
   {
    "duration": 18,
    "start_time": "2023-01-25T12:35:35.452Z"
   },
   {
    "duration": 5,
    "start_time": "2023-01-25T12:35:36.003Z"
   },
   {
    "duration": 29,
    "start_time": "2023-01-25T12:35:36.472Z"
   },
   {
    "duration": 62,
    "start_time": "2023-01-25T12:35:37.241Z"
   },
   {
    "duration": 143,
    "start_time": "2023-01-25T12:35:38.563Z"
   },
   {
    "duration": 509,
    "start_time": "2023-01-25T12:35:39.379Z"
   },
   {
    "duration": 21,
    "start_time": "2023-01-25T12:35:39.890Z"
   },
   {
    "duration": 148,
    "start_time": "2023-01-25T12:35:40.035Z"
   },
   {
    "duration": 6,
    "start_time": "2023-01-25T12:35:40.400Z"
   },
   {
    "duration": 52312,
    "start_time": "2023-01-25T12:35:41.798Z"
   },
   {
    "duration": 4,
    "start_time": "2023-01-25T12:36:34.111Z"
   },
   {
    "duration": 29,
    "start_time": "2023-01-25T12:36:34.116Z"
   },
   {
    "duration": 14,
    "start_time": "2023-01-25T12:36:50.729Z"
   },
   {
    "duration": 134,
    "start_time": "2023-01-25T12:36:51.728Z"
   },
   {
    "duration": 8,
    "start_time": "2023-01-25T12:36:54.467Z"
   },
   {
    "duration": 9,
    "start_time": "2023-01-25T12:37:00.948Z"
   },
   {
    "duration": 11,
    "start_time": "2023-01-25T12:37:17.905Z"
   },
   {
    "duration": 16,
    "start_time": "2023-01-25T12:37:34.897Z"
   },
   {
    "duration": 7,
    "start_time": "2023-01-25T12:37:43.992Z"
   },
   {
    "duration": 5,
    "start_time": "2023-01-25T12:38:13.620Z"
   },
   {
    "duration": 5,
    "start_time": "2023-01-25T12:40:43.904Z"
   },
   {
    "duration": 8,
    "start_time": "2023-01-25T12:41:03.005Z"
   },
   {
    "duration": 6,
    "start_time": "2023-01-25T12:41:08.922Z"
   },
   {
    "duration": 232,
    "start_time": "2023-01-25T12:41:15.928Z"
   },
   {
    "duration": 133,
    "start_time": "2023-01-25T12:42:18.408Z"
   },
   {
    "duration": 83,
    "start_time": "2023-01-25T12:42:52.855Z"
   },
   {
    "duration": 1775,
    "start_time": "2023-01-25T12:43:03.873Z"
   },
   {
    "duration": 960,
    "start_time": "2023-01-25T12:43:31.884Z"
   },
   {
    "duration": 94,
    "start_time": "2023-01-25T12:44:14.948Z"
   },
   {
    "duration": 991,
    "start_time": "2023-01-25T12:44:22.750Z"
   },
   {
    "duration": 251,
    "start_time": "2023-01-25T12:45:12.688Z"
   },
   {
    "duration": 9,
    "start_time": "2023-01-25T12:45:25.003Z"
   },
   {
    "duration": 451,
    "start_time": "2023-01-25T12:51:06.156Z"
   },
   {
    "duration": 4,
    "start_time": "2023-01-25T12:53:20.156Z"
   },
   {
    "duration": 7,
    "start_time": "2023-01-25T12:53:26.317Z"
   },
   {
    "duration": 141,
    "start_time": "2023-01-25T12:53:28.897Z"
   },
   {
    "duration": 7,
    "start_time": "2023-01-25T12:53:32.648Z"
   },
   {
    "duration": 48519,
    "start_time": "2023-01-25T12:54:51.712Z"
   },
   {
    "duration": 34,
    "start_time": "2023-01-25T12:59:02.605Z"
   },
   {
    "duration": 124,
    "start_time": "2023-01-25T12:59:07.857Z"
   },
   {
    "duration": 4,
    "start_time": "2023-01-25T13:06:34.614Z"
   },
   {
    "duration": 47992,
    "start_time": "2023-01-25T13:06:47.300Z"
   },
   {
    "duration": 1554,
    "start_time": "2023-01-25T17:58:13.220Z"
   },
   {
    "duration": 181,
    "start_time": "2023-01-25T18:01:04.362Z"
   },
   {
    "duration": 19,
    "start_time": "2023-01-25T18:01:04.869Z"
   },
   {
    "duration": 12,
    "start_time": "2023-01-25T18:01:05.452Z"
   },
   {
    "duration": 4,
    "start_time": "2023-01-25T18:01:05.799Z"
   },
   {
    "duration": 19,
    "start_time": "2023-01-25T18:01:07.072Z"
   },
   {
    "duration": 5,
    "start_time": "2023-01-25T18:01:07.278Z"
   },
   {
    "duration": 12,
    "start_time": "2023-01-25T18:01:07.762Z"
   },
   {
    "duration": 10,
    "start_time": "2023-01-25T18:01:08.947Z"
   },
   {
    "duration": 14,
    "start_time": "2023-01-25T18:01:09.387Z"
   },
   {
    "duration": 5,
    "start_time": "2023-01-25T18:01:09.598Z"
   },
   {
    "duration": 25,
    "start_time": "2023-01-25T18:01:09.853Z"
   },
   {
    "duration": 44,
    "start_time": "2023-01-25T18:01:10.450Z"
   },
   {
    "duration": 111,
    "start_time": "2023-01-25T18:01:11.983Z"
   },
   {
    "duration": 408,
    "start_time": "2023-01-25T18:01:13.202Z"
   },
   {
    "duration": 20,
    "start_time": "2023-01-25T18:01:13.701Z"
   },
   {
    "duration": 112,
    "start_time": "2023-01-25T18:01:14.719Z"
   },
   {
    "duration": 6,
    "start_time": "2023-01-25T18:01:15.121Z"
   },
   {
    "duration": 45423,
    "start_time": "2023-01-25T18:01:16.383Z"
   },
   {
    "duration": 5,
    "start_time": "2023-01-25T18:02:01.808Z"
   },
   {
    "duration": 22,
    "start_time": "2023-01-25T18:02:01.814Z"
   },
   {
    "duration": 121,
    "start_time": "2023-01-25T18:02:01.838Z"
   },
   {
    "duration": 7,
    "start_time": "2023-01-25T18:02:01.962Z"
   },
   {
    "duration": 997,
    "start_time": "2023-01-25T18:02:01.970Z"
   },
   {
    "duration": 360,
    "start_time": "2023-01-25T18:02:02.968Z"
   },
   {
    "duration": 21,
    "start_time": "2023-01-25T18:02:03.330Z"
   },
   {
    "duration": 490,
    "start_time": "2023-01-25T18:02:03.352Z"
   },
   {
    "duration": 14,
    "start_time": "2023-01-25T18:02:03.844Z"
   },
   {
    "duration": 16,
    "start_time": "2023-01-25T18:02:03.860Z"
   },
   {
    "duration": 201,
    "start_time": "2023-01-25T18:02:03.878Z"
   },
   {
    "duration": 6,
    "start_time": "2023-01-25T18:02:04.080Z"
   },
   {
    "duration": 46723,
    "start_time": "2023-01-25T18:02:04.088Z"
   },
   {
    "duration": 5,
    "start_time": "2023-01-25T18:02:50.812Z"
   },
   {
    "duration": 47178,
    "start_time": "2023-01-25T18:02:50.819Z"
   },
   {
    "duration": 31,
    "start_time": "2023-01-25T19:01:44.584Z"
   },
   {
    "duration": 30,
    "start_time": "2023-01-25T19:02:52.476Z"
   },
   {
    "duration": 130,
    "start_time": "2023-01-25T19:02:53.353Z"
   },
   {
    "duration": 1313,
    "start_time": "2023-01-25T19:05:50.942Z"
   },
   {
    "duration": 5,
    "start_time": "2023-01-25T19:10:23.451Z"
   },
   {
    "duration": 1237,
    "start_time": "2023-01-25T19:10:25.118Z"
   },
   {
    "duration": 3,
    "start_time": "2023-01-25T19:10:50.536Z"
   },
   {
    "duration": 4,
    "start_time": "2023-01-25T19:10:59.883Z"
   },
   {
    "duration": 254,
    "start_time": "2023-01-25T19:11:37.719Z"
   },
   {
    "duration": 6,
    "start_time": "2023-01-25T19:13:56.734Z"
   },
   {
    "duration": 1087,
    "start_time": "2023-01-25T19:14:13.967Z"
   },
   {
    "duration": 267,
    "start_time": "2023-01-25T19:14:23.983Z"
   },
   {
    "duration": 7,
    "start_time": "2023-01-25T19:14:28.283Z"
   },
   {
    "duration": 4,
    "start_time": "2023-01-25T19:20:39.830Z"
   },
   {
    "duration": 1171,
    "start_time": "2023-01-25T19:21:06.879Z"
   },
   {
    "duration": 273,
    "start_time": "2023-01-25T19:21:19.465Z"
   },
   {
    "duration": 7,
    "start_time": "2023-01-25T19:21:25.997Z"
   },
   {
    "duration": 4,
    "start_time": "2023-01-25T19:26:24.221Z"
   },
   {
    "duration": 398,
    "start_time": "2023-01-25T19:28:47.410Z"
   },
   {
    "duration": 407,
    "start_time": "2023-01-25T19:29:20.806Z"
   },
   {
    "duration": 6,
    "start_time": "2023-01-25T19:29:55.207Z"
   },
   {
    "duration": 105,
    "start_time": "2023-01-25T19:29:59.506Z"
   },
   {
    "duration": 8,
    "start_time": "2023-01-25T19:30:03.379Z"
   },
   {
    "duration": 5,
    "start_time": "2023-01-25T19:30:37.885Z"
   },
   {
    "duration": 43708,
    "start_time": "2023-01-25T19:30:41.606Z"
   },
   {
    "duration": 11,
    "start_time": "2023-01-25T19:31:34.341Z"
   },
   {
    "duration": 105,
    "start_time": "2023-01-25T19:31:35.113Z"
   },
   {
    "duration": 6,
    "start_time": "2023-01-25T19:31:38.426Z"
   },
   {
    "duration": 5,
    "start_time": "2023-01-25T19:31:42.043Z"
   },
   {
    "duration": 1287,
    "start_time": "2023-01-25T19:31:42.963Z"
   },
   {
    "duration": 289,
    "start_time": "2023-01-25T19:31:45.059Z"
   },
   {
    "duration": 5,
    "start_time": "2023-01-25T19:31:47.900Z"
   },
   {
    "duration": 403,
    "start_time": "2023-01-25T19:34:27.797Z"
   },
   {
    "duration": 408,
    "start_time": "2023-01-25T19:34:48.009Z"
   },
   {
    "duration": 400,
    "start_time": "2023-01-25T19:35:38.728Z"
   },
   {
    "duration": 109,
    "start_time": "2023-01-25T19:35:43.695Z"
   },
   {
    "duration": 9,
    "start_time": "2023-01-25T19:35:58.210Z"
   },
   {
    "duration": 11,
    "start_time": "2023-01-25T19:37:57.412Z"
   },
   {
    "duration": 5,
    "start_time": "2023-01-25T19:38:10.633Z"
   },
   {
    "duration": 40,
    "start_time": "2023-01-25T19:38:13.684Z"
   },
   {
    "duration": 17,
    "start_time": "2023-01-25T19:38:13.908Z"
   },
   {
    "duration": 13,
    "start_time": "2023-01-25T19:38:14.133Z"
   },
   {
    "duration": 5,
    "start_time": "2023-01-25T19:38:14.375Z"
   },
   {
    "duration": 19,
    "start_time": "2023-01-25T19:38:15.625Z"
   },
   {
    "duration": 6,
    "start_time": "2023-01-25T19:38:16.207Z"
   },
   {
    "duration": 15,
    "start_time": "2023-01-25T19:38:16.659Z"
   },
   {
    "duration": 10,
    "start_time": "2023-01-25T19:38:17.740Z"
   },
   {
    "duration": 15,
    "start_time": "2023-01-25T19:38:18.117Z"
   },
   {
    "duration": 5,
    "start_time": "2023-01-25T19:38:18.322Z"
   },
   {
    "duration": 25,
    "start_time": "2023-01-25T19:38:18.518Z"
   },
   {
    "duration": 46,
    "start_time": "2023-01-25T19:38:19.132Z"
   },
   {
    "duration": 108,
    "start_time": "2023-01-25T19:38:21.062Z"
   },
   {
    "duration": 4,
    "start_time": "2023-01-25T19:38:23.725Z"
   },
   {
    "duration": 396,
    "start_time": "2023-01-25T19:38:24.159Z"
   },
   {
    "duration": 7,
    "start_time": "2023-01-25T19:38:32.966Z"
   },
   {
    "duration": 105,
    "start_time": "2023-01-25T19:38:33.477Z"
   },
   {
    "duration": 6,
    "start_time": "2023-01-25T19:38:36.252Z"
   },
   {
    "duration": 6,
    "start_time": "2023-01-25T19:38:39.227Z"
   },
   {
    "duration": 43383,
    "start_time": "2023-01-25T19:38:40.677Z"
   },
   {
    "duration": 11,
    "start_time": "2023-01-25T19:39:24.062Z"
   },
   {
    "duration": 120,
    "start_time": "2023-01-25T19:39:24.074Z"
   },
   {
    "duration": 5,
    "start_time": "2023-01-25T19:39:24.196Z"
   },
   {
    "duration": 3,
    "start_time": "2023-01-25T19:39:24.203Z"
   },
   {
    "duration": 1150,
    "start_time": "2023-01-25T19:39:24.207Z"
   },
   {
    "duration": 396,
    "start_time": "2023-01-25T19:39:25.359Z"
   },
   {
    "duration": 5,
    "start_time": "2023-01-25T19:39:25.757Z"
   },
   {
    "duration": 406,
    "start_time": "2023-01-25T19:45:38.170Z"
   },
   {
    "duration": 6,
    "start_time": "2023-01-25T19:45:58.680Z"
   },
   {
    "duration": 183,
    "start_time": "2023-01-25T19:46:02.867Z"
   },
   {
    "duration": 5,
    "start_time": "2023-01-25T19:46:05.917Z"
   },
   {
    "duration": 43477,
    "start_time": "2023-01-25T19:47:35.981Z"
   },
   {
    "duration": 29,
    "start_time": "2023-01-25T19:48:39.413Z"
   },
   {
    "duration": 110,
    "start_time": "2023-01-25T19:49:30.484Z"
   },
   {
    "duration": 5,
    "start_time": "2023-01-25T19:49:41.430Z"
   },
   {
    "duration": 866,
    "start_time": "2023-01-25T19:52:40.384Z"
   },
   {
    "duration": 302,
    "start_time": "2023-01-25T19:53:02.928Z"
   },
   {
    "duration": 6,
    "start_time": "2023-01-25T19:53:06.589Z"
   },
   {
    "duration": 10,
    "start_time": "2023-01-25T20:01:13.631Z"
   },
   {
    "duration": 11,
    "start_time": "2023-01-25T20:01:27.529Z"
   },
   {
    "duration": 7,
    "start_time": "2023-01-25T20:01:44.279Z"
   },
   {
    "duration": 9,
    "start_time": "2023-01-25T20:02:03.680Z"
   },
   {
    "duration": 17,
    "start_time": "2023-01-25T20:02:22.903Z"
   },
   {
    "duration": 11,
    "start_time": "2023-01-25T20:02:41.477Z"
   },
   {
    "duration": 45513,
    "start_time": "2023-01-25T20:03:48.836Z"
   },
   {
    "duration": 104,
    "start_time": "2023-01-25T20:04:42.731Z"
   },
   {
    "duration": 92,
    "start_time": "2023-01-25T20:04:52.832Z"
   },
   {
    "duration": 4,
    "start_time": "2023-01-25T20:08:14.005Z"
   },
   {
    "duration": 16,
    "start_time": "2023-01-25T20:09:14.840Z"
   },
   {
    "duration": 33,
    "start_time": "2023-01-25T20:09:41.909Z"
   },
   {
    "duration": 28,
    "start_time": "2023-01-25T20:10:49.241Z"
   },
   {
    "duration": 7,
    "start_time": "2023-01-25T20:12:10.714Z"
   },
   {
    "duration": 111,
    "start_time": "2023-01-25T20:12:14.560Z"
   },
   {
    "duration": 6,
    "start_time": "2023-01-25T20:12:20.927Z"
   },
   {
    "duration": 101,
    "start_time": "2023-01-25T20:14:31.729Z"
   },
   {
    "duration": 11,
    "start_time": "2023-01-25T20:14:55.988Z"
   },
   {
    "duration": 105,
    "start_time": "2023-01-25T20:15:14.214Z"
   },
   {
    "duration": 6,
    "start_time": "2023-01-25T20:15:25.797Z"
   },
   {
    "duration": 28,
    "start_time": "2023-01-25T20:16:25.830Z"
   },
   {
    "duration": 280,
    "start_time": "2023-01-25T20:17:00.953Z"
   },
   {
    "duration": 6,
    "start_time": "2023-01-25T20:17:13.597Z"
   },
   {
    "duration": 11,
    "start_time": "2023-01-25T20:18:31.338Z"
   },
   {
    "duration": 83,
    "start_time": "2023-01-25T20:18:48.649Z"
   },
   {
    "duration": 12,
    "start_time": "2023-01-25T20:20:59.501Z"
   },
   {
    "duration": 99,
    "start_time": "2023-01-25T20:21:00.351Z"
   },
   {
    "duration": 17,
    "start_time": "2023-01-25T20:21:23.981Z"
   },
   {
    "duration": 14,
    "start_time": "2023-01-25T20:21:30.615Z"
   },
   {
    "duration": 115,
    "start_time": "2023-01-25T20:22:48.036Z"
   },
   {
    "duration": 7,
    "start_time": "2023-01-25T20:22:51.641Z"
   },
   {
    "duration": 1506,
    "start_time": "2023-01-26T08:17:36.777Z"
   },
   {
    "duration": 81,
    "start_time": "2023-01-26T08:17:39.244Z"
   },
   {
    "duration": 25,
    "start_time": "2023-01-26T08:17:39.496Z"
   },
   {
    "duration": 13,
    "start_time": "2023-01-26T08:17:39.716Z"
   },
   {
    "duration": 4,
    "start_time": "2023-01-26T08:17:39.937Z"
   },
   {
    "duration": 22,
    "start_time": "2023-01-26T08:17:41.200Z"
   },
   {
    "duration": 6,
    "start_time": "2023-01-26T08:17:41.438Z"
   },
   {
    "duration": 12,
    "start_time": "2023-01-26T08:17:41.925Z"
   },
   {
    "duration": 11,
    "start_time": "2023-01-26T08:17:43.160Z"
   },
   {
    "duration": 21,
    "start_time": "2023-01-26T08:17:43.693Z"
   },
   {
    "duration": 5,
    "start_time": "2023-01-26T08:17:43.943Z"
   },
   {
    "duration": 24,
    "start_time": "2023-01-26T08:17:44.224Z"
   },
   {
    "duration": 56,
    "start_time": "2023-01-26T08:17:44.995Z"
   },
   {
    "duration": 118,
    "start_time": "2023-01-26T08:17:46.857Z"
   },
   {
    "duration": 4,
    "start_time": "2023-01-26T08:17:48.441Z"
   },
   {
    "duration": 414,
    "start_time": "2023-01-26T08:17:49.057Z"
   },
   {
    "duration": 5,
    "start_time": "2023-01-26T08:17:49.614Z"
   },
   {
    "duration": 126,
    "start_time": "2023-01-26T08:17:49.874Z"
   },
   {
    "duration": 7,
    "start_time": "2023-01-26T08:17:50.123Z"
   },
   {
    "duration": 4,
    "start_time": "2023-01-26T08:17:50.974Z"
   },
   {
    "duration": 45845,
    "start_time": "2023-01-26T08:17:51.307Z"
   },
   {
    "duration": 11,
    "start_time": "2023-01-26T08:18:37.153Z"
   },
   {
    "duration": 130,
    "start_time": "2023-01-26T08:18:37.166Z"
   },
   {
    "duration": 7,
    "start_time": "2023-01-26T08:18:37.298Z"
   },
   {
    "duration": 5,
    "start_time": "2023-01-26T08:18:37.307Z"
   },
   {
    "duration": 1182,
    "start_time": "2023-01-26T08:18:37.313Z"
   },
   {
    "duration": 304,
    "start_time": "2023-01-26T08:18:38.497Z"
   },
   {
    "duration": 8,
    "start_time": "2023-01-26T08:18:38.803Z"
   },
   {
    "duration": 445,
    "start_time": "2023-01-26T08:18:38.812Z"
   },
   {
    "duration": 5,
    "start_time": "2023-01-26T08:18:39.259Z"
   },
   {
    "duration": 156,
    "start_time": "2023-01-26T08:18:39.265Z"
   },
   {
    "duration": 6,
    "start_time": "2023-01-26T08:18:39.423Z"
   },
   {
    "duration": 47682,
    "start_time": "2023-01-26T08:18:39.430Z"
   },
   {
    "duration": 32,
    "start_time": "2023-01-26T08:19:27.113Z"
   },
   {
    "duration": 133,
    "start_time": "2023-01-26T08:19:27.146Z"
   },
   {
    "duration": 11,
    "start_time": "2023-01-26T08:19:27.280Z"
   },
   {
    "duration": 1097,
    "start_time": "2023-01-26T08:19:27.294Z"
   },
   {
    "duration": 300,
    "start_time": "2023-01-26T08:19:28.393Z"
   },
   {
    "duration": 13,
    "start_time": "2023-01-26T08:19:28.695Z"
   },
   {
    "duration": 430,
    "start_time": "2023-01-26T08:21:19.530Z"
   },
   {
    "duration": 9,
    "start_time": "2023-01-26T08:22:11.677Z"
   },
   {
    "duration": 126,
    "start_time": "2023-01-26T08:22:13.558Z"
   },
   {
    "duration": 6,
    "start_time": "2023-01-26T08:22:17.526Z"
   },
   {
    "duration": 416,
    "start_time": "2023-01-26T08:23:10.353Z"
   },
   {
    "duration": 427,
    "start_time": "2023-01-26T08:23:46.178Z"
   },
   {
    "duration": 7,
    "start_time": "2023-01-26T08:23:50.809Z"
   },
   {
    "duration": 122,
    "start_time": "2023-01-26T08:23:54.325Z"
   },
   {
    "duration": 9,
    "start_time": "2023-01-26T08:23:56.592Z"
   },
   {
    "duration": 110,
    "start_time": "2023-01-26T08:25:17.928Z"
   },
   {
    "duration": 13,
    "start_time": "2023-01-26T08:25:38.096Z"
   },
   {
    "duration": 11,
    "start_time": "2023-01-26T08:25:38.827Z"
   },
   {
    "duration": 107,
    "start_time": "2023-01-26T08:25:39.803Z"
   },
   {
    "duration": 1296,
    "start_time": "2023-01-26T08:26:14.716Z"
   },
   {
    "duration": 315,
    "start_time": "2023-01-26T08:26:30.477Z"
   },
   {
    "duration": 6,
    "start_time": "2023-01-26T08:26:34.409Z"
   },
   {
    "duration": 27,
    "start_time": "2023-01-26T08:27:11.459Z"
   },
   {
    "duration": 491,
    "start_time": "2023-01-26T08:27:40.531Z"
   },
   {
    "duration": 520,
    "start_time": "2023-01-26T08:30:10.922Z"
   },
   {
    "duration": 9,
    "start_time": "2023-01-26T08:30:15.695Z"
   },
   {
    "duration": 116,
    "start_time": "2023-01-26T08:30:18.168Z"
   },
   {
    "duration": 7,
    "start_time": "2023-01-26T08:30:20.981Z"
   },
   {
    "duration": 63999,
    "start_time": "2023-01-26T08:32:22.664Z"
   },
   {
    "duration": 35,
    "start_time": "2023-01-26T08:33:59.197Z"
   },
   {
    "duration": 112,
    "start_time": "2023-01-26T08:34:03.298Z"
   },
   {
    "duration": 9,
    "start_time": "2023-01-26T08:34:05.595Z"
   },
   {
    "duration": 1284,
    "start_time": "2023-01-26T08:34:18.016Z"
   },
   {
    "duration": 261,
    "start_time": "2023-01-26T08:34:22.733Z"
   },
   {
    "duration": 10,
    "start_time": "2023-01-26T08:34:25.679Z"
   },
   {
    "duration": 12,
    "start_time": "2023-01-26T08:35:51.533Z"
   },
   {
    "duration": 108,
    "start_time": "2023-01-26T08:35:52.798Z"
   },
   {
    "duration": 206,
    "start_time": "2023-01-26T08:36:23.535Z"
   },
   {
    "duration": 114,
    "start_time": "2023-01-26T08:36:38.534Z"
   },
   {
    "duration": 9,
    "start_time": "2023-01-26T08:36:41.899Z"
   },
   {
    "duration": 26760,
    "start_time": "2023-01-26T08:39:25.735Z"
   },
   {
    "duration": 22,
    "start_time": "2023-01-26T08:40:22.320Z"
   },
   {
    "duration": 42,
    "start_time": "2023-01-26T08:40:33.365Z"
   },
   {
    "duration": 123,
    "start_time": "2023-01-26T08:40:35.802Z"
   },
   {
    "duration": 6,
    "start_time": "2023-01-26T08:40:39.418Z"
   },
   {
    "duration": 1129,
    "start_time": "2023-01-26T08:42:32.885Z"
   },
   {
    "duration": 20,
    "start_time": "2023-01-26T08:42:38.895Z"
   },
   {
    "duration": 121,
    "start_time": "2023-01-26T08:42:39.902Z"
   },
   {
    "duration": 8,
    "start_time": "2023-01-26T08:45:49.090Z"
   },
   {
    "duration": 31,
    "start_time": "2023-01-26T09:03:36.523Z"
   },
   {
    "duration": 223,
    "start_time": "2023-01-26T09:03:37.658Z"
   },
   {
    "duration": 6,
    "start_time": "2023-01-26T09:03:41.372Z"
   },
   {
    "duration": 7,
    "start_time": "2023-01-26T09:09:30.773Z"
   },
   {
    "duration": 10,
    "start_time": "2023-01-26T09:13:56.266Z"
   },
   {
    "duration": 605,
    "start_time": "2023-01-26T09:15:11.038Z"
   },
   {
    "duration": 32,
    "start_time": "2023-01-26T09:17:10.404Z"
   },
   {
    "duration": 4,
    "start_time": "2023-01-26T09:17:27.119Z"
   },
   {
    "duration": 38,
    "start_time": "2023-01-26T09:17:28.001Z"
   },
   {
    "duration": 39,
    "start_time": "2023-01-26T09:17:32.165Z"
   },
   {
    "duration": 121,
    "start_time": "2023-01-26T09:17:33.491Z"
   },
   {
    "duration": 7,
    "start_time": "2023-01-26T09:17:36.014Z"
   },
   {
    "duration": 6,
    "start_time": "2023-01-26T09:17:40.265Z"
   },
   {
    "duration": 10,
    "start_time": "2023-01-26T09:17:41.508Z"
   },
   {
    "duration": 656,
    "start_time": "2023-01-26T09:17:42.631Z"
   },
   {
    "duration": 41,
    "start_time": "2023-01-26T09:17:48.760Z"
   },
   {
    "duration": 141,
    "start_time": "2023-01-26T09:18:36.815Z"
   },
   {
    "duration": 6,
    "start_time": "2023-01-26T09:19:37.333Z"
   },
   {
    "duration": 4,
    "start_time": "2023-01-26T11:31:42.822Z"
   },
   {
    "duration": 41,
    "start_time": "2023-01-26T11:31:43.271Z"
   },
   {
    "duration": 22,
    "start_time": "2023-01-26T11:31:43.518Z"
   },
   {
    "duration": 16,
    "start_time": "2023-01-26T11:31:43.700Z"
   },
   {
    "duration": 4,
    "start_time": "2023-01-26T11:31:43.912Z"
   },
   {
    "duration": 18,
    "start_time": "2023-01-26T11:31:44.961Z"
   },
   {
    "duration": 7,
    "start_time": "2023-01-26T11:31:45.162Z"
   },
   {
    "duration": 22,
    "start_time": "2023-01-26T11:31:45.584Z"
   },
   {
    "duration": 8,
    "start_time": "2023-01-26T11:31:46.570Z"
   },
   {
    "duration": 14,
    "start_time": "2023-01-26T11:31:46.955Z"
   },
   {
    "duration": 5,
    "start_time": "2023-01-26T11:31:47.168Z"
   },
   {
    "duration": 25,
    "start_time": "2023-01-26T11:31:47.348Z"
   },
   {
    "duration": 49,
    "start_time": "2023-01-26T11:31:47.983Z"
   },
   {
    "duration": 124,
    "start_time": "2023-01-26T11:31:49.412Z"
   },
   {
    "duration": 4,
    "start_time": "2023-01-26T11:31:50.445Z"
   },
   {
    "duration": 413,
    "start_time": "2023-01-26T11:31:50.648Z"
   },
   {
    "duration": 6,
    "start_time": "2023-01-26T11:31:51.062Z"
   },
   {
    "duration": 117,
    "start_time": "2023-01-26T11:31:51.245Z"
   },
   {
    "duration": 7,
    "start_time": "2023-01-26T11:31:51.448Z"
   },
   {
    "duration": 5,
    "start_time": "2023-01-26T11:31:52.277Z"
   },
   {
    "duration": 44848,
    "start_time": "2023-01-26T11:31:52.508Z"
   },
   {
    "duration": 11,
    "start_time": "2023-01-26T11:32:37.357Z"
   },
   {
    "duration": 134,
    "start_time": "2023-01-26T11:32:37.369Z"
   },
   {
    "duration": 6,
    "start_time": "2023-01-26T11:32:37.507Z"
   },
   {
    "duration": 39,
    "start_time": "2023-01-26T11:32:37.514Z"
   },
   {
    "duration": 943,
    "start_time": "2023-01-26T11:32:37.555Z"
   },
   {
    "duration": 294,
    "start_time": "2023-01-26T11:32:38.500Z"
   },
   {
    "duration": 10,
    "start_time": "2023-01-26T11:32:38.797Z"
   },
   {
    "duration": 447,
    "start_time": "2023-01-26T11:32:38.809Z"
   },
   {
    "duration": 6,
    "start_time": "2023-01-26T11:32:39.258Z"
   },
   {
    "duration": 148,
    "start_time": "2023-01-26T11:32:39.266Z"
   },
   {
    "duration": 6,
    "start_time": "2023-01-26T11:32:39.415Z"
   },
   {
    "duration": 44779,
    "start_time": "2023-01-26T11:32:39.422Z"
   },
   {
    "duration": 33,
    "start_time": "2023-01-26T11:33:24.204Z"
   },
   {
    "duration": 128,
    "start_time": "2023-01-26T11:33:24.239Z"
   },
   {
    "duration": 5,
    "start_time": "2023-01-26T11:33:24.369Z"
   },
   {
    "duration": 1111,
    "start_time": "2023-01-26T11:33:24.376Z"
   },
   {
    "duration": 301,
    "start_time": "2023-01-26T11:33:25.488Z"
   },
   {
    "duration": 6,
    "start_time": "2023-01-26T11:33:25.792Z"
   },
   {
    "duration": 26,
    "start_time": "2023-01-26T11:33:25.800Z"
   },
   {
    "duration": 34,
    "start_time": "2023-01-26T11:33:25.827Z"
   },
   {
    "duration": 113,
    "start_time": "2023-01-26T11:33:25.863Z"
   },
   {
    "duration": 504,
    "start_time": "2023-01-26T11:33:25.985Z"
   },
   {
    "duration": 8,
    "start_time": "2023-01-26T11:33:26.490Z"
   },
   {
    "duration": 130,
    "start_time": "2023-01-26T11:33:26.501Z"
   },
   {
    "duration": 5,
    "start_time": "2023-01-26T11:33:26.633Z"
   },
   {
    "duration": 60573,
    "start_time": "2023-01-26T11:33:26.640Z"
   },
   {
    "duration": 30,
    "start_time": "2023-01-26T11:34:27.216Z"
   },
   {
    "duration": 221,
    "start_time": "2023-01-26T11:34:27.248Z"
   },
   {
    "duration": 6,
    "start_time": "2023-01-26T11:34:27.471Z"
   },
   {
    "duration": 1419,
    "start_time": "2023-01-26T11:34:27.486Z"
   },
   {
    "duration": 404,
    "start_time": "2023-01-26T11:34:28.911Z"
   },
   {
    "duration": 6,
    "start_time": "2023-01-26T11:34:29.317Z"
   },
   {
    "duration": 30,
    "start_time": "2023-01-26T11:34:29.325Z"
   },
   {
    "duration": 157,
    "start_time": "2023-01-26T11:34:29.356Z"
   },
   {
    "duration": 217,
    "start_time": "2023-01-26T11:34:29.514Z"
   },
   {
    "duration": 128,
    "start_time": "2023-01-26T11:34:29.733Z"
   },
   {
    "duration": 6,
    "start_time": "2023-01-26T11:34:29.863Z"
   },
   {
    "duration": 26629,
    "start_time": "2023-01-26T11:34:29.871Z"
   },
   {
    "duration": 40,
    "start_time": "2023-01-26T11:34:56.502Z"
   },
   {
    "duration": 127,
    "start_time": "2023-01-26T11:34:56.544Z"
   },
   {
    "duration": 16,
    "start_time": "2023-01-26T11:34:56.673Z"
   },
   {
    "duration": 1307,
    "start_time": "2023-01-26T11:34:56.691Z"
   },
   {
    "duration": 22,
    "start_time": "2023-01-26T11:34:58.000Z"
   },
   {
    "duration": 278,
    "start_time": "2023-01-26T11:34:58.024Z"
   },
   {
    "duration": 6,
    "start_time": "2023-01-26T11:34:58.303Z"
   },
   {
    "duration": 44,
    "start_time": "2023-01-26T11:34:58.312Z"
   },
   {
    "duration": 44,
    "start_time": "2023-01-26T11:34:58.358Z"
   },
   {
    "duration": 106,
    "start_time": "2023-01-26T11:34:58.404Z"
   },
   {
    "duration": 6,
    "start_time": "2023-01-26T11:34:58.512Z"
   },
   {
    "duration": 23,
    "start_time": "2023-01-26T11:34:58.520Z"
   },
   {
    "duration": 71,
    "start_time": "2023-01-26T11:34:58.544Z"
   },
   {
    "duration": 663,
    "start_time": "2023-01-26T11:34:58.617Z"
   },
   {
    "duration": 156,
    "start_time": "2023-01-26T11:34:59.281Z"
   },
   {
    "duration": 8,
    "start_time": "2023-01-26T11:34:59.438Z"
   },
   {
    "duration": 10,
    "start_time": "2023-01-26T15:48:59.303Z"
   },
   {
    "duration": 1616,
    "start_time": "2023-01-26T15:49:15.951Z"
   },
   {
    "duration": 39,
    "start_time": "2023-01-26T15:49:17.571Z"
   },
   {
    "duration": 21,
    "start_time": "2023-01-26T15:49:17.612Z"
   },
   {
    "duration": 22,
    "start_time": "2023-01-26T15:49:17.635Z"
   },
   {
    "duration": 8,
    "start_time": "2023-01-26T15:49:17.659Z"
   },
   {
    "duration": 26,
    "start_time": "2023-01-26T15:49:17.668Z"
   },
   {
    "duration": 7,
    "start_time": "2023-01-26T15:49:17.695Z"
   },
   {
    "duration": 27,
    "start_time": "2023-01-26T15:49:17.703Z"
   },
   {
    "duration": 13,
    "start_time": "2023-01-26T15:49:17.732Z"
   },
   {
    "duration": 18,
    "start_time": "2023-01-26T15:49:17.746Z"
   },
   {
    "duration": 5,
    "start_time": "2023-01-26T15:49:17.766Z"
   },
   {
    "duration": 31,
    "start_time": "2023-01-26T15:49:17.772Z"
   },
   {
    "duration": 86,
    "start_time": "2023-01-26T15:49:17.804Z"
   },
   {
    "duration": 148,
    "start_time": "2023-01-26T15:49:17.893Z"
   },
   {
    "duration": 4,
    "start_time": "2023-01-26T15:49:18.043Z"
   },
   {
    "duration": 494,
    "start_time": "2023-01-26T15:49:18.049Z"
   },
   {
    "duration": 6,
    "start_time": "2023-01-26T15:49:18.545Z"
   },
   {
    "duration": 136,
    "start_time": "2023-01-26T15:49:18.553Z"
   },
   {
    "duration": 4,
    "start_time": "2023-01-26T15:49:30.912Z"
   },
   {
    "duration": 4,
    "start_time": "2023-01-26T15:49:58.334Z"
   },
   {
    "duration": 127,
    "start_time": "2023-01-26T15:50:19.122Z"
   },
   {
    "duration": 5,
    "start_time": "2023-01-26T15:50:50.816Z"
   },
   {
    "duration": 140,
    "start_time": "2023-01-26T15:50:52.330Z"
   },
   {
    "duration": 6,
    "start_time": "2023-01-26T15:51:02.054Z"
   },
   {
    "duration": 130,
    "start_time": "2023-01-26T15:51:03.163Z"
   },
   {
    "duration": 1490,
    "start_time": "2023-01-26T19:55:07.125Z"
   },
   {
    "duration": 79,
    "start_time": "2023-01-26T19:55:09.852Z"
   },
   {
    "duration": 22,
    "start_time": "2023-01-26T19:55:12.661Z"
   },
   {
    "duration": 14,
    "start_time": "2023-01-26T19:55:15.536Z"
   },
   {
    "duration": 4,
    "start_time": "2023-01-26T19:55:17.861Z"
   },
   {
    "duration": 19,
    "start_time": "2023-01-26T19:55:22.359Z"
   },
   {
    "duration": 5,
    "start_time": "2023-01-26T19:55:26.378Z"
   },
   {
    "duration": 19,
    "start_time": "2023-01-26T19:55:30.010Z"
   },
   {
    "duration": 9,
    "start_time": "2023-01-26T19:55:34.832Z"
   },
   {
    "duration": 7,
    "start_time": "2023-01-26T19:58:07.873Z"
   },
   {
    "duration": 12,
    "start_time": "2023-01-26T19:59:24.737Z"
   },
   {
    "duration": 36,
    "start_time": "2023-01-26T20:00:03.687Z"
   },
   {
    "duration": 138,
    "start_time": "2023-01-26T20:00:40.281Z"
   },
   {
    "duration": 14,
    "start_time": "2023-01-26T20:02:54.575Z"
   },
   {
    "duration": 13,
    "start_time": "2023-01-26T20:03:01.533Z"
   },
   {
    "duration": 10,
    "start_time": "2023-01-26T20:03:09.780Z"
   },
   {
    "duration": 9,
    "start_time": "2023-01-26T20:03:25.863Z"
   },
   {
    "duration": 12,
    "start_time": "2023-01-26T20:03:29.759Z"
   },
   {
    "duration": 39,
    "start_time": "2023-01-26T20:03:32.344Z"
   },
   {
    "duration": 18,
    "start_time": "2023-01-26T20:08:52.625Z"
   },
   {
    "duration": 176,
    "start_time": "2023-01-26T20:09:28.025Z"
   },
   {
    "duration": 14,
    "start_time": "2023-01-26T20:18:36.465Z"
   },
   {
    "duration": 10,
    "start_time": "2023-01-26T20:18:41.748Z"
   },
   {
    "duration": 15,
    "start_time": "2023-01-26T20:18:46.368Z"
   },
   {
    "duration": 5,
    "start_time": "2023-01-26T20:18:47.166Z"
   },
   {
    "duration": 25,
    "start_time": "2023-01-26T20:18:47.921Z"
   },
   {
    "duration": 40,
    "start_time": "2023-01-26T20:21:12.983Z"
   },
   {
    "duration": 112,
    "start_time": "2023-01-26T20:21:18.576Z"
   },
   {
    "duration": 5,
    "start_time": "2023-01-26T20:21:23.398Z"
   },
   {
    "duration": 474,
    "start_time": "2023-01-26T20:21:24.136Z"
   },
   {
    "duration": 112,
    "start_time": "2023-01-26T20:21:33.985Z"
   },
   {
    "duration": 133,
    "start_time": "2023-01-26T20:22:06.689Z"
   },
   {
    "duration": 11,
    "start_time": "2023-01-26T20:23:31.024Z"
   },
   {
    "duration": 19,
    "start_time": "2023-01-26T20:26:31.686Z"
   },
   {
    "duration": 114,
    "start_time": "2023-01-26T20:27:13.104Z"
   },
   {
    "duration": 18,
    "start_time": "2023-01-26T20:27:54.840Z"
   },
   {
    "duration": 18,
    "start_time": "2023-01-26T20:28:10.537Z"
   },
   {
    "duration": 19,
    "start_time": "2023-01-26T20:28:40.259Z"
   },
   {
    "duration": 8,
    "start_time": "2023-01-26T20:28:54.580Z"
   },
   {
    "duration": 18,
    "start_time": "2023-01-26T20:29:19.669Z"
   },
   {
    "duration": 110,
    "start_time": "2023-01-26T20:29:42.466Z"
   },
   {
    "duration": 5,
    "start_time": "2023-01-26T20:30:34.134Z"
   },
   {
    "duration": 49458,
    "start_time": "2023-01-26T20:30:35.020Z"
   },
   {
    "duration": 106,
    "start_time": "2023-01-26T20:31:35.072Z"
   },
   {
    "duration": 116,
    "start_time": "2023-01-26T20:32:07.968Z"
   },
   {
    "duration": 115,
    "start_time": "2023-01-26T20:32:37.138Z"
   },
   {
    "duration": 4,
    "start_time": "2023-01-26T20:32:58.418Z"
   },
   {
    "duration": 798,
    "start_time": "2023-01-26T20:32:59.021Z"
   },
   {
    "duration": 143,
    "start_time": "2023-01-26T20:33:36.785Z"
   },
   {
    "duration": 118,
    "start_time": "2023-01-26T20:34:22.237Z"
   },
   {
    "duration": 257,
    "start_time": "2023-01-26T20:34:31.336Z"
   },
   {
    "duration": 6,
    "start_time": "2023-01-26T20:34:35.597Z"
   },
   {
    "duration": 992,
    "start_time": "2023-01-26T20:35:06.321Z"
   },
   {
    "duration": 112,
    "start_time": "2023-01-26T20:35:09.754Z"
   },
   {
    "duration": 114,
    "start_time": "2023-01-26T20:36:21.724Z"
   },
   {
    "duration": 114,
    "start_time": "2023-01-26T20:36:37.730Z"
   },
   {
    "duration": 272,
    "start_time": "2023-01-26T20:37:01.921Z"
   },
   {
    "duration": 487,
    "start_time": "2023-01-26T20:37:54.166Z"
   },
   {
    "duration": 112,
    "start_time": "2023-01-26T20:38:16.957Z"
   },
   {
    "duration": 48985,
    "start_time": "2023-01-26T20:38:40.186Z"
   },
   {
    "duration": 138,
    "start_time": "2023-01-26T21:28:15.388Z"
   },
   {
    "duration": 896,
    "start_time": "2023-01-26T21:28:38.425Z"
   },
   {
    "duration": 265,
    "start_time": "2023-01-26T21:29:31.729Z"
   },
   {
    "duration": 10,
    "start_time": "2023-01-26T21:30:01.287Z"
   },
   {
    "duration": 10,
    "start_time": "2023-01-26T21:30:02.050Z"
   },
   {
    "duration": 86,
    "start_time": "2023-01-26T21:30:06.223Z"
   },
   {
    "duration": 604,
    "start_time": "2023-01-26T21:30:12.381Z"
   },
   {
    "duration": 191,
    "start_time": "2023-01-26T21:31:14.998Z"
   },
   {
    "duration": 67413,
    "start_time": "2023-01-26T21:31:27.986Z"
   },
   {
    "duration": 127,
    "start_time": "2023-01-26T21:32:40.123Z"
   },
   {
    "duration": 1376,
    "start_time": "2023-01-26T21:32:48.937Z"
   },
   {
    "duration": 267,
    "start_time": "2023-01-26T21:32:51.223Z"
   },
   {
    "duration": 13,
    "start_time": "2023-01-26T21:33:07.521Z"
   },
   {
    "duration": 88,
    "start_time": "2023-01-26T21:33:08.190Z"
   },
   {
    "duration": 232,
    "start_time": "2023-01-26T21:33:12.387Z"
   },
   {
    "duration": 113,
    "start_time": "2023-01-26T21:33:31.938Z"
   },
   {
    "duration": 27915,
    "start_time": "2023-01-26T21:33:46.025Z"
   },
   {
    "duration": 138,
    "start_time": "2023-01-26T21:34:25.321Z"
   },
   {
    "duration": 9,
    "start_time": "2023-01-26T21:34:49.882Z"
   },
   {
    "duration": 1360,
    "start_time": "2023-01-26T21:34:54.654Z"
   },
   {
    "duration": 261,
    "start_time": "2023-01-26T21:34:56.833Z"
   },
   {
    "duration": 4,
    "start_time": "2023-01-26T21:35:56.424Z"
   },
   {
    "duration": 32,
    "start_time": "2023-01-26T21:35:59.093Z"
   },
   {
    "duration": 271,
    "start_time": "2023-01-26T21:36:23.954Z"
   },
   {
    "duration": 137,
    "start_time": "2023-01-26T21:36:38.791Z"
   },
   {
    "duration": 8,
    "start_time": "2023-01-26T21:36:55.415Z"
   },
   {
    "duration": 10,
    "start_time": "2023-01-26T21:36:57.462Z"
   },
   {
    "duration": 727,
    "start_time": "2023-01-26T21:37:02.027Z"
   },
   {
    "duration": 135,
    "start_time": "2023-01-26T21:37:50.143Z"
   }
  ],
  "kernelspec": {
   "display_name": "Python 3 (ipykernel)",
   "language": "python",
   "name": "python3"
  },
  "language_info": {
   "codemirror_mode": {
    "name": "ipython",
    "version": 3
   },
   "file_extension": ".py",
   "mimetype": "text/x-python",
   "name": "python",
   "nbconvert_exporter": "python",
   "pygments_lexer": "ipython3",
   "version": "3.9.13"
  },
  "toc": {
   "base_numbering": 1,
   "nav_menu": {},
   "number_sections": true,
   "sideBar": true,
   "skip_h1_title": true,
   "title_cell": "Содержание",
   "title_sidebar": "Contents",
   "toc_cell": true,
   "toc_position": {
    "height": "calc(100% - 180px)",
    "left": "10px",
    "top": "150px",
    "width": "288px"
   },
   "toc_section_display": true,
   "toc_window_display": true
  }
 },
 "nbformat": 4,
 "nbformat_minor": 2
}
