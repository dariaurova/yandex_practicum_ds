{
 "cells": [
  {
   "cell_type": "markdown",
   "metadata": {},
   "source": [
    "# Исследование объявлений о продаже квартир\n",
    "\n",
    "В вашем распоряжении данные сервиса Яндекс.Недвижимость — архив объявлений о продаже квартир в Санкт-Петербурге и соседних населённых пунктов за несколько лет. Нужно научиться определять рыночную стоимость объектов недвижимости. Ваша задача — установить параметры. Это позволит построить автоматизированную систему: она отследит аномалии и мошенническую деятельность. \n",
    "\n",
    "По каждой квартире на продажу доступны два вида данных. Первые вписаны пользователем, вторые — получены автоматически на основе картографических данных. Например, расстояние до центра, аэропорта, ближайшего парка и водоёма. "
   ]
  },
  {
   "cell_type": "markdown",
   "metadata": {},
   "source": [
    "# Задачи проекта\n",
    "Используя данные сервиса Яндекс.Недвижимость, определить рыночную стоимость объектов недвижимости и типичные параметры квартир.\n",
    "# Описание проекта\n",
    "На основе данных сервиса Яндекс.Недвижимость определена рыночная стоимость объектов недвижимости разного типа, типичные параметры квартир, в зависимости от удаленности от центра. Проведена предобработка данных. Добавлены новые данные. Построены гистограммы, боксплоты, диаграммы рассеивания."
   ]
  },
  {
   "cell_type": "markdown",
   "metadata": {},
   "source": [
    "### Откройте файл с данными и изучите общую информацию. "
   ]
  },
  {
   "cell_type": "code",
   "execution_count": 1,
   "metadata": {},
   "outputs": [],
   "source": [
    "import matplotlib.pyplot as plt"
   ]
  },
  {
   "cell_type": "code",
   "execution_count": 2,
   "metadata": {},
   "outputs": [
    {
     "name": "stdout",
     "output_type": "stream",
     "text": [
      "<class 'pandas.core.frame.DataFrame'>\n",
      "RangeIndex: 23699 entries, 0 to 23698\n",
      "Data columns (total 22 columns):\n",
      " #   Column                Non-Null Count  Dtype  \n",
      "---  ------                --------------  -----  \n",
      " 0   total_images          23699 non-null  int64  \n",
      " 1   last_price            23699 non-null  float64\n",
      " 2   total_area            23699 non-null  float64\n",
      " 3   first_day_exposition  23699 non-null  object \n",
      " 4   rooms                 23699 non-null  int64  \n",
      " 5   ceiling_height        14504 non-null  float64\n",
      " 6   floors_total          23613 non-null  float64\n",
      " 7   living_area           21796 non-null  float64\n",
      " 8   floor                 23699 non-null  int64  \n",
      " 9   is_apartment          2775 non-null   object \n",
      " 10  studio                23699 non-null  bool   \n",
      " 11  open_plan             23699 non-null  bool   \n",
      " 12  kitchen_area          21421 non-null  float64\n",
      " 13  balcony               12180 non-null  float64\n",
      " 14  locality_name         23650 non-null  object \n",
      " 15  airports_nearest      18157 non-null  float64\n",
      " 16  cityCenters_nearest   18180 non-null  float64\n",
      " 17  parks_around3000      18181 non-null  float64\n",
      " 18  parks_nearest         8079 non-null   float64\n",
      " 19  ponds_around3000      18181 non-null  float64\n",
      " 20  ponds_nearest         9110 non-null   float64\n",
      " 21  days_exposition       20518 non-null  float64\n",
      "dtypes: bool(2), float64(14), int64(3), object(3)\n",
      "memory usage: 3.7+ MB\n"
     ]
    },
    {
     "data": {
      "text/html": [
       "<div>\n",
       "<style scoped>\n",
       "    .dataframe tbody tr th:only-of-type {\n",
       "        vertical-align: middle;\n",
       "    }\n",
       "\n",
       "    .dataframe tbody tr th {\n",
       "        vertical-align: top;\n",
       "    }\n",
       "\n",
       "    .dataframe thead th {\n",
       "        text-align: right;\n",
       "    }\n",
       "</style>\n",
       "<table border=\"1\" class=\"dataframe\">\n",
       "  <thead>\n",
       "    <tr style=\"text-align: right;\">\n",
       "      <th></th>\n",
       "      <th>total_images</th>\n",
       "      <th>last_price</th>\n",
       "      <th>total_area</th>\n",
       "      <th>first_day_exposition</th>\n",
       "      <th>rooms</th>\n",
       "      <th>ceiling_height</th>\n",
       "      <th>floors_total</th>\n",
       "      <th>living_area</th>\n",
       "      <th>floor</th>\n",
       "      <th>is_apartment</th>\n",
       "      <th>...</th>\n",
       "      <th>kitchen_area</th>\n",
       "      <th>balcony</th>\n",
       "      <th>locality_name</th>\n",
       "      <th>airports_nearest</th>\n",
       "      <th>cityCenters_nearest</th>\n",
       "      <th>parks_around3000</th>\n",
       "      <th>parks_nearest</th>\n",
       "      <th>ponds_around3000</th>\n",
       "      <th>ponds_nearest</th>\n",
       "      <th>days_exposition</th>\n",
       "    </tr>\n",
       "  </thead>\n",
       "  <tbody>\n",
       "    <tr>\n",
       "      <th>0</th>\n",
       "      <td>20</td>\n",
       "      <td>13000000.0</td>\n",
       "      <td>108.0</td>\n",
       "      <td>2019-03-07T00:00:00</td>\n",
       "      <td>3</td>\n",
       "      <td>2.70</td>\n",
       "      <td>16.0</td>\n",
       "      <td>51.0</td>\n",
       "      <td>8</td>\n",
       "      <td>NaN</td>\n",
       "      <td>...</td>\n",
       "      <td>25.0</td>\n",
       "      <td>NaN</td>\n",
       "      <td>Санкт-Петербург</td>\n",
       "      <td>18863.0</td>\n",
       "      <td>16028.0</td>\n",
       "      <td>1.0</td>\n",
       "      <td>482.0</td>\n",
       "      <td>2.0</td>\n",
       "      <td>755.0</td>\n",
       "      <td>NaN</td>\n",
       "    </tr>\n",
       "    <tr>\n",
       "      <th>1</th>\n",
       "      <td>7</td>\n",
       "      <td>3350000.0</td>\n",
       "      <td>40.4</td>\n",
       "      <td>2018-12-04T00:00:00</td>\n",
       "      <td>1</td>\n",
       "      <td>NaN</td>\n",
       "      <td>11.0</td>\n",
       "      <td>18.6</td>\n",
       "      <td>1</td>\n",
       "      <td>NaN</td>\n",
       "      <td>...</td>\n",
       "      <td>11.0</td>\n",
       "      <td>2.0</td>\n",
       "      <td>посёлок Шушары</td>\n",
       "      <td>12817.0</td>\n",
       "      <td>18603.0</td>\n",
       "      <td>0.0</td>\n",
       "      <td>NaN</td>\n",
       "      <td>0.0</td>\n",
       "      <td>NaN</td>\n",
       "      <td>81.0</td>\n",
       "    </tr>\n",
       "    <tr>\n",
       "      <th>2</th>\n",
       "      <td>10</td>\n",
       "      <td>5196000.0</td>\n",
       "      <td>56.0</td>\n",
       "      <td>2015-08-20T00:00:00</td>\n",
       "      <td>2</td>\n",
       "      <td>NaN</td>\n",
       "      <td>5.0</td>\n",
       "      <td>34.3</td>\n",
       "      <td>4</td>\n",
       "      <td>NaN</td>\n",
       "      <td>...</td>\n",
       "      <td>8.3</td>\n",
       "      <td>0.0</td>\n",
       "      <td>Санкт-Петербург</td>\n",
       "      <td>21741.0</td>\n",
       "      <td>13933.0</td>\n",
       "      <td>1.0</td>\n",
       "      <td>90.0</td>\n",
       "      <td>2.0</td>\n",
       "      <td>574.0</td>\n",
       "      <td>558.0</td>\n",
       "    </tr>\n",
       "    <tr>\n",
       "      <th>3</th>\n",
       "      <td>0</td>\n",
       "      <td>64900000.0</td>\n",
       "      <td>159.0</td>\n",
       "      <td>2015-07-24T00:00:00</td>\n",
       "      <td>3</td>\n",
       "      <td>NaN</td>\n",
       "      <td>14.0</td>\n",
       "      <td>NaN</td>\n",
       "      <td>9</td>\n",
       "      <td>NaN</td>\n",
       "      <td>...</td>\n",
       "      <td>NaN</td>\n",
       "      <td>0.0</td>\n",
       "      <td>Санкт-Петербург</td>\n",
       "      <td>28098.0</td>\n",
       "      <td>6800.0</td>\n",
       "      <td>2.0</td>\n",
       "      <td>84.0</td>\n",
       "      <td>3.0</td>\n",
       "      <td>234.0</td>\n",
       "      <td>424.0</td>\n",
       "    </tr>\n",
       "    <tr>\n",
       "      <th>4</th>\n",
       "      <td>2</td>\n",
       "      <td>10000000.0</td>\n",
       "      <td>100.0</td>\n",
       "      <td>2018-06-19T00:00:00</td>\n",
       "      <td>2</td>\n",
       "      <td>3.03</td>\n",
       "      <td>14.0</td>\n",
       "      <td>32.0</td>\n",
       "      <td>13</td>\n",
       "      <td>NaN</td>\n",
       "      <td>...</td>\n",
       "      <td>41.0</td>\n",
       "      <td>NaN</td>\n",
       "      <td>Санкт-Петербург</td>\n",
       "      <td>31856.0</td>\n",
       "      <td>8098.0</td>\n",
       "      <td>2.0</td>\n",
       "      <td>112.0</td>\n",
       "      <td>1.0</td>\n",
       "      <td>48.0</td>\n",
       "      <td>121.0</td>\n",
       "    </tr>\n",
       "  </tbody>\n",
       "</table>\n",
       "<p>5 rows × 22 columns</p>\n",
       "</div>"
      ],
      "text/plain": [
       "   total_images  last_price  total_area first_day_exposition  rooms  \\\n",
       "0            20  13000000.0       108.0  2019-03-07T00:00:00      3   \n",
       "1             7   3350000.0        40.4  2018-12-04T00:00:00      1   \n",
       "2            10   5196000.0        56.0  2015-08-20T00:00:00      2   \n",
       "3             0  64900000.0       159.0  2015-07-24T00:00:00      3   \n",
       "4             2  10000000.0       100.0  2018-06-19T00:00:00      2   \n",
       "\n",
       "   ceiling_height  floors_total  living_area  floor is_apartment  ...  \\\n",
       "0            2.70          16.0         51.0      8          NaN  ...   \n",
       "1             NaN          11.0         18.6      1          NaN  ...   \n",
       "2             NaN           5.0         34.3      4          NaN  ...   \n",
       "3             NaN          14.0          NaN      9          NaN  ...   \n",
       "4            3.03          14.0         32.0     13          NaN  ...   \n",
       "\n",
       "   kitchen_area  balcony    locality_name  airports_nearest  \\\n",
       "0          25.0      NaN  Санкт-Петербург           18863.0   \n",
       "1          11.0      2.0   посёлок Шушары           12817.0   \n",
       "2           8.3      0.0  Санкт-Петербург           21741.0   \n",
       "3           NaN      0.0  Санкт-Петербург           28098.0   \n",
       "4          41.0      NaN  Санкт-Петербург           31856.0   \n",
       "\n",
       "  cityCenters_nearest  parks_around3000  parks_nearest  ponds_around3000  \\\n",
       "0             16028.0               1.0          482.0               2.0   \n",
       "1             18603.0               0.0            NaN               0.0   \n",
       "2             13933.0               1.0           90.0               2.0   \n",
       "3              6800.0               2.0           84.0               3.0   \n",
       "4              8098.0               2.0          112.0               1.0   \n",
       "\n",
       "   ponds_nearest  days_exposition  \n",
       "0          755.0              NaN  \n",
       "1            NaN             81.0  \n",
       "2          574.0            558.0  \n",
       "3          234.0            424.0  \n",
       "4           48.0            121.0  \n",
       "\n",
       "[5 rows x 22 columns]"
      ]
     },
     "execution_count": 2,
     "metadata": {},
     "output_type": "execute_result"
    }
   ],
   "source": [
    "import pandas as pd\n",
    "data = pd.read_csv('/datasets/real_estate_data.csv', sep='\\t')\n",
    "data.info()\n",
    "data.head()"
   ]
  },
  {
   "cell_type": "markdown",
   "metadata": {},
   "source": [
    "<div class=\"alert alert-block alert-info\">\n",
    "<b> Общая гистограмма для всех числовых значений. На первый взгляд графики выглядят очень логично, выбивающихся значений не так много"
   ]
  },
  {
   "cell_type": "code",
   "execution_count": 3,
   "metadata": {},
   "outputs": [
    {
     "data": {
      "text/plain": [
       "array([[<AxesSubplot:title={'center':'total_images'}>,\n",
       "        <AxesSubplot:title={'center':'last_price'}>,\n",
       "        <AxesSubplot:title={'center':'total_area'}>,\n",
       "        <AxesSubplot:title={'center':'rooms'}>],\n",
       "       [<AxesSubplot:title={'center':'ceiling_height'}>,\n",
       "        <AxesSubplot:title={'center':'floors_total'}>,\n",
       "        <AxesSubplot:title={'center':'living_area'}>,\n",
       "        <AxesSubplot:title={'center':'floor'}>],\n",
       "       [<AxesSubplot:title={'center':'kitchen_area'}>,\n",
       "        <AxesSubplot:title={'center':'balcony'}>,\n",
       "        <AxesSubplot:title={'center':'airports_nearest'}>,\n",
       "        <AxesSubplot:title={'center':'cityCenters_nearest'}>],\n",
       "       [<AxesSubplot:title={'center':'parks_around3000'}>,\n",
       "        <AxesSubplot:title={'center':'parks_nearest'}>,\n",
       "        <AxesSubplot:title={'center':'ponds_around3000'}>,\n",
       "        <AxesSubplot:title={'center':'ponds_nearest'}>],\n",
       "       [<AxesSubplot:title={'center':'days_exposition'}>, <AxesSubplot:>,\n",
       "        <AxesSubplot:>, <AxesSubplot:>]], dtype=object)"
      ]
     },
     "execution_count": 3,
     "metadata": {},
     "output_type": "execute_result"
    },
    {
     "data": {
      "image/png": "[encoded data removed]",
      "text/plain": [
       "<Figure size 1080x1440 with 20 Axes>"
      ]
     },
     "metadata": {
      "needs_background": "light"
     },
     "output_type": "display_data"
    }
   ],
   "source": [
    "data.hist(figsize=(15, 20))"
   ]
  },
  {
   "cell_type": "markdown",
   "metadata": {},
   "source": [
    "### Предобработка данных"
   ]
  },
  {
   "cell_type": "markdown",
   "metadata": {},
   "source": [
    "#### Работа с пропусками"
   ]
  },
  {
   "cell_type": "code",
   "execution_count": 4,
   "metadata": {},
   "outputs": [
    {
     "data": {
      "text/plain": [
       "total_images                0\n",
       "last_price                  0\n",
       "total_area                  0\n",
       "first_day_exposition        0\n",
       "rooms                       0\n",
       "ceiling_height           9195\n",
       "floors_total               86\n",
       "living_area              1903\n",
       "floor                       0\n",
       "is_apartment            20924\n",
       "studio                      0\n",
       "open_plan                   0\n",
       "kitchen_area             2278\n",
       "balcony                 11519\n",
       "locality_name              49\n",
       "airports_nearest         5542\n",
       "cityCenters_nearest      5519\n",
       "parks_around3000         5518\n",
       "parks_nearest           15620\n",
       "ponds_around3000         5518\n",
       "ponds_nearest           14589\n",
       "days_exposition          3181\n",
       "dtype: int64"
      ]
     },
     "execution_count": 4,
     "metadata": {},
     "output_type": "execute_result"
    }
   ],
   "source": [
    "data.isna().sum() #пропусков немало"
   ]
  },
  {
   "cell_type": "markdown",
   "metadata": {},
   "source": [
    "<div class=\"alert alert-block alert-info\">\n",
    "<b> Пропуски в столбце 'is_apartment' могли случиться, если, например, продавец не указал, что квартира - не апартаменты, поэтому заменим пропуски на False. Аналогично с пропусками в столбцах 'balcony' 'parks_around3000''ponds_around3000'"
   ]
  },
  {
   "cell_type": "code",
   "execution_count": 5,
   "metadata": {},
   "outputs": [
    {
     "data": {
      "text/plain": [
       "total_images                0\n",
       "last_price                  0\n",
       "total_area                  0\n",
       "first_day_exposition        0\n",
       "rooms                       0\n",
       "ceiling_height           9195\n",
       "floors_total               86\n",
       "living_area              1903\n",
       "floor                       0\n",
       "is_apartment                0\n",
       "studio                      0\n",
       "open_plan                   0\n",
       "kitchen_area             2278\n",
       "balcony                     0\n",
       "locality_name              49\n",
       "airports_nearest         5542\n",
       "cityCenters_nearest      5519\n",
       "parks_around3000            0\n",
       "parks_nearest           15620\n",
       "ponds_around3000            0\n",
       "ponds_nearest           14589\n",
       "days_exposition          3181\n",
       "dtype: int64"
      ]
     },
     "execution_count": 5,
     "metadata": {},
     "output_type": "execute_result"
    }
   ],
   "source": [
    "data['is_apartment'] = data['is_apartment'].fillna(False)\n",
    "data['balcony'] = data['balcony'].fillna(0.0)\n",
    "data['parks_around3000'] = data['parks_around3000'].fillna(0)\n",
    "data['ponds_around3000'] = data['ponds_around3000'].fillna(0)\n",
    "data.isna().sum()"
   ]
  },
  {
   "cell_type": "markdown",
   "metadata": {},
   "source": [
    "<div class=\"alert alert-block alert-info\">\n",
    "<b> Пропуски в данных, которые составляли пользователи, имеют скорее всего человеческий фактор. Пропуски в картографических данных могут быть связаны с некорректным заполнением столбца locality_name или неточности в адресе, в отстутствие, например, парка в 3 км от квартиры."
   ]
  },
  {
   "cell_type": "markdown",
   "metadata": {},
   "source": [
    "#### Типы Данных"
   ]
  },
  {
   "cell_type": "code",
   "execution_count": 6,
   "metadata": {},
   "outputs": [
    {
     "data": {
      "text/plain": [
       "total_images              int64\n",
       "last_price              float64\n",
       "total_area              float64\n",
       "first_day_exposition     object\n",
       "rooms                     int64\n",
       "ceiling_height          float64\n",
       "floors_total            float64\n",
       "living_area             float64\n",
       "floor                     int64\n",
       "is_apartment               bool\n",
       "studio                     bool\n",
       "open_plan                  bool\n",
       "kitchen_area            float64\n",
       "balcony                 float64\n",
       "locality_name            object\n",
       "airports_nearest        float64\n",
       "cityCenters_nearest     float64\n",
       "parks_around3000        float64\n",
       "parks_nearest           float64\n",
       "ponds_around3000        float64\n",
       "ponds_nearest           float64\n",
       "days_exposition         float64\n",
       "dtype: object"
      ]
     },
     "execution_count": 6,
     "metadata": {},
     "output_type": "execute_result"
    }
   ],
   "source": [
    "data.dtypes"
   ]
  },
  {
   "cell_type": "code",
   "execution_count": 7,
   "metadata": {},
   "outputs": [
    {
     "data": {
      "text/plain": [
       "total_images                     int64\n",
       "last_price                     float64\n",
       "total_area                     float64\n",
       "first_day_exposition    datetime64[ns]\n",
       "rooms                            int64\n",
       "ceiling_height                 float64\n",
       "floors_total                   float64\n",
       "living_area                    float64\n",
       "floor                            int64\n",
       "is_apartment                      bool\n",
       "studio                            bool\n",
       "open_plan                         bool\n",
       "kitchen_area                   float64\n",
       "balcony                        float64\n",
       "locality_name                   object\n",
       "airports_nearest               float64\n",
       "cityCenters_nearest            float64\n",
       "parks_around3000               float64\n",
       "parks_nearest                  float64\n",
       "ponds_around3000               float64\n",
       "ponds_nearest                  float64\n",
       "days_exposition                float64\n",
       "dtype: object"
      ]
     },
     "execution_count": 7,
     "metadata": {},
     "output_type": "execute_result"
    }
   ],
   "source": [
    "data['first_day_exposition'] = pd.to_datetime(data['first_day_exposition'], \n",
    "                                             format = '%Y.%m.%dT%H:%M:%S')\n",
    "data.dtypes\n"
   ]
  },
  {
   "cell_type": "markdown",
   "metadata": {},
   "source": [
    "<div class=\"alert alert-block alert-info\">\n",
    "<b> Столбец first_day_exposition содержал дату, соответсвенно строковые значения следует перевести в формат date_time, для последующих действий со столбцом"
   ]
  },
  {
   "cell_type": "markdown",
   "metadata": {},
   "source": [
    "#### Обработка дубликатов"
   ]
  },
  {
   "cell_type": "code",
   "execution_count": 8,
   "metadata": {},
   "outputs": [
    {
     "data": {
      "text/plain": [
       "0"
      ]
     },
     "execution_count": 8,
     "metadata": {},
     "output_type": "execute_result"
    }
   ],
   "source": [
    "data.duplicated().sum() #проверяем есть ли явные дубликаты в данных"
   ]
  },
  {
   "cell_type": "code",
   "execution_count": 9,
   "metadata": {},
   "outputs": [
    {
     "data": {
      "text/plain": [
       "array(['Бокситогорск', 'Волосово', 'Волхов', 'Всеволожск', 'Выборг',\n",
       "       'Высоцк', 'Гатчина', 'Зеленогорск', 'Ивангород', 'Каменногорск',\n",
       "       'Кингисепп', 'Кириши', 'Кировск', 'Колпино', 'Коммунар',\n",
       "       'Красное Село', 'Кронштадт', 'Кудрово', 'Лодейное Поле',\n",
       "       'Ломоносов', 'Луга', 'Любань', 'Мурино', 'Никольское',\n",
       "       'Новая Ладога', 'Отрадное', 'Павловск', 'Петергоф', 'Пикалёво',\n",
       "       'Подпорожье', 'Приморск', 'Приозерск', 'Пушкин', 'Санкт-Петербург',\n",
       "       'Светогорск', 'Сертолово', 'Сестрорецк', 'Сланцы', 'Сосновый Бор',\n",
       "       'Сясьстрой', 'Тихвин', 'Тосно', 'Шлиссельбург',\n",
       "       'городской поселок Большая Ижора', 'городской поселок Янино-1',\n",
       "       'городской посёлок Будогощь', 'городской посёлок Виллози',\n",
       "       'городской посёлок Лесогорский', 'городской посёлок Мга',\n",
       "       'городской посёлок Назия', 'городской посёлок Новоселье',\n",
       "       'городской посёлок Павлово', 'городской посёлок Рощино',\n",
       "       'городской посёлок Свирьстрой', 'городской посёлок Советский',\n",
       "       'городской посёлок Фёдоровское', 'городской посёлок Янино-1',\n",
       "       'деревня Агалатово', 'деревня Аро', 'деревня Батово',\n",
       "       'деревня Бегуницы', 'деревня Белогорка', 'деревня Большая Вруда',\n",
       "       'деревня Большая Пустомержа', 'деревня Большие Колпаны',\n",
       "       'деревня Большое Рейзино', 'деревня Большой Сабск', 'деревня Бор',\n",
       "       'деревня Борисова Грива', 'деревня Ваганово', 'деревня Вартемяги',\n",
       "       'деревня Вахнова Кара', 'деревня Выскатка', 'деревня Гарболово',\n",
       "       'деревня Глинка', 'деревня Горбунки', 'деревня Гостилицы',\n",
       "       'деревня Заклинье', 'деревня Заневка', 'деревня Зимитицы',\n",
       "       'деревня Извара', 'деревня Иссад', 'деревня Калитино',\n",
       "       'деревня Кальтино', 'деревня Камышовка', 'деревня Каськово',\n",
       "       'деревня Келози', 'деревня Кипень', 'деревня Кисельня',\n",
       "       'деревня Колтуши', 'деревня Коркино', 'деревня Котлы',\n",
       "       'деревня Кривко', 'деревня Кудрово', 'деревня Кузьмолово',\n",
       "       'деревня Курковицы', 'деревня Куровицы', 'деревня Куттузи',\n",
       "       'деревня Лаврики', 'деревня Лаголово', 'деревня Лампово',\n",
       "       'деревня Лесколово', 'деревня Лопухинка', 'деревня Лупполово',\n",
       "       'деревня Малая Романовка', 'деревня Малое Верево',\n",
       "       'деревня Малое Карлино', 'деревня Малые Колпаны',\n",
       "       'деревня Мануйлово', 'деревня Меньково', 'деревня Мины',\n",
       "       'деревня Мистолово', 'деревня Ненимяки', 'деревня Нижние Осельки',\n",
       "       'деревня Нижняя', 'деревня Низино', 'деревня Новое Девяткино',\n",
       "       'деревня Новолисино', 'деревня Нурма', 'деревня Оржицы',\n",
       "       'деревня Парицы', 'деревня Пельгора', 'деревня Пеники',\n",
       "       'деревня Пижма', 'деревня Пикколово', 'деревня Пудомяги',\n",
       "       'деревня Пустынка', 'деревня Пчева', 'деревня Рабитицы',\n",
       "       'деревня Разбегаево', 'деревня Раздолье', 'деревня Разметелево',\n",
       "       'деревня Рапполово', 'деревня Реброво', 'деревня Русско',\n",
       "       'деревня Сижно', 'деревня Снегирёвка', 'деревня Старая',\n",
       "       'деревня Старая Пустошь', 'деревня Старое Хинколово',\n",
       "       'деревня Старополье', 'деревня Старосиверская',\n",
       "       'деревня Старые Бегуницы', 'деревня Суоранда',\n",
       "       'деревня Сяськелево', 'деревня Тарасово', 'деревня Терпилицы',\n",
       "       'деревня Тихковицы', 'деревня Тойворово', 'деревня Торосово',\n",
       "       'деревня Торошковичи', 'деревня Трубников Бор',\n",
       "       'деревня Фалилеево', 'деревня Фёдоровское', 'деревня Хапо-Ое',\n",
       "       'деревня Хязельки', 'деревня Чудской Бор', 'деревня Шпаньково',\n",
       "       'деревня Щеглово', 'деревня Юкки', 'деревня Ялгино',\n",
       "       'деревня Яльгелево', 'деревня Ям-Тесово',\n",
       "       'коттеджный поселок Кивеннапа Север', 'коттеджный поселок Счастье',\n",
       "       'коттеджный посёлок Лесное', 'поселок Аннино', 'поселок Барышево',\n",
       "       'поселок Бугры', 'поселок Возрождение', 'поселок Войсковицы',\n",
       "       'поселок Володарское', 'поселок Гаврилово', 'поселок Гарболово',\n",
       "       'поселок Гладкое', 'поселок Глажево', 'поселок Глебычево',\n",
       "       'поселок Гончарово', 'поселок Громово', 'поселок Дружноселье',\n",
       "       'поселок Елизаветино', 'поселок Жилгородок', 'поселок Жилпосёлок',\n",
       "       'поселок Житково', 'поселок Заводской', 'поселок Запорожское',\n",
       "       'поселок Зимитицы', 'поселок Ильичёво', 'поселок Калитино',\n",
       "       'поселок Каложицы', 'поселок Кингисеппский', 'поселок Кирпичное',\n",
       "       'поселок Кобралово', 'поселок Кобринское', 'поселок Коммунары',\n",
       "       'поселок Коробицыно', 'поселок Котельский',\n",
       "       'поселок Красная Долина', 'поселок Красносельское',\n",
       "       'поселок Лесное', 'поселок Лисий Нос', 'поселок Лукаши',\n",
       "       'поселок Любань', 'поселок Мельниково', 'поселок Мичуринское',\n",
       "       'поселок Молодцово', 'поселок Мурино', 'поселок Новый Свет',\n",
       "       'поселок Новый Учхоз', 'поселок Оредеж',\n",
       "       'поселок Пансионат Зелёный Бор', 'поселок Первомайское',\n",
       "       'поселок Перово', 'поселок Петровское', 'поселок Победа',\n",
       "       'поселок Поляны', 'поселок Почап', 'поселок Починок',\n",
       "       'поселок Пушное', 'поселок Пчевжа', 'поселок Рабитицы',\n",
       "       'поселок Романовка', 'поселок Ромашки', 'поселок Рябово',\n",
       "       'поселок Севастьяново', 'поселок Селезнёво', 'поселок Сельцо',\n",
       "       'поселок Семиозерье', 'поселок Семрино', 'поселок Серебрянский',\n",
       "       'поселок Совхозный', 'поселок Старая Малукса',\n",
       "       'поселок Стеклянный', 'поселок Сумино', 'поселок Суходолье',\n",
       "       'поселок Тельмана', 'поселок Терволово', 'поселок Торковичи',\n",
       "       'поселок Тёсово-4', 'поселок Углово', 'поселок Усть-Луга',\n",
       "       'поселок Ушаки', 'поселок Цвелодубово', 'поселок Цвылёво',\n",
       "       'поселок городского типа Большая Ижора',\n",
       "       'поселок городского типа Вырица',\n",
       "       'поселок городского типа Дружная Горка',\n",
       "       'поселок городского типа Дубровка',\n",
       "       'поселок городского типа Ефимовский',\n",
       "       'поселок городского типа Кондратьево',\n",
       "       'поселок городского типа Красный Бор',\n",
       "       'поселок городского типа Кузьмоловский',\n",
       "       'поселок городского типа Лебяжье',\n",
       "       'поселок городского типа Лесогорский',\n",
       "       'поселок городского типа Назия',\n",
       "       'поселок городского типа Никольский',\n",
       "       'поселок городского типа Приладожский',\n",
       "       'поселок городского типа Рахья', 'поселок городского типа Рощино',\n",
       "       'поселок городского типа Рябово',\n",
       "       'поселок городского типа Синявино',\n",
       "       'поселок городского типа Советский',\n",
       "       'поселок городского типа Токсово',\n",
       "       'поселок городского типа Форносово',\n",
       "       'поселок городского типа имени Свердлова',\n",
       "       'поселок станции Вещево', 'поселок станции Корнево',\n",
       "       'поселок станции Лужайка', 'поселок станции Приветнинское',\n",
       "       'посёлок Александровская', 'посёлок Алексеевка', 'посёлок Аннино',\n",
       "       'посёлок Белоостров', 'посёлок Бугры', 'посёлок Возрождение',\n",
       "       'посёлок Войскорово', 'посёлок Высокоключевой',\n",
       "       'посёлок Гаврилово', 'посёлок Дзержинского', 'посёлок Жилгородок',\n",
       "       'посёлок Ильичёво', 'посёлок Кикерино', 'посёлок Кобралово',\n",
       "       'посёлок Коробицыно', 'посёлок Левашово', 'посёлок Ленинское',\n",
       "       'посёлок Лисий Нос', 'посёлок Мельниково', 'посёлок Металлострой',\n",
       "       'посёлок Мичуринское', 'посёлок Молодёжное', 'посёлок Мурино',\n",
       "       'посёлок Мыза-Ивановка', 'посёлок Новогорелово',\n",
       "       'посёлок Новый Свет', 'посёлок Пансионат Зелёный Бор',\n",
       "       'посёлок Парголово', 'посёлок Перово', 'посёлок Песочный',\n",
       "       'посёлок Петро-Славянка', 'посёлок Петровское',\n",
       "       'посёлок Платформа 69-й километр', 'посёлок Плодовое',\n",
       "       'посёлок Плоское', 'посёлок Победа', 'посёлок Поляны',\n",
       "       'посёлок Понтонный', 'посёлок Пригородный', 'посёлок Пудость',\n",
       "       'посёлок Репино', 'посёлок Ропша', 'посёлок Сапёрное',\n",
       "       'посёлок Сапёрный', 'посёлок Сосново', 'посёлок Старая Малукса',\n",
       "       'посёлок Стеклянный', 'посёлок Стрельна', 'посёлок Суйда',\n",
       "       'посёлок Сумино', 'посёлок Тельмана', 'посёлок Терволово',\n",
       "       'посёлок Торфяное', 'посёлок Усть-Ижора', 'посёлок Усть-Луга',\n",
       "       'посёлок Форт Красная Горка', 'посёлок Шугозеро', 'посёлок Шушары',\n",
       "       'посёлок Щеглово', 'посёлок городского типа Важины',\n",
       "       'посёлок городского типа Вознесенье',\n",
       "       'посёлок городского типа Вырица',\n",
       "       'посёлок городского типа Красный Бор',\n",
       "       'посёлок городского типа Кузнечное',\n",
       "       'посёлок городского типа Кузьмоловский',\n",
       "       'посёлок городского типа Лебяжье', 'посёлок городского типа Мга',\n",
       "       'посёлок городского типа Павлово',\n",
       "       'посёлок городского типа Рощино', 'посёлок городского типа Рябово',\n",
       "       'посёлок городского типа Сиверский',\n",
       "       'посёлок городского типа Тайцы', 'посёлок городского типа Токсово',\n",
       "       'посёлок городского типа Ульяновка',\n",
       "       'посёлок городского типа Форносово',\n",
       "       'посёлок городского типа имени Морозова',\n",
       "       'посёлок городского типа имени Свердлова',\n",
       "       'посёлок при железнодорожной станции Вещево',\n",
       "       'посёлок при железнодорожной станции Приветнинское',\n",
       "       'посёлок станции Громово', 'посёлок станции Свирь',\n",
       "       'садоводческое некоммерческое товарищество Лесная Поляна',\n",
       "       'садовое товарищество Новая Ропша',\n",
       "       'садовое товарищество Приладожский', 'садовое товарищество Рахья',\n",
       "       'садовое товарищество Садко', 'село Копорье', 'село Никольское',\n",
       "       'село Павлово', 'село Паша', 'село Путилово', 'село Рождествено',\n",
       "       'село Русско-Высоцкое', 'село Старая Ладога', 'село Шум', nan],\n",
       "      dtype=object)"
      ]
     },
     "execution_count": 9,
     "metadata": {},
     "output_type": "execute_result"
    }
   ],
   "source": [
    "# а что с неявными?\n",
    "data['locality_name'].sort_values().unique()"
   ]
  },
  {
   "cell_type": "markdown",
   "metadata": {},
   "source": [
    "<div class=\"alert alert-block alert-info\">\n",
    "<b> В столбце с названиями можем заметить неявные дубликаты. Заменим 'ё' на 'е' в навзаниях местности. Также заменим синонимы 'поселок городского типа', 'городской поселок' на 'поселок'."
   ]
  },
  {
   "cell_type": "code",
   "execution_count": 10,
   "metadata": {},
   "outputs": [
    {
     "data": {
      "text/plain": [
       "array(['Бокситогорск', 'Волосово', 'Волхов', 'Всеволожск', 'Выборг',\n",
       "       'Высоцк', 'Гатчина', 'Зеленогорск', 'Ивангород', 'Каменногорск',\n",
       "       'Кингисепп', 'Кириши', 'Кировск', 'Колпино', 'Коммунар',\n",
       "       'Красное Село', 'Кронштадт', 'Кудрово', 'Лодейное Поле',\n",
       "       'Ломоносов', 'Луга', 'Любань', 'Мурино', 'Никольское',\n",
       "       'Новая Ладога', 'Отрадное', 'Павловск', 'Петергоф', 'Пикалево',\n",
       "       'Подпорожье', 'Приморск', 'Приозерск', 'Пушкин', 'Санкт-Петербург',\n",
       "       'Светогорск', 'Сертолово', 'Сестрорецк', 'Сланцы', 'Сосновый Бор',\n",
       "       'Сясьстрой', 'Тихвин', 'Тосно', 'Шлиссельбург',\n",
       "       'деревня Агалатово', 'деревня Аро', 'деревня Батово',\n",
       "       'деревня Бегуницы', 'деревня Белогорка', 'деревня Большая Вруда',\n",
       "       'деревня Большая Пустомержа', 'деревня Большие Колпаны',\n",
       "       'деревня Большое Рейзино', 'деревня Большой Сабск', 'деревня Бор',\n",
       "       'деревня Борисова Грива', 'деревня Ваганово', 'деревня Вартемяги',\n",
       "       'деревня Вахнова Кара', 'деревня Выскатка', 'деревня Гарболово',\n",
       "       'деревня Глинка', 'деревня Горбунки', 'деревня Гостилицы',\n",
       "       'деревня Заклинье', 'деревня Заневка', 'деревня Зимитицы',\n",
       "       'деревня Извара', 'деревня Иссад', 'деревня Калитино',\n",
       "       'деревня Кальтино', 'деревня Камышовка', 'деревня Каськово',\n",
       "       'деревня Келози', 'деревня Кипень', 'деревня Кисельня',\n",
       "       'деревня Колтуши', 'деревня Коркино', 'деревня Котлы',\n",
       "       'деревня Кривко', 'деревня Кудрово', 'деревня Кузьмолово',\n",
       "       'деревня Курковицы', 'деревня Куровицы', 'деревня Куттузи',\n",
       "       'деревня Лаврики', 'деревня Лаголово', 'деревня Лампово',\n",
       "       'деревня Лесколово', 'деревня Лопухинка', 'деревня Лупполово',\n",
       "       'деревня Малая Романовка', 'деревня Малое Верево',\n",
       "       'деревня Малое Карлино', 'деревня Малые Колпаны',\n",
       "       'деревня Мануйлово', 'деревня Меньково', 'деревня Мины',\n",
       "       'деревня Мистолово', 'деревня Ненимяки', 'деревня Нижние Осельки',\n",
       "       'деревня Нижняя', 'деревня Низино', 'деревня Новое Девяткино',\n",
       "       'деревня Новолисино', 'деревня Нурма', 'деревня Оржицы',\n",
       "       'деревня Парицы', 'деревня Пельгора', 'деревня Пеники',\n",
       "       'деревня Пижма', 'деревня Пикколово', 'деревня Пудомяги',\n",
       "       'деревня Пустынка', 'деревня Пчева', 'деревня Рабитицы',\n",
       "       'деревня Разбегаево', 'деревня Раздолье', 'деревня Разметелево',\n",
       "       'деревня Рапполово', 'деревня Реброво', 'деревня Русско',\n",
       "       'деревня Сижно', 'деревня Снегиревка', 'деревня Старая',\n",
       "       'деревня Старая Пустошь', 'деревня Старое Хинколово',\n",
       "       'деревня Старополье', 'деревня Старосиверская',\n",
       "       'деревня Старые Бегуницы', 'деревня Суоранда',\n",
       "       'деревня Сяськелево', 'деревня Тарасово', 'деревня Терпилицы',\n",
       "       'деревня Тихковицы', 'деревня Тойворово', 'деревня Торосово',\n",
       "       'деревня Торошковичи', 'деревня Трубников Бор',\n",
       "       'деревня Фалилеево', 'деревня Федоровское', 'деревня Хапо-Ое',\n",
       "       'деревня Хязельки', 'деревня Чудской Бор', 'деревня Шпаньково',\n",
       "       'деревня Щеглово', 'деревня Юкки', 'деревня Ялгино',\n",
       "       'деревня Яльгелево', 'деревня Ям-Тесово',\n",
       "       'коттеджный поселок Кивеннапа Север', 'коттеджный поселок Лесное',\n",
       "       'коттеджный поселок Счастье', 'поселок Александровская',\n",
       "       'поселок Алексеевка', 'поселок Аннино', 'поселок Барышево',\n",
       "       'поселок Белоостров', 'поселок Большая Ижора', 'поселок Бугры',\n",
       "       'поселок Будогощь', 'поселок Важины', 'поселок Виллози',\n",
       "       'поселок Вознесенье', 'поселок Возрождение', 'поселок Войсковицы',\n",
       "       'поселок Войскорово', 'поселок Володарское', 'поселок Вырица',\n",
       "       'поселок Высокоключевой', 'поселок Гаврилово', 'поселок Гарболово',\n",
       "       'поселок Гладкое', 'поселок Глажево', 'поселок Глебычево',\n",
       "       'поселок Гончарово', 'поселок Громово', 'поселок Дзержинского',\n",
       "       'поселок Дружная Горка', 'поселок Дружноселье', 'поселок Дубровка',\n",
       "       'поселок Елизаветино', 'поселок Ефимовский', 'поселок Жилгородок',\n",
       "       'поселок Жилпоселок', 'поселок Житково', 'поселок Заводской',\n",
       "       'поселок Запорожское', 'поселок Зимитицы', 'поселок Ильичево',\n",
       "       'поселок Калитино', 'поселок Каложицы', 'поселок Кикерино',\n",
       "       'поселок Кингисеппский', 'поселок Кирпичное', 'поселок Кобралово',\n",
       "       'поселок Кобринское', 'поселок Коммунары', 'поселок Кондратьево',\n",
       "       'поселок Коробицыно', 'поселок Котельский',\n",
       "       'поселок Красная Долина', 'поселок Красносельское',\n",
       "       'поселок Красный Бор', 'поселок Кузнечное',\n",
       "       'поселок Кузьмоловский', 'поселок Лебяжье', 'поселок Левашово',\n",
       "       'поселок Ленинское', 'поселок Лесное', 'поселок Лесогорский',\n",
       "       'поселок Лисий Нос', 'поселок Лукаши', 'поселок Любань',\n",
       "       'поселок Мга', 'поселок Мельниково', 'поселок Металлострой',\n",
       "       'поселок Мичуринское', 'поселок Молодежное', 'поселок Молодцово',\n",
       "       'поселок Мурино', 'поселок Мыза-Ивановка', 'поселок Назия',\n",
       "       'поселок Никольский', 'поселок Новогорелово', 'поселок Новоселье',\n",
       "       'поселок Новый Свет', 'поселок Новый Учхоз', 'поселок Оредеж',\n",
       "       'поселок Павлово', 'поселок Пансионат Зеленый Бор',\n",
       "       'поселок Парголово', 'поселок Первомайское', 'поселок Перово',\n",
       "       'поселок Песочный', 'поселок Петро-Славянка', 'поселок Петровское',\n",
       "       'поселок Платформа 69-й километр', 'поселок Плодовое',\n",
       "       'поселок Плоское', 'поселок Победа', 'поселок Поляны',\n",
       "       'поселок Понтонный', 'поселок Почап', 'поселок Починок',\n",
       "       'поселок Пригородный', 'поселок Приладожский', 'поселок Пудость',\n",
       "       'поселок Пушное', 'поселок Пчевжа', 'поселок Рабитицы',\n",
       "       'поселок Рахья', 'поселок Репино', 'поселок Романовка',\n",
       "       'поселок Ромашки', 'поселок Ропша', 'поселок Рощино',\n",
       "       'поселок Рябово', 'поселок Саперное', 'поселок Саперный',\n",
       "       'поселок Свирьстрой', 'поселок Севастьяново', 'поселок Селезнево',\n",
       "       'поселок Сельцо', 'поселок Семиозерье', 'поселок Семрино',\n",
       "       'поселок Серебрянский', 'поселок Сиверский', 'поселок Синявино',\n",
       "       'поселок Советский', 'поселок Совхозный', 'поселок Сосново',\n",
       "       'поселок Старая Малукса', 'поселок Стеклянный', 'поселок Стрельна',\n",
       "       'поселок Суйда', 'поселок Сумино', 'поселок Суходолье',\n",
       "       'поселок Тайцы', 'поселок Тельмана', 'поселок Терволово',\n",
       "       'поселок Тесово-4', 'поселок Токсово', 'поселок Торковичи',\n",
       "       'поселок Торфяное', 'поселок Углово', 'поселок Ульяновка',\n",
       "       'поселок Усть-Ижора', 'поселок Усть-Луга', 'поселок Ушаки',\n",
       "       'поселок Федоровское', 'поселок Форносово',\n",
       "       'поселок Форт Красная Горка', 'поселок Цвелодубово',\n",
       "       'поселок Цвылево', 'поселок Шугозеро', 'поселок Шушары',\n",
       "       'поселок Щеглово', 'поселок Янино-1', 'поселок имени Морозова',\n",
       "       'поселок имени Свердлова',\n",
       "       'поселок при железнодорожной станции Вещево',\n",
       "       'поселок при железнодорожной станции Приветнинское',\n",
       "       'поселок станции Вещево', 'поселок станции Громово',\n",
       "       'поселок станции Корнево', 'поселок станции Лужайка',\n",
       "       'поселок станции Приветнинское', 'поселок станции Свирь',\n",
       "       'садоводческое некоммерческое товарищество Лесная Поляна',\n",
       "       'садовое товарищество Новая Ропша',\n",
       "       'садовое товарищество Приладожский', 'садовое товарищество Рахья',\n",
       "       'садовое товарищество Садко', 'село Копорье', 'село Никольское',\n",
       "       'село Павлово', 'село Паша', 'село Путилово', 'село Рождествено',\n",
       "       'село Русско-Высоцкое', 'село Старая Ладога', 'село Шум', nan],\n",
       "      dtype=object)"
      ]
     },
     "execution_count": 10,
     "metadata": {},
     "output_type": "execute_result"
    }
   ],
   "source": [
    "data['locality_name'] = data['locality_name'].str.replace('ё', 'е', regex=True)\n",
    "data['locality_name'] = data['locality_name'].str.replace('поселок городского типа', 'поселок', regex=True)\n",
    "data['locality_name'] = data['locality_name'].str.replace('городской поселок', 'поселок', regex=True)\n",
    "\n",
    "data['locality_name'].sort_values().unique()"
   ]
  },
  {
   "cell_type": "markdown",
   "metadata": {},
   "source": [
    "#### Убираем редкие значения"
   ]
  },
  {
   "cell_type": "markdown",
   "metadata": {},
   "source": [
    "<div class=\"alert alert-block alert-info\">\n",
    "<b> В столбце 'ceiling_height' высота потолка принамает нереалистичные значения 1, 25, 100 м. Такие выбивающиеся значения следует исключить или преобразовать"
   ]
  },
  {
   "cell_type": "code",
   "execution_count": 11,
   "metadata": {},
   "outputs": [
    {
     "data": {
      "text/plain": [
       "array([  1.  ,   1.2 ,   1.75,   2.  ,   2.2 ,   2.25,   2.3 ,   2.34,\n",
       "         2.4 ,   2.45,   2.46,   2.47,   2.48,   2.49,   2.5 ,   2.51,\n",
       "         2.52,   2.53,   2.54,   2.55,   2.56,   2.57,   2.58,   2.59,\n",
       "         2.6 ,   2.61,   2.62,   2.63,   2.64,   2.65,   2.66,   2.67,\n",
       "         2.68,   2.69,   2.7 ,   2.71,   2.72,   2.73,   2.74,   2.75,\n",
       "         2.76,   2.77,   2.78,   2.79,   2.8 ,   2.81,   2.82,   2.83,\n",
       "         2.84,   2.85,   2.86,   2.87,   2.88,   2.89,   2.9 ,   2.91,\n",
       "         2.92,   2.93,   2.94,   2.95,   2.96,   2.97,   2.98,   2.99,\n",
       "         3.  ,   3.01,   3.02,   3.03,   3.04,   3.05,   3.06,   3.07,\n",
       "         3.08,   3.09,   3.1 ,   3.11,   3.12,   3.13,   3.14,   3.15,\n",
       "         3.16,   3.17,   3.18,   3.2 ,   3.21,   3.22,   3.23,   3.24,\n",
       "         3.25,   3.26,   3.27,   3.28,   3.29,   3.3 ,   3.31,   3.32,\n",
       "         3.33,   3.34,   3.35,   3.36,   3.37,   3.38,   3.39,   3.4 ,\n",
       "         3.42,   3.43,   3.44,   3.45,   3.46,   3.47,   3.48,   3.49,\n",
       "         3.5 ,   3.51,   3.52,   3.53,   3.54,   3.55,   3.56,   3.57,\n",
       "         3.58,   3.59,   3.6 ,   3.62,   3.63,   3.65,   3.66,   3.67,\n",
       "         3.68,   3.69,   3.7 ,   3.75,   3.76,   3.78,   3.8 ,   3.82,\n",
       "         3.83,   3.84,   3.85,   3.86,   3.87,   3.88,   3.9 ,   3.93,\n",
       "         3.95,   3.98,   4.  ,   4.06,   4.1 ,   4.14,   4.15,   4.19,\n",
       "         4.2 ,   4.25,   4.3 ,   4.37,   4.4 ,   4.45,   4.5 ,   4.65,\n",
       "         4.7 ,   4.8 ,   4.9 ,   5.  ,   5.2 ,   5.3 ,   5.5 ,   5.6 ,\n",
       "         5.8 ,   6.  ,   8.  ,   8.3 ,  10.3 ,  14.  ,  20.  ,  22.6 ,\n",
       "        24.  ,  25.  ,  26.  ,  27.  ,  27.5 ,  32.  , 100.  ,    nan])"
      ]
     },
     "execution_count": 11,
     "metadata": {},
     "output_type": "execute_result"
    }
   ],
   "source": [
    "data['ceiling_height'].sort_values().unique()"
   ]
  },
  {
   "cell_type": "code",
   "execution_count": 12,
   "metadata": {},
   "outputs": [
    {
     "data": {
      "text/plain": [
       "array([2.2 , 2.25, 2.26, 2.3 , 2.34, 2.4 , 2.45, 2.46, 2.47, 2.48, 2.49,\n",
       "       2.5 , 2.51, 2.52, 2.53, 2.54, 2.55, 2.56, 2.57, 2.58, 2.59, 2.6 ,\n",
       "       2.61, 2.62, 2.63, 2.64, 2.65, 2.66, 2.67, 2.68, 2.69, 2.7 , 2.71,\n",
       "       2.72, 2.73, 2.74, 2.75, 2.76, 2.77, 2.78, 2.79, 2.8 , 2.81, 2.82,\n",
       "       2.83, 2.84, 2.85, 2.86, 2.87, 2.88, 2.89, 2.9 , 2.91, 2.92, 2.93,\n",
       "       2.94, 2.95, 2.96, 2.97, 2.98, 2.99, 3.  , 3.01, 3.02, 3.03, 3.04,\n",
       "       3.05, 3.06, 3.07, 3.08, 3.09, 3.1 , 3.11, 3.12, 3.13, 3.14, 3.15,\n",
       "       3.16, 3.17, 3.18, 3.2 , 3.21, 3.22, 3.23, 3.24, 3.25, 3.26, 3.27,\n",
       "       3.28, 3.29, 3.3 , 3.31, 3.32, 3.33, 3.34, 3.35, 3.36, 3.37, 3.38,\n",
       "       3.39, 3.4 , 3.42, 3.43, 3.44, 3.45, 3.46, 3.47, 3.48, 3.49, 3.5 ,\n",
       "       3.51, 3.52, 3.53, 3.54, 3.55, 3.56, 3.57, 3.58, 3.59, 3.6 , 3.62,\n",
       "       3.63, 3.65, 3.66, 3.67, 3.68, 3.69, 3.7 , 3.75, 3.76, 3.78, 3.8 ,\n",
       "       3.82, 3.83, 3.84, 3.85, 3.86, 3.87, 3.88, 3.9 , 3.93, 3.95, 3.98,\n",
       "       4.  , 4.06, 4.1 , 4.14, 4.15, 4.19, 4.2 , 4.25, 4.3 , 4.37, 4.4 ,\n",
       "       4.45, 4.5 , 4.65, 4.7 , 4.8 , 4.9 , 5.  , 5.2 , 5.3 , 5.5 , 5.6 ,\n",
       "       5.8 , 6.  ,  nan])"
      ]
     },
     "execution_count": 12,
     "metadata": {},
     "output_type": "execute_result"
    }
   ],
   "source": [
    "\n",
    "data['ceiling_height'] = data['ceiling_height'].replace(to_replace=[20, 22.6, 24, 25, 26, 27, 27.5, 32], value=[2, 2.26, 2.4, 2.5, 2.6, 2.7, 2.75, 3.2])\n",
    "data['ceiling_height'] = data[(data['ceiling_height']<=6) & (data['ceiling_height']>=2.2)]['ceiling_height']\n",
    "data['ceiling_height'].sort_values().unique()\n"
   ]
  },
  {
   "cell_type": "markdown",
   "metadata": {},
   "source": [
    "<div class=\"alert alert-block alert-info\">\n",
    "<b>Сегодня минимальной нормой в России считается высота потолка 2,2 метра, поэтому потолки ниже этого значения мы удалили. Высота потолка в квартире не ограничена нормой, но здравый смысл подсказывает, что максимальные значения - в районе 5-6 метров. Аномально высокие потолки (больше 22 метров) скорее всего указаны в дм, а значит их следует заменить на вещественные значения в метрах"
   ]
  },
  {
   "cell_type": "markdown",
   "metadata": {},
   "source": [
    "<div class=\"alert alert-block alert-info\">\n",
    "<b>Работаем с пропусками дальше. Удалим строки квартир без указанных значений в столбце locality_name.  А также заполним пропуски некоторых количественных величин"
   ]
  },
  {
   "cell_type": "code",
   "execution_count": 13,
   "metadata": {},
   "outputs": [
    {
     "data": {
      "text/plain": [
       "total_images                0\n",
       "last_price                  0\n",
       "total_area                  0\n",
       "first_day_exposition        0\n",
       "rooms                       0\n",
       "ceiling_height           9217\n",
       "floors_total               86\n",
       "living_area              1903\n",
       "floor                       0\n",
       "is_apartment                0\n",
       "studio                      0\n",
       "open_plan                   0\n",
       "kitchen_area             2278\n",
       "balcony                     0\n",
       "locality_name              49\n",
       "airports_nearest         5542\n",
       "cityCenters_nearest      5519\n",
       "parks_around3000            0\n",
       "parks_nearest           15620\n",
       "ponds_around3000            0\n",
       "ponds_nearest           14589\n",
       "days_exposition          3181\n",
       "dtype: int64"
      ]
     },
     "execution_count": 13,
     "metadata": {},
     "output_type": "execute_result"
    }
   ],
   "source": [
    "data.isna().sum()"
   ]
  },
  {
   "cell_type": "code",
   "execution_count": 14,
   "metadata": {},
   "outputs": [
    {
     "data": {
      "text/plain": [
       "total_images                0\n",
       "last_price                  0\n",
       "total_area                  0\n",
       "first_day_exposition        0\n",
       "rooms                       0\n",
       "ceiling_height           9182\n",
       "floors_total               85\n",
       "living_area              1898\n",
       "floor                       0\n",
       "is_apartment                0\n",
       "studio                      0\n",
       "open_plan                   0\n",
       "kitchen_area             2269\n",
       "balcony                     0\n",
       "locality_name               0\n",
       "airports_nearest         5534\n",
       "cityCenters_nearest      5511\n",
       "parks_around3000            0\n",
       "parks_nearest           15586\n",
       "ponds_around3000            0\n",
       "ponds_nearest           14565\n",
       "days_exposition          3180\n",
       "dtype: int64"
      ]
     },
     "execution_count": 14,
     "metadata": {},
     "output_type": "execute_result"
    }
   ],
   "source": [
    "#удалим строки квартир без указанных значений в столбце locality_name\n",
    "data = (data.dropna(subset=['locality_name']).reset_index(drop=True))\n",
    "data.isna().sum()"
   ]
  },
  {
   "cell_type": "markdown",
   "metadata": {},
   "source": [
    "<div class=\"alert alert-block alert-info\">\n",
    "<b> Заполню пропуски в количественных данных ('ceiling_height', 'living_area', 'floors_total', 'parks_nearest'  ) на медианные значения в зависимости от категории. "
   ]
  },
  {
   "cell_type": "code",
   "execution_count": 15,
   "metadata": {},
   "outputs": [
    {
     "data": {
      "text/plain": [
       "0"
      ]
     },
     "execution_count": 15,
     "metadata": {},
     "output_type": "execute_result"
    }
   ],
   "source": [
    "data['total_area'].sort_values().unique()\n",
    "#data.info()\n",
    "data['total_area'].isna().sum()\n",
    "#data['ceiling_height'].sort_values()"
   ]
  },
  {
   "cell_type": "code",
   "execution_count": 16,
   "metadata": {},
   "outputs": [],
   "source": [
    "#ceiling_height заполним пропуски медианным значением для определенной площади, но\n",
    "#для начала создадим функцию для котегоризации обще площади квартиры на small, middle,\n",
    "#big\n",
    "def categorize_area(area):\n",
    "    try:\n",
    "        if 12 <= area < 100:\n",
    "            return 'small'\n",
    "        elif 100 <= area < 500:\n",
    "            return 'middle'\n",
    "        elif area >=500 :\n",
    "            return 'big'\n",
    "    except:\n",
    "        pass\n",
    "#создаем новый столбей с категоризованными данными общей площади\n",
    "data['categorized_area'] = data['total_area'].apply(categorize_area)\n",
    "#data\n"
   ]
  },
  {
   "cell_type": "code",
   "execution_count": 17,
   "metadata": {},
   "outputs": [],
   "source": [
    "#создаем функцию для заполнения пропусков на медианные значения по категории\n",
    "def fill_median(data, onwhat, what ):\n",
    "    for f in data[onwhat].unique():\n",
    "        data.loc[(data[onwhat] == f) & (data[what].isna()), what] = data.loc[(data[onwhat] == f), what].median()\n",
    "    return data[what].isna().sum()"
   ]
  },
  {
   "cell_type": "code",
   "execution_count": 18,
   "metadata": {},
   "outputs": [
    {
     "data": {
      "text/plain": [
       "0"
      ]
     },
     "execution_count": 18,
     "metadata": {},
     "output_type": "execute_result"
    }
   ],
   "source": [
    "# заполняем пропуски в 'ceiling_height' по 'categorized_area'\n",
    "fill_median(data, 'categorized_area', 'ceiling_height')\n"
   ]
  },
  {
   "cell_type": "code",
   "execution_count": 19,
   "metadata": {},
   "outputs": [
    {
     "data": {
      "text/plain": [
       "0"
      ]
     },
     "execution_count": 19,
     "metadata": {},
     "output_type": "execute_result"
    }
   ],
   "source": [
    "# заполняем пропуски в 'living_area' по 'rooms'\n",
    "#for m in data['rooms'].unique():\n",
    "    #data.loc[(data['rooms'] == m) & (data['living_area'].isna()), 'living_area'] = data.loc[(data['rooms'] == m), 'living_area'].median()\n",
    "\n",
    "fill_median(data, 'rooms', 'living_area')\n"
   ]
  },
  {
   "cell_type": "code",
   "execution_count": 20,
   "metadata": {},
   "outputs": [
    {
     "data": {
      "text/plain": [
       "0"
      ]
     },
     "execution_count": 20,
     "metadata": {},
     "output_type": "execute_result"
    }
   ],
   "source": [
    "# заполняем пропуски в 'floors_total' по 'floor'\n",
    "#for f in data['floor'].unique():\n",
    "    #data.loc[(data['floor'] == f) & (data['floors_total'].isna()), 'floors_total'] = data.loc[(data['floor'] == f), 'floors_total'].median()\n",
    "fill_median(data, 'floor', 'floors_total')\n"
   ]
  },
  {
   "cell_type": "code",
   "execution_count": 21,
   "metadata": {},
   "outputs": [
    {
     "data": {
      "text/plain": [
       "total_images                0\n",
       "last_price                  0\n",
       "total_area                  0\n",
       "first_day_exposition        0\n",
       "rooms                       0\n",
       "ceiling_height              0\n",
       "floors_total                0\n",
       "living_area                 0\n",
       "floor                       0\n",
       "is_apartment                0\n",
       "studio                      0\n",
       "open_plan                   0\n",
       "kitchen_area             2269\n",
       "balcony                     0\n",
       "locality_name               0\n",
       "airports_nearest         5534\n",
       "cityCenters_nearest      5511\n",
       "parks_around3000            0\n",
       "parks_nearest               0\n",
       "ponds_around3000            0\n",
       "ponds_nearest           14565\n",
       "days_exposition          3180\n",
       "categorized_area            0\n",
       "dtype: int64"
      ]
     },
     "execution_count": 21,
     "metadata": {},
     "output_type": "execute_result"
    }
   ],
   "source": [
    "# заполняем пропуски в 'parks_nearest' по 'parks_around3000'\n",
    "fill_median(data, 'parks_around3000', 'parks_nearest')\n",
    "data.isna().sum()\n",
    "\n",
    "    "
   ]
  },
  {
   "cell_type": "markdown",
   "metadata": {},
   "source": [
    "### Посчитайте и добавьте в таблицу новые столбцы"
   ]
  },
  {
   "cell_type": "markdown",
   "metadata": {},
   "source": [
    "#### Добавляем в таблицу столбцы цены одного квадратного метра, дня недели публикации обьявления, месяца публикации, года публикации, типа этажа квартиры, расстояния до центра в км."
   ]
  },
  {
   "cell_type": "code",
   "execution_count": 22,
   "metadata": {},
   "outputs": [
    {
     "data": {
      "text/plain": [
       "array([ 12. ,  13. ,  13.2, ..., 631. , 631.2, 900. ])"
      ]
     },
     "execution_count": 22,
     "metadata": {},
     "output_type": "execute_result"
    }
   ],
   "source": [
    "data['total_area'].sort_values().unique()\n"
   ]
  },
  {
   "cell_type": "code",
   "execution_count": 25,
   "metadata": {},
   "outputs": [
    {
     "data": {
      "text/plain": [
       "total_images                     int64\n",
       "last_price                     float64\n",
       "total_area                     float64\n",
       "first_day_exposition    datetime64[ns]\n",
       "rooms                            int64\n",
       "ceiling_height                 float64\n",
       "floors_total                   float64\n",
       "living_area                    float64\n",
       "floor                            int64\n",
       "is_apartment                      bool\n",
       "studio                            bool\n",
       "open_plan                         bool\n",
       "kitchen_area                   float64\n",
       "balcony                        float64\n",
       "locality_name                   object\n",
       "airports_nearest               float64\n",
       "cityCenters_nearest            float64\n",
       "parks_around3000               float64\n",
       "parks_nearest                  float64\n",
       "ponds_around3000               float64\n",
       "ponds_nearest                  float64\n",
       "days_exposition                float64\n",
       "categorized_area                object\n",
       "price_for_sq_meter             float64\n",
       "week_day_exposition              int64\n",
       "month_exposition                 int64\n",
       "year_exposition                  int64\n",
       "dtype: object"
      ]
     },
     "execution_count": 25,
     "metadata": {},
     "output_type": "execute_result"
    }
   ],
   "source": [
    "# цена одного квадратного метра;\n",
    "data['price_for_sq_meter'] = round(data['last_price'] / data['total_area'])\n",
    "# день недели публикации объявления\n",
    "data['week_day_exposition'] = data['first_day_exposition'].dt.weekday\n",
    "# месяц публикации объявления;\n",
    "data['month_exposition'] = data['first_day_exposition'].dt.month\n",
    "# год публикации объявления;\n",
    "data['year_exposition'] = data['first_day_exposition'].dt.year\n",
    "\n",
    "data.head(20)\n",
    "data.dtypes"
   ]
  },
  {
   "cell_type": "code",
   "execution_count": 24,
   "metadata": {},
   "outputs": [],
   "source": [
    "# создадим функцию для определения типа этажа\n",
    "\n",
    "def type_floor(row):\n",
    "    floor = row[0]\n",
    "    total_floor = row[1]\n",
    "    try:\n",
    "        if floor == 1:\n",
    "            return 'первый'\n",
    "        elif floor == total_floor:\n",
    "            return 'последний'\n",
    "        else:\n",
    "            return 'другой'\n",
    "    except:\n",
    "        return 'error'"
   ]
  },
  {
   "cell_type": "code",
   "execution_count": 25,
   "metadata": {},
   "outputs": [
    {
     "data": {
      "text/html": [
       "<div>\n",
       "<style scoped>\n",
       "    .dataframe tbody tr th:only-of-type {\n",
       "        vertical-align: middle;\n",
       "    }\n",
       "\n",
       "    .dataframe tbody tr th {\n",
       "        vertical-align: top;\n",
       "    }\n",
       "\n",
       "    .dataframe thead th {\n",
       "        text-align: right;\n",
       "    }\n",
       "</style>\n",
       "<table border=\"1\" class=\"dataframe\">\n",
       "  <thead>\n",
       "    <tr style=\"text-align: right;\">\n",
       "      <th></th>\n",
       "      <th>total_images</th>\n",
       "      <th>last_price</th>\n",
       "      <th>total_area</th>\n",
       "      <th>first_day_exposition</th>\n",
       "      <th>rooms</th>\n",
       "      <th>ceiling_height</th>\n",
       "      <th>floors_total</th>\n",
       "      <th>living_area</th>\n",
       "      <th>floor</th>\n",
       "      <th>is_apartment</th>\n",
       "      <th>...</th>\n",
       "      <th>ponds_around3000</th>\n",
       "      <th>ponds_nearest</th>\n",
       "      <th>days_exposition</th>\n",
       "      <th>categorized_area</th>\n",
       "      <th>price_for_sq_meter</th>\n",
       "      <th>week_day_exposition</th>\n",
       "      <th>month_exposition</th>\n",
       "      <th>year_exposition</th>\n",
       "      <th>categorize_floor</th>\n",
       "      <th>city_centers_nearest_km</th>\n",
       "    </tr>\n",
       "  </thead>\n",
       "  <tbody>\n",
       "    <tr>\n",
       "      <th>0</th>\n",
       "      <td>20</td>\n",
       "      <td>13000000.0</td>\n",
       "      <td>108.0</td>\n",
       "      <td>2019-03-07</td>\n",
       "      <td>3</td>\n",
       "      <td>2.70</td>\n",
       "      <td>16.0</td>\n",
       "      <td>51.0</td>\n",
       "      <td>8</td>\n",
       "      <td>False</td>\n",
       "      <td>...</td>\n",
       "      <td>2.0</td>\n",
       "      <td>755.0</td>\n",
       "      <td>NaN</td>\n",
       "      <td>middle</td>\n",
       "      <td>120370.0</td>\n",
       "      <td>3</td>\n",
       "      <td>3</td>\n",
       "      <td>2019</td>\n",
       "      <td>другой</td>\n",
       "      <td>16.0</td>\n",
       "    </tr>\n",
       "    <tr>\n",
       "      <th>1</th>\n",
       "      <td>7</td>\n",
       "      <td>3350000.0</td>\n",
       "      <td>40.4</td>\n",
       "      <td>2018-12-04</td>\n",
       "      <td>1</td>\n",
       "      <td>2.60</td>\n",
       "      <td>11.0</td>\n",
       "      <td>18.6</td>\n",
       "      <td>1</td>\n",
       "      <td>False</td>\n",
       "      <td>...</td>\n",
       "      <td>0.0</td>\n",
       "      <td>NaN</td>\n",
       "      <td>81.0</td>\n",
       "      <td>small</td>\n",
       "      <td>82921.0</td>\n",
       "      <td>1</td>\n",
       "      <td>12</td>\n",
       "      <td>2018</td>\n",
       "      <td>первый</td>\n",
       "      <td>19.0</td>\n",
       "    </tr>\n",
       "    <tr>\n",
       "      <th>2</th>\n",
       "      <td>10</td>\n",
       "      <td>5196000.0</td>\n",
       "      <td>56.0</td>\n",
       "      <td>2015-08-20</td>\n",
       "      <td>2</td>\n",
       "      <td>2.60</td>\n",
       "      <td>5.0</td>\n",
       "      <td>34.3</td>\n",
       "      <td>4</td>\n",
       "      <td>False</td>\n",
       "      <td>...</td>\n",
       "      <td>2.0</td>\n",
       "      <td>574.0</td>\n",
       "      <td>558.0</td>\n",
       "      <td>small</td>\n",
       "      <td>92786.0</td>\n",
       "      <td>3</td>\n",
       "      <td>8</td>\n",
       "      <td>2015</td>\n",
       "      <td>другой</td>\n",
       "      <td>14.0</td>\n",
       "    </tr>\n",
       "    <tr>\n",
       "      <th>3</th>\n",
       "      <td>0</td>\n",
       "      <td>64900000.0</td>\n",
       "      <td>159.0</td>\n",
       "      <td>2015-07-24</td>\n",
       "      <td>3</td>\n",
       "      <td>3.00</td>\n",
       "      <td>14.0</td>\n",
       "      <td>45.0</td>\n",
       "      <td>9</td>\n",
       "      <td>False</td>\n",
       "      <td>...</td>\n",
       "      <td>3.0</td>\n",
       "      <td>234.0</td>\n",
       "      <td>424.0</td>\n",
       "      <td>middle</td>\n",
       "      <td>408176.0</td>\n",
       "      <td>4</td>\n",
       "      <td>7</td>\n",
       "      <td>2015</td>\n",
       "      <td>другой</td>\n",
       "      <td>7.0</td>\n",
       "    </tr>\n",
       "    <tr>\n",
       "      <th>4</th>\n",
       "      <td>2</td>\n",
       "      <td>10000000.0</td>\n",
       "      <td>100.0</td>\n",
       "      <td>2018-06-19</td>\n",
       "      <td>2</td>\n",
       "      <td>3.03</td>\n",
       "      <td>14.0</td>\n",
       "      <td>32.0</td>\n",
       "      <td>13</td>\n",
       "      <td>False</td>\n",
       "      <td>...</td>\n",
       "      <td>1.0</td>\n",
       "      <td>48.0</td>\n",
       "      <td>121.0</td>\n",
       "      <td>middle</td>\n",
       "      <td>100000.0</td>\n",
       "      <td>1</td>\n",
       "      <td>6</td>\n",
       "      <td>2018</td>\n",
       "      <td>другой</td>\n",
       "      <td>8.0</td>\n",
       "    </tr>\n",
       "  </tbody>\n",
       "</table>\n",
       "<p>5 rows × 29 columns</p>\n",
       "</div>"
      ],
      "text/plain": [
       "   total_images  last_price  total_area first_day_exposition  rooms  \\\n",
       "0            20  13000000.0       108.0           2019-03-07      3   \n",
       "1             7   3350000.0        40.4           2018-12-04      1   \n",
       "2            10   5196000.0        56.0           2015-08-20      2   \n",
       "3             0  64900000.0       159.0           2015-07-24      3   \n",
       "4             2  10000000.0       100.0           2018-06-19      2   \n",
       "\n",
       "   ceiling_height  floors_total  living_area  floor  is_apartment  ...  \\\n",
       "0            2.70          16.0         51.0      8         False  ...   \n",
       "1            2.60          11.0         18.6      1         False  ...   \n",
       "2            2.60           5.0         34.3      4         False  ...   \n",
       "3            3.00          14.0         45.0      9         False  ...   \n",
       "4            3.03          14.0         32.0     13         False  ...   \n",
       "\n",
       "   ponds_around3000  ponds_nearest  days_exposition  categorized_area  \\\n",
       "0               2.0          755.0              NaN            middle   \n",
       "1               0.0            NaN             81.0             small   \n",
       "2               2.0          574.0            558.0             small   \n",
       "3               3.0          234.0            424.0            middle   \n",
       "4               1.0           48.0            121.0            middle   \n",
       "\n",
       "  price_for_sq_meter  week_day_exposition  month_exposition  year_exposition  \\\n",
       "0           120370.0                    3                 3             2019   \n",
       "1            82921.0                    1                12             2018   \n",
       "2            92786.0                    3                 8             2015   \n",
       "3           408176.0                    4                 7             2015   \n",
       "4           100000.0                    1                 6             2018   \n",
       "\n",
       "   categorize_floor  city_centers_nearest_km  \n",
       "0            другой                     16.0  \n",
       "1            первый                     19.0  \n",
       "2            другой                     14.0  \n",
       "3            другой                      7.0  \n",
       "4            другой                      8.0  \n",
       "\n",
       "[5 rows x 29 columns]"
      ]
     },
     "execution_count": 25,
     "metadata": {},
     "output_type": "execute_result"
    }
   ],
   "source": [
    "# создаем столбец 'categorize_floor' с категоризованными данными\n",
    "support = data[['floor','floors_total']]\n",
    "data['categorize_floor'] = support.apply(type_floor, axis=1)\n",
    "# меняем название в колнке cityCenters_nearest на snake стиль\n",
    "data = data.rename(columns={\"cityCenters_nearest\":\"city_centers_nearest\"})\n",
    "# расстояние до центра города в километрах \n",
    "data['city_centers_nearest_km'] = round(data['city_centers_nearest']/1000)\n",
    "#data['city_centers_nearest_km'].sort_values().unique()\n",
    "#display(data.groupby('categorize_floor')['floor'].count())\n",
    "data.head()\n"
   ]
  },
  {
   "cell_type": "markdown",
   "metadata": {},
   "source": [
    "### Проведите исследовательский анализ данных"
   ]
  },
  {
   "cell_type": "markdown",
   "metadata": {},
   "source": [
    "#### Построим гистгораммы для следующих параметров"
   ]
  },
  {
   "cell_type": "code",
   "execution_count": 26,
   "metadata": {},
   "outputs": [
    {
     "data": {
      "image/png": "[encoded data removed]",
      "text/plain": [
       "<Figure size 432x288 with 1 Axes>"
      ]
     },
     "metadata": {
      "needs_background": "light"
     },
     "output_type": "display_data"
    },
    {
     "data": {
      "image/png": "[encoded data removed]",
      "text/plain": [
       "<Figure size 432x288 with 1 Axes>"
      ]
     },
     "metadata": {
      "needs_background": "light"
     },
     "output_type": "display_data"
    },
    {
     "data": {
      "image/png": "[encoded data removed]",
      "text/plain": [
       "<Figure size 432x288 with 1 Axes>"
      ]
     },
     "metadata": {
      "needs_background": "light"
     },
     "output_type": "display_data"
    },
    {
     "data": {
      "image/png": "[encoded data removed]",
      "text/plain": [
       "<Figure size 432x288 with 1 Axes>"
      ]
     },
     "metadata": {
      "needs_background": "light"
     },
     "output_type": "display_data"
    },
    {
     "data": {
      "image/png": "[encoded data removed]",
      "text/plain": [
       "<Figure size 432x288 with 1 Axes>"
      ]
     },
     "metadata": {
      "needs_background": "light"
     },
     "output_type": "display_data"
    },
    {
     "data": {
      "image/png": "[encoded data removed]",
      "text/plain": [
       "<Figure size 432x288 with 1 Axes>"
      ]
     },
     "metadata": {
      "needs_background": "light"
     },
     "output_type": "display_data"
    },
    {
     "data": {
      "image/png": "[encoded data removed]",
      "text/plain": [
       "<Figure size 432x288 with 1 Axes>"
      ]
     },
     "metadata": {
      "needs_background": "light"
     },
     "output_type": "display_data"
    },
    {
     "data": {
      "image/png": "[encoded data removed]",
      "text/plain": [
       "<Figure size 432x288 with 1 Axes>"
      ]
     },
     "metadata": {
      "needs_background": "light"
     },
     "output_type": "display_data"
    },
    {
     "data": {
      "image/png": "[encoded data removed]",
      "text/plain": [
       "<Figure size 432x288 with 1 Axes>"
      ]
     },
     "metadata": {
      "needs_background": "light"
     },
     "output_type": "display_data"
    },
    {
     "data": {
      "image/png": "[encoded data removed]",
      "text/plain": [
       "<Figure size 432x288 with 1 Axes>"
      ]
     },
     "metadata": {
      "needs_background": "light"
     },
     "output_type": "display_data"
    },
    {
     "data": {
      "image/png": "[encoded data removed]",
      "text/plain": [
       "<Figure size 432x288 with 1 Axes>"
      ]
     },
     "metadata": {
      "needs_background": "light"
     },
     "output_type": "display_data"
    },
    {
     "data": {
      "image/png": "[encoded data removed]",
      "text/plain": [
       "<Figure size 432x288 with 1 Axes>"
      ]
     },
     "metadata": {
      "needs_background": "light"
     },
     "output_type": "display_data"
    },
    {
     "data": {
      "image/png": "[encoded data removed]",
      "text/plain": [
       "<Figure size 432x288 with 1 Axes>"
      ]
     },
     "metadata": {
      "needs_background": "light"
     },
     "output_type": "display_data"
    }
   ],
   "source": [
    "data.columns\n",
    "parametrs = ['total_area', 'living_area', 'kitchen_area', 'last_price', 'rooms'\n",
    "            , 'ceiling_height', 'floor', 'floors_total', \n",
    "            'city_centers_nearest', 'airports_nearest', 'parks_nearest', 'week_day_exposition', 'month_exposition']\n",
    "for i in parametrs:\n",
    "    data.plot(y= i , kind='hist', bins=50, title= i)\n",
    "\n",
    "\n",
    "    "
   ]
  },
  {
   "cell_type": "markdown",
   "metadata": {},
   "source": [
    "<div class=\"alert alert-block alert-info\">\n",
    "<b>* общая площадь - распределение общей площади похоже на Пуассоновское, и это отличный резултат. Чаще всего встречаются квартиры с площадью от 50 до 100 кв м. жилая площадь - здесь мы видим 2 пика между 10 и 50 м кв, это может говорить о 2 типах планировки жилой площади.  площадь кухни - также имеет Пуассоновское распределение, самое частое значение 10 кв м.\n",
    " <br>   * цена объекта - распределение цены говорит о том, в основном цены находятся в диапозоне порядка 100000000, но есть некоторые выбивающиеся значения\n",
    "  <br>  * количество комнат - чаще всего можно встретить квартиру с 1-3 комнатами\n",
    "<br>    * высота потолков - наиболее распространенная высота потолков в районе 2.6 м\n",
    "<br>    * этаж квартиры - также можем наблюдать пуассоновское распределение, самые распространенные этажи 1-5\n",
    "<br>    * общее количество этажей в доме - гистограмма имеет несколько пиков, что может говорить о частоте застройки однотипных домов или о запрете на высокоэтажные постройки в центре Питера\n",
    "<br>    * расстояние до центра города в метрах - график имеет 2 основных пика. Чаще всего встречаются на расстоянии 10000-20000 м от центра, также есть группа квартир в пределах 5000 м от центра\n",
    "<br>    * расстояние до ближайшего аэропорта - здесь график довольно разношорстный, но в целом добраться до аэропорта, кажется, всем будет незатруднительно\n",
    "<br>    * расстояние до ближайшего парка - здесь есть пуассоновское распределение при значениях от 0 - 1000 м, а также выбивающийся столбец для тех квартир, которые находятся дальше всех от парка\n",
    "<br>    * день и месяц публикации объявления - из этих вух гистгорамм можеем заметить, что обьявления чаще всего размещались в будние дни и осенне-зимний период.    "
   ]
  },
  {
   "cell_type": "code",
   "execution_count": 27,
   "metadata": {},
   "outputs": [
    {
     "data": {
      "image/png": "[encoded data removed]",
      "text/plain": [
       "<Figure size 432x288 with 1 Axes>"
      ]
     },
     "metadata": {
      "needs_background": "light"
     },
     "output_type": "display_data"
    },
    {
     "data": {
      "image/png": "[encoded data removed]",
      "text/plain": [
       "<Figure size 432x288 with 1 Axes>"
      ]
     },
     "metadata": {
      "needs_background": "light"
     },
     "output_type": "display_data"
    },
    {
     "data": {
      "image/png": "[encoded data removed]",
      "text/plain": [
       "<Figure size 432x288 with 1 Axes>"
      ]
     },
     "metadata": {
      "needs_background": "light"
     },
     "output_type": "display_data"
    }
   ],
   "source": [
    "for name, group_data in data.groupby('categorize_floor'):\n",
    "    group_data.plot(y='floor', kind='hist', bins=50, title= name)"
   ]
  },
  {
   "cell_type": "markdown",
   "metadata": {},
   "source": [
    "<div class=\"alert alert-block alert-info\">\n",
    "<b> тип этажа квартиры («первый», «последний», «другой») - распределение \"других\" этажей похоже на Пуассоновское, в целом эти графики отражают предудущую гистаграмму этажей квартиры, квартир с 1 - 5 этаж все еще больше. Также заметим, что малоэтажных домов довольно много."
   ]
  },
  {
   "cell_type": "markdown",
   "metadata": {},
   "source": [
    "#### Как быстро продавлаись квартиры"
   ]
  },
  {
   "cell_type": "code",
   "execution_count": 28,
   "metadata": {},
   "outputs": [
    {
     "data": {
      "text/plain": [
       "count    20470.000000\n",
       "mean       180.753200\n",
       "std        219.777916\n",
       "min          1.000000\n",
       "25%         45.000000\n",
       "50%         95.000000\n",
       "75%        231.000000\n",
       "max       1580.000000\n",
       "Name: days_exposition, dtype: float64"
      ]
     },
     "execution_count": 28,
     "metadata": {},
     "output_type": "execute_result"
    },
    {
     "data": {
      "image/png": "[encoded data removed]",
      "text/plain": [
       "<Figure size 432x288 with 1 Axes>"
      ]
     },
     "metadata": {
      "needs_background": "light"
     },
     "output_type": "display_data"
    }
   ],
   "source": [
    "# построим гистограмму для days_exposition (сколько дней было размещено каждое объявление)\n",
    "data.plot(y='days_exposition', kind='hist',bins=50, title='days_exposition'\n",
    "         )\n",
    "# Найдем среднее (mean) и медиану (50%)\n",
    "data['days_exposition'].describe() "
   ]
  },
  {
   "cell_type": "code",
   "execution_count": 29,
   "metadata": {},
   "outputs": [
    {
     "data": {
      "text/plain": [
       "<AxesSubplot:>"
      ]
     },
     "execution_count": 29,
     "metadata": {},
     "output_type": "execute_result"
    },
    {
     "data": {
      "image/png": "[encoded data removed]",
      "text/plain": [
       "<Figure size 432x288 with 1 Axes>"
      ]
     },
     "metadata": {
      "needs_background": "light"
     },
     "output_type": "display_data"
    }
   ],
   "source": [
    "# построим диаграмму размаха, чтобы определить, какие продажи можно считать быстрыми, а какие — необычно долгими\n",
    "\n",
    "data.boxplot('days_exposition')\n"
   ]
  },
  {
   "cell_type": "markdown",
   "metadata": {},
   "source": [
    "<div class=\"alert alert-block alert-info\">\n",
    "<b>Время продажи в основном занимает от 45 до 231 дня, эти показатели соответсвуют первому и третьему квартилям, медианное значение = 95 дням. Нормальные быстрые значения расположены от 0 до 45 дней, нормальные долгие значения - от 231 до 500 дней, все остальное - это аномально долгие продажи (выбросы)"
   ]
  },
  {
   "cell_type": "markdown",
   "metadata": {},
   "source": [
    "#### Факторы, влияющие на стоимость обьекта"
   ]
  },
  {
   "cell_type": "markdown",
   "metadata": {},
   "source": [
    "<div class=\"alert alert-block alert-info\">\n",
    "<b> Построим матрицу корреляций и диашрамму рассеивания для того, чтобы определить завист ли цена от:\n",
    "<br> - общей площади;\n",
    "<br> -жилой площади;\n",
    "<br> -площади кухни;\n",
    "<br> -количества комнат;\n",
    "<br> -этажа, на котором расположена квартира (первый, последний, другой);\n",
    "<br> -даты размещения (день недели, месяц, год).    "
   ]
  },
  {
   "cell_type": "code",
   "execution_count": 30,
   "metadata": {},
   "outputs": [
    {
     "data": {
      "text/plain": [
       "array([1.219e+04, 4.300e+05, 4.400e+05, ..., 4.013e+08, 4.200e+08,\n",
       "       7.630e+08])"
      ]
     },
     "execution_count": 30,
     "metadata": {},
     "output_type": "execute_result"
    }
   ],
   "source": [
    "data['last_price'].sort_values().unique()"
   ]
  },
  {
   "cell_type": "markdown",
   "metadata": {},
   "source": [
    "<div class=\"alert alert-block alert-info\">\n",
    "<b> В столбце 'last_price' можем заметить разделение на 2 группы. Большая группа - это квартиры до 100000000, маленькая - остальные. Уберем из даннных аномальные значения цены, чтобы корректно строить графики зависимости цены от параметров в дальнейшем."
   ]
  },
  {
   "cell_type": "code",
   "execution_count": 31,
   "metadata": {},
   "outputs": [],
   "source": [
    "data = data.query('last_price <= 100000000')"
   ]
  },
  {
   "cell_type": "code",
   "execution_count": 32,
   "metadata": {},
   "outputs": [
    {
     "data": {
      "text/html": [
       "<div>\n",
       "<style scoped>\n",
       "    .dataframe tbody tr th:only-of-type {\n",
       "        vertical-align: middle;\n",
       "    }\n",
       "\n",
       "    .dataframe tbody tr th {\n",
       "        vertical-align: top;\n",
       "    }\n",
       "\n",
       "    .dataframe thead th {\n",
       "        text-align: right;\n",
       "    }\n",
       "</style>\n",
       "<table border=\"1\" class=\"dataframe\">\n",
       "  <thead>\n",
       "    <tr style=\"text-align: right;\">\n",
       "      <th></th>\n",
       "      <th>last_price</th>\n",
       "      <th>total_area</th>\n",
       "      <th>living_area</th>\n",
       "      <th>kitchen_area</th>\n",
       "    </tr>\n",
       "  </thead>\n",
       "  <tbody>\n",
       "    <tr>\n",
       "      <th>last_price</th>\n",
       "      <td>1.000000</td>\n",
       "      <td>0.769134</td>\n",
       "      <td>0.657367</td>\n",
       "      <td>0.592663</td>\n",
       "    </tr>\n",
       "    <tr>\n",
       "      <th>total_area</th>\n",
       "      <td>0.769134</td>\n",
       "      <td>1.000000</td>\n",
       "      <td>0.911635</td>\n",
       "      <td>0.593175</td>\n",
       "    </tr>\n",
       "    <tr>\n",
       "      <th>living_area</th>\n",
       "      <td>0.657367</td>\n",
       "      <td>0.911635</td>\n",
       "      <td>1.000000</td>\n",
       "      <td>0.399737</td>\n",
       "    </tr>\n",
       "    <tr>\n",
       "      <th>kitchen_area</th>\n",
       "      <td>0.592663</td>\n",
       "      <td>0.593175</td>\n",
       "      <td>0.399737</td>\n",
       "      <td>1.000000</td>\n",
       "    </tr>\n",
       "  </tbody>\n",
       "</table>\n",
       "</div>"
      ],
      "text/plain": [
       "              last_price  total_area  living_area  kitchen_area\n",
       "last_price      1.000000    0.769134     0.657367      0.592663\n",
       "total_area      0.769134    1.000000     0.911635      0.593175\n",
       "living_area     0.657367    0.911635     1.000000      0.399737\n",
       "kitchen_area    0.592663    0.593175     0.399737      1.000000"
      ]
     },
     "execution_count": 32,
     "metadata": {},
     "output_type": "execute_result"
    },
    {
     "data": {
      "image/png": "[encoded data removed]",
      "text/plain": [
       "<Figure size 648x648 with 16 Axes>"
      ]
     },
     "metadata": {
      "needs_background": "light"
     },
     "output_type": "display_data"
    }
   ],
   "source": [
    "# Построим диаграмму рассеивания матрицы корреляции цены от числовых значений\n",
    "price_table_area = data[[ 'last_price', 'total_area', 'living_area', 'kitchen_area']]\n",
    "#price_table.sort_index().head(20)\n",
    "#price_table.info()\n",
    "pd.plotting.scatter_matrix(price_table_area, figsize=(9, 9))\n",
    "price_table_area.corr()"
   ]
  },
  {
   "cell_type": "markdown",
   "metadata": {},
   "source": [
    "<div class=\"alert alert-block alert-info\">\n",
    "<b> На диаграмме рассеивания матрицы корреляции можем заметить, что наиболее сильная зависимость наблюдается между величинами цены и общей площади. Также влияет площадь жилой области, кухни."
   ]
  },
  {
   "cell_type": "code",
   "execution_count": 36,
   "metadata": {},
   "outputs": [
    {
     "data": {
      "image/png": "[encoded data removed]",
      "text/plain": [
       "<Figure size 432x288 with 1 Axes>"
      ]
     },
     "metadata": {
      "needs_background": "light"
     },
     "output_type": "display_data"
    }
   ],
   "source": [
    "# График зависимости цены от количества комнат\n",
    "last_price_rooms = data.pivot_table(index='rooms', values='last_price', aggfunc=['median'])\n",
    "last_price_rooms.columns = ['median_last_price']\n",
    "last_price_rooms.plot(grid=True)\n",
    "plt.show()"
   ]
  },
  {
   "cell_type": "code",
   "execution_count": 38,
   "metadata": {},
   "outputs": [
    {
     "data": {
      "image/png": "[encoded data removed]",
      "text/plain": [
       "<Figure size 432x288 with 1 Axes>"
      ]
     },
     "metadata": {
      "needs_background": "light"
     },
     "output_type": "display_data"
    }
   ],
   "source": [
    "# диаграмма рассеивания для зависисмости цены от этажа, \n",
    "#на котором расположена квартира\n",
    "data.plot(x='categorize_floor', y='last_price', kind='scatter', fig=(9, 9))\n",
    "plt.show()"
   ]
  },
  {
   "cell_type": "code",
   "execution_count": 40,
   "metadata": {},
   "outputs": [
    {
     "data": {
      "image/png": "[encoded data removed]",
      "text/plain": [
       "<Figure size 432x288 with 1 Axes>"
      ]
     },
     "metadata": {
      "needs_background": "light"
     },
     "output_type": "display_data"
    }
   ],
   "source": [
    "# График зависимости цены от этажа, на котором расположена квартира\n",
    "last_price_floor = data.pivot_table(index='categorize_floor', values='last_price', aggfunc=['median'])\n",
    "last_price_floor.columns = ['median_last_price']\n",
    "last_price_floor.plot(grid=True)\n",
    "plt.show()"
   ]
  },
  {
   "cell_type": "markdown",
   "metadata": {},
   "source": [
    "<div class=\"alert alert-block alert-info\">\n",
    "<b> На диаграмме рассеивания и графике для зависисмости цены от этажа,на котором расположена квартира, можно заметить, что цены на первый этаж самые низкие"
   ]
  },
  {
   "cell_type": "code",
   "execution_count": 41,
   "metadata": {},
   "outputs": [
    {
     "data": {
      "image/png": "[encoded data removed]",
      "text/plain": [
       "<Figure size 1080x720 with 1 Axes>"
      ]
     },
     "metadata": {
      "needs_background": "light"
     },
     "output_type": "display_data"
    }
   ],
   "source": [
    "# диаграмма рассеивания для зависисмости цены от даты размещения \n",
    "data.plot(x='first_day_exposition', y='last_price', kind='scatter', alpha= 0.5, figsize=(15, 10))\n",
    "plt.show()"
   ]
  },
  {
   "cell_type": "markdown",
   "metadata": {},
   "source": [
    "<div class=\"alert alert-block alert-info\">\n",
    "<b> По диаграммме рассевиания можем заметить, что связь между датой размещения обьявления и ценой существует. Посмотрим подробнее на линейных графиках "
   ]
  },
  {
   "cell_type": "code",
   "execution_count": 43,
   "metadata": {},
   "outputs": [
    {
     "data": {
      "image/png": "[encoded data removed]",
      "text/plain": [
       "<Figure size 432x288 with 1 Axes>"
      ]
     },
     "metadata": {
      "needs_background": "light"
     },
     "output_type": "display_data"
    }
   ],
   "source": [
    "# график зависимости дня размещения и цены\n",
    "last_price_week_day_exposition = data.pivot_table(index='week_day_exposition', values='last_price', aggfunc=['median'])\n",
    "last_price_week_day_exposition.columns = ['median_last_price']\n",
    "last_price_week_day_exposition.plot(grid=True)\n",
    "plt.show()"
   ]
  },
  {
   "cell_type": "markdown",
   "metadata": {},
   "source": [
    "<div class=\"alert alert-block alert-info\">\n",
    "<b> На графике зависимости дня размещения и цены можем заметить, что цены у обьявлений, размещенных в пятницу и выходные - самые низкие"
   ]
  },
  {
   "cell_type": "code",
   "execution_count": 44,
   "metadata": {},
   "outputs": [
    {
     "data": {
      "image/png": "[encoded data removed]",
      "text/plain": [
       "<Figure size 432x288 with 1 Axes>"
      ]
     },
     "metadata": {
      "needs_background": "light"
     },
     "output_type": "display_data"
    }
   ],
   "source": [
    "# график зависимости месяца размещения обьявления от цены\n",
    "last_price_month_exposition = data.pivot_table(index='month_exposition', values='last_price', aggfunc=['median'])\n",
    "last_price_month_exposition.columns = ['median_last_price']\n",
    "last_price_month_exposition.plot(grid=True)\n",
    "plt.show()"
   ]
  },
  {
   "cell_type": "markdown",
   "metadata": {},
   "source": [
    "<div class=\"alert alert-block alert-info\">\n",
    "<b> На графике зависимости месяца размещения обьявления от цены можем заметить, что цены у обьявлений, размещенных в мае и июне - самые низкие"
   ]
  },
  {
   "cell_type": "code",
   "execution_count": 45,
   "metadata": {},
   "outputs": [
    {
     "data": {
      "image/png": "[encoded data removed]",
      "text/plain": [
       "<Figure size 432x288 with 1 Axes>"
      ]
     },
     "metadata": {
      "needs_background": "light"
     },
     "output_type": "display_data"
    }
   ],
   "source": [
    "# График зависимости года размещения обьявления от цены\n",
    "last_price_year_exposition = data.pivot_table(index='year_exposition', values='last_price', aggfunc=['median'])\n",
    "last_price_year_exposition.columns = ['median_last_price']\n",
    "last_price_year_exposition.plot(grid=True)\n",
    "plt.show()"
   ]
  },
  {
   "cell_type": "markdown",
   "metadata": {},
   "source": [
    "<div class=\"alert alert-block alert-info\">\n",
    "<b> На графике зависимости года размещения обьявления от цены можем заметить, что с 2014 года цены на квартиру начали ументшаться, но с 2017 прослеживается рост на цены квартир. (хм, что же такое случилось в 2014, что квартиры стали падать в цене? интересно в 2022 цены тоже упали)"
   ]
  },
  {
   "cell_type": "markdown",
   "metadata": {},
   "source": [
    "#### Средняя цена одного квадратного метра в 10 населённых пунктах с наибольшим числом объявлений."
   ]
  },
  {
   "cell_type": "code",
   "execution_count": 47,
   "metadata": {},
   "outputs": [
    {
     "data": {
      "text/html": [
       "<div>\n",
       "<style scoped>\n",
       "    .dataframe tbody tr th:only-of-type {\n",
       "        vertical-align: middle;\n",
       "    }\n",
       "\n",
       "    .dataframe tbody tr th {\n",
       "        vertical-align: top;\n",
       "    }\n",
       "\n",
       "    .dataframe thead th {\n",
       "        text-align: right;\n",
       "    }\n",
       "</style>\n",
       "<table border=\"1\" class=\"dataframe\">\n",
       "  <thead>\n",
       "    <tr style=\"text-align: right;\">\n",
       "      <th></th>\n",
       "      <th>count_exposition</th>\n",
       "      <th>mean_price</th>\n",
       "    </tr>\n",
       "    <tr>\n",
       "      <th>locality_name</th>\n",
       "      <th></th>\n",
       "      <th></th>\n",
       "    </tr>\n",
       "  </thead>\n",
       "  <tbody>\n",
       "    <tr>\n",
       "      <th>Санкт-Петербург</th>\n",
       "      <td>15684</td>\n",
       "      <td>113596.939492</td>\n",
       "    </tr>\n",
       "    <tr>\n",
       "      <th>поселок Мурино</th>\n",
       "      <td>556</td>\n",
       "      <td>85681.758993</td>\n",
       "    </tr>\n",
       "    <tr>\n",
       "      <th>поселок Шушары</th>\n",
       "      <td>440</td>\n",
       "      <td>78677.379545</td>\n",
       "    </tr>\n",
       "    <tr>\n",
       "      <th>Всеволожск</th>\n",
       "      <td>398</td>\n",
       "      <td>68654.474874</td>\n",
       "    </tr>\n",
       "    <tr>\n",
       "      <th>Пушкин</th>\n",
       "      <td>369</td>\n",
       "      <td>103125.818428</td>\n",
       "    </tr>\n",
       "    <tr>\n",
       "      <th>Колпино</th>\n",
       "      <td>338</td>\n",
       "      <td>75424.571006</td>\n",
       "    </tr>\n",
       "    <tr>\n",
       "      <th>поселок Парголово</th>\n",
       "      <td>327</td>\n",
       "      <td>90175.886850</td>\n",
       "    </tr>\n",
       "    <tr>\n",
       "      <th>Гатчина</th>\n",
       "      <td>307</td>\n",
       "      <td>68746.110749</td>\n",
       "    </tr>\n",
       "    <tr>\n",
       "      <th>деревня Кудрово</th>\n",
       "      <td>299</td>\n",
       "      <td>92473.588629</td>\n",
       "    </tr>\n",
       "    <tr>\n",
       "      <th>Выборг</th>\n",
       "      <td>237</td>\n",
       "      <td>58141.919831</td>\n",
       "    </tr>\n",
       "  </tbody>\n",
       "</table>\n",
       "</div>"
      ],
      "text/plain": [
       "                   count_exposition     mean_price\n",
       "locality_name                                     \n",
       "Санкт-Петербург               15684  113596.939492\n",
       "поселок Мурино                  556   85681.758993\n",
       "поселок Шушары                  440   78677.379545\n",
       "Всеволожск                      398   68654.474874\n",
       "Пушкин                          369  103125.818428\n",
       "Колпино                         338   75424.571006\n",
       "поселок Парголово               327   90175.886850\n",
       "Гатчина                         307   68746.110749\n",
       "деревня Кудрово                 299   92473.588629\n",
       "Выборг                          237   58141.919831"
      ]
     },
     "execution_count": 47,
     "metadata": {},
     "output_type": "execute_result"
    }
   ],
   "source": [
    "# Создаем сводную таблицу\n",
    "locality_name_table = data.pivot_table(index='locality_name', values='price_for_sq_meter', \n",
    "                                      aggfunc=['count', 'mean'])\n",
    "locality_name_table.columns = ['count_exposition', 'mean_price']\n",
    "\n",
    "locality_name_table_new = locality_name_table.sort_values(by='count_exposition', ascending=False).head(10)\n",
    "\n",
    "locality_name_table_new"
   ]
  },
  {
   "cell_type": "code",
   "execution_count": 48,
   "metadata": {},
   "outputs": [
    {
     "data": {
      "text/plain": [
       "58141.919831223626"
      ]
     },
     "execution_count": 48,
     "metadata": {},
     "output_type": "execute_result"
    }
   ],
   "source": [
    "# Средняя минимальная цена на квартиру в Выборге\n",
    "locality_name_table_new['mean_price'].min()"
   ]
  },
  {
   "cell_type": "code",
   "execution_count": 49,
   "metadata": {},
   "outputs": [
    {
     "data": {
      "text/plain": [
       "113596.9394924764"
      ]
     },
     "execution_count": 49,
     "metadata": {},
     "output_type": "execute_result"
    }
   ],
   "source": [
    "# Средняя максимальная цена на квартиру оказалась в Санкт-Петербурге\n",
    "locality_name_table_new['mean_price'].max()"
   ]
  },
  {
   "cell_type": "code",
   "execution_count": 50,
   "metadata": {},
   "outputs": [
    {
     "data": {
      "text/plain": [
       "array([[<AxesSubplot:title={'center':'count_exposition'}>,\n",
       "        <AxesSubplot:title={'center':'mean_price'}>]], dtype=object)"
      ]
     },
     "execution_count": 50,
     "metadata": {},
     "output_type": "execute_result"
    },
    {
     "data": {
      "image/png": "[encoded data removed]",
      "text/plain": [
       "<Figure size 432x288 with 2 Axes>"
      ]
     },
     "metadata": {
      "needs_background": "light"
     },
     "output_type": "display_data"
    }
   ],
   "source": [
    "locality_name_table_new.hist()"
   ]
  },
  {
   "cell_type": "markdown",
   "metadata": {},
   "source": [
    "<div class=\"alert alert-block alert-info\">\n",
    "<b> Получаем, что в Выборге средняя минимальная цена на квартиру, а средняя максимальная - в Санкт-Петербурге"
   ]
  },
  {
   "cell_type": "markdown",
   "metadata": {},
   "source": [
    "#### Вычисление средней цены каждого километра до центра в Санкт-Петербурге"
   ]
  },
  {
   "cell_type": "code",
   "execution_count": 51,
   "metadata": {},
   "outputs": [
    {
     "data": {
      "text/html": [
       "<div>\n",
       "<style scoped>\n",
       "    .dataframe tbody tr th:only-of-type {\n",
       "        vertical-align: middle;\n",
       "    }\n",
       "\n",
       "    .dataframe tbody tr th {\n",
       "        vertical-align: top;\n",
       "    }\n",
       "\n",
       "    .dataframe thead th {\n",
       "        text-align: right;\n",
       "    }\n",
       "</style>\n",
       "<table border=\"1\" class=\"dataframe\">\n",
       "  <thead>\n",
       "    <tr style=\"text-align: right;\">\n",
       "      <th></th>\n",
       "      <th>last_price</th>\n",
       "      <th>price_for_km</th>\n",
       "    </tr>\n",
       "    <tr>\n",
       "      <th>city_centers_nearest_km</th>\n",
       "      <th></th>\n",
       "      <th></th>\n",
       "    </tr>\n",
       "  </thead>\n",
       "  <tbody>\n",
       "    <tr>\n",
       "      <th>1.0</th>\n",
       "      <td>11200000.0</td>\n",
       "      <td>11200000.0</td>\n",
       "    </tr>\n",
       "    <tr>\n",
       "      <th>2.0</th>\n",
       "      <td>10000000.0</td>\n",
       "      <td>5000000.0</td>\n",
       "    </tr>\n",
       "    <tr>\n",
       "      <th>3.0</th>\n",
       "      <td>8409000.0</td>\n",
       "      <td>2803000.0</td>\n",
       "    </tr>\n",
       "    <tr>\n",
       "      <th>4.0</th>\n",
       "      <td>9190000.0</td>\n",
       "      <td>2297500.0</td>\n",
       "    </tr>\n",
       "    <tr>\n",
       "      <th>5.0</th>\n",
       "      <td>9400000.0</td>\n",
       "      <td>1880000.0</td>\n",
       "    </tr>\n",
       "    <tr>\n",
       "      <th>6.0</th>\n",
       "      <td>8850000.0</td>\n",
       "      <td>1475000.0</td>\n",
       "    </tr>\n",
       "    <tr>\n",
       "      <th>7.0</th>\n",
       "      <td>7800000.0</td>\n",
       "      <td>1114286.0</td>\n",
       "    </tr>\n",
       "    <tr>\n",
       "      <th>8.0</th>\n",
       "      <td>7445000.0</td>\n",
       "      <td>930625.0</td>\n",
       "    </tr>\n",
       "    <tr>\n",
       "      <th>9.0</th>\n",
       "      <td>5300000.0</td>\n",
       "      <td>588889.0</td>\n",
       "    </tr>\n",
       "    <tr>\n",
       "      <th>10.0</th>\n",
       "      <td>5000000.0</td>\n",
       "      <td>500000.0</td>\n",
       "    </tr>\n",
       "    <tr>\n",
       "      <th>11.0</th>\n",
       "      <td>5072500.0</td>\n",
       "      <td>461136.0</td>\n",
       "    </tr>\n",
       "    <tr>\n",
       "      <th>12.0</th>\n",
       "      <td>4950000.0</td>\n",
       "      <td>412500.0</td>\n",
       "    </tr>\n",
       "    <tr>\n",
       "      <th>13.0</th>\n",
       "      <td>5200000.0</td>\n",
       "      <td>400000.0</td>\n",
       "    </tr>\n",
       "    <tr>\n",
       "      <th>14.0</th>\n",
       "      <td>4870000.0</td>\n",
       "      <td>347857.0</td>\n",
       "    </tr>\n",
       "    <tr>\n",
       "      <th>15.0</th>\n",
       "      <td>4900000.0</td>\n",
       "      <td>326667.0</td>\n",
       "    </tr>\n",
       "    <tr>\n",
       "      <th>27.0</th>\n",
       "      <td>8300000.0</td>\n",
       "      <td>307407.0</td>\n",
       "    </tr>\n",
       "    <tr>\n",
       "      <th>16.0</th>\n",
       "      <td>4750000.0</td>\n",
       "      <td>296875.0</td>\n",
       "    </tr>\n",
       "    <tr>\n",
       "      <th>20.0</th>\n",
       "      <td>5550000.0</td>\n",
       "      <td>277500.0</td>\n",
       "    </tr>\n",
       "    <tr>\n",
       "      <th>17.0</th>\n",
       "      <td>4580000.0</td>\n",
       "      <td>269412.0</td>\n",
       "    </tr>\n",
       "    <tr>\n",
       "      <th>21.0</th>\n",
       "      <td>5289476.0</td>\n",
       "      <td>251880.0</td>\n",
       "    </tr>\n",
       "    <tr>\n",
       "      <th>18.0</th>\n",
       "      <td>4300000.0</td>\n",
       "      <td>238889.0</td>\n",
       "    </tr>\n",
       "    <tr>\n",
       "      <th>19.0</th>\n",
       "      <td>4500000.0</td>\n",
       "      <td>236842.0</td>\n",
       "    </tr>\n",
       "    <tr>\n",
       "      <th>22.0</th>\n",
       "      <td>4925000.0</td>\n",
       "      <td>223864.0</td>\n",
       "    </tr>\n",
       "    <tr>\n",
       "      <th>23.0</th>\n",
       "      <td>4500000.0</td>\n",
       "      <td>195652.0</td>\n",
       "    </tr>\n",
       "    <tr>\n",
       "      <th>28.0</th>\n",
       "      <td>4990000.0</td>\n",
       "      <td>178214.0</td>\n",
       "    </tr>\n",
       "    <tr>\n",
       "      <th>29.0</th>\n",
       "      <td>4535000.0</td>\n",
       "      <td>156379.0</td>\n",
       "    </tr>\n",
       "    <tr>\n",
       "      <th>25.0</th>\n",
       "      <td>3794881.0</td>\n",
       "      <td>151795.0</td>\n",
       "    </tr>\n",
       "    <tr>\n",
       "      <th>24.0</th>\n",
       "      <td>3480000.0</td>\n",
       "      <td>145000.0</td>\n",
       "    </tr>\n",
       "    <tr>\n",
       "      <th>26.0</th>\n",
       "      <td>3320000.0</td>\n",
       "      <td>127692.0</td>\n",
       "    </tr>\n",
       "  </tbody>\n",
       "</table>\n",
       "</div>"
      ],
      "text/plain": [
       "                         last_price  price_for_km\n",
       "city_centers_nearest_km                          \n",
       "1.0                      11200000.0    11200000.0\n",
       "2.0                      10000000.0     5000000.0\n",
       "3.0                       8409000.0     2803000.0\n",
       "4.0                       9190000.0     2297500.0\n",
       "5.0                       9400000.0     1880000.0\n",
       "6.0                       8850000.0     1475000.0\n",
       "7.0                       7800000.0     1114286.0\n",
       "8.0                       7445000.0      930625.0\n",
       "9.0                       5300000.0      588889.0\n",
       "10.0                      5000000.0      500000.0\n",
       "11.0                      5072500.0      461136.0\n",
       "12.0                      4950000.0      412500.0\n",
       "13.0                      5200000.0      400000.0\n",
       "14.0                      4870000.0      347857.0\n",
       "15.0                      4900000.0      326667.0\n",
       "27.0                      8300000.0      307407.0\n",
       "16.0                      4750000.0      296875.0\n",
       "20.0                      5550000.0      277500.0\n",
       "17.0                      4580000.0      269412.0\n",
       "21.0                      5289476.0      251880.0\n",
       "18.0                      4300000.0      238889.0\n",
       "19.0                      4500000.0      236842.0\n",
       "22.0                      4925000.0      223864.0\n",
       "23.0                      4500000.0      195652.0\n",
       "28.0                      4990000.0      178214.0\n",
       "29.0                      4535000.0      156379.0\n",
       "25.0                      3794881.0      151795.0\n",
       "24.0                      3480000.0      145000.0\n",
       "26.0                      3320000.0      127692.0"
      ]
     },
     "execution_count": 51,
     "metadata": {},
     "output_type": "execute_result"
    }
   ],
   "source": [
    "# Создаем сводную таблицу\n",
    "price_km_table = (data.query('locality_name==\"Санкт-Петербург\"').pivot_table(index='city_centers_nearest_km', values='last_price', aggfunc='median'))\n",
    "price_km_table = (price_km_table.drop(labels = [0],axis = 0))\n",
    "price_km_table = price_km_table.round(1)\n",
    "price_km_table['price_for_km'] = round(price_km_table['last_price'] /  price_km_table.index )\n",
    "price_km_table.sort_values(by='price_for_km', ascending=False)\n",
    "\n"
   ]
  },
  {
   "cell_type": "markdown",
   "metadata": {},
   "source": [
    "<div class=\"alert alert-block alert-info\">\n",
    "<b> Отсортированная таблица по уменьшению цены за км показывает, что чем ближе квартира к центру, тем она дороже. Проиллюстрируем"
   ]
  },
  {
   "cell_type": "code",
   "execution_count": 52,
   "metadata": {},
   "outputs": [
    {
     "data": {
      "image/png": "[encoded data removed]",
      "text/plain": [
       "<Figure size 432x288 with 1 Axes>"
      ]
     },
     "metadata": {
      "needs_background": "light"
     },
     "output_type": "display_data"
    }
   ],
   "source": [
    "price_km_table.plot(y='last_price', grid=True)\n",
    "plt.show()"
   ]
  },
  {
   "cell_type": "markdown",
   "metadata": {},
   "source": [
    "### Общий вывод"
   ]
  },
  {
   "cell_type": "markdown",
   "metadata": {},
   "source": [
    "<div class=\"alert alert-block alert-info\">\n",
    "<b> Подведем итоги, на первом этапе была осуществлена предобработка данных. Для начала, избавились от пропусков в тех столбцах, в которых это было возможно. Например, в данных, в которых были пропуски, связанные с ошибками при добавлении пользователя. Также избавились от пропусков в некоторых столбцах с количественными значениями. Далее избавились от неявных дубликатов в названии местности и отфильтровали столбцы с выбивающимеся значениями.\n",
    "    В таблицу были давлены новые столбцы для полее удобного последуещего анализа зависимостей.\n",
    "    Также провели исследование многих параметров. Так, получаем:\n",
    "    <br>* общая площадь - распределение общей площади похоже на Пуассоновское, и это отличный резултат. Чаще всего встречаются квартиры с площадью от 50 до 100 кв м. жилая площадь - здесь мы видим 2 пика между 10 и 50 м кв, это может говорить о 2 типах планировки жилой площади.  площадь кухни - также имеет Пуассоновское распределение, самое частое значение 10 кв м.\n",
    " <br>   * цена объекта - распределение цены говорит о том, в основном цены находятся в диапозоне порядка 100000000, но есть некоторые выбивающиеся значения\n",
    "  <br>  * количество комнат - чаще всего можно встретить квартиру с 1-3 комнатами\n",
    "<br>    * высота потолков - наиболее распространенная высота потолков в районе 2.6 м\n",
    "<br>    * этаж квартиры - также можем наблюдать пуассоновское распределение, самые распространенные этажи 1-5\n",
    "<br>    * общее количество этажей в доме - гистограмма имеет несколько пиков, что может говорить о частоте застройки однотипных домов или о запрете на высокоэтажные постройки в центре Питера\n",
    "<br>    * расстояние до центра города в метрах - график имеет 2 основных пика. Чаще всего встречаются на расстоянии 10000-20000 м от центра, также есть группа квартир в пределах 5000 м от центра\n",
    "<br>    * расстояние до ближайшего аэропорта - здесь график довольно разношорстный, но в целом добраться до аэропорта, кажется, всем будет незатруднительно\n",
    "<br>    * расстояние до ближайшего парка - здесь есть пуассоновское распределение при значениях от 0 - 1000 м, а также выбивающийся столбец для тех квартир, которые находятся дальше всех от парка\n",
    "<br>    * день и месяц публикации объявления - из этих вух гистгорамм можеем заметить, что обьявления чаще всего размещались в будние дни и осенне-зимний период. \n",
    " <br> Также получили, что время продажи занимает от 45 до 231 дня. \n",
    "    Обнаружили, что  что наиболее сильная зависимость наблюдается между величинами цены и общей площади. Также влияет площадь жилой области, кухни. Также в среднем чем больше количесвто комнат в кварите, тем она дороже. Оказалось, что если обьявления выставлены выходные дни, то квартира продасться дешевле. Также неудачными для публикации обьявления явлются месяца май и июнь. Показали, как с 2014 цены начали падать и расти с 2017. Получили, что в Выборге средняя минимальная цена на квартиру, а средняя максимальная - в Санкт-Петербурге. Также показали, что чем ближе квартира к центру, тем она дороже\n",
    "    "
   ]
  },
  {
   "cell_type": "markdown",
   "metadata": {},
   "source": [
    "**Чек-лист готовности проекта**\n",
    "\n",
    "Поставьте 'x' в выполненных пунктах. Далее нажмите Shift+Enter."
   ]
  },
  {
   "cell_type": "code",
   "execution_count": null,
   "metadata": {},
   "outputs": [],
   "source": []
  }
 ],
 "metadata": {
  "ExecuteTimeLog": [
   {
    "duration": 1127,
    "start_time": "2022-11-17T09:08:38.312Z"
   },
   {
    "duration": 131,
    "start_time": "2022-11-17T09:09:04.854Z"
   },
   {
    "duration": 95,
    "start_time": "2022-11-17T09:09:32.616Z"
   },
   {
    "duration": 97,
    "start_time": "2022-11-17T09:09:43.165Z"
   },
   {
    "duration": 100,
    "start_time": "2022-11-17T09:09:51.768Z"
   },
   {
    "duration": 106,
    "start_time": "2022-11-17T09:10:11.348Z"
   },
   {
    "duration": 86,
    "start_time": "2022-11-17T09:10:16.010Z"
   },
   {
    "duration": 73,
    "start_time": "2022-11-17T09:10:37.139Z"
   },
   {
    "duration": 106,
    "start_time": "2022-11-17T09:10:45.242Z"
   },
   {
    "duration": 94,
    "start_time": "2022-11-17T09:11:01.444Z"
   },
   {
    "duration": 113,
    "start_time": "2022-11-17T09:14:11.908Z"
   },
   {
    "duration": 120,
    "start_time": "2022-11-17T09:15:01.040Z"
   },
   {
    "duration": 2390,
    "start_time": "2022-11-17T09:16:07.549Z"
   },
   {
    "duration": 2327,
    "start_time": "2022-11-17T09:16:48.716Z"
   },
   {
    "duration": 126,
    "start_time": "2022-11-17T09:17:05.572Z"
   },
   {
    "duration": 2263,
    "start_time": "2022-11-17T09:17:14.650Z"
   },
   {
    "duration": 17,
    "start_time": "2022-11-17T09:34:29.681Z"
   },
   {
    "duration": 18,
    "start_time": "2022-11-17T09:38:20.395Z"
   },
   {
    "duration": 12,
    "start_time": "2022-11-17T09:38:53.278Z"
   },
   {
    "duration": 16,
    "start_time": "2022-11-17T09:40:18.420Z"
   },
   {
    "duration": 17,
    "start_time": "2022-11-17T09:51:45.574Z"
   },
   {
    "duration": 16,
    "start_time": "2022-11-17T09:52:36.370Z"
   },
   {
    "duration": 9,
    "start_time": "2022-11-17T09:52:39.703Z"
   },
   {
    "duration": 5,
    "start_time": "2022-11-17T09:53:29.020Z"
   },
   {
    "duration": 19,
    "start_time": "2022-11-17T10:00:32.454Z"
   },
   {
    "duration": 20,
    "start_time": "2022-11-17T10:02:03.772Z"
   },
   {
    "duration": 16,
    "start_time": "2022-11-17T10:02:15.823Z"
   },
   {
    "duration": 15,
    "start_time": "2022-11-17T10:02:23.828Z"
   },
   {
    "duration": 24,
    "start_time": "2022-11-17T10:05:33.518Z"
   },
   {
    "duration": 7,
    "start_time": "2022-11-17T10:05:56.292Z"
   },
   {
    "duration": 9,
    "start_time": "2022-11-17T10:16:36.758Z"
   },
   {
    "duration": 7,
    "start_time": "2022-11-17T10:17:08.509Z"
   },
   {
    "duration": 32,
    "start_time": "2022-11-17T10:20:32.451Z"
   },
   {
    "duration": 38,
    "start_time": "2022-11-17T10:22:53.304Z"
   },
   {
    "duration": 37,
    "start_time": "2022-11-17T10:23:07.681Z"
   },
   {
    "duration": 26,
    "start_time": "2022-11-17T10:25:35.469Z"
   },
   {
    "duration": 39,
    "start_time": "2022-11-17T10:27:35.306Z"
   },
   {
    "duration": 33,
    "start_time": "2022-11-17T10:28:25.223Z"
   },
   {
    "duration": 1230,
    "start_time": "2022-11-17T10:28:45.535Z"
   },
   {
    "duration": 39,
    "start_time": "2022-11-17T10:29:09.568Z"
   },
   {
    "duration": 37,
    "start_time": "2022-11-17T10:31:30.471Z"
   },
   {
    "duration": 45,
    "start_time": "2022-11-17T10:42:14.104Z"
   },
   {
    "duration": 27,
    "start_time": "2022-11-17T10:44:30.446Z"
   },
   {
    "duration": 6,
    "start_time": "2022-11-17T10:46:19.270Z"
   },
   {
    "duration": 7,
    "start_time": "2022-11-17T10:46:55.951Z"
   },
   {
    "duration": 97,
    "start_time": "2022-11-17T10:59:45.770Z"
   },
   {
    "duration": 14,
    "start_time": "2022-11-17T11:00:28.080Z"
   },
   {
    "duration": 34,
    "start_time": "2022-11-17T11:06:36.170Z"
   },
   {
    "duration": 14,
    "start_time": "2022-11-17T11:11:39.003Z"
   },
   {
    "duration": 11,
    "start_time": "2022-11-17T11:12:11.769Z"
   },
   {
    "duration": 98,
    "start_time": "2022-11-17T11:13:02.948Z"
   },
   {
    "duration": 80,
    "start_time": "2022-11-17T11:13:28.250Z"
   },
   {
    "duration": 85,
    "start_time": "2022-11-17T11:13:44.687Z"
   },
   {
    "duration": 19,
    "start_time": "2022-11-17T11:13:53.402Z"
   },
   {
    "duration": 8,
    "start_time": "2022-11-17T11:14:15.589Z"
   },
   {
    "duration": 6,
    "start_time": "2022-11-17T11:14:25.136Z"
   },
   {
    "duration": 134,
    "start_time": "2022-11-17T11:14:53.002Z"
   },
   {
    "duration": 2145,
    "start_time": "2022-11-17T11:14:54.119Z"
   },
   {
    "duration": 10,
    "start_time": "2022-11-17T11:14:56.570Z"
   },
   {
    "duration": 13,
    "start_time": "2022-11-17T11:14:57.874Z"
   },
   {
    "duration": 6,
    "start_time": "2022-11-17T11:14:59.981Z"
   },
   {
    "duration": 10,
    "start_time": "2022-11-17T11:15:01.187Z"
   },
   {
    "duration": 15,
    "start_time": "2022-11-17T11:15:04.256Z"
   },
   {
    "duration": 8,
    "start_time": "2022-11-17T11:15:18.538Z"
   },
   {
    "duration": 11,
    "start_time": "2022-11-17T11:15:35.350Z"
   },
   {
    "duration": 12,
    "start_time": "2022-11-17T11:16:36.245Z"
   },
   {
    "duration": 96,
    "start_time": "2022-11-17T11:16:44.537Z"
   },
   {
    "duration": 19,
    "start_time": "2022-11-17T11:17:34.870Z"
   },
   {
    "duration": 16,
    "start_time": "2022-11-17T11:19:39.773Z"
   },
   {
    "duration": 15,
    "start_time": "2022-11-17T11:20:07.987Z"
   },
   {
    "duration": 120,
    "start_time": "2022-11-17T11:21:32.234Z"
   },
   {
    "duration": 2223,
    "start_time": "2022-11-17T11:21:32.542Z"
   },
   {
    "duration": 11,
    "start_time": "2022-11-17T11:21:34.768Z"
   },
   {
    "duration": 15,
    "start_time": "2022-11-17T11:21:34.781Z"
   },
   {
    "duration": 26,
    "start_time": "2022-11-17T11:21:34.798Z"
   },
   {
    "duration": 15,
    "start_time": "2022-11-17T11:21:34.826Z"
   },
   {
    "duration": 12,
    "start_time": "2022-11-17T11:21:34.843Z"
   },
   {
    "duration": 8,
    "start_time": "2022-11-17T11:21:34.857Z"
   },
   {
    "duration": 1149,
    "start_time": "2022-11-17T11:21:35.090Z"
   },
   {
    "duration": 1122,
    "start_time": "2022-11-17T11:21:49.909Z"
   },
   {
    "duration": 15,
    "start_time": "2022-11-17T11:22:08.666Z"
   },
   {
    "duration": 9,
    "start_time": "2022-11-17T11:28:10.923Z"
   },
   {
    "duration": 9,
    "start_time": "2022-11-17T11:37:38.093Z"
   },
   {
    "duration": 12,
    "start_time": "2022-11-17T11:37:59.606Z"
   },
   {
    "duration": 120,
    "start_time": "2022-11-17T11:38:18.833Z"
   },
   {
    "duration": 2135,
    "start_time": "2022-11-17T11:38:19.444Z"
   },
   {
    "duration": 11,
    "start_time": "2022-11-17T11:38:21.581Z"
   },
   {
    "duration": 27,
    "start_time": "2022-11-17T11:38:21.594Z"
   },
   {
    "duration": 5,
    "start_time": "2022-11-17T11:38:23.802Z"
   },
   {
    "duration": 18,
    "start_time": "2022-11-17T11:38:23.809Z"
   },
   {
    "duration": 16,
    "start_time": "2022-11-17T11:38:23.852Z"
   },
   {
    "duration": 9,
    "start_time": "2022-11-17T11:38:27.411Z"
   },
   {
    "duration": 20,
    "start_time": "2022-11-17T11:38:27.989Z"
   },
   {
    "duration": 9,
    "start_time": "2022-11-17T11:38:30.437Z"
   },
   {
    "duration": 45,
    "start_time": "2022-11-17T11:38:32.697Z"
   },
   {
    "duration": 29,
    "start_time": "2022-11-17T11:38:53.533Z"
   },
   {
    "duration": 12,
    "start_time": "2022-11-17T11:39:28.572Z"
   },
   {
    "duration": 12,
    "start_time": "2022-11-17T11:39:44.704Z"
   },
   {
    "duration": 13,
    "start_time": "2022-11-17T11:40:19.492Z"
   },
   {
    "duration": 8,
    "start_time": "2022-11-17T11:40:49.908Z"
   },
   {
    "duration": 118,
    "start_time": "2022-11-17T11:42:37.955Z"
   },
   {
    "duration": 2168,
    "start_time": "2022-11-17T11:42:38.520Z"
   },
   {
    "duration": 10,
    "start_time": "2022-11-17T11:42:40.690Z"
   },
   {
    "duration": 31,
    "start_time": "2022-11-17T11:42:40.702Z"
   },
   {
    "duration": 6,
    "start_time": "2022-11-17T11:42:40.994Z"
   },
   {
    "duration": 17,
    "start_time": "2022-11-17T11:42:44.755Z"
   },
   {
    "duration": 15,
    "start_time": "2022-11-17T11:42:49.172Z"
   },
   {
    "duration": 9,
    "start_time": "2022-11-17T11:42:51.272Z"
   },
   {
    "duration": 21,
    "start_time": "2022-11-17T11:42:53.003Z"
   },
   {
    "duration": 9,
    "start_time": "2022-11-17T11:42:57.717Z"
   },
   {
    "duration": 13,
    "start_time": "2022-11-17T11:43:09.658Z"
   },
   {
    "duration": 14,
    "start_time": "2022-11-17T11:43:35.088Z"
   },
   {
    "duration": 13,
    "start_time": "2022-11-17T11:43:44.474Z"
   },
   {
    "duration": 17,
    "start_time": "2022-11-17T11:44:13.673Z"
   },
   {
    "duration": 1436,
    "start_time": "2022-11-17T11:50:16.257Z"
   },
   {
    "duration": 1497,
    "start_time": "2022-11-17T11:51:48.195Z"
   },
   {
    "duration": 3183,
    "start_time": "2022-11-17T11:54:06.071Z"
   },
   {
    "duration": 8,
    "start_time": "2022-11-17T11:55:39.687Z"
   },
   {
    "duration": 8,
    "start_time": "2022-11-17T11:56:08.352Z"
   },
   {
    "duration": 11,
    "start_time": "2022-11-17T11:58:30.624Z"
   },
   {
    "duration": 24,
    "start_time": "2022-11-17T12:04:19.245Z"
   },
   {
    "duration": 20,
    "start_time": "2022-11-17T12:05:48.890Z"
   },
   {
    "duration": 10,
    "start_time": "2022-11-17T12:08:25.797Z"
   },
   {
    "duration": 156,
    "start_time": "2022-11-17T12:09:20.729Z"
   },
   {
    "duration": 2060,
    "start_time": "2022-11-17T12:09:21.231Z"
   },
   {
    "duration": 10,
    "start_time": "2022-11-17T12:09:23.293Z"
   },
   {
    "duration": 131,
    "start_time": "2022-11-17T12:09:23.304Z"
   },
   {
    "duration": 7,
    "start_time": "2022-11-17T12:09:23.530Z"
   },
   {
    "duration": 17,
    "start_time": "2022-11-17T12:09:23.940Z"
   },
   {
    "duration": 16,
    "start_time": "2022-11-17T12:09:24.823Z"
   },
   {
    "duration": 8,
    "start_time": "2022-11-17T12:09:25.303Z"
   },
   {
    "duration": 20,
    "start_time": "2022-11-17T12:09:25.788Z"
   },
   {
    "duration": 9,
    "start_time": "2022-11-17T12:09:27.240Z"
   },
   {
    "duration": 15,
    "start_time": "2022-11-17T12:09:27.647Z"
   },
   {
    "duration": 7,
    "start_time": "2022-11-17T12:09:28.152Z"
   },
   {
    "duration": 3603,
    "start_time": "2022-11-17T12:09:28.631Z"
   },
   {
    "duration": 11,
    "start_time": "2022-11-17T12:21:02.695Z"
   },
   {
    "duration": 17,
    "start_time": "2022-11-17T12:21:20.312Z"
   },
   {
    "duration": 13,
    "start_time": "2022-11-17T12:21:25.075Z"
   },
   {
    "duration": 80,
    "start_time": "2022-11-17T12:21:33.838Z"
   },
   {
    "duration": 35,
    "start_time": "2022-11-17T12:21:55.403Z"
   },
   {
    "duration": 166,
    "start_time": "2022-11-17T12:22:13.041Z"
   },
   {
    "duration": 2343,
    "start_time": "2022-11-17T12:22:13.639Z"
   },
   {
    "duration": 10,
    "start_time": "2022-11-17T12:22:15.985Z"
   },
   {
    "duration": 34,
    "start_time": "2022-11-17T12:22:15.997Z"
   },
   {
    "duration": 6,
    "start_time": "2022-11-17T12:22:16.120Z"
   },
   {
    "duration": 12,
    "start_time": "2022-11-17T12:22:16.605Z"
   },
   {
    "duration": 12,
    "start_time": "2022-11-17T12:22:17.652Z"
   },
   {
    "duration": 12,
    "start_time": "2022-11-17T12:22:18.304Z"
   },
   {
    "duration": 20,
    "start_time": "2022-11-17T12:22:19.124Z"
   },
   {
    "duration": 12,
    "start_time": "2022-11-17T12:22:23.930Z"
   },
   {
    "duration": 30,
    "start_time": "2022-11-17T12:22:23.945Z"
   },
   {
    "duration": 11,
    "start_time": "2022-11-17T12:22:29.107Z"
   },
   {
    "duration": 20,
    "start_time": "2022-11-17T12:22:29.751Z"
   },
   {
    "duration": 8,
    "start_time": "2022-11-17T12:22:31.938Z"
   },
   {
    "duration": 34,
    "start_time": "2022-11-17T12:22:33.106Z"
   },
   {
    "duration": 12,
    "start_time": "2022-11-17T12:27:38.475Z"
   },
   {
    "duration": 13,
    "start_time": "2022-11-17T12:27:51.843Z"
   },
   {
    "duration": 18,
    "start_time": "2022-11-17T12:28:14.440Z"
   },
   {
    "duration": 31,
    "start_time": "2022-11-17T12:29:52.683Z"
   },
   {
    "duration": 31,
    "start_time": "2022-11-17T12:30:19.955Z"
   },
   {
    "duration": 29,
    "start_time": "2022-11-17T12:30:43.892Z"
   },
   {
    "duration": 19,
    "start_time": "2022-11-17T12:31:22.791Z"
   },
   {
    "duration": 11,
    "start_time": "2022-11-17T12:31:28.099Z"
   },
   {
    "duration": 87,
    "start_time": "2022-11-17T12:31:43.441Z"
   },
   {
    "duration": 29,
    "start_time": "2022-11-17T12:31:55.558Z"
   },
   {
    "duration": 29,
    "start_time": "2022-11-17T12:33:14.747Z"
   },
   {
    "duration": 34,
    "start_time": "2022-11-17T12:33:33.817Z"
   },
   {
    "duration": 121,
    "start_time": "2022-11-17T12:33:40.811Z"
   },
   {
    "duration": 2018,
    "start_time": "2022-11-17T12:33:41.323Z"
   },
   {
    "duration": 9,
    "start_time": "2022-11-17T12:33:43.344Z"
   },
   {
    "duration": 15,
    "start_time": "2022-11-17T12:33:43.355Z"
   },
   {
    "duration": 5,
    "start_time": "2022-11-17T12:33:43.532Z"
   },
   {
    "duration": 12,
    "start_time": "2022-11-17T12:33:43.951Z"
   },
   {
    "duration": 12,
    "start_time": "2022-11-17T12:33:44.896Z"
   },
   {
    "duration": 8,
    "start_time": "2022-11-17T12:33:45.412Z"
   },
   {
    "duration": 16,
    "start_time": "2022-11-17T12:33:45.998Z"
   },
   {
    "duration": 10,
    "start_time": "2022-11-17T12:33:47.721Z"
   },
   {
    "duration": 14,
    "start_time": "2022-11-17T12:33:48.413Z"
   },
   {
    "duration": 7,
    "start_time": "2022-11-17T12:33:50.650Z"
   },
   {
    "duration": 33,
    "start_time": "2022-11-17T12:33:51.416Z"
   },
   {
    "duration": 71,
    "start_time": "2022-11-17T14:15:19.201Z"
   },
   {
    "duration": 24,
    "start_time": "2022-11-17T14:15:58.161Z"
   },
   {
    "duration": 1219,
    "start_time": "2022-11-17T14:16:15.321Z"
   },
   {
    "duration": 89,
    "start_time": "2022-11-17T14:18:35.877Z"
   },
   {
    "duration": 15,
    "start_time": "2022-11-17T14:19:22.303Z"
   },
   {
    "duration": 46,
    "start_time": "2022-11-17T15:40:30.669Z"
   },
   {
    "duration": 551,
    "start_time": "2022-11-17T15:40:47.447Z"
   },
   {
    "duration": 2373,
    "start_time": "2022-11-17T15:40:48.079Z"
   },
   {
    "duration": 9,
    "start_time": "2022-11-17T15:40:50.454Z"
   },
   {
    "duration": 14,
    "start_time": "2022-11-17T15:40:50.465Z"
   },
   {
    "duration": 5,
    "start_time": "2022-11-17T15:40:52.430Z"
   },
   {
    "duration": 11,
    "start_time": "2022-11-17T15:40:52.901Z"
   },
   {
    "duration": 1392,
    "start_time": "2022-11-17T15:40:53.984Z"
   },
   {
    "duration": 0,
    "start_time": "2022-11-17T15:40:55.377Z"
   },
   {
    "duration": 0,
    "start_time": "2022-11-17T15:40:55.379Z"
   },
   {
    "duration": 9,
    "start_time": "2022-11-17T15:40:56.713Z"
   },
   {
    "duration": 18,
    "start_time": "2022-11-17T15:40:57.160Z"
   },
   {
    "duration": 9,
    "start_time": "2022-11-17T15:40:59.149Z"
   },
   {
    "duration": 31,
    "start_time": "2022-11-17T15:40:59.686Z"
   },
   {
    "duration": 2812,
    "start_time": "2022-11-17T15:41:22.542Z"
   },
   {
    "duration": 2788,
    "start_time": "2022-11-17T15:41:55.251Z"
   },
   {
    "duration": 8,
    "start_time": "2022-11-17T15:53:05.524Z"
   },
   {
    "duration": 17,
    "start_time": "2022-11-17T15:53:15.929Z"
   },
   {
    "duration": 54,
    "start_time": "2022-11-17T15:53:23.762Z"
   },
   {
    "duration": 17,
    "start_time": "2022-11-17T15:53:37.808Z"
   },
   {
    "duration": 18,
    "start_time": "2022-11-17T15:55:27.002Z"
   },
   {
    "duration": 37,
    "start_time": "2022-11-17T15:55:53.477Z"
   },
   {
    "duration": 119,
    "start_time": "2022-11-17T15:56:56.753Z"
   },
   {
    "duration": 1990,
    "start_time": "2022-11-17T15:56:57.319Z"
   },
   {
    "duration": 17,
    "start_time": "2022-11-17T15:56:59.312Z"
   },
   {
    "duration": 15,
    "start_time": "2022-11-17T15:56:59.331Z"
   },
   {
    "duration": 5,
    "start_time": "2022-11-17T15:57:01.166Z"
   },
   {
    "duration": 10,
    "start_time": "2022-11-17T15:57:01.801Z"
   },
   {
    "duration": 7,
    "start_time": "2022-11-17T15:57:07.225Z"
   },
   {
    "duration": 17,
    "start_time": "2022-11-17T15:58:20.738Z"
   },
   {
    "duration": 37,
    "start_time": "2022-11-17T16:00:41.497Z"
   },
   {
    "duration": 117,
    "start_time": "2022-11-17T16:04:19.007Z"
   },
   {
    "duration": 2007,
    "start_time": "2022-11-17T16:04:19.485Z"
   },
   {
    "duration": 9,
    "start_time": "2022-11-17T16:04:21.495Z"
   },
   {
    "duration": 28,
    "start_time": "2022-11-17T16:04:21.505Z"
   },
   {
    "duration": 7,
    "start_time": "2022-11-17T16:04:22.899Z"
   },
   {
    "duration": 11,
    "start_time": "2022-11-17T16:04:23.425Z"
   },
   {
    "duration": 9,
    "start_time": "2022-11-17T16:04:26.469Z"
   },
   {
    "duration": 9,
    "start_time": "2022-11-17T16:05:03.570Z"
   },
   {
    "duration": 23,
    "start_time": "2022-11-17T16:07:42.419Z"
   },
   {
    "duration": 8,
    "start_time": "2022-11-17T16:11:08.738Z"
   },
   {
    "duration": 9,
    "start_time": "2022-11-17T16:11:38.111Z"
   },
   {
    "duration": 84,
    "start_time": "2022-11-17T16:16:38.136Z"
   },
   {
    "duration": 74,
    "start_time": "2022-11-17T16:16:49.936Z"
   },
   {
    "duration": 74,
    "start_time": "2022-11-17T16:17:24.139Z"
   },
   {
    "duration": 12,
    "start_time": "2022-11-17T16:18:33.588Z"
   },
   {
    "duration": 20,
    "start_time": "2022-11-17T16:19:10.154Z"
   },
   {
    "duration": 9,
    "start_time": "2022-11-17T16:26:26.486Z"
   },
   {
    "duration": 10,
    "start_time": "2022-11-17T16:26:50.170Z"
   },
   {
    "duration": 10,
    "start_time": "2022-11-17T16:27:23.119Z"
   },
   {
    "duration": 66,
    "start_time": "2022-11-17T16:27:40.436Z"
   },
   {
    "duration": 16,
    "start_time": "2022-11-17T16:28:26.364Z"
   },
   {
    "duration": 472,
    "start_time": "2022-11-17T16:33:52.746Z"
   },
   {
    "duration": 13,
    "start_time": "2022-11-17T16:34:10.832Z"
   },
   {
    "duration": 14,
    "start_time": "2022-11-17T16:34:39.743Z"
   },
   {
    "duration": 113,
    "start_time": "2022-11-17T16:35:22.270Z"
   },
   {
    "duration": 2088,
    "start_time": "2022-11-17T16:35:22.510Z"
   },
   {
    "duration": 10,
    "start_time": "2022-11-17T16:35:24.599Z"
   },
   {
    "duration": 14,
    "start_time": "2022-11-17T16:35:24.622Z"
   },
   {
    "duration": 5,
    "start_time": "2022-11-17T16:35:24.638Z"
   },
   {
    "duration": 11,
    "start_time": "2022-11-17T16:35:24.791Z"
   },
   {
    "duration": 15,
    "start_time": "2022-11-17T16:35:27.075Z"
   },
   {
    "duration": 14,
    "start_time": "2022-11-17T16:43:58.497Z"
   },
   {
    "duration": 14,
    "start_time": "2022-11-17T16:45:25.677Z"
   },
   {
    "duration": 8,
    "start_time": "2022-11-17T16:55:13.166Z"
   },
   {
    "duration": 25,
    "start_time": "2022-11-17T16:55:35.773Z"
   },
   {
    "duration": 37,
    "start_time": "2022-11-17T16:56:39.466Z"
   },
   {
    "duration": 22,
    "start_time": "2022-11-17T16:59:09.563Z"
   },
   {
    "duration": 92,
    "start_time": "2022-11-17T17:00:37.190Z"
   },
   {
    "duration": 6,
    "start_time": "2022-11-17T17:00:55.857Z"
   },
   {
    "duration": 46,
    "start_time": "2022-11-17T17:01:09.173Z"
   },
   {
    "duration": 8,
    "start_time": "2022-11-17T17:02:30.127Z"
   },
   {
    "duration": 14,
    "start_time": "2022-11-17T17:02:31.730Z"
   },
   {
    "duration": 9,
    "start_time": "2022-11-17T17:02:34.597Z"
   },
   {
    "duration": 15,
    "start_time": "2022-11-17T17:02:35.197Z"
   },
   {
    "duration": 8,
    "start_time": "2022-11-17T17:02:37.518Z"
   },
   {
    "duration": 33,
    "start_time": "2022-11-17T17:02:38.180Z"
   },
   {
    "duration": 6,
    "start_time": "2022-11-17T17:21:59.527Z"
   },
   {
    "duration": 6,
    "start_time": "2022-11-17T17:22:23.151Z"
   },
   {
    "duration": 7,
    "start_time": "2022-11-17T17:22:43.681Z"
   },
   {
    "duration": 8,
    "start_time": "2022-11-17T17:23:47.296Z"
   },
   {
    "duration": 7,
    "start_time": "2022-11-17T17:24:27.668Z"
   },
   {
    "duration": 7,
    "start_time": "2022-11-17T17:24:55.943Z"
   },
   {
    "duration": 7,
    "start_time": "2022-11-17T17:25:20.604Z"
   },
   {
    "duration": 33,
    "start_time": "2022-11-17T17:28:14.770Z"
   },
   {
    "duration": 113,
    "start_time": "2022-11-17T17:29:12.179Z"
   },
   {
    "duration": 1937,
    "start_time": "2022-11-17T17:29:12.402Z"
   },
   {
    "duration": 10,
    "start_time": "2022-11-17T17:29:14.341Z"
   },
   {
    "duration": 15,
    "start_time": "2022-11-17T17:29:14.352Z"
   },
   {
    "duration": 5,
    "start_time": "2022-11-17T17:29:14.369Z"
   },
   {
    "duration": 14,
    "start_time": "2022-11-17T17:29:14.376Z"
   },
   {
    "duration": 47,
    "start_time": "2022-11-17T17:29:14.722Z"
   },
   {
    "duration": 8,
    "start_time": "2022-11-17T17:29:15.172Z"
   },
   {
    "duration": 15,
    "start_time": "2022-11-17T17:29:17.528Z"
   },
   {
    "duration": 8,
    "start_time": "2022-11-17T17:29:20.244Z"
   },
   {
    "duration": 13,
    "start_time": "2022-11-17T17:29:20.746Z"
   },
   {
    "duration": 8,
    "start_time": "2022-11-17T17:29:23.196Z"
   },
   {
    "duration": 32,
    "start_time": "2022-11-17T17:29:23.845Z"
   },
   {
    "duration": 36,
    "start_time": "2022-11-17T17:29:24.692Z"
   },
   {
    "duration": 25,
    "start_time": "2022-11-17T17:29:40.729Z"
   },
   {
    "duration": 7,
    "start_time": "2022-11-17T17:29:47.201Z"
   },
   {
    "duration": 8,
    "start_time": "2022-11-17T17:31:50.351Z"
   },
   {
    "duration": 37,
    "start_time": "2022-11-17T17:32:52.422Z"
   },
   {
    "duration": 41,
    "start_time": "2022-11-17T17:33:24.380Z"
   },
   {
    "duration": 38,
    "start_time": "2022-11-17T17:34:08.250Z"
   },
   {
    "duration": 38,
    "start_time": "2022-11-17T17:51:01.355Z"
   },
   {
    "duration": 39,
    "start_time": "2022-11-17T17:51:33.763Z"
   },
   {
    "duration": 39,
    "start_time": "2022-11-17T17:52:38.764Z"
   },
   {
    "duration": 42,
    "start_time": "2022-11-17T17:54:23.490Z"
   },
   {
    "duration": 44,
    "start_time": "2022-11-17T17:54:33.437Z"
   },
   {
    "duration": 57,
    "start_time": "2022-11-17T17:55:05.153Z"
   },
   {
    "duration": 56,
    "start_time": "2022-11-17T17:58:39.796Z"
   },
   {
    "duration": 38,
    "start_time": "2022-11-17T17:58:49.618Z"
   },
   {
    "duration": 28,
    "start_time": "2022-11-17T17:58:59.751Z"
   },
   {
    "duration": 94,
    "start_time": "2022-11-17T18:05:37.452Z"
   },
   {
    "duration": 90,
    "start_time": "2022-11-17T18:05:44.140Z"
   },
   {
    "duration": 4,
    "start_time": "2022-11-17T18:06:14.938Z"
   },
   {
    "duration": 10,
    "start_time": "2022-11-17T18:06:17.895Z"
   },
   {
    "duration": 156,
    "start_time": "2022-11-17T18:06:45.422Z"
   },
   {
    "duration": 156,
    "start_time": "2022-11-17T18:07:18.638Z"
   },
   {
    "duration": 155,
    "start_time": "2022-11-17T18:09:16.155Z"
   },
   {
    "duration": 165,
    "start_time": "2022-11-17T18:09:26.905Z"
   },
   {
    "duration": 162,
    "start_time": "2022-11-17T18:09:54.304Z"
   },
   {
    "duration": 156,
    "start_time": "2022-11-17T18:10:11.640Z"
   },
   {
    "duration": 144,
    "start_time": "2022-11-17T18:10:23.328Z"
   },
   {
    "duration": 151,
    "start_time": "2022-11-17T18:10:27.654Z"
   },
   {
    "duration": 152,
    "start_time": "2022-11-17T18:10:42.652Z"
   },
   {
    "duration": 149,
    "start_time": "2022-11-17T18:11:00.256Z"
   },
   {
    "duration": 155,
    "start_time": "2022-11-17T18:12:10.715Z"
   },
   {
    "duration": 158,
    "start_time": "2022-11-17T18:12:23.822Z"
   },
   {
    "duration": 192,
    "start_time": "2022-11-17T18:12:44.476Z"
   },
   {
    "duration": 185,
    "start_time": "2022-11-17T18:17:14.334Z"
   },
   {
    "duration": 163,
    "start_time": "2022-11-17T18:17:33.384Z"
   },
   {
    "duration": 155,
    "start_time": "2022-11-17T18:18:35.641Z"
   },
   {
    "duration": 203,
    "start_time": "2022-11-17T18:18:54.033Z"
   },
   {
    "duration": 158,
    "start_time": "2022-11-17T18:20:20.539Z"
   },
   {
    "duration": 152,
    "start_time": "2022-11-17T18:20:32.145Z"
   },
   {
    "duration": 73,
    "start_time": "2022-11-17T18:42:24.994Z"
   },
   {
    "duration": 107,
    "start_time": "2022-11-17T18:43:28.335Z"
   },
   {
    "duration": 62,
    "start_time": "2022-11-17T18:43:49.119Z"
   },
   {
    "duration": 3,
    "start_time": "2022-11-17T18:46:56.708Z"
   },
   {
    "duration": 2804,
    "start_time": "2022-11-17T18:48:36.620Z"
   },
   {
    "duration": 4,
    "start_time": "2022-11-17T18:50:57.033Z"
   },
   {
    "duration": 2624,
    "start_time": "2022-11-17T18:51:11.844Z"
   },
   {
    "duration": 18,
    "start_time": "2022-11-17T18:51:53.243Z"
   },
   {
    "duration": 26,
    "start_time": "2022-11-17T18:52:15.015Z"
   },
   {
    "duration": 19,
    "start_time": "2022-11-17T18:53:47.620Z"
   },
   {
    "duration": 17,
    "start_time": "2022-11-17T18:55:29.307Z"
   },
   {
    "duration": 110,
    "start_time": "2022-11-17T19:00:39.175Z"
   },
   {
    "duration": 2119,
    "start_time": "2022-11-17T19:00:39.770Z"
   },
   {
    "duration": 10,
    "start_time": "2022-11-17T19:00:41.891Z"
   },
   {
    "duration": 13,
    "start_time": "2022-11-17T19:00:42.238Z"
   },
   {
    "duration": 6,
    "start_time": "2022-11-17T19:00:43.903Z"
   },
   {
    "duration": 10,
    "start_time": "2022-11-17T19:00:44.356Z"
   },
   {
    "duration": 57,
    "start_time": "2022-11-17T19:00:45.856Z"
   },
   {
    "duration": 8,
    "start_time": "2022-11-17T19:00:47.048Z"
   },
   {
    "duration": 15,
    "start_time": "2022-11-17T19:00:47.548Z"
   },
   {
    "duration": 7,
    "start_time": "2022-11-17T19:00:54.130Z"
   },
   {
    "duration": 13,
    "start_time": "2022-11-17T19:00:54.423Z"
   },
   {
    "duration": 9,
    "start_time": "2022-11-17T19:00:56.078Z"
   },
   {
    "duration": 10,
    "start_time": "2022-11-17T19:00:56.574Z"
   },
   {
    "duration": 4,
    "start_time": "2022-11-17T19:00:57.196Z"
   },
   {
    "duration": 20,
    "start_time": "2022-11-17T19:00:57.854Z"
   },
   {
    "duration": 27,
    "start_time": "2022-11-17T19:00:58.556Z"
   },
   {
    "duration": 93,
    "start_time": "2022-11-17T19:00:59.250Z"
   },
   {
    "duration": 22,
    "start_time": "2022-11-17T19:00:59.976Z"
   },
   {
    "duration": 53,
    "start_time": "2022-11-17T19:01:07.134Z"
   },
   {
    "duration": 21,
    "start_time": "2022-11-17T19:01:48.511Z"
   },
   {
    "duration": 7,
    "start_time": "2022-11-17T19:01:50.968Z"
   },
   {
    "duration": 42,
    "start_time": "2022-11-17T19:01:52.019Z"
   },
   {
    "duration": 4,
    "start_time": "2022-11-17T19:01:53.215Z"
   },
   {
    "duration": 160,
    "start_time": "2022-11-17T19:01:54.432Z"
   },
   {
    "duration": 19,
    "start_time": "2022-11-17T19:03:00.274Z"
   },
   {
    "duration": 17,
    "start_time": "2022-11-17T19:03:27.514Z"
   },
   {
    "duration": 192,
    "start_time": "2022-11-17T19:08:45.735Z"
   },
   {
    "duration": 4,
    "start_time": "2022-11-17T19:10:39.750Z"
   },
   {
    "duration": 119,
    "start_time": "2022-11-17T19:23:06.250Z"
   },
   {
    "duration": 2037,
    "start_time": "2022-11-17T19:23:06.512Z"
   },
   {
    "duration": 9,
    "start_time": "2022-11-17T19:23:08.551Z"
   },
   {
    "duration": 13,
    "start_time": "2022-11-17T19:23:08.561Z"
   },
   {
    "duration": 5,
    "start_time": "2022-11-17T19:23:08.575Z"
   },
   {
    "duration": 10,
    "start_time": "2022-11-17T19:23:08.729Z"
   },
   {
    "duration": 47,
    "start_time": "2022-11-17T19:23:09.607Z"
   },
   {
    "duration": 7,
    "start_time": "2022-11-17T19:23:10.207Z"
   },
   {
    "duration": 14,
    "start_time": "2022-11-17T19:23:10.463Z"
   },
   {
    "duration": 8,
    "start_time": "2022-11-17T19:23:11.649Z"
   },
   {
    "duration": 15,
    "start_time": "2022-11-17T19:23:11.920Z"
   },
   {
    "duration": 9,
    "start_time": "2022-11-17T19:23:13.203Z"
   },
   {
    "duration": 10,
    "start_time": "2022-11-17T19:23:13.511Z"
   },
   {
    "duration": 4,
    "start_time": "2022-11-17T19:23:13.815Z"
   },
   {
    "duration": 21,
    "start_time": "2022-11-17T19:23:14.124Z"
   },
   {
    "duration": 29,
    "start_time": "2022-11-17T19:23:14.399Z"
   },
   {
    "duration": 51,
    "start_time": "2022-11-17T19:23:14.713Z"
   },
   {
    "duration": 16,
    "start_time": "2022-11-17T19:23:15.036Z"
   },
   {
    "duration": 6,
    "start_time": "2022-11-17T19:23:16.260Z"
   },
   {
    "duration": 43,
    "start_time": "2022-11-17T19:23:18.372Z"
   },
   {
    "duration": 3,
    "start_time": "2022-11-17T19:23:19.669Z"
   },
   {
    "duration": 159,
    "start_time": "2022-11-17T19:23:20.535Z"
   },
   {
    "duration": 3,
    "start_time": "2022-11-17T19:23:22.181Z"
   },
   {
    "duration": 166,
    "start_time": "2022-11-17T19:24:26.421Z"
   },
   {
    "duration": 1000,
    "start_time": "2022-11-17T19:26:37.005Z"
   },
   {
    "duration": 1757,
    "start_time": "2022-11-17T19:28:04.887Z"
   },
   {
    "duration": 1432,
    "start_time": "2022-11-17T19:28:10.338Z"
   },
   {
    "duration": 3155,
    "start_time": "2022-11-17T19:30:02.054Z"
   },
   {
    "duration": 158,
    "start_time": "2022-11-17T19:32:28.097Z"
   },
   {
    "duration": 163,
    "start_time": "2022-11-17T19:32:38.772Z"
   },
   {
    "duration": 158,
    "start_time": "2022-11-17T19:33:17.996Z"
   },
   {
    "duration": 162,
    "start_time": "2022-11-17T19:33:47.670Z"
   },
   {
    "duration": 180,
    "start_time": "2022-11-17T19:34:27.329Z"
   },
   {
    "duration": 190,
    "start_time": "2022-11-17T19:34:39.800Z"
   },
   {
    "duration": 164,
    "start_time": "2022-11-17T19:35:21.357Z"
   },
   {
    "duration": 178,
    "start_time": "2022-11-17T19:35:34.838Z"
   },
   {
    "duration": 2966,
    "start_time": "2022-11-17T19:36:49.524Z"
   },
   {
    "duration": 568,
    "start_time": "2022-11-17T19:37:29.157Z"
   },
   {
    "duration": 193,
    "start_time": "2022-11-17T19:39:35.558Z"
   },
   {
    "duration": 236,
    "start_time": "2022-11-17T19:39:48.892Z"
   },
   {
    "duration": 220,
    "start_time": "2022-11-17T19:41:48.496Z"
   },
   {
    "duration": 227,
    "start_time": "2022-11-17T19:42:26.640Z"
   },
   {
    "duration": 236,
    "start_time": "2022-11-17T19:42:46.119Z"
   },
   {
    "duration": 7,
    "start_time": "2022-11-17T20:30:44.533Z"
   },
   {
    "duration": 5,
    "start_time": "2022-11-17T20:30:47.839Z"
   },
   {
    "duration": 28,
    "start_time": "2022-11-17T20:34:11.016Z"
   },
   {
    "duration": 30,
    "start_time": "2022-11-17T20:34:25.010Z"
   },
   {
    "duration": 20,
    "start_time": "2022-11-17T20:34:57.810Z"
   },
   {
    "duration": 24,
    "start_time": "2022-11-17T20:35:49.367Z"
   },
   {
    "duration": 929,
    "start_time": "2022-11-17T20:36:53.082Z"
   },
   {
    "duration": 934,
    "start_time": "2022-11-17T20:37:33.729Z"
   },
   {
    "duration": 5,
    "start_time": "2022-11-17T20:39:36.535Z"
   },
   {
    "duration": 14,
    "start_time": "2022-11-17T20:41:03.093Z"
   },
   {
    "duration": 14,
    "start_time": "2022-11-17T20:41:16.833Z"
   },
   {
    "duration": 16,
    "start_time": "2022-11-17T20:41:22.942Z"
   },
   {
    "duration": 15,
    "start_time": "2022-11-17T20:42:00.606Z"
   },
   {
    "duration": 1230,
    "start_time": "2022-11-17T20:43:22.412Z"
   },
   {
    "duration": 4,
    "start_time": "2022-11-17T20:45:35.860Z"
   },
   {
    "duration": 12,
    "start_time": "2022-11-17T20:45:43.806Z"
   },
   {
    "duration": 15,
    "start_time": "2022-11-17T20:46:01.358Z"
   },
   {
    "duration": 9,
    "start_time": "2022-11-17T20:46:16.020Z"
   },
   {
    "duration": 11,
    "start_time": "2022-11-17T20:46:38.581Z"
   },
   {
    "duration": 14,
    "start_time": "2022-11-17T20:46:43.999Z"
   },
   {
    "duration": 951,
    "start_time": "2022-11-17T20:48:14.463Z"
   },
   {
    "duration": 23,
    "start_time": "2022-11-17T20:48:33.372Z"
   },
   {
    "duration": 22,
    "start_time": "2022-11-17T20:48:58.780Z"
   },
   {
    "duration": 20,
    "start_time": "2022-11-17T20:49:34.909Z"
   },
   {
    "duration": 19,
    "start_time": "2022-11-17T20:49:42.090Z"
   },
   {
    "duration": 8,
    "start_time": "2022-11-17T20:53:10.891Z"
   },
   {
    "duration": 102,
    "start_time": "2022-11-17T20:53:23.246Z"
   },
   {
    "duration": 14,
    "start_time": "2022-11-17T20:53:40.312Z"
   },
   {
    "duration": 13,
    "start_time": "2022-11-17T20:53:50.466Z"
   },
   {
    "duration": 14,
    "start_time": "2022-11-17T20:54:49.757Z"
   },
   {
    "duration": 2416,
    "start_time": "2022-11-17T20:55:01.346Z"
   },
   {
    "duration": 166,
    "start_time": "2022-11-17T20:57:47.416Z"
   },
   {
    "duration": 68,
    "start_time": "2022-11-17T21:00:15.226Z"
   },
   {
    "duration": 788,
    "start_time": "2022-11-17T21:00:21.666Z"
   },
   {
    "duration": 536,
    "start_time": "2022-11-17T21:00:59.857Z"
   },
   {
    "duration": 160,
    "start_time": "2022-11-17T21:01:08.389Z"
   },
   {
    "duration": 279,
    "start_time": "2022-11-17T21:02:14.632Z"
   },
   {
    "duration": 234,
    "start_time": "2022-11-17T21:02:34.710Z"
   },
   {
    "duration": 236,
    "start_time": "2022-11-17T21:02:49.106Z"
   },
   {
    "duration": 13,
    "start_time": "2022-11-17T21:04:14.246Z"
   },
   {
    "duration": 13,
    "start_time": "2022-11-17T21:04:48.904Z"
   },
   {
    "duration": 245,
    "start_time": "2022-11-17T21:05:04.259Z"
   },
   {
    "duration": 229,
    "start_time": "2022-11-17T21:05:16.841Z"
   },
   {
    "duration": 225,
    "start_time": "2022-11-17T21:05:28.755Z"
   },
   {
    "duration": 247,
    "start_time": "2022-11-17T21:05:37.360Z"
   },
   {
    "duration": 258,
    "start_time": "2022-11-17T21:05:43.794Z"
   },
   {
    "duration": 245,
    "start_time": "2022-11-17T21:05:51.467Z"
   },
   {
    "duration": 237,
    "start_time": "2022-11-17T21:06:32.570Z"
   },
   {
    "duration": 67,
    "start_time": "2022-11-17T21:06:51.372Z"
   },
   {
    "duration": 273,
    "start_time": "2022-11-17T21:06:59.663Z"
   },
   {
    "duration": 25,
    "start_time": "2022-11-17T21:19:22.849Z"
   },
   {
    "duration": 25,
    "start_time": "2022-11-17T21:20:05.156Z"
   },
   {
    "duration": 17,
    "start_time": "2022-11-17T21:20:17.945Z"
   },
   {
    "duration": 16,
    "start_time": "2022-11-17T21:21:48.486Z"
   },
   {
    "duration": 26,
    "start_time": "2022-11-17T21:22:35.230Z"
   },
   {
    "duration": 25,
    "start_time": "2022-11-17T21:22:53.943Z"
   },
   {
    "duration": 21,
    "start_time": "2022-11-17T21:23:10.863Z"
   },
   {
    "duration": 19,
    "start_time": "2022-11-17T21:24:15.446Z"
   },
   {
    "duration": 21,
    "start_time": "2022-11-17T21:24:29.339Z"
   },
   {
    "duration": 23,
    "start_time": "2022-11-17T21:24:49.833Z"
   },
   {
    "duration": 20,
    "start_time": "2022-11-17T21:25:00.298Z"
   },
   {
    "duration": 19,
    "start_time": "2022-11-17T21:25:16.013Z"
   },
   {
    "duration": 23,
    "start_time": "2022-11-17T21:25:28.944Z"
   },
   {
    "duration": 32,
    "start_time": "2022-11-17T21:28:10.080Z"
   },
   {
    "duration": 30,
    "start_time": "2022-11-17T21:28:37.005Z"
   },
   {
    "duration": 37,
    "start_time": "2022-11-17T21:28:43.740Z"
   },
   {
    "duration": 65,
    "start_time": "2022-11-17T21:29:21.333Z"
   },
   {
    "duration": 37,
    "start_time": "2022-11-17T21:29:31.775Z"
   },
   {
    "duration": 26,
    "start_time": "2022-11-17T21:29:40.130Z"
   },
   {
    "duration": 19,
    "start_time": "2022-11-17T21:29:48.133Z"
   },
   {
    "duration": 46,
    "start_time": "2022-11-17T21:30:01.035Z"
   },
   {
    "duration": 13,
    "start_time": "2022-11-17T21:30:44.962Z"
   },
   {
    "duration": 16,
    "start_time": "2022-11-17T21:30:55.000Z"
   },
   {
    "duration": 11,
    "start_time": "2022-11-17T21:31:05.621Z"
   },
   {
    "duration": 7,
    "start_time": "2022-11-17T21:37:36.098Z"
   },
   {
    "duration": 16,
    "start_time": "2022-11-17T21:40:36.938Z"
   },
   {
    "duration": 25,
    "start_time": "2022-11-17T21:40:56.191Z"
   },
   {
    "duration": 12,
    "start_time": "2022-11-17T21:41:36.496Z"
   },
   {
    "duration": 18,
    "start_time": "2022-11-17T21:41:47.346Z"
   },
   {
    "duration": 1117,
    "start_time": "2022-11-17T21:43:37.688Z"
   },
   {
    "duration": 1109,
    "start_time": "2022-11-17T21:44:50.114Z"
   },
   {
    "duration": 1105,
    "start_time": "2022-11-17T21:45:27.014Z"
   },
   {
    "duration": 1039,
    "start_time": "2022-11-17T21:45:58.832Z"
   },
   {
    "duration": 1121,
    "start_time": "2022-11-17T21:47:39.735Z"
   },
   {
    "duration": 17,
    "start_time": "2022-11-17T21:47:56.231Z"
   },
   {
    "duration": 15,
    "start_time": "2022-11-17T21:48:06.295Z"
   },
   {
    "duration": 12,
    "start_time": "2022-11-17T21:48:32.145Z"
   },
   {
    "duration": 17,
    "start_time": "2022-11-17T21:48:50.310Z"
   },
   {
    "duration": 17,
    "start_time": "2022-11-17T21:58:29.478Z"
   },
   {
    "duration": 25,
    "start_time": "2022-11-17T21:59:47.579Z"
   },
   {
    "duration": 21,
    "start_time": "2022-11-17T22:00:08.046Z"
   },
   {
    "duration": 22,
    "start_time": "2022-11-17T22:00:32.728Z"
   },
   {
    "duration": 71,
    "start_time": "2022-11-17T22:02:00.956Z"
   },
   {
    "duration": 72,
    "start_time": "2022-11-17T22:02:06.826Z"
   },
   {
    "duration": 68,
    "start_time": "2022-11-17T22:02:59.685Z"
   },
   {
    "duration": 25,
    "start_time": "2022-11-17T22:03:43.270Z"
   },
   {
    "duration": 26,
    "start_time": "2022-11-17T22:03:55.535Z"
   },
   {
    "duration": 25,
    "start_time": "2022-11-17T22:04:25.528Z"
   },
   {
    "duration": 17,
    "start_time": "2022-11-17T22:04:50.552Z"
   },
   {
    "duration": 1151,
    "start_time": "2022-11-17T22:04:58.359Z"
   },
   {
    "duration": 1122,
    "start_time": "2022-11-17T22:05:04.743Z"
   },
   {
    "duration": 18,
    "start_time": "2022-11-17T22:05:12.002Z"
   },
   {
    "duration": 1110,
    "start_time": "2022-11-17T22:05:25.329Z"
   },
   {
    "duration": 14,
    "start_time": "2022-11-17T22:06:16.221Z"
   },
   {
    "duration": 21,
    "start_time": "2022-11-17T22:06:23.122Z"
   },
   {
    "duration": 19,
    "start_time": "2022-11-17T22:06:49.524Z"
   },
   {
    "duration": 20,
    "start_time": "2022-11-17T22:08:20.078Z"
   },
   {
    "duration": 1086,
    "start_time": "2022-11-17T22:08:35.441Z"
   },
   {
    "duration": 18,
    "start_time": "2022-11-17T22:08:57.600Z"
   },
   {
    "duration": 19,
    "start_time": "2022-11-17T22:09:06.508Z"
   },
   {
    "duration": 18,
    "start_time": "2022-11-17T22:09:17.536Z"
   },
   {
    "duration": 20,
    "start_time": "2022-11-17T22:09:22.178Z"
   },
   {
    "duration": 19,
    "start_time": "2022-11-17T22:09:59.893Z"
   },
   {
    "duration": 1096,
    "start_time": "2022-11-17T22:12:08.829Z"
   },
   {
    "duration": 18,
    "start_time": "2022-11-17T22:12:45.161Z"
   },
   {
    "duration": 31,
    "start_time": "2022-11-17T22:12:56.535Z"
   },
   {
    "duration": 28,
    "start_time": "2022-11-17T22:13:19.380Z"
   },
   {
    "duration": 28,
    "start_time": "2022-11-17T22:13:43.013Z"
   },
   {
    "duration": 15,
    "start_time": "2022-11-17T22:15:33.235Z"
   },
   {
    "duration": 23,
    "start_time": "2022-11-17T22:15:47.144Z"
   },
   {
    "duration": 28,
    "start_time": "2022-11-17T22:16:02.363Z"
   },
   {
    "duration": 29,
    "start_time": "2022-11-17T22:16:54.280Z"
   },
   {
    "duration": 1074,
    "start_time": "2022-11-17T22:17:27.014Z"
   },
   {
    "duration": 1115,
    "start_time": "2022-11-17T22:17:40.495Z"
   },
   {
    "duration": 1181,
    "start_time": "2022-11-17T22:19:13.202Z"
   },
   {
    "duration": 31,
    "start_time": "2022-11-17T22:19:22.210Z"
   },
   {
    "duration": 662,
    "start_time": "2022-11-18T07:33:05.705Z"
   },
   {
    "duration": 2369,
    "start_time": "2022-11-18T07:33:08.857Z"
   },
   {
    "duration": 10,
    "start_time": "2022-11-18T07:36:39.756Z"
   },
   {
    "duration": 15,
    "start_time": "2022-11-18T07:36:46.782Z"
   },
   {
    "duration": 19,
    "start_time": "2022-11-18T07:40:52.220Z"
   },
   {
    "duration": 3,
    "start_time": "2022-11-18T07:42:46.766Z"
   },
   {
    "duration": 47,
    "start_time": "2022-11-18T09:33:55.954Z"
   },
   {
    "duration": 771,
    "start_time": "2022-11-18T09:34:01.319Z"
   },
   {
    "duration": 2444,
    "start_time": "2022-11-18T09:34:02.272Z"
   },
   {
    "duration": 9,
    "start_time": "2022-11-18T09:34:04.719Z"
   },
   {
    "duration": 15,
    "start_time": "2022-11-18T09:34:10.944Z"
   },
   {
    "duration": 5,
    "start_time": "2022-11-18T09:34:15.552Z"
   },
   {
    "duration": 10,
    "start_time": "2022-11-18T09:34:16.522Z"
   },
   {
    "duration": 22,
    "start_time": "2022-11-18T09:34:19.581Z"
   },
   {
    "duration": 17,
    "start_time": "2022-11-18T09:35:33.715Z"
   },
   {
    "duration": 51,
    "start_time": "2022-11-18T09:40:06.123Z"
   },
   {
    "duration": 56,
    "start_time": "2022-11-18T09:41:28.123Z"
   },
   {
    "duration": 7,
    "start_time": "2022-11-18T10:04:41.928Z"
   },
   {
    "duration": 15,
    "start_time": "2022-11-18T10:04:46.892Z"
   },
   {
    "duration": 8,
    "start_time": "2022-11-18T10:06:25.030Z"
   },
   {
    "duration": 15,
    "start_time": "2022-11-18T10:08:55.420Z"
   },
   {
    "duration": 8,
    "start_time": "2022-11-18T10:09:43.444Z"
   },
   {
    "duration": 10,
    "start_time": "2022-11-18T10:18:00.238Z"
   },
   {
    "duration": 3,
    "start_time": "2022-11-18T10:18:00.943Z"
   },
   {
    "duration": 19,
    "start_time": "2022-11-18T10:18:01.737Z"
   },
   {
    "duration": 29,
    "start_time": "2022-11-18T10:18:02.509Z"
   },
   {
    "duration": 50,
    "start_time": "2022-11-18T10:18:34.876Z"
   },
   {
    "duration": 17,
    "start_time": "2022-11-18T10:19:10.446Z"
   },
   {
    "duration": 7,
    "start_time": "2022-11-18T10:25:00.358Z"
   },
   {
    "duration": 43,
    "start_time": "2022-11-18T10:25:01.484Z"
   },
   {
    "duration": 3,
    "start_time": "2022-11-18T10:25:05.317Z"
   },
   {
    "duration": 166,
    "start_time": "2022-11-18T10:28:31.306Z"
   },
   {
    "duration": 176,
    "start_time": "2022-11-18T10:28:56.080Z"
   },
   {
    "duration": 2856,
    "start_time": "2022-11-18T10:30:16.009Z"
   },
   {
    "duration": 623,
    "start_time": "2022-11-18T10:30:45.231Z"
   },
   {
    "duration": 357,
    "start_time": "2022-11-18T11:14:44.088Z"
   },
   {
    "duration": 240,
    "start_time": "2022-11-18T11:19:22.870Z"
   },
   {
    "duration": 36,
    "start_time": "2022-11-18T11:23:45.868Z"
   },
   {
    "duration": 8,
    "start_time": "2022-11-18T11:24:00.893Z"
   },
   {
    "duration": 3,
    "start_time": "2022-11-18T11:24:57.242Z"
   },
   {
    "duration": 8,
    "start_time": "2022-11-18T11:25:09.749Z"
   },
   {
    "duration": 123,
    "start_time": "2022-11-18T11:25:21.120Z"
   },
   {
    "duration": 8,
    "start_time": "2022-11-18T11:25:31.530Z"
   },
   {
    "duration": 116,
    "start_time": "2022-11-18T11:25:39.074Z"
   },
   {
    "duration": 8,
    "start_time": "2022-11-18T11:32:44.912Z"
   },
   {
    "duration": 7,
    "start_time": "2022-11-18T11:33:58.697Z"
   },
   {
    "duration": 7,
    "start_time": "2022-11-18T11:34:19.527Z"
   },
   {
    "duration": 7,
    "start_time": "2022-11-18T11:46:15.453Z"
   },
   {
    "duration": 2579,
    "start_time": "2022-11-18T11:51:48.525Z"
   },
   {
    "duration": 50,
    "start_time": "2022-11-18T11:58:37.249Z"
   },
   {
    "duration": 2,
    "start_time": "2022-11-18T12:51:00.775Z"
   },
   {
    "duration": 141,
    "start_time": "2022-11-18T12:51:01.519Z"
   },
   {
    "duration": 126,
    "start_time": "2022-11-18T12:51:03.973Z"
   },
   {
    "duration": 1891,
    "start_time": "2022-11-18T12:51:04.100Z"
   },
   {
    "duration": 9,
    "start_time": "2022-11-18T12:51:05.993Z"
   },
   {
    "duration": 26,
    "start_time": "2022-11-18T12:51:06.003Z"
   },
   {
    "duration": 5,
    "start_time": "2022-11-18T12:51:06.031Z"
   },
   {
    "duration": 15,
    "start_time": "2022-11-18T12:51:06.038Z"
   },
   {
    "duration": 21,
    "start_time": "2022-11-18T12:51:06.157Z"
   },
   {
    "duration": 21,
    "start_time": "2022-11-18T12:51:06.367Z"
   },
   {
    "duration": 60,
    "start_time": "2022-11-18T12:51:06.789Z"
   },
   {
    "duration": 7,
    "start_time": "2022-11-18T12:51:07.627Z"
   },
   {
    "duration": 15,
    "start_time": "2022-11-18T12:51:07.827Z"
   },
   {
    "duration": 9,
    "start_time": "2022-11-18T12:51:08.733Z"
   },
   {
    "duration": 14,
    "start_time": "2022-11-18T12:51:08.913Z"
   },
   {
    "duration": 7,
    "start_time": "2022-11-18T12:51:09.989Z"
   },
   {
    "duration": 11,
    "start_time": "2022-11-18T12:51:10.213Z"
   },
   {
    "duration": 4,
    "start_time": "2022-11-18T12:51:10.414Z"
   },
   {
    "duration": 19,
    "start_time": "2022-11-18T12:51:10.630Z"
   },
   {
    "duration": 29,
    "start_time": "2022-11-18T12:51:10.828Z"
   },
   {
    "duration": 50,
    "start_time": "2022-11-18T12:51:11.028Z"
   },
   {
    "duration": 18,
    "start_time": "2022-11-18T12:51:11.242Z"
   },
   {
    "duration": 7,
    "start_time": "2022-11-18T12:51:12.313Z"
   },
   {
    "duration": 45,
    "start_time": "2022-11-18T12:51:12.571Z"
   },
   {
    "duration": 3,
    "start_time": "2022-11-18T12:51:12.775Z"
   },
   {
    "duration": 177,
    "start_time": "2022-11-18T12:51:12.996Z"
   },
   {
    "duration": 2759,
    "start_time": "2022-11-18T12:51:13.673Z"
   },
   {
    "duration": 802,
    "start_time": "2022-11-18T12:51:16.434Z"
   },
   {
    "duration": 241,
    "start_time": "2022-11-18T12:51:20.078Z"
   },
   {
    "duration": 149,
    "start_time": "2022-11-18T12:51:20.997Z"
   },
   {
    "duration": 7,
    "start_time": "2022-11-18T12:51:29.724Z"
   },
   {
    "duration": 2603,
    "start_time": "2022-11-18T12:51:31.001Z"
   },
   {
    "duration": 170,
    "start_time": "2022-11-18T12:51:37.023Z"
   },
   {
    "duration": 352,
    "start_time": "2022-11-18T12:51:38.068Z"
   },
   {
    "duration": 22,
    "start_time": "2022-11-18T12:51:39.508Z"
   },
   {
    "duration": 25,
    "start_time": "2022-11-18T12:51:39.765Z"
   },
   {
    "duration": 7,
    "start_time": "2022-11-18T13:02:12.897Z"
   },
   {
    "duration": 7,
    "start_time": "2022-11-18T13:02:20.170Z"
   },
   {
    "duration": 3,
    "start_time": "2022-11-18T13:02:37.491Z"
   },
   {
    "duration": 121,
    "start_time": "2022-11-18T13:02:38.647Z"
   },
   {
    "duration": 1804,
    "start_time": "2022-11-18T13:02:40.456Z"
   },
   {
    "duration": 11,
    "start_time": "2022-11-18T13:02:44.125Z"
   },
   {
    "duration": 14,
    "start_time": "2022-11-18T13:02:45.562Z"
   },
   {
    "duration": 6,
    "start_time": "2022-11-18T13:02:49.857Z"
   },
   {
    "duration": 7,
    "start_time": "2022-11-18T13:02:56.292Z"
   },
   {
    "duration": 11,
    "start_time": "2022-11-18T13:02:57.124Z"
   },
   {
    "duration": 21,
    "start_time": "2022-11-18T13:03:00.386Z"
   },
   {
    "duration": 18,
    "start_time": "2022-11-18T13:03:00.771Z"
   },
   {
    "duration": 48,
    "start_time": "2022-11-18T13:03:01.556Z"
   },
   {
    "duration": 8,
    "start_time": "2022-11-18T13:03:03.219Z"
   },
   {
    "duration": 13,
    "start_time": "2022-11-18T13:03:03.829Z"
   },
   {
    "duration": 43,
    "start_time": "2022-11-18T13:03:04.931Z"
   },
   {
    "duration": 8,
    "start_time": "2022-11-18T13:03:36.440Z"
   },
   {
    "duration": 9,
    "start_time": "2022-11-18T13:05:03.292Z"
   },
   {
    "duration": 15,
    "start_time": "2022-11-18T13:05:03.510Z"
   },
   {
    "duration": 7,
    "start_time": "2022-11-18T13:05:04.588Z"
   },
   {
    "duration": 10,
    "start_time": "2022-11-18T13:05:04.802Z"
   },
   {
    "duration": 3,
    "start_time": "2022-11-18T13:05:05.013Z"
   },
   {
    "duration": 19,
    "start_time": "2022-11-18T13:05:05.231Z"
   },
   {
    "duration": 29,
    "start_time": "2022-11-18T13:05:05.427Z"
   },
   {
    "duration": 51,
    "start_time": "2022-11-18T13:05:05.627Z"
   },
   {
    "duration": 15,
    "start_time": "2022-11-18T13:05:05.870Z"
   },
   {
    "duration": 7,
    "start_time": "2022-11-18T13:05:06.956Z"
   },
   {
    "duration": 223,
    "start_time": "2022-11-18T13:05:07.169Z"
   },
   {
    "duration": 4,
    "start_time": "2022-11-18T13:05:07.394Z"
   },
   {
    "duration": 173,
    "start_time": "2022-11-18T13:05:07.593Z"
   },
   {
    "duration": 2813,
    "start_time": "2022-11-18T13:05:08.282Z"
   },
   {
    "duration": 594,
    "start_time": "2022-11-18T13:05:11.097Z"
   },
   {
    "duration": 232,
    "start_time": "2022-11-18T13:05:14.290Z"
   },
   {
    "duration": 118,
    "start_time": "2022-11-18T13:05:15.148Z"
   },
   {
    "duration": 7,
    "start_time": "2022-11-18T13:05:19.573Z"
   },
   {
    "duration": 2475,
    "start_time": "2022-11-18T13:05:20.272Z"
   },
   {
    "duration": 11,
    "start_time": "2022-11-18T13:15:42.978Z"
   },
   {
    "duration": 2680,
    "start_time": "2022-11-18T13:15:44.329Z"
   },
   {
    "duration": 46,
    "start_time": "2022-11-18T13:16:27.459Z"
   },
   {
    "duration": 434,
    "start_time": "2022-11-18T13:16:42.109Z"
   },
   {
    "duration": 314,
    "start_time": "2022-11-18T13:16:42.545Z"
   },
   {
    "duration": 1855,
    "start_time": "2022-11-18T13:16:42.861Z"
   },
   {
    "duration": 9,
    "start_time": "2022-11-18T13:16:44.718Z"
   },
   {
    "duration": 20,
    "start_time": "2022-11-18T13:16:44.729Z"
   },
   {
    "duration": 5,
    "start_time": "2022-11-18T13:16:44.887Z"
   },
   {
    "duration": 10,
    "start_time": "2022-11-18T13:16:45.085Z"
   },
   {
    "duration": 23,
    "start_time": "2022-11-18T13:16:45.899Z"
   },
   {
    "duration": 19,
    "start_time": "2022-11-18T13:16:46.054Z"
   },
   {
    "duration": 61,
    "start_time": "2022-11-18T13:16:46.447Z"
   },
   {
    "duration": 7,
    "start_time": "2022-11-18T13:16:47.223Z"
   },
   {
    "duration": 15,
    "start_time": "2022-11-18T13:16:47.404Z"
   },
   {
    "duration": 7,
    "start_time": "2022-11-18T13:16:48.196Z"
   },
   {
    "duration": 15,
    "start_time": "2022-11-18T13:16:48.395Z"
   },
   {
    "duration": 7,
    "start_time": "2022-11-18T13:16:49.334Z"
   },
   {
    "duration": 9,
    "start_time": "2022-11-18T13:16:49.501Z"
   },
   {
    "duration": 3,
    "start_time": "2022-11-18T13:16:49.707Z"
   },
   {
    "duration": 21,
    "start_time": "2022-11-18T13:16:49.898Z"
   },
   {
    "duration": 32,
    "start_time": "2022-11-18T13:16:50.078Z"
   },
   {
    "duration": 51,
    "start_time": "2022-11-18T13:16:50.255Z"
   },
   {
    "duration": 19,
    "start_time": "2022-11-18T13:16:50.456Z"
   },
   {
    "duration": 8,
    "start_time": "2022-11-18T13:16:51.446Z"
   },
   {
    "duration": 45,
    "start_time": "2022-11-18T13:16:51.621Z"
   },
   {
    "duration": 3,
    "start_time": "2022-11-18T13:16:51.819Z"
   },
   {
    "duration": 199,
    "start_time": "2022-11-18T13:16:52.018Z"
   },
   {
    "duration": 2680,
    "start_time": "2022-11-18T13:16:52.660Z"
   },
   {
    "duration": 576,
    "start_time": "2022-11-18T13:16:55.342Z"
   },
   {
    "duration": 258,
    "start_time": "2022-11-18T13:16:56.469Z"
   },
   {
    "duration": 121,
    "start_time": "2022-11-18T13:16:56.729Z"
   },
   {
    "duration": 7,
    "start_time": "2022-11-18T13:16:57.070Z"
   },
   {
    "duration": 8,
    "start_time": "2022-11-18T13:17:21.157Z"
   },
   {
    "duration": 2543,
    "start_time": "2022-11-18T13:17:29.251Z"
   },
   {
    "duration": 175,
    "start_time": "2022-11-18T13:18:49.267Z"
   },
   {
    "duration": 364,
    "start_time": "2022-11-18T13:20:40.567Z"
   },
   {
    "duration": 10,
    "start_time": "2022-11-18T13:26:42.535Z"
   },
   {
    "duration": 2550,
    "start_time": "2022-11-18T13:26:43.714Z"
   },
   {
    "duration": 154,
    "start_time": "2022-11-18T13:26:53.738Z"
   },
   {
    "duration": 290,
    "start_time": "2022-11-18T13:27:00.890Z"
   },
   {
    "duration": 24,
    "start_time": "2022-11-18T13:28:15.449Z"
   },
   {
    "duration": 27,
    "start_time": "2022-11-18T13:28:16.695Z"
   },
   {
    "duration": 149,
    "start_time": "2022-11-18T13:33:09.799Z"
   },
   {
    "duration": 363,
    "start_time": "2022-11-18T13:33:15.413Z"
   },
   {
    "duration": 25,
    "start_time": "2022-11-18T13:36:19.914Z"
   },
   {
    "duration": 5,
    "start_time": "2022-11-18T13:36:23.432Z"
   },
   {
    "duration": 4,
    "start_time": "2022-11-18T13:36:24.166Z"
   },
   {
    "duration": 28,
    "start_time": "2022-11-18T13:41:23.784Z"
   },
   {
    "duration": 27,
    "start_time": "2022-11-18T13:43:07.183Z"
   },
   {
    "duration": 25,
    "start_time": "2022-11-18T13:43:24.233Z"
   },
   {
    "duration": 209,
    "start_time": "2022-11-18T13:46:33.758Z"
   },
   {
    "duration": 38,
    "start_time": "2022-11-18T13:48:56.660Z"
   },
   {
    "duration": 11,
    "start_time": "2022-11-18T13:49:30.372Z"
   },
   {
    "duration": 52,
    "start_time": "2022-11-18T13:49:57.768Z"
   },
   {
    "duration": 8,
    "start_time": "2022-11-18T13:50:02.573Z"
   },
   {
    "duration": 1076,
    "start_time": "2022-11-18T13:50:40.696Z"
   },
   {
    "duration": 7,
    "start_time": "2022-11-18T13:50:55.482Z"
   },
   {
    "duration": 16,
    "start_time": "2022-11-18T13:52:22.142Z"
   },
   {
    "duration": 170,
    "start_time": "2022-11-18T13:52:42.088Z"
   },
   {
    "duration": 12,
    "start_time": "2022-11-18T13:53:13.477Z"
   },
   {
    "duration": 2,
    "start_time": "2022-11-18T13:53:35.758Z"
   },
   {
    "duration": 4,
    "start_time": "2022-11-18T13:53:41.489Z"
   },
   {
    "duration": 4,
    "start_time": "2022-11-18T13:54:47.884Z"
   },
   {
    "duration": 5,
    "start_time": "2022-11-18T13:55:00.866Z"
   },
   {
    "duration": 59,
    "start_time": "2022-11-18T13:55:16.503Z"
   },
   {
    "duration": 4,
    "start_time": "2022-11-18T13:55:22.181Z"
   },
   {
    "duration": 53,
    "start_time": "2022-11-18T13:55:30.884Z"
   },
   {
    "duration": 43,
    "start_time": "2022-11-18T13:55:34.681Z"
   },
   {
    "duration": 6,
    "start_time": "2022-11-18T13:55:53.257Z"
   },
   {
    "duration": 8,
    "start_time": "2022-11-18T13:56:16.828Z"
   },
   {
    "duration": 4,
    "start_time": "2022-11-18T13:56:21.817Z"
   },
   {
    "duration": 5,
    "start_time": "2022-11-18T13:56:42.431Z"
   },
   {
    "duration": 4,
    "start_time": "2022-11-18T13:57:51.621Z"
   },
   {
    "duration": 4,
    "start_time": "2022-11-18T13:58:01.265Z"
   },
   {
    "duration": 4,
    "start_time": "2022-11-18T13:58:16.895Z"
   },
   {
    "duration": 5,
    "start_time": "2022-11-18T13:59:26.312Z"
   },
   {
    "duration": 5,
    "start_time": "2022-11-18T13:59:34.188Z"
   },
   {
    "duration": 13,
    "start_time": "2022-11-18T13:59:45.248Z"
   },
   {
    "duration": 9,
    "start_time": "2022-11-18T14:00:19.867Z"
   },
   {
    "duration": 12,
    "start_time": "2022-11-18T14:00:47.423Z"
   },
   {
    "duration": 8,
    "start_time": "2022-11-18T14:01:27.734Z"
   },
   {
    "duration": 9,
    "start_time": "2022-11-18T14:01:35.956Z"
   },
   {
    "duration": 106,
    "start_time": "2022-11-18T14:01:41.481Z"
   },
   {
    "duration": 112,
    "start_time": "2022-11-18T14:02:15.650Z"
   },
   {
    "duration": 107,
    "start_time": "2022-11-18T14:04:01.924Z"
   },
   {
    "duration": 152,
    "start_time": "2022-11-18T14:04:12.015Z"
   },
   {
    "duration": 146,
    "start_time": "2022-11-18T14:06:23.006Z"
   },
   {
    "duration": 585,
    "start_time": "2022-11-19T13:01:55.595Z"
   },
   {
    "duration": 534,
    "start_time": "2022-11-19T13:01:56.334Z"
   },
   {
    "duration": 1764,
    "start_time": "2022-11-19T13:01:58.102Z"
   },
   {
    "duration": 9,
    "start_time": "2022-11-19T13:01:59.868Z"
   },
   {
    "duration": 15,
    "start_time": "2022-11-19T13:01:59.878Z"
   },
   {
    "duration": 5,
    "start_time": "2022-11-19T13:02:00.447Z"
   },
   {
    "duration": 10,
    "start_time": "2022-11-19T13:02:00.706Z"
   },
   {
    "duration": 22,
    "start_time": "2022-11-19T13:02:01.635Z"
   },
   {
    "duration": 17,
    "start_time": "2022-11-19T13:02:01.895Z"
   },
   {
    "duration": 52,
    "start_time": "2022-11-19T13:02:02.348Z"
   },
   {
    "duration": 7,
    "start_time": "2022-11-19T13:02:07.330Z"
   },
   {
    "duration": 19,
    "start_time": "2022-11-19T13:02:07.755Z"
   },
   {
    "duration": 8,
    "start_time": "2022-11-19T13:02:09.269Z"
   },
   {
    "duration": 14,
    "start_time": "2022-11-19T13:02:09.625Z"
   },
   {
    "duration": 7,
    "start_time": "2022-11-19T13:02:11.324Z"
   },
   {
    "duration": 9,
    "start_time": "2022-11-19T13:02:11.690Z"
   },
   {
    "duration": 3,
    "start_time": "2022-11-19T13:02:12.048Z"
   },
   {
    "duration": 17,
    "start_time": "2022-11-19T13:02:12.393Z"
   },
   {
    "duration": 27,
    "start_time": "2022-11-19T13:02:12.745Z"
   },
   {
    "duration": 50,
    "start_time": "2022-11-19T13:02:13.099Z"
   },
   {
    "duration": 15,
    "start_time": "2022-11-19T13:02:13.495Z"
   },
   {
    "duration": 8,
    "start_time": "2022-11-19T13:02:16.687Z"
   },
   {
    "duration": 40,
    "start_time": "2022-11-19T13:02:17.345Z"
   },
   {
    "duration": 3,
    "start_time": "2022-11-19T13:02:17.996Z"
   },
   {
    "duration": 161,
    "start_time": "2022-11-19T13:02:18.399Z"
   },
   {
    "duration": 2474,
    "start_time": "2022-11-19T13:02:20.394Z"
   },
   {
    "duration": 546,
    "start_time": "2022-11-19T13:02:22.870Z"
   },
   {
    "duration": 215,
    "start_time": "2022-11-19T13:02:27.124Z"
   },
   {
    "duration": 215,
    "start_time": "2022-11-19T13:02:28.252Z"
   },
   {
    "duration": 7,
    "start_time": "2022-11-19T13:02:33.096Z"
   },
   {
    "duration": 9,
    "start_time": "2022-11-19T13:02:38.705Z"
   },
   {
    "duration": 1619,
    "start_time": "2022-11-19T13:03:14.337Z"
   },
   {
    "duration": 1571,
    "start_time": "2022-11-19T13:03:26.698Z"
   },
   {
    "duration": 23,
    "start_time": "2022-11-19T13:07:35.824Z"
   },
   {
    "duration": 19,
    "start_time": "2022-11-19T13:07:57.712Z"
   },
   {
    "duration": 14,
    "start_time": "2022-11-19T13:14:22.789Z"
   },
   {
    "duration": 15,
    "start_time": "2022-11-19T13:14:30.262Z"
   },
   {
    "duration": 14,
    "start_time": "2022-11-19T13:14:39.317Z"
   },
   {
    "duration": 15,
    "start_time": "2022-11-19T13:14:45.757Z"
   },
   {
    "duration": 18,
    "start_time": "2022-11-19T13:14:56.511Z"
   },
   {
    "duration": 22,
    "start_time": "2022-11-19T13:16:55.990Z"
   },
   {
    "duration": 22,
    "start_time": "2022-11-19T13:19:14.333Z"
   },
   {
    "duration": 67,
    "start_time": "2022-11-19T13:19:31.356Z"
   },
   {
    "duration": 67,
    "start_time": "2022-11-19T13:19:48.348Z"
   },
   {
    "duration": 15,
    "start_time": "2022-11-19T13:27:10.382Z"
   },
   {
    "duration": 49,
    "start_time": "2022-11-19T13:27:18.513Z"
   },
   {
    "duration": 778,
    "start_time": "2022-11-19T13:27:54.373Z"
   },
   {
    "duration": 32,
    "start_time": "2022-11-19T13:28:18.106Z"
   },
   {
    "duration": 48,
    "start_time": "2022-11-19T13:31:13.124Z"
   },
   {
    "duration": 18,
    "start_time": "2022-11-19T21:31:24.035Z"
   },
   {
    "duration": 18,
    "start_time": "2022-11-19T21:31:27.331Z"
   },
   {
    "duration": 33,
    "start_time": "2022-11-19T21:31:37.991Z"
   },
   {
    "duration": 712,
    "start_time": "2022-11-19T21:32:25.782Z"
   },
   {
    "duration": 8,
    "start_time": "2022-11-19T21:48:50.539Z"
   },
   {
    "duration": 16,
    "start_time": "2022-11-19T21:50:39.101Z"
   },
   {
    "duration": 3,
    "start_time": "2022-11-19T21:51:02.280Z"
   },
   {
    "duration": 124,
    "start_time": "2022-11-19T21:51:02.954Z"
   },
   {
    "duration": 1675,
    "start_time": "2022-11-19T21:51:04.212Z"
   },
   {
    "duration": 10,
    "start_time": "2022-11-19T21:51:05.896Z"
   },
   {
    "duration": 14,
    "start_time": "2022-11-19T21:51:05.907Z"
   },
   {
    "duration": 5,
    "start_time": "2022-11-19T21:51:06.457Z"
   },
   {
    "duration": 10,
    "start_time": "2022-11-19T21:51:06.709Z"
   },
   {
    "duration": 21,
    "start_time": "2022-11-19T21:51:07.625Z"
   },
   {
    "duration": 19,
    "start_time": "2022-11-19T21:51:07.837Z"
   },
   {
    "duration": 47,
    "start_time": "2022-11-19T21:51:08.321Z"
   },
   {
    "duration": 7,
    "start_time": "2022-11-19T21:51:10.568Z"
   },
   {
    "duration": 14,
    "start_time": "2022-11-19T21:51:10.807Z"
   },
   {
    "duration": 8,
    "start_time": "2022-11-19T21:51:11.783Z"
   },
   {
    "duration": 14,
    "start_time": "2022-11-19T21:51:12.007Z"
   },
   {
    "duration": 7,
    "start_time": "2022-11-19T21:51:13.233Z"
   },
   {
    "duration": 10,
    "start_time": "2022-11-19T21:51:13.454Z"
   },
   {
    "duration": 3,
    "start_time": "2022-11-19T21:51:13.698Z"
   },
   {
    "duration": 17,
    "start_time": "2022-11-19T21:51:13.956Z"
   },
   {
    "duration": 28,
    "start_time": "2022-11-19T21:51:14.192Z"
   },
   {
    "duration": 50,
    "start_time": "2022-11-19T21:51:14.447Z"
   },
   {
    "duration": 19,
    "start_time": "2022-11-19T21:51:14.671Z"
   },
   {
    "duration": 7,
    "start_time": "2022-11-19T21:51:17.115Z"
   },
   {
    "duration": 131,
    "start_time": "2022-11-19T21:51:17.361Z"
   },
   {
    "duration": 3,
    "start_time": "2022-11-19T21:51:17.687Z"
   },
   {
    "duration": 165,
    "start_time": "2022-11-19T21:51:17.946Z"
   },
   {
    "duration": 2597,
    "start_time": "2022-11-19T21:51:19.027Z"
   },
   {
    "duration": 561,
    "start_time": "2022-11-19T21:51:21.625Z"
   },
   {
    "duration": 221,
    "start_time": "2022-11-19T21:51:23.105Z"
   },
   {
    "duration": 112,
    "start_time": "2022-11-19T21:51:23.520Z"
   },
   {
    "duration": 7,
    "start_time": "2022-11-19T21:51:25.988Z"
   },
   {
    "duration": 9,
    "start_time": "2022-11-19T21:51:26.866Z"
   },
   {
    "duration": 1651,
    "start_time": "2022-11-19T21:51:27.319Z"
   },
   {
    "duration": 14,
    "start_time": "2022-11-19T21:51:34.770Z"
   },
   {
    "duration": 15,
    "start_time": "2022-11-19T21:53:00.183Z"
   },
   {
    "duration": 136,
    "start_time": "2022-11-19T21:53:13.184Z"
   },
   {
    "duration": 144,
    "start_time": "2022-11-19T21:53:49.102Z"
   },
   {
    "duration": 137,
    "start_time": "2022-11-19T21:55:17.646Z"
   },
   {
    "duration": 142,
    "start_time": "2022-11-19T21:55:50.257Z"
   },
   {
    "duration": 149,
    "start_time": "2022-11-19T21:56:03.903Z"
   },
   {
    "duration": 159,
    "start_time": "2022-11-19T21:58:02.366Z"
   },
   {
    "duration": 137,
    "start_time": "2022-11-19T21:58:34.309Z"
   },
   {
    "duration": 682,
    "start_time": "2022-11-20T10:16:43.503Z"
   },
   {
    "duration": 413,
    "start_time": "2022-11-20T10:16:44.187Z"
   },
   {
    "duration": 1999,
    "start_time": "2022-11-20T10:16:44.602Z"
   },
   {
    "duration": 10,
    "start_time": "2022-11-20T10:16:49.487Z"
   },
   {
    "duration": 14,
    "start_time": "2022-11-20T10:16:49.954Z"
   },
   {
    "duration": 5,
    "start_time": "2022-11-20T10:16:50.921Z"
   },
   {
    "duration": 16,
    "start_time": "2022-11-20T10:16:51.175Z"
   },
   {
    "duration": 26,
    "start_time": "2022-11-20T10:16:52.085Z"
   },
   {
    "duration": 19,
    "start_time": "2022-11-20T10:16:52.319Z"
   },
   {
    "duration": 66,
    "start_time": "2022-11-20T10:16:52.782Z"
   },
   {
    "duration": 10,
    "start_time": "2022-11-20T10:16:54.033Z"
   },
   {
    "duration": 17,
    "start_time": "2022-11-20T10:16:54.252Z"
   },
   {
    "duration": 8,
    "start_time": "2022-11-20T10:16:55.275Z"
   },
   {
    "duration": 14,
    "start_time": "2022-11-20T10:16:55.511Z"
   },
   {
    "duration": 9,
    "start_time": "2022-11-20T10:16:56.754Z"
   },
   {
    "duration": 12,
    "start_time": "2022-11-20T10:16:56.953Z"
   },
   {
    "duration": 4,
    "start_time": "2022-11-20T10:16:57.221Z"
   },
   {
    "duration": 21,
    "start_time": "2022-11-20T10:16:57.495Z"
   },
   {
    "duration": 34,
    "start_time": "2022-11-20T10:16:57.772Z"
   },
   {
    "duration": 56,
    "start_time": "2022-11-20T10:16:58.039Z"
   },
   {
    "duration": 18,
    "start_time": "2022-11-20T10:16:58.321Z"
   },
   {
    "duration": 8,
    "start_time": "2022-11-20T10:16:59.972Z"
   },
   {
    "duration": 49,
    "start_time": "2022-11-20T10:17:00.275Z"
   },
   {
    "duration": 4,
    "start_time": "2022-11-20T10:17:00.564Z"
   },
   {
    "duration": 188,
    "start_time": "2022-11-20T10:17:01.225Z"
   },
   {
    "duration": 3035,
    "start_time": "2022-11-20T10:17:04.633Z"
   },
   {
    "duration": 643,
    "start_time": "2022-11-20T10:17:07.671Z"
   },
   {
    "duration": 243,
    "start_time": "2022-11-20T10:17:10.730Z"
   },
   {
    "duration": 290,
    "start_time": "2022-11-20T10:17:11.922Z"
   },
   {
    "duration": 9,
    "start_time": "2022-11-20T10:17:16.672Z"
   },
   {
    "duration": 9,
    "start_time": "2022-11-20T10:17:18.904Z"
   },
   {
    "duration": 1751,
    "start_time": "2022-11-20T10:17:22.105Z"
   },
   {
    "duration": 77,
    "start_time": "2022-11-20T10:21:55.336Z"
   },
   {
    "duration": 161,
    "start_time": "2022-11-20T10:22:02.947Z"
   },
   {
    "duration": 152,
    "start_time": "2022-11-20T10:22:17.520Z"
   },
   {
    "duration": 165,
    "start_time": "2022-11-20T10:24:22.387Z"
   },
   {
    "duration": 184,
    "start_time": "2022-11-20T10:24:42.834Z"
   },
   {
    "duration": 271,
    "start_time": "2022-11-20T10:24:52.992Z"
   },
   {
    "duration": 136,
    "start_time": "2022-11-20T10:26:10.526Z"
   },
   {
    "duration": 149,
    "start_time": "2022-11-20T10:27:14.498Z"
   },
   {
    "duration": 395,
    "start_time": "2022-11-20T10:27:59.750Z"
   },
   {
    "duration": 17,
    "start_time": "2022-11-20T10:28:42.199Z"
   },
   {
    "duration": 169,
    "start_time": "2022-11-20T10:29:22.978Z"
   },
   {
    "duration": 164,
    "start_time": "2022-11-20T10:30:19.417Z"
   },
   {
    "duration": 154,
    "start_time": "2022-11-20T10:31:13.594Z"
   },
   {
    "duration": 211,
    "start_time": "2022-11-20T10:34:16.022Z"
   },
   {
    "duration": 34,
    "start_time": "2022-11-20T10:50:02.178Z"
   },
   {
    "duration": 4,
    "start_time": "2022-11-20T10:50:03.417Z"
   },
   {
    "duration": 6,
    "start_time": "2022-11-20T10:50:04.651Z"
   },
   {
    "duration": 250,
    "start_time": "2022-11-20T10:50:05.229Z"
   },
   {
    "duration": 34,
    "start_time": "2022-11-20T10:50:39.266Z"
   },
   {
    "duration": 158,
    "start_time": "2022-11-20T10:51:55.853Z"
   },
   {
    "duration": 423,
    "start_time": "2022-11-28T16:29:38.569Z"
   },
   {
    "duration": 359,
    "start_time": "2022-11-28T16:29:39.715Z"
   },
   {
    "duration": 2004,
    "start_time": "2022-11-28T16:29:40.235Z"
   },
   {
    "duration": 9,
    "start_time": "2022-11-28T16:29:42.241Z"
   },
   {
    "duration": 23,
    "start_time": "2022-11-28T16:29:42.251Z"
   },
   {
    "duration": 7,
    "start_time": "2022-11-28T16:29:42.386Z"
   },
   {
    "duration": 13,
    "start_time": "2022-11-28T16:29:42.798Z"
   },
   {
    "duration": 24,
    "start_time": "2022-11-28T16:29:43.870Z"
   },
   {
    "duration": 23,
    "start_time": "2022-11-28T16:29:44.609Z"
   },
   {
    "duration": 51,
    "start_time": "2022-11-28T16:29:49.978Z"
   },
   {
    "duration": 9,
    "start_time": "2022-11-28T16:29:53.995Z"
   },
   {
    "duration": 15,
    "start_time": "2022-11-28T16:29:54.380Z"
   },
   {
    "duration": 9,
    "start_time": "2022-11-28T16:29:56.724Z"
   },
   {
    "duration": 19,
    "start_time": "2022-11-28T16:29:57.235Z"
   },
   {
    "duration": 10,
    "start_time": "2022-11-28T16:30:00.195Z"
   },
   {
    "duration": 15,
    "start_time": "2022-11-28T16:30:00.724Z"
   },
   {
    "duration": 5,
    "start_time": "2022-11-28T16:30:01.326Z"
   },
   {
    "duration": 25,
    "start_time": "2022-11-28T16:30:01.855Z"
   },
   {
    "duration": 40,
    "start_time": "2022-11-28T16:30:02.355Z"
   },
   {
    "duration": 61,
    "start_time": "2022-11-28T16:30:02.828Z"
   },
   {
    "duration": 22,
    "start_time": "2022-11-28T16:30:03.263Z"
   },
   {
    "duration": 7,
    "start_time": "2022-11-28T16:30:06.466Z"
   },
   {
    "duration": 42,
    "start_time": "2022-11-28T16:30:07.261Z"
   },
   {
    "duration": 42,
    "start_time": "2022-11-28T16:30:18.710Z"
   },
   {
    "duration": 18,
    "start_time": "2022-11-28T16:30:37.183Z"
   }
  ],
  "kernelspec": {
   "display_name": "Python 3 (ipykernel)",
   "language": "python",
   "name": "python3"
  },
  "language_info": {
   "codemirror_mode": {
    "name": "ipython",
    "version": 3
   },
   "file_extension": ".py",
   "mimetype": "text/x-python",
   "name": "python",
   "nbconvert_exporter": "python",
   "pygments_lexer": "ipython3",
   "version": "3.9.13"
  },
  "toc": {
   "base_numbering": 1,
   "nav_menu": {},
   "number_sections": true,
   "sideBar": true,
   "skip_h1_title": true,
   "title_cell": "Table of Contents",
   "title_sidebar": "Contents",
   "toc_cell": false,
   "toc_position": {},
   "toc_section_display": true,
   "toc_window_display": true
  }
 },
 "nbformat": 4,
 "nbformat_minor": 2
}
