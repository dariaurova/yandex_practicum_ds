{
 "cells": [
  {
   "cell_type": "markdown",
   "metadata": {
    "toc": true
   },
   "source": [
    "<h1>Содержание<span class=\"tocSkip\"></span></h1>\n",
    "<div class=\"toc\"><ul class=\"toc-item\"><li><span><a href=\"#Подготовка\" data-toc-modified-id=\"Подготовка-1\"><span class=\"toc-item-num\">1&nbsp;&nbsp;</span>Подготовка</a></span></li><li><span><a href=\"#Анализ\" data-toc-modified-id=\"Анализ-2\"><span class=\"toc-item-num\">2&nbsp;&nbsp;</span>Анализ</a></span><ul class=\"toc-item\"><li><span><a href=\"#Скользящее-среднее\" data-toc-modified-id=\"Скользящее-среднее-2.1\"><span class=\"toc-item-num\">2.1&nbsp;&nbsp;</span>Скользящее среднее</a></span></li><li><span><a href=\"#Тренд-и-сезонность\" data-toc-modified-id=\"Тренд-и-сезонность-2.2\"><span class=\"toc-item-num\">2.2&nbsp;&nbsp;</span>Тренд и сезонность</a></span></li><li><span><a href=\"#Проверим-на-стационарность\" data-toc-modified-id=\"Проверим-на-стационарность-2.3\"><span class=\"toc-item-num\">2.3&nbsp;&nbsp;</span>Проверим на стационарность</a></span></li><li><span><a href=\"#Разности-временного-ряда\" data-toc-modified-id=\"Разности-временного-ряда-2.4\"><span class=\"toc-item-num\">2.4&nbsp;&nbsp;</span>Разности временного ряда</a></span></li><li><span><a href=\"#Итог\" data-toc-modified-id=\"Итог-2.5\"><span class=\"toc-item-num\">2.5&nbsp;&nbsp;</span>Итог</a></span></li></ul></li><li><span><a href=\"#Обучение\" data-toc-modified-id=\"Обучение-3\"><span class=\"toc-item-num\">3&nbsp;&nbsp;</span>Обучение</a></span><ul class=\"toc-item\"><li><span><a href=\"#Предсказание-константой\" data-toc-modified-id=\"Предсказание-константой-3.1\"><span class=\"toc-item-num\">3.1&nbsp;&nbsp;</span>Предсказание константой</a></span></li><li><span><a href=\"#LinearRegression\" data-toc-modified-id=\"LinearRegression-3.2\"><span class=\"toc-item-num\">3.2&nbsp;&nbsp;</span>LinearRegression</a></span></li><li><span><a href=\"#ElasticNet\" data-toc-modified-id=\"ElasticNet-3.3\"><span class=\"toc-item-num\">3.3&nbsp;&nbsp;</span>ElasticNet</a></span></li><li><span><a href=\"#LightGBM\" data-toc-modified-id=\"LightGBM-3.4\"><span class=\"toc-item-num\">3.4&nbsp;&nbsp;</span>LightGBM</a></span></li><li><span><a href=\"#ARIMA\" data-toc-modified-id=\"ARIMA-3.5\"><span class=\"toc-item-num\">3.5&nbsp;&nbsp;</span>ARIMA</a></span><ul class=\"toc-item\"><li><span><a href=\"#Параметры-d,-p,-q\" data-toc-modified-id=\"Параметры-d,-p,-q-3.5.1\"><span class=\"toc-item-num\">3.5.1&nbsp;&nbsp;</span>Параметры d, p, q</a></span></li><li><span><a href=\"#Поиск-наилучших-параметров\" data-toc-modified-id=\"Поиск-наилучших-параметров-3.5.2\"><span class=\"toc-item-num\">3.5.2&nbsp;&nbsp;</span>Поиск наилучших параметров</a></span></li><li><span><a href=\"#Предсказание\" data-toc-modified-id=\"Предсказание-3.5.3\"><span class=\"toc-item-num\">3.5.3&nbsp;&nbsp;</span>Предсказание</a></span></li></ul></li><li><span><a href=\"#Итог\" data-toc-modified-id=\"Итог-3.6\"><span class=\"toc-item-num\">3.6&nbsp;&nbsp;</span>Итог</a></span></li></ul></li><li><span><a href=\"#Тестирование\" data-toc-modified-id=\"Тестирование-4\"><span class=\"toc-item-num\">4&nbsp;&nbsp;</span>Тестирование</a></span></li><li><span><a href=\"#Вывод\" data-toc-modified-id=\"Вывод-5\"><span class=\"toc-item-num\">5&nbsp;&nbsp;</span>Вывод</a></span></li><li><span><a href=\"#Чек-лист-проверки\" data-toc-modified-id=\"Чек-лист-проверки-6\"><span class=\"toc-item-num\">6&nbsp;&nbsp;</span>Чек-лист проверки</a></span></li></ul></div>"
   ]
  },
  {
   "cell_type": "markdown",
   "metadata": {},
   "source": [
    "#  Прогнозирование заказов такси\n",
    "# Задачи\n",
    "Разработка системы предсказания объема заказа.\n",
    "# Описание\n",
    "Компания такси собрала исторические данные о заказах такси в аэропортах. Чтобы привлекать больше водителей в период пиковой нагрузки, нужно спрогнозировать количество заказов такси на следующий час. Строится модель для такого предсказания."
   ]
  },
  {
   "cell_type": "markdown",
   "metadata": {},
   "source": [
    "Значение метрики *RMSE* на тестовой выборке должно быть не больше 48."
   ]
  },
  {
   "cell_type": "markdown",
   "metadata": {},
   "source": [
    "## Подготовка"
   ]
  },
  {
   "cell_type": "code",
   "execution_count": 30,
   "metadata": {},
   "outputs": [],
   "source": [
    "import pandas as pd\n",
    "import numpy as np\n",
    "from statsmodels.tsa.seasonal import seasonal_decompose\n",
    "import matplotlib.pyplot as plt\n",
    "from statsmodels.tsa.seasonal import seasonal_decompose\n",
    "from sklearn.model_selection import train_test_split\n",
    "from sklearn.linear_model import LinearRegression\n",
    "from sklearn.metrics import mean_squared_error\n",
    "from sklearn.model_selection import RandomizedSearchCV\n",
    "from sklearn.linear_model import SGDRegressor\n",
    "from sklearn.linear_model import ElasticNet\n",
    "from sklearn.model_selection import GridSearchCV\n",
    "from sklearn.model_selection import cross_val_score, TimeSeriesSplit\n",
    "import lightgbm as lgb\n",
    "import statsmodels\n",
    "from statsmodels.tsa.stattools import adfuller"
   ]
  },
  {
   "cell_type": "code",
   "execution_count": 2,
   "metadata": {},
   "outputs": [],
   "source": [
    "data = pd.read_csv('/datasets/taxi.csv', index_col=[0], parse_dates=[0])"
   ]
  },
  {
   "cell_type": "code",
   "execution_count": 3,
   "metadata": {},
   "outputs": [
    {
     "data": {
      "text/plain": [
       "num_orders    0\n",
       "dtype: int64"
      ]
     },
     "execution_count": 3,
     "metadata": {},
     "output_type": "execute_result"
    }
   ],
   "source": [
    "data.isna().sum()"
   ]
  },
  {
   "cell_type": "code",
   "execution_count": 4,
   "metadata": {},
   "outputs": [
    {
     "name": "stdout",
     "output_type": "stream",
     "text": [
      "<class 'pandas.core.frame.DataFrame'>\n",
      "DatetimeIndex: 26496 entries, 2018-03-01 00:00:00 to 2018-08-31 23:50:00\n",
      "Data columns (total 1 columns):\n",
      " #   Column      Non-Null Count  Dtype\n",
      "---  ------      --------------  -----\n",
      " 0   num_orders  26496 non-null  int64\n",
      "dtypes: int64(1)\n",
      "memory usage: 414.0 KB\n"
     ]
    }
   ],
   "source": [
    "data.info()"
   ]
  },
  {
   "cell_type": "code",
   "execution_count": 5,
   "metadata": {},
   "outputs": [],
   "source": [
    "data.sort_index(inplace=True)"
   ]
  },
  {
   "cell_type": "code",
   "execution_count": 6,
   "metadata": {},
   "outputs": [
    {
     "data": {
      "text/html": [
       "<div>\n",
       "<style scoped>\n",
       "    .dataframe tbody tr th:only-of-type {\n",
       "        vertical-align: middle;\n",
       "    }\n",
       "\n",
       "    .dataframe tbody tr th {\n",
       "        vertical-align: top;\n",
       "    }\n",
       "\n",
       "    .dataframe thead th {\n",
       "        text-align: right;\n",
       "    }\n",
       "</style>\n",
       "<table border=\"1\" class=\"dataframe\">\n",
       "  <thead>\n",
       "    <tr style=\"text-align: right;\">\n",
       "      <th></th>\n",
       "      <th>num_orders</th>\n",
       "    </tr>\n",
       "    <tr>\n",
       "      <th>datetime</th>\n",
       "      <th></th>\n",
       "    </tr>\n",
       "  </thead>\n",
       "  <tbody>\n",
       "    <tr>\n",
       "      <th>2018-03-01 00:00:00</th>\n",
       "      <td>9</td>\n",
       "    </tr>\n",
       "    <tr>\n",
       "      <th>2018-03-01 00:10:00</th>\n",
       "      <td>14</td>\n",
       "    </tr>\n",
       "    <tr>\n",
       "      <th>2018-03-01 00:20:00</th>\n",
       "      <td>28</td>\n",
       "    </tr>\n",
       "    <tr>\n",
       "      <th>2018-03-01 00:30:00</th>\n",
       "      <td>20</td>\n",
       "    </tr>\n",
       "    <tr>\n",
       "      <th>2018-03-01 00:40:00</th>\n",
       "      <td>32</td>\n",
       "    </tr>\n",
       "  </tbody>\n",
       "</table>\n",
       "</div>"
      ],
      "text/plain": [
       "                     num_orders\n",
       "datetime                       \n",
       "2018-03-01 00:00:00           9\n",
       "2018-03-01 00:10:00          14\n",
       "2018-03-01 00:20:00          28\n",
       "2018-03-01 00:30:00          20\n",
       "2018-03-01 00:40:00          32"
      ]
     },
     "execution_count": 6,
     "metadata": {},
     "output_type": "execute_result"
    }
   ],
   "source": [
    "data.head(5)"
   ]
  },
  {
   "cell_type": "markdown",
   "metadata": {},
   "source": [
    "## Анализ"
   ]
  },
  {
   "cell_type": "code",
   "execution_count": 7,
   "metadata": {},
   "outputs": [],
   "source": [
    "data = data.resample('1h').sum()"
   ]
  },
  {
   "cell_type": "code",
   "execution_count": 10,
   "metadata": {},
   "outputs": [
    {
     "data": {
      "text/plain": [
       "True"
      ]
     },
     "execution_count": 10,
     "metadata": {},
     "output_type": "execute_result"
    }
   ],
   "source": [
    "data.index.is_monotonic"
   ]
  },
  {
   "cell_type": "markdown",
   "metadata": {},
   "source": [
    "<div class=\"alert alert-success\">\n",
    "<b>✔️ Комментарий ревьюера:</b>  \n",
    "\n",
    "Хорошее начало проекта!👍\n",
    "       \n",
    "- Молодец, что провела сглаживание данных по одному часу (ресемплирование)  \n",
    "- Здорово, что провела сортировку индексов. Если сомневаешься, то можно до сортировки проверить в хронологическом ли порядке расположены значения индекса. Использовать: `index.is_monotonic`\n",
    "    \n",
    "</div>"
   ]
  },
  {
   "cell_type": "markdown",
   "metadata": {},
   "source": [
    "### Скользящее среднее"
   ]
  },
  {
   "cell_type": "code",
   "execution_count": 11,
   "metadata": {},
   "outputs": [
    {
     "data": {
      "text/plain": [
       "Text(0.5, 1.0, 'Rolling mean')"
      ]
     },
     "execution_count": 11,
     "metadata": {},
     "output_type": "execute_result"
    },
    {
     "data": {
      "image/png": "[encoded data removed]",
      "text/plain": [
       "<Figure size 720x504 with 1 Axes>"
      ]
     },
     "metadata": {
      "needs_background": "light"
     },
     "output_type": "display_data"
    }
   ],
   "source": [
    "data['rolling_mean'] = data.rolling(10).mean()\n",
    "data.plot(figsize=(10,7))\n",
    "plt.title('Rolling mean')"
   ]
  },
  {
   "cell_type": "markdown",
   "metadata": {},
   "source": [
    "### Тренд и сезонность"
   ]
  },
  {
   "cell_type": "code",
   "execution_count": 13,
   "metadata": {},
   "outputs": [
    {
     "data": {
      "image/png": "[encoded data removed]",
      "text/plain": [
       "<Figure size 432x576 with 2 Axes>"
      ]
     },
     "metadata": {
      "needs_background": "light"
     },
     "output_type": "display_data"
    }
   ],
   "source": [
    "\n",
    "decomposed = seasonal_decompose(data['num_orders'])\n",
    "\n",
    "plt.figure(figsize=(6, 8))\n",
    "plt.subplot(311)\n",
    "decomposed.trend.plot(ax=plt.gca())\n",
    "plt.title('Trend')\n",
    "plt.subplot(312)\n",
    "decomposed.resid.plot(ax=plt.gca())\n",
    "plt.title('Residuals')\n",
    "plt.tight_layout()"
   ]
  },
  {
   "cell_type": "code",
   "execution_count": 21,
   "metadata": {},
   "outputs": [
    {
     "data": {
      "text/plain": [
       "Text(0.5, 1.0, 'Seasonality')"
      ]
     },
     "execution_count": 21,
     "metadata": {},
     "output_type": "execute_result"
    },
    {
     "data": {
      "image/png": "[encoded data removed]",
      "text/plain": [
       "<Figure size 432x288 with 1 Axes>"
      ]
     },
     "metadata": {
      "needs_background": "light"
     },
     "output_type": "display_data"
    }
   ],
   "source": [
    "decomposed.seasonal['2018-03-01':'2018-03-03'].plot()\n",
    "plt.title('Seasonality')"
   ]
  },
  {
   "cell_type": "markdown",
   "metadata": {},
   "source": [
    "### Проверим на стационарность"
   ]
  },
  {
   "cell_type": "code",
   "execution_count": 17,
   "metadata": {},
   "outputs": [
    {
     "name": "stdout",
     "output_type": "stream",
     "text": [
      "d = 0. Stationarity test p_value: 4.0549397892403547e-17\n",
      "Ряд стационарный\n"
     ]
    }
   ],
   "source": [
    "d = 0\n",
    "ts = data['num_orders']\n",
    "\n",
    "# function \"adfuller()\" returns a tuple containing these values. The most interesting for us is the \"p_value\"\n",
    "test_statistic, p_value, usedlag, nobs, critical_values, icbest = adfuller(ts, regression='ctt')\n",
    "print(\"d = {}. Stationarity test p_value: {}\".format(d, p_value))\n",
    "if p_value < 0.05:\n",
    "    print('Ряд стационарный')\n",
    "else:\n",
    "    print('Ряд не является стационарным, переходим к следующему значению d')"
   ]
  },
  {
   "cell_type": "markdown",
   "metadata": {},
   "source": [
    "### Разности временного ряда"
   ]
  },
  {
   "cell_type": "code",
   "execution_count": 18,
   "metadata": {},
   "outputs": [
    {
     "data": {
      "text/plain": [
       "Text(0.5, 1.0, 'time series difference')"
      ]
     },
     "execution_count": 18,
     "metadata": {},
     "output_type": "execute_result"
    },
    {
     "data": {
      "image/png": "[encoded data removed]",
      "text/plain": [
       "<Figure size 432x288 with 1 Axes>"
      ]
     },
     "metadata": {
      "needs_background": "light"
     },
     "output_type": "display_data"
    }
   ],
   "source": [
    "data['shift'] = data['num_orders'] - data['num_orders'].shift()\n",
    "data['mean'] = data['shift'].rolling(15).mean()\n",
    "data['std'] = data['shift'].rolling(15).std()\n",
    "data['shift'].plot()\n",
    "data['mean'].plot()\n",
    "data['std'].plot()\n",
    "plt.legend()\n",
    "plt.title('time series difference')"
   ]
  },
  {
   "cell_type": "markdown",
   "metadata": {},
   "source": [
    "### Итог\n",
    "Из анализа графиков можем сказать, что есть небольшой тренд на увеличение количества заказов с марта по сентябрь. Также можем заметить определенную периодичность количества заказов такси в течение суток. То есть есть пиковые часы загрузки утром, в обеденное время и ближе к 12 часам ночи. Также  с помощью теста  Дики-Фуллера определили, наш временной ряд стационарный в широком смысле, хотя и на графике тренда можем заметить увеличение продаж."
   ]
  },
  {
   "cell_type": "markdown",
   "metadata": {},
   "source": [
    "## Обучение"
   ]
  },
  {
   "cell_type": "code",
   "execution_count": 22,
   "metadata": {},
   "outputs": [
    {
     "data": {
      "text/html": [
       "<div>\n",
       "<style scoped>\n",
       "    .dataframe tbody tr th:only-of-type {\n",
       "        vertical-align: middle;\n",
       "    }\n",
       "\n",
       "    .dataframe tbody tr th {\n",
       "        vertical-align: top;\n",
       "    }\n",
       "\n",
       "    .dataframe thead th {\n",
       "        text-align: right;\n",
       "    }\n",
       "</style>\n",
       "<table border=\"1\" class=\"dataframe\">\n",
       "  <thead>\n",
       "    <tr style=\"text-align: right;\">\n",
       "      <th></th>\n",
       "      <th>num_orders</th>\n",
       "      <th>rolling_mean</th>\n",
       "      <th>shift</th>\n",
       "      <th>mean</th>\n",
       "      <th>std</th>\n",
       "      <th>hour</th>\n",
       "      <th>dayofweek</th>\n",
       "      <th>lag_1</th>\n",
       "      <th>lag_2</th>\n",
       "      <th>lag_3</th>\n",
       "      <th>...</th>\n",
       "      <th>lag_15</th>\n",
       "      <th>lag_16</th>\n",
       "      <th>lag_17</th>\n",
       "      <th>lag_18</th>\n",
       "      <th>lag_19</th>\n",
       "      <th>lag_20</th>\n",
       "      <th>lag_21</th>\n",
       "      <th>lag_22</th>\n",
       "      <th>lag_23</th>\n",
       "      <th>lag_24</th>\n",
       "    </tr>\n",
       "    <tr>\n",
       "      <th>datetime</th>\n",
       "      <th></th>\n",
       "      <th></th>\n",
       "      <th></th>\n",
       "      <th></th>\n",
       "      <th></th>\n",
       "      <th></th>\n",
       "      <th></th>\n",
       "      <th></th>\n",
       "      <th></th>\n",
       "      <th></th>\n",
       "      <th></th>\n",
       "      <th></th>\n",
       "      <th></th>\n",
       "      <th></th>\n",
       "      <th></th>\n",
       "      <th></th>\n",
       "      <th></th>\n",
       "      <th></th>\n",
       "      <th></th>\n",
       "      <th></th>\n",
       "      <th></th>\n",
       "    </tr>\n",
       "  </thead>\n",
       "  <tbody>\n",
       "    <tr>\n",
       "      <th>2018-03-01 00:00:00</th>\n",
       "      <td>124</td>\n",
       "      <td>NaN</td>\n",
       "      <td>NaN</td>\n",
       "      <td>NaN</td>\n",
       "      <td>NaN</td>\n",
       "      <td>0</td>\n",
       "      <td>3</td>\n",
       "      <td>NaN</td>\n",
       "      <td>NaN</td>\n",
       "      <td>NaN</td>\n",
       "      <td>...</td>\n",
       "      <td>NaN</td>\n",
       "      <td>NaN</td>\n",
       "      <td>NaN</td>\n",
       "      <td>NaN</td>\n",
       "      <td>NaN</td>\n",
       "      <td>NaN</td>\n",
       "      <td>NaN</td>\n",
       "      <td>NaN</td>\n",
       "      <td>NaN</td>\n",
       "      <td>NaN</td>\n",
       "    </tr>\n",
       "    <tr>\n",
       "      <th>2018-03-01 01:00:00</th>\n",
       "      <td>85</td>\n",
       "      <td>124.0</td>\n",
       "      <td>-39.0</td>\n",
       "      <td>NaN</td>\n",
       "      <td>NaN</td>\n",
       "      <td>1</td>\n",
       "      <td>3</td>\n",
       "      <td>124.0</td>\n",
       "      <td>NaN</td>\n",
       "      <td>NaN</td>\n",
       "      <td>...</td>\n",
       "      <td>NaN</td>\n",
       "      <td>NaN</td>\n",
       "      <td>NaN</td>\n",
       "      <td>NaN</td>\n",
       "      <td>NaN</td>\n",
       "      <td>NaN</td>\n",
       "      <td>NaN</td>\n",
       "      <td>NaN</td>\n",
       "      <td>NaN</td>\n",
       "      <td>NaN</td>\n",
       "    </tr>\n",
       "    <tr>\n",
       "      <th>2018-03-01 02:00:00</th>\n",
       "      <td>71</td>\n",
       "      <td>85.0</td>\n",
       "      <td>-14.0</td>\n",
       "      <td>NaN</td>\n",
       "      <td>NaN</td>\n",
       "      <td>2</td>\n",
       "      <td>3</td>\n",
       "      <td>85.0</td>\n",
       "      <td>124.0</td>\n",
       "      <td>NaN</td>\n",
       "      <td>...</td>\n",
       "      <td>NaN</td>\n",
       "      <td>NaN</td>\n",
       "      <td>NaN</td>\n",
       "      <td>NaN</td>\n",
       "      <td>NaN</td>\n",
       "      <td>NaN</td>\n",
       "      <td>NaN</td>\n",
       "      <td>NaN</td>\n",
       "      <td>NaN</td>\n",
       "      <td>NaN</td>\n",
       "    </tr>\n",
       "    <tr>\n",
       "      <th>2018-03-01 03:00:00</th>\n",
       "      <td>66</td>\n",
       "      <td>71.0</td>\n",
       "      <td>-5.0</td>\n",
       "      <td>NaN</td>\n",
       "      <td>NaN</td>\n",
       "      <td>3</td>\n",
       "      <td>3</td>\n",
       "      <td>71.0</td>\n",
       "      <td>85.0</td>\n",
       "      <td>124.0</td>\n",
       "      <td>...</td>\n",
       "      <td>NaN</td>\n",
       "      <td>NaN</td>\n",
       "      <td>NaN</td>\n",
       "      <td>NaN</td>\n",
       "      <td>NaN</td>\n",
       "      <td>NaN</td>\n",
       "      <td>NaN</td>\n",
       "      <td>NaN</td>\n",
       "      <td>NaN</td>\n",
       "      <td>NaN</td>\n",
       "    </tr>\n",
       "    <tr>\n",
       "      <th>2018-03-01 04:00:00</th>\n",
       "      <td>43</td>\n",
       "      <td>66.0</td>\n",
       "      <td>-23.0</td>\n",
       "      <td>NaN</td>\n",
       "      <td>NaN</td>\n",
       "      <td>4</td>\n",
       "      <td>3</td>\n",
       "      <td>66.0</td>\n",
       "      <td>71.0</td>\n",
       "      <td>85.0</td>\n",
       "      <td>...</td>\n",
       "      <td>NaN</td>\n",
       "      <td>NaN</td>\n",
       "      <td>NaN</td>\n",
       "      <td>NaN</td>\n",
       "      <td>NaN</td>\n",
       "      <td>NaN</td>\n",
       "      <td>NaN</td>\n",
       "      <td>NaN</td>\n",
       "      <td>NaN</td>\n",
       "      <td>NaN</td>\n",
       "    </tr>\n",
       "  </tbody>\n",
       "</table>\n",
       "<p>5 rows × 31 columns</p>\n",
       "</div>"
      ],
      "text/plain": [
       "                     num_orders  rolling_mean  shift  mean  std  hour  \\\n",
       "datetime                                                                \n",
       "2018-03-01 00:00:00         124           NaN    NaN   NaN  NaN     0   \n",
       "2018-03-01 01:00:00          85         124.0  -39.0   NaN  NaN     1   \n",
       "2018-03-01 02:00:00          71          85.0  -14.0   NaN  NaN     2   \n",
       "2018-03-01 03:00:00          66          71.0   -5.0   NaN  NaN     3   \n",
       "2018-03-01 04:00:00          43          66.0  -23.0   NaN  NaN     4   \n",
       "\n",
       "                     dayofweek  lag_1  lag_2  lag_3  ...  lag_15  lag_16  \\\n",
       "datetime                                             ...                   \n",
       "2018-03-01 00:00:00          3    NaN    NaN    NaN  ...     NaN     NaN   \n",
       "2018-03-01 01:00:00          3  124.0    NaN    NaN  ...     NaN     NaN   \n",
       "2018-03-01 02:00:00          3   85.0  124.0    NaN  ...     NaN     NaN   \n",
       "2018-03-01 03:00:00          3   71.0   85.0  124.0  ...     NaN     NaN   \n",
       "2018-03-01 04:00:00          3   66.0   71.0   85.0  ...     NaN     NaN   \n",
       "\n",
       "                     lag_17  lag_18  lag_19  lag_20  lag_21  lag_22  lag_23  \\\n",
       "datetime                                                                      \n",
       "2018-03-01 00:00:00     NaN     NaN     NaN     NaN     NaN     NaN     NaN   \n",
       "2018-03-01 01:00:00     NaN     NaN     NaN     NaN     NaN     NaN     NaN   \n",
       "2018-03-01 02:00:00     NaN     NaN     NaN     NaN     NaN     NaN     NaN   \n",
       "2018-03-01 03:00:00     NaN     NaN     NaN     NaN     NaN     NaN     NaN   \n",
       "2018-03-01 04:00:00     NaN     NaN     NaN     NaN     NaN     NaN     NaN   \n",
       "\n",
       "                     lag_24  \n",
       "datetime                     \n",
       "2018-03-01 00:00:00     NaN  \n",
       "2018-03-01 01:00:00     NaN  \n",
       "2018-03-01 02:00:00     NaN  \n",
       "2018-03-01 03:00:00     NaN  \n",
       "2018-03-01 04:00:00     NaN  \n",
       "\n",
       "[5 rows x 31 columns]"
      ]
     },
     "execution_count": 22,
     "metadata": {},
     "output_type": "execute_result"
    }
   ],
   "source": [
    "def make_features(data, max_lag, rolling_mean_size):\n",
    "    data['hour'] = data.index.hour\n",
    "    data['dayofweek'] = data.index.dayofweek\n",
    "    \n",
    "    for lag in range(1, max_lag + 1):\n",
    "        data['lag_{}'.format(lag)] = data['num_orders'].shift(lag)\n",
    "    data['rolling_mean'] = data['num_orders'].shift().rolling(rolling_mean_size).mean()\n",
    "    return data\n",
    "\n",
    "make_features(data, 24, 1)\n",
    "data.head()"
   ]
  },
  {
   "cell_type": "code",
   "execution_count": 23,
   "metadata": {},
   "outputs": [],
   "source": [
    "data = data.drop(['mean', 'std'], axis=1)"
   ]
  },
  {
   "cell_type": "code",
   "execution_count": 24,
   "metadata": {},
   "outputs": [],
   "source": [
    "data = data.dropna()"
   ]
  },
  {
   "cell_type": "code",
   "execution_count": 28,
   "metadata": {},
   "outputs": [],
   "source": [
    "train, test = train_test_split(data, test_size = 0.1, shuffle = False)"
   ]
  },
  {
   "cell_type": "code",
   "execution_count": 29,
   "metadata": {},
   "outputs": [],
   "source": [
    "train_target = train['num_orders']\n",
    "test_target = test['num_orders']\n",
    "train_feauters = train.drop('num_orders', axis=1)\n",
    "test_feauters = test.drop('num_orders', axis=1)"
   ]
  },
  {
   "cell_type": "markdown",
   "metadata": {},
   "source": [
    "### Предсказание константой"
   ]
  },
  {
   "cell_type": "code",
   "execution_count": 101,
   "metadata": {},
   "outputs": [
    {
     "name": "stdout",
     "output_type": "stream",
     "text": [
      "RMSE: 544.7040899544605\n"
     ]
    }
   ],
   "source": [
    "pred_median = np.ones(test.shape) * train['num_orders'].median()\n",
    "print(\"RMSE:\",mean_squared_error(pred_median, test)**0.5)"
   ]
  },
  {
   "cell_type": "markdown",
   "metadata": {},
   "source": [
    "### LinearRegression"
   ]
  },
  {
   "cell_type": "code",
   "execution_count": 31,
   "metadata": {},
   "outputs": [
    {
     "data": {
      "text/plain": [
       "6.53837969299183e-14"
      ]
     },
     "execution_count": 31,
     "metadata": {},
     "output_type": "execute_result"
    }
   ],
   "source": [
    "model = LinearRegression()\n",
    "RMSE_lr = cross_val_score(model, train_feauters, train_target, cv=TimeSeriesSplit(n_splits=2), scoring='neg_root_mean_squared_error')\n",
    "RMSE_lr = abs(RMSE_lr.mean())\n",
    "RMSE_lr"
   ]
  },
  {
   "cell_type": "markdown",
   "metadata": {},
   "source": [
    "### ElasticNet"
   ]
  },
  {
   "cell_type": "code",
   "execution_count": 32,
   "metadata": {},
   "outputs": [
    {
     "name": "stderr",
     "output_type": "stream",
     "text": [
      "/opt/conda/lib/python3.9/site-packages/sklearn/linear_model/_coordinate_descent.py:530: ConvergenceWarning: Objective did not converge. You might want to increase the number of iterations. Duality gap: 985.5518045662366, tolerance: 121.21904036418817\n",
      "  model = cd_fast.enet_coordinate_descent(\n",
      "/opt/conda/lib/python3.9/site-packages/sklearn/linear_model/_coordinate_descent.py:530: ConvergenceWarning: Objective did not converge. You might want to increase the number of iterations. Duality gap: 1971.2918244124116, tolerance: 293.60264910815937\n",
      "  model = cd_fast.enet_coordinate_descent(\n",
      "/opt/conda/lib/python3.9/site-packages/sklearn/linear_model/_coordinate_descent.py:530: ConvergenceWarning: Objective did not converge. You might want to increase the number of iterations. Duality gap: 9603.634249248627, tolerance: 121.21904036418817\n",
      "  model = cd_fast.enet_coordinate_descent(\n",
      "/opt/conda/lib/python3.9/site-packages/sklearn/linear_model/_coordinate_descent.py:530: ConvergenceWarning: Objective did not converge. You might want to increase the number of iterations. Duality gap: 19279.6683578789, tolerance: 293.60264910815937\n",
      "  model = cd_fast.enet_coordinate_descent(\n"
     ]
    },
    {
     "data": {
      "text/plain": [
       "GridSearchCV(cv=TimeSeriesSplit(gap=0, max_train_size=None, n_splits=2, test_size=None),\n",
       "             estimator=ElasticNet(),\n",
       "             param_grid={'alpha': [0.0001, 0.001, 0.01, 0.1, 1, 10],\n",
       "                         'l1_ratio': array([0. , 0.1, 0.2, 0.3, 0.4, 0.5, 0.6, 0.7, 0.8, 0.9])},\n",
       "             scoring='neg_root_mean_squared_error')"
      ]
     },
     "execution_count": 32,
     "metadata": {},
     "output_type": "execute_result"
    }
   ],
   "source": [
    "parametersGrid = {\n",
    "                      \"alpha\": [0.0001, 0.001, 0.01, 0.1, 1, 10],\n",
    "                      \"l1_ratio\": np.arange(0.0, 1.0, 0.1)}\n",
    "\n",
    "m_en = ElasticNet()\n",
    "model_en = GridSearchCV(m_en, parametersGrid, scoring='neg_root_mean_squared_error', cv=TimeSeriesSplit(n_splits=2))\n",
    "model_en.fit(train_feauters, train_target)"
   ]
  },
  {
   "cell_type": "code",
   "execution_count": 33,
   "metadata": {},
   "outputs": [
    {
     "data": {
      "text/plain": [
       "ElasticNet(alpha=0.001)"
      ]
     },
     "execution_count": 33,
     "metadata": {},
     "output_type": "execute_result"
    }
   ],
   "source": [
    "model_en.best_estimator_"
   ]
  },
  {
   "cell_type": "code",
   "execution_count": 34,
   "metadata": {},
   "outputs": [
    {
     "data": {
      "text/plain": [
       "0.002112734710732463"
      ]
     },
     "execution_count": 34,
     "metadata": {},
     "output_type": "execute_result"
    }
   ],
   "source": [
    "rmse_en = abs(model_en.best_score_)\n",
    "rmse_en"
   ]
  },
  {
   "cell_type": "markdown",
   "metadata": {},
   "source": [
    "### LightGBM"
   ]
  },
  {
   "cell_type": "code",
   "execution_count": 73,
   "metadata": {},
   "outputs": [
    {
     "data": {
      "text/plain": [
       "RandomizedSearchCV(cv=TimeSeriesSplit(gap=0, max_train_size=None, n_splits=2, test_size=None),\n",
       "                   estimator=LGBMRegressor(objective='regression'), n_jobs=-1,\n",
       "                   param_distributions={'learning_rate': [0.1, 0.01, 0.3],\n",
       "                                        'max_depth': [3, 6, 12],\n",
       "                                        'n_estimators': [50, 100]},\n",
       "                   scoring='neg_root_mean_squared_error')"
      ]
     },
     "execution_count": 73,
     "metadata": {},
     "output_type": "execute_result"
    }
   ],
   "source": [
    "param_grid = {\n",
    "    'learning_rate': [0.1, 0.01, 0.3],\n",
    "    'n_estimators': [50, 100],\n",
    "    'max_depth': [3, 6, 12]\n",
    "}\n",
    "estimator = lgb.LGBMRegressor(objective='regression')\n",
    "\n",
    "model_lgbm = RandomizedSearchCV(estimator=estimator, \n",
    "                     param_distributions=param_grid,\n",
    "                     cv=TimeSeriesSplit(n_splits=2), \n",
    "                     n_jobs=-1, \n",
    "                     scoring='neg_root_mean_squared_error')\n",
    "\n",
    "model_lgbm.fit(train_feauters, train_target)"
   ]
  },
  {
   "cell_type": "code",
   "execution_count": 74,
   "metadata": {},
   "outputs": [
    {
     "data": {
      "text/plain": [
       "RandomizedSearchCV(cv=TimeSeriesSplit(gap=0, max_train_size=None, n_splits=2, test_size=None),\n",
       "                   estimator=LGBMRegressor(objective='regression'), n_jobs=-1,\n",
       "                   param_distributions={'learning_rate': [0.1, 0.01, 0.3],\n",
       "                                        'max_depth': [3, 6, 12],\n",
       "                                        'n_estimators': [50, 100]},\n",
       "                   scoring='neg_root_mean_squared_error')"
      ]
     },
     "execution_count": 74,
     "metadata": {},
     "output_type": "execute_result"
    }
   ],
   "source": [
    "model_lgbm"
   ]
  },
  {
   "cell_type": "code",
   "execution_count": 75,
   "metadata": {},
   "outputs": [
    {
     "data": {
      "text/plain": [
       "LGBMRegressor(learning_rate=0.3, max_depth=3, objective='regression')"
      ]
     },
     "execution_count": 75,
     "metadata": {},
     "output_type": "execute_result"
    }
   ],
   "source": [
    "model_lgbm.best_estimator_"
   ]
  },
  {
   "cell_type": "code",
   "execution_count": 77,
   "metadata": {},
   "outputs": [
    {
     "data": {
      "text/plain": [
       "{'n_estimators': 100, 'max_depth': 3, 'learning_rate': 0.3}"
      ]
     },
     "execution_count": 77,
     "metadata": {},
     "output_type": "execute_result"
    }
   ],
   "source": [
    "model_lgbm.best_params_"
   ]
  },
  {
   "cell_type": "code",
   "execution_count": 76,
   "metadata": {},
   "outputs": [
    {
     "data": {
      "text/plain": [
       "8.406679760368434"
      ]
     },
     "execution_count": 76,
     "metadata": {},
     "output_type": "execute_result"
    }
   ],
   "source": [
    "rmse_lgbm = abs(model_lgbm.best_score_)\n",
    "rmse_lgbm"
   ]
  },
  {
   "cell_type": "markdown",
   "metadata": {},
   "source": [
    "### ARIMA"
   ]
  },
  {
   "cell_type": "code",
   "execution_count": 60,
   "metadata": {},
   "outputs": [],
   "source": [
    "from statsmodels.graphics.tsaplots import plot_acf, plot_pacf\n",
    "from statsmodels.tsa.stattools import acf, pacf\n",
    "from statsmodels.tsa.arima.model import ARIMA"
   ]
  },
  {
   "cell_type": "markdown",
   "metadata": {},
   "source": [
    "#### Параметры d, p, q\n",
    "Определим параметры d, p ,q модели ARIMA. Отметим, что параметр d мы определилии ранее, и получили, что при d = 0 - ряд стационарен. Тогда наша модель сводиться к модели ARMA."
   ]
  },
  {
   "cell_type": "code",
   "execution_count": 39,
   "metadata": {},
   "outputs": [
    {
     "name": "stderr",
     "output_type": "stream",
     "text": [
      "/opt/conda/lib/python3.9/site-packages/statsmodels/graphics/tsaplots.py:348: FutureWarning: The default method 'yw' can produce PACF values outside of the [-1,1] interval. After 0.13, the default will change tounadjusted Yule-Walker ('ywm'). You can use this method now by setting method='ywm'.\n",
      "  warnings.warn(\n"
     ]
    },
    {
     "data": {
      "image/png": "[encoded data removed]",
      "text/plain": [
       "<Figure size 864x288 with 1 Axes>"
      ]
     },
     "metadata": {
      "needs_background": "light"
     },
     "output_type": "display_data"
    }
   ],
   "source": [
    "plot_pacf(ts, alpha=None).set_size_inches(12, 4)\n",
    "plt.show()"
   ]
  },
  {
   "cell_type": "code",
   "execution_count": 43,
   "metadata": {},
   "outputs": [],
   "source": [
    "ts_without_season = decomposed.trend + decomposed.resid"
   ]
  },
  {
   "cell_type": "code",
   "execution_count": 48,
   "metadata": {},
   "outputs": [
    {
     "data": {
      "text/plain": [
       "True"
      ]
     },
     "execution_count": 48,
     "metadata": {},
     "output_type": "execute_result"
    }
   ],
   "source": [
    "ts_without_season.index.is_monotonic"
   ]
  },
  {
   "cell_type": "code",
   "execution_count": 49,
   "metadata": {},
   "outputs": [
    {
     "data": {
      "text/plain": [
       "24"
      ]
     },
     "execution_count": 49,
     "metadata": {},
     "output_type": "execute_result"
    }
   ],
   "source": [
    "ts_without_season.isna().sum()"
   ]
  },
  {
   "cell_type": "code",
   "execution_count": 52,
   "metadata": {},
   "outputs": [
    {
     "data": {
      "text/plain": [
       "datetime\n",
       "2018-03-01 00:00:00          NaN\n",
       "2018-03-01 01:00:00          NaN\n",
       "2018-03-01 02:00:00          NaN\n",
       "2018-03-01 03:00:00          NaN\n",
       "2018-03-01 04:00:00          NaN\n",
       "2018-03-01 05:00:00          NaN\n",
       "2018-03-01 06:00:00          NaN\n",
       "2018-03-01 07:00:00          NaN\n",
       "2018-03-01 08:00:00          NaN\n",
       "2018-03-01 09:00:00          NaN\n",
       "2018-03-01 10:00:00          NaN\n",
       "2018-03-01 11:00:00          NaN\n",
       "2018-03-01 12:00:00    46.721606\n",
       "Freq: H, dtype: float64"
      ]
     },
     "execution_count": 52,
     "metadata": {},
     "output_type": "execute_result"
    }
   ],
   "source": [
    "ts_without_season.head(13)"
   ]
  },
  {
   "cell_type": "code",
   "execution_count": 53,
   "metadata": {},
   "outputs": [
    {
     "data": {
      "text/plain": [
       "datetime\n",
       "2018-08-31 11:00:00    169.133377\n",
       "2018-08-31 12:00:00           NaN\n",
       "2018-08-31 13:00:00           NaN\n",
       "2018-08-31 14:00:00           NaN\n",
       "2018-08-31 15:00:00           NaN\n",
       "2018-08-31 16:00:00           NaN\n",
       "2018-08-31 17:00:00           NaN\n",
       "2018-08-31 18:00:00           NaN\n",
       "2018-08-31 19:00:00           NaN\n",
       "2018-08-31 20:00:00           NaN\n",
       "2018-08-31 21:00:00           NaN\n",
       "2018-08-31 22:00:00           NaN\n",
       "2018-08-31 23:00:00           NaN\n",
       "Freq: H, dtype: float64"
      ]
     },
     "execution_count": 53,
     "metadata": {},
     "output_type": "execute_result"
    }
   ],
   "source": [
    "ts_without_season.tail(13)"
   ]
  },
  {
   "cell_type": "code",
   "execution_count": 54,
   "metadata": {},
   "outputs": [],
   "source": [
    "ts_without_season.bfill(inplace=True)"
   ]
  },
  {
   "cell_type": "code",
   "execution_count": 55,
   "metadata": {},
   "outputs": [],
   "source": [
    "ts_without_season.dropna(inplace=True)"
   ]
  },
  {
   "cell_type": "code",
   "execution_count": 56,
   "metadata": {},
   "outputs": [
    {
     "data": {
      "text/plain": [
       "0"
      ]
     },
     "execution_count": 56,
     "metadata": {},
     "output_type": "execute_result"
    }
   ],
   "source": [
    "ts_without_season.isna().sum()"
   ]
  },
  {
   "cell_type": "code",
   "execution_count": 57,
   "metadata": {},
   "outputs": [
    {
     "name": "stderr",
     "output_type": "stream",
     "text": [
      "/opt/conda/lib/python3.9/site-packages/statsmodels/graphics/tsaplots.py:348: FutureWarning: The default method 'yw' can produce PACF values outside of the [-1,1] interval. After 0.13, the default will change tounadjusted Yule-Walker ('ywm'). You can use this method now by setting method='ywm'.\n",
      "  warnings.warn(\n"
     ]
    },
    {
     "data": {
      "image/png": "[encoded data removed]",
      "text/plain": [
       "<Figure size 864x288 with 1 Axes>"
      ]
     },
     "metadata": {
      "needs_background": "light"
     },
     "output_type": "display_data"
    }
   ],
   "source": [
    "plot_pacf(ts_without_season, alpha=None).set_size_inches(12, 4)\n",
    "plt.show()"
   ]
  },
  {
   "cell_type": "markdown",
   "metadata": {},
   "source": [
    "Исходя из графиков, можем предположить что p=2.\n",
    "Теперь найдем параметр q"
   ]
  },
  {
   "cell_type": "code",
   "execution_count": 58,
   "metadata": {},
   "outputs": [
    {
     "data": {
      "image/png": "[encoded data removed]",
      "text/plain": [
       "<Figure size 864x288 with 1 Axes>"
      ]
     },
     "metadata": {
      "needs_background": "light"
     },
     "output_type": "display_data"
    }
   ],
   "source": [
    "plot_acf(ts, alpha=None).set_size_inches(12, 4)\n",
    "plt.show()"
   ]
  },
  {
   "cell_type": "code",
   "execution_count": 59,
   "metadata": {},
   "outputs": [
    {
     "data": {
      "image/png": "[encoded data removed]",
      "text/plain": [
       "<Figure size 864x288 with 1 Axes>"
      ]
     },
     "metadata": {
      "needs_background": "light"
     },
     "output_type": "display_data"
    }
   ],
   "source": [
    "plot_acf(ts_without_season, alpha=None).set_size_inches(12, 4)\n",
    "plt.show()"
   ]
  },
  {
   "cell_type": "markdown",
   "metadata": {},
   "source": [
    "Большое количество значений подходит для параметра q, возьмем q  = 8.\n",
    "\n",
    "Таким образом, получаем следующее значение параметров: d = 0, p =1, 1 < q < 8. \n"
   ]
  },
  {
   "cell_type": "markdown",
   "metadata": {},
   "source": [
    "#### Поиск наилучших параметров"
   ]
  },
  {
   "cell_type": "code",
   "execution_count": 61,
   "metadata": {},
   "outputs": [
    {
     "name": "stdout",
     "output_type": "stream",
     "text": [
      "                               SARIMAX Results                                \n",
      "==============================================================================\n",
      "Dep. Variable:             num_orders   No. Observations:                 4416\n",
      "Model:                 ARIMA(1, 0, 1)   Log Likelihood              -21955.864\n",
      "Date:                Fri, 31 Mar 2023   AIC                          43919.728\n",
      "Time:                        13:39:09   BIC                          43945.300\n",
      "Sample:                    03-01-2018   HQIC                         43928.747\n",
      "                         - 08-31-2018                                         \n",
      "Covariance Type:                  opg                                         \n",
      "==============================================================================\n",
      "                 coef    std err          z      P>|z|      [0.025      0.975]\n",
      "------------------------------------------------------------------------------\n",
      "const         84.4295      1.861     45.372      0.000      80.782      88.077\n",
      "ar.L1          0.7386      0.013     58.157      0.000       0.714       0.763\n",
      "ma.L1         -0.1888      0.018    -10.219      0.000      -0.225      -0.153\n",
      "sigma2      1218.8857     18.317     66.543      0.000    1182.985    1254.787\n",
      "===================================================================================\n",
      "Ljung-Box (L1) (Q):                   0.02   Jarque-Bera (JB):              1594.03\n",
      "Prob(Q):                              0.88   Prob(JB):                         0.00\n",
      "Heteroskedasticity (H):               2.49   Skew:                             0.69\n",
      "Prob(H) (two-sided):                  0.00   Kurtosis:                         5.60\n",
      "===================================================================================\n",
      "\n",
      "Warnings:\n",
      "[1] Covariance matrix calculated using the outer product of gradients (complex-step).\n"
     ]
    }
   ],
   "source": [
    "# ARIMA(1, 0, 1)\n",
    "model_min = ARIMA(ts, order=(1,0,1)).fit()\n",
    "print(model_min.summary())"
   ]
  },
  {
   "cell_type": "code",
   "execution_count": 63,
   "metadata": {},
   "outputs": [
    {
     "name": "stderr",
     "output_type": "stream",
     "text": [
      "/opt/conda/lib/python3.9/site-packages/statsmodels/base/model.py:604: ConvergenceWarning: Maximum Likelihood optimization failed to converge. Check mle_retvals\n",
      "  warnings.warn(\"Maximum Likelihood optimization failed to \"\n"
     ]
    },
    {
     "name": "stdout",
     "output_type": "stream",
     "text": [
      "                               SARIMAX Results                                \n",
      "==============================================================================\n",
      "Dep. Variable:             num_orders   No. Observations:                 4416\n",
      "Model:                 ARIMA(1, 0, 8)   Log Likelihood              -21685.169\n",
      "Date:                Fri, 31 Mar 2023   AIC                          43392.338\n",
      "Time:                        13:42:43   BIC                          43462.661\n",
      "Sample:                    03-01-2018   HQIC                         43417.141\n",
      "                         - 08-31-2018                                         \n",
      "Covariance Type:                  opg                                         \n",
      "==============================================================================\n",
      "                 coef    std err          z      P>|z|      [0.025      0.975]\n",
      "------------------------------------------------------------------------------\n",
      "const         84.7667     76.264      1.111      0.266     -64.709     234.242\n",
      "ar.L1          0.9999      0.000   4109.488      0.000       0.999       1.000\n",
      "ma.L1         -0.5529      0.012    -47.885      0.000      -0.576      -0.530\n",
      "ma.L2         -0.1358      0.013    -10.293      0.000      -0.162      -0.110\n",
      "ma.L3         -0.2108      0.015    -13.646      0.000      -0.241      -0.180\n",
      "ma.L4         -0.1575      0.016    -10.028      0.000      -0.188      -0.127\n",
      "ma.L5         -0.0818      0.017     -4.942      0.000      -0.114      -0.049\n",
      "ma.L6         -0.0392      0.016     -2.419      0.016      -0.071      -0.007\n",
      "ma.L7          0.1340      0.017      8.001      0.000       0.101       0.167\n",
      "ma.L8          0.0607      0.014      4.323      0.000       0.033       0.088\n",
      "sigma2      1077.1169     15.486     69.554      0.000    1046.765    1107.469\n",
      "===================================================================================\n",
      "Ljung-Box (L1) (Q):                   0.16   Jarque-Bera (JB):              2526.35\n",
      "Prob(Q):                              0.69   Prob(JB):                         0.00\n",
      "Heteroskedasticity (H):               2.36   Skew:                             0.80\n",
      "Prob(H) (two-sided):                  0.00   Kurtosis:                         6.34\n",
      "===================================================================================\n",
      "\n",
      "Warnings:\n",
      "[1] Covariance matrix calculated using the outer product of gradients (complex-step).\n"
     ]
    }
   ],
   "source": [
    "# ARIMA(1, 0, 10)\n",
    "model_max = ARIMA(ts, order=(1,0,8)).fit()\n",
    "print(model_max.summary())"
   ]
  },
  {
   "cell_type": "code",
   "execution_count": 64,
   "metadata": {},
   "outputs": [],
   "source": [
    "%%capture\n",
    "# List of parameter tuples (p, d, q)\n",
    "params_list = [(1, 0, q) for q in range(8)]\n",
    "\n",
    "# Dictionary of {parameter tuple : fitted model}\n",
    "models_dict = {params: ARIMA(ts, order=params).fit() for params in params_list}\n",
    "\n",
    "best_llf = max(models_dict.items(), key=lambda x: x[1].llf)[0]\n",
    "best_aic = min(models_dict.items(), key=lambda x: x[1].aic)[0]"
   ]
  },
  {
   "cell_type": "code",
   "execution_count": 65,
   "metadata": {},
   "outputs": [
    {
     "name": "stdout",
     "output_type": "stream",
     "text": [
      "Best Log Likelihood: ARIMA(1, 0, 7)\n"
     ]
    },
    {
     "data": {
      "text/html": [
       "<table class=\"simpletable\">\n",
       "<caption>SARIMAX Results</caption>\n",
       "<tr>\n",
       "  <th>Dep. Variable:</th>      <td>num_orders</td>    <th>  No. Observations:  </th>    <td>4416</td>   \n",
       "</tr>\n",
       "<tr>\n",
       "  <th>Model:</th>            <td>ARIMA(1, 0, 7)</td>  <th>  Log Likelihood     </th> <td>-21692.745</td>\n",
       "</tr>\n",
       "<tr>\n",
       "  <th>Date:</th>            <td>Fri, 31 Mar 2023</td> <th>  AIC                </th>  <td>43405.490</td>\n",
       "</tr>\n",
       "<tr>\n",
       "  <th>Time:</th>                <td>13:54:07</td>     <th>  BIC                </th>  <td>43469.420</td>\n",
       "</tr>\n",
       "<tr>\n",
       "  <th>Sample:</th>             <td>03-01-2018</td>    <th>  HQIC               </th>  <td>43428.038</td>\n",
       "</tr>\n",
       "<tr>\n",
       "  <th></th>                   <td>- 08-31-2018</td>   <th>                     </th>      <td> </td>    \n",
       "</tr>\n",
       "<tr>\n",
       "  <th>Covariance Type:</th>        <td>opg</td>       <th>                     </th>      <td> </td>    \n",
       "</tr>\n",
       "</table>\n",
       "<table class=\"simpletable\">\n",
       "<tr>\n",
       "     <td></td>       <th>coef</th>     <th>std err</th>      <th>z</th>      <th>P>|z|</th>  <th>[0.025</th>    <th>0.975]</th>  \n",
       "</tr>\n",
       "<tr>\n",
       "  <th>const</th>  <td>   84.7306</td> <td>   61.986</td> <td>    1.367</td> <td> 0.172</td> <td>  -36.759</td> <td>  206.220</td>\n",
       "</tr>\n",
       "<tr>\n",
       "  <th>ar.L1</th>  <td>    0.9999</td> <td>    0.000</td> <td> 3461.369</td> <td> 0.000</td> <td>    0.999</td> <td>    1.000</td>\n",
       "</tr>\n",
       "<tr>\n",
       "  <th>ma.L1</th>  <td>   -0.5724</td> <td>    0.012</td> <td>  -49.725</td> <td> 0.000</td> <td>   -0.595</td> <td>   -0.550</td>\n",
       "</tr>\n",
       "<tr>\n",
       "  <th>ma.L2</th>  <td>   -0.1291</td> <td>    0.013</td> <td>   -9.811</td> <td> 0.000</td> <td>   -0.155</td> <td>   -0.103</td>\n",
       "</tr>\n",
       "<tr>\n",
       "  <th>ma.L3</th>  <td>   -0.1937</td> <td>    0.015</td> <td>  -12.573</td> <td> 0.000</td> <td>   -0.224</td> <td>   -0.164</td>\n",
       "</tr>\n",
       "<tr>\n",
       "  <th>ma.L4</th>  <td>   -0.1455</td> <td>    0.016</td> <td>   -9.327</td> <td> 0.000</td> <td>   -0.176</td> <td>   -0.115</td>\n",
       "</tr>\n",
       "<tr>\n",
       "  <th>ma.L5</th>  <td>   -0.0694</td> <td>    0.016</td> <td>   -4.284</td> <td> 0.000</td> <td>   -0.101</td> <td>   -0.038</td>\n",
       "</tr>\n",
       "<tr>\n",
       "  <th>ma.L6</th>  <td>   -0.0368</td> <td>    0.016</td> <td>   -2.265</td> <td> 0.024</td> <td>   -0.069</td> <td>   -0.005</td>\n",
       "</tr>\n",
       "<tr>\n",
       "  <th>ma.L7</th>  <td>    0.1639</td> <td>    0.014</td> <td>   11.734</td> <td> 0.000</td> <td>    0.136</td> <td>    0.191</td>\n",
       "</tr>\n",
       "<tr>\n",
       "  <th>sigma2</th> <td> 1078.7952</td> <td>   15.560</td> <td>   69.329</td> <td> 0.000</td> <td> 1048.297</td> <td> 1109.293</td>\n",
       "</tr>\n",
       "</table>\n",
       "<table class=\"simpletable\">\n",
       "<tr>\n",
       "  <th>Ljung-Box (L1) (Q):</th>     <td>0.30</td> <th>  Jarque-Bera (JB):  </th> <td>2512.76</td>\n",
       "</tr>\n",
       "<tr>\n",
       "  <th>Prob(Q):</th>                <td>0.59</td> <th>  Prob(JB):          </th>  <td>0.00</td>  \n",
       "</tr>\n",
       "<tr>\n",
       "  <th>Heteroskedasticity (H):</th> <td>2.36</td> <th>  Skew:              </th>  <td>0.80</td>  \n",
       "</tr>\n",
       "<tr>\n",
       "  <th>Prob(H) (two-sided):</th>    <td>0.00</td> <th>  Kurtosis:          </th>  <td>6.34</td>  \n",
       "</tr>\n",
       "</table><br/><br/>Warnings:<br/>[1] Covariance matrix calculated using the outer product of gradients (complex-step)."
      ],
      "text/plain": [
       "<class 'statsmodels.iolib.summary.Summary'>\n",
       "\"\"\"\n",
       "                               SARIMAX Results                                \n",
       "==============================================================================\n",
       "Dep. Variable:             num_orders   No. Observations:                 4416\n",
       "Model:                 ARIMA(1, 0, 7)   Log Likelihood              -21692.745\n",
       "Date:                Fri, 31 Mar 2023   AIC                          43405.490\n",
       "Time:                        13:54:07   BIC                          43469.420\n",
       "Sample:                    03-01-2018   HQIC                         43428.038\n",
       "                         - 08-31-2018                                         \n",
       "Covariance Type:                  opg                                         \n",
       "==============================================================================\n",
       "                 coef    std err          z      P>|z|      [0.025      0.975]\n",
       "------------------------------------------------------------------------------\n",
       "const         84.7306     61.986      1.367      0.172     -36.759     206.220\n",
       "ar.L1          0.9999      0.000   3461.369      0.000       0.999       1.000\n",
       "ma.L1         -0.5724      0.012    -49.725      0.000      -0.595      -0.550\n",
       "ma.L2         -0.1291      0.013     -9.811      0.000      -0.155      -0.103\n",
       "ma.L3         -0.1937      0.015    -12.573      0.000      -0.224      -0.164\n",
       "ma.L4         -0.1455      0.016     -9.327      0.000      -0.176      -0.115\n",
       "ma.L5         -0.0694      0.016     -4.284      0.000      -0.101      -0.038\n",
       "ma.L6         -0.0368      0.016     -2.265      0.024      -0.069      -0.005\n",
       "ma.L7          0.1639      0.014     11.734      0.000       0.136       0.191\n",
       "sigma2      1078.7952     15.560     69.329      0.000    1048.297    1109.293\n",
       "===================================================================================\n",
       "Ljung-Box (L1) (Q):                   0.30   Jarque-Bera (JB):              2512.76\n",
       "Prob(Q):                              0.59   Prob(JB):                         0.00\n",
       "Heteroskedasticity (H):               2.36   Skew:                             0.80\n",
       "Prob(H) (two-sided):                  0.00   Kurtosis:                         6.34\n",
       "===================================================================================\n",
       "\n",
       "Warnings:\n",
       "[1] Covariance matrix calculated using the outer product of gradients (complex-step).\n",
       "\"\"\""
      ]
     },
     "execution_count": 65,
     "metadata": {},
     "output_type": "execute_result"
    }
   ],
   "source": [
    "print(\"Best Log Likelihood: ARIMA{}\".format(best_llf))\n",
    "models_dict[best_llf].summary()"
   ]
  },
  {
   "cell_type": "code",
   "execution_count": 66,
   "metadata": {},
   "outputs": [
    {
     "name": "stdout",
     "output_type": "stream",
     "text": [
      "Best AIC: ARIMA(1, 0, 7)\n"
     ]
    },
    {
     "data": {
      "text/html": [
       "<table class=\"simpletable\">\n",
       "<caption>SARIMAX Results</caption>\n",
       "<tr>\n",
       "  <th>Dep. Variable:</th>      <td>num_orders</td>    <th>  No. Observations:  </th>    <td>4416</td>   \n",
       "</tr>\n",
       "<tr>\n",
       "  <th>Model:</th>            <td>ARIMA(1, 0, 7)</td>  <th>  Log Likelihood     </th> <td>-21692.745</td>\n",
       "</tr>\n",
       "<tr>\n",
       "  <th>Date:</th>            <td>Fri, 31 Mar 2023</td> <th>  AIC                </th>  <td>43405.490</td>\n",
       "</tr>\n",
       "<tr>\n",
       "  <th>Time:</th>                <td>13:54:42</td>     <th>  BIC                </th>  <td>43469.420</td>\n",
       "</tr>\n",
       "<tr>\n",
       "  <th>Sample:</th>             <td>03-01-2018</td>    <th>  HQIC               </th>  <td>43428.038</td>\n",
       "</tr>\n",
       "<tr>\n",
       "  <th></th>                   <td>- 08-31-2018</td>   <th>                     </th>      <td> </td>    \n",
       "</tr>\n",
       "<tr>\n",
       "  <th>Covariance Type:</th>        <td>opg</td>       <th>                     </th>      <td> </td>    \n",
       "</tr>\n",
       "</table>\n",
       "<table class=\"simpletable\">\n",
       "<tr>\n",
       "     <td></td>       <th>coef</th>     <th>std err</th>      <th>z</th>      <th>P>|z|</th>  <th>[0.025</th>    <th>0.975]</th>  \n",
       "</tr>\n",
       "<tr>\n",
       "  <th>const</th>  <td>   84.7306</td> <td>   61.986</td> <td>    1.367</td> <td> 0.172</td> <td>  -36.759</td> <td>  206.220</td>\n",
       "</tr>\n",
       "<tr>\n",
       "  <th>ar.L1</th>  <td>    0.9999</td> <td>    0.000</td> <td> 3461.369</td> <td> 0.000</td> <td>    0.999</td> <td>    1.000</td>\n",
       "</tr>\n",
       "<tr>\n",
       "  <th>ma.L1</th>  <td>   -0.5724</td> <td>    0.012</td> <td>  -49.725</td> <td> 0.000</td> <td>   -0.595</td> <td>   -0.550</td>\n",
       "</tr>\n",
       "<tr>\n",
       "  <th>ma.L2</th>  <td>   -0.1291</td> <td>    0.013</td> <td>   -9.811</td> <td> 0.000</td> <td>   -0.155</td> <td>   -0.103</td>\n",
       "</tr>\n",
       "<tr>\n",
       "  <th>ma.L3</th>  <td>   -0.1937</td> <td>    0.015</td> <td>  -12.573</td> <td> 0.000</td> <td>   -0.224</td> <td>   -0.164</td>\n",
       "</tr>\n",
       "<tr>\n",
       "  <th>ma.L4</th>  <td>   -0.1455</td> <td>    0.016</td> <td>   -9.327</td> <td> 0.000</td> <td>   -0.176</td> <td>   -0.115</td>\n",
       "</tr>\n",
       "<tr>\n",
       "  <th>ma.L5</th>  <td>   -0.0694</td> <td>    0.016</td> <td>   -4.284</td> <td> 0.000</td> <td>   -0.101</td> <td>   -0.038</td>\n",
       "</tr>\n",
       "<tr>\n",
       "  <th>ma.L6</th>  <td>   -0.0368</td> <td>    0.016</td> <td>   -2.265</td> <td> 0.024</td> <td>   -0.069</td> <td>   -0.005</td>\n",
       "</tr>\n",
       "<tr>\n",
       "  <th>ma.L7</th>  <td>    0.1639</td> <td>    0.014</td> <td>   11.734</td> <td> 0.000</td> <td>    0.136</td> <td>    0.191</td>\n",
       "</tr>\n",
       "<tr>\n",
       "  <th>sigma2</th> <td> 1078.7952</td> <td>   15.560</td> <td>   69.329</td> <td> 0.000</td> <td> 1048.297</td> <td> 1109.293</td>\n",
       "</tr>\n",
       "</table>\n",
       "<table class=\"simpletable\">\n",
       "<tr>\n",
       "  <th>Ljung-Box (L1) (Q):</th>     <td>0.30</td> <th>  Jarque-Bera (JB):  </th> <td>2512.76</td>\n",
       "</tr>\n",
       "<tr>\n",
       "  <th>Prob(Q):</th>                <td>0.59</td> <th>  Prob(JB):          </th>  <td>0.00</td>  \n",
       "</tr>\n",
       "<tr>\n",
       "  <th>Heteroskedasticity (H):</th> <td>2.36</td> <th>  Skew:              </th>  <td>0.80</td>  \n",
       "</tr>\n",
       "<tr>\n",
       "  <th>Prob(H) (two-sided):</th>    <td>0.00</td> <th>  Kurtosis:          </th>  <td>6.34</td>  \n",
       "</tr>\n",
       "</table><br/><br/>Warnings:<br/>[1] Covariance matrix calculated using the outer product of gradients (complex-step)."
      ],
      "text/plain": [
       "<class 'statsmodels.iolib.summary.Summary'>\n",
       "\"\"\"\n",
       "                               SARIMAX Results                                \n",
       "==============================================================================\n",
       "Dep. Variable:             num_orders   No. Observations:                 4416\n",
       "Model:                 ARIMA(1, 0, 7)   Log Likelihood              -21692.745\n",
       "Date:                Fri, 31 Mar 2023   AIC                          43405.490\n",
       "Time:                        13:54:42   BIC                          43469.420\n",
       "Sample:                    03-01-2018   HQIC                         43428.038\n",
       "                         - 08-31-2018                                         \n",
       "Covariance Type:                  opg                                         \n",
       "==============================================================================\n",
       "                 coef    std err          z      P>|z|      [0.025      0.975]\n",
       "------------------------------------------------------------------------------\n",
       "const         84.7306     61.986      1.367      0.172     -36.759     206.220\n",
       "ar.L1          0.9999      0.000   3461.369      0.000       0.999       1.000\n",
       "ma.L1         -0.5724      0.012    -49.725      0.000      -0.595      -0.550\n",
       "ma.L2         -0.1291      0.013     -9.811      0.000      -0.155      -0.103\n",
       "ma.L3         -0.1937      0.015    -12.573      0.000      -0.224      -0.164\n",
       "ma.L4         -0.1455      0.016     -9.327      0.000      -0.176      -0.115\n",
       "ma.L5         -0.0694      0.016     -4.284      0.000      -0.101      -0.038\n",
       "ma.L6         -0.0368      0.016     -2.265      0.024      -0.069      -0.005\n",
       "ma.L7          0.1639      0.014     11.734      0.000       0.136       0.191\n",
       "sigma2      1078.7952     15.560     69.329      0.000    1048.297    1109.293\n",
       "===================================================================================\n",
       "Ljung-Box (L1) (Q):                   0.30   Jarque-Bera (JB):              2512.76\n",
       "Prob(Q):                              0.59   Prob(JB):                         0.00\n",
       "Heteroskedasticity (H):               2.36   Skew:                             0.80\n",
       "Prob(H) (two-sided):                  0.00   Kurtosis:                         6.34\n",
       "===================================================================================\n",
       "\n",
       "Warnings:\n",
       "[1] Covariance matrix calculated using the outer product of gradients (complex-step).\n",
       "\"\"\""
      ]
     },
     "execution_count": 66,
     "metadata": {},
     "output_type": "execute_result"
    }
   ],
   "source": [
    "print(\"Best AIC: ARIMA{}\".format(best_aic))\n",
    "models_dict[best_aic].summary()"
   ]
  },
  {
   "cell_type": "markdown",
   "metadata": {},
   "source": [
    "Перебором значений q от 0 до 8, получаем, что наилучшие параметры для модели такие: b =0, p=1, q = 7."
   ]
  },
  {
   "cell_type": "markdown",
   "metadata": {},
   "source": [
    "#### Предсказание"
   ]
  },
  {
   "cell_type": "code",
   "execution_count": 67,
   "metadata": {},
   "outputs": [],
   "source": [
    "best_model_ARIMA = models_dict[best_aic]"
   ]
  },
  {
   "cell_type": "code",
   "execution_count": 69,
   "metadata": {},
   "outputs": [
    {
     "data": {
      "image/png": "[encoded data removed]",
      "text/plain": [
       "<Figure size 1152x576 with 1 Axes>"
      ]
     },
     "metadata": {
      "needs_background": "light"
     },
     "output_type": "display_data"
    }
   ],
   "source": [
    "arima_prediction = best_model_ARIMA.predict(start=1)\n",
    "plt.figure(figsize=(16,8))\n",
    "plt.plot(ts, color='tab:blue', label='observed')\n",
    "plt.plot(arima_prediction, color='tab:orange', label='predicted')\n",
    "plt.legend()\n",
    "plt.show()"
   ]
  },
  {
   "cell_type": "code",
   "execution_count": 72,
   "metadata": {},
   "outputs": [
    {
     "data": {
      "text/plain": [
       "32.89078925985695"
      ]
     },
     "execution_count": 72,
     "metadata": {},
     "output_type": "execute_result"
    }
   ],
   "source": [
    "mean_squared_error(ts[1:], arima_prediction)**0.5"
   ]
  },
  {
   "cell_type": "markdown",
   "metadata": {},
   "source": [
    "### Итог\n",
    "В разделе предсказания временного ряда было исследовано несколько моделей. Для модели линейной регрессии значение метрики RMSE = 6.53e-14. \n",
    "\n",
    "Для модели линейной регрессси с l1 и l2 регуляризацией (Elastic Net) с параметром alpha=0.001, RMSE = 0.0021. \n",
    "\n",
    "Для модели LightGBM лучшими параметрами оказались 'n_estimators': 100, 'max_depth': 3, 'learning_rate': 0.3. RMSE модели LightGBM = 8.4. \n",
    "\n",
    "Для модели ARIMA лучшие параметры такие:  b =0, p=1, q = 7. А значение RMSE = 32.89.\n",
    "\n",
    "При самом просто случае - предсказании константой (медианой, если быть точным) получили значение RMSE: 544.70. \n",
    "\n",
    "Таким образом, получаем, что значение метрики всех моделей по сравнению с константной моделью меньше, а значит предсказания адекватны.\n",
    "\n",
    "Также в данном проекте важно найти модель с качество RMSE не больше 48 часов. И наилучшее значение метрики у модели линейной регрессии."
   ]
  },
  {
   "cell_type": "markdown",
   "metadata": {},
   "source": [
    "## Тестирование"
   ]
  },
  {
   "cell_type": "code",
   "execution_count": 80,
   "metadata": {},
   "outputs": [
    {
     "name": "stdout",
     "output_type": "stream",
     "text": [
      "RMSE тестовой выборки:  7.977337351934745e-14\n"
     ]
    }
   ],
   "source": [
    "model.fit(train_feauters, train_target)\n",
    "prediction = model.predict(test_feauters)\n",
    "print(\"RMSE тестовой выборки: \", mean_squared_error(prediction, test_target)**0.5)"
   ]
  },
  {
   "cell_type": "code",
   "execution_count": 86,
   "metadata": {},
   "outputs": [],
   "source": [
    "\n",
    "prediction = pd.Series(prediction, index=test_target.index)"
   ]
  },
  {
   "cell_type": "code",
   "execution_count": 89,
   "metadata": {},
   "outputs": [
    {
     "data": {
      "image/png": "[encoded data removed]",
      "text/plain": [
       "<Figure size 1152x576 with 1 Axes>"
      ]
     },
     "metadata": {
      "needs_background": "light"
     },
     "output_type": "display_data"
    }
   ],
   "source": [
    "plt.figure(figsize=(16,8))\n",
    "plt.plot(test_target,  label='observed')\n",
    "plt.plot(prediction,  label='predicted')\n",
    "plt.legend()\n",
    "plt.show()"
   ]
  },
  {
   "cell_type": "markdown",
   "metadata": {},
   "source": [
    "Получаем очень точное сходство на тестовой выборке для модели линейной регрессии"
   ]
  },
  {
   "cell_type": "markdown",
   "metadata": {},
   "source": [
    "## Вывод\n",
    "\n",
    "В работе были проделаны следующие шаги: анализ данных, обучение моделей и выбор наилучшей модели, тестирование наилучшей модели на тестовой выборке.\n",
    "\n",
    "На этапе анализа данных были построены графики тренда, сезонности и шума, а также график для среднего и стандартного отклонения разностей временного ряда. Из анализа графиков можем сказать, что есть небольшой тренд на увеличение количества заказов с марта по сентябрь. Также можем заметить определенную периодичность количества заказов такси в течение суток. То есть есть пиковые часы загрузки утром, в обеденное время и ближе к 12 часам ночи. Также с помощью теста Дики-Фуллера определили, наш временной ряд стационарный в широком смысле, хотя и на графике тренда можем заметить увеличение продаж.\n",
    "\n",
    "На этапе обучения моделей было исследовано несколько моделей. Для модели линейной регрессии значение метрики RMSE = 6.53e-14. \n",
    "Для модели линейной регрессси с l1 и l2 регуляризацией (Elastic Net) с параметром alpha=0.001, RMSE = 0.0021. \n",
    "Для модели LightGBM лучшими параметрами оказались 'n_estimators': 100, 'max_depth': 3, 'learning_rate': 0.3. RMSE модели LightGBM = 8.4. Для модели ARIMA лучшие параметры такие:  b =0, p=1, q = 7. А значение RMSE = 32.89.\n",
    "При самом простом случае - предсказании константой (медианой, если быть точным) получили значение RMSE: 544.70. \n",
    "\n",
    "Таким образом, получаем, что значение метрики всех моделей по сравнению с константной моделью меньше, а значит предсказания адекватны. Также в данном проекте важно найти модель с качество RMSE не больше 48 часов. И наилучшее значение метрики у модели линейной регрессии.\n",
    "\n",
    "На этапе тестирования метрика качества RMSE для наилучшей модели (моделии инейной регрессии) равна 7.97e-14, и это является отличным результатом."
   ]
  },
  {
   "cell_type": "markdown",
   "metadata": {},
   "source": [
    "## Чек-лист проверки"
   ]
  },
  {
   "cell_type": "markdown",
   "metadata": {},
   "source": [
    "- [x]  Jupyter Notebook открыт\n",
    "- [ ]  Весь код выполняется без ошибок\n",
    "- [ ]  Ячейки с кодом расположены в порядке исполнения\n",
    "- [ ]  Данные загружены и подготовлены\n",
    "- [ ]  Данные проанализированы\n",
    "- [ ]  Модель обучена, гиперпараметры подобраны\n",
    "- [ ]  Качество моделей проверено, выводы сделаны\n",
    "- [ ]  Значение *RMSE* на тестовой выборке не больше 48"
   ]
  }
 ],
 "metadata": {
  "ExecuteTimeLog": [
   {
    "duration": 1404,
    "start_time": "2023-03-30T11:12:28.890Z"
   },
   {
    "duration": 126,
    "start_time": "2023-03-30T11:12:59.165Z"
   },
   {
    "duration": 10,
    "start_time": "2023-03-30T11:13:09.431Z"
   },
   {
    "duration": 12,
    "start_time": "2023-03-30T11:13:13.173Z"
   },
   {
    "duration": 49,
    "start_time": "2023-03-30T11:13:51.117Z"
   },
   {
    "duration": 10,
    "start_time": "2023-03-30T11:13:51.891Z"
   },
   {
    "duration": 4,
    "start_time": "2023-03-30T11:15:42.202Z"
   },
   {
    "duration": 11,
    "start_time": "2023-03-30T11:15:51.404Z"
   },
   {
    "duration": 13,
    "start_time": "2023-03-30T11:16:38.530Z"
   },
   {
    "duration": 362,
    "start_time": "2023-03-30T11:17:44.766Z"
   },
   {
    "duration": 9,
    "start_time": "2023-03-30T11:18:01.583Z"
   },
   {
    "duration": 361,
    "start_time": "2023-03-30T11:18:03.050Z"
   },
   {
    "duration": 424,
    "start_time": "2023-03-30T11:18:50.983Z"
   },
   {
    "duration": 172,
    "start_time": "2023-03-30T11:20:04.916Z"
   },
   {
    "duration": 4,
    "start_time": "2023-03-30T11:20:57.550Z"
   },
   {
    "duration": 17,
    "start_time": "2023-03-30T11:21:30.750Z"
   },
   {
    "duration": 8,
    "start_time": "2023-03-30T11:21:54.007Z"
   },
   {
    "duration": 966,
    "start_time": "2023-03-30T11:22:27.750Z"
   },
   {
    "duration": 234,
    "start_time": "2023-03-30T11:24:42.724Z"
   },
   {
    "duration": 343,
    "start_time": "2023-03-30T11:34:07.147Z"
   },
   {
    "duration": 284,
    "start_time": "2023-03-30T11:34:26.267Z"
   },
   {
    "duration": 298,
    "start_time": "2023-03-30T11:34:32.800Z"
   },
   {
    "duration": 336,
    "start_time": "2023-03-30T11:34:37.616Z"
   },
   {
    "duration": 290,
    "start_time": "2023-03-30T11:34:41.568Z"
   },
   {
    "duration": 247,
    "start_time": "2023-03-30T11:35:03.799Z"
   },
   {
    "duration": 437,
    "start_time": "2023-03-30T11:36:23.398Z"
   },
   {
    "duration": 6,
    "start_time": "2023-03-30T11:39:23.046Z"
   },
   {
    "duration": 28,
    "start_time": "2023-03-30T11:47:27.016Z"
   },
   {
    "duration": 34,
    "start_time": "2023-03-30T11:47:33.778Z"
   },
   {
    "duration": 8,
    "start_time": "2023-03-30T11:50:10.147Z"
   },
   {
    "duration": 41,
    "start_time": "2023-03-30T11:50:43.298Z"
   },
   {
    "duration": 6,
    "start_time": "2023-03-30T11:51:08.211Z"
   },
   {
    "duration": 8,
    "start_time": "2023-03-30T11:52:00.298Z"
   },
   {
    "duration": 65,
    "start_time": "2023-03-30T11:53:57.880Z"
   },
   {
    "duration": 5,
    "start_time": "2023-03-30T11:54:17.899Z"
   },
   {
    "duration": 15,
    "start_time": "2023-03-30T11:54:30.080Z"
   },
   {
    "duration": 4,
    "start_time": "2023-03-30T11:54:46.363Z"
   },
   {
    "duration": 1855,
    "start_time": "2023-03-30T11:54:51.013Z"
   },
   {
    "duration": 16,
    "start_time": "2023-03-30T11:55:02.595Z"
   },
   {
    "duration": 10,
    "start_time": "2023-03-30T11:55:15.519Z"
   },
   {
    "duration": 543,
    "start_time": "2023-03-30T12:07:31.274Z"
   },
   {
    "duration": 95,
    "start_time": "2023-03-30T12:08:04.713Z"
   },
   {
    "duration": 6,
    "start_time": "2023-03-30T12:08:05.194Z"
   },
   {
    "duration": 11,
    "start_time": "2023-03-30T12:08:05.482Z"
   },
   {
    "duration": 3,
    "start_time": "2023-03-30T12:08:05.689Z"
   },
   {
    "duration": 8,
    "start_time": "2023-03-30T12:08:05.905Z"
   },
   {
    "duration": 7,
    "start_time": "2023-03-30T12:08:06.331Z"
   },
   {
    "duration": 421,
    "start_time": "2023-03-30T12:08:06.815Z"
   },
   {
    "duration": 280,
    "start_time": "2023-03-30T12:08:21.879Z"
   },
   {
    "duration": 677,
    "start_time": "2023-03-30T12:08:24.016Z"
   },
   {
    "duration": 209,
    "start_time": "2023-03-30T12:08:24.695Z"
   },
   {
    "duration": 264,
    "start_time": "2023-03-30T12:08:24.919Z"
   },
   {
    "duration": 803,
    "start_time": "2023-03-30T12:09:27.664Z"
   },
   {
    "duration": 49,
    "start_time": "2023-03-30T12:09:46.431Z"
   },
   {
    "duration": 6,
    "start_time": "2023-03-30T12:09:47.330Z"
   },
   {
    "duration": 10,
    "start_time": "2023-03-30T12:09:48.322Z"
   },
   {
    "duration": 3,
    "start_time": "2023-03-30T12:09:49.281Z"
   },
   {
    "duration": 8,
    "start_time": "2023-03-30T12:09:50.782Z"
   },
   {
    "duration": 7,
    "start_time": "2023-03-30T12:09:54.383Z"
   },
   {
    "duration": 283,
    "start_time": "2023-03-30T12:09:56.494Z"
   },
   {
    "duration": 724,
    "start_time": "2023-03-30T12:10:01.754Z"
   },
   {
    "duration": 204,
    "start_time": "2023-03-30T12:10:10.766Z"
   },
   {
    "duration": 284,
    "start_time": "2023-03-30T12:10:53.781Z"
   },
   {
    "duration": 31,
    "start_time": "2023-03-30T12:11:00.499Z"
   },
   {
    "duration": 26,
    "start_time": "2023-03-30T12:11:04.397Z"
   },
   {
    "duration": 5,
    "start_time": "2023-03-30T12:11:09.332Z"
   },
   {
    "duration": 6,
    "start_time": "2023-03-30T12:11:10.414Z"
   },
   {
    "duration": 6,
    "start_time": "2023-03-30T12:11:14.245Z"
   },
   {
    "duration": 3,
    "start_time": "2023-03-30T12:13:34.207Z"
   },
   {
    "duration": 5,
    "start_time": "2023-03-30T12:14:14.296Z"
   },
   {
    "duration": 215,
    "start_time": "2023-03-30T12:16:19.833Z"
   },
   {
    "duration": 6,
    "start_time": "2023-03-30T12:16:50.949Z"
   },
   {
    "duration": 35,
    "start_time": "2023-03-30T12:18:57.141Z"
   },
   {
    "duration": 21,
    "start_time": "2023-03-30T12:19:16.890Z"
   },
   {
    "duration": 16,
    "start_time": "2023-03-30T12:19:33.115Z"
   },
   {
    "duration": 6,
    "start_time": "2023-03-30T12:19:52.064Z"
   },
   {
    "duration": 5,
    "start_time": "2023-03-30T12:19:57.232Z"
   },
   {
    "duration": 5,
    "start_time": "2023-03-30T12:19:58.142Z"
   },
   {
    "duration": 7,
    "start_time": "2023-03-30T12:20:00.335Z"
   },
   {
    "duration": 6,
    "start_time": "2023-03-30T12:20:02.315Z"
   },
   {
    "duration": 3271,
    "start_time": "2023-03-30T12:20:05.129Z"
   },
   {
    "duration": 4,
    "start_time": "2023-03-30T12:49:25.514Z"
   },
   {
    "duration": 6,
    "start_time": "2023-03-30T12:49:46.901Z"
   },
   {
    "duration": 5,
    "start_time": "2023-03-30T12:50:12.800Z"
   },
   {
    "duration": 6,
    "start_time": "2023-03-30T12:51:21.664Z"
   },
   {
    "duration": 48,
    "start_time": "2023-03-30T12:51:54.556Z"
   },
   {
    "duration": 6,
    "start_time": "2023-03-30T12:51:55.123Z"
   },
   {
    "duration": 10,
    "start_time": "2023-03-30T12:51:55.347Z"
   },
   {
    "duration": 3,
    "start_time": "2023-03-30T12:51:55.546Z"
   },
   {
    "duration": 10,
    "start_time": "2023-03-30T12:51:55.747Z"
   },
   {
    "duration": 7,
    "start_time": "2023-03-30T12:51:56.171Z"
   },
   {
    "duration": 287,
    "start_time": "2023-03-30T12:51:56.624Z"
   },
   {
    "duration": 852,
    "start_time": "2023-03-30T12:51:57.031Z"
   },
   {
    "duration": 207,
    "start_time": "2023-03-30T12:51:57.884Z"
   },
   {
    "duration": 279,
    "start_time": "2023-03-30T12:51:58.093Z"
   },
   {
    "duration": 31,
    "start_time": "2023-03-30T12:51:58.374Z"
   },
   {
    "duration": 5,
    "start_time": "2023-03-30T12:51:58.481Z"
   },
   {
    "duration": 6,
    "start_time": "2023-03-30T12:51:58.716Z"
   },
   {
    "duration": 5,
    "start_time": "2023-03-30T12:51:58.929Z"
   },
   {
    "duration": 7,
    "start_time": "2023-03-30T12:51:59.766Z"
   },
   {
    "duration": 8,
    "start_time": "2023-03-30T12:52:02.922Z"
   },
   {
    "duration": 4016,
    "start_time": "2023-03-30T12:52:04.785Z"
   },
   {
    "duration": 5,
    "start_time": "2023-03-30T12:52:11.171Z"
   },
   {
    "duration": 4,
    "start_time": "2023-03-30T12:52:12.211Z"
   },
   {
    "duration": 3503,
    "start_time": "2023-03-30T12:52:47.533Z"
   },
   {
    "duration": 4,
    "start_time": "2023-03-30T12:52:52.320Z"
   },
   {
    "duration": 6,
    "start_time": "2023-03-30T12:52:53.937Z"
   },
   {
    "duration": 7,
    "start_time": "2023-03-30T12:52:55.839Z"
   },
   {
    "duration": 138,
    "start_time": "2023-03-30T12:54:49.856Z"
   },
   {
    "duration": 132,
    "start_time": "2023-03-30T12:55:14.855Z"
   },
   {
    "duration": 4246,
    "start_time": "2023-03-30T13:00:22.188Z"
   },
   {
    "duration": 4,
    "start_time": "2023-03-30T13:00:38.890Z"
   },
   {
    "duration": 4,
    "start_time": "2023-03-30T13:00:40.218Z"
   },
   {
    "duration": 4232,
    "start_time": "2023-03-30T13:01:11.855Z"
   },
   {
    "duration": 4,
    "start_time": "2023-03-30T13:01:35.719Z"
   },
   {
    "duration": 82,
    "start_time": "2023-03-30T13:08:58.106Z"
   },
   {
    "duration": 4,
    "start_time": "2023-03-30T13:46:04.652Z"
   },
   {
    "duration": 4,
    "start_time": "2023-03-30T13:46:51.319Z"
   },
   {
    "duration": 3,
    "start_time": "2023-03-30T13:48:08.396Z"
   },
   {
    "duration": 172041,
    "start_time": "2023-03-30T13:51:31.570Z"
   },
   {
    "duration": 9073,
    "start_time": "2023-03-30T13:54:47.735Z"
   },
   {
    "duration": 52110,
    "start_time": "2023-03-30T13:55:01.180Z"
   },
   {
    "duration": 9,
    "start_time": "2023-03-30T13:57:47.550Z"
   },
   {
    "duration": 4,
    "start_time": "2023-03-30T13:57:56.656Z"
   },
   {
    "duration": 5,
    "start_time": "2023-03-30T13:58:30.251Z"
   },
   {
    "duration": 10,
    "start_time": "2023-03-30T14:01:56.099Z"
   },
   {
    "duration": 4,
    "start_time": "2023-03-30T14:02:10.905Z"
   },
   {
    "duration": 291,
    "start_time": "2023-03-30T14:02:17.504Z"
   },
   {
    "duration": 422,
    "start_time": "2023-03-30T14:02:36.873Z"
   },
   {
    "duration": 534,
    "start_time": "2023-03-30T14:03:02.255Z"
   },
   {
    "duration": 761,
    "start_time": "2023-03-30T14:03:07.239Z"
   },
   {
    "duration": 532,
    "start_time": "2023-03-30T14:04:02.556Z"
   },
   {
    "duration": 68,
    "start_time": "2023-03-30T14:08:45.803Z"
   },
   {
    "duration": 379769,
    "start_time": "2023-03-30T14:09:20.243Z"
   },
   {
    "duration": 6,
    "start_time": "2023-03-30T14:16:28.188Z"
   },
   {
    "duration": 5,
    "start_time": "2023-03-30T14:17:16.365Z"
   },
   {
    "duration": 4,
    "start_time": "2023-03-30T14:17:58.822Z"
   },
   {
    "duration": 16,
    "start_time": "2023-03-30T14:18:57.417Z"
   },
   {
    "duration": 108,
    "start_time": "2023-03-30T14:19:25.279Z"
   },
   {
    "duration": 6,
    "start_time": "2023-03-30T14:19:32.486Z"
   },
   {
    "duration": 1490,
    "start_time": "2023-03-31T12:06:37.615Z"
   },
   {
    "duration": 124,
    "start_time": "2023-03-31T12:06:39.107Z"
   },
   {
    "duration": 7,
    "start_time": "2023-03-31T12:06:40.087Z"
   },
   {
    "duration": 10,
    "start_time": "2023-03-31T12:06:40.515Z"
   },
   {
    "duration": 3,
    "start_time": "2023-03-31T12:06:43.681Z"
   },
   {
    "duration": 9,
    "start_time": "2023-03-31T12:06:45.396Z"
   },
   {
    "duration": 7,
    "start_time": "2023-03-31T12:06:50.351Z"
   },
   {
    "duration": 109,
    "start_time": "2023-03-31T12:07:03.751Z"
   },
   {
    "duration": 9,
    "start_time": "2023-03-31T12:07:12.109Z"
   },
   {
    "duration": 5,
    "start_time": "2023-03-31T12:07:16.032Z"
   },
   {
    "duration": 409,
    "start_time": "2023-03-31T12:07:25.691Z"
   },
   {
    "duration": 598,
    "start_time": "2023-03-31T12:08:52.451Z"
   },
   {
    "duration": 445,
    "start_time": "2023-03-31T12:09:05.789Z"
   },
   {
    "duration": 152,
    "start_time": "2023-03-31T12:09:10.262Z"
   },
   {
    "duration": 3,
    "start_time": "2023-03-31T12:17:15.640Z"
   },
   {
    "duration": 22,
    "start_time": "2023-03-31T12:17:36.552Z"
   },
   {
    "duration": 1645,
    "start_time": "2023-03-31T12:17:49.704Z"
   },
   {
    "duration": 249,
    "start_time": "2023-03-31T12:22:21.837Z"
   },
   {
    "duration": 147,
    "start_time": "2023-03-31T12:27:37.931Z"
   },
   {
    "duration": 125,
    "start_time": "2023-03-31T12:27:44.840Z"
   },
   {
    "duration": 200,
    "start_time": "2023-03-31T12:27:53.798Z"
   },
   {
    "duration": 33,
    "start_time": "2023-03-31T12:42:08.935Z"
   },
   {
    "duration": 4,
    "start_time": "2023-03-31T12:42:14.987Z"
   },
   {
    "duration": 5,
    "start_time": "2023-03-31T12:42:17.389Z"
   },
   {
    "duration": 5,
    "start_time": "2023-03-31T12:42:19.053Z"
   },
   {
    "duration": 110,
    "start_time": "2023-03-31T12:43:02.720Z"
   },
   {
    "duration": 4,
    "start_time": "2023-03-31T12:43:15.266Z"
   },
   {
    "duration": 5,
    "start_time": "2023-03-31T12:43:17.873Z"
   },
   {
    "duration": 5,
    "start_time": "2023-03-31T12:43:20.571Z"
   },
   {
    "duration": 4,
    "start_time": "2023-03-31T12:47:22.001Z"
   },
   {
    "duration": 317,
    "start_time": "2023-03-31T12:47:51.041Z"
   },
   {
    "duration": 16110,
    "start_time": "2023-03-31T12:48:11.140Z"
   },
   {
    "duration": 3,
    "start_time": "2023-03-31T12:48:37.065Z"
   },
   {
    "duration": 3,
    "start_time": "2023-03-31T12:48:38.230Z"
   },
   {
    "duration": 539719,
    "start_time": "2023-03-31T12:48:58.951Z"
   },
   {
    "duration": 12,
    "start_time": "2023-03-31T12:57:58.878Z"
   },
   {
    "duration": 963892,
    "start_time": "2023-03-31T12:58:26.286Z"
   },
   {
    "duration": 0,
    "start_time": "2023-03-31T13:14:30.182Z"
   },
   {
    "duration": 4,
    "start_time": "2023-03-31T13:14:34.640Z"
   },
   {
    "duration": 680,
    "start_time": "2023-03-31T13:14:41.732Z"
   },
   {
    "duration": 728,
    "start_time": "2023-03-31T13:17:22.992Z"
   },
   {
    "duration": 194,
    "start_time": "2023-03-31T13:23:12.508Z"
   },
   {
    "duration": 246,
    "start_time": "2023-03-31T13:23:23.910Z"
   },
   {
    "duration": 4,
    "start_time": "2023-03-31T13:23:40.450Z"
   },
   {
    "duration": 374,
    "start_time": "2023-03-31T13:23:52.239Z"
   },
   {
    "duration": 302,
    "start_time": "2023-03-31T13:24:23.622Z"
   },
   {
    "duration": 374,
    "start_time": "2023-03-31T13:24:36.323Z"
   },
   {
    "duration": 684,
    "start_time": "2023-03-31T13:24:45.556Z"
   },
   {
    "duration": 3,
    "start_time": "2023-03-31T13:26:03.173Z"
   },
   {
    "duration": 4,
    "start_time": "2023-03-31T13:26:17.007Z"
   },
   {
    "duration": 4,
    "start_time": "2023-03-31T13:27:15.058Z"
   },
   {
    "duration": 6,
    "start_time": "2023-03-31T13:27:25.821Z"
   },
   {
    "duration": 5,
    "start_time": "2023-03-31T13:27:40.903Z"
   },
   {
    "duration": 4,
    "start_time": "2023-03-31T13:27:51.908Z"
   },
   {
    "duration": 2,
    "start_time": "2023-03-31T13:28:12.471Z"
   },
   {
    "duration": 3,
    "start_time": "2023-03-31T13:28:29.182Z"
   },
   {
    "duration": 4,
    "start_time": "2023-03-31T13:28:48.941Z"
   },
   {
    "duration": 455,
    "start_time": "2023-03-31T13:28:57.774Z"
   },
   {
    "duration": 199,
    "start_time": "2023-03-31T13:29:06.390Z"
   },
   {
    "duration": 181,
    "start_time": "2023-03-31T13:29:08.717Z"
   },
   {
    "duration": 26,
    "start_time": "2023-03-31T13:33:59.005Z"
   },
   {
    "duration": 702,
    "start_time": "2023-03-31T13:39:08.783Z"
   },
   {
    "duration": 76570,
    "start_time": "2023-03-31T13:40:04.018Z"
   },
   {
    "duration": 72968,
    "start_time": "2023-03-31T13:41:30.506Z"
   },
   {
    "duration": 136531,
    "start_time": "2023-03-31T13:50:02.320Z"
   },
   {
    "duration": 20,
    "start_time": "2023-03-31T13:54:07.096Z"
   },
   {
    "duration": 17,
    "start_time": "2023-03-31T13:54:42.559Z"
   },
   {
    "duration": 2,
    "start_time": "2023-03-31T13:55:10.482Z"
   },
   {
    "duration": 12,
    "start_time": "2023-03-31T13:58:47.537Z"
   },
   {
    "duration": 323,
    "start_time": "2023-03-31T13:58:55.783Z"
   },
   {
    "duration": 1728,
    "start_time": "2023-03-31T13:59:46.285Z"
   },
   {
    "duration": 5,
    "start_time": "2023-03-31T13:59:58.914Z"
   },
   {
    "duration": 5,
    "start_time": "2023-03-31T14:00:09.184Z"
   },
   {
    "duration": 164985,
    "start_time": "2023-03-31T14:00:21.667Z"
   },
   {
    "duration": 5,
    "start_time": "2023-03-31T14:03:13.460Z"
   },
   {
    "duration": 3,
    "start_time": "2023-03-31T14:03:14.950Z"
   },
   {
    "duration": 3,
    "start_time": "2023-03-31T14:03:16.083Z"
   },
   {
    "duration": 3,
    "start_time": "2023-03-31T14:09:34.484Z"
   },
   {
    "duration": 12,
    "start_time": "2023-03-31T14:15:42.956Z"
   },
   {
    "duration": 153,
    "start_time": "2023-03-31T14:16:49.592Z"
   },
   {
    "duration": 63,
    "start_time": "2023-03-31T14:17:44.298Z"
   },
   {
    "duration": 151,
    "start_time": "2023-03-31T14:17:45.267Z"
   },
   {
    "duration": 7,
    "start_time": "2023-03-31T14:18:10.627Z"
   },
   {
    "duration": 29,
    "start_time": "2023-03-31T14:18:35.211Z"
   },
   {
    "duration": 5,
    "start_time": "2023-03-31T14:18:48.785Z"
   },
   {
    "duration": 8,
    "start_time": "2023-03-31T14:19:04.399Z"
   },
   {
    "duration": 3,
    "start_time": "2023-03-31T14:19:33.758Z"
   },
   {
    "duration": 220,
    "start_time": "2023-03-31T14:19:34.883Z"
   },
   {
    "duration": 223,
    "start_time": "2023-03-31T14:19:52.450Z"
   },
   {
    "duration": 199,
    "start_time": "2023-03-31T14:22:31.867Z"
   }
  ],
  "kernelspec": {
   "display_name": "Python 3 (ipykernel)",
   "language": "python",
   "name": "python3"
  },
  "language_info": {
   "codemirror_mode": {
    "name": "ipython",
    "version": 3
   },
   "file_extension": ".py",
   "mimetype": "text/x-python",
   "name": "python",
   "nbconvert_exporter": "python",
   "pygments_lexer": "ipython3",
   "version": "3.9.13"
  },
  "toc": {
   "base_numbering": 1,
   "nav_menu": {},
   "number_sections": true,
   "sideBar": true,
   "skip_h1_title": true,
   "title_cell": "Содержание",
   "title_sidebar": "Contents",
   "toc_cell": true,
   "toc_position": {
    "height": "calc(100% - 180px)",
    "left": "10px",
    "top": "150px",
    "width": "238px"
   },
   "toc_section_display": true,
   "toc_window_display": true
  }
 },
 "nbformat": 4,
 "nbformat_minor": 2
}
